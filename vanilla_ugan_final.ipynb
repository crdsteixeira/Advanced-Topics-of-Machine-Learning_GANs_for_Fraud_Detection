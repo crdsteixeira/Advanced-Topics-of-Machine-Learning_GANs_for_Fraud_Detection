{
  "cells": [
    {
      "cell_type": "markdown",
      "metadata": {
        "id": "Ehr9omwbNMoT"
      },
      "source": [
        "<Body>   \n",
        "<img src=\"data:image/png;base64,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\" width=\"200\" align=\"right\" >   \n",
        "<h1> <b>Advanced Topics on Machine Learning </b> </h1>\n",
        "<p><b>Cátia Teixeira</b> (200808037) | <b>Henrique Bastos</b> (202204383) | <b>Ian Karkles</b> (202200596) | <b>Vitor Pereira</b> (202210497)\n",
        "<p>Master in Data Science and Engineering</p>\n",
        "</Body>\n",
        "Faculdade de Engenharia da Universidade do Porto\n",
        "\n",
        "---"
      ]
    },
    {
      "cell_type": "markdown",
      "metadata": {
        "id": "i8oAekjgNMoX"
      },
      "source": [
        "# Data augmentation using Vanilla GAN"
      ]
    },
    {
      "cell_type": "code",
      "execution_count": 1,
      "metadata": {
        "id": "QsduErGdNMoX"
      },
      "outputs": [],
      "source": [
        "import pandas as pd\n",
        "import numpy as np\n",
        "import matplotlib.pyplot as plt\n",
        "import seaborn as sns\n",
        "import numpy as np\n",
        "from tqdm import tqdm\n",
        "\n",
        "import torch\n",
        "from torch import nn\n",
        "from torchsummary import summary\n",
        "import pandas as pd\n",
        "import numpy as np\n",
        "import math\n",
        "from sklearn.preprocessing import StandardScaler\n",
        "from sklearn.linear_model import LogisticRegression\n",
        "from sklearn.metrics import classification_report\n",
        "from torch.utils.data import SubsetRandomSampler, DataLoader, Dataset\n",
        "from sklearn.model_selection import train_test_split\n",
        "import torch.optim as optim\n",
        "from sklearn.metrics import ConfusionMatrixDisplay, classification_report\n",
        "import torch.autograd as autograd\n",
        "from torch.utils.data import Dataset, DataLoader, TensorDataset\n",
        "from sklearn.metrics import precision_recall_curve, auc\n",
        "from sklearn.metrics import PrecisionRecallDisplay, RocCurveDisplay, average_precision_score\n",
        "from imblearn.metrics import classification_report_imbalanced\n"
      ]
    },
    {
      "cell_type": "code",
      "source": [
        "from google.colab import drive\n",
        "drive.mount('/content/drive')"
      ],
      "metadata": {
        "colab": {
          "base_uri": "https://localhost:8080/"
        },
        "id": "_APDTHmlNWxJ",
        "outputId": "f2506cac-15c2-427f-e3ee-d0a1d89d3d44"
      },
      "execution_count": 2,
      "outputs": [
        {
          "output_type": "stream",
          "name": "stdout",
          "text": [
            "Mounted at /content/drive\n"
          ]
        }
      ]
    },
    {
      "cell_type": "markdown",
      "metadata": {
        "id": "8V9Ti8VoNMoY"
      },
      "source": [
        "## Data preprocessing"
      ]
    },
    {
      "cell_type": "code",
      "source": [
        "df = pd.read_csv('/content/drive/MyDrive/creditcard.csv')\n",
        "\n",
        "#split df into train and test\n",
        "df_train, df_test = train_test_split(df, test_size=0.2, random_state=42)"
      ],
      "metadata": {
        "id": "uUdTphWMNkU1"
      },
      "execution_count": 3,
      "outputs": []
    },
    {
      "cell_type": "code",
      "execution_count": 4,
      "metadata": {
        "colab": {
          "base_uri": "https://localhost:8080/"
        },
        "id": "ph9o2Cf5NMoZ",
        "outputId": "84636853-29dd-4095-9604-6e4aab2fd8ad"
      },
      "outputs": [
        {
          "output_type": "stream",
          "name": "stdout",
          "text": [
            "Train shape:  (227845, 31)\n",
            "Test shape:  (56962, 31)\n"
          ]
        }
      ],
      "source": [
        "#print the characteristics of the dataframes\n",
        "print('Train shape: ', df_train.shape)\n",
        "print('Test shape: ', df_test.shape)"
      ]
    },
    {
      "cell_type": "code",
      "execution_count": 5,
      "metadata": {
        "id": "JceqksjuNMoa"
      },
      "outputs": [],
      "source": [
        "class FraudDataset(Dataset):\n",
        "\n",
        "  def __init__(self, dataframe, fraud = True):\n",
        "    scaler = StandardScaler()\n",
        "    df = dataframe\n",
        "    if fraud:\n",
        "      df = df[df['Class'] == 1]\n",
        "\n",
        "    x = df.iloc[:, 0:-1].values\n",
        "    y = df.iloc[:, -1].values\n",
        "    self.x_data=torch.tensor(x,dtype=torch.float32)\n",
        "    self.y_data=torch.tensor(y,dtype=torch.float32)\n",
        "\n",
        "    self.features = x.shape[1]\n",
        "  def __len__(self):\n",
        "    return len(self.x_data)\n",
        "\n",
        "  def __getitem__(self,idx):\n",
        "    return self.x_data[idx], self.y_data[idx]\n",
        "\n",
        "creditData = FraudDataset(df_train, fraud= True)\n",
        "creditDataTest = FraudDataset(df_test, fraud= True)"
      ]
    },
    {
      "cell_type": "code",
      "execution_count": 6,
      "metadata": {
        "id": "SJTTtpQvNMoa"
      },
      "outputs": [],
      "source": [
        "train_dataloader = DataLoader(creditData, batch_size=32, drop_last=True)\n",
        "test_dataloader = DataLoader(creditDataTest, batch_size=32, drop_last=True)"
      ]
    },
    {
      "cell_type": "markdown",
      "metadata": {
        "id": "fI9MIbrwNMoa"
      },
      "source": [
        "## Conditional Generative Adversarial Network"
      ]
    },
    {
      "cell_type": "markdown",
      "metadata": {
        "id": "ucz3lOzUNMoa"
      },
      "source": [
        "### Architecture"
      ]
    },
    {
      "cell_type": "code",
      "execution_count": 7,
      "metadata": {
        "id": "s7ctWrc8NMob"
      },
      "outputs": [],
      "source": [
        "class Generator(nn.Module):\n",
        "    def __init__(self, latent_dim, nr_features):\n",
        "        super().__init__()\n",
        "        self.layers = nn.Sequential(\n",
        "        nn.Linear(latent_dim, 1024),\n",
        "        nn.ReLU(),\n",
        "        nn.Dropout(0.2),\n",
        "        nn.Linear(1024, 512),\n",
        "        nn.ReLU(),\n",
        "        nn.Dropout(0.2),\n",
        "        nn.Linear(512, 256),\n",
        "        nn.ReLU(),\n",
        "        nn.Dropout(0.2),\n",
        "        nn.Linear(256, 128),\n",
        "        nn.ReLU(),\n",
        "        nn.Dropout(0.2),\n",
        "        nn.Linear(128, 64),\n",
        "        nn.ReLU(),\n",
        "        nn.Dropout(0.2),\n",
        "        nn.Linear(64, 32),\n",
        "        nn.ReLU(),\n",
        "        nn.Dropout(0.2),\n",
        "        nn.Linear(32, 16),\n",
        "        nn.ReLU(),\n",
        "        nn.Dropout(0.2),\n",
        "        nn.Linear(16, nr_features),\n",
        "        )\n",
        "\n",
        "    def forward(self, x):\n",
        "        for layer in self.layers:\n",
        "            x = layer(x)\n",
        "\n",
        "        return x"
      ]
    },
    {
      "cell_type": "code",
      "execution_count": 8,
      "metadata": {
        "id": "9X1MEgjONMob"
      },
      "outputs": [],
      "source": [
        "class Discriminator(nn.Module):\n",
        "    def __init__(self, nr_features):\n",
        "        super().__init__()\n",
        "        self.layers = nn.Sequential(\n",
        "        nn.Linear(nr_features, 256),\n",
        "        nn.ReLU(),\n",
        "        nn.Dropout(0.2),\n",
        "\n",
        "        nn.Linear(256, 128),\n",
        "        nn.ReLU(),\n",
        "        nn.Dropout(0.2),\n",
        "\n",
        "        nn.Linear(128, 64),\n",
        "        nn.ReLU(),\n",
        "        nn.Dropout(0.2),\n",
        "\n",
        "        nn.Linear(64, 32),\n",
        "        nn.ReLU(),\n",
        "        nn.Dropout(0.2),\n",
        "\n",
        "        nn.Linear(32, 16),\n",
        "        nn.ReLU(),\n",
        "        nn.Dropout(0.2),\n",
        "\n",
        "        nn.Linear(16, 1),\n",
        "\n",
        "        )\n",
        "    def forward(self, x):\n",
        "        for layer in self.layers:\n",
        "            x = layer(x)\n",
        "\n",
        "        return torch.sigmoid(x)"
      ]
    },
    {
      "cell_type": "markdown",
      "metadata": {
        "id": "9_k6YYqUNMob"
      },
      "source": [
        "###  Training the model"
      ]
    },
    {
      "cell_type": "code",
      "execution_count": 9,
      "metadata": {
        "id": "mgP_9IHZNMoc"
      },
      "outputs": [],
      "source": [
        "class GAN:\n",
        "    def __init__(self, train_df, latent_size=128):\n",
        "        self.lr = 0.00005\n",
        "        self.batch_size = 16\n",
        "        self.n_critic = 1\n",
        "        self.clip_value = 0.0001\n",
        "        self.cur_batch_size = 64\n",
        "        self.latent_dim = 128\n",
        "        self.criterion = nn.BCELoss()\n",
        "        self.device = torch.device('cuda:0' if torch.cuda.is_available() else 'cpu')\n",
        "\n",
        "        self.dataset = FraudDataset(train_df, fraud= True)\n",
        "        self.dataloader = DataLoader(self.dataset, self.batch_size, shuffle=True)\n",
        "\n",
        "        self.G = Generator(latent_dim=latent_size, nr_features=self.dataset.features).to(self.device)\n",
        "        self.D = Discriminator(nr_features=self.dataset.features).to(self.device)\n",
        "        self.latent_size = latent_size\n",
        "\n",
        "        self.g_optimizer = torch.optim.Adam(self.G.parameters(), self.lr)\n",
        "        self.d_optimizer = torch.optim.Adam(self.D.parameters(), self.lr)\n",
        "\n",
        "\n",
        "\n",
        "\n",
        "\n",
        "    def train_generator(self,real_data):\n",
        "        # Clear generator gradients\n",
        "        self.g_optimizer.zero_grad()\n",
        "\n",
        "        fake_targets = torch.ones(real_data.size(0)).to(self.device)\n",
        "        fake_targets = fake_targets - 0.1\n",
        "\n",
        "        # Random noise from a uniform distribution\n",
        "        latent_space_samples = torch.randn(real_data.size(0), self.latent_dim).to(self.device)\n",
        "        generated_data = self.G(latent_space_samples)  # Fake data generated by the generator\n",
        "        fake_preds = self.D(generated_data).reshape(-1)\n",
        "\n",
        "        g_loss = self.criterion(fake_preds, fake_targets)\n",
        "        g_loss.backward()\n",
        "        self.g_optimizer.step()\n",
        "\n",
        "        return g_loss, generated_data\n",
        "\n",
        "    def train_discriminator(self, real_data, real_labels):\n",
        "        self.d_optimizer.zero_grad()\n",
        "        real_labels = torch.ones(real_data.size(0)).to(self.device) * 0.9\n",
        "\n",
        "        real_preds = self.D(real_data).reshape(-1)\n",
        "        d_loss_real = self.criterion(real_preds, real_labels)\n",
        "\n",
        "        fake_labels = torch.zeros(self.cur_batch_size).to(self.device) * 0.1\n",
        "\n",
        "        # random noise from uniform distribution\n",
        "        latent_space_samples = torch.randn(self.cur_batch_size, self.latent_dim).to(self.device)\n",
        "\n",
        "\n",
        "        generated_data = self.G(latent_space_samples).detach()\n",
        "        fake_preds = self.D(generated_data).reshape(-1)\n",
        "        d_loss_fake = self.criterion(fake_preds, fake_labels)\n",
        "\n",
        "\n",
        "        loss = d_loss_real + d_loss_fake\n",
        "\n",
        "        # Compute gradients\n",
        "        loss.backward()\n",
        "        # Adjust the parameters using backprop\n",
        "        self.d_optimizer.step()\n",
        "\n",
        "\n",
        "        return loss\n",
        "\n",
        "    def train(self,real_data, epochs=1000):\n",
        "        losses_gen = []\n",
        "        losses_dis = []\n",
        "        for epoch in range(0,epochs):\n",
        "            for i, (real_data, real_labels)  in enumerate(self.dataloader):\n",
        "                real_data, real_labels = real_data.to(self.device), real_labels.to(self.device)\n",
        "                # Train discriminator\n",
        "                d_error = self.train_discriminator(real_data, real_labels)\n",
        "                # Train generator every n_critic iterations\n",
        "                if i % self.n_critic == 0:\n",
        "                    g_error, _ = self.train_generator(real_data)\n",
        "                losses_gen.append(g_error)\n",
        "                losses_dis.append(d_error)\n",
        "\n",
        "            print('Epoch [{}/{}], Step [{}/{}], d_loss: {:.4f}, g_loss: {:.4f} \\n'\n",
        "                .format(epoch+1, epochs, i+1, len(self.dataloader), d_error.item(), g_error.item()))\n",
        "\n",
        "        return losses_gen, losses_dis\n",
        "\n",
        "\n",
        "\n",
        "    def sample(self, count):\n",
        "        with torch.no_grad():\n",
        "            z = torch.Tensor(np.random.normal(0, 1, (count, self.latent_size))).to(self.device)\n",
        "            gen = self.G(z)\n",
        "            return gen.cpu().numpy()"
      ]
    },
    {
      "cell_type": "code",
      "execution_count": 10,
      "metadata": {
        "id": "hIC8bCoFNMoc"
      },
      "outputs": [],
      "source": [
        "gan = GAN(df_train)"
      ]
    },
    {
      "cell_type": "code",
      "execution_count": 11,
      "metadata": {
        "colab": {
          "base_uri": "https://localhost:8080/"
        },
        "id": "EXkfNgcJNMoc",
        "outputId": "cbf5b325-e924-49fa-f050-e918d4cb728d"
      },
      "outputs": [
        {
          "output_type": "stream",
          "name": "stdout",
          "text": [
            "Epoch [1/1000], Step [25/25], d_loss: 17.8633, g_loss: 0.6279 \n",
            "\n",
            "Epoch [2/1000], Step [25/25], d_loss: 39.5901, g_loss: 0.6372 \n",
            "\n",
            "Epoch [3/1000], Step [25/25], d_loss: 9.9183, g_loss: 0.6362 \n",
            "\n",
            "Epoch [4/1000], Step [25/25], d_loss: 18.7642, g_loss: 0.6381 \n",
            "\n",
            "Epoch [5/1000], Step [25/25], d_loss: 10.8336, g_loss: 0.6500 \n",
            "\n",
            "Epoch [6/1000], Step [25/25], d_loss: 13.6945, g_loss: 0.6496 \n",
            "\n",
            "Epoch [7/1000], Step [25/25], d_loss: 15.1076, g_loss: 0.6486 \n",
            "\n",
            "Epoch [8/1000], Step [25/25], d_loss: 19.3026, g_loss: 0.6464 \n",
            "\n",
            "Epoch [9/1000], Step [25/25], d_loss: 18.7517, g_loss: 0.6440 \n",
            "\n",
            "Epoch [10/1000], Step [25/25], d_loss: 10.7446, g_loss: 0.6539 \n",
            "\n",
            "Epoch [11/1000], Step [25/25], d_loss: 10.7403, g_loss: 0.6612 \n",
            "\n",
            "Epoch [12/1000], Step [25/25], d_loss: 9.9014, g_loss: 0.6521 \n",
            "\n",
            "Epoch [13/1000], Step [25/25], d_loss: 10.7389, g_loss: 0.6500 \n",
            "\n",
            "Epoch [14/1000], Step [25/25], d_loss: 10.7385, g_loss: 0.6627 \n",
            "\n",
            "Epoch [15/1000], Step [25/25], d_loss: 10.7381, g_loss: 0.6617 \n",
            "\n",
            "Epoch [16/1000], Step [25/25], d_loss: 10.7329, g_loss: 0.6546 \n",
            "\n",
            "Epoch [17/1000], Step [25/25], d_loss: 9.0278, g_loss: 0.6657 \n",
            "\n",
            "Epoch [18/1000], Step [25/25], d_loss: 10.7278, g_loss: 0.6591 \n",
            "\n",
            "Epoch [19/1000], Step [25/25], d_loss: 10.3473, g_loss: 0.6650 \n",
            "\n",
            "Epoch [20/1000], Step [25/25], d_loss: 10.7234, g_loss: 0.6693 \n",
            "\n",
            "Epoch [21/1000], Step [25/25], d_loss: 10.7237, g_loss: 0.6671 \n",
            "\n",
            "Epoch [22/1000], Step [25/25], d_loss: 10.7201, g_loss: 0.6815 \n",
            "\n",
            "Epoch [23/1000], Step [25/25], d_loss: 10.7216, g_loss: 0.6711 \n",
            "\n",
            "Epoch [24/1000], Step [25/25], d_loss: 9.7489, g_loss: 0.6777 \n",
            "\n",
            "Epoch [25/1000], Step [25/25], d_loss: 10.7093, g_loss: 0.6777 \n",
            "\n",
            "Epoch [26/1000], Step [25/25], d_loss: 10.7132, g_loss: 0.6873 \n",
            "\n",
            "Epoch [27/1000], Step [25/25], d_loss: 10.8305, g_loss: 0.6749 \n",
            "\n",
            "Epoch [28/1000], Step [25/25], d_loss: 10.7053, g_loss: 0.6815 \n",
            "\n",
            "Epoch [29/1000], Step [25/25], d_loss: 9.8602, g_loss: 0.6836 \n",
            "\n",
            "Epoch [30/1000], Step [25/25], d_loss: 9.7924, g_loss: 0.6877 \n",
            "\n",
            "Epoch [31/1000], Step [25/25], d_loss: 10.6934, g_loss: 0.6854 \n",
            "\n",
            "Epoch [32/1000], Step [25/25], d_loss: 10.6901, g_loss: 0.6841 \n",
            "\n",
            "Epoch [33/1000], Step [25/25], d_loss: 10.6855, g_loss: 0.6887 \n",
            "\n",
            "Epoch [34/1000], Step [25/25], d_loss: 10.6890, g_loss: 0.7025 \n",
            "\n",
            "Epoch [35/1000], Step [25/25], d_loss: 10.6784, g_loss: 0.7006 \n",
            "\n",
            "Epoch [36/1000], Step [25/25], d_loss: 10.6678, g_loss: 0.7223 \n",
            "\n",
            "Epoch [37/1000], Step [25/25], d_loss: 10.6735, g_loss: 0.7111 \n",
            "\n",
            "Epoch [38/1000], Step [25/25], d_loss: 10.6642, g_loss: 0.7163 \n",
            "\n",
            "Epoch [39/1000], Step [25/25], d_loss: 9.7022, g_loss: 0.7241 \n",
            "\n",
            "Epoch [40/1000], Step [25/25], d_loss: 10.6636, g_loss: 0.7133 \n",
            "\n",
            "Epoch [41/1000], Step [25/25], d_loss: 10.5764, g_loss: 0.7142 \n",
            "\n",
            "Epoch [42/1000], Step [25/25], d_loss: 10.6409, g_loss: 0.7179 \n",
            "\n",
            "Epoch [43/1000], Step [25/25], d_loss: 9.6853, g_loss: 0.7399 \n",
            "\n",
            "Epoch [44/1000], Step [25/25], d_loss: 10.6359, g_loss: 0.7442 \n",
            "\n",
            "Epoch [45/1000], Step [25/25], d_loss: 10.6304, g_loss: 0.7661 \n",
            "\n",
            "Epoch [46/1000], Step [25/25], d_loss: 10.6154, g_loss: 0.7652 \n",
            "\n",
            "Epoch [47/1000], Step [25/25], d_loss: 10.3459, g_loss: 0.7809 \n",
            "\n",
            "Epoch [48/1000], Step [25/25], d_loss: 8.7927, g_loss: 0.7751 \n",
            "\n",
            "Epoch [49/1000], Step [25/25], d_loss: 9.6981, g_loss: 0.8141 \n",
            "\n",
            "Epoch [50/1000], Step [25/25], d_loss: 10.5798, g_loss: 0.8152 \n",
            "\n",
            "Epoch [51/1000], Step [25/25], d_loss: 10.5746, g_loss: 0.7874 \n",
            "\n",
            "Epoch [52/1000], Step [25/25], d_loss: 10.5707, g_loss: 0.8571 \n",
            "\n",
            "Epoch [53/1000], Step [25/25], d_loss: 10.5583, g_loss: 0.8587 \n",
            "\n",
            "Epoch [54/1000], Step [25/25], d_loss: 10.5366, g_loss: 0.8356 \n",
            "\n",
            "Epoch [55/1000], Step [25/25], d_loss: 10.5162, g_loss: 0.8294 \n",
            "\n",
            "Epoch [56/1000], Step [25/25], d_loss: 10.4980, g_loss: 0.8806 \n",
            "\n",
            "Epoch [57/1000], Step [25/25], d_loss: 9.6655, g_loss: 1.0119 \n",
            "\n",
            "Epoch [58/1000], Step [25/25], d_loss: 9.5074, g_loss: 0.9830 \n",
            "\n",
            "Epoch [59/1000], Step [25/25], d_loss: 10.4562, g_loss: 0.9254 \n",
            "\n",
            "Epoch [60/1000], Step [25/25], d_loss: 10.4392, g_loss: 0.9954 \n",
            "\n",
            "Epoch [61/1000], Step [25/25], d_loss: 10.4415, g_loss: 1.0270 \n",
            "\n",
            "Epoch [62/1000], Step [25/25], d_loss: 10.4260, g_loss: 1.1840 \n",
            "\n",
            "Epoch [63/1000], Step [25/25], d_loss: 10.3554, g_loss: 1.1224 \n",
            "\n",
            "Epoch [64/1000], Step [25/25], d_loss: 9.4138, g_loss: 1.1744 \n",
            "\n",
            "Epoch [65/1000], Step [25/25], d_loss: 9.4292, g_loss: 1.2174 \n",
            "\n",
            "Epoch [66/1000], Step [25/25], d_loss: 10.2959, g_loss: 1.3784 \n",
            "\n",
            "Epoch [67/1000], Step [25/25], d_loss: 10.3087, g_loss: 1.2756 \n",
            "\n",
            "Epoch [68/1000], Step [25/25], d_loss: 10.3189, g_loss: 1.3256 \n",
            "\n",
            "Epoch [69/1000], Step [25/25], d_loss: 10.2937, g_loss: 1.4328 \n",
            "\n",
            "Epoch [70/1000], Step [25/25], d_loss: 9.3446, g_loss: 1.4303 \n",
            "\n",
            "Epoch [71/1000], Step [25/25], d_loss: 10.2540, g_loss: 1.5550 \n",
            "\n",
            "Epoch [72/1000], Step [25/25], d_loss: 9.2764, g_loss: 1.5224 \n",
            "\n",
            "Epoch [73/1000], Step [25/25], d_loss: 10.2254, g_loss: 1.9255 \n",
            "\n",
            "Epoch [74/1000], Step [25/25], d_loss: 10.2183, g_loss: 1.7051 \n",
            "\n",
            "Epoch [75/1000], Step [25/25], d_loss: 10.1907, g_loss: 1.7169 \n",
            "\n",
            "Epoch [76/1000], Step [25/25], d_loss: 10.1973, g_loss: 1.9659 \n",
            "\n",
            "Epoch [77/1000], Step [25/25], d_loss: 9.1900, g_loss: 1.7952 \n",
            "\n",
            "Epoch [78/1000], Step [25/25], d_loss: 10.1619, g_loss: 2.1796 \n",
            "\n",
            "Epoch [79/1000], Step [25/25], d_loss: 9.2021, g_loss: 2.1581 \n",
            "\n",
            "Epoch [80/1000], Step [25/25], d_loss: 10.1707, g_loss: 2.0173 \n",
            "\n",
            "Epoch [81/1000], Step [25/25], d_loss: 9.1986, g_loss: 2.2086 \n",
            "\n",
            "Epoch [82/1000], Step [25/25], d_loss: 10.1313, g_loss: 2.2796 \n",
            "\n",
            "Epoch [83/1000], Step [25/25], d_loss: 10.1235, g_loss: 2.1701 \n",
            "\n",
            "Epoch [84/1000], Step [25/25], d_loss: 10.1525, g_loss: 2.6625 \n",
            "\n",
            "Epoch [85/1000], Step [25/25], d_loss: 10.0906, g_loss: 2.5540 \n",
            "\n",
            "Epoch [86/1000], Step [25/25], d_loss: 10.1188, g_loss: 2.4422 \n",
            "\n",
            "Epoch [87/1000], Step [25/25], d_loss: 10.1479, g_loss: 2.9336 \n",
            "\n",
            "Epoch [88/1000], Step [25/25], d_loss: 10.1462, g_loss: 1.8695 \n",
            "\n",
            "Epoch [89/1000], Step [25/25], d_loss: 10.1371, g_loss: 2.3016 \n",
            "\n",
            "Epoch [90/1000], Step [25/25], d_loss: 10.1023, g_loss: 2.4933 \n",
            "\n",
            "Epoch [91/1000], Step [25/25], d_loss: 9.2144, g_loss: 3.1692 \n",
            "\n",
            "Epoch [92/1000], Step [25/25], d_loss: 10.1425, g_loss: 2.6523 \n",
            "\n",
            "Epoch [93/1000], Step [25/25], d_loss: 10.1260, g_loss: 3.0054 \n",
            "\n",
            "Epoch [94/1000], Step [25/25], d_loss: 10.0847, g_loss: 2.8644 \n",
            "\n",
            "Epoch [95/1000], Step [25/25], d_loss: 10.0791, g_loss: 2.6455 \n",
            "\n",
            "Epoch [96/1000], Step [25/25], d_loss: 10.0752, g_loss: 2.8038 \n",
            "\n",
            "Epoch [97/1000], Step [25/25], d_loss: 10.0799, g_loss: 3.1109 \n",
            "\n",
            "Epoch [98/1000], Step [25/25], d_loss: 10.0771, g_loss: 3.0414 \n",
            "\n",
            "Epoch [99/1000], Step [25/25], d_loss: 10.0735, g_loss: 3.0523 \n",
            "\n",
            "Epoch [100/1000], Step [25/25], d_loss: 11.9962, g_loss: 2.9199 \n",
            "\n",
            "Epoch [101/1000], Step [25/25], d_loss: 10.0944, g_loss: 3.2367 \n",
            "\n",
            "Epoch [102/1000], Step [25/25], d_loss: 10.0742, g_loss: 3.0949 \n",
            "\n",
            "Epoch [103/1000], Step [25/25], d_loss: 10.0843, g_loss: 4.5051 \n",
            "\n",
            "Epoch [104/1000], Step [25/25], d_loss: 10.0618, g_loss: 2.9528 \n",
            "\n",
            "Epoch [105/1000], Step [25/25], d_loss: 10.1030, g_loss: 3.3938 \n",
            "\n",
            "Epoch [106/1000], Step [25/25], d_loss: 10.0592, g_loss: 2.9703 \n",
            "\n",
            "Epoch [107/1000], Step [25/25], d_loss: 9.1631, g_loss: 3.9315 \n",
            "\n",
            "Epoch [108/1000], Step [25/25], d_loss: 10.0881, g_loss: 3.1963 \n",
            "\n",
            "Epoch [109/1000], Step [25/25], d_loss: 10.0585, g_loss: 4.0839 \n",
            "\n",
            "Epoch [110/1000], Step [25/25], d_loss: 10.0830, g_loss: 3.5374 \n",
            "\n",
            "Epoch [111/1000], Step [25/25], d_loss: 9.0953, g_loss: 3.4847 \n",
            "\n",
            "Epoch [112/1000], Step [25/25], d_loss: 10.0895, g_loss: 3.5668 \n",
            "\n",
            "Epoch [113/1000], Step [25/25], d_loss: 9.1383, g_loss: 4.4701 \n",
            "\n",
            "Epoch [114/1000], Step [25/25], d_loss: 10.0690, g_loss: 4.1616 \n",
            "\n",
            "Epoch [115/1000], Step [25/25], d_loss: 10.0600, g_loss: 4.1329 \n",
            "\n",
            "Epoch [116/1000], Step [25/25], d_loss: 10.0613, g_loss: 3.9651 \n",
            "\n",
            "Epoch [117/1000], Step [25/25], d_loss: 10.0678, g_loss: 2.9403 \n",
            "\n",
            "Epoch [118/1000], Step [25/25], d_loss: 10.0545, g_loss: 3.6767 \n",
            "\n",
            "Epoch [119/1000], Step [25/25], d_loss: 10.0531, g_loss: 3.6454 \n",
            "\n",
            "Epoch [120/1000], Step [25/25], d_loss: 9.3614, g_loss: 3.7956 \n",
            "\n",
            "Epoch [121/1000], Step [25/25], d_loss: 10.0566, g_loss: 3.0739 \n",
            "\n",
            "Epoch [122/1000], Step [25/25], d_loss: 10.0402, g_loss: 3.1751 \n",
            "\n",
            "Epoch [123/1000], Step [25/25], d_loss: 10.0386, g_loss: 4.0838 \n",
            "\n",
            "Epoch [124/1000], Step [25/25], d_loss: 10.0397, g_loss: 3.3279 \n",
            "\n",
            "Epoch [125/1000], Step [25/25], d_loss: 10.0308, g_loss: 4.4768 \n",
            "\n",
            "Epoch [126/1000], Step [25/25], d_loss: 10.0488, g_loss: 3.6531 \n",
            "\n",
            "Epoch [127/1000], Step [25/25], d_loss: 9.0905, g_loss: 4.0395 \n",
            "\n",
            "Epoch [128/1000], Step [25/25], d_loss: 10.0471, g_loss: 4.4191 \n",
            "\n",
            "Epoch [129/1000], Step [25/25], d_loss: 10.0444, g_loss: 5.1440 \n",
            "\n",
            "Epoch [130/1000], Step [25/25], d_loss: 10.0380, g_loss: 5.2837 \n",
            "\n",
            "Epoch [131/1000], Step [25/25], d_loss: 10.0434, g_loss: 4.0183 \n",
            "\n",
            "Epoch [132/1000], Step [25/25], d_loss: 10.0340, g_loss: 3.7690 \n",
            "\n",
            "Epoch [133/1000], Step [25/25], d_loss: 10.0366, g_loss: 4.4760 \n",
            "\n",
            "Epoch [134/1000], Step [25/25], d_loss: 10.0642, g_loss: 3.4099 \n",
            "\n",
            "Epoch [135/1000], Step [25/25], d_loss: 10.0240, g_loss: 5.7282 \n",
            "\n",
            "Epoch [136/1000], Step [25/25], d_loss: 9.0640, g_loss: 4.6444 \n",
            "\n",
            "Epoch [137/1000], Step [25/25], d_loss: 10.0305, g_loss: 4.9481 \n",
            "\n",
            "Epoch [138/1000], Step [25/25], d_loss: 10.0510, g_loss: 4.5909 \n",
            "\n",
            "Epoch [139/1000], Step [25/25], d_loss: 10.0274, g_loss: 5.6005 \n",
            "\n",
            "Epoch [140/1000], Step [25/25], d_loss: 9.0930, g_loss: 5.2439 \n",
            "\n",
            "Epoch [141/1000], Step [25/25], d_loss: 9.0650, g_loss: 5.6490 \n",
            "\n",
            "Epoch [142/1000], Step [25/25], d_loss: 10.0348, g_loss: 5.9979 \n",
            "\n",
            "Epoch [143/1000], Step [25/25], d_loss: 10.0214, g_loss: 4.6463 \n",
            "\n",
            "Epoch [144/1000], Step [25/25], d_loss: 10.0300, g_loss: 4.9678 \n",
            "\n",
            "Epoch [145/1000], Step [25/25], d_loss: 9.4541, g_loss: 6.7321 \n",
            "\n",
            "Epoch [146/1000], Step [25/25], d_loss: 10.0391, g_loss: 4.4529 \n",
            "\n",
            "Epoch [147/1000], Step [25/25], d_loss: 10.0371, g_loss: 5.9319 \n",
            "\n",
            "Epoch [148/1000], Step [25/25], d_loss: 10.0333, g_loss: 4.6106 \n",
            "\n",
            "Epoch [149/1000], Step [25/25], d_loss: 10.0259, g_loss: 5.5845 \n",
            "\n",
            "Epoch [150/1000], Step [25/25], d_loss: 10.0348, g_loss: 5.5633 \n",
            "\n",
            "Epoch [151/1000], Step [25/25], d_loss: 10.0371, g_loss: 4.7154 \n",
            "\n",
            "Epoch [152/1000], Step [25/25], d_loss: 10.0926, g_loss: 5.4642 \n",
            "\n",
            "Epoch [153/1000], Step [25/25], d_loss: 10.0757, g_loss: 5.6301 \n",
            "\n",
            "Epoch [154/1000], Step [25/25], d_loss: 9.0894, g_loss: 5.7456 \n",
            "\n",
            "Epoch [155/1000], Step [25/25], d_loss: 10.0401, g_loss: 7.2441 \n",
            "\n",
            "Epoch [156/1000], Step [25/25], d_loss: 10.0413, g_loss: 5.7751 \n",
            "\n",
            "Epoch [157/1000], Step [25/25], d_loss: 10.0681, g_loss: 4.7970 \n",
            "\n",
            "Epoch [158/1000], Step [25/25], d_loss: 9.1517, g_loss: 5.5339 \n",
            "\n",
            "Epoch [159/1000], Step [25/25], d_loss: 10.0580, g_loss: 5.7904 \n",
            "\n",
            "Epoch [160/1000], Step [25/25], d_loss: 10.0446, g_loss: 6.3118 \n",
            "\n",
            "Epoch [161/1000], Step [25/25], d_loss: 10.0280, g_loss: 4.9186 \n",
            "\n",
            "Epoch [162/1000], Step [25/25], d_loss: 10.0644, g_loss: 6.1662 \n",
            "\n",
            "Epoch [163/1000], Step [25/25], d_loss: 10.0239, g_loss: 5.2769 \n",
            "\n",
            "Epoch [164/1000], Step [25/25], d_loss: 10.0626, g_loss: 6.4387 \n",
            "\n",
            "Epoch [165/1000], Step [25/25], d_loss: 10.0538, g_loss: 4.1716 \n",
            "\n",
            "Epoch [166/1000], Step [25/25], d_loss: 10.1102, g_loss: 5.3093 \n",
            "\n",
            "Epoch [167/1000], Step [25/25], d_loss: 9.2802, g_loss: 5.0316 \n",
            "\n",
            "Epoch [168/1000], Step [25/25], d_loss: 10.1282, g_loss: 6.2569 \n",
            "\n",
            "Epoch [169/1000], Step [25/25], d_loss: 10.0943, g_loss: 5.4721 \n",
            "\n",
            "Epoch [170/1000], Step [25/25], d_loss: 10.0873, g_loss: 8.3292 \n",
            "\n",
            "Epoch [171/1000], Step [25/25], d_loss: 16.8510, g_loss: 6.0523 \n",
            "\n",
            "Epoch [172/1000], Step [25/25], d_loss: 10.0442, g_loss: 5.5851 \n",
            "\n",
            "Epoch [173/1000], Step [25/25], d_loss: 10.0890, g_loss: 5.6326 \n",
            "\n",
            "Epoch [174/1000], Step [25/25], d_loss: 10.0776, g_loss: 7.2398 \n",
            "\n",
            "Epoch [175/1000], Step [25/25], d_loss: 10.4743, g_loss: 4.6927 \n",
            "\n",
            "Epoch [176/1000], Step [25/25], d_loss: 10.6452, g_loss: 4.7564 \n",
            "\n",
            "Epoch [177/1000], Step [25/25], d_loss: 10.3790, g_loss: 7.4582 \n",
            "\n",
            "Epoch [178/1000], Step [25/25], d_loss: 10.2823, g_loss: 6.8239 \n",
            "\n",
            "Epoch [179/1000], Step [25/25], d_loss: 10.1010, g_loss: 7.3462 \n",
            "\n",
            "Epoch [180/1000], Step [25/25], d_loss: 10.3720, g_loss: 4.8413 \n",
            "\n",
            "Epoch [181/1000], Step [25/25], d_loss: 10.4338, g_loss: 1.8422 \n",
            "\n",
            "Epoch [182/1000], Step [25/25], d_loss: 19.3418, g_loss: 4.7119 \n",
            "\n",
            "Epoch [183/1000], Step [25/25], d_loss: 10.2681, g_loss: 3.4436 \n",
            "\n",
            "Epoch [184/1000], Step [25/25], d_loss: 10.4673, g_loss: 7.8724 \n",
            "\n",
            "Epoch [185/1000], Step [25/25], d_loss: 10.4651, g_loss: 4.7915 \n",
            "\n",
            "Epoch [186/1000], Step [25/25], d_loss: 18.4339, g_loss: 6.5946 \n",
            "\n",
            "Epoch [187/1000], Step [25/25], d_loss: 10.2260, g_loss: 3.7115 \n",
            "\n",
            "Epoch [188/1000], Step [25/25], d_loss: 10.6416, g_loss: 2.3526 \n",
            "\n",
            "Epoch [189/1000], Step [25/25], d_loss: 10.9547, g_loss: 6.4155 \n",
            "\n",
            "Epoch [190/1000], Step [25/25], d_loss: 11.2031, g_loss: 3.0009 \n",
            "\n",
            "Epoch [191/1000], Step [25/25], d_loss: 11.2817, g_loss: 1.0423 \n",
            "\n",
            "Epoch [192/1000], Step [25/25], d_loss: 11.0914, g_loss: 3.5796 \n",
            "\n",
            "Epoch [193/1000], Step [25/25], d_loss: 10.5827, g_loss: 5.7892 \n",
            "\n",
            "Epoch [194/1000], Step [25/25], d_loss: 11.0082, g_loss: 2.5538 \n",
            "\n",
            "Epoch [195/1000], Step [25/25], d_loss: 11.3872, g_loss: 1.9350 \n",
            "\n",
            "Epoch [196/1000], Step [25/25], d_loss: 10.9197, g_loss: 2.2189 \n",
            "\n",
            "Epoch [197/1000], Step [25/25], d_loss: 11.4075, g_loss: 1.6268 \n",
            "\n",
            "Epoch [198/1000], Step [25/25], d_loss: 9.9999, g_loss: 0.8331 \n",
            "\n",
            "Epoch [199/1000], Step [25/25], d_loss: 11.0414, g_loss: 3.5924 \n",
            "\n",
            "Epoch [200/1000], Step [25/25], d_loss: 11.5057, g_loss: 0.8136 \n",
            "\n",
            "Epoch [201/1000], Step [25/25], d_loss: 11.6987, g_loss: 0.5925 \n",
            "\n",
            "Epoch [202/1000], Step [25/25], d_loss: 10.4704, g_loss: 1.3222 \n",
            "\n",
            "Epoch [203/1000], Step [25/25], d_loss: 11.1712, g_loss: 0.5008 \n",
            "\n",
            "Epoch [204/1000], Step [25/25], d_loss: 11.4051, g_loss: 0.5434 \n",
            "\n",
            "Epoch [205/1000], Step [25/25], d_loss: 11.4260, g_loss: 3.0074 \n",
            "\n",
            "Epoch [206/1000], Step [25/25], d_loss: 11.3442, g_loss: 1.6594 \n",
            "\n",
            "Epoch [207/1000], Step [25/25], d_loss: 10.2824, g_loss: 1.6841 \n",
            "\n",
            "Epoch [208/1000], Step [25/25], d_loss: 10.9765, g_loss: 4.7722 \n",
            "\n",
            "Epoch [209/1000], Step [25/25], d_loss: 11.4486, g_loss: 1.8440 \n",
            "\n",
            "Epoch [210/1000], Step [25/25], d_loss: 9.4567, g_loss: 0.6629 \n",
            "\n",
            "Epoch [211/1000], Step [25/25], d_loss: 10.1585, g_loss: 0.4579 \n",
            "\n",
            "Epoch [212/1000], Step [25/25], d_loss: 10.3233, g_loss: 1.9904 \n",
            "\n",
            "Epoch [213/1000], Step [25/25], d_loss: 7.5448, g_loss: 0.6278 \n",
            "\n",
            "Epoch [214/1000], Step [25/25], d_loss: 10.0424, g_loss: 2.1870 \n",
            "\n",
            "Epoch [215/1000], Step [25/25], d_loss: 7.9947, g_loss: 2.0063 \n",
            "\n",
            "Epoch [216/1000], Step [25/25], d_loss: 10.1835, g_loss: 0.4683 \n",
            "\n",
            "Epoch [217/1000], Step [25/25], d_loss: 11.3489, g_loss: 0.4820 \n",
            "\n",
            "Epoch [218/1000], Step [25/25], d_loss: 10.2305, g_loss: 0.4975 \n",
            "\n",
            "Epoch [219/1000], Step [25/25], d_loss: 10.1797, g_loss: 0.4764 \n",
            "\n",
            "Epoch [220/1000], Step [25/25], d_loss: 6.5415, g_loss: 1.8681 \n",
            "\n",
            "Epoch [221/1000], Step [25/25], d_loss: 8.2221, g_loss: 0.6006 \n",
            "\n",
            "Epoch [222/1000], Step [25/25], d_loss: 10.1260, g_loss: 0.5164 \n",
            "\n",
            "Epoch [223/1000], Step [25/25], d_loss: 8.5814, g_loss: 0.7440 \n",
            "\n",
            "Epoch [224/1000], Step [25/25], d_loss: 8.5393, g_loss: 0.4406 \n",
            "\n",
            "Epoch [225/1000], Step [25/25], d_loss: 7.4902, g_loss: 0.4632 \n",
            "\n",
            "Epoch [226/1000], Step [25/25], d_loss: 9.5059, g_loss: 3.9476 \n",
            "\n",
            "Epoch [227/1000], Step [25/25], d_loss: 9.3177, g_loss: 0.6649 \n",
            "\n",
            "Epoch [228/1000], Step [25/25], d_loss: 7.7502, g_loss: 0.5459 \n",
            "\n",
            "Epoch [229/1000], Step [25/25], d_loss: 7.4102, g_loss: 2.0319 \n",
            "\n",
            "Epoch [230/1000], Step [25/25], d_loss: 9.2030, g_loss: 1.9425 \n",
            "\n",
            "Epoch [231/1000], Step [25/25], d_loss: 10.3095, g_loss: 0.4850 \n",
            "\n",
            "Epoch [232/1000], Step [25/25], d_loss: 9.7264, g_loss: 0.5078 \n",
            "\n",
            "Epoch [233/1000], Step [25/25], d_loss: 10.9905, g_loss: 0.5386 \n",
            "\n",
            "Epoch [234/1000], Step [25/25], d_loss: 9.1965, g_loss: 0.5765 \n",
            "\n",
            "Epoch [235/1000], Step [25/25], d_loss: 4.4290, g_loss: 0.6723 \n",
            "\n",
            "Epoch [236/1000], Step [25/25], d_loss: 6.5221, g_loss: 0.5509 \n",
            "\n",
            "Epoch [237/1000], Step [25/25], d_loss: 8.2715, g_loss: 1.2468 \n",
            "\n",
            "Epoch [238/1000], Step [25/25], d_loss: 11.0515, g_loss: 1.8123 \n",
            "\n",
            "Epoch [239/1000], Step [25/25], d_loss: 9.1004, g_loss: 0.6595 \n",
            "\n",
            "Epoch [240/1000], Step [25/25], d_loss: 7.2821, g_loss: 0.6352 \n",
            "\n",
            "Epoch [241/1000], Step [25/25], d_loss: 5.3843, g_loss: 0.5233 \n",
            "\n",
            "Epoch [242/1000], Step [25/25], d_loss: 6.2328, g_loss: 1.8142 \n",
            "\n",
            "Epoch [243/1000], Step [25/25], d_loss: 9.5138, g_loss: 2.2843 \n",
            "\n",
            "Epoch [244/1000], Step [25/25], d_loss: 5.7985, g_loss: 0.5061 \n",
            "\n",
            "Epoch [245/1000], Step [25/25], d_loss: 6.6520, g_loss: 0.6128 \n",
            "\n",
            "Epoch [246/1000], Step [25/25], d_loss: 7.1444, g_loss: 0.5259 \n",
            "\n",
            "Epoch [247/1000], Step [25/25], d_loss: 5.8952, g_loss: 0.5055 \n",
            "\n",
            "Epoch [248/1000], Step [25/25], d_loss: 6.1459, g_loss: 1.3339 \n",
            "\n",
            "Epoch [249/1000], Step [25/25], d_loss: 6.2516, g_loss: 0.5478 \n",
            "\n",
            "Epoch [250/1000], Step [25/25], d_loss: 7.9943, g_loss: 0.6097 \n",
            "\n",
            "Epoch [251/1000], Step [25/25], d_loss: 7.3070, g_loss: 0.6038 \n",
            "\n",
            "Epoch [252/1000], Step [25/25], d_loss: 7.0715, g_loss: 0.5566 \n",
            "\n",
            "Epoch [253/1000], Step [25/25], d_loss: 4.5641, g_loss: 0.5932 \n",
            "\n",
            "Epoch [254/1000], Step [25/25], d_loss: 5.2633, g_loss: 0.5190 \n",
            "\n",
            "Epoch [255/1000], Step [25/25], d_loss: 6.1467, g_loss: 0.6545 \n",
            "\n",
            "Epoch [256/1000], Step [25/25], d_loss: 4.4985, g_loss: 0.6157 \n",
            "\n",
            "Epoch [257/1000], Step [25/25], d_loss: 4.4135, g_loss: 0.5926 \n",
            "\n",
            "Epoch [258/1000], Step [25/25], d_loss: 7.1671, g_loss: 0.6571 \n",
            "\n",
            "Epoch [259/1000], Step [25/25], d_loss: 2.5082, g_loss: 0.5879 \n",
            "\n",
            "Epoch [260/1000], Step [25/25], d_loss: 5.0951, g_loss: 0.6329 \n",
            "\n",
            "Epoch [261/1000], Step [25/25], d_loss: 5.3695, g_loss: 0.6061 \n",
            "\n",
            "Epoch [262/1000], Step [25/25], d_loss: 7.0076, g_loss: 1.2784 \n",
            "\n",
            "Epoch [263/1000], Step [25/25], d_loss: 4.3669, g_loss: 1.2511 \n",
            "\n",
            "Epoch [264/1000], Step [25/25], d_loss: 6.3099, g_loss: 0.5326 \n",
            "\n",
            "Epoch [265/1000], Step [25/25], d_loss: 2.4228, g_loss: 0.6579 \n",
            "\n",
            "Epoch [266/1000], Step [25/25], d_loss: 4.0358, g_loss: 0.5957 \n",
            "\n",
            "Epoch [267/1000], Step [25/25], d_loss: 3.4145, g_loss: 0.9313 \n",
            "\n",
            "Epoch [268/1000], Step [25/25], d_loss: 3.3605, g_loss: 0.5995 \n",
            "\n",
            "Epoch [269/1000], Step [25/25], d_loss: 8.2253, g_loss: 1.6765 \n",
            "\n",
            "Epoch [270/1000], Step [25/25], d_loss: 4.5909, g_loss: 0.6777 \n",
            "\n",
            "Epoch [271/1000], Step [25/25], d_loss: 2.8597, g_loss: 0.6510 \n",
            "\n",
            "Epoch [272/1000], Step [25/25], d_loss: 6.0387, g_loss: 0.5472 \n",
            "\n",
            "Epoch [273/1000], Step [25/25], d_loss: 3.4384, g_loss: 0.6473 \n",
            "\n",
            "Epoch [274/1000], Step [25/25], d_loss: 5.1868, g_loss: 0.6910 \n",
            "\n",
            "Epoch [275/1000], Step [25/25], d_loss: 4.1983, g_loss: 0.6533 \n",
            "\n",
            "Epoch [276/1000], Step [25/25], d_loss: 1.3841, g_loss: 0.6551 \n",
            "\n",
            "Epoch [277/1000], Step [25/25], d_loss: 4.3434, g_loss: 0.6914 \n",
            "\n",
            "Epoch [278/1000], Step [25/25], d_loss: 3.2991, g_loss: 2.1588 \n",
            "\n",
            "Epoch [279/1000], Step [25/25], d_loss: 7.1768, g_loss: 0.6797 \n",
            "\n",
            "Epoch [280/1000], Step [25/25], d_loss: 2.4974, g_loss: 0.6823 \n",
            "\n",
            "Epoch [281/1000], Step [25/25], d_loss: 5.2582, g_loss: 3.4121 \n",
            "\n",
            "Epoch [282/1000], Step [25/25], d_loss: 2.2728, g_loss: 1.8655 \n",
            "\n",
            "Epoch [283/1000], Step [25/25], d_loss: 2.8061, g_loss: 0.7243 \n",
            "\n",
            "Epoch [284/1000], Step [25/25], d_loss: 2.3569, g_loss: 0.6838 \n",
            "\n",
            "Epoch [285/1000], Step [25/25], d_loss: 5.1599, g_loss: 0.6962 \n",
            "\n",
            "Epoch [286/1000], Step [25/25], d_loss: 3.2693, g_loss: 1.3296 \n",
            "\n",
            "Epoch [287/1000], Step [25/25], d_loss: 2.4169, g_loss: 0.6717 \n",
            "\n",
            "Epoch [288/1000], Step [25/25], d_loss: 3.9348, g_loss: 0.6960 \n",
            "\n",
            "Epoch [289/1000], Step [25/25], d_loss: 4.7241, g_loss: 0.6904 \n",
            "\n",
            "Epoch [290/1000], Step [25/25], d_loss: 2.1990, g_loss: 0.6991 \n",
            "\n",
            "Epoch [291/1000], Step [25/25], d_loss: 1.4713, g_loss: 2.1559 \n",
            "\n",
            "Epoch [292/1000], Step [25/25], d_loss: 2.3132, g_loss: 0.6635 \n",
            "\n",
            "Epoch [293/1000], Step [25/25], d_loss: 4.2366, g_loss: 2.0561 \n",
            "\n",
            "Epoch [294/1000], Step [25/25], d_loss: 3.3107, g_loss: 0.6907 \n",
            "\n",
            "Epoch [295/1000], Step [25/25], d_loss: 2.3680, g_loss: 0.7190 \n",
            "\n",
            "Epoch [296/1000], Step [25/25], d_loss: 3.2979, g_loss: 0.6943 \n",
            "\n",
            "Epoch [297/1000], Step [25/25], d_loss: 2.9545, g_loss: 0.8123 \n",
            "\n",
            "Epoch [298/1000], Step [25/25], d_loss: 1.3169, g_loss: 1.3759 \n",
            "\n",
            "Epoch [299/1000], Step [25/25], d_loss: 2.3092, g_loss: 0.6558 \n",
            "\n",
            "Epoch [300/1000], Step [25/25], d_loss: 4.1030, g_loss: 0.6281 \n",
            "\n",
            "Epoch [301/1000], Step [25/25], d_loss: 1.3267, g_loss: 1.4533 \n",
            "\n",
            "Epoch [302/1000], Step [25/25], d_loss: 3.3161, g_loss: 0.7043 \n",
            "\n",
            "Epoch [303/1000], Step [25/25], d_loss: 3.3222, g_loss: 1.5663 \n",
            "\n",
            "Epoch [304/1000], Step [25/25], d_loss: 3.2062, g_loss: 1.1210 \n",
            "\n",
            "Epoch [305/1000], Step [25/25], d_loss: 5.2346, g_loss: 0.6381 \n",
            "\n",
            "Epoch [306/1000], Step [25/25], d_loss: 1.3444, g_loss: 0.6817 \n",
            "\n",
            "Epoch [307/1000], Step [25/25], d_loss: 1.4150, g_loss: 0.6583 \n",
            "\n",
            "Epoch [308/1000], Step [25/25], d_loss: 2.4465, g_loss: 0.7190 \n",
            "\n",
            "Epoch [309/1000], Step [25/25], d_loss: 2.3045, g_loss: 0.6579 \n",
            "\n",
            "Epoch [310/1000], Step [25/25], d_loss: 1.2925, g_loss: 1.4632 \n",
            "\n",
            "Epoch [311/1000], Step [25/25], d_loss: 3.1878, g_loss: 0.6513 \n",
            "\n",
            "Epoch [312/1000], Step [25/25], d_loss: 4.1037, g_loss: 0.6959 \n",
            "\n",
            "Epoch [313/1000], Step [25/25], d_loss: 2.3421, g_loss: 0.7353 \n",
            "\n",
            "Epoch [314/1000], Step [25/25], d_loss: 2.4843, g_loss: 1.7320 \n",
            "\n",
            "Epoch [315/1000], Step [25/25], d_loss: 4.0227, g_loss: 1.7927 \n",
            "\n",
            "Epoch [316/1000], Step [25/25], d_loss: 1.4181, g_loss: 0.6880 \n",
            "\n",
            "Epoch [317/1000], Step [25/25], d_loss: 1.3080, g_loss: 0.7505 \n",
            "\n",
            "Epoch [318/1000], Step [25/25], d_loss: 2.2381, g_loss: 0.6892 \n",
            "\n",
            "Epoch [319/1000], Step [25/25], d_loss: 1.4012, g_loss: 0.7184 \n",
            "\n",
            "Epoch [320/1000], Step [25/25], d_loss: 1.3581, g_loss: 1.9763 \n",
            "\n",
            "Epoch [321/1000], Step [25/25], d_loss: 3.7339, g_loss: 2.9582 \n",
            "\n",
            "Epoch [322/1000], Step [25/25], d_loss: 1.8789, g_loss: 0.6578 \n",
            "\n",
            "Epoch [323/1000], Step [25/25], d_loss: 2.2837, g_loss: 0.7070 \n",
            "\n",
            "Epoch [324/1000], Step [25/25], d_loss: 2.1674, g_loss: 0.7243 \n",
            "\n",
            "Epoch [325/1000], Step [25/25], d_loss: 2.2957, g_loss: 0.7660 \n",
            "\n",
            "Epoch [326/1000], Step [25/25], d_loss: 2.2701, g_loss: 1.6273 \n",
            "\n",
            "Epoch [327/1000], Step [25/25], d_loss: 3.1582, g_loss: 0.6484 \n",
            "\n",
            "Epoch [328/1000], Step [25/25], d_loss: 5.0933, g_loss: 0.9791 \n",
            "\n",
            "Epoch [329/1000], Step [25/25], d_loss: 2.2161, g_loss: 1.8602 \n",
            "\n",
            "Epoch [330/1000], Step [25/25], d_loss: 2.2240, g_loss: 0.6930 \n",
            "\n",
            "Epoch [331/1000], Step [25/25], d_loss: 1.3794, g_loss: 0.7260 \n",
            "\n",
            "Epoch [332/1000], Step [25/25], d_loss: 1.3737, g_loss: 1.4574 \n",
            "\n",
            "Epoch [333/1000], Step [25/25], d_loss: 1.4518, g_loss: 0.7031 \n",
            "\n",
            "Epoch [334/1000], Step [25/25], d_loss: 2.2855, g_loss: 0.7184 \n",
            "\n",
            "Epoch [335/1000], Step [25/25], d_loss: 1.4046, g_loss: 2.0281 \n",
            "\n",
            "Epoch [336/1000], Step [25/25], d_loss: 3.1255, g_loss: 1.8793 \n",
            "\n",
            "Epoch [337/1000], Step [25/25], d_loss: 1.3593, g_loss: 0.7047 \n",
            "\n",
            "Epoch [338/1000], Step [25/25], d_loss: 2.3685, g_loss: 0.7208 \n",
            "\n",
            "Epoch [339/1000], Step [25/25], d_loss: 3.3040, g_loss: 0.7266 \n",
            "\n",
            "Epoch [340/1000], Step [25/25], d_loss: 1.3585, g_loss: 0.7470 \n",
            "\n",
            "Epoch [341/1000], Step [25/25], d_loss: 1.4740, g_loss: 0.7028 \n",
            "\n",
            "Epoch [342/1000], Step [25/25], d_loss: 2.4496, g_loss: 0.7308 \n",
            "\n",
            "Epoch [343/1000], Step [25/25], d_loss: 2.2470, g_loss: 2.1232 \n",
            "\n",
            "Epoch [344/1000], Step [25/25], d_loss: 2.3766, g_loss: 0.6945 \n",
            "\n",
            "Epoch [345/1000], Step [25/25], d_loss: 2.2961, g_loss: 0.6739 \n",
            "\n",
            "Epoch [346/1000], Step [25/25], d_loss: 2.3418, g_loss: 0.6965 \n",
            "\n",
            "Epoch [347/1000], Step [25/25], d_loss: 2.3433, g_loss: 0.7055 \n",
            "\n",
            "Epoch [348/1000], Step [25/25], d_loss: 1.3464, g_loss: 1.5654 \n",
            "\n",
            "Epoch [349/1000], Step [25/25], d_loss: 1.3402, g_loss: 2.3011 \n",
            "\n",
            "Epoch [350/1000], Step [25/25], d_loss: 1.3934, g_loss: 0.7254 \n",
            "\n",
            "Epoch [351/1000], Step [25/25], d_loss: 3.1669, g_loss: 1.9440 \n",
            "\n",
            "Epoch [352/1000], Step [25/25], d_loss: 1.3156, g_loss: 0.7458 \n",
            "\n",
            "Epoch [353/1000], Step [25/25], d_loss: 1.3676, g_loss: 0.7242 \n",
            "\n",
            "Epoch [354/1000], Step [25/25], d_loss: 1.5973, g_loss: 1.7543 \n",
            "\n",
            "Epoch [355/1000], Step [25/25], d_loss: 1.4157, g_loss: 1.7703 \n",
            "\n",
            "Epoch [356/1000], Step [25/25], d_loss: 2.3171, g_loss: 0.7419 \n",
            "\n",
            "Epoch [357/1000], Step [25/25], d_loss: 1.1987, g_loss: 2.9304 \n",
            "\n",
            "Epoch [358/1000], Step [25/25], d_loss: 3.7117, g_loss: 2.1332 \n",
            "\n",
            "Epoch [359/1000], Step [25/25], d_loss: 1.5055, g_loss: 1.1112 \n",
            "\n",
            "Epoch [360/1000], Step [25/25], d_loss: 1.2206, g_loss: 0.7286 \n",
            "\n",
            "Epoch [361/1000], Step [25/25], d_loss: 1.5331, g_loss: 0.7006 \n",
            "\n",
            "Epoch [362/1000], Step [25/25], d_loss: 4.0719, g_loss: 1.4559 \n",
            "\n",
            "Epoch [363/1000], Step [25/25], d_loss: 2.1708, g_loss: 1.7021 \n",
            "\n",
            "Epoch [364/1000], Step [25/25], d_loss: 1.3366, g_loss: 0.7397 \n",
            "\n",
            "Epoch [365/1000], Step [25/25], d_loss: 2.3004, g_loss: 1.6699 \n",
            "\n",
            "Epoch [366/1000], Step [25/25], d_loss: 1.4463, g_loss: 0.7401 \n",
            "\n",
            "Epoch [367/1000], Step [25/25], d_loss: 1.3327, g_loss: 0.7111 \n",
            "\n",
            "Epoch [368/1000], Step [25/25], d_loss: 1.6409, g_loss: 0.7447 \n",
            "\n",
            "Epoch [369/1000], Step [25/25], d_loss: 1.4086, g_loss: 0.6372 \n",
            "\n",
            "Epoch [370/1000], Step [25/25], d_loss: 2.3160, g_loss: 0.7038 \n",
            "\n",
            "Epoch [371/1000], Step [25/25], d_loss: 2.2845, g_loss: 0.7028 \n",
            "\n",
            "Epoch [372/1000], Step [25/25], d_loss: 2.3809, g_loss: 0.7195 \n",
            "\n",
            "Epoch [373/1000], Step [25/25], d_loss: 1.2335, g_loss: 1.6103 \n",
            "\n",
            "Epoch [374/1000], Step [25/25], d_loss: 1.3617, g_loss: 1.1075 \n",
            "\n",
            "Epoch [375/1000], Step [25/25], d_loss: 1.7046, g_loss: 0.6856 \n",
            "\n",
            "Epoch [376/1000], Step [25/25], d_loss: 1.3904, g_loss: 0.7800 \n",
            "\n",
            "Epoch [377/1000], Step [25/25], d_loss: 1.4000, g_loss: 0.7268 \n",
            "\n",
            "Epoch [378/1000], Step [25/25], d_loss: 1.2141, g_loss: 1.6260 \n",
            "\n",
            "Epoch [379/1000], Step [25/25], d_loss: 1.3834, g_loss: 1.7141 \n",
            "\n",
            "Epoch [380/1000], Step [25/25], d_loss: 1.3852, g_loss: 0.7324 \n",
            "\n",
            "Epoch [381/1000], Step [25/25], d_loss: 2.3042, g_loss: 0.7141 \n",
            "\n",
            "Epoch [382/1000], Step [25/25], d_loss: 2.1419, g_loss: 0.7408 \n",
            "\n",
            "Epoch [383/1000], Step [25/25], d_loss: 2.2950, g_loss: 0.7320 \n",
            "\n",
            "Epoch [384/1000], Step [25/25], d_loss: 2.3590, g_loss: 0.7106 \n",
            "\n",
            "Epoch [385/1000], Step [25/25], d_loss: 1.3485, g_loss: 1.3831 \n",
            "\n",
            "Epoch [386/1000], Step [25/25], d_loss: 2.2549, g_loss: 1.8492 \n",
            "\n",
            "Epoch [387/1000], Step [25/25], d_loss: 1.3675, g_loss: 0.7259 \n",
            "\n",
            "Epoch [388/1000], Step [25/25], d_loss: 1.2962, g_loss: 0.6838 \n",
            "\n",
            "Epoch [389/1000], Step [25/25], d_loss: 2.2793, g_loss: 1.5335 \n",
            "\n",
            "Epoch [390/1000], Step [25/25], d_loss: 1.3109, g_loss: 0.7341 \n",
            "\n",
            "Epoch [391/1000], Step [25/25], d_loss: 1.2750, g_loss: 0.7129 \n",
            "\n",
            "Epoch [392/1000], Step [25/25], d_loss: 1.4357, g_loss: 0.7813 \n",
            "\n",
            "Epoch [393/1000], Step [25/25], d_loss: 1.2544, g_loss: 0.7263 \n",
            "\n",
            "Epoch [394/1000], Step [25/25], d_loss: 1.5937, g_loss: 0.7427 \n",
            "\n",
            "Epoch [395/1000], Step [25/25], d_loss: 1.2447, g_loss: 0.7260 \n",
            "\n",
            "Epoch [396/1000], Step [25/25], d_loss: 1.3536, g_loss: 0.7011 \n",
            "\n",
            "Epoch [397/1000], Step [25/25], d_loss: 1.3236, g_loss: 0.7379 \n",
            "\n",
            "Epoch [398/1000], Step [25/25], d_loss: 1.2859, g_loss: 0.6898 \n",
            "\n",
            "Epoch [399/1000], Step [25/25], d_loss: 1.3182, g_loss: 0.7161 \n",
            "\n",
            "Epoch [400/1000], Step [25/25], d_loss: 1.3624, g_loss: 0.7369 \n",
            "\n",
            "Epoch [401/1000], Step [25/25], d_loss: 1.4685, g_loss: 0.6816 \n",
            "\n",
            "Epoch [402/1000], Step [25/25], d_loss: 1.2711, g_loss: 0.6647 \n",
            "\n",
            "Epoch [403/1000], Step [25/25], d_loss: 1.3103, g_loss: 0.7133 \n",
            "\n",
            "Epoch [404/1000], Step [25/25], d_loss: 1.3329, g_loss: 0.8433 \n",
            "\n",
            "Epoch [405/1000], Step [25/25], d_loss: 1.1988, g_loss: 0.7558 \n",
            "\n",
            "Epoch [406/1000], Step [25/25], d_loss: 1.2839, g_loss: 2.6669 \n",
            "\n",
            "Epoch [407/1000], Step [25/25], d_loss: 1.2148, g_loss: 1.4693 \n",
            "\n",
            "Epoch [408/1000], Step [25/25], d_loss: 1.2324, g_loss: 0.6864 \n",
            "\n",
            "Epoch [409/1000], Step [25/25], d_loss: 1.3773, g_loss: 0.7021 \n",
            "\n",
            "Epoch [410/1000], Step [25/25], d_loss: 1.3591, g_loss: 0.7105 \n",
            "\n",
            "Epoch [411/1000], Step [25/25], d_loss: 1.2765, g_loss: 0.7300 \n",
            "\n",
            "Epoch [412/1000], Step [25/25], d_loss: 1.3413, g_loss: 0.7312 \n",
            "\n",
            "Epoch [413/1000], Step [25/25], d_loss: 1.3099, g_loss: 0.7022 \n",
            "\n",
            "Epoch [414/1000], Step [25/25], d_loss: 1.1247, g_loss: 0.7758 \n",
            "\n",
            "Epoch [415/1000], Step [25/25], d_loss: 1.4758, g_loss: 0.7349 \n",
            "\n",
            "Epoch [416/1000], Step [25/25], d_loss: 2.2033, g_loss: 2.6604 \n",
            "\n",
            "Epoch [417/1000], Step [25/25], d_loss: 2.2808, g_loss: 0.7240 \n",
            "\n",
            "Epoch [418/1000], Step [25/25], d_loss: 2.1724, g_loss: 0.7558 \n",
            "\n",
            "Epoch [419/1000], Step [25/25], d_loss: 1.0584, g_loss: 1.5099 \n",
            "\n",
            "Epoch [420/1000], Step [25/25], d_loss: 1.6751, g_loss: 0.7921 \n",
            "\n",
            "Epoch [421/1000], Step [25/25], d_loss: 1.2286, g_loss: 0.7033 \n",
            "\n",
            "Epoch [422/1000], Step [25/25], d_loss: 1.2710, g_loss: 0.6903 \n",
            "\n",
            "Epoch [423/1000], Step [25/25], d_loss: 1.2471, g_loss: 1.1903 \n",
            "\n",
            "Epoch [424/1000], Step [25/25], d_loss: 1.1808, g_loss: 1.8674 \n",
            "\n",
            "Epoch [425/1000], Step [25/25], d_loss: 1.2051, g_loss: 1.2637 \n",
            "\n",
            "Epoch [426/1000], Step [25/25], d_loss: 1.2716, g_loss: 1.7519 \n",
            "\n",
            "Epoch [427/1000], Step [25/25], d_loss: 1.2582, g_loss: 0.7325 \n",
            "\n",
            "Epoch [428/1000], Step [25/25], d_loss: 1.2413, g_loss: 0.6870 \n",
            "\n",
            "Epoch [429/1000], Step [25/25], d_loss: 2.1325, g_loss: 0.7280 \n",
            "\n",
            "Epoch [430/1000], Step [25/25], d_loss: 1.1312, g_loss: 0.7265 \n",
            "\n",
            "Epoch [431/1000], Step [25/25], d_loss: 1.2444, g_loss: 0.6707 \n",
            "\n",
            "Epoch [432/1000], Step [25/25], d_loss: 1.2330, g_loss: 0.7512 \n",
            "\n",
            "Epoch [433/1000], Step [25/25], d_loss: 1.2224, g_loss: 1.2204 \n",
            "\n",
            "Epoch [434/1000], Step [25/25], d_loss: 2.2764, g_loss: 0.7106 \n",
            "\n",
            "Epoch [435/1000], Step [25/25], d_loss: 1.2531, g_loss: 0.7544 \n",
            "\n",
            "Epoch [436/1000], Step [25/25], d_loss: 1.2446, g_loss: 0.6904 \n",
            "\n",
            "Epoch [437/1000], Step [25/25], d_loss: 1.3408, g_loss: 2.2439 \n",
            "\n",
            "Epoch [438/1000], Step [25/25], d_loss: 1.2983, g_loss: 1.0325 \n",
            "\n",
            "Epoch [439/1000], Step [25/25], d_loss: 1.3410, g_loss: 0.7281 \n",
            "\n",
            "Epoch [440/1000], Step [25/25], d_loss: 1.2132, g_loss: 0.7381 \n",
            "\n",
            "Epoch [441/1000], Step [25/25], d_loss: 1.2366, g_loss: 1.7673 \n",
            "\n",
            "Epoch [442/1000], Step [25/25], d_loss: 1.2227, g_loss: 2.4808 \n",
            "\n",
            "Epoch [443/1000], Step [25/25], d_loss: 1.1886, g_loss: 0.7319 \n",
            "\n",
            "Epoch [444/1000], Step [25/25], d_loss: 1.2212, g_loss: 0.6954 \n",
            "\n",
            "Epoch [445/1000], Step [25/25], d_loss: 1.2885, g_loss: 0.6926 \n",
            "\n",
            "Epoch [446/1000], Step [25/25], d_loss: 1.1762, g_loss: 1.6425 \n",
            "\n",
            "Epoch [447/1000], Step [25/25], d_loss: 1.8177, g_loss: 0.7704 \n",
            "\n",
            "Epoch [448/1000], Step [25/25], d_loss: 1.1623, g_loss: 0.7057 \n",
            "\n",
            "Epoch [449/1000], Step [25/25], d_loss: 1.1494, g_loss: 0.7121 \n",
            "\n",
            "Epoch [450/1000], Step [25/25], d_loss: 1.1933, g_loss: 0.6937 \n",
            "\n",
            "Epoch [451/1000], Step [25/25], d_loss: 1.1941, g_loss: 1.2456 \n",
            "\n",
            "Epoch [452/1000], Step [25/25], d_loss: 1.2108, g_loss: 0.7321 \n",
            "\n",
            "Epoch [453/1000], Step [25/25], d_loss: 1.3560, g_loss: 0.7206 \n",
            "\n",
            "Epoch [454/1000], Step [25/25], d_loss: 1.2386, g_loss: 0.6577 \n",
            "\n",
            "Epoch [455/1000], Step [25/25], d_loss: 1.1389, g_loss: 0.7370 \n",
            "\n",
            "Epoch [456/1000], Step [25/25], d_loss: 1.2669, g_loss: 2.1608 \n",
            "\n",
            "Epoch [457/1000], Step [25/25], d_loss: 1.1538, g_loss: 0.6984 \n",
            "\n",
            "Epoch [458/1000], Step [25/25], d_loss: 1.1565, g_loss: 1.3411 \n",
            "\n",
            "Epoch [459/1000], Step [25/25], d_loss: 1.2302, g_loss: 0.7386 \n",
            "\n",
            "Epoch [460/1000], Step [25/25], d_loss: 1.1220, g_loss: 0.6579 \n",
            "\n",
            "Epoch [461/1000], Step [25/25], d_loss: 1.2185, g_loss: 0.6938 \n",
            "\n",
            "Epoch [462/1000], Step [25/25], d_loss: 1.3558, g_loss: 0.7476 \n",
            "\n",
            "Epoch [463/1000], Step [25/25], d_loss: 1.1486, g_loss: 0.7161 \n",
            "\n",
            "Epoch [464/1000], Step [25/25], d_loss: 1.4113, g_loss: 0.6997 \n",
            "\n",
            "Epoch [465/1000], Step [25/25], d_loss: 1.0792, g_loss: 0.7097 \n",
            "\n",
            "Epoch [466/1000], Step [25/25], d_loss: 1.2344, g_loss: 0.7579 \n",
            "\n",
            "Epoch [467/1000], Step [25/25], d_loss: 1.8314, g_loss: 0.7340 \n",
            "\n",
            "Epoch [468/1000], Step [25/25], d_loss: 1.2756, g_loss: 0.7391 \n",
            "\n",
            "Epoch [469/1000], Step [25/25], d_loss: 1.2351, g_loss: 0.7565 \n",
            "\n",
            "Epoch [470/1000], Step [25/25], d_loss: 1.2568, g_loss: 0.7000 \n",
            "\n",
            "Epoch [471/1000], Step [25/25], d_loss: 1.1805, g_loss: 0.6954 \n",
            "\n",
            "Epoch [472/1000], Step [25/25], d_loss: 1.2969, g_loss: 0.7385 \n",
            "\n",
            "Epoch [473/1000], Step [25/25], d_loss: 1.7184, g_loss: 0.7791 \n",
            "\n",
            "Epoch [474/1000], Step [25/25], d_loss: 1.3226, g_loss: 0.7087 \n",
            "\n",
            "Epoch [475/1000], Step [25/25], d_loss: 2.1981, g_loss: 0.7565 \n",
            "\n",
            "Epoch [476/1000], Step [25/25], d_loss: 1.4517, g_loss: 0.7359 \n",
            "\n",
            "Epoch [477/1000], Step [25/25], d_loss: 1.2180, g_loss: 7.3824 \n",
            "\n",
            "Epoch [478/1000], Step [25/25], d_loss: 1.3521, g_loss: 0.6911 \n",
            "\n",
            "Epoch [479/1000], Step [25/25], d_loss: 1.2856, g_loss: 0.7328 \n",
            "\n",
            "Epoch [480/1000], Step [25/25], d_loss: 1.2018, g_loss: 1.5884 \n",
            "\n",
            "Epoch [481/1000], Step [25/25], d_loss: 1.2961, g_loss: 1.4826 \n",
            "\n",
            "Epoch [482/1000], Step [25/25], d_loss: 1.2617, g_loss: 0.9156 \n",
            "\n",
            "Epoch [483/1000], Step [25/25], d_loss: 1.2589, g_loss: 2.3649 \n",
            "\n",
            "Epoch [484/1000], Step [25/25], d_loss: 1.3057, g_loss: 0.8345 \n",
            "\n",
            "Epoch [485/1000], Step [25/25], d_loss: 1.1971, g_loss: 0.7003 \n",
            "\n",
            "Epoch [486/1000], Step [25/25], d_loss: 1.2924, g_loss: 0.7547 \n",
            "\n",
            "Epoch [487/1000], Step [25/25], d_loss: 1.3818, g_loss: 0.6966 \n",
            "\n",
            "Epoch [488/1000], Step [25/25], d_loss: 1.3223, g_loss: 0.7380 \n",
            "\n",
            "Epoch [489/1000], Step [25/25], d_loss: 1.2110, g_loss: 0.6778 \n",
            "\n",
            "Epoch [490/1000], Step [25/25], d_loss: 1.1660, g_loss: 1.3749 \n",
            "\n",
            "Epoch [491/1000], Step [25/25], d_loss: 1.1699, g_loss: 0.7110 \n",
            "\n",
            "Epoch [492/1000], Step [25/25], d_loss: 1.2866, g_loss: 0.9778 \n",
            "\n",
            "Epoch [493/1000], Step [25/25], d_loss: 1.2387, g_loss: 0.7501 \n",
            "\n",
            "Epoch [494/1000], Step [25/25], d_loss: 1.2168, g_loss: 1.7505 \n",
            "\n",
            "Epoch [495/1000], Step [25/25], d_loss: 1.2388, g_loss: 0.6610 \n",
            "\n",
            "Epoch [496/1000], Step [25/25], d_loss: 1.2080, g_loss: 1.1650 \n",
            "\n",
            "Epoch [497/1000], Step [25/25], d_loss: 1.2011, g_loss: 2.4797 \n",
            "\n",
            "Epoch [498/1000], Step [25/25], d_loss: 1.3236, g_loss: 0.7388 \n",
            "\n",
            "Epoch [499/1000], Step [25/25], d_loss: 1.2515, g_loss: 0.6861 \n",
            "\n",
            "Epoch [500/1000], Step [25/25], d_loss: 1.2213, g_loss: 0.7458 \n",
            "\n",
            "Epoch [501/1000], Step [25/25], d_loss: 1.3418, g_loss: 0.7393 \n",
            "\n",
            "Epoch [502/1000], Step [25/25], d_loss: 1.2502, g_loss: 0.6989 \n",
            "\n",
            "Epoch [503/1000], Step [25/25], d_loss: 1.2288, g_loss: 0.7134 \n",
            "\n",
            "Epoch [504/1000], Step [25/25], d_loss: 1.2706, g_loss: 0.7280 \n",
            "\n",
            "Epoch [505/1000], Step [25/25], d_loss: 1.1935, g_loss: 0.7603 \n",
            "\n",
            "Epoch [506/1000], Step [25/25], d_loss: 1.2650, g_loss: 0.7263 \n",
            "\n",
            "Epoch [507/1000], Step [25/25], d_loss: 1.7453, g_loss: 0.7470 \n",
            "\n",
            "Epoch [508/1000], Step [25/25], d_loss: 1.2678, g_loss: 0.7236 \n",
            "\n",
            "Epoch [509/1000], Step [25/25], d_loss: 1.4582, g_loss: 1.2950 \n",
            "\n",
            "Epoch [510/1000], Step [25/25], d_loss: 1.1063, g_loss: 0.7610 \n",
            "\n",
            "Epoch [511/1000], Step [25/25], d_loss: 1.2594, g_loss: 0.7528 \n",
            "\n",
            "Epoch [512/1000], Step [25/25], d_loss: 1.2352, g_loss: 0.6893 \n",
            "\n",
            "Epoch [513/1000], Step [25/25], d_loss: 1.4190, g_loss: 1.2483 \n",
            "\n",
            "Epoch [514/1000], Step [25/25], d_loss: 1.2787, g_loss: 1.2971 \n",
            "\n",
            "Epoch [515/1000], Step [25/25], d_loss: 1.5403, g_loss: 0.7300 \n",
            "\n",
            "Epoch [516/1000], Step [25/25], d_loss: 1.8471, g_loss: 0.7158 \n",
            "\n",
            "Epoch [517/1000], Step [25/25], d_loss: 1.1832, g_loss: 0.7510 \n",
            "\n",
            "Epoch [518/1000], Step [25/25], d_loss: 1.3011, g_loss: 1.0447 \n",
            "\n",
            "Epoch [519/1000], Step [25/25], d_loss: 1.2436, g_loss: 0.7367 \n",
            "\n",
            "Epoch [520/1000], Step [25/25], d_loss: 1.1973, g_loss: 0.7212 \n",
            "\n",
            "Epoch [521/1000], Step [25/25], d_loss: 1.2100, g_loss: 1.8434 \n",
            "\n",
            "Epoch [522/1000], Step [25/25], d_loss: 1.2004, g_loss: 10.0624 \n",
            "\n",
            "Epoch [523/1000], Step [25/25], d_loss: 1.1432, g_loss: 0.7237 \n",
            "\n",
            "Epoch [524/1000], Step [25/25], d_loss: 1.1631, g_loss: 0.6945 \n",
            "\n",
            "Epoch [525/1000], Step [25/25], d_loss: 1.2787, g_loss: 0.8581 \n",
            "\n",
            "Epoch [526/1000], Step [25/25], d_loss: 1.2366, g_loss: 1.4958 \n",
            "\n",
            "Epoch [527/1000], Step [25/25], d_loss: 1.2066, g_loss: 0.7493 \n",
            "\n",
            "Epoch [528/1000], Step [25/25], d_loss: 1.1463, g_loss: 1.8247 \n",
            "\n",
            "Epoch [529/1000], Step [25/25], d_loss: 1.2287, g_loss: 0.7496 \n",
            "\n",
            "Epoch [530/1000], Step [25/25], d_loss: 1.2732, g_loss: 2.7963 \n",
            "\n",
            "Epoch [531/1000], Step [25/25], d_loss: 1.3067, g_loss: 0.7606 \n",
            "\n",
            "Epoch [532/1000], Step [25/25], d_loss: 1.1922, g_loss: 0.6901 \n",
            "\n",
            "Epoch [533/1000], Step [25/25], d_loss: 1.2066, g_loss: 0.7585 \n",
            "\n",
            "Epoch [534/1000], Step [25/25], d_loss: 1.2257, g_loss: 1.7723 \n",
            "\n",
            "Epoch [535/1000], Step [25/25], d_loss: 1.1156, g_loss: 1.4529 \n",
            "\n",
            "Epoch [536/1000], Step [25/25], d_loss: 1.1700, g_loss: 0.7309 \n",
            "\n",
            "Epoch [537/1000], Step [25/25], d_loss: 1.3040, g_loss: 0.7071 \n",
            "\n",
            "Epoch [538/1000], Step [25/25], d_loss: 1.2680, g_loss: 0.7658 \n",
            "\n",
            "Epoch [539/1000], Step [25/25], d_loss: 1.3243, g_loss: 1.4841 \n",
            "\n",
            "Epoch [540/1000], Step [25/25], d_loss: 1.2392, g_loss: 0.7532 \n",
            "\n",
            "Epoch [541/1000], Step [25/25], d_loss: 1.2107, g_loss: 0.7447 \n",
            "\n",
            "Epoch [542/1000], Step [25/25], d_loss: 1.1270, g_loss: 0.7331 \n",
            "\n",
            "Epoch [543/1000], Step [25/25], d_loss: 1.1713, g_loss: 0.7363 \n",
            "\n",
            "Epoch [544/1000], Step [25/25], d_loss: 1.2081, g_loss: 9.3546 \n",
            "\n",
            "Epoch [545/1000], Step [25/25], d_loss: 1.1097, g_loss: 0.6777 \n",
            "\n",
            "Epoch [546/1000], Step [25/25], d_loss: 1.3059, g_loss: 2.3060 \n",
            "\n",
            "Epoch [547/1000], Step [25/25], d_loss: 1.3023, g_loss: 0.7708 \n",
            "\n",
            "Epoch [548/1000], Step [25/25], d_loss: 1.2212, g_loss: 0.7433 \n",
            "\n",
            "Epoch [549/1000], Step [25/25], d_loss: 1.3281, g_loss: 0.7423 \n",
            "\n",
            "Epoch [550/1000], Step [25/25], d_loss: 1.2138, g_loss: 1.8078 \n",
            "\n",
            "Epoch [551/1000], Step [25/25], d_loss: 1.2132, g_loss: 0.7335 \n",
            "\n",
            "Epoch [552/1000], Step [25/25], d_loss: 1.2457, g_loss: 0.7156 \n",
            "\n",
            "Epoch [553/1000], Step [25/25], d_loss: 1.1283, g_loss: 0.7527 \n",
            "\n",
            "Epoch [554/1000], Step [25/25], d_loss: 1.4136, g_loss: 0.6940 \n",
            "\n",
            "Epoch [555/1000], Step [25/25], d_loss: 1.2429, g_loss: 0.7632 \n",
            "\n",
            "Epoch [556/1000], Step [25/25], d_loss: 1.1832, g_loss: 1.7826 \n",
            "\n",
            "Epoch [557/1000], Step [25/25], d_loss: 1.1997, g_loss: 0.7440 \n",
            "\n",
            "Epoch [558/1000], Step [25/25], d_loss: 1.1623, g_loss: 0.7383 \n",
            "\n",
            "Epoch [559/1000], Step [25/25], d_loss: 1.2594, g_loss: 1.0011 \n",
            "\n",
            "Epoch [560/1000], Step [25/25], d_loss: 1.2537, g_loss: 0.6511 \n",
            "\n",
            "Epoch [561/1000], Step [25/25], d_loss: 1.2297, g_loss: 0.8037 \n",
            "\n",
            "Epoch [562/1000], Step [25/25], d_loss: 1.4175, g_loss: 0.7288 \n",
            "\n",
            "Epoch [563/1000], Step [25/25], d_loss: 1.1435, g_loss: 0.7969 \n",
            "\n",
            "Epoch [564/1000], Step [25/25], d_loss: 1.2446, g_loss: 1.7487 \n",
            "\n",
            "Epoch [565/1000], Step [25/25], d_loss: 1.3791, g_loss: 0.7414 \n",
            "\n",
            "Epoch [566/1000], Step [25/25], d_loss: 1.1770, g_loss: 0.8097 \n",
            "\n",
            "Epoch [567/1000], Step [25/25], d_loss: 1.1783, g_loss: 1.2168 \n",
            "\n",
            "Epoch [568/1000], Step [25/25], d_loss: 1.2008, g_loss: 1.7365 \n",
            "\n",
            "Epoch [569/1000], Step [25/25], d_loss: 1.3203, g_loss: 1.8066 \n",
            "\n",
            "Epoch [570/1000], Step [25/25], d_loss: 1.3368, g_loss: 0.7289 \n",
            "\n",
            "Epoch [571/1000], Step [25/25], d_loss: 1.2042, g_loss: 0.7263 \n",
            "\n",
            "Epoch [572/1000], Step [25/25], d_loss: 1.1868, g_loss: 0.7338 \n",
            "\n",
            "Epoch [573/1000], Step [25/25], d_loss: 1.2273, g_loss: 0.7594 \n",
            "\n",
            "Epoch [574/1000], Step [25/25], d_loss: 1.2074, g_loss: 3.2060 \n",
            "\n",
            "Epoch [575/1000], Step [25/25], d_loss: 1.2614, g_loss: 0.7684 \n",
            "\n",
            "Epoch [576/1000], Step [25/25], d_loss: 1.2010, g_loss: 0.9735 \n",
            "\n",
            "Epoch [577/1000], Step [25/25], d_loss: 1.5114, g_loss: 0.6336 \n",
            "\n",
            "Epoch [578/1000], Step [25/25], d_loss: 1.2638, g_loss: 0.7852 \n",
            "\n",
            "Epoch [579/1000], Step [25/25], d_loss: 1.3294, g_loss: 0.7640 \n",
            "\n",
            "Epoch [580/1000], Step [25/25], d_loss: 1.3303, g_loss: 0.7131 \n",
            "\n",
            "Epoch [581/1000], Step [25/25], d_loss: 1.2652, g_loss: 0.7451 \n",
            "\n",
            "Epoch [582/1000], Step [25/25], d_loss: 1.3666, g_loss: 0.7406 \n",
            "\n",
            "Epoch [583/1000], Step [25/25], d_loss: 1.2753, g_loss: 0.7038 \n",
            "\n",
            "Epoch [584/1000], Step [25/25], d_loss: 1.3339, g_loss: 1.3764 \n",
            "\n",
            "Epoch [585/1000], Step [25/25], d_loss: 1.3193, g_loss: 1.2953 \n",
            "\n",
            "Epoch [586/1000], Step [25/25], d_loss: 1.1645, g_loss: 0.7622 \n",
            "\n",
            "Epoch [587/1000], Step [25/25], d_loss: 1.3826, g_loss: 1.8725 \n",
            "\n",
            "Epoch [588/1000], Step [25/25], d_loss: 1.1965, g_loss: 0.7368 \n",
            "\n",
            "Epoch [589/1000], Step [25/25], d_loss: 1.2704, g_loss: 1.9181 \n",
            "\n",
            "Epoch [590/1000], Step [25/25], d_loss: 1.2626, g_loss: 0.7083 \n",
            "\n",
            "Epoch [591/1000], Step [25/25], d_loss: 1.2737, g_loss: 0.7222 \n",
            "\n",
            "Epoch [592/1000], Step [25/25], d_loss: 1.3186, g_loss: 0.7726 \n",
            "\n",
            "Epoch [593/1000], Step [25/25], d_loss: 1.3349, g_loss: 1.9124 \n",
            "\n",
            "Epoch [594/1000], Step [25/25], d_loss: 1.2364, g_loss: 0.7805 \n",
            "\n",
            "Epoch [595/1000], Step [25/25], d_loss: 1.2705, g_loss: 0.7614 \n",
            "\n",
            "Epoch [596/1000], Step [25/25], d_loss: 1.3304, g_loss: 0.7839 \n",
            "\n",
            "Epoch [597/1000], Step [25/25], d_loss: 1.3812, g_loss: 1.8827 \n",
            "\n",
            "Epoch [598/1000], Step [25/25], d_loss: 1.3454, g_loss: 0.7450 \n",
            "\n",
            "Epoch [599/1000], Step [25/25], d_loss: 1.4412, g_loss: 0.7651 \n",
            "\n",
            "Epoch [600/1000], Step [25/25], d_loss: 1.3112, g_loss: 0.7496 \n",
            "\n",
            "Epoch [601/1000], Step [25/25], d_loss: 1.2530, g_loss: 0.8345 \n",
            "\n",
            "Epoch [602/1000], Step [25/25], d_loss: 1.4232, g_loss: 0.7621 \n",
            "\n",
            "Epoch [603/1000], Step [25/25], d_loss: 1.4027, g_loss: 0.7527 \n",
            "\n",
            "Epoch [604/1000], Step [25/25], d_loss: 1.3541, g_loss: 0.7449 \n",
            "\n",
            "Epoch [605/1000], Step [25/25], d_loss: 1.3710, g_loss: 1.9802 \n",
            "\n",
            "Epoch [606/1000], Step [25/25], d_loss: 1.3099, g_loss: 2.2874 \n",
            "\n",
            "Epoch [607/1000], Step [25/25], d_loss: 1.3397, g_loss: 1.9892 \n",
            "\n",
            "Epoch [608/1000], Step [25/25], d_loss: 1.3550, g_loss: 1.6242 \n",
            "\n",
            "Epoch [609/1000], Step [25/25], d_loss: 1.3629, g_loss: 1.4861 \n",
            "\n",
            "Epoch [610/1000], Step [25/25], d_loss: 1.3215, g_loss: 2.6880 \n",
            "\n",
            "Epoch [611/1000], Step [25/25], d_loss: 1.3602, g_loss: 1.3465 \n",
            "\n",
            "Epoch [612/1000], Step [25/25], d_loss: 1.3429, g_loss: 2.1074 \n",
            "\n",
            "Epoch [613/1000], Step [25/25], d_loss: 1.3684, g_loss: 0.7849 \n",
            "\n",
            "Epoch [614/1000], Step [25/25], d_loss: 1.3637, g_loss: 0.7579 \n",
            "\n",
            "Epoch [615/1000], Step [25/25], d_loss: 1.3696, g_loss: 0.7864 \n",
            "\n",
            "Epoch [616/1000], Step [25/25], d_loss: 1.3603, g_loss: 3.0665 \n",
            "\n",
            "Epoch [617/1000], Step [25/25], d_loss: 1.3015, g_loss: 0.7683 \n",
            "\n",
            "Epoch [618/1000], Step [25/25], d_loss: 1.3802, g_loss: 0.7910 \n",
            "\n",
            "Epoch [619/1000], Step [25/25], d_loss: 1.4031, g_loss: 1.4851 \n",
            "\n",
            "Epoch [620/1000], Step [25/25], d_loss: 1.3252, g_loss: 2.1743 \n",
            "\n",
            "Epoch [621/1000], Step [25/25], d_loss: 1.3408, g_loss: 0.7906 \n",
            "\n",
            "Epoch [622/1000], Step [25/25], d_loss: 1.3488, g_loss: 0.7631 \n",
            "\n",
            "Epoch [623/1000], Step [25/25], d_loss: 1.3302, g_loss: 2.7305 \n",
            "\n",
            "Epoch [624/1000], Step [25/25], d_loss: 1.3786, g_loss: 0.7958 \n",
            "\n",
            "Epoch [625/1000], Step [25/25], d_loss: 1.3735, g_loss: 1.5651 \n",
            "\n",
            "Epoch [626/1000], Step [25/25], d_loss: 1.3618, g_loss: 1.6729 \n",
            "\n",
            "Epoch [627/1000], Step [25/25], d_loss: 1.3317, g_loss: 0.8017 \n",
            "\n",
            "Epoch [628/1000], Step [25/25], d_loss: 1.3744, g_loss: 0.8072 \n",
            "\n",
            "Epoch [629/1000], Step [25/25], d_loss: 1.3440, g_loss: 0.8023 \n",
            "\n",
            "Epoch [630/1000], Step [25/25], d_loss: 1.4165, g_loss: 0.7801 \n",
            "\n",
            "Epoch [631/1000], Step [25/25], d_loss: 1.3061, g_loss: 0.8157 \n",
            "\n",
            "Epoch [632/1000], Step [25/25], d_loss: 1.3748, g_loss: 0.8011 \n",
            "\n",
            "Epoch [633/1000], Step [25/25], d_loss: 1.3614, g_loss: 1.6555 \n",
            "\n",
            "Epoch [634/1000], Step [25/25], d_loss: 1.3517, g_loss: 0.8217 \n",
            "\n",
            "Epoch [635/1000], Step [25/25], d_loss: 1.3312, g_loss: 0.7965 \n",
            "\n",
            "Epoch [636/1000], Step [25/25], d_loss: 1.3474, g_loss: 1.7585 \n",
            "\n",
            "Epoch [637/1000], Step [25/25], d_loss: 1.3676, g_loss: 1.3371 \n",
            "\n",
            "Epoch [638/1000], Step [25/25], d_loss: 1.4197, g_loss: 0.8263 \n",
            "\n",
            "Epoch [639/1000], Step [25/25], d_loss: 1.3284, g_loss: 0.8307 \n",
            "\n",
            "Epoch [640/1000], Step [25/25], d_loss: 1.3089, g_loss: 0.8437 \n",
            "\n",
            "Epoch [641/1000], Step [25/25], d_loss: 1.3801, g_loss: 0.7907 \n",
            "\n",
            "Epoch [642/1000], Step [25/25], d_loss: 1.3958, g_loss: 2.0357 \n",
            "\n",
            "Epoch [643/1000], Step [25/25], d_loss: 1.3346, g_loss: 1.0554 \n",
            "\n",
            "Epoch [644/1000], Step [25/25], d_loss: 1.3508, g_loss: 0.8067 \n",
            "\n",
            "Epoch [645/1000], Step [25/25], d_loss: 1.3621, g_loss: 0.7662 \n",
            "\n",
            "Epoch [646/1000], Step [25/25], d_loss: 1.3566, g_loss: 0.8469 \n",
            "\n",
            "Epoch [647/1000], Step [25/25], d_loss: 1.3581, g_loss: 2.3246 \n",
            "\n",
            "Epoch [648/1000], Step [25/25], d_loss: 1.3454, g_loss: 0.8277 \n",
            "\n",
            "Epoch [649/1000], Step [25/25], d_loss: 1.3594, g_loss: 0.8153 \n",
            "\n",
            "Epoch [650/1000], Step [25/25], d_loss: 1.3659, g_loss: 0.8006 \n",
            "\n",
            "Epoch [651/1000], Step [25/25], d_loss: 1.3719, g_loss: 0.8136 \n",
            "\n",
            "Epoch [652/1000], Step [25/25], d_loss: 1.3489, g_loss: 2.1427 \n",
            "\n",
            "Epoch [653/1000], Step [25/25], d_loss: 1.4139, g_loss: 0.8319 \n",
            "\n",
            "Epoch [654/1000], Step [25/25], d_loss: 1.3524, g_loss: 0.8333 \n",
            "\n",
            "Epoch [655/1000], Step [25/25], d_loss: 1.3489, g_loss: 1.5304 \n",
            "\n",
            "Epoch [656/1000], Step [25/25], d_loss: 1.3918, g_loss: 0.8237 \n",
            "\n",
            "Epoch [657/1000], Step [25/25], d_loss: 1.3218, g_loss: 0.8270 \n",
            "\n",
            "Epoch [658/1000], Step [25/25], d_loss: 1.3501, g_loss: 2.3107 \n",
            "\n",
            "Epoch [659/1000], Step [25/25], d_loss: 1.3442, g_loss: 0.8224 \n",
            "\n",
            "Epoch [660/1000], Step [25/25], d_loss: 1.3698, g_loss: 0.8213 \n",
            "\n",
            "Epoch [661/1000], Step [25/25], d_loss: 1.4247, g_loss: 0.8282 \n",
            "\n",
            "Epoch [662/1000], Step [25/25], d_loss: 1.3950, g_loss: 0.8607 \n",
            "\n",
            "Epoch [663/1000], Step [25/25], d_loss: 1.2907, g_loss: 0.8245 \n",
            "\n",
            "Epoch [664/1000], Step [25/25], d_loss: 1.3440, g_loss: 9.7404 \n",
            "\n",
            "Epoch [665/1000], Step [25/25], d_loss: 1.3520, g_loss: 1.5759 \n",
            "\n",
            "Epoch [666/1000], Step [25/25], d_loss: 1.3634, g_loss: 0.8371 \n",
            "\n",
            "Epoch [667/1000], Step [25/25], d_loss: 1.3626, g_loss: 1.4360 \n",
            "\n",
            "Epoch [668/1000], Step [25/25], d_loss: 1.3654, g_loss: 1.6112 \n",
            "\n",
            "Epoch [669/1000], Step [25/25], d_loss: 1.3381, g_loss: 0.9297 \n",
            "\n",
            "Epoch [670/1000], Step [25/25], d_loss: 1.3521, g_loss: 0.8099 \n",
            "\n",
            "Epoch [671/1000], Step [25/25], d_loss: 1.3713, g_loss: 0.8355 \n",
            "\n",
            "Epoch [672/1000], Step [25/25], d_loss: 1.3136, g_loss: 0.8425 \n",
            "\n",
            "Epoch [673/1000], Step [25/25], d_loss: 1.3585, g_loss: 1.7252 \n",
            "\n",
            "Epoch [674/1000], Step [25/25], d_loss: 1.3643, g_loss: 1.0197 \n",
            "\n",
            "Epoch [675/1000], Step [25/25], d_loss: 1.5023, g_loss: 1.5400 \n",
            "\n",
            "Epoch [676/1000], Step [25/25], d_loss: 1.3066, g_loss: 0.8295 \n",
            "\n",
            "Epoch [677/1000], Step [25/25], d_loss: 1.4120, g_loss: 0.8122 \n",
            "\n",
            "Epoch [678/1000], Step [25/25], d_loss: 1.3676, g_loss: 0.8025 \n",
            "\n",
            "Epoch [679/1000], Step [25/25], d_loss: 1.3210, g_loss: 2.0748 \n",
            "\n",
            "Epoch [680/1000], Step [25/25], d_loss: 1.3128, g_loss: 2.0230 \n",
            "\n",
            "Epoch [681/1000], Step [25/25], d_loss: 1.3556, g_loss: 0.8133 \n",
            "\n",
            "Epoch [682/1000], Step [25/25], d_loss: 1.3512, g_loss: 2.4055 \n",
            "\n",
            "Epoch [683/1000], Step [25/25], d_loss: 1.3364, g_loss: 0.8295 \n",
            "\n",
            "Epoch [684/1000], Step [25/25], d_loss: 1.3412, g_loss: 1.4511 \n",
            "\n",
            "Epoch [685/1000], Step [25/25], d_loss: 1.3617, g_loss: 0.8277 \n",
            "\n",
            "Epoch [686/1000], Step [25/25], d_loss: 1.3707, g_loss: 0.8334 \n",
            "\n",
            "Epoch [687/1000], Step [25/25], d_loss: 1.3401, g_loss: 0.8166 \n",
            "\n",
            "Epoch [688/1000], Step [25/25], d_loss: 1.3536, g_loss: 0.8029 \n",
            "\n",
            "Epoch [689/1000], Step [25/25], d_loss: 1.3846, g_loss: 0.8125 \n",
            "\n",
            "Epoch [690/1000], Step [25/25], d_loss: 1.3689, g_loss: 0.8089 \n",
            "\n",
            "Epoch [691/1000], Step [25/25], d_loss: 1.3562, g_loss: 0.8034 \n",
            "\n",
            "Epoch [692/1000], Step [25/25], d_loss: 1.3518, g_loss: 0.8196 \n",
            "\n",
            "Epoch [693/1000], Step [25/25], d_loss: 1.3748, g_loss: 1.7561 \n",
            "\n",
            "Epoch [694/1000], Step [25/25], d_loss: 1.3553, g_loss: 0.8283 \n",
            "\n",
            "Epoch [695/1000], Step [25/25], d_loss: 1.3602, g_loss: 0.8758 \n",
            "\n",
            "Epoch [696/1000], Step [25/25], d_loss: 1.3320, g_loss: 0.8213 \n",
            "\n",
            "Epoch [697/1000], Step [25/25], d_loss: 1.3598, g_loss: 0.8116 \n",
            "\n",
            "Epoch [698/1000], Step [25/25], d_loss: 1.3509, g_loss: 0.8062 \n",
            "\n",
            "Epoch [699/1000], Step [25/25], d_loss: 1.3370, g_loss: 0.8247 \n",
            "\n",
            "Epoch [700/1000], Step [25/25], d_loss: 1.3760, g_loss: 3.2773 \n",
            "\n",
            "Epoch [701/1000], Step [25/25], d_loss: 1.3617, g_loss: 0.8201 \n",
            "\n",
            "Epoch [702/1000], Step [25/25], d_loss: 1.3057, g_loss: 0.7932 \n",
            "\n",
            "Epoch [703/1000], Step [25/25], d_loss: 1.3465, g_loss: 0.8070 \n",
            "\n",
            "Epoch [704/1000], Step [25/25], d_loss: 1.3548, g_loss: 0.8071 \n",
            "\n",
            "Epoch [705/1000], Step [25/25], d_loss: 1.3267, g_loss: 0.7985 \n",
            "\n",
            "Epoch [706/1000], Step [25/25], d_loss: 1.3637, g_loss: 0.7979 \n",
            "\n",
            "Epoch [707/1000], Step [25/25], d_loss: 1.3616, g_loss: 1.9994 \n",
            "\n",
            "Epoch [708/1000], Step [25/25], d_loss: 1.3598, g_loss: 0.8028 \n",
            "\n",
            "Epoch [709/1000], Step [25/25], d_loss: 1.4546, g_loss: 2.1138 \n",
            "\n",
            "Epoch [710/1000], Step [25/25], d_loss: 1.3617, g_loss: 0.7854 \n",
            "\n",
            "Epoch [711/1000], Step [25/25], d_loss: 1.3578, g_loss: 0.7932 \n",
            "\n",
            "Epoch [712/1000], Step [25/25], d_loss: 1.3740, g_loss: 1.3416 \n",
            "\n",
            "Epoch [713/1000], Step [25/25], d_loss: 1.3343, g_loss: 6.2551 \n",
            "\n",
            "Epoch [714/1000], Step [25/25], d_loss: 1.3622, g_loss: 0.7908 \n",
            "\n",
            "Epoch [715/1000], Step [25/25], d_loss: 1.3511, g_loss: 1.2265 \n",
            "\n",
            "Epoch [716/1000], Step [25/25], d_loss: 1.3765, g_loss: 1.7921 \n",
            "\n",
            "Epoch [717/1000], Step [25/25], d_loss: 1.3911, g_loss: 3.2561 \n",
            "\n",
            "Epoch [718/1000], Step [25/25], d_loss: 1.3557, g_loss: 0.8023 \n",
            "\n",
            "Epoch [719/1000], Step [25/25], d_loss: 1.3396, g_loss: 0.7945 \n",
            "\n",
            "Epoch [720/1000], Step [25/25], d_loss: 1.3525, g_loss: 1.0445 \n",
            "\n",
            "Epoch [721/1000], Step [25/25], d_loss: 1.3508, g_loss: 1.5006 \n",
            "\n",
            "Epoch [722/1000], Step [25/25], d_loss: 1.3552, g_loss: 0.7955 \n",
            "\n",
            "Epoch [723/1000], Step [25/25], d_loss: 1.3533, g_loss: 0.8116 \n",
            "\n",
            "Epoch [724/1000], Step [25/25], d_loss: 1.3482, g_loss: 2.8314 \n",
            "\n",
            "Epoch [725/1000], Step [25/25], d_loss: 1.3458, g_loss: 1.4090 \n",
            "\n",
            "Epoch [726/1000], Step [25/25], d_loss: 1.3762, g_loss: 0.7977 \n",
            "\n",
            "Epoch [727/1000], Step [25/25], d_loss: 1.3677, g_loss: 0.8003 \n",
            "\n",
            "Epoch [728/1000], Step [25/25], d_loss: 1.3225, g_loss: 0.7929 \n",
            "\n",
            "Epoch [729/1000], Step [25/25], d_loss: 1.4034, g_loss: 0.7965 \n",
            "\n",
            "Epoch [730/1000], Step [25/25], d_loss: 1.3639, g_loss: 0.7862 \n",
            "\n",
            "Epoch [731/1000], Step [25/25], d_loss: 1.3584, g_loss: 0.8024 \n",
            "\n",
            "Epoch [732/1000], Step [25/25], d_loss: 1.3239, g_loss: 0.8050 \n",
            "\n",
            "Epoch [733/1000], Step [25/25], d_loss: 1.3387, g_loss: 2.5579 \n",
            "\n",
            "Epoch [734/1000], Step [25/25], d_loss: 1.3391, g_loss: 0.7921 \n",
            "\n",
            "Epoch [735/1000], Step [25/25], d_loss: 1.3428, g_loss: 0.8109 \n",
            "\n",
            "Epoch [736/1000], Step [25/25], d_loss: 1.4078, g_loss: 1.6549 \n",
            "\n",
            "Epoch [737/1000], Step [25/25], d_loss: 1.3644, g_loss: 0.7863 \n",
            "\n",
            "Epoch [738/1000], Step [25/25], d_loss: 1.3504, g_loss: 0.7996 \n",
            "\n",
            "Epoch [739/1000], Step [25/25], d_loss: 1.3509, g_loss: 1.6514 \n",
            "\n",
            "Epoch [740/1000], Step [25/25], d_loss: 1.3666, g_loss: 0.7861 \n",
            "\n",
            "Epoch [741/1000], Step [25/25], d_loss: 1.3420, g_loss: 0.7897 \n",
            "\n",
            "Epoch [742/1000], Step [25/25], d_loss: 1.3634, g_loss: 2.9998 \n",
            "\n",
            "Epoch [743/1000], Step [25/25], d_loss: 1.3118, g_loss: 0.7771 \n",
            "\n",
            "Epoch [744/1000], Step [25/25], d_loss: 1.3477, g_loss: 0.7941 \n",
            "\n",
            "Epoch [745/1000], Step [25/25], d_loss: 1.3606, g_loss: 1.6385 \n",
            "\n",
            "Epoch [746/1000], Step [25/25], d_loss: 1.3579, g_loss: 1.5451 \n",
            "\n",
            "Epoch [747/1000], Step [25/25], d_loss: 1.3558, g_loss: 0.7945 \n",
            "\n",
            "Epoch [748/1000], Step [25/25], d_loss: 1.3584, g_loss: 0.7902 \n",
            "\n",
            "Epoch [749/1000], Step [25/25], d_loss: 1.3549, g_loss: 0.7796 \n",
            "\n",
            "Epoch [750/1000], Step [25/25], d_loss: 1.3432, g_loss: 1.7332 \n",
            "\n",
            "Epoch [751/1000], Step [25/25], d_loss: 1.3585, g_loss: 0.7979 \n",
            "\n",
            "Epoch [752/1000], Step [25/25], d_loss: 1.3934, g_loss: 2.0562 \n",
            "\n",
            "Epoch [753/1000], Step [25/25], d_loss: 1.3472, g_loss: 0.7918 \n",
            "\n",
            "Epoch [754/1000], Step [25/25], d_loss: 1.3411, g_loss: 0.7733 \n",
            "\n",
            "Epoch [755/1000], Step [25/25], d_loss: 1.3647, g_loss: 0.7877 \n",
            "\n",
            "Epoch [756/1000], Step [25/25], d_loss: 1.3621, g_loss: 2.5240 \n",
            "\n",
            "Epoch [757/1000], Step [25/25], d_loss: 1.3308, g_loss: 0.7922 \n",
            "\n",
            "Epoch [758/1000], Step [25/25], d_loss: 1.3684, g_loss: 0.7836 \n",
            "\n",
            "Epoch [759/1000], Step [25/25], d_loss: 1.3687, g_loss: 0.9643 \n",
            "\n",
            "Epoch [760/1000], Step [25/25], d_loss: 1.3504, g_loss: 2.0071 \n",
            "\n",
            "Epoch [761/1000], Step [25/25], d_loss: 1.3322, g_loss: 2.0843 \n",
            "\n",
            "Epoch [762/1000], Step [25/25], d_loss: 1.3364, g_loss: 0.7903 \n",
            "\n",
            "Epoch [763/1000], Step [25/25], d_loss: 1.3557, g_loss: 0.7879 \n",
            "\n",
            "Epoch [764/1000], Step [25/25], d_loss: 1.3407, g_loss: 1.2470 \n",
            "\n",
            "Epoch [765/1000], Step [25/25], d_loss: 1.3574, g_loss: 0.7875 \n",
            "\n",
            "Epoch [766/1000], Step [25/25], d_loss: 1.3467, g_loss: 1.2142 \n",
            "\n",
            "Epoch [767/1000], Step [25/25], d_loss: 1.3562, g_loss: 0.7877 \n",
            "\n",
            "Epoch [768/1000], Step [25/25], d_loss: 1.3154, g_loss: 0.7982 \n",
            "\n",
            "Epoch [769/1000], Step [25/25], d_loss: 1.3801, g_loss: 0.7880 \n",
            "\n",
            "Epoch [770/1000], Step [25/25], d_loss: 1.3686, g_loss: 0.7804 \n",
            "\n",
            "Epoch [771/1000], Step [25/25], d_loss: 1.3041, g_loss: 1.7675 \n",
            "\n",
            "Epoch [772/1000], Step [25/25], d_loss: 1.3447, g_loss: 2.2850 \n",
            "\n",
            "Epoch [773/1000], Step [25/25], d_loss: 1.3280, g_loss: 1.7048 \n",
            "\n",
            "Epoch [774/1000], Step [25/25], d_loss: 1.3215, g_loss: 0.8053 \n",
            "\n",
            "Epoch [775/1000], Step [25/25], d_loss: 1.3401, g_loss: 0.7895 \n",
            "\n",
            "Epoch [776/1000], Step [25/25], d_loss: 1.5187, g_loss: 1.5528 \n",
            "\n",
            "Epoch [777/1000], Step [25/25], d_loss: 1.3384, g_loss: 0.7843 \n",
            "\n",
            "Epoch [778/1000], Step [25/25], d_loss: 1.3461, g_loss: 1.8971 \n",
            "\n",
            "Epoch [779/1000], Step [25/25], d_loss: 1.3281, g_loss: 2.8344 \n",
            "\n",
            "Epoch [780/1000], Step [25/25], d_loss: 1.3581, g_loss: 1.6816 \n",
            "\n",
            "Epoch [781/1000], Step [25/25], d_loss: 1.3583, g_loss: 0.7901 \n",
            "\n",
            "Epoch [782/1000], Step [25/25], d_loss: 1.3563, g_loss: 0.7821 \n",
            "\n",
            "Epoch [783/1000], Step [25/25], d_loss: 1.3573, g_loss: 0.7971 \n",
            "\n",
            "Epoch [784/1000], Step [25/25], d_loss: 1.3767, g_loss: 1.6207 \n",
            "\n",
            "Epoch [785/1000], Step [25/25], d_loss: 1.3303, g_loss: 0.7805 \n",
            "\n",
            "Epoch [786/1000], Step [25/25], d_loss: 1.4735, g_loss: 0.7758 \n",
            "\n",
            "Epoch [787/1000], Step [25/25], d_loss: 1.3545, g_loss: 0.7782 \n",
            "\n",
            "Epoch [788/1000], Step [25/25], d_loss: 1.3572, g_loss: 0.7798 \n",
            "\n",
            "Epoch [789/1000], Step [25/25], d_loss: 1.3725, g_loss: 0.8683 \n",
            "\n",
            "Epoch [790/1000], Step [25/25], d_loss: 1.3422, g_loss: 1.2102 \n",
            "\n",
            "Epoch [791/1000], Step [25/25], d_loss: 1.3558, g_loss: 0.7731 \n",
            "\n",
            "Epoch [792/1000], Step [25/25], d_loss: 1.3331, g_loss: 2.6114 \n",
            "\n",
            "Epoch [793/1000], Step [25/25], d_loss: 1.3509, g_loss: 0.7740 \n",
            "\n",
            "Epoch [794/1000], Step [25/25], d_loss: 1.3152, g_loss: 0.7708 \n",
            "\n",
            "Epoch [795/1000], Step [25/25], d_loss: 1.3439, g_loss: 0.7739 \n",
            "\n",
            "Epoch [796/1000], Step [25/25], d_loss: 1.3419, g_loss: 0.7858 \n",
            "\n",
            "Epoch [797/1000], Step [25/25], d_loss: 1.3547, g_loss: 0.7851 \n",
            "\n",
            "Epoch [798/1000], Step [25/25], d_loss: 1.3489, g_loss: 2.4294 \n",
            "\n",
            "Epoch [799/1000], Step [25/25], d_loss: 1.3488, g_loss: 0.7796 \n",
            "\n",
            "Epoch [800/1000], Step [25/25], d_loss: 1.3763, g_loss: 0.7586 \n",
            "\n",
            "Epoch [801/1000], Step [25/25], d_loss: 1.3637, g_loss: 0.7625 \n",
            "\n",
            "Epoch [802/1000], Step [25/25], d_loss: 1.3757, g_loss: 0.7751 \n",
            "\n",
            "Epoch [803/1000], Step [25/25], d_loss: 1.3589, g_loss: 0.7823 \n",
            "\n",
            "Epoch [804/1000], Step [25/25], d_loss: 1.3409, g_loss: 0.7852 \n",
            "\n",
            "Epoch [805/1000], Step [25/25], d_loss: 1.3510, g_loss: 0.7854 \n",
            "\n",
            "Epoch [806/1000], Step [25/25], d_loss: 1.3214, g_loss: 0.7770 \n",
            "\n",
            "Epoch [807/1000], Step [25/25], d_loss: 1.3527, g_loss: 0.7851 \n",
            "\n",
            "Epoch [808/1000], Step [25/25], d_loss: 1.3556, g_loss: 0.7761 \n",
            "\n",
            "Epoch [809/1000], Step [25/25], d_loss: 1.3660, g_loss: 2.1648 \n",
            "\n",
            "Epoch [810/1000], Step [25/25], d_loss: 1.3273, g_loss: 0.7688 \n",
            "\n",
            "Epoch [811/1000], Step [25/25], d_loss: 1.3497, g_loss: 1.2936 \n",
            "\n",
            "Epoch [812/1000], Step [25/25], d_loss: 1.3810, g_loss: 0.7593 \n",
            "\n",
            "Epoch [813/1000], Step [25/25], d_loss: 1.3410, g_loss: 0.7585 \n",
            "\n",
            "Epoch [814/1000], Step [25/25], d_loss: 1.3401, g_loss: 0.7341 \n",
            "\n",
            "Epoch [815/1000], Step [25/25], d_loss: 1.3658, g_loss: 1.0138 \n",
            "\n",
            "Epoch [816/1000], Step [25/25], d_loss: 1.3597, g_loss: 0.7760 \n",
            "\n",
            "Epoch [817/1000], Step [25/25], d_loss: 1.3395, g_loss: 0.7624 \n",
            "\n",
            "Epoch [818/1000], Step [25/25], d_loss: 1.3236, g_loss: 0.7762 \n",
            "\n",
            "Epoch [819/1000], Step [25/25], d_loss: 1.3754, g_loss: 0.8187 \n",
            "\n",
            "Epoch [820/1000], Step [25/25], d_loss: 1.3455, g_loss: 0.9043 \n",
            "\n",
            "Epoch [821/1000], Step [25/25], d_loss: 1.3366, g_loss: 0.7474 \n",
            "\n",
            "Epoch [822/1000], Step [25/25], d_loss: 1.3569, g_loss: 0.7719 \n",
            "\n",
            "Epoch [823/1000], Step [25/25], d_loss: 1.3484, g_loss: 0.7767 \n",
            "\n",
            "Epoch [824/1000], Step [25/25], d_loss: 1.3667, g_loss: 0.8020 \n",
            "\n",
            "Epoch [825/1000], Step [25/25], d_loss: 1.3822, g_loss: 0.7646 \n",
            "\n",
            "Epoch [826/1000], Step [25/25], d_loss: 1.3567, g_loss: 0.7714 \n",
            "\n",
            "Epoch [827/1000], Step [25/25], d_loss: 1.3602, g_loss: 1.8867 \n",
            "\n",
            "Epoch [828/1000], Step [25/25], d_loss: 1.5311, g_loss: 0.7559 \n",
            "\n",
            "Epoch [829/1000], Step [25/25], d_loss: 1.3391, g_loss: 0.7800 \n",
            "\n",
            "Epoch [830/1000], Step [25/25], d_loss: 1.3663, g_loss: 3.1631 \n",
            "\n",
            "Epoch [831/1000], Step [25/25], d_loss: 1.3402, g_loss: 0.7651 \n",
            "\n",
            "Epoch [832/1000], Step [25/25], d_loss: 1.3556, g_loss: 0.7647 \n",
            "\n",
            "Epoch [833/1000], Step [25/25], d_loss: 1.3175, g_loss: 0.7593 \n",
            "\n",
            "Epoch [834/1000], Step [25/25], d_loss: 1.3309, g_loss: 0.7700 \n",
            "\n",
            "Epoch [835/1000], Step [25/25], d_loss: 1.3583, g_loss: 0.7790 \n",
            "\n",
            "Epoch [836/1000], Step [25/25], d_loss: 1.3758, g_loss: 0.7743 \n",
            "\n",
            "Epoch [837/1000], Step [25/25], d_loss: 1.3683, g_loss: 1.1022 \n",
            "\n",
            "Epoch [838/1000], Step [25/25], d_loss: 1.3667, g_loss: 0.7932 \n",
            "\n",
            "Epoch [839/1000], Step [25/25], d_loss: 1.3317, g_loss: 2.4220 \n",
            "\n",
            "Epoch [840/1000], Step [25/25], d_loss: 1.3279, g_loss: 1.5231 \n",
            "\n",
            "Epoch [841/1000], Step [25/25], d_loss: 1.3539, g_loss: 0.7681 \n",
            "\n",
            "Epoch [842/1000], Step [25/25], d_loss: 1.3513, g_loss: 0.7738 \n",
            "\n",
            "Epoch [843/1000], Step [25/25], d_loss: 1.3671, g_loss: 0.7735 \n",
            "\n",
            "Epoch [844/1000], Step [25/25], d_loss: 1.3392, g_loss: 0.9797 \n",
            "\n",
            "Epoch [845/1000], Step [25/25], d_loss: 1.3373, g_loss: 0.7798 \n",
            "\n",
            "Epoch [846/1000], Step [25/25], d_loss: 1.3298, g_loss: 2.3466 \n",
            "\n",
            "Epoch [847/1000], Step [25/25], d_loss: 1.3385, g_loss: 0.7741 \n",
            "\n",
            "Epoch [848/1000], Step [25/25], d_loss: 1.3509, g_loss: 0.7687 \n",
            "\n",
            "Epoch [849/1000], Step [25/25], d_loss: 1.3454, g_loss: 0.7564 \n",
            "\n",
            "Epoch [850/1000], Step [25/25], d_loss: 1.3299, g_loss: 0.7569 \n",
            "\n",
            "Epoch [851/1000], Step [25/25], d_loss: 1.3417, g_loss: 2.1516 \n",
            "\n",
            "Epoch [852/1000], Step [25/25], d_loss: 1.4910, g_loss: 0.7633 \n",
            "\n",
            "Epoch [853/1000], Step [25/25], d_loss: 1.3405, g_loss: 0.7677 \n",
            "\n",
            "Epoch [854/1000], Step [25/25], d_loss: 1.3493, g_loss: 0.7693 \n",
            "\n",
            "Epoch [855/1000], Step [25/25], d_loss: 1.3545, g_loss: 2.1390 \n",
            "\n",
            "Epoch [856/1000], Step [25/25], d_loss: 1.3642, g_loss: 0.8925 \n",
            "\n",
            "Epoch [857/1000], Step [25/25], d_loss: 1.3634, g_loss: 0.7471 \n",
            "\n",
            "Epoch [858/1000], Step [25/25], d_loss: 1.3888, g_loss: 1.7736 \n",
            "\n",
            "Epoch [859/1000], Step [25/25], d_loss: 1.3482, g_loss: 0.7716 \n",
            "\n",
            "Epoch [860/1000], Step [25/25], d_loss: 1.3807, g_loss: 1.1289 \n",
            "\n",
            "Epoch [861/1000], Step [25/25], d_loss: 1.3665, g_loss: 0.7708 \n",
            "\n",
            "Epoch [862/1000], Step [25/25], d_loss: 1.3382, g_loss: 0.7780 \n",
            "\n",
            "Epoch [863/1000], Step [25/25], d_loss: 1.3281, g_loss: 0.7758 \n",
            "\n",
            "Epoch [864/1000], Step [25/25], d_loss: 1.3386, g_loss: 3.8232 \n",
            "\n",
            "Epoch [865/1000], Step [25/25], d_loss: 1.3663, g_loss: 0.7476 \n",
            "\n",
            "Epoch [866/1000], Step [25/25], d_loss: 1.3564, g_loss: 0.7653 \n",
            "\n",
            "Epoch [867/1000], Step [25/25], d_loss: 1.3479, g_loss: 1.6352 \n",
            "\n",
            "Epoch [868/1000], Step [25/25], d_loss: 1.3768, g_loss: 1.7583 \n",
            "\n",
            "Epoch [869/1000], Step [25/25], d_loss: 1.3478, g_loss: 0.7706 \n",
            "\n",
            "Epoch [870/1000], Step [25/25], d_loss: 1.3479, g_loss: 1.6458 \n",
            "\n",
            "Epoch [871/1000], Step [25/25], d_loss: 1.3598, g_loss: 1.2827 \n",
            "\n",
            "Epoch [872/1000], Step [25/25], d_loss: 1.3042, g_loss: 1.7907 \n",
            "\n",
            "Epoch [873/1000], Step [25/25], d_loss: 1.3423, g_loss: 1.9851 \n",
            "\n",
            "Epoch [874/1000], Step [25/25], d_loss: 1.3696, g_loss: 1.1371 \n",
            "\n",
            "Epoch [875/1000], Step [25/25], d_loss: 1.3194, g_loss: 0.7599 \n",
            "\n",
            "Epoch [876/1000], Step [25/25], d_loss: 1.3651, g_loss: 0.7517 \n",
            "\n",
            "Epoch [877/1000], Step [25/25], d_loss: 1.3564, g_loss: 0.7599 \n",
            "\n",
            "Epoch [878/1000], Step [25/25], d_loss: 1.3456, g_loss: 0.7690 \n",
            "\n",
            "Epoch [879/1000], Step [25/25], d_loss: 1.3463, g_loss: 0.7605 \n",
            "\n",
            "Epoch [880/1000], Step [25/25], d_loss: 1.3670, g_loss: 0.7692 \n",
            "\n",
            "Epoch [881/1000], Step [25/25], d_loss: 1.3584, g_loss: 2.2302 \n",
            "\n",
            "Epoch [882/1000], Step [25/25], d_loss: 1.3572, g_loss: 0.7735 \n",
            "\n",
            "Epoch [883/1000], Step [25/25], d_loss: 1.3516, g_loss: 1.5398 \n",
            "\n",
            "Epoch [884/1000], Step [25/25], d_loss: 1.3652, g_loss: 1.5577 \n",
            "\n",
            "Epoch [885/1000], Step [25/25], d_loss: 1.3157, g_loss: 0.7707 \n",
            "\n",
            "Epoch [886/1000], Step [25/25], d_loss: 1.3490, g_loss: 0.7671 \n",
            "\n",
            "Epoch [887/1000], Step [25/25], d_loss: 1.3620, g_loss: 2.2736 \n",
            "\n",
            "Epoch [888/1000], Step [25/25], d_loss: 1.3255, g_loss: 0.7733 \n",
            "\n",
            "Epoch [889/1000], Step [25/25], d_loss: 1.4466, g_loss: 0.7694 \n",
            "\n",
            "Epoch [890/1000], Step [25/25], d_loss: 1.3466, g_loss: 1.6041 \n",
            "\n",
            "Epoch [891/1000], Step [25/25], d_loss: 1.3436, g_loss: 0.7747 \n",
            "\n",
            "Epoch [892/1000], Step [25/25], d_loss: 1.3800, g_loss: 0.7684 \n",
            "\n",
            "Epoch [893/1000], Step [25/25], d_loss: 1.3440, g_loss: 0.7590 \n",
            "\n",
            "Epoch [894/1000], Step [25/25], d_loss: 1.3740, g_loss: 0.7554 \n",
            "\n",
            "Epoch [895/1000], Step [25/25], d_loss: 1.3261, g_loss: 0.7603 \n",
            "\n",
            "Epoch [896/1000], Step [25/25], d_loss: 1.3568, g_loss: 0.7580 \n",
            "\n",
            "Epoch [897/1000], Step [25/25], d_loss: 1.3568, g_loss: 1.8048 \n",
            "\n",
            "Epoch [898/1000], Step [25/25], d_loss: 1.3481, g_loss: 2.2166 \n",
            "\n",
            "Epoch [899/1000], Step [25/25], d_loss: 1.3672, g_loss: 0.7668 \n",
            "\n",
            "Epoch [900/1000], Step [25/25], d_loss: 1.3598, g_loss: 2.7328 \n",
            "\n",
            "Epoch [901/1000], Step [25/25], d_loss: 1.3478, g_loss: 1.1443 \n",
            "\n",
            "Epoch [902/1000], Step [25/25], d_loss: 1.3728, g_loss: 2.1337 \n",
            "\n",
            "Epoch [903/1000], Step [25/25], d_loss: 1.3117, g_loss: 0.7558 \n",
            "\n",
            "Epoch [904/1000], Step [25/25], d_loss: 1.3339, g_loss: 0.7562 \n",
            "\n",
            "Epoch [905/1000], Step [25/25], d_loss: 1.3694, g_loss: 1.2495 \n",
            "\n",
            "Epoch [906/1000], Step [25/25], d_loss: 1.3407, g_loss: 0.7564 \n",
            "\n",
            "Epoch [907/1000], Step [25/25], d_loss: 1.3412, g_loss: 0.7581 \n",
            "\n",
            "Epoch [908/1000], Step [25/25], d_loss: 1.3361, g_loss: 2.3612 \n",
            "\n",
            "Epoch [909/1000], Step [25/25], d_loss: 1.3268, g_loss: 2.6570 \n",
            "\n",
            "Epoch [910/1000], Step [25/25], d_loss: 1.3789, g_loss: 0.7650 \n",
            "\n",
            "Epoch [911/1000], Step [25/25], d_loss: 1.3691, g_loss: 1.4861 \n",
            "\n",
            "Epoch [912/1000], Step [25/25], d_loss: 1.3553, g_loss: 3.5946 \n",
            "\n",
            "Epoch [913/1000], Step [25/25], d_loss: 1.3390, g_loss: 2.7768 \n",
            "\n",
            "Epoch [914/1000], Step [25/25], d_loss: 1.3702, g_loss: 0.7777 \n",
            "\n",
            "Epoch [915/1000], Step [25/25], d_loss: 1.3671, g_loss: 0.7635 \n",
            "\n",
            "Epoch [916/1000], Step [25/25], d_loss: 1.3555, g_loss: 0.7524 \n",
            "\n",
            "Epoch [917/1000], Step [25/25], d_loss: 1.3590, g_loss: 0.7478 \n",
            "\n",
            "Epoch [918/1000], Step [25/25], d_loss: 1.3766, g_loss: 2.0772 \n",
            "\n",
            "Epoch [919/1000], Step [25/25], d_loss: 1.3384, g_loss: 1.1632 \n",
            "\n",
            "Epoch [920/1000], Step [25/25], d_loss: 1.3670, g_loss: 2.4266 \n",
            "\n",
            "Epoch [921/1000], Step [25/25], d_loss: 1.3752, g_loss: 3.5047 \n",
            "\n",
            "Epoch [922/1000], Step [25/25], d_loss: 1.3704, g_loss: 1.9320 \n",
            "\n",
            "Epoch [923/1000], Step [25/25], d_loss: 1.3292, g_loss: 0.7639 \n",
            "\n",
            "Epoch [924/1000], Step [25/25], d_loss: 1.3560, g_loss: 0.7724 \n",
            "\n",
            "Epoch [925/1000], Step [25/25], d_loss: 1.3770, g_loss: 1.9385 \n",
            "\n",
            "Epoch [926/1000], Step [25/25], d_loss: 1.3562, g_loss: 0.7724 \n",
            "\n",
            "Epoch [927/1000], Step [25/25], d_loss: 1.3573, g_loss: 0.7660 \n",
            "\n",
            "Epoch [928/1000], Step [25/25], d_loss: 1.3457, g_loss: 0.7586 \n",
            "\n",
            "Epoch [929/1000], Step [25/25], d_loss: 1.3591, g_loss: 0.7533 \n",
            "\n",
            "Epoch [930/1000], Step [25/25], d_loss: 1.3534, g_loss: 0.7381 \n",
            "\n",
            "Epoch [931/1000], Step [25/25], d_loss: 1.3799, g_loss: 0.7560 \n",
            "\n",
            "Epoch [932/1000], Step [25/25], d_loss: 1.3593, g_loss: 0.7578 \n",
            "\n",
            "Epoch [933/1000], Step [25/25], d_loss: 1.3208, g_loss: 0.7654 \n",
            "\n",
            "Epoch [934/1000], Step [25/25], d_loss: 1.3574, g_loss: 2.8255 \n",
            "\n",
            "Epoch [935/1000], Step [25/25], d_loss: 1.3296, g_loss: 2.1326 \n",
            "\n",
            "Epoch [936/1000], Step [25/25], d_loss: 1.3550, g_loss: 0.7803 \n",
            "\n",
            "Epoch [937/1000], Step [25/25], d_loss: 1.3455, g_loss: 1.1167 \n",
            "\n",
            "Epoch [938/1000], Step [25/25], d_loss: 1.3423, g_loss: 4.0341 \n",
            "\n",
            "Epoch [939/1000], Step [25/25], d_loss: 1.3685, g_loss: 0.7661 \n",
            "\n",
            "Epoch [940/1000], Step [25/25], d_loss: 1.3379, g_loss: 0.7629 \n",
            "\n",
            "Epoch [941/1000], Step [25/25], d_loss: 1.3271, g_loss: 0.7714 \n",
            "\n",
            "Epoch [942/1000], Step [25/25], d_loss: 1.3585, g_loss: 1.3492 \n",
            "\n",
            "Epoch [943/1000], Step [25/25], d_loss: 1.3648, g_loss: 0.7614 \n",
            "\n",
            "Epoch [944/1000], Step [25/25], d_loss: 1.3481, g_loss: 0.7624 \n",
            "\n",
            "Epoch [945/1000], Step [25/25], d_loss: 1.3407, g_loss: 2.6970 \n",
            "\n",
            "Epoch [946/1000], Step [25/25], d_loss: 1.3665, g_loss: 0.7524 \n",
            "\n",
            "Epoch [947/1000], Step [25/25], d_loss: 1.3170, g_loss: 0.8463 \n",
            "\n",
            "Epoch [948/1000], Step [25/25], d_loss: 1.3675, g_loss: 2.1182 \n",
            "\n",
            "Epoch [949/1000], Step [25/25], d_loss: 1.3260, g_loss: 1.8629 \n",
            "\n",
            "Epoch [950/1000], Step [25/25], d_loss: 1.3656, g_loss: 0.7494 \n",
            "\n",
            "Epoch [951/1000], Step [25/25], d_loss: 1.3394, g_loss: 6.5421 \n",
            "\n",
            "Epoch [952/1000], Step [25/25], d_loss: 1.3529, g_loss: 3.5349 \n",
            "\n",
            "Epoch [953/1000], Step [25/25], d_loss: 1.7392, g_loss: 0.7494 \n",
            "\n",
            "Epoch [954/1000], Step [25/25], d_loss: 1.3435, g_loss: 2.0889 \n",
            "\n",
            "Epoch [955/1000], Step [25/25], d_loss: 1.3241, g_loss: 0.7598 \n",
            "\n",
            "Epoch [956/1000], Step [25/25], d_loss: 1.3620, g_loss: 0.7530 \n",
            "\n",
            "Epoch [957/1000], Step [25/25], d_loss: 1.3498, g_loss: 0.7585 \n",
            "\n",
            "Epoch [958/1000], Step [25/25], d_loss: 1.3069, g_loss: 0.7605 \n",
            "\n",
            "Epoch [959/1000], Step [25/25], d_loss: 1.3691, g_loss: 0.7612 \n",
            "\n",
            "Epoch [960/1000], Step [25/25], d_loss: 1.3705, g_loss: 2.5075 \n",
            "\n",
            "Epoch [961/1000], Step [25/25], d_loss: 1.3719, g_loss: 2.9251 \n",
            "\n",
            "Epoch [962/1000], Step [25/25], d_loss: 1.4125, g_loss: 0.7666 \n",
            "\n",
            "Epoch [963/1000], Step [25/25], d_loss: 1.3202, g_loss: 0.7569 \n",
            "\n",
            "Epoch [964/1000], Step [25/25], d_loss: 1.3617, g_loss: 2.1682 \n",
            "\n",
            "Epoch [965/1000], Step [25/25], d_loss: 1.3658, g_loss: 0.7659 \n",
            "\n",
            "Epoch [966/1000], Step [25/25], d_loss: 1.3577, g_loss: 0.7534 \n",
            "\n",
            "Epoch [967/1000], Step [25/25], d_loss: 1.3588, g_loss: 0.7569 \n",
            "\n",
            "Epoch [968/1000], Step [25/25], d_loss: 1.4067, g_loss: 1.1773 \n",
            "\n",
            "Epoch [969/1000], Step [25/25], d_loss: 1.3370, g_loss: 0.8305 \n",
            "\n",
            "Epoch [970/1000], Step [25/25], d_loss: 1.3736, g_loss: 0.7765 \n",
            "\n",
            "Epoch [971/1000], Step [25/25], d_loss: 1.3705, g_loss: 0.7782 \n",
            "\n",
            "Epoch [972/1000], Step [25/25], d_loss: 1.3544, g_loss: 1.8495 \n",
            "\n",
            "Epoch [973/1000], Step [25/25], d_loss: 1.3658, g_loss: 0.7809 \n",
            "\n",
            "Epoch [974/1000], Step [25/25], d_loss: 1.3659, g_loss: 4.2367 \n",
            "\n",
            "Epoch [975/1000], Step [25/25], d_loss: 1.5046, g_loss: 0.7677 \n",
            "\n",
            "Epoch [976/1000], Step [25/25], d_loss: 1.3579, g_loss: 0.7608 \n",
            "\n",
            "Epoch [977/1000], Step [25/25], d_loss: 1.3687, g_loss: 0.7665 \n",
            "\n",
            "Epoch [978/1000], Step [25/25], d_loss: 1.3526, g_loss: 0.7711 \n",
            "\n",
            "Epoch [979/1000], Step [25/25], d_loss: 1.3404, g_loss: 0.7558 \n",
            "\n",
            "Epoch [980/1000], Step [25/25], d_loss: 1.3737, g_loss: 0.7525 \n",
            "\n",
            "Epoch [981/1000], Step [25/25], d_loss: 1.3178, g_loss: 0.7572 \n",
            "\n",
            "Epoch [982/1000], Step [25/25], d_loss: 1.3690, g_loss: 2.3111 \n",
            "\n",
            "Epoch [983/1000], Step [25/25], d_loss: 1.3288, g_loss: 0.7650 \n",
            "\n",
            "Epoch [984/1000], Step [25/25], d_loss: 1.3549, g_loss: 0.7593 \n",
            "\n",
            "Epoch [985/1000], Step [25/25], d_loss: 1.3504, g_loss: 0.7496 \n",
            "\n",
            "Epoch [986/1000], Step [25/25], d_loss: 1.3744, g_loss: 2.9912 \n",
            "\n",
            "Epoch [987/1000], Step [25/25], d_loss: 1.3537, g_loss: 0.7545 \n",
            "\n",
            "Epoch [988/1000], Step [25/25], d_loss: 1.3595, g_loss: 0.7481 \n",
            "\n",
            "Epoch [989/1000], Step [25/25], d_loss: 1.3527, g_loss: 1.3557 \n",
            "\n",
            "Epoch [990/1000], Step [25/25], d_loss: 1.3540, g_loss: 0.7608 \n",
            "\n",
            "Epoch [991/1000], Step [25/25], d_loss: 1.3639, g_loss: 0.7702 \n",
            "\n",
            "Epoch [992/1000], Step [25/25], d_loss: 1.3477, g_loss: 0.7682 \n",
            "\n",
            "Epoch [993/1000], Step [25/25], d_loss: 1.3472, g_loss: 1.8430 \n",
            "\n",
            "Epoch [994/1000], Step [25/25], d_loss: 1.3173, g_loss: 0.7611 \n",
            "\n",
            "Epoch [995/1000], Step [25/25], d_loss: 1.3572, g_loss: 0.7639 \n",
            "\n",
            "Epoch [996/1000], Step [25/25], d_loss: 1.3766, g_loss: 0.7608 \n",
            "\n",
            "Epoch [997/1000], Step [25/25], d_loss: 1.3586, g_loss: 3.5072 \n",
            "\n",
            "Epoch [998/1000], Step [25/25], d_loss: 1.3611, g_loss: 2.2660 \n",
            "\n",
            "Epoch [999/1000], Step [25/25], d_loss: 1.3381, g_loss: 2.8528 \n",
            "\n",
            "Epoch [1000/1000], Step [25/25], d_loss: 1.3390, g_loss: 2.4840 \n",
            "\n"
          ]
        }
      ],
      "source": [
        "losses_gen, losses_dis = gan.train(df_train, epochs=1000)"
      ]
    },
    {
      "cell_type": "code",
      "execution_count": 12,
      "metadata": {
        "colab": {
          "base_uri": "https://localhost:8080/",
          "height": 487
        },
        "id": "KTG2JvN9NMod",
        "outputId": "51e207ae-d08c-4fde-d054-507e81a24c2b"
      },
      "outputs": [
        {
          "output_type": "display_data",
          "data": {
            "text/plain": [
              "<Figure size 1000x500 with 1 Axes>"
            ],
            "image/png": "[encoded data removed]"
          },
          "metadata": {}
        }
      ],
      "source": [
        "def plot_losses(losses_gen, losses_dis):\n",
        "    plt.figure(figsize=(10,5))\n",
        "    plt.title(\"Generator and Discriminator Loss During Training\")\n",
        "\n",
        "    #convert losses into numpy\n",
        "    losses_gen = [i.cpu().detach().numpy() for i in losses_gen]\n",
        "    losses_dis = [i.cpu().detach().numpy() for i in losses_dis]\n",
        "    plt.plot(losses_gen,label=\"Generator\")\n",
        "    plt.plot(losses_dis,label=\"Discriminator\")\n",
        "    plt.xlabel(\"iterations\") #Epochs * Steps\n",
        "    plt.ylabel(\"Loss\")\n",
        "    plt.legend()\n",
        "    plt.show()\n",
        "\n",
        "plot_losses(losses_gen, losses_dis)"
      ]
    },
    {
      "cell_type": "code",
      "execution_count": 13,
      "metadata": {
        "id": "iQcq2uyUNMod"
      },
      "outputs": [],
      "source": [
        "#define the device\n",
        "device = torch.device('cuda:0' if torch.cuda.is_available() else 'cpu')\n",
        "\n",
        "sample_number = df_train[df_train['Class'] == 0].shape[0]\n",
        "gan_samples = gan.sample(sample_number)\n",
        "samples_test = np.append(gan_samples, np.ones((sample_number, 1)), axis=1)\n",
        "gan_df = pd.DataFrame(samples_test, columns=df_train.columns)\n",
        "#concat wgan_df with df_train\n",
        "df_concat = pd.concat([df_train, gan_df], ignore_index=True)"
      ]
    },
    {
      "cell_type": "code",
      "execution_count": 14,
      "metadata": {
        "colab": {
          "base_uri": "https://localhost:8080/",
          "height": 255
        },
        "id": "MhRXoMCYNMod",
        "outputId": "bde6a54c-6e11-4f00-bdb9-dfe5a4dd0ef6"
      },
      "outputs": [
        {
          "output_type": "execute_result",
          "data": {
            "text/plain": [
              "            Time        V1        V2        V3        V4        V5        V6  \\\n",
              "223361  143352.0  1.955041 -0.380783 -0.315013  0.330155 -0.509374 -0.086197   \n",
              "165061  117173.0 -0.400975 -0.626943  1.555339 -2.017772 -0.107769  0.168310   \n",
              "238186  149565.0  0.072509  0.820566 -0.561351 -0.709897  1.080399 -0.359429   \n",
              "150562   93670.0 -0.535045  1.014587  1.750679  2.769390  0.500089  1.002270   \n",
              "138452   82655.0 -4.026938  1.897371 -0.429786 -0.029571 -0.855751 -0.480406   \n",
              "\n",
              "              V7        V8        V9  ...       V21       V22       V23  \\\n",
              "223361 -0.627978  0.035994  1.054560  ...  0.238197  0.968305  0.053208   \n",
              "165061  0.017959 -0.401619  0.040378  ... -0.153485  0.421703  0.113442   \n",
              "238186  0.787858  0.117276 -0.131275  ... -0.314638 -0.872959  0.083391   \n",
              "150562  0.847902 -0.081323  0.371579  ...  0.063525  0.443431 -0.072754   \n",
              "138452 -0.435632  1.313760  0.536044  ... -0.480691 -0.230369  0.250717   \n",
              "\n",
              "             V24       V25       V26       V27       V28  Amount  Class  \n",
              "223361 -0.278602 -0.044999 -0.216780  0.045168 -0.047145    9.99      0  \n",
              "165061 -1.004095 -1.176695  0.361924 -0.370469 -0.144792   45.90      0  \n",
              "238186  0.148178 -0.431459  0.119690  0.206395  0.070288   11.99      0  \n",
              "150562  0.448192 -0.655203 -0.181038 -0.093013 -0.064931  117.44      0  \n",
              "138452  0.066399  0.470787  0.245335  0.286904 -0.322672   25.76      0  \n",
              "\n",
              "[5 rows x 31 columns]"
            ],
            "text/html": [
              "\n",
              "  <div id=\"df-b3fadbd9-d14e-4a55-bad2-903f808455d0\" class=\"colab-df-container\">\n",
              "    <div>\n",
              "<style scoped>\n",
              "    .dataframe tbody tr th:only-of-type {\n",
              "        vertical-align: middle;\n",
              "    }\n",
              "\n",
              "    .dataframe tbody tr th {\n",
              "        vertical-align: top;\n",
              "    }\n",
              "\n",
              "    .dataframe thead th {\n",
              "        text-align: right;\n",
              "    }\n",
              "</style>\n",
              "<table border=\"1\" class=\"dataframe\">\n",
              "  <thead>\n",
              "    <tr style=\"text-align: right;\">\n",
              "      <th></th>\n",
              "      <th>Time</th>\n",
              "      <th>V1</th>\n",
              "      <th>V2</th>\n",
              "      <th>V3</th>\n",
              "      <th>V4</th>\n",
              "      <th>V5</th>\n",
              "      <th>V6</th>\n",
              "      <th>V7</th>\n",
              "      <th>V8</th>\n",
              "      <th>V9</th>\n",
              "      <th>...</th>\n",
              "      <th>V21</th>\n",
              "      <th>V22</th>\n",
              "      <th>V23</th>\n",
              "      <th>V24</th>\n",
              "      <th>V25</th>\n",
              "      <th>V26</th>\n",
              "      <th>V27</th>\n",
              "      <th>V28</th>\n",
              "      <th>Amount</th>\n",
              "      <th>Class</th>\n",
              "    </tr>\n",
              "  </thead>\n",
              "  <tbody>\n",
              "    <tr>\n",
              "      <th>223361</th>\n",
              "      <td>143352.0</td>\n",
              "      <td>1.955041</td>\n",
              "      <td>-0.380783</td>\n",
              "      <td>-0.315013</td>\n",
              "      <td>0.330155</td>\n",
              "      <td>-0.509374</td>\n",
              "      <td>-0.086197</td>\n",
              "      <td>-0.627978</td>\n",
              "      <td>0.035994</td>\n",
              "      <td>1.054560</td>\n",
              "      <td>...</td>\n",
              "      <td>0.238197</td>\n",
              "      <td>0.968305</td>\n",
              "      <td>0.053208</td>\n",
              "      <td>-0.278602</td>\n",
              "      <td>-0.044999</td>\n",
              "      <td>-0.216780</td>\n",
              "      <td>0.045168</td>\n",
              "      <td>-0.047145</td>\n",
              "      <td>9.99</td>\n",
              "      <td>0</td>\n",
              "    </tr>\n",
              "    <tr>\n",
              "      <th>165061</th>\n",
              "      <td>117173.0</td>\n",
              "      <td>-0.400975</td>\n",
              "      <td>-0.626943</td>\n",
              "      <td>1.555339</td>\n",
              "      <td>-2.017772</td>\n",
              "      <td>-0.107769</td>\n",
              "      <td>0.168310</td>\n",
              "      <td>0.017959</td>\n",
              "      <td>-0.401619</td>\n",
              "      <td>0.040378</td>\n",
              "      <td>...</td>\n",
              "      <td>-0.153485</td>\n",
              "      <td>0.421703</td>\n",
              "      <td>0.113442</td>\n",
              "      <td>-1.004095</td>\n",
              "      <td>-1.176695</td>\n",
              "      <td>0.361924</td>\n",
              "      <td>-0.370469</td>\n",
              "      <td>-0.144792</td>\n",
              "      <td>45.90</td>\n",
              "      <td>0</td>\n",
              "    </tr>\n",
              "    <tr>\n",
              "      <th>238186</th>\n",
              "      <td>149565.0</td>\n",
              "      <td>0.072509</td>\n",
              "      <td>0.820566</td>\n",
              "      <td>-0.561351</td>\n",
              "      <td>-0.709897</td>\n",
              "      <td>1.080399</td>\n",
              "      <td>-0.359429</td>\n",
              "      <td>0.787858</td>\n",
              "      <td>0.117276</td>\n",
              "      <td>-0.131275</td>\n",
              "      <td>...</td>\n",
              "      <td>-0.314638</td>\n",
              "      <td>-0.872959</td>\n",
              "      <td>0.083391</td>\n",
              "      <td>0.148178</td>\n",
              "      <td>-0.431459</td>\n",
              "      <td>0.119690</td>\n",
              "      <td>0.206395</td>\n",
              "      <td>0.070288</td>\n",
              "      <td>11.99</td>\n",
              "      <td>0</td>\n",
              "    </tr>\n",
              "    <tr>\n",
              "      <th>150562</th>\n",
              "      <td>93670.0</td>\n",
              "      <td>-0.535045</td>\n",
              "      <td>1.014587</td>\n",
              "      <td>1.750679</td>\n",
              "      <td>2.769390</td>\n",
              "      <td>0.500089</td>\n",
              "      <td>1.002270</td>\n",
              "      <td>0.847902</td>\n",
              "      <td>-0.081323</td>\n",
              "      <td>0.371579</td>\n",
              "      <td>...</td>\n",
              "      <td>0.063525</td>\n",
              "      <td>0.443431</td>\n",
              "      <td>-0.072754</td>\n",
              "      <td>0.448192</td>\n",
              "      <td>-0.655203</td>\n",
              "      <td>-0.181038</td>\n",
              "      <td>-0.093013</td>\n",
              "      <td>-0.064931</td>\n",
              "      <td>117.44</td>\n",
              "      <td>0</td>\n",
              "    </tr>\n",
              "    <tr>\n",
              "      <th>138452</th>\n",
              "      <td>82655.0</td>\n",
              "      <td>-4.026938</td>\n",
              "      <td>1.897371</td>\n",
              "      <td>-0.429786</td>\n",
              "      <td>-0.029571</td>\n",
              "      <td>-0.855751</td>\n",
              "      <td>-0.480406</td>\n",
              "      <td>-0.435632</td>\n",
              "      <td>1.313760</td>\n",
              "      <td>0.536044</td>\n",
              "      <td>...</td>\n",
              "      <td>-0.480691</td>\n",
              "      <td>-0.230369</td>\n",
              "      <td>0.250717</td>\n",
              "      <td>0.066399</td>\n",
              "      <td>0.470787</td>\n",
              "      <td>0.245335</td>\n",
              "      <td>0.286904</td>\n",
              "      <td>-0.322672</td>\n",
              "      <td>25.76</td>\n",
              "      <td>0</td>\n",
              "    </tr>\n",
              "  </tbody>\n",
              "</table>\n",
              "<p>5 rows × 31 columns</p>\n",
              "</div>\n",
              "    <div class=\"colab-df-buttons\">\n",
              "\n",
              "  <div class=\"colab-df-container\">\n",
              "    <button class=\"colab-df-convert\" onclick=\"convertToInteractive('df-b3fadbd9-d14e-4a55-bad2-903f808455d0')\"\n",
              "            title=\"Convert this dataframe to an interactive table.\"\n",
              "            style=\"display:none;\">\n",
              "\n",
              "  <svg xmlns=\"http://www.w3.org/2000/svg\" height=\"24px\" viewBox=\"0 -960 960 960\">\n",
              "    <path d=\"M120-120v-720h720v720H120Zm60-500h600v-160H180v160Zm220 220h160v-160H400v160Zm0 220h160v-160H400v160ZM180-400h160v-160H180v160Zm440 0h160v-160H620v160ZM180-180h160v-160H180v160Zm440 0h160v-160H620v160Z\"/>\n",
              "  </svg>\n",
              "    </button>\n",
              "\n",
              "  <style>\n",
              "    .colab-df-container {\n",
              "      display:flex;\n",
              "      gap: 12px;\n",
              "    }\n",
              "\n",
              "    .colab-df-convert {\n",
              "      background-color: #E8F0FE;\n",
              "      border: none;\n",
              "      border-radius: 50%;\n",
              "      cursor: pointer;\n",
              "      display: none;\n",
              "      fill: #1967D2;\n",
              "      height: 32px;\n",
              "      padding: 0 0 0 0;\n",
              "      width: 32px;\n",
              "    }\n",
              "\n",
              "    .colab-df-convert:hover {\n",
              "      background-color: #E2EBFA;\n",
              "      box-shadow: 0px 1px 2px rgba(60, 64, 67, 0.3), 0px 1px 3px 1px rgba(60, 64, 67, 0.15);\n",
              "      fill: #174EA6;\n",
              "    }\n",
              "\n",
              "    .colab-df-buttons div {\n",
              "      margin-bottom: 4px;\n",
              "    }\n",
              "\n",
              "    [theme=dark] .colab-df-convert {\n",
              "      background-color: #3B4455;\n",
              "      fill: #D2E3FC;\n",
              "    }\n",
              "\n",
              "    [theme=dark] .colab-df-convert:hover {\n",
              "      background-color: #434B5C;\n",
              "      box-shadow: 0px 1px 3px 1px rgba(0, 0, 0, 0.15);\n",
              "      filter: drop-shadow(0px 1px 2px rgba(0, 0, 0, 0.3));\n",
              "      fill: #FFFFFF;\n",
              "    }\n",
              "  </style>\n",
              "\n",
              "    <script>\n",
              "      const buttonEl =\n",
              "        document.querySelector('#df-b3fadbd9-d14e-4a55-bad2-903f808455d0 button.colab-df-convert');\n",
              "      buttonEl.style.display =\n",
              "        google.colab.kernel.accessAllowed ? 'block' : 'none';\n",
              "\n",
              "      async function convertToInteractive(key) {\n",
              "        const element = document.querySelector('#df-b3fadbd9-d14e-4a55-bad2-903f808455d0');\n",
              "        const dataTable =\n",
              "          await google.colab.kernel.invokeFunction('convertToInteractive',\n",
              "                                                    [key], {});\n",
              "        if (!dataTable) return;\n",
              "\n",
              "        const docLinkHtml = 'Like what you see? Visit the ' +\n",
              "          '<a target=\"_blank\" href=https://colab.research.google.com/notebooks/data_table.ipynb>data table notebook</a>'\n",
              "          + ' to learn more about interactive tables.';\n",
              "        element.innerHTML = '';\n",
              "        dataTable['output_type'] = 'display_data';\n",
              "        await google.colab.output.renderOutput(dataTable, element);\n",
              "        const docLink = document.createElement('div');\n",
              "        docLink.innerHTML = docLinkHtml;\n",
              "        element.appendChild(docLink);\n",
              "      }\n",
              "    </script>\n",
              "  </div>\n",
              "\n",
              "\n",
              "<div id=\"df-01fb892d-429f-4c46-b1a6-0b29a55eae0f\">\n",
              "  <button class=\"colab-df-quickchart\" onclick=\"quickchart('df-01fb892d-429f-4c46-b1a6-0b29a55eae0f')\"\n",
              "            title=\"Suggest charts\"\n",
              "            style=\"display:none;\">\n",
              "\n",
              "<svg xmlns=\"http://www.w3.org/2000/svg\" height=\"24px\"viewBox=\"0 0 24 24\"\n",
              "     width=\"24px\">\n",
              "    <g>\n",
              "        <path d=\"M19 3H5c-1.1 0-2 .9-2 2v14c0 1.1.9 2 2 2h14c1.1 0 2-.9 2-2V5c0-1.1-.9-2-2-2zM9 17H7v-7h2v7zm4 0h-2V7h2v10zm4 0h-2v-4h2v4z\"/>\n",
              "    </g>\n",
              "</svg>\n",
              "  </button>\n",
              "\n",
              "<style>\n",
              "  .colab-df-quickchart {\n",
              "      --bg-color: #E8F0FE;\n",
              "      --fill-color: #1967D2;\n",
              "      --hover-bg-color: #E2EBFA;\n",
              "      --hover-fill-color: #174EA6;\n",
              "      --disabled-fill-color: #AAA;\n",
              "      --disabled-bg-color: #DDD;\n",
              "  }\n",
              "\n",
              "  [theme=dark] .colab-df-quickchart {\n",
              "      --bg-color: #3B4455;\n",
              "      --fill-color: #D2E3FC;\n",
              "      --hover-bg-color: #434B5C;\n",
              "      --hover-fill-color: #FFFFFF;\n",
              "      --disabled-bg-color: #3B4455;\n",
              "      --disabled-fill-color: #666;\n",
              "  }\n",
              "\n",
              "  .colab-df-quickchart {\n",
              "    background-color: var(--bg-color);\n",
              "    border: none;\n",
              "    border-radius: 50%;\n",
              "    cursor: pointer;\n",
              "    display: none;\n",
              "    fill: var(--fill-color);\n",
              "    height: 32px;\n",
              "    padding: 0;\n",
              "    width: 32px;\n",
              "  }\n",
              "\n",
              "  .colab-df-quickchart:hover {\n",
              "    background-color: var(--hover-bg-color);\n",
              "    box-shadow: 0 1px 2px rgba(60, 64, 67, 0.3), 0 1px 3px 1px rgba(60, 64, 67, 0.15);\n",
              "    fill: var(--button-hover-fill-color);\n",
              "  }\n",
              "\n",
              "  .colab-df-quickchart-complete:disabled,\n",
              "  .colab-df-quickchart-complete:disabled:hover {\n",
              "    background-color: var(--disabled-bg-color);\n",
              "    fill: var(--disabled-fill-color);\n",
              "    box-shadow: none;\n",
              "  }\n",
              "\n",
              "  .colab-df-spinner {\n",
              "    border: 2px solid var(--fill-color);\n",
              "    border-color: transparent;\n",
              "    border-bottom-color: var(--fill-color);\n",
              "    animation:\n",
              "      spin 1s steps(1) infinite;\n",
              "  }\n",
              "\n",
              "  @keyframes spin {\n",
              "    0% {\n",
              "      border-color: transparent;\n",
              "      border-bottom-color: var(--fill-color);\n",
              "      border-left-color: var(--fill-color);\n",
              "    }\n",
              "    20% {\n",
              "      border-color: transparent;\n",
              "      border-left-color: var(--fill-color);\n",
              "      border-top-color: var(--fill-color);\n",
              "    }\n",
              "    30% {\n",
              "      border-color: transparent;\n",
              "      border-left-color: var(--fill-color);\n",
              "      border-top-color: var(--fill-color);\n",
              "      border-right-color: var(--fill-color);\n",
              "    }\n",
              "    40% {\n",
              "      border-color: transparent;\n",
              "      border-right-color: var(--fill-color);\n",
              "      border-top-color: var(--fill-color);\n",
              "    }\n",
              "    60% {\n",
              "      border-color: transparent;\n",
              "      border-right-color: var(--fill-color);\n",
              "    }\n",
              "    80% {\n",
              "      border-color: transparent;\n",
              "      border-right-color: var(--fill-color);\n",
              "      border-bottom-color: var(--fill-color);\n",
              "    }\n",
              "    90% {\n",
              "      border-color: transparent;\n",
              "      border-bottom-color: var(--fill-color);\n",
              "    }\n",
              "  }\n",
              "</style>\n",
              "\n",
              "  <script>\n",
              "    async function quickchart(key) {\n",
              "      const quickchartButtonEl =\n",
              "        document.querySelector('#' + key + ' button');\n",
              "      quickchartButtonEl.disabled = true;  // To prevent multiple clicks.\n",
              "      quickchartButtonEl.classList.add('colab-df-spinner');\n",
              "      try {\n",
              "        const charts = await google.colab.kernel.invokeFunction(\n",
              "            'suggestCharts', [key], {});\n",
              "      } catch (error) {\n",
              "        console.error('Error during call to suggestCharts:', error);\n",
              "      }\n",
              "      quickchartButtonEl.classList.remove('colab-df-spinner');\n",
              "      quickchartButtonEl.classList.add('colab-df-quickchart-complete');\n",
              "    }\n",
              "    (() => {\n",
              "      let quickchartButtonEl =\n",
              "        document.querySelector('#df-01fb892d-429f-4c46-b1a6-0b29a55eae0f button');\n",
              "      quickchartButtonEl.style.display =\n",
              "        google.colab.kernel.accessAllowed ? 'block' : 'none';\n",
              "    })();\n",
              "  </script>\n",
              "</div>\n",
              "    </div>\n",
              "  </div>\n"
            ]
          },
          "metadata": {},
          "execution_count": 14
        }
      ],
      "source": [
        "df_train.head()"
      ]
    },
    {
      "cell_type": "code",
      "execution_count": 15,
      "metadata": {
        "colab": {
          "base_uri": "https://localhost:8080/"
        },
        "id": "mgzG8giNNMoe",
        "outputId": "7e1f2f08-3f7c-4355-f34b-002267c09fbe"
      },
      "outputs": [
        {
          "output_type": "execute_result",
          "data": {
            "text/plain": [
              "1.0    227845\n",
              "0.0    227451\n",
              "Name: Class, dtype: int64"
            ]
          },
          "metadata": {},
          "execution_count": 15
        }
      ],
      "source": [
        "df_concat['Class'].value_counts()"
      ]
    },
    {
      "cell_type": "markdown",
      "metadata": {
        "id": "wZAh0vE4NMoe"
      },
      "source": [
        "## Model evaluation"
      ]
    },
    {
      "cell_type": "code",
      "source": [
        "from sklearn.metrics import PrecisionRecallDisplay, RocCurveDisplay, average_precision_score\n",
        "from imblearn.metrics import classification_report_imbalanced\n",
        "\n",
        "\n",
        "def common_metrics(y_true, y_pred, y_prob):\n",
        "    ConfusionMatrixDisplay.from_predictions(y_true, y_pred, normalize='true')\n",
        "    RocCurveDisplay.from_predictions(y_true, y_prob)\n",
        "    precision, recall, _ = precision_recall_curve(y_true, y_prob)\n",
        "    #\n",
        "    fig, ax = plt.subplots()\n",
        "    PrecisionRecallDisplay.from_predictions(y_true, y_prob, ax=ax)\n",
        "    # P / (P + N)\n",
        "    ap_frauds = (len(y_true[y_true == 1]) / len(y_true))\n",
        "    plt.axhline(y=ap_frauds, color='r', linestyle='-')\n",
        "    plt.show()\n",
        "    #\n",
        "    print(classification_report_imbalanced(y_true, y_pred))\n",
        "    print(\"AUPRC:\", auc(recall, precision))\n",
        "    print(\"AP:\", average_precision_score(y_true, y_prob))"
      ],
      "metadata": {
        "id": "9_A4zVmpZ-od"
      },
      "execution_count": 16,
      "outputs": []
    },
    {
      "cell_type": "markdown",
      "source": [
        "### Deep Neural Network"
      ],
      "metadata": {
        "id": "hOwrQY8nVPyC"
      }
    },
    {
      "cell_type": "code",
      "execution_count": 17,
      "metadata": {
        "id": "ZxxwX4RmNMoe"
      },
      "outputs": [],
      "source": [
        "class Model(nn.Module):\n",
        "    def __init__(self, nr_features):\n",
        "        super().__init__()\n",
        "        self.model = nn.Sequential(\n",
        "            nn.Linear(nr_features, 1024),\n",
        "            nn.BatchNorm1d(1024),\n",
        "            nn.ReLU(),\n",
        "            nn.Linear(1024, 512),\n",
        "            nn.BatchNorm1d(512),\n",
        "            nn.ReLU(),\n",
        "            nn.Linear(512, 256),\n",
        "            nn.BatchNorm1d(256),\n",
        "            nn.ReLU(),\n",
        "            nn.Linear(256, 1),\n",
        "            nn.Sigmoid(),\n",
        "        )\n",
        "\n",
        "    def forward(self, x):\n",
        "        return torch.flatten(self.model(x))"
      ]
    },
    {
      "cell_type": "code",
      "execution_count": 18,
      "metadata": {
        "id": "K7hMcvVUNMoe"
      },
      "outputs": [],
      "source": [
        "class FraudModel:\n",
        "    def __init__(self, train_df):\n",
        "        self.lr = 0.001\n",
        "        self.batch_size = 64\n",
        "        self.dataset = FraudDataset(train_df, fraud = False)\n",
        "        self.dataloader = DataLoader(self.dataset, self.batch_size, shuffle=True)\n",
        "        self.model = Model(nr_features=self.dataset.features).to(device)\n",
        "        self.optimizer = optim.Adam(self.model.parameters(), lr=self.lr)\n",
        "        self.loss = nn.BCELoss()\n",
        "\n",
        "    def train(self, epochs=100):\n",
        "        for epoch in range(epochs):\n",
        "            epoch_loss = 0\n",
        "            for _, (x, y) in enumerate(tqdm(self.dataloader)):\n",
        "                x,y = x.to(device), y.to(device)\n",
        "                self.optimizer.zero_grad()\n",
        "                y_pred = self.model(x)\n",
        "                loss = self.loss(y_pred, y)\n",
        "                loss.backward()\n",
        "                self.optimizer.step()\n",
        "                epoch_loss += loss.item() / len(x)\n",
        "            print(\"[Epoch %d/%d] loss: %f\" % (epoch+1, epochs, np.mean(epoch_loss)))\n",
        "\n",
        "    def predict(self, x):\n",
        "        with torch.no_grad():\n",
        "            pred = self.model(x)\n",
        "            return pred.cpu().numpy()\n",
        "\n",
        "    def evaluate(self, test_df, confidence=0.50):\n",
        "            input = torch.Tensor(test_df.drop(['Class'], axis=1).values).to(device)\n",
        "            y_true = torch.Tensor(test_df['Class'].values).to(device)\n",
        "            #preds = self.predict(input)\n",
        "            preds = np.array([])\n",
        "            dataloader_test = DataLoader(TensorDataset(input, y_true), batch_size=64, shuffle=False)\n",
        "\n",
        "            for (inp, _) in dataloader_test:\n",
        "                pred = self.predict(inp)\n",
        "                preds = np.concatenate((preds, pred), axis=None)\n",
        "            labels = np.zeros_like(preds)\n",
        "            labels[preds >= confidence] = 1\n",
        "            common_metrics(y_true.cpu().numpy(), labels,preds)"
      ]
    },
    {
      "cell_type": "code",
      "execution_count": 19,
      "metadata": {
        "colab": {
          "base_uri": "https://localhost:8080/",
          "height": 1000
        },
        "id": "tiV0tCMHNMoe",
        "outputId": "0130c9df-a1d9-41a5-a4ac-769a641dd23c"
      },
      "outputs": [
        {
          "metadata": {
            "tags": null
          },
          "name": "stderr",
          "output_type": "stream",
          "text": [
            "100%|██████████| 7114/7114 [00:22<00:00, 315.37it/s]\n"
          ]
        },
        {
          "metadata": {
            "tags": null
          },
          "name": "stdout",
          "output_type": "stream",
          "text": [
            "[Epoch 1/300] loss: 4.264046\n"
          ]
        },
        {
          "metadata": {
            "tags": null
          },
          "name": "stderr",
          "output_type": "stream",
          "text": [
            "100%|██████████| 7114/7114 [00:21<00:00, 327.26it/s]\n"
          ]
        },
        {
          "metadata": {
            "tags": null
          },
          "name": "stdout",
          "output_type": "stream",
          "text": [
            "[Epoch 2/300] loss: 3.099642\n"
          ]
        },
        {
          "metadata": {
            "tags": null
          },
          "name": "stderr",
          "output_type": "stream",
          "text": [
            "100%|██████████| 7114/7114 [00:22<00:00, 310.90it/s]\n"
          ]
        },
        {
          "metadata": {
            "tags": null
          },
          "name": "stdout",
          "output_type": "stream",
          "text": [
            "[Epoch 3/300] loss: 2.632950\n"
          ]
        },
        {
          "metadata": {
            "tags": null
          },
          "name": "stderr",
          "output_type": "stream",
          "text": [
            "100%|██████████| 7114/7114 [00:22<00:00, 317.37it/s]\n"
          ]
        },
        {
          "metadata": {
            "tags": null
          },
          "name": "stdout",
          "output_type": "stream",
          "text": [
            "[Epoch 4/300] loss: 2.418127\n"
          ]
        },
        {
          "metadata": {
            "tags": null
          },
          "name": "stderr",
          "output_type": "stream",
          "text": [
            "100%|██████████| 7114/7114 [00:23<00:00, 302.84it/s]\n"
          ]
        },
        {
          "metadata": {
            "tags": null
          },
          "name": "stdout",
          "output_type": "stream",
          "text": [
            "[Epoch 5/300] loss: 2.265304\n"
          ]
        },
        {
          "metadata": {
            "tags": null
          },
          "name": "stderr",
          "output_type": "stream",
          "text": [
            "100%|██████████| 7114/7114 [00:22<00:00, 311.34it/s]\n"
          ]
        },
        {
          "metadata": {
            "tags": null
          },
          "name": "stdout",
          "output_type": "stream",
          "text": [
            "[Epoch 6/300] loss: 2.227742\n"
          ]
        },
        {
          "metadata": {
            "tags": null
          },
          "name": "stderr",
          "output_type": "stream",
          "text": [
            "100%|██████████| 7114/7114 [00:22<00:00, 313.04it/s]\n"
          ]
        },
        {
          "metadata": {
            "tags": null
          },
          "name": "stdout",
          "output_type": "stream",
          "text": [
            "[Epoch 7/300] loss: 2.111600\n"
          ]
        },
        {
          "metadata": {
            "tags": null
          },
          "name": "stderr",
          "output_type": "stream",
          "text": [
            "100%|██████████| 7114/7114 [00:23<00:00, 305.67it/s]\n"
          ]
        },
        {
          "metadata": {
            "tags": null
          },
          "name": "stdout",
          "output_type": "stream",
          "text": [
            "[Epoch 8/300] loss: 1.961603\n"
          ]
        },
        {
          "metadata": {
            "tags": null
          },
          "name": "stderr",
          "output_type": "stream",
          "text": [
            "100%|██████████| 7114/7114 [00:22<00:00, 318.64it/s]\n"
          ]
        },
        {
          "metadata": {
            "tags": null
          },
          "name": "stdout",
          "output_type": "stream",
          "text": [
            "[Epoch 9/300] loss: 1.790434\n"
          ]
        },
        {
          "metadata": {
            "tags": null
          },
          "name": "stderr",
          "output_type": "stream",
          "text": [
            "100%|██████████| 7114/7114 [00:23<00:00, 303.52it/s]\n"
          ]
        },
        {
          "metadata": {
            "tags": null
          },
          "name": "stdout",
          "output_type": "stream",
          "text": [
            "[Epoch 10/300] loss: 1.666383\n"
          ]
        },
        {
          "metadata": {
            "tags": null
          },
          "name": "stderr",
          "output_type": "stream",
          "text": [
            "100%|██████████| 7114/7114 [00:23<00:00, 305.16it/s]\n"
          ]
        },
        {
          "metadata": {
            "tags": null
          },
          "name": "stdout",
          "output_type": "stream",
          "text": [
            "[Epoch 11/300] loss: 1.710976\n"
          ]
        },
        {
          "metadata": {
            "tags": null
          },
          "name": "stderr",
          "output_type": "stream",
          "text": [
            "100%|██████████| 7114/7114 [00:22<00:00, 310.80it/s]\n"
          ]
        },
        {
          "metadata": {
            "tags": null
          },
          "name": "stdout",
          "output_type": "stream",
          "text": [
            "[Epoch 12/300] loss: 1.591486\n"
          ]
        },
        {
          "metadata": {
            "tags": null
          },
          "name": "stderr",
          "output_type": "stream",
          "text": [
            "100%|██████████| 7114/7114 [00:23<00:00, 301.28it/s]\n"
          ]
        },
        {
          "metadata": {
            "tags": null
          },
          "name": "stdout",
          "output_type": "stream",
          "text": [
            "[Epoch 13/300] loss: 1.790508\n"
          ]
        },
        {
          "metadata": {
            "tags": null
          },
          "name": "stderr",
          "output_type": "stream",
          "text": [
            "100%|██████████| 7114/7114 [00:22<00:00, 315.49it/s]\n"
          ]
        },
        {
          "metadata": {
            "tags": null
          },
          "name": "stdout",
          "output_type": "stream",
          "text": [
            "[Epoch 14/300] loss: 1.453265\n"
          ]
        },
        {
          "metadata": {
            "tags": null
          },
          "name": "stderr",
          "output_type": "stream",
          "text": [
            "100%|██████████| 7114/7114 [00:23<00:00, 303.98it/s]\n"
          ]
        },
        {
          "metadata": {
            "tags": null
          },
          "name": "stdout",
          "output_type": "stream",
          "text": [
            "[Epoch 15/300] loss: 1.421575\n"
          ]
        },
        {
          "metadata": {
            "tags": null
          },
          "name": "stderr",
          "output_type": "stream",
          "text": [
            "100%|██████████| 7114/7114 [00:23<00:00, 300.98it/s]\n"
          ]
        },
        {
          "metadata": {
            "tags": null
          },
          "name": "stdout",
          "output_type": "stream",
          "text": [
            "[Epoch 16/300] loss: 1.728588\n"
          ]
        },
        {
          "metadata": {
            "tags": null
          },
          "name": "stderr",
          "output_type": "stream",
          "text": [
            "100%|██████████| 7114/7114 [00:22<00:00, 311.25it/s]\n"
          ]
        },
        {
          "metadata": {
            "tags": null
          },
          "name": "stdout",
          "output_type": "stream",
          "text": [
            "[Epoch 17/300] loss: 1.336109\n"
          ]
        },
        {
          "metadata": {
            "tags": null
          },
          "name": "stderr",
          "output_type": "stream",
          "text": [
            "100%|██████████| 7114/7114 [00:23<00:00, 301.83it/s]\n"
          ]
        },
        {
          "metadata": {
            "tags": null
          },
          "name": "stdout",
          "output_type": "stream",
          "text": [
            "[Epoch 18/300] loss: 1.202731\n"
          ]
        },
        {
          "metadata": {
            "tags": null
          },
          "name": "stderr",
          "output_type": "stream",
          "text": [
            "100%|██████████| 7114/7114 [00:23<00:00, 306.33it/s]\n"
          ]
        },
        {
          "metadata": {
            "tags": null
          },
          "name": "stdout",
          "output_type": "stream",
          "text": [
            "[Epoch 19/300] loss: 1.239315\n"
          ]
        },
        {
          "metadata": {
            "tags": null
          },
          "name": "stderr",
          "output_type": "stream",
          "text": [
            "100%|██████████| 7114/7114 [00:22<00:00, 309.35it/s]\n"
          ]
        },
        {
          "metadata": {
            "tags": null
          },
          "name": "stdout",
          "output_type": "stream",
          "text": [
            "[Epoch 20/300] loss: 1.199193\n"
          ]
        },
        {
          "metadata": {
            "tags": null
          },
          "name": "stderr",
          "output_type": "stream",
          "text": [
            "100%|██████████| 7114/7114 [00:23<00:00, 301.51it/s]\n"
          ]
        },
        {
          "metadata": {
            "tags": null
          },
          "name": "stdout",
          "output_type": "stream",
          "text": [
            "[Epoch 21/300] loss: 1.193814\n"
          ]
        },
        {
          "metadata": {
            "tags": null
          },
          "name": "stderr",
          "output_type": "stream",
          "text": [
            "100%|██████████| 7114/7114 [00:22<00:00, 314.60it/s]\n"
          ]
        },
        {
          "metadata": {
            "tags": null
          },
          "name": "stdout",
          "output_type": "stream",
          "text": [
            "[Epoch 22/300] loss: 1.147471\n"
          ]
        },
        {
          "metadata": {
            "tags": null
          },
          "name": "stderr",
          "output_type": "stream",
          "text": [
            "100%|██████████| 7114/7114 [00:23<00:00, 299.87it/s]\n"
          ]
        },
        {
          "metadata": {
            "tags": null
          },
          "name": "stdout",
          "output_type": "stream",
          "text": [
            "[Epoch 23/300] loss: 1.127922\n"
          ]
        },
        {
          "metadata": {
            "tags": null
          },
          "name": "stderr",
          "output_type": "stream",
          "text": [
            "100%|██████████| 7114/7114 [00:23<00:00, 302.20it/s]\n"
          ]
        },
        {
          "metadata": {
            "tags": null
          },
          "name": "stdout",
          "output_type": "stream",
          "text": [
            "[Epoch 24/300] loss: 1.034380\n"
          ]
        },
        {
          "metadata": {
            "tags": null
          },
          "name": "stderr",
          "output_type": "stream",
          "text": [
            "100%|██████████| 7114/7114 [00:22<00:00, 310.88it/s]\n"
          ]
        },
        {
          "metadata": {
            "tags": null
          },
          "name": "stdout",
          "output_type": "stream",
          "text": [
            "[Epoch 25/300] loss: 1.008148\n"
          ]
        },
        {
          "metadata": {
            "tags": null
          },
          "name": "stderr",
          "output_type": "stream",
          "text": [
            "100%|██████████| 7114/7114 [00:23<00:00, 298.49it/s]\n"
          ]
        },
        {
          "metadata": {
            "tags": null
          },
          "name": "stdout",
          "output_type": "stream",
          "text": [
            "[Epoch 26/300] loss: 1.023415\n"
          ]
        },
        {
          "metadata": {
            "tags": null
          },
          "name": "stderr",
          "output_type": "stream",
          "text": [
            "100%|██████████| 7114/7114 [00:22<00:00, 309.43it/s]\n"
          ]
        },
        {
          "metadata": {
            "tags": null
          },
          "name": "stdout",
          "output_type": "stream",
          "text": [
            "[Epoch 27/300] loss: 0.987461\n"
          ]
        },
        {
          "metadata": {
            "tags": null
          },
          "name": "stderr",
          "output_type": "stream",
          "text": [
            "100%|██████████| 7114/7114 [00:23<00:00, 305.83it/s]\n"
          ]
        },
        {
          "metadata": {
            "tags": null
          },
          "name": "stdout",
          "output_type": "stream",
          "text": [
            "[Epoch 28/300] loss: 1.003274\n"
          ]
        },
        {
          "metadata": {
            "tags": null
          },
          "name": "stderr",
          "output_type": "stream",
          "text": [
            "100%|██████████| 7114/7114 [00:23<00:00, 299.40it/s]\n"
          ]
        },
        {
          "metadata": {
            "tags": null
          },
          "name": "stdout",
          "output_type": "stream",
          "text": [
            "[Epoch 29/300] loss: 0.947690\n"
          ]
        },
        {
          "metadata": {
            "tags": null
          },
          "name": "stderr",
          "output_type": "stream",
          "text": [
            "100%|██████████| 7114/7114 [00:22<00:00, 312.89it/s]\n"
          ]
        },
        {
          "metadata": {
            "tags": null
          },
          "name": "stdout",
          "output_type": "stream",
          "text": [
            "[Epoch 30/300] loss: 1.079320\n"
          ]
        },
        {
          "metadata": {
            "tags": null
          },
          "name": "stderr",
          "output_type": "stream",
          "text": [
            "100%|██████████| 7114/7114 [00:23<00:00, 302.32it/s]\n"
          ]
        },
        {
          "metadata": {
            "tags": null
          },
          "name": "stdout",
          "output_type": "stream",
          "text": [
            "[Epoch 31/300] loss: 1.134475\n"
          ]
        },
        {
          "metadata": {
            "tags": null
          },
          "name": "stderr",
          "output_type": "stream",
          "text": [
            "100%|██████████| 7114/7114 [00:23<00:00, 302.77it/s]\n"
          ]
        },
        {
          "metadata": {
            "tags": null
          },
          "name": "stdout",
          "output_type": "stream",
          "text": [
            "[Epoch 32/300] loss: 1.040531\n"
          ]
        },
        {
          "metadata": {
            "tags": null
          },
          "name": "stderr",
          "output_type": "stream",
          "text": [
            "100%|██████████| 7114/7114 [00:22<00:00, 311.93it/s]\n"
          ]
        },
        {
          "metadata": {
            "tags": null
          },
          "name": "stdout",
          "output_type": "stream",
          "text": [
            "[Epoch 33/300] loss: 0.997601\n"
          ]
        },
        {
          "metadata": {
            "tags": null
          },
          "name": "stderr",
          "output_type": "stream",
          "text": [
            "100%|██████████| 7114/7114 [00:23<00:00, 301.14it/s]\n"
          ]
        },
        {
          "metadata": {
            "tags": null
          },
          "name": "stdout",
          "output_type": "stream",
          "text": [
            "[Epoch 34/300] loss: 0.970610\n"
          ]
        },
        {
          "metadata": {
            "tags": null
          },
          "name": "stderr",
          "output_type": "stream",
          "text": [
            "100%|██████████| 7114/7114 [00:22<00:00, 311.68it/s]\n"
          ]
        },
        {
          "metadata": {
            "tags": null
          },
          "name": "stdout",
          "output_type": "stream",
          "text": [
            "[Epoch 35/300] loss: 0.901213\n"
          ]
        },
        {
          "metadata": {
            "tags": null
          },
          "name": "stderr",
          "output_type": "stream",
          "text": [
            "100%|██████████| 7114/7114 [00:23<00:00, 304.87it/s]\n"
          ]
        },
        {
          "metadata": {
            "tags": null
          },
          "name": "stdout",
          "output_type": "stream",
          "text": [
            "[Epoch 36/300] loss: 0.926978\n"
          ]
        },
        {
          "metadata": {
            "tags": null
          },
          "name": "stderr",
          "output_type": "stream",
          "text": [
            "100%|██████████| 7114/7114 [00:23<00:00, 304.19it/s]\n"
          ]
        },
        {
          "metadata": {
            "tags": null
          },
          "name": "stdout",
          "output_type": "stream",
          "text": [
            "[Epoch 37/300] loss: 0.878618\n"
          ]
        },
        {
          "metadata": {
            "tags": null
          },
          "name": "stderr",
          "output_type": "stream",
          "text": [
            "100%|██████████| 7114/7114 [00:22<00:00, 317.43it/s]\n"
          ]
        },
        {
          "metadata": {
            "tags": null
          },
          "name": "stdout",
          "output_type": "stream",
          "text": [
            "[Epoch 38/300] loss: 0.861580\n"
          ]
        },
        {
          "metadata": {
            "tags": null
          },
          "name": "stderr",
          "output_type": "stream",
          "text": [
            "100%|██████████| 7114/7114 [00:23<00:00, 302.94it/s]\n"
          ]
        },
        {
          "metadata": {
            "tags": null
          },
          "name": "stdout",
          "output_type": "stream",
          "text": [
            "[Epoch 39/300] loss: 0.840488\n"
          ]
        },
        {
          "metadata": {
            "tags": null
          },
          "name": "stderr",
          "output_type": "stream",
          "text": [
            "100%|██████████| 7114/7114 [00:23<00:00, 308.76it/s]\n"
          ]
        },
        {
          "metadata": {
            "tags": null
          },
          "name": "stdout",
          "output_type": "stream",
          "text": [
            "[Epoch 40/300] loss: 0.798078\n"
          ]
        },
        {
          "metadata": {
            "tags": null
          },
          "name": "stderr",
          "output_type": "stream",
          "text": [
            "100%|██████████| 7114/7114 [00:22<00:00, 310.08it/s]\n"
          ]
        },
        {
          "metadata": {
            "tags": null
          },
          "name": "stdout",
          "output_type": "stream",
          "text": [
            "[Epoch 41/300] loss: 0.918265\n"
          ]
        },
        {
          "metadata": {
            "tags": null
          },
          "name": "stderr",
          "output_type": "stream",
          "text": [
            "100%|██████████| 7114/7114 [00:23<00:00, 304.12it/s]\n"
          ]
        },
        {
          "metadata": {
            "tags": null
          },
          "name": "stdout",
          "output_type": "stream",
          "text": [
            "[Epoch 42/300] loss: 0.761635\n"
          ]
        },
        {
          "metadata": {
            "tags": null
          },
          "name": "stderr",
          "output_type": "stream",
          "text": [
            "100%|██████████| 7114/7114 [00:22<00:00, 314.66it/s]\n"
          ]
        },
        {
          "metadata": {
            "tags": null
          },
          "name": "stdout",
          "output_type": "stream",
          "text": [
            "[Epoch 43/300] loss: 0.906072\n"
          ]
        },
        {
          "metadata": {
            "tags": null
          },
          "name": "stderr",
          "output_type": "stream",
          "text": [
            "100%|██████████| 7114/7114 [00:23<00:00, 300.92it/s]\n"
          ]
        },
        {
          "metadata": {
            "tags": null
          },
          "name": "stdout",
          "output_type": "stream",
          "text": [
            "[Epoch 44/300] loss: 0.793618\n"
          ]
        },
        {
          "metadata": {
            "tags": null
          },
          "name": "stderr",
          "output_type": "stream",
          "text": [
            "100%|██████████| 7114/7114 [00:23<00:00, 300.97it/s]\n"
          ]
        },
        {
          "metadata": {
            "tags": null
          },
          "name": "stdout",
          "output_type": "stream",
          "text": [
            "[Epoch 45/300] loss: 0.785507\n"
          ]
        },
        {
          "metadata": {
            "tags": null
          },
          "name": "stderr",
          "output_type": "stream",
          "text": [
            "100%|██████████| 7114/7114 [00:22<00:00, 312.18it/s]\n"
          ]
        },
        {
          "metadata": {
            "tags": null
          },
          "name": "stdout",
          "output_type": "stream",
          "text": [
            "[Epoch 46/300] loss: 0.784119\n"
          ]
        },
        {
          "metadata": {
            "tags": null
          },
          "name": "stderr",
          "output_type": "stream",
          "text": [
            "100%|██████████| 7114/7114 [00:23<00:00, 301.95it/s]\n"
          ]
        },
        {
          "metadata": {
            "tags": null
          },
          "name": "stdout",
          "output_type": "stream",
          "text": [
            "[Epoch 47/300] loss: 0.747303\n"
          ]
        },
        {
          "metadata": {
            "tags": null
          },
          "name": "stderr",
          "output_type": "stream",
          "text": [
            "100%|██████████| 7114/7114 [00:22<00:00, 316.34it/s]\n"
          ]
        },
        {
          "metadata": {
            "tags": null
          },
          "name": "stdout",
          "output_type": "stream",
          "text": [
            "[Epoch 48/300] loss: 0.778797\n"
          ]
        },
        {
          "metadata": {
            "tags": null
          },
          "name": "stderr",
          "output_type": "stream",
          "text": [
            "100%|██████████| 7114/7114 [00:23<00:00, 303.11it/s]\n"
          ]
        },
        {
          "metadata": {
            "tags": null
          },
          "name": "stdout",
          "output_type": "stream",
          "text": [
            "[Epoch 49/300] loss: 0.766233\n"
          ]
        },
        {
          "metadata": {
            "tags": null
          },
          "name": "stderr",
          "output_type": "stream",
          "text": [
            "100%|██████████| 7114/7114 [00:23<00:00, 300.49it/s]\n"
          ]
        },
        {
          "metadata": {
            "tags": null
          },
          "name": "stdout",
          "output_type": "stream",
          "text": [
            "[Epoch 50/300] loss: 0.742926\n"
          ]
        },
        {
          "metadata": {
            "tags": null
          },
          "name": "stderr",
          "output_type": "stream",
          "text": [
            "100%|██████████| 7114/7114 [00:22<00:00, 315.38it/s]\n"
          ]
        },
        {
          "metadata": {
            "tags": null
          },
          "name": "stdout",
          "output_type": "stream",
          "text": [
            "[Epoch 51/300] loss: 0.752222\n"
          ]
        },
        {
          "metadata": {
            "tags": null
          },
          "name": "stderr",
          "output_type": "stream",
          "text": [
            "100%|██████████| 7114/7114 [00:23<00:00, 302.35it/s]\n"
          ]
        },
        {
          "metadata": {
            "tags": null
          },
          "name": "stdout",
          "output_type": "stream",
          "text": [
            "[Epoch 52/300] loss: 1.331372\n"
          ]
        },
        {
          "metadata": {
            "tags": null
          },
          "name": "stderr",
          "output_type": "stream",
          "text": [
            "100%|██████████| 7114/7114 [00:23<00:00, 307.23it/s]\n"
          ]
        },
        {
          "metadata": {
            "tags": null
          },
          "name": "stdout",
          "output_type": "stream",
          "text": [
            "[Epoch 53/300] loss: 0.809245\n"
          ]
        },
        {
          "metadata": {
            "tags": null
          },
          "name": "stderr",
          "output_type": "stream",
          "text": [
            "100%|██████████| 7114/7114 [00:23<00:00, 306.13it/s]\n"
          ]
        },
        {
          "metadata": {
            "tags": null
          },
          "name": "stdout",
          "output_type": "stream",
          "text": [
            "[Epoch 54/300] loss: 0.715647\n"
          ]
        },
        {
          "metadata": {
            "tags": null
          },
          "name": "stderr",
          "output_type": "stream",
          "text": [
            "100%|██████████| 7114/7114 [00:23<00:00, 300.77it/s]\n"
          ]
        },
        {
          "metadata": {
            "tags": null
          },
          "name": "stdout",
          "output_type": "stream",
          "text": [
            "[Epoch 55/300] loss: 0.799270\n"
          ]
        },
        {
          "metadata": {
            "tags": null
          },
          "name": "stderr",
          "output_type": "stream",
          "text": [
            "100%|██████████| 7114/7114 [00:22<00:00, 314.12it/s]\n"
          ]
        },
        {
          "metadata": {
            "tags": null
          },
          "name": "stdout",
          "output_type": "stream",
          "text": [
            "[Epoch 56/300] loss: 0.847780\n"
          ]
        },
        {
          "metadata": {
            "tags": null
          },
          "name": "stderr",
          "output_type": "stream",
          "text": [
            "100%|██████████| 7114/7114 [00:23<00:00, 296.72it/s]\n"
          ]
        },
        {
          "metadata": {
            "tags": null
          },
          "name": "stdout",
          "output_type": "stream",
          "text": [
            "[Epoch 57/300] loss: 0.662238\n"
          ]
        },
        {
          "metadata": {
            "tags": null
          },
          "name": "stderr",
          "output_type": "stream",
          "text": [
            "100%|██████████| 7114/7114 [00:23<00:00, 301.50it/s]\n"
          ]
        },
        {
          "metadata": {
            "tags": null
          },
          "name": "stdout",
          "output_type": "stream",
          "text": [
            "[Epoch 58/300] loss: 0.687600\n"
          ]
        },
        {
          "metadata": {
            "tags": null
          },
          "name": "stderr",
          "output_type": "stream",
          "text": [
            "100%|██████████| 7114/7114 [00:22<00:00, 313.80it/s]\n"
          ]
        },
        {
          "metadata": {
            "tags": null
          },
          "name": "stdout",
          "output_type": "stream",
          "text": [
            "[Epoch 59/300] loss: 0.714479\n"
          ]
        },
        {
          "metadata": {
            "tags": null
          },
          "name": "stderr",
          "output_type": "stream",
          "text": [
            "100%|██████████| 7114/7114 [00:23<00:00, 301.69it/s]\n"
          ]
        },
        {
          "metadata": {
            "tags": null
          },
          "name": "stdout",
          "output_type": "stream",
          "text": [
            "[Epoch 60/300] loss: 0.702962\n"
          ]
        },
        {
          "metadata": {
            "tags": null
          },
          "name": "stderr",
          "output_type": "stream",
          "text": [
            "100%|██████████| 7114/7114 [00:23<00:00, 309.26it/s]\n"
          ]
        },
        {
          "metadata": {
            "tags": null
          },
          "name": "stdout",
          "output_type": "stream",
          "text": [
            "[Epoch 61/300] loss: 0.670733\n"
          ]
        },
        {
          "metadata": {
            "tags": null
          },
          "name": "stderr",
          "output_type": "stream",
          "text": [
            "100%|██████████| 7114/7114 [00:23<00:00, 302.26it/s]\n"
          ]
        },
        {
          "metadata": {
            "tags": null
          },
          "name": "stdout",
          "output_type": "stream",
          "text": [
            "[Epoch 62/300] loss: 0.837096\n"
          ]
        },
        {
          "metadata": {
            "tags": null
          },
          "name": "stderr",
          "output_type": "stream",
          "text": [
            "100%|██████████| 7114/7114 [00:23<00:00, 300.36it/s]\n"
          ]
        },
        {
          "metadata": {
            "tags": null
          },
          "name": "stdout",
          "output_type": "stream",
          "text": [
            "[Epoch 63/300] loss: 0.640524\n"
          ]
        },
        {
          "metadata": {
            "tags": null
          },
          "name": "stderr",
          "output_type": "stream",
          "text": [
            "100%|██████████| 7114/7114 [00:22<00:00, 313.78it/s]\n"
          ]
        },
        {
          "metadata": {
            "tags": null
          },
          "name": "stdout",
          "output_type": "stream",
          "text": [
            "[Epoch 64/300] loss: 0.661879\n"
          ]
        },
        {
          "metadata": {
            "tags": null
          },
          "name": "stderr",
          "output_type": "stream",
          "text": [
            "100%|██████████| 7114/7114 [00:23<00:00, 301.98it/s]\n"
          ]
        },
        {
          "metadata": {
            "tags": null
          },
          "name": "stdout",
          "output_type": "stream",
          "text": [
            "[Epoch 65/300] loss: 0.666635\n"
          ]
        },
        {
          "metadata": {
            "tags": null
          },
          "name": "stderr",
          "output_type": "stream",
          "text": [
            "100%|██████████| 7114/7114 [00:23<00:00, 303.68it/s]\n"
          ]
        },
        {
          "metadata": {
            "tags": null
          },
          "name": "stdout",
          "output_type": "stream",
          "text": [
            "[Epoch 66/300] loss: 0.685360\n"
          ]
        },
        {
          "metadata": {
            "tags": null
          },
          "name": "stderr",
          "output_type": "stream",
          "text": [
            "100%|██████████| 7114/7114 [00:23<00:00, 309.08it/s]\n"
          ]
        },
        {
          "metadata": {
            "tags": null
          },
          "name": "stdout",
          "output_type": "stream",
          "text": [
            "[Epoch 67/300] loss: 0.643983\n"
          ]
        },
        {
          "metadata": {
            "tags": null
          },
          "name": "stderr",
          "output_type": "stream",
          "text": [
            "100%|██████████| 7114/7114 [00:23<00:00, 299.59it/s]\n"
          ]
        },
        {
          "metadata": {
            "tags": null
          },
          "name": "stdout",
          "output_type": "stream",
          "text": [
            "[Epoch 68/300] loss: 0.709123\n"
          ]
        },
        {
          "metadata": {
            "tags": null
          },
          "name": "stderr",
          "output_type": "stream",
          "text": [
            "100%|██████████| 7114/7114 [00:22<00:00, 311.10it/s]\n"
          ]
        },
        {
          "metadata": {
            "tags": null
          },
          "name": "stdout",
          "output_type": "stream",
          "text": [
            "[Epoch 69/300] loss: 0.637603\n"
          ]
        },
        {
          "metadata": {
            "tags": null
          },
          "name": "stderr",
          "output_type": "stream",
          "text": [
            "100%|██████████| 7114/7114 [00:23<00:00, 300.87it/s]\n"
          ]
        },
        {
          "metadata": {
            "tags": null
          },
          "name": "stdout",
          "output_type": "stream",
          "text": [
            "[Epoch 70/300] loss: 0.916583\n"
          ]
        },
        {
          "metadata": {
            "tags": null
          },
          "name": "stderr",
          "output_type": "stream",
          "text": [
            "100%|██████████| 7114/7114 [00:23<00:00, 299.31it/s]\n"
          ]
        },
        {
          "metadata": {
            "tags": null
          },
          "name": "stdout",
          "output_type": "stream",
          "text": [
            "[Epoch 71/300] loss: 0.636371\n"
          ]
        },
        {
          "metadata": {
            "tags": null
          },
          "name": "stderr",
          "output_type": "stream",
          "text": [
            "100%|██████████| 7114/7114 [00:22<00:00, 314.52it/s]\n"
          ]
        },
        {
          "metadata": {
            "tags": null
          },
          "name": "stdout",
          "output_type": "stream",
          "text": [
            "[Epoch 72/300] loss: 0.997131\n"
          ]
        },
        {
          "metadata": {
            "tags": null
          },
          "name": "stderr",
          "output_type": "stream",
          "text": [
            "100%|██████████| 7114/7114 [00:23<00:00, 300.87it/s]\n"
          ]
        },
        {
          "metadata": {
            "tags": null
          },
          "name": "stdout",
          "output_type": "stream",
          "text": [
            "[Epoch 73/300] loss: 1.501439\n"
          ]
        },
        {
          "metadata": {
            "tags": null
          },
          "name": "stderr",
          "output_type": "stream",
          "text": [
            "100%|██████████| 7114/7114 [00:23<00:00, 304.67it/s]\n"
          ]
        },
        {
          "metadata": {
            "tags": null
          },
          "name": "stdout",
          "output_type": "stream",
          "text": [
            "[Epoch 74/300] loss: 0.639018\n"
          ]
        },
        {
          "metadata": {
            "tags": null
          },
          "name": "stderr",
          "output_type": "stream",
          "text": [
            "100%|██████████| 7114/7114 [00:23<00:00, 306.13it/s]\n"
          ]
        },
        {
          "metadata": {
            "tags": null
          },
          "name": "stdout",
          "output_type": "stream",
          "text": [
            "[Epoch 75/300] loss: 0.726877\n"
          ]
        },
        {
          "metadata": {
            "tags": null
          },
          "name": "stderr",
          "output_type": "stream",
          "text": [
            "100%|██████████| 7114/7114 [00:23<00:00, 301.52it/s]\n"
          ]
        },
        {
          "metadata": {
            "tags": null
          },
          "name": "stdout",
          "output_type": "stream",
          "text": [
            "[Epoch 76/300] loss: 0.643838\n"
          ]
        },
        {
          "metadata": {
            "tags": null
          },
          "name": "stderr",
          "output_type": "stream",
          "text": [
            "100%|██████████| 7114/7114 [00:22<00:00, 315.35it/s]\n"
          ]
        },
        {
          "metadata": {
            "tags": null
          },
          "name": "stdout",
          "output_type": "stream",
          "text": [
            "[Epoch 77/300] loss: 0.799515\n"
          ]
        },
        {
          "metadata": {
            "tags": null
          },
          "name": "stderr",
          "output_type": "stream",
          "text": [
            "100%|██████████| 7114/7114 [00:23<00:00, 303.52it/s]\n"
          ]
        },
        {
          "metadata": {
            "tags": null
          },
          "name": "stdout",
          "output_type": "stream",
          "text": [
            "[Epoch 78/300] loss: 0.773787\n"
          ]
        },
        {
          "metadata": {
            "tags": null
          },
          "name": "stderr",
          "output_type": "stream",
          "text": [
            "100%|██████████| 7114/7114 [00:23<00:00, 304.98it/s]\n"
          ]
        },
        {
          "metadata": {
            "tags": null
          },
          "name": "stdout",
          "output_type": "stream",
          "text": [
            "[Epoch 79/300] loss: 0.713664\n"
          ]
        },
        {
          "metadata": {
            "tags": null
          },
          "name": "stderr",
          "output_type": "stream",
          "text": [
            "100%|██████████| 7114/7114 [00:22<00:00, 312.46it/s]\n"
          ]
        },
        {
          "metadata": {
            "tags": null
          },
          "name": "stdout",
          "output_type": "stream",
          "text": [
            "[Epoch 80/300] loss: 0.699058\n"
          ]
        },
        {
          "metadata": {
            "tags": null
          },
          "name": "stderr",
          "output_type": "stream",
          "text": [
            "100%|██████████| 7114/7114 [00:23<00:00, 301.79it/s]\n"
          ]
        },
        {
          "metadata": {
            "tags": null
          },
          "name": "stdout",
          "output_type": "stream",
          "text": [
            "[Epoch 81/300] loss: 0.774185\n"
          ]
        },
        {
          "metadata": {
            "tags": null
          },
          "name": "stderr",
          "output_type": "stream",
          "text": [
            "100%|██████████| 7114/7114 [00:22<00:00, 313.65it/s]\n"
          ]
        },
        {
          "metadata": {
            "tags": null
          },
          "name": "stdout",
          "output_type": "stream",
          "text": [
            "[Epoch 82/300] loss: 0.645665\n"
          ]
        },
        {
          "metadata": {
            "tags": null
          },
          "name": "stderr",
          "output_type": "stream",
          "text": [
            "100%|██████████| 7114/7114 [00:23<00:00, 303.82it/s]\n"
          ]
        },
        {
          "metadata": {
            "tags": null
          },
          "name": "stdout",
          "output_type": "stream",
          "text": [
            "[Epoch 83/300] loss: 0.639563\n"
          ]
        },
        {
          "metadata": {
            "tags": null
          },
          "name": "stderr",
          "output_type": "stream",
          "text": [
            "100%|██████████| 7114/7114 [00:23<00:00, 300.53it/s]\n"
          ]
        },
        {
          "metadata": {
            "tags": null
          },
          "name": "stdout",
          "output_type": "stream",
          "text": [
            "[Epoch 84/300] loss: 0.625098\n"
          ]
        },
        {
          "metadata": {
            "tags": null
          },
          "name": "stderr",
          "output_type": "stream",
          "text": [
            "100%|██████████| 7114/7114 [00:22<00:00, 313.56it/s]\n"
          ]
        },
        {
          "metadata": {
            "tags": null
          },
          "name": "stdout",
          "output_type": "stream",
          "text": [
            "[Epoch 85/300] loss: 0.671204\n"
          ]
        },
        {
          "metadata": {
            "tags": null
          },
          "name": "stderr",
          "output_type": "stream",
          "text": [
            "100%|██████████| 7114/7114 [00:23<00:00, 302.37it/s]\n"
          ]
        },
        {
          "metadata": {
            "tags": null
          },
          "name": "stdout",
          "output_type": "stream",
          "text": [
            "[Epoch 86/300] loss: 0.794305\n"
          ]
        },
        {
          "metadata": {
            "tags": null
          },
          "name": "stderr",
          "output_type": "stream",
          "text": [
            "100%|██████████| 7114/7114 [00:23<00:00, 307.94it/s]\n"
          ]
        },
        {
          "metadata": {
            "tags": null
          },
          "name": "stdout",
          "output_type": "stream",
          "text": [
            "[Epoch 87/300] loss: 0.667169\n"
          ]
        },
        {
          "metadata": {
            "tags": null
          },
          "name": "stderr",
          "output_type": "stream",
          "text": [
            "100%|██████████| 7114/7114 [00:22<00:00, 309.82it/s]\n"
          ]
        },
        {
          "metadata": {
            "tags": null
          },
          "name": "stdout",
          "output_type": "stream",
          "text": [
            "[Epoch 88/300] loss: 0.622127\n"
          ]
        },
        {
          "metadata": {
            "tags": null
          },
          "name": "stderr",
          "output_type": "stream",
          "text": [
            "100%|██████████| 7114/7114 [00:23<00:00, 304.54it/s]\n"
          ]
        },
        {
          "metadata": {
            "tags": null
          },
          "name": "stdout",
          "output_type": "stream",
          "text": [
            "[Epoch 89/300] loss: 0.597821\n"
          ]
        },
        {
          "metadata": {
            "tags": null
          },
          "name": "stderr",
          "output_type": "stream",
          "text": [
            "100%|██████████| 7114/7114 [00:22<00:00, 318.30it/s]\n"
          ]
        },
        {
          "metadata": {
            "tags": null
          },
          "name": "stdout",
          "output_type": "stream",
          "text": [
            "[Epoch 90/300] loss: 0.626957\n"
          ]
        },
        {
          "metadata": {
            "tags": null
          },
          "name": "stderr",
          "output_type": "stream",
          "text": [
            "100%|██████████| 7114/7114 [00:23<00:00, 303.01it/s]\n"
          ]
        },
        {
          "metadata": {
            "tags": null
          },
          "name": "stdout",
          "output_type": "stream",
          "text": [
            "[Epoch 91/300] loss: 0.621500\n"
          ]
        },
        {
          "metadata": {
            "tags": null
          },
          "name": "stderr",
          "output_type": "stream",
          "text": [
            "100%|██████████| 7114/7114 [00:23<00:00, 307.40it/s]\n"
          ]
        },
        {
          "metadata": {
            "tags": null
          },
          "name": "stdout",
          "output_type": "stream",
          "text": [
            "[Epoch 92/300] loss: 0.643962\n"
          ]
        },
        {
          "metadata": {
            "tags": null
          },
          "name": "stderr",
          "output_type": "stream",
          "text": [
            "100%|██████████| 7114/7114 [00:22<00:00, 311.08it/s]\n"
          ]
        },
        {
          "metadata": {
            "tags": null
          },
          "name": "stdout",
          "output_type": "stream",
          "text": [
            "[Epoch 93/300] loss: 0.595597\n"
          ]
        },
        {
          "metadata": {
            "tags": null
          },
          "name": "stderr",
          "output_type": "stream",
          "text": [
            "100%|██████████| 7114/7114 [00:23<00:00, 305.04it/s]\n"
          ]
        },
        {
          "metadata": {
            "tags": null
          },
          "name": "stdout",
          "output_type": "stream",
          "text": [
            "[Epoch 94/300] loss: 0.611311\n"
          ]
        },
        {
          "metadata": {
            "tags": null
          },
          "name": "stderr",
          "output_type": "stream",
          "text": [
            "100%|██████████| 7114/7114 [00:22<00:00, 315.73it/s]\n"
          ]
        },
        {
          "metadata": {
            "tags": null
          },
          "name": "stdout",
          "output_type": "stream",
          "text": [
            "[Epoch 95/300] loss: 0.983224\n"
          ]
        },
        {
          "metadata": {
            "tags": null
          },
          "name": "stderr",
          "output_type": "stream",
          "text": [
            "100%|██████████| 7114/7114 [00:23<00:00, 302.55it/s]\n"
          ]
        },
        {
          "metadata": {
            "tags": null
          },
          "name": "stdout",
          "output_type": "stream",
          "text": [
            "[Epoch 96/300] loss: 0.607022\n"
          ]
        },
        {
          "metadata": {
            "tags": null
          },
          "name": "stderr",
          "output_type": "stream",
          "text": [
            "100%|██████████| 7114/7114 [00:23<00:00, 302.47it/s]\n"
          ]
        },
        {
          "metadata": {
            "tags": null
          },
          "name": "stdout",
          "output_type": "stream",
          "text": [
            "[Epoch 97/300] loss: 0.597146\n"
          ]
        },
        {
          "metadata": {
            "tags": null
          },
          "name": "stderr",
          "output_type": "stream",
          "text": [
            "100%|██████████| 7114/7114 [00:22<00:00, 313.20it/s]\n"
          ]
        },
        {
          "metadata": {
            "tags": null
          },
          "name": "stdout",
          "output_type": "stream",
          "text": [
            "[Epoch 98/300] loss: 0.618461\n"
          ]
        },
        {
          "metadata": {
            "tags": null
          },
          "name": "stderr",
          "output_type": "stream",
          "text": [
            "100%|██████████| 7114/7114 [00:23<00:00, 301.97it/s]\n"
          ]
        },
        {
          "metadata": {
            "tags": null
          },
          "name": "stdout",
          "output_type": "stream",
          "text": [
            "[Epoch 99/300] loss: 0.647637\n"
          ]
        },
        {
          "metadata": {
            "tags": null
          },
          "name": "stderr",
          "output_type": "stream",
          "text": [
            "100%|██████████| 7114/7114 [00:22<00:00, 313.25it/s]\n"
          ]
        },
        {
          "metadata": {
            "tags": null
          },
          "name": "stdout",
          "output_type": "stream",
          "text": [
            "[Epoch 100/300] loss: 0.617009\n"
          ]
        },
        {
          "metadata": {
            "tags": null
          },
          "name": "stderr",
          "output_type": "stream",
          "text": [
            "100%|██████████| 7114/7114 [00:23<00:00, 304.42it/s]\n"
          ]
        },
        {
          "metadata": {
            "tags": null
          },
          "name": "stdout",
          "output_type": "stream",
          "text": [
            "[Epoch 101/300] loss: 0.596227\n"
          ]
        },
        {
          "metadata": {
            "tags": null
          },
          "name": "stderr",
          "output_type": "stream",
          "text": [
            "100%|██████████| 7114/7114 [00:23<00:00, 300.83it/s]\n"
          ]
        },
        {
          "metadata": {
            "tags": null
          },
          "name": "stdout",
          "output_type": "stream",
          "text": [
            "[Epoch 102/300] loss: 0.613715\n"
          ]
        },
        {
          "metadata": {
            "tags": null
          },
          "name": "stderr",
          "output_type": "stream",
          "text": [
            "100%|██████████| 7114/7114 [00:22<00:00, 315.74it/s]\n"
          ]
        },
        {
          "metadata": {
            "tags": null
          },
          "name": "stdout",
          "output_type": "stream",
          "text": [
            "[Epoch 103/300] loss: 0.800836\n"
          ]
        },
        {
          "metadata": {
            "tags": null
          },
          "name": "stderr",
          "output_type": "stream",
          "text": [
            "100%|██████████| 7114/7114 [00:23<00:00, 301.97it/s]\n"
          ]
        },
        {
          "metadata": {
            "tags": null
          },
          "name": "stdout",
          "output_type": "stream",
          "text": [
            "[Epoch 104/300] loss: 0.551301\n"
          ]
        },
        {
          "metadata": {
            "tags": null
          },
          "name": "stderr",
          "output_type": "stream",
          "text": [
            "100%|██████████| 7114/7114 [00:23<00:00, 309.10it/s]\n"
          ]
        },
        {
          "metadata": {
            "tags": null
          },
          "name": "stdout",
          "output_type": "stream",
          "text": [
            "[Epoch 105/300] loss: 0.567599\n"
          ]
        },
        {
          "metadata": {
            "tags": null
          },
          "name": "stderr",
          "output_type": "stream",
          "text": [
            "100%|██████████| 7114/7114 [00:23<00:00, 306.89it/s]\n"
          ]
        },
        {
          "metadata": {
            "tags": null
          },
          "name": "stdout",
          "output_type": "stream",
          "text": [
            "[Epoch 106/300] loss: 0.591332\n"
          ]
        },
        {
          "metadata": {
            "tags": null
          },
          "name": "stderr",
          "output_type": "stream",
          "text": [
            "100%|██████████| 7114/7114 [00:23<00:00, 303.32it/s]\n"
          ]
        },
        {
          "metadata": {
            "tags": null
          },
          "name": "stdout",
          "output_type": "stream",
          "text": [
            "[Epoch 107/300] loss: 0.552068\n"
          ]
        },
        {
          "metadata": {
            "tags": null
          },
          "name": "stderr",
          "output_type": "stream",
          "text": [
            "100%|██████████| 7114/7114 [00:22<00:00, 315.41it/s]\n"
          ]
        },
        {
          "metadata": {
            "tags": null
          },
          "name": "stdout",
          "output_type": "stream",
          "text": [
            "[Epoch 108/300] loss: 0.586642\n"
          ]
        },
        {
          "metadata": {
            "tags": null
          },
          "name": "stderr",
          "output_type": "stream",
          "text": [
            "100%|██████████| 7114/7114 [00:23<00:00, 302.11it/s]\n"
          ]
        },
        {
          "metadata": {
            "tags": null
          },
          "name": "stdout",
          "output_type": "stream",
          "text": [
            "[Epoch 109/300] loss: 0.632463\n"
          ]
        },
        {
          "metadata": {
            "tags": null
          },
          "name": "stderr",
          "output_type": "stream",
          "text": [
            "100%|██████████| 7114/7114 [00:23<00:00, 302.66it/s]\n"
          ]
        },
        {
          "metadata": {
            "tags": null
          },
          "name": "stdout",
          "output_type": "stream",
          "text": [
            "[Epoch 110/300] loss: 0.561220\n"
          ]
        },
        {
          "metadata": {
            "tags": null
          },
          "name": "stderr",
          "output_type": "stream",
          "text": [
            "100%|██████████| 7114/7114 [00:22<00:00, 312.57it/s]\n"
          ]
        },
        {
          "metadata": {
            "tags": null
          },
          "name": "stdout",
          "output_type": "stream",
          "text": [
            "[Epoch 111/300] loss: 0.565131\n"
          ]
        },
        {
          "metadata": {
            "tags": null
          },
          "name": "stderr",
          "output_type": "stream",
          "text": [
            "100%|██████████| 7114/7114 [00:23<00:00, 301.55it/s]\n"
          ]
        },
        {
          "metadata": {
            "tags": null
          },
          "name": "stdout",
          "output_type": "stream",
          "text": [
            "[Epoch 112/300] loss: 0.565709\n"
          ]
        },
        {
          "metadata": {
            "tags": null
          },
          "name": "stderr",
          "output_type": "stream",
          "text": [
            "100%|██████████| 7114/7114 [00:22<00:00, 312.92it/s]\n"
          ]
        },
        {
          "metadata": {
            "tags": null
          },
          "name": "stdout",
          "output_type": "stream",
          "text": [
            "[Epoch 113/300] loss: 0.592937\n"
          ]
        },
        {
          "metadata": {
            "tags": null
          },
          "name": "stderr",
          "output_type": "stream",
          "text": [
            "100%|██████████| 7114/7114 [00:23<00:00, 305.42it/s]\n"
          ]
        },
        {
          "metadata": {
            "tags": null
          },
          "name": "stdout",
          "output_type": "stream",
          "text": [
            "[Epoch 114/300] loss: 0.575627\n"
          ]
        },
        {
          "metadata": {
            "tags": null
          },
          "name": "stderr",
          "output_type": "stream",
          "text": [
            "100%|██████████| 7114/7114 [00:23<00:00, 302.57it/s]\n"
          ]
        },
        {
          "metadata": {
            "tags": null
          },
          "name": "stdout",
          "output_type": "stream",
          "text": [
            "[Epoch 115/300] loss: 0.593698\n"
          ]
        },
        {
          "metadata": {
            "tags": null
          },
          "name": "stderr",
          "output_type": "stream",
          "text": [
            "100%|██████████| 7114/7114 [00:22<00:00, 314.00it/s]\n"
          ]
        },
        {
          "metadata": {
            "tags": null
          },
          "name": "stdout",
          "output_type": "stream",
          "text": [
            "[Epoch 116/300] loss: 0.561091\n"
          ]
        },
        {
          "metadata": {
            "tags": null
          },
          "name": "stderr",
          "output_type": "stream",
          "text": [
            "100%|██████████| 7114/7114 [00:23<00:00, 301.80it/s]\n"
          ]
        },
        {
          "metadata": {
            "tags": null
          },
          "name": "stdout",
          "output_type": "stream",
          "text": [
            "[Epoch 117/300] loss: 0.579448\n"
          ]
        },
        {
          "metadata": {
            "tags": null
          },
          "name": "stderr",
          "output_type": "stream",
          "text": [
            "100%|██████████| 7114/7114 [00:22<00:00, 309.60it/s]\n"
          ]
        },
        {
          "metadata": {
            "tags": null
          },
          "name": "stdout",
          "output_type": "stream",
          "text": [
            "[Epoch 118/300] loss: 0.540828\n"
          ]
        },
        {
          "metadata": {
            "tags": null
          },
          "name": "stderr",
          "output_type": "stream",
          "text": [
            "100%|██████████| 7114/7114 [00:23<00:00, 307.67it/s]\n"
          ]
        },
        {
          "metadata": {
            "tags": null
          },
          "name": "stdout",
          "output_type": "stream",
          "text": [
            "[Epoch 119/300] loss: 0.546908\n"
          ]
        },
        {
          "metadata": {
            "tags": null
          },
          "name": "stderr",
          "output_type": "stream",
          "text": [
            "100%|██████████| 7114/7114 [00:23<00:00, 300.23it/s]\n"
          ]
        },
        {
          "metadata": {
            "tags": null
          },
          "name": "stdout",
          "output_type": "stream",
          "text": [
            "[Epoch 120/300] loss: 0.905012\n"
          ]
        },
        {
          "metadata": {
            "tags": null
          },
          "name": "stderr",
          "output_type": "stream",
          "text": [
            "100%|██████████| 7114/7114 [00:22<00:00, 312.18it/s]\n"
          ]
        },
        {
          "metadata": {
            "tags": null
          },
          "name": "stdout",
          "output_type": "stream",
          "text": [
            "[Epoch 121/300] loss: 0.552698\n"
          ]
        },
        {
          "metadata": {
            "tags": null
          },
          "name": "stderr",
          "output_type": "stream",
          "text": [
            "100%|██████████| 7114/7114 [00:23<00:00, 297.50it/s]\n"
          ]
        },
        {
          "metadata": {
            "tags": null
          },
          "name": "stdout",
          "output_type": "stream",
          "text": [
            "[Epoch 122/300] loss: 0.552456\n"
          ]
        },
        {
          "metadata": {
            "tags": null
          },
          "name": "stderr",
          "output_type": "stream",
          "text": [
            "100%|██████████| 7114/7114 [00:23<00:00, 299.48it/s]\n"
          ]
        },
        {
          "metadata": {
            "tags": null
          },
          "name": "stdout",
          "output_type": "stream",
          "text": [
            "[Epoch 123/300] loss: 0.613257\n"
          ]
        },
        {
          "metadata": {
            "tags": null
          },
          "name": "stderr",
          "output_type": "stream",
          "text": [
            "100%|██████████| 7114/7114 [00:22<00:00, 312.10it/s]\n"
          ]
        },
        {
          "metadata": {
            "tags": null
          },
          "name": "stdout",
          "output_type": "stream",
          "text": [
            "[Epoch 124/300] loss: 0.553070\n"
          ]
        },
        {
          "metadata": {
            "tags": null
          },
          "name": "stderr",
          "output_type": "stream",
          "text": [
            "100%|██████████| 7114/7114 [00:23<00:00, 300.77it/s]\n"
          ]
        },
        {
          "metadata": {
            "tags": null
          },
          "name": "stdout",
          "output_type": "stream",
          "text": [
            "[Epoch 125/300] loss: 0.576183\n"
          ]
        },
        {
          "metadata": {
            "tags": null
          },
          "name": "stderr",
          "output_type": "stream",
          "text": [
            "100%|██████████| 7114/7114 [00:22<00:00, 309.37it/s]\n"
          ]
        },
        {
          "metadata": {
            "tags": null
          },
          "name": "stdout",
          "output_type": "stream",
          "text": [
            "[Epoch 126/300] loss: 0.561409\n"
          ]
        },
        {
          "metadata": {
            "tags": null
          },
          "name": "stderr",
          "output_type": "stream",
          "text": [
            "100%|██████████| 7114/7114 [00:23<00:00, 307.04it/s]\n"
          ]
        },
        {
          "metadata": {
            "tags": null
          },
          "name": "stdout",
          "output_type": "stream",
          "text": [
            "[Epoch 127/300] loss: 0.589397\n"
          ]
        },
        {
          "metadata": {
            "tags": null
          },
          "name": "stderr",
          "output_type": "stream",
          "text": [
            "100%|██████████| 7114/7114 [00:23<00:00, 303.48it/s]\n"
          ]
        },
        {
          "metadata": {
            "tags": null
          },
          "name": "stdout",
          "output_type": "stream",
          "text": [
            "[Epoch 128/300] loss: 0.551626\n"
          ]
        },
        {
          "metadata": {
            "tags": null
          },
          "name": "stderr",
          "output_type": "stream",
          "text": [
            "100%|██████████| 7114/7114 [00:22<00:00, 316.81it/s]\n"
          ]
        },
        {
          "metadata": {
            "tags": null
          },
          "name": "stdout",
          "output_type": "stream",
          "text": [
            "[Epoch 129/300] loss: 0.623867\n"
          ]
        },
        {
          "metadata": {
            "tags": null
          },
          "name": "stderr",
          "output_type": "stream",
          "text": [
            "100%|██████████| 7114/7114 [00:23<00:00, 301.13it/s]\n"
          ]
        },
        {
          "metadata": {
            "tags": null
          },
          "name": "stdout",
          "output_type": "stream",
          "text": [
            "[Epoch 130/300] loss: 0.587399\n"
          ]
        },
        {
          "metadata": {
            "tags": null
          },
          "name": "stderr",
          "output_type": "stream",
          "text": [
            "100%|██████████| 7114/7114 [00:23<00:00, 305.78it/s]\n"
          ]
        },
        {
          "metadata": {
            "tags": null
          },
          "name": "stdout",
          "output_type": "stream",
          "text": [
            "[Epoch 131/300] loss: 0.559650\n"
          ]
        },
        {
          "metadata": {
            "tags": null
          },
          "name": "stderr",
          "output_type": "stream",
          "text": [
            "100%|██████████| 7114/7114 [00:22<00:00, 310.17it/s]\n"
          ]
        },
        {
          "metadata": {
            "tags": null
          },
          "name": "stdout",
          "output_type": "stream",
          "text": [
            "[Epoch 132/300] loss: 0.533204\n"
          ]
        },
        {
          "metadata": {
            "tags": null
          },
          "name": "stderr",
          "output_type": "stream",
          "text": [
            "100%|██████████| 7114/7114 [00:23<00:00, 301.78it/s]\n"
          ]
        },
        {
          "metadata": {
            "tags": null
          },
          "name": "stdout",
          "output_type": "stream",
          "text": [
            "[Epoch 133/300] loss: 0.553518\n"
          ]
        },
        {
          "metadata": {
            "tags": null
          },
          "name": "stderr",
          "output_type": "stream",
          "text": [
            "100%|██████████| 7114/7114 [00:22<00:00, 313.49it/s]\n"
          ]
        },
        {
          "metadata": {
            "tags": null
          },
          "name": "stdout",
          "output_type": "stream",
          "text": [
            "[Epoch 134/300] loss: 0.554406\n"
          ]
        },
        {
          "metadata": {
            "tags": null
          },
          "name": "stderr",
          "output_type": "stream",
          "text": [
            "100%|██████████| 7114/7114 [00:23<00:00, 303.17it/s]\n"
          ]
        },
        {
          "metadata": {
            "tags": null
          },
          "name": "stdout",
          "output_type": "stream",
          "text": [
            "[Epoch 135/300] loss: 0.537479\n"
          ]
        },
        {
          "metadata": {
            "tags": null
          },
          "name": "stderr",
          "output_type": "stream",
          "text": [
            "100%|██████████| 7114/7114 [00:23<00:00, 304.56it/s]\n"
          ]
        },
        {
          "metadata": {
            "tags": null
          },
          "name": "stdout",
          "output_type": "stream",
          "text": [
            "[Epoch 136/300] loss: 0.584431\n"
          ]
        },
        {
          "metadata": {
            "tags": null
          },
          "name": "stderr",
          "output_type": "stream",
          "text": [
            "100%|██████████| 7114/7114 [00:23<00:00, 309.19it/s]\n"
          ]
        },
        {
          "metadata": {
            "tags": null
          },
          "name": "stdout",
          "output_type": "stream",
          "text": [
            "[Epoch 137/300] loss: 0.518787\n"
          ]
        },
        {
          "metadata": {
            "tags": null
          },
          "name": "stderr",
          "output_type": "stream",
          "text": [
            "100%|██████████| 7114/7114 [00:23<00:00, 300.46it/s]\n"
          ]
        },
        {
          "metadata": {
            "tags": null
          },
          "name": "stdout",
          "output_type": "stream",
          "text": [
            "[Epoch 138/300] loss: 0.552067\n"
          ]
        },
        {
          "metadata": {
            "tags": null
          },
          "name": "stderr",
          "output_type": "stream",
          "text": [
            "100%|██████████| 7114/7114 [00:23<00:00, 306.19it/s]\n"
          ]
        },
        {
          "metadata": {
            "tags": null
          },
          "name": "stdout",
          "output_type": "stream",
          "text": [
            "[Epoch 139/300] loss: 0.530559\n"
          ]
        },
        {
          "metadata": {
            "tags": null
          },
          "name": "stderr",
          "output_type": "stream",
          "text": [
            "100%|██████████| 7114/7114 [00:23<00:00, 306.35it/s]\n"
          ]
        },
        {
          "metadata": {
            "tags": null
          },
          "name": "stdout",
          "output_type": "stream",
          "text": [
            "[Epoch 140/300] loss: 0.576880\n"
          ]
        },
        {
          "metadata": {
            "tags": null
          },
          "name": "stderr",
          "output_type": "stream",
          "text": [
            "100%|██████████| 7114/7114 [00:23<00:00, 299.62it/s]\n"
          ]
        },
        {
          "metadata": {
            "tags": null
          },
          "name": "stdout",
          "output_type": "stream",
          "text": [
            "[Epoch 141/300] loss: 0.670390\n"
          ]
        },
        {
          "metadata": {
            "tags": null
          },
          "name": "stderr",
          "output_type": "stream",
          "text": [
            "100%|██████████| 7114/7114 [00:22<00:00, 312.12it/s]\n"
          ]
        },
        {
          "metadata": {
            "tags": null
          },
          "name": "stdout",
          "output_type": "stream",
          "text": [
            "[Epoch 142/300] loss: 0.545429\n"
          ]
        },
        {
          "metadata": {
            "tags": null
          },
          "name": "stderr",
          "output_type": "stream",
          "text": [
            "100%|██████████| 7114/7114 [00:23<00:00, 300.65it/s]\n"
          ]
        },
        {
          "metadata": {
            "tags": null
          },
          "name": "stdout",
          "output_type": "stream",
          "text": [
            "[Epoch 143/300] loss: 0.510687\n"
          ]
        },
        {
          "metadata": {
            "tags": null
          },
          "name": "stderr",
          "output_type": "stream",
          "text": [
            "100%|██████████| 7114/7114 [00:23<00:00, 302.82it/s]\n"
          ]
        },
        {
          "metadata": {
            "tags": null
          },
          "name": "stdout",
          "output_type": "stream",
          "text": [
            "[Epoch 144/300] loss: 0.582930\n"
          ]
        },
        {
          "metadata": {
            "tags": null
          },
          "name": "stderr",
          "output_type": "stream",
          "text": [
            "100%|██████████| 7114/7114 [00:23<00:00, 309.06it/s]\n"
          ]
        },
        {
          "metadata": {
            "tags": null
          },
          "name": "stdout",
          "output_type": "stream",
          "text": [
            "[Epoch 145/300] loss: 0.498967\n"
          ]
        },
        {
          "metadata": {
            "tags": null
          },
          "name": "stderr",
          "output_type": "stream",
          "text": [
            "100%|██████████| 7114/7114 [00:23<00:00, 301.46it/s]\n"
          ]
        },
        {
          "metadata": {
            "tags": null
          },
          "name": "stdout",
          "output_type": "stream",
          "text": [
            "[Epoch 146/300] loss: 0.667690\n"
          ]
        },
        {
          "metadata": {
            "tags": null
          },
          "name": "stderr",
          "output_type": "stream",
          "text": [
            "100%|██████████| 7114/7114 [00:23<00:00, 309.28it/s]\n"
          ]
        },
        {
          "metadata": {
            "tags": null
          },
          "name": "stdout",
          "output_type": "stream",
          "text": [
            "[Epoch 147/300] loss: 0.654804\n"
          ]
        },
        {
          "metadata": {
            "tags": null
          },
          "name": "stderr",
          "output_type": "stream",
          "text": [
            "100%|██████████| 7114/7114 [00:23<00:00, 302.62it/s]\n"
          ]
        },
        {
          "metadata": {
            "tags": null
          },
          "name": "stdout",
          "output_type": "stream",
          "text": [
            "[Epoch 148/300] loss: 0.501243\n"
          ]
        },
        {
          "metadata": {
            "tags": null
          },
          "name": "stderr",
          "output_type": "stream",
          "text": [
            "100%|██████████| 7114/7114 [00:23<00:00, 300.78it/s]\n"
          ]
        },
        {
          "metadata": {
            "tags": null
          },
          "name": "stdout",
          "output_type": "stream",
          "text": [
            "[Epoch 149/300] loss: 0.569930\n"
          ]
        },
        {
          "metadata": {
            "tags": null
          },
          "name": "stderr",
          "output_type": "stream",
          "text": [
            "100%|██████████| 7114/7114 [00:22<00:00, 311.87it/s]\n"
          ]
        },
        {
          "metadata": {
            "tags": null
          },
          "name": "stdout",
          "output_type": "stream",
          "text": [
            "[Epoch 150/300] loss: 0.482958\n"
          ]
        },
        {
          "metadata": {
            "tags": null
          },
          "name": "stderr",
          "output_type": "stream",
          "text": [
            "100%|██████████| 7114/7114 [00:23<00:00, 298.89it/s]\n"
          ]
        },
        {
          "metadata": {
            "tags": null
          },
          "name": "stdout",
          "output_type": "stream",
          "text": [
            "[Epoch 151/300] loss: 0.637306\n"
          ]
        },
        {
          "metadata": {
            "tags": null
          },
          "name": "stderr",
          "output_type": "stream",
          "text": [
            "100%|██████████| 7114/7114 [00:23<00:00, 305.79it/s]\n"
          ]
        },
        {
          "metadata": {
            "tags": null
          },
          "name": "stdout",
          "output_type": "stream",
          "text": [
            "[Epoch 152/300] loss: 0.542760\n"
          ]
        },
        {
          "metadata": {
            "tags": null
          },
          "name": "stderr",
          "output_type": "stream",
          "text": [
            "100%|██████████| 7114/7114 [00:23<00:00, 307.69it/s]\n"
          ]
        },
        {
          "metadata": {
            "tags": null
          },
          "name": "stdout",
          "output_type": "stream",
          "text": [
            "[Epoch 153/300] loss: 0.515034\n"
          ]
        },
        {
          "metadata": {
            "tags": null
          },
          "name": "stderr",
          "output_type": "stream",
          "text": [
            "100%|██████████| 7114/7114 [00:23<00:00, 300.86it/s]\n"
          ]
        },
        {
          "metadata": {
            "tags": null
          },
          "name": "stdout",
          "output_type": "stream",
          "text": [
            "[Epoch 154/300] loss: 0.555556\n"
          ]
        },
        {
          "metadata": {
            "tags": null
          },
          "name": "stderr",
          "output_type": "stream",
          "text": [
            "100%|██████████| 7114/7114 [00:22<00:00, 313.53it/s]\n"
          ]
        },
        {
          "metadata": {
            "tags": null
          },
          "name": "stdout",
          "output_type": "stream",
          "text": [
            "[Epoch 155/300] loss: 0.520165\n"
          ]
        },
        {
          "metadata": {
            "tags": null
          },
          "name": "stderr",
          "output_type": "stream",
          "text": [
            "100%|██████████| 7114/7114 [00:23<00:00, 299.38it/s]\n"
          ]
        },
        {
          "metadata": {
            "tags": null
          },
          "name": "stdout",
          "output_type": "stream",
          "text": [
            "[Epoch 156/300] loss: 0.591774\n"
          ]
        },
        {
          "metadata": {
            "tags": null
          },
          "name": "stderr",
          "output_type": "stream",
          "text": [
            "100%|██████████| 7114/7114 [00:23<00:00, 302.01it/s]\n"
          ]
        },
        {
          "metadata": {
            "tags": null
          },
          "name": "stdout",
          "output_type": "stream",
          "text": [
            "[Epoch 157/300] loss: 0.511206\n"
          ]
        },
        {
          "metadata": {
            "tags": null
          },
          "name": "stderr",
          "output_type": "stream",
          "text": [
            "100%|██████████| 7114/7114 [00:22<00:00, 311.30it/s]\n"
          ]
        },
        {
          "metadata": {
            "tags": null
          },
          "name": "stdout",
          "output_type": "stream",
          "text": [
            "[Epoch 158/300] loss: 0.709949\n"
          ]
        },
        {
          "metadata": {
            "tags": null
          },
          "name": "stderr",
          "output_type": "stream",
          "text": [
            "100%|██████████| 7114/7114 [00:23<00:00, 300.81it/s]\n"
          ]
        },
        {
          "metadata": {
            "tags": null
          },
          "name": "stdout",
          "output_type": "stream",
          "text": [
            "[Epoch 159/300] loss: 0.615583\n"
          ]
        },
        {
          "metadata": {
            "tags": null
          },
          "name": "stderr",
          "output_type": "stream",
          "text": [
            "100%|██████████| 7114/7114 [00:22<00:00, 309.94it/s]\n"
          ]
        },
        {
          "metadata": {
            "tags": null
          },
          "name": "stdout",
          "output_type": "stream",
          "text": [
            "[Epoch 160/300] loss: 0.516042\n"
          ]
        },
        {
          "metadata": {
            "tags": null
          },
          "name": "stderr",
          "output_type": "stream",
          "text": [
            "100%|██████████| 7114/7114 [00:23<00:00, 303.96it/s]\n"
          ]
        },
        {
          "metadata": {
            "tags": null
          },
          "name": "stdout",
          "output_type": "stream",
          "text": [
            "[Epoch 161/300] loss: 0.546674\n"
          ]
        },
        {
          "metadata": {
            "tags": null
          },
          "name": "stderr",
          "output_type": "stream",
          "text": [
            "100%|██████████| 7114/7114 [00:23<00:00, 302.19it/s]\n"
          ]
        },
        {
          "metadata": {
            "tags": null
          },
          "name": "stdout",
          "output_type": "stream",
          "text": [
            "[Epoch 162/300] loss: 0.560264\n"
          ]
        },
        {
          "metadata": {
            "tags": null
          },
          "name": "stderr",
          "output_type": "stream",
          "text": [
            "100%|██████████| 7114/7114 [00:22<00:00, 313.63it/s]\n"
          ]
        },
        {
          "metadata": {
            "tags": null
          },
          "name": "stdout",
          "output_type": "stream",
          "text": [
            "[Epoch 163/300] loss: 0.564261\n"
          ]
        },
        {
          "metadata": {
            "tags": null
          },
          "name": "stderr",
          "output_type": "stream",
          "text": [
            "100%|██████████| 7114/7114 [00:23<00:00, 299.36it/s]\n"
          ]
        },
        {
          "metadata": {
            "tags": null
          },
          "name": "stdout",
          "output_type": "stream",
          "text": [
            "[Epoch 164/300] loss: 0.579451\n"
          ]
        },
        {
          "metadata": {
            "tags": null
          },
          "name": "stderr",
          "output_type": "stream",
          "text": [
            "100%|██████████| 7114/7114 [00:23<00:00, 304.57it/s]\n"
          ]
        },
        {
          "metadata": {
            "tags": null
          },
          "name": "stdout",
          "output_type": "stream",
          "text": [
            "[Epoch 165/300] loss: 0.500721\n"
          ]
        },
        {
          "metadata": {
            "tags": null
          },
          "name": "stderr",
          "output_type": "stream",
          "text": [
            "100%|██████████| 7114/7114 [00:23<00:00, 306.68it/s]\n"
          ]
        },
        {
          "metadata": {
            "tags": null
          },
          "name": "stdout",
          "output_type": "stream",
          "text": [
            "[Epoch 166/300] loss: 0.529482\n"
          ]
        },
        {
          "metadata": {
            "tags": null
          },
          "name": "stderr",
          "output_type": "stream",
          "text": [
            "100%|██████████| 7114/7114 [00:23<00:00, 301.29it/s]\n"
          ]
        },
        {
          "metadata": {
            "tags": null
          },
          "name": "stdout",
          "output_type": "stream",
          "text": [
            "[Epoch 167/300] loss: 0.487375\n"
          ]
        },
        {
          "metadata": {
            "tags": null
          },
          "name": "stderr",
          "output_type": "stream",
          "text": [
            "100%|██████████| 7114/7114 [00:22<00:00, 312.28it/s]\n"
          ]
        },
        {
          "metadata": {
            "tags": null
          },
          "name": "stdout",
          "output_type": "stream",
          "text": [
            "[Epoch 168/300] loss: 0.542584\n"
          ]
        },
        {
          "metadata": {
            "tags": null
          },
          "name": "stderr",
          "output_type": "stream",
          "text": [
            "100%|██████████| 7114/7114 [00:23<00:00, 298.46it/s]\n"
          ]
        },
        {
          "metadata": {
            "tags": null
          },
          "name": "stdout",
          "output_type": "stream",
          "text": [
            "[Epoch 169/300] loss: 0.507599\n"
          ]
        },
        {
          "metadata": {
            "tags": null
          },
          "name": "stderr",
          "output_type": "stream",
          "text": [
            "100%|██████████| 7114/7114 [00:23<00:00, 300.04it/s]\n"
          ]
        },
        {
          "metadata": {
            "tags": null
          },
          "name": "stdout",
          "output_type": "stream",
          "text": [
            "[Epoch 170/300] loss: 0.664452\n"
          ]
        },
        {
          "metadata": {
            "tags": null
          },
          "name": "stderr",
          "output_type": "stream",
          "text": [
            "100%|██████████| 7114/7114 [00:22<00:00, 312.04it/s]\n"
          ]
        },
        {
          "metadata": {
            "tags": null
          },
          "name": "stdout",
          "output_type": "stream",
          "text": [
            "[Epoch 171/300] loss: 0.502199\n"
          ]
        },
        {
          "metadata": {
            "tags": null
          },
          "name": "stderr",
          "output_type": "stream",
          "text": [
            "100%|██████████| 7114/7114 [00:23<00:00, 300.01it/s]\n"
          ]
        },
        {
          "metadata": {
            "tags": null
          },
          "name": "stdout",
          "output_type": "stream",
          "text": [
            "[Epoch 172/300] loss: 0.526747\n"
          ]
        },
        {
          "metadata": {
            "tags": null
          },
          "name": "stderr",
          "output_type": "stream",
          "text": [
            "100%|██████████| 7114/7114 [00:23<00:00, 307.38it/s]\n"
          ]
        },
        {
          "metadata": {
            "tags": null
          },
          "name": "stdout",
          "output_type": "stream",
          "text": [
            "[Epoch 173/300] loss: 0.489085\n"
          ]
        },
        {
          "metadata": {
            "tags": null
          },
          "name": "stderr",
          "output_type": "stream",
          "text": [
            "100%|██████████| 7114/7114 [00:23<00:00, 304.37it/s]\n"
          ]
        },
        {
          "metadata": {
            "tags": null
          },
          "name": "stdout",
          "output_type": "stream",
          "text": [
            "[Epoch 174/300] loss: 0.495510\n"
          ]
        },
        {
          "metadata": {
            "tags": null
          },
          "name": "stderr",
          "output_type": "stream",
          "text": [
            "100%|██████████| 7114/7114 [00:23<00:00, 300.25it/s]\n"
          ]
        },
        {
          "metadata": {
            "tags": null
          },
          "name": "stdout",
          "output_type": "stream",
          "text": [
            "[Epoch 175/300] loss: 0.453054\n"
          ]
        },
        {
          "metadata": {
            "tags": null
          },
          "name": "stderr",
          "output_type": "stream",
          "text": [
            "100%|██████████| 7114/7114 [00:22<00:00, 311.97it/s]\n"
          ]
        },
        {
          "metadata": {
            "tags": null
          },
          "name": "stdout",
          "output_type": "stream",
          "text": [
            "[Epoch 176/300] loss: 0.491046\n"
          ]
        },
        {
          "metadata": {
            "tags": null
          },
          "name": "stderr",
          "output_type": "stream",
          "text": [
            "100%|██████████| 7114/7114 [00:23<00:00, 300.81it/s]\n"
          ]
        },
        {
          "metadata": {
            "tags": null
          },
          "name": "stdout",
          "output_type": "stream",
          "text": [
            "[Epoch 177/300] loss: 0.488410\n"
          ]
        },
        {
          "metadata": {
            "tags": null
          },
          "name": "stderr",
          "output_type": "stream",
          "text": [
            "100%|██████████| 7114/7114 [00:23<00:00, 301.90it/s]\n"
          ]
        },
        {
          "metadata": {
            "tags": null
          },
          "name": "stdout",
          "output_type": "stream",
          "text": [
            "[Epoch 178/300] loss: 0.504138\n"
          ]
        },
        {
          "metadata": {
            "tags": null
          },
          "name": "stderr",
          "output_type": "stream",
          "text": [
            "100%|██████████| 7114/7114 [00:22<00:00, 311.37it/s]\n"
          ]
        },
        {
          "metadata": {
            "tags": null
          },
          "name": "stdout",
          "output_type": "stream",
          "text": [
            "[Epoch 179/300] loss: 0.499435\n"
          ]
        },
        {
          "metadata": {
            "tags": null
          },
          "name": "stderr",
          "output_type": "stream",
          "text": [
            "100%|██████████| 7114/7114 [00:23<00:00, 302.03it/s]\n"
          ]
        },
        {
          "metadata": {
            "tags": null
          },
          "name": "stdout",
          "output_type": "stream",
          "text": [
            "[Epoch 180/300] loss: 0.462685\n"
          ]
        },
        {
          "metadata": {
            "tags": null
          },
          "name": "stderr",
          "output_type": "stream",
          "text": [
            "100%|██████████| 7114/7114 [00:22<00:00, 311.87it/s]\n"
          ]
        },
        {
          "metadata": {
            "tags": null
          },
          "name": "stdout",
          "output_type": "stream",
          "text": [
            "[Epoch 181/300] loss: 0.724448\n"
          ]
        },
        {
          "metadata": {
            "tags": null
          },
          "name": "stderr",
          "output_type": "stream",
          "text": [
            "100%|██████████| 7114/7114 [00:23<00:00, 302.89it/s]\n"
          ]
        },
        {
          "metadata": {
            "tags": null
          },
          "name": "stdout",
          "output_type": "stream",
          "text": [
            "[Epoch 182/300] loss: 0.514740\n"
          ]
        },
        {
          "metadata": {
            "tags": null
          },
          "name": "stderr",
          "output_type": "stream",
          "text": [
            "100%|██████████| 7114/7114 [00:23<00:00, 301.44it/s]\n"
          ]
        },
        {
          "metadata": {
            "tags": null
          },
          "name": "stdout",
          "output_type": "stream",
          "text": [
            "[Epoch 183/300] loss: 0.483360\n"
          ]
        },
        {
          "metadata": {
            "tags": null
          },
          "name": "stderr",
          "output_type": "stream",
          "text": [
            "100%|██████████| 7114/7114 [00:22<00:00, 314.07it/s]\n"
          ]
        },
        {
          "metadata": {
            "tags": null
          },
          "name": "stdout",
          "output_type": "stream",
          "text": [
            "[Epoch 184/300] loss: 0.486867\n"
          ]
        },
        {
          "metadata": {
            "tags": null
          },
          "name": "stderr",
          "output_type": "stream",
          "text": [
            "100%|██████████| 7114/7114 [00:23<00:00, 300.03it/s]\n"
          ]
        },
        {
          "metadata": {
            "tags": null
          },
          "name": "stdout",
          "output_type": "stream",
          "text": [
            "[Epoch 185/300] loss: 0.550712\n"
          ]
        },
        {
          "metadata": {
            "tags": null
          },
          "name": "stderr",
          "output_type": "stream",
          "text": [
            "100%|██████████| 7114/7114 [00:22<00:00, 309.49it/s]\n"
          ]
        },
        {
          "metadata": {
            "tags": null
          },
          "name": "stdout",
          "output_type": "stream",
          "text": [
            "[Epoch 186/300] loss: 0.692089\n"
          ]
        },
        {
          "metadata": {
            "tags": null
          },
          "name": "stderr",
          "output_type": "stream",
          "text": [
            "100%|██████████| 7114/7114 [00:23<00:00, 304.70it/s]\n"
          ]
        },
        {
          "metadata": {
            "tags": null
          },
          "name": "stdout",
          "output_type": "stream",
          "text": [
            "[Epoch 187/300] loss: 0.498026\n"
          ]
        },
        {
          "metadata": {
            "tags": null
          },
          "name": "stderr",
          "output_type": "stream",
          "text": [
            "100%|██████████| 7114/7114 [00:23<00:00, 301.42it/s]\n"
          ]
        },
        {
          "metadata": {
            "tags": null
          },
          "name": "stdout",
          "output_type": "stream",
          "text": [
            "[Epoch 188/300] loss: 0.496178\n"
          ]
        },
        {
          "metadata": {
            "tags": null
          },
          "name": "stderr",
          "output_type": "stream",
          "text": [
            "100%|██████████| 7114/7114 [00:22<00:00, 312.70it/s]\n"
          ]
        },
        {
          "metadata": {
            "tags": null
          },
          "name": "stdout",
          "output_type": "stream",
          "text": [
            "[Epoch 189/300] loss: 0.560756\n"
          ]
        },
        {
          "metadata": {
            "tags": null
          },
          "name": "stderr",
          "output_type": "stream",
          "text": [
            "100%|██████████| 7114/7114 [00:23<00:00, 300.38it/s]\n"
          ]
        },
        {
          "metadata": {
            "tags": null
          },
          "name": "stdout",
          "output_type": "stream",
          "text": [
            "[Epoch 190/300] loss: 0.537771\n"
          ]
        },
        {
          "metadata": {
            "tags": null
          },
          "name": "stderr",
          "output_type": "stream",
          "text": [
            "100%|██████████| 7114/7114 [00:23<00:00, 304.29it/s]\n"
          ]
        },
        {
          "metadata": {
            "tags": null
          },
          "name": "stdout",
          "output_type": "stream",
          "text": [
            "[Epoch 191/300] loss: 0.500655\n"
          ]
        },
        {
          "metadata": {
            "tags": null
          },
          "name": "stderr",
          "output_type": "stream",
          "text": [
            "100%|██████████| 7114/7114 [00:23<00:00, 308.72it/s]\n"
          ]
        },
        {
          "metadata": {
            "tags": null
          },
          "name": "stdout",
          "output_type": "stream",
          "text": [
            "[Epoch 192/300] loss: 0.474792\n"
          ]
        },
        {
          "metadata": {
            "tags": null
          },
          "name": "stderr",
          "output_type": "stream",
          "text": [
            "100%|██████████| 7114/7114 [00:23<00:00, 300.16it/s]\n"
          ]
        },
        {
          "metadata": {
            "tags": null
          },
          "name": "stdout",
          "output_type": "stream",
          "text": [
            "[Epoch 193/300] loss: 0.619827\n"
          ]
        },
        {
          "metadata": {
            "tags": null
          },
          "name": "stderr",
          "output_type": "stream",
          "text": [
            "100%|██████████| 7114/7114 [00:22<00:00, 314.21it/s]\n"
          ]
        },
        {
          "metadata": {
            "tags": null
          },
          "name": "stdout",
          "output_type": "stream",
          "text": [
            "[Epoch 194/300] loss: 0.502695\n"
          ]
        },
        {
          "metadata": {
            "tags": null
          },
          "name": "stderr",
          "output_type": "stream",
          "text": [
            "100%|██████████| 7114/7114 [00:23<00:00, 301.56it/s]\n"
          ]
        },
        {
          "metadata": {
            "tags": null
          },
          "name": "stdout",
          "output_type": "stream",
          "text": [
            "[Epoch 195/300] loss: 0.491654\n"
          ]
        },
        {
          "metadata": {
            "tags": null
          },
          "name": "stderr",
          "output_type": "stream",
          "text": [
            "100%|██████████| 7114/7114 [00:23<00:00, 301.57it/s]\n"
          ]
        },
        {
          "metadata": {
            "tags": null
          },
          "name": "stdout",
          "output_type": "stream",
          "text": [
            "[Epoch 196/300] loss: 0.651792\n"
          ]
        },
        {
          "metadata": {
            "tags": null
          },
          "name": "stderr",
          "output_type": "stream",
          "text": [
            "100%|██████████| 7114/7114 [00:22<00:00, 311.80it/s]\n"
          ]
        },
        {
          "metadata": {
            "tags": null
          },
          "name": "stdout",
          "output_type": "stream",
          "text": [
            "[Epoch 197/300] loss: 0.494310\n"
          ]
        },
        {
          "metadata": {
            "tags": null
          },
          "name": "stderr",
          "output_type": "stream",
          "text": [
            "100%|██████████| 7114/7114 [00:23<00:00, 300.05it/s]\n"
          ]
        },
        {
          "metadata": {
            "tags": null
          },
          "name": "stdout",
          "output_type": "stream",
          "text": [
            "[Epoch 198/300] loss: 0.503094\n"
          ]
        },
        {
          "metadata": {
            "tags": null
          },
          "name": "stderr",
          "output_type": "stream",
          "text": [
            "100%|██████████| 7114/7114 [00:23<00:00, 308.59it/s]\n"
          ]
        },
        {
          "metadata": {
            "tags": null
          },
          "name": "stdout",
          "output_type": "stream",
          "text": [
            "[Epoch 199/300] loss: 0.480331\n"
          ]
        },
        {
          "metadata": {
            "tags": null
          },
          "name": "stderr",
          "output_type": "stream",
          "text": [
            "100%|██████████| 7114/7114 [00:23<00:00, 305.78it/s]\n"
          ]
        },
        {
          "metadata": {
            "tags": null
          },
          "name": "stdout",
          "output_type": "stream",
          "text": [
            "[Epoch 200/300] loss: 0.498429\n"
          ]
        },
        {
          "metadata": {
            "tags": null
          },
          "name": "stderr",
          "output_type": "stream",
          "text": [
            "100%|██████████| 7114/7114 [00:23<00:00, 300.69it/s]\n"
          ]
        },
        {
          "metadata": {
            "tags": null
          },
          "name": "stdout",
          "output_type": "stream",
          "text": [
            "[Epoch 201/300] loss: 0.469076\n"
          ]
        },
        {
          "metadata": {
            "tags": null
          },
          "name": "stderr",
          "output_type": "stream",
          "text": [
            "100%|██████████| 7114/7114 [00:22<00:00, 315.23it/s]\n"
          ]
        },
        {
          "metadata": {
            "tags": null
          },
          "name": "stdout",
          "output_type": "stream",
          "text": [
            "[Epoch 202/300] loss: 0.472755\n"
          ]
        },
        {
          "metadata": {
            "tags": null
          },
          "name": "stderr",
          "output_type": "stream",
          "text": [
            "100%|██████████| 7114/7114 [00:23<00:00, 301.37it/s]\n"
          ]
        },
        {
          "metadata": {
            "tags": null
          },
          "name": "stdout",
          "output_type": "stream",
          "text": [
            "[Epoch 203/300] loss: 0.476529\n"
          ]
        },
        {
          "metadata": {
            "tags": null
          },
          "name": "stderr",
          "output_type": "stream",
          "text": [
            "100%|██████████| 7114/7114 [00:23<00:00, 304.68it/s]\n"
          ]
        },
        {
          "metadata": {
            "tags": null
          },
          "name": "stdout",
          "output_type": "stream",
          "text": [
            "[Epoch 204/300] loss: 0.514814\n"
          ]
        },
        {
          "metadata": {
            "tags": null
          },
          "name": "stderr",
          "output_type": "stream",
          "text": [
            "100%|██████████| 7114/7114 [00:23<00:00, 309.26it/s]\n"
          ]
        },
        {
          "metadata": {
            "tags": null
          },
          "name": "stdout",
          "output_type": "stream",
          "text": [
            "[Epoch 205/300] loss: 0.490686\n"
          ]
        },
        {
          "metadata": {
            "tags": null
          },
          "name": "stderr",
          "output_type": "stream",
          "text": [
            "100%|██████████| 7114/7114 [00:23<00:00, 302.25it/s]\n"
          ]
        },
        {
          "metadata": {
            "tags": null
          },
          "name": "stdout",
          "output_type": "stream",
          "text": [
            "[Epoch 206/300] loss: 0.558202\n"
          ]
        },
        {
          "metadata": {
            "tags": null
          },
          "name": "stderr",
          "output_type": "stream",
          "text": [
            "100%|██████████| 7114/7114 [00:22<00:00, 315.13it/s]\n"
          ]
        },
        {
          "metadata": {
            "tags": null
          },
          "name": "stdout",
          "output_type": "stream",
          "text": [
            "[Epoch 207/300] loss: 0.515069\n"
          ]
        },
        {
          "metadata": {
            "tags": null
          },
          "name": "stderr",
          "output_type": "stream",
          "text": [
            "100%|██████████| 7114/7114 [00:23<00:00, 301.80it/s]\n"
          ]
        },
        {
          "metadata": {
            "tags": null
          },
          "name": "stdout",
          "output_type": "stream",
          "text": [
            "[Epoch 208/300] loss: 0.618055\n"
          ]
        },
        {
          "metadata": {
            "tags": null
          },
          "name": "stderr",
          "output_type": "stream",
          "text": [
            "100%|██████████| 7114/7114 [00:23<00:00, 304.33it/s]\n"
          ]
        },
        {
          "metadata": {
            "tags": null
          },
          "name": "stdout",
          "output_type": "stream",
          "text": [
            "[Epoch 209/300] loss: 0.466201\n"
          ]
        },
        {
          "metadata": {
            "tags": null
          },
          "name": "stderr",
          "output_type": "stream",
          "text": [
            "100%|██████████| 7114/7114 [00:22<00:00, 311.31it/s]\n"
          ]
        },
        {
          "metadata": {
            "tags": null
          },
          "name": "stdout",
          "output_type": "stream",
          "text": [
            "[Epoch 210/300] loss: 0.459133\n"
          ]
        },
        {
          "metadata": {
            "tags": null
          },
          "name": "stderr",
          "output_type": "stream",
          "text": [
            "100%|██████████| 7114/7114 [00:23<00:00, 301.43it/s]\n"
          ]
        },
        {
          "metadata": {
            "tags": null
          },
          "name": "stdout",
          "output_type": "stream",
          "text": [
            "[Epoch 211/300] loss: 0.456318\n"
          ]
        },
        {
          "metadata": {
            "tags": null
          },
          "name": "stderr",
          "output_type": "stream",
          "text": [
            "100%|██████████| 7114/7114 [00:22<00:00, 314.16it/s]\n"
          ]
        },
        {
          "metadata": {
            "tags": null
          },
          "name": "stdout",
          "output_type": "stream",
          "text": [
            "[Epoch 212/300] loss: 0.446163\n"
          ]
        },
        {
          "metadata": {
            "tags": null
          },
          "name": "stderr",
          "output_type": "stream",
          "text": [
            "100%|██████████| 7114/7114 [00:23<00:00, 304.41it/s]\n"
          ]
        },
        {
          "metadata": {
            "tags": null
          },
          "name": "stdout",
          "output_type": "stream",
          "text": [
            "[Epoch 213/300] loss: 0.475257\n"
          ]
        },
        {
          "metadata": {
            "tags": null
          },
          "name": "stderr",
          "output_type": "stream",
          "text": [
            "100%|██████████| 7114/7114 [00:23<00:00, 301.76it/s]\n"
          ]
        },
        {
          "metadata": {
            "tags": null
          },
          "name": "stdout",
          "output_type": "stream",
          "text": [
            "[Epoch 214/300] loss: 0.509440\n"
          ]
        },
        {
          "metadata": {
            "tags": null
          },
          "name": "stderr",
          "output_type": "stream",
          "text": [
            "100%|██████████| 7114/7114 [00:22<00:00, 313.97it/s]\n"
          ]
        },
        {
          "metadata": {
            "tags": null
          },
          "name": "stdout",
          "output_type": "stream",
          "text": [
            "[Epoch 215/300] loss: 0.448271\n"
          ]
        },
        {
          "metadata": {
            "tags": null
          },
          "name": "stderr",
          "output_type": "stream",
          "text": [
            "100%|██████████| 7114/7114 [00:23<00:00, 300.34it/s]\n"
          ]
        },
        {
          "metadata": {
            "tags": null
          },
          "name": "stdout",
          "output_type": "stream",
          "text": [
            "[Epoch 216/300] loss: 0.470512\n"
          ]
        },
        {
          "metadata": {
            "tags": null
          },
          "name": "stderr",
          "output_type": "stream",
          "text": [
            "100%|██████████| 7114/7114 [00:23<00:00, 305.61it/s]\n"
          ]
        },
        {
          "metadata": {
            "tags": null
          },
          "name": "stdout",
          "output_type": "stream",
          "text": [
            "[Epoch 217/300] loss: 0.478029\n"
          ]
        },
        {
          "metadata": {
            "tags": null
          },
          "name": "stderr",
          "output_type": "stream",
          "text": [
            "100%|██████████| 7114/7114 [00:23<00:00, 307.12it/s]\n"
          ]
        },
        {
          "metadata": {
            "tags": null
          },
          "name": "stdout",
          "output_type": "stream",
          "text": [
            "[Epoch 218/300] loss: 0.480930\n"
          ]
        },
        {
          "metadata": {
            "tags": null
          },
          "name": "stderr",
          "output_type": "stream",
          "text": [
            "100%|██████████| 7114/7114 [00:23<00:00, 302.83it/s]\n"
          ]
        },
        {
          "metadata": {
            "tags": null
          },
          "name": "stdout",
          "output_type": "stream",
          "text": [
            "[Epoch 219/300] loss: 0.478924\n"
          ]
        },
        {
          "metadata": {
            "tags": null
          },
          "name": "stderr",
          "output_type": "stream",
          "text": [
            "100%|██████████| 7114/7114 [00:22<00:00, 316.12it/s]\n"
          ]
        },
        {
          "metadata": {
            "tags": null
          },
          "name": "stdout",
          "output_type": "stream",
          "text": [
            "[Epoch 220/300] loss: 0.464965\n"
          ]
        },
        {
          "metadata": {
            "tags": null
          },
          "name": "stderr",
          "output_type": "stream",
          "text": [
            "100%|██████████| 7114/7114 [00:23<00:00, 302.56it/s]\n"
          ]
        },
        {
          "metadata": {
            "tags": null
          },
          "name": "stdout",
          "output_type": "stream",
          "text": [
            "[Epoch 221/300] loss: 0.435146\n"
          ]
        },
        {
          "metadata": {
            "tags": null
          },
          "name": "stderr",
          "output_type": "stream",
          "text": [
            "100%|██████████| 7114/7114 [00:23<00:00, 306.04it/s]\n"
          ]
        },
        {
          "metadata": {
            "tags": null
          },
          "name": "stdout",
          "output_type": "stream",
          "text": [
            "[Epoch 222/300] loss: 0.520193\n"
          ]
        },
        {
          "metadata": {
            "tags": null
          },
          "name": "stderr",
          "output_type": "stream",
          "text": [
            "100%|██████████| 7114/7114 [00:23<00:00, 307.70it/s]\n"
          ]
        },
        {
          "metadata": {
            "tags": null
          },
          "name": "stdout",
          "output_type": "stream",
          "text": [
            "[Epoch 223/300] loss: 0.487257\n"
          ]
        },
        {
          "metadata": {
            "tags": null
          },
          "name": "stderr",
          "output_type": "stream",
          "text": [
            "100%|██████████| 7114/7114 [00:23<00:00, 300.30it/s]\n"
          ]
        },
        {
          "metadata": {
            "tags": null
          },
          "name": "stdout",
          "output_type": "stream",
          "text": [
            "[Epoch 224/300] loss: 0.495395\n"
          ]
        },
        {
          "metadata": {
            "tags": null
          },
          "name": "stderr",
          "output_type": "stream",
          "text": [
            "100%|██████████| 7114/7114 [00:22<00:00, 312.43it/s]\n"
          ]
        },
        {
          "metadata": {
            "tags": null
          },
          "name": "stdout",
          "output_type": "stream",
          "text": [
            "[Epoch 225/300] loss: 0.469760\n"
          ]
        },
        {
          "metadata": {
            "tags": null
          },
          "name": "stderr",
          "output_type": "stream",
          "text": [
            "100%|██████████| 7114/7114 [00:23<00:00, 302.27it/s]\n"
          ]
        },
        {
          "metadata": {
            "tags": null
          },
          "name": "stdout",
          "output_type": "stream",
          "text": [
            "[Epoch 226/300] loss: 0.499615\n"
          ]
        },
        {
          "metadata": {
            "tags": null
          },
          "name": "stderr",
          "output_type": "stream",
          "text": [
            "100%|██████████| 7114/7114 [00:26<00:00, 265.67it/s]\n"
          ]
        },
        {
          "metadata": {
            "tags": null
          },
          "name": "stdout",
          "output_type": "stream",
          "text": [
            "[Epoch 227/300] loss: 0.578179\n"
          ]
        },
        {
          "metadata": {
            "tags": null
          },
          "name": "stderr",
          "output_type": "stream",
          "text": [
            "100%|██████████| 7114/7114 [00:22<00:00, 313.27it/s]\n"
          ]
        },
        {
          "metadata": {
            "tags": null
          },
          "name": "stdout",
          "output_type": "stream",
          "text": [
            "[Epoch 228/300] loss: 0.574638\n"
          ]
        },
        {
          "metadata": {
            "tags": null
          },
          "name": "stderr",
          "output_type": "stream",
          "text": [
            "100%|██████████| 7114/7114 [00:23<00:00, 301.40it/s]\n"
          ]
        },
        {
          "metadata": {
            "tags": null
          },
          "name": "stdout",
          "output_type": "stream",
          "text": [
            "[Epoch 229/300] loss: 0.469705\n"
          ]
        },
        {
          "metadata": {
            "tags": null
          },
          "name": "stderr",
          "output_type": "stream",
          "text": [
            "100%|██████████| 7114/7114 [00:23<00:00, 303.56it/s]\n"
          ]
        },
        {
          "metadata": {
            "tags": null
          },
          "name": "stdout",
          "output_type": "stream",
          "text": [
            "[Epoch 230/300] loss: 0.531054\n"
          ]
        },
        {
          "metadata": {
            "tags": null
          },
          "name": "stderr",
          "output_type": "stream",
          "text": [
            "100%|██████████| 7114/7114 [00:24<00:00, 296.20it/s]\n"
          ]
        },
        {
          "metadata": {
            "tags": null
          },
          "name": "stdout",
          "output_type": "stream",
          "text": [
            "[Epoch 231/300] loss: 0.523802\n"
          ]
        },
        {
          "metadata": {
            "tags": null
          },
          "name": "stderr",
          "output_type": "stream",
          "text": [
            "100%|██████████| 7114/7114 [00:23<00:00, 301.18it/s]\n"
          ]
        },
        {
          "metadata": {
            "tags": null
          },
          "name": "stdout",
          "output_type": "stream",
          "text": [
            "[Epoch 232/300] loss: 0.439490\n"
          ]
        },
        {
          "metadata": {
            "tags": null
          },
          "name": "stderr",
          "output_type": "stream",
          "text": [
            "100%|██████████| 7114/7114 [00:23<00:00, 307.02it/s]\n"
          ]
        },
        {
          "metadata": {
            "tags": null
          },
          "name": "stdout",
          "output_type": "stream",
          "text": [
            "[Epoch 233/300] loss: 0.439420\n"
          ]
        },
        {
          "metadata": {
            "tags": null
          },
          "name": "stderr",
          "output_type": "stream",
          "text": [
            "100%|██████████| 7114/7114 [00:23<00:00, 303.71it/s]\n"
          ]
        },
        {
          "metadata": {
            "tags": null
          },
          "name": "stdout",
          "output_type": "stream",
          "text": [
            "[Epoch 234/300] loss: 0.433676\n"
          ]
        },
        {
          "metadata": {
            "tags": null
          },
          "name": "stderr",
          "output_type": "stream",
          "text": [
            "100%|██████████| 7114/7114 [00:23<00:00, 299.57it/s]\n"
          ]
        },
        {
          "metadata": {
            "tags": null
          },
          "name": "stdout",
          "output_type": "stream",
          "text": [
            "[Epoch 235/300] loss: 0.485275\n"
          ]
        },
        {
          "metadata": {
            "tags": null
          },
          "name": "stderr",
          "output_type": "stream",
          "text": [
            "100%|██████████| 7114/7114 [00:22<00:00, 314.84it/s]\n"
          ]
        },
        {
          "metadata": {
            "tags": null
          },
          "name": "stdout",
          "output_type": "stream",
          "text": [
            "[Epoch 236/300] loss: 0.459198\n"
          ]
        },
        {
          "metadata": {
            "tags": null
          },
          "name": "stderr",
          "output_type": "stream",
          "text": [
            "100%|██████████| 7114/7114 [00:23<00:00, 299.12it/s]\n"
          ]
        },
        {
          "metadata": {
            "tags": null
          },
          "name": "stdout",
          "output_type": "stream",
          "text": [
            "[Epoch 237/300] loss: 0.466134\n"
          ]
        },
        {
          "metadata": {
            "tags": null
          },
          "name": "stderr",
          "output_type": "stream",
          "text": [
            "100%|██████████| 7114/7114 [00:24<00:00, 293.46it/s]\n"
          ]
        },
        {
          "metadata": {
            "tags": null
          },
          "name": "stdout",
          "output_type": "stream",
          "text": [
            "[Epoch 238/300] loss: 0.459617\n"
          ]
        },
        {
          "metadata": {
            "tags": null
          },
          "name": "stderr",
          "output_type": "stream",
          "text": [
            "100%|██████████| 7114/7114 [00:23<00:00, 306.64it/s]\n"
          ]
        },
        {
          "metadata": {
            "tags": null
          },
          "name": "stdout",
          "output_type": "stream",
          "text": [
            "[Epoch 239/300] loss: 0.570829\n"
          ]
        },
        {
          "output_type": "stream",
          "name": "stderr",
          "text": [
            "100%|██████████| 7114/7114 [00:23<00:00, 301.55it/s]\n"
          ]
        },
        {
          "output_type": "stream",
          "name": "stdout",
          "text": [
            "[Epoch 240/300] loss: 0.461219\n"
          ]
        },
        {
          "output_type": "stream",
          "name": "stderr",
          "text": [
            "100%|██████████| 7114/7114 [00:23<00:00, 303.42it/s]\n"
          ]
        },
        {
          "output_type": "stream",
          "name": "stdout",
          "text": [
            "[Epoch 241/300] loss: 0.470770\n"
          ]
        },
        {
          "output_type": "stream",
          "name": "stderr",
          "text": [
            "100%|██████████| 7114/7114 [00:22<00:00, 313.63it/s]\n"
          ]
        },
        {
          "output_type": "stream",
          "name": "stdout",
          "text": [
            "[Epoch 242/300] loss: 0.486520\n"
          ]
        },
        {
          "output_type": "stream",
          "name": "stderr",
          "text": [
            "100%|██████████| 7114/7114 [00:23<00:00, 302.52it/s]\n"
          ]
        },
        {
          "output_type": "stream",
          "name": "stdout",
          "text": [
            "[Epoch 243/300] loss: 0.456293\n"
          ]
        },
        {
          "output_type": "stream",
          "name": "stderr",
          "text": [
            "100%|██████████| 7114/7114 [00:23<00:00, 301.76it/s]\n"
          ]
        },
        {
          "output_type": "stream",
          "name": "stdout",
          "text": [
            "[Epoch 244/300] loss: 0.700095\n"
          ]
        },
        {
          "output_type": "stream",
          "name": "stderr",
          "text": [
            "100%|██████████| 7114/7114 [00:23<00:00, 308.06it/s]\n"
          ]
        },
        {
          "output_type": "stream",
          "name": "stdout",
          "text": [
            "[Epoch 245/300] loss: 0.441000\n"
          ]
        },
        {
          "output_type": "stream",
          "name": "stderr",
          "text": [
            "100%|██████████| 7114/7114 [00:23<00:00, 306.97it/s]\n"
          ]
        },
        {
          "output_type": "stream",
          "name": "stdout",
          "text": [
            "[Epoch 246/300] loss: 0.467713\n"
          ]
        },
        {
          "output_type": "stream",
          "name": "stderr",
          "text": [
            "100%|██████████| 7114/7114 [00:23<00:00, 304.51it/s]\n"
          ]
        },
        {
          "output_type": "stream",
          "name": "stdout",
          "text": [
            "[Epoch 247/300] loss: 0.453947\n"
          ]
        },
        {
          "output_type": "stream",
          "name": "stderr",
          "text": [
            "100%|██████████| 7114/7114 [00:23<00:00, 301.95it/s]\n"
          ]
        },
        {
          "output_type": "stream",
          "name": "stdout",
          "text": [
            "[Epoch 248/300] loss: 0.473923\n"
          ]
        },
        {
          "output_type": "stream",
          "name": "stderr",
          "text": [
            "100%|██████████| 7114/7114 [00:22<00:00, 311.55it/s]\n"
          ]
        },
        {
          "output_type": "stream",
          "name": "stdout",
          "text": [
            "[Epoch 249/300] loss: 0.438881\n"
          ]
        },
        {
          "output_type": "stream",
          "name": "stderr",
          "text": [
            "100%|██████████| 7114/7114 [00:23<00:00, 298.91it/s]\n"
          ]
        },
        {
          "output_type": "stream",
          "name": "stdout",
          "text": [
            "[Epoch 250/300] loss: 0.439644\n"
          ]
        },
        {
          "output_type": "stream",
          "name": "stderr",
          "text": [
            "100%|██████████| 7114/7114 [00:23<00:00, 297.68it/s]\n"
          ]
        },
        {
          "output_type": "stream",
          "name": "stdout",
          "text": [
            "[Epoch 251/300] loss: 0.427009\n"
          ]
        },
        {
          "output_type": "stream",
          "name": "stderr",
          "text": [
            "100%|██████████| 7114/7114 [00:22<00:00, 310.47it/s]\n"
          ]
        },
        {
          "output_type": "stream",
          "name": "stdout",
          "text": [
            "[Epoch 252/300] loss: 0.474287\n"
          ]
        },
        {
          "output_type": "stream",
          "name": "stderr",
          "text": [
            "100%|██████████| 7114/7114 [00:23<00:00, 307.26it/s]\n"
          ]
        },
        {
          "output_type": "stream",
          "name": "stdout",
          "text": [
            "[Epoch 253/300] loss: 0.434852\n"
          ]
        },
        {
          "output_type": "stream",
          "name": "stderr",
          "text": [
            "100%|██████████| 7114/7114 [00:23<00:00, 302.37it/s]\n"
          ]
        },
        {
          "output_type": "stream",
          "name": "stdout",
          "text": [
            "[Epoch 254/300] loss: 0.495436\n"
          ]
        },
        {
          "output_type": "stream",
          "name": "stderr",
          "text": [
            "100%|██████████| 7114/7114 [00:23<00:00, 300.19it/s]\n"
          ]
        },
        {
          "output_type": "stream",
          "name": "stdout",
          "text": [
            "[Epoch 255/300] loss: 0.472085\n"
          ]
        },
        {
          "output_type": "stream",
          "name": "stderr",
          "text": [
            "100%|██████████| 7114/7114 [00:22<00:00, 313.59it/s]\n"
          ]
        },
        {
          "output_type": "stream",
          "name": "stdout",
          "text": [
            "[Epoch 256/300] loss: 0.449287\n"
          ]
        },
        {
          "output_type": "stream",
          "name": "stderr",
          "text": [
            "100%|██████████| 7114/7114 [00:23<00:00, 299.89it/s]\n"
          ]
        },
        {
          "output_type": "stream",
          "name": "stdout",
          "text": [
            "[Epoch 257/300] loss: 0.466456\n"
          ]
        },
        {
          "output_type": "stream",
          "name": "stderr",
          "text": [
            "100%|██████████| 7114/7114 [00:23<00:00, 299.44it/s]\n"
          ]
        },
        {
          "output_type": "stream",
          "name": "stdout",
          "text": [
            "[Epoch 258/300] loss: 0.458923\n"
          ]
        },
        {
          "output_type": "stream",
          "name": "stderr",
          "text": [
            "100%|██████████| 7114/7114 [00:23<00:00, 298.67it/s]\n"
          ]
        },
        {
          "output_type": "stream",
          "name": "stdout",
          "text": [
            "[Epoch 259/300] loss: 0.415890\n"
          ]
        },
        {
          "output_type": "stream",
          "name": "stderr",
          "text": [
            "100%|██████████| 7114/7114 [00:22<00:00, 309.36it/s]\n"
          ]
        },
        {
          "output_type": "stream",
          "name": "stdout",
          "text": [
            "[Epoch 260/300] loss: 0.463215\n"
          ]
        },
        {
          "output_type": "stream",
          "name": "stderr",
          "text": [
            "100%|██████████| 7114/7114 [00:23<00:00, 299.28it/s]\n"
          ]
        },
        {
          "output_type": "stream",
          "name": "stdout",
          "text": [
            "[Epoch 261/300] loss: 0.465166\n"
          ]
        },
        {
          "output_type": "stream",
          "name": "stderr",
          "text": [
            "100%|██████████| 7114/7114 [00:23<00:00, 299.06it/s]\n"
          ]
        },
        {
          "output_type": "stream",
          "name": "stdout",
          "text": [
            "[Epoch 262/300] loss: 0.445743\n"
          ]
        },
        {
          "output_type": "stream",
          "name": "stderr",
          "text": [
            "100%|██████████| 7114/7114 [00:22<00:00, 310.35it/s]\n"
          ]
        },
        {
          "output_type": "stream",
          "name": "stdout",
          "text": [
            "[Epoch 263/300] loss: 0.441163\n"
          ]
        },
        {
          "output_type": "stream",
          "name": "stderr",
          "text": [
            "100%|██████████| 7114/7114 [00:23<00:00, 305.77it/s]\n"
          ]
        },
        {
          "output_type": "stream",
          "name": "stdout",
          "text": [
            "[Epoch 264/300] loss: 0.442873\n"
          ]
        },
        {
          "output_type": "stream",
          "name": "stderr",
          "text": [
            "100%|██████████| 7114/7114 [00:23<00:00, 302.32it/s]\n"
          ]
        },
        {
          "output_type": "stream",
          "name": "stdout",
          "text": [
            "[Epoch 265/300] loss: 0.460655\n"
          ]
        },
        {
          "output_type": "stream",
          "name": "stderr",
          "text": [
            "100%|██████████| 7114/7114 [00:23<00:00, 303.65it/s]\n"
          ]
        },
        {
          "output_type": "stream",
          "name": "stdout",
          "text": [
            "[Epoch 266/300] loss: 0.429025\n"
          ]
        },
        {
          "output_type": "stream",
          "name": "stderr",
          "text": [
            "100%|██████████| 7114/7114 [00:22<00:00, 313.60it/s]\n"
          ]
        },
        {
          "output_type": "stream",
          "name": "stdout",
          "text": [
            "[Epoch 267/300] loss: 0.460011\n"
          ]
        },
        {
          "output_type": "stream",
          "name": "stderr",
          "text": [
            "100%|██████████| 7114/7114 [00:23<00:00, 305.33it/s]\n"
          ]
        },
        {
          "output_type": "stream",
          "name": "stdout",
          "text": [
            "[Epoch 268/300] loss: 0.448236\n"
          ]
        },
        {
          "output_type": "stream",
          "name": "stderr",
          "text": [
            "100%|██████████| 7114/7114 [00:23<00:00, 303.76it/s]\n"
          ]
        },
        {
          "output_type": "stream",
          "name": "stdout",
          "text": [
            "[Epoch 269/300] loss: 0.432363\n"
          ]
        },
        {
          "output_type": "stream",
          "name": "stderr",
          "text": [
            "100%|██████████| 7114/7114 [00:23<00:00, 308.63it/s]\n"
          ]
        },
        {
          "output_type": "stream",
          "name": "stdout",
          "text": [
            "[Epoch 270/300] loss: 0.472078\n"
          ]
        },
        {
          "output_type": "stream",
          "name": "stderr",
          "text": [
            "100%|██████████| 7114/7114 [00:23<00:00, 306.40it/s]\n"
          ]
        },
        {
          "output_type": "stream",
          "name": "stdout",
          "text": [
            "[Epoch 271/300] loss: 0.444639\n"
          ]
        },
        {
          "output_type": "stream",
          "name": "stderr",
          "text": [
            "100%|██████████| 7114/7114 [00:23<00:00, 303.98it/s]\n"
          ]
        },
        {
          "output_type": "stream",
          "name": "stdout",
          "text": [
            "[Epoch 272/300] loss: 0.498033\n"
          ]
        },
        {
          "output_type": "stream",
          "name": "stderr",
          "text": [
            "100%|██████████| 7114/7114 [00:23<00:00, 305.75it/s]\n"
          ]
        },
        {
          "output_type": "stream",
          "name": "stdout",
          "text": [
            "[Epoch 273/300] loss: 0.477200\n"
          ]
        },
        {
          "output_type": "stream",
          "name": "stderr",
          "text": [
            "100%|██████████| 7114/7114 [00:22<00:00, 315.91it/s]\n"
          ]
        },
        {
          "output_type": "stream",
          "name": "stdout",
          "text": [
            "[Epoch 274/300] loss: 0.482897\n"
          ]
        },
        {
          "output_type": "stream",
          "name": "stderr",
          "text": [
            "100%|██████████| 7114/7114 [00:23<00:00, 305.50it/s]\n"
          ]
        },
        {
          "output_type": "stream",
          "name": "stdout",
          "text": [
            "[Epoch 275/300] loss: 0.443893\n"
          ]
        },
        {
          "output_type": "stream",
          "name": "stderr",
          "text": [
            "100%|██████████| 7114/7114 [00:23<00:00, 304.83it/s]\n"
          ]
        },
        {
          "output_type": "stream",
          "name": "stdout",
          "text": [
            "[Epoch 276/300] loss: 0.491540\n"
          ]
        },
        {
          "output_type": "stream",
          "name": "stderr",
          "text": [
            "100%|██████████| 7114/7114 [00:22<00:00, 315.00it/s]\n"
          ]
        },
        {
          "output_type": "stream",
          "name": "stdout",
          "text": [
            "[Epoch 277/300] loss: 0.425929\n"
          ]
        },
        {
          "output_type": "stream",
          "name": "stderr",
          "text": [
            "100%|██████████| 7114/7114 [00:23<00:00, 303.17it/s]\n"
          ]
        },
        {
          "output_type": "stream",
          "name": "stdout",
          "text": [
            "[Epoch 278/300] loss: 0.521627\n"
          ]
        },
        {
          "output_type": "stream",
          "name": "stderr",
          "text": [
            "100%|██████████| 7114/7114 [00:23<00:00, 302.52it/s]\n"
          ]
        },
        {
          "output_type": "stream",
          "name": "stdout",
          "text": [
            "[Epoch 279/300] loss: 0.437802\n"
          ]
        },
        {
          "output_type": "stream",
          "name": "stderr",
          "text": [
            "100%|██████████| 7114/7114 [00:23<00:00, 307.78it/s]\n"
          ]
        },
        {
          "output_type": "stream",
          "name": "stdout",
          "text": [
            "[Epoch 280/300] loss: 0.463943\n"
          ]
        },
        {
          "output_type": "stream",
          "name": "stderr",
          "text": [
            "100%|██████████| 7114/7114 [00:23<00:00, 308.14it/s]\n"
          ]
        },
        {
          "output_type": "stream",
          "name": "stdout",
          "text": [
            "[Epoch 281/300] loss: 0.499834\n"
          ]
        },
        {
          "output_type": "stream",
          "name": "stderr",
          "text": [
            "100%|██████████| 7114/7114 [00:23<00:00, 304.59it/s]\n"
          ]
        },
        {
          "output_type": "stream",
          "name": "stdout",
          "text": [
            "[Epoch 282/300] loss: 0.430004\n"
          ]
        },
        {
          "output_type": "stream",
          "name": "stderr",
          "text": [
            "100%|██████████| 7114/7114 [00:23<00:00, 304.82it/s]\n"
          ]
        },
        {
          "output_type": "stream",
          "name": "stdout",
          "text": [
            "[Epoch 283/300] loss: 0.415339\n"
          ]
        },
        {
          "output_type": "stream",
          "name": "stderr",
          "text": [
            "100%|██████████| 7114/7114 [00:22<00:00, 311.56it/s]\n"
          ]
        },
        {
          "output_type": "stream",
          "name": "stdout",
          "text": [
            "[Epoch 284/300] loss: 0.914507\n"
          ]
        },
        {
          "output_type": "stream",
          "name": "stderr",
          "text": [
            "100%|██████████| 7114/7114 [00:23<00:00, 304.52it/s]\n"
          ]
        },
        {
          "output_type": "stream",
          "name": "stdout",
          "text": [
            "[Epoch 285/300] loss: 0.506000\n"
          ]
        },
        {
          "output_type": "stream",
          "name": "stderr",
          "text": [
            "100%|██████████| 7114/7114 [00:23<00:00, 303.69it/s]\n"
          ]
        },
        {
          "output_type": "stream",
          "name": "stdout",
          "text": [
            "[Epoch 286/300] loss: 0.443929\n"
          ]
        },
        {
          "output_type": "stream",
          "name": "stderr",
          "text": [
            "100%|██████████| 7114/7114 [00:22<00:00, 310.63it/s]\n"
          ]
        },
        {
          "output_type": "stream",
          "name": "stdout",
          "text": [
            "[Epoch 287/300] loss: 0.462835\n"
          ]
        },
        {
          "output_type": "stream",
          "name": "stderr",
          "text": [
            "100%|██████████| 7114/7114 [00:22<00:00, 310.40it/s]\n"
          ]
        },
        {
          "output_type": "stream",
          "name": "stdout",
          "text": [
            "[Epoch 288/300] loss: 0.442643\n"
          ]
        },
        {
          "output_type": "stream",
          "name": "stderr",
          "text": [
            "100%|██████████| 7114/7114 [00:23<00:00, 303.37it/s]\n"
          ]
        },
        {
          "output_type": "stream",
          "name": "stdout",
          "text": [
            "[Epoch 289/300] loss: 0.429884\n"
          ]
        },
        {
          "output_type": "stream",
          "name": "stderr",
          "text": [
            "100%|██████████| 7114/7114 [00:23<00:00, 303.33it/s]\n"
          ]
        },
        {
          "output_type": "stream",
          "name": "stdout",
          "text": [
            "[Epoch 290/300] loss: 0.598374\n"
          ]
        },
        {
          "output_type": "stream",
          "name": "stderr",
          "text": [
            "100%|██████████| 7114/7114 [00:22<00:00, 316.11it/s]\n"
          ]
        },
        {
          "output_type": "stream",
          "name": "stdout",
          "text": [
            "[Epoch 291/300] loss: 0.479883\n"
          ]
        },
        {
          "output_type": "stream",
          "name": "stderr",
          "text": [
            "100%|██████████| 7114/7114 [00:23<00:00, 304.16it/s]\n"
          ]
        },
        {
          "output_type": "stream",
          "name": "stdout",
          "text": [
            "[Epoch 292/300] loss: 0.433629\n"
          ]
        },
        {
          "output_type": "stream",
          "name": "stderr",
          "text": [
            "100%|██████████| 7114/7114 [00:23<00:00, 304.94it/s]\n"
          ]
        },
        {
          "output_type": "stream",
          "name": "stdout",
          "text": [
            "[Epoch 293/300] loss: 0.486566\n"
          ]
        },
        {
          "output_type": "stream",
          "name": "stderr",
          "text": [
            "100%|██████████| 7114/7114 [00:22<00:00, 311.18it/s]\n"
          ]
        },
        {
          "output_type": "stream",
          "name": "stdout",
          "text": [
            "[Epoch 294/300] loss: 0.486580\n"
          ]
        },
        {
          "output_type": "stream",
          "name": "stderr",
          "text": [
            "100%|██████████| 7114/7114 [00:23<00:00, 307.96it/s]\n"
          ]
        },
        {
          "output_type": "stream",
          "name": "stdout",
          "text": [
            "[Epoch 295/300] loss: 0.456755\n"
          ]
        },
        {
          "output_type": "stream",
          "name": "stderr",
          "text": [
            "100%|██████████| 7114/7114 [00:23<00:00, 302.24it/s]\n"
          ]
        },
        {
          "output_type": "stream",
          "name": "stdout",
          "text": [
            "[Epoch 296/300] loss: 0.434360\n"
          ]
        },
        {
          "output_type": "stream",
          "name": "stderr",
          "text": [
            "100%|██████████| 7114/7114 [00:23<00:00, 302.05it/s]\n"
          ]
        },
        {
          "output_type": "stream",
          "name": "stdout",
          "text": [
            "[Epoch 297/300] loss: 0.428686\n"
          ]
        },
        {
          "output_type": "stream",
          "name": "stderr",
          "text": [
            "100%|██████████| 7114/7114 [00:22<00:00, 312.11it/s]\n"
          ]
        },
        {
          "output_type": "stream",
          "name": "stdout",
          "text": [
            "[Epoch 298/300] loss: 0.497053\n"
          ]
        },
        {
          "output_type": "stream",
          "name": "stderr",
          "text": [
            "100%|██████████| 7114/7114 [00:23<00:00, 307.41it/s]\n"
          ]
        },
        {
          "output_type": "stream",
          "name": "stdout",
          "text": [
            "[Epoch 299/300] loss: 0.707089\n"
          ]
        },
        {
          "output_type": "stream",
          "name": "stderr",
          "text": [
            "100%|██████████| 7114/7114 [00:23<00:00, 305.11it/s]\n"
          ]
        },
        {
          "output_type": "stream",
          "name": "stdout",
          "text": [
            "[Epoch 300/300] loss: 0.520282\n"
          ]
        },
        {
          "output_type": "display_data",
          "data": {
            "text/plain": [
              "<Figure size 640x480 with 2 Axes>"
            ],
            "image/png": "[encoded data removed]"
          },
          "metadata": {}
        },
        {
          "output_type": "display_data",
          "data": {
            "text/plain": [
              "<Figure size 640x480 with 1 Axes>"
            ],
            "image/png": "[encoded data removed]"
          },
          "metadata": {}
        },
        {
          "output_type": "display_data",
          "data": {
            "text/plain": [
              "<Figure size 640x480 with 1 Axes>"
            ],
            "image/png": "[encoded data removed]"
          },
          "metadata": {}
        },
        {
          "output_type": "stream",
          "name": "stdout",
          "text": [
            "                   pre       rec       spe        f1       geo       iba       sup\n",
            "\n",
            "        0.0       1.00      0.13      0.95      0.23      0.35      0.11     56864\n",
            "        1.0       0.00      0.95      0.13      0.00      0.35      0.13        98\n",
            "\n",
            "avg / total       1.00      0.13      0.95      0.23      0.35      0.11     56962\n",
            "\n",
            "AUPRC: 0.4144187403120531\n",
            "AP: 0.001981131846537749\n"
          ]
        }
      ],
      "source": [
        "fw_model = FraudModel(df_concat)\n",
        "fw_model.train(epochs=300)\n",
        "fw_model.evaluate(df_test, confidence=0.90)"
      ]
    },
    {
      "cell_type": "code",
      "source": [
        "path = \"vgan_model.pt\"\n",
        "torch.save(fw_model.model.state_dict(), path)"
      ],
      "metadata": {
        "id": "KsD2LUSt_8Pm"
      },
      "execution_count": 31,
      "outputs": []
    },
    {
      "cell_type": "markdown",
      "metadata": {
        "id": "EA46ZOhkNMof"
      },
      "source": [
        "### LSTM-Based Detection"
      ]
    },
    {
      "cell_type": "code",
      "execution_count": 20,
      "metadata": {
        "id": "sqE6UVvINMof"
      },
      "outputs": [],
      "source": [
        "#split df_concat into train and test\n",
        "ltsm_train, ltsm_test = train_test_split(df_concat, test_size=0.2, random_state=42)"
      ]
    },
    {
      "cell_type": "code",
      "source": [
        "def create_time_dataset(in_df, seq_size=10):\n",
        "    X, y = [], []\n",
        "    for i in range(len(in_df) - seq_size):\n",
        "        slice = in_df[i:i+seq_size]\n",
        "        X.append(slice.drop(['Class', 'Time'], axis=1).values)\n",
        "        y.append(slice['Class'].values[-1])\n",
        "\n",
        "    X = np.array(X)\n",
        "    y = np.array(y)\n",
        "\n",
        "    return torch.Tensor(X).to(device), torch.Tensor(y).to(device)"
      ],
      "metadata": {
        "id": "fXGHXm2URN6t"
      },
      "execution_count": 21,
      "outputs": []
    },
    {
      "cell_type": "code",
      "execution_count": 22,
      "metadata": {
        "id": "d5vGLuqCNMof"
      },
      "outputs": [],
      "source": [
        "class LSTMModel(nn.Module):\n",
        "    def __init__(self, input_size):\n",
        "        super().__init__()\n",
        "        self.hidden_size = 256\n",
        "        self.lstm = nn.LSTM(input_size,\n",
        "                            hidden_size=self.hidden_size,\n",
        "                            num_layers=5,\n",
        "                            bidirectional=True,\n",
        "                            batch_first=True)\n",
        "        self.linear = nn.Sequential(\n",
        "            nn.Linear(self.hidden_size * 2, 512),\n",
        "            nn.ReLU(),\n",
        "            nn.Linear(512, 1),\n",
        "            nn.Sigmoid(),\n",
        "        )\n",
        "\n",
        "    def forward(self, x):\n",
        "        x, hx = self.lstm(x)\n",
        "        out = torch.cat((hx[0][-2, :, :], hx[0][-1, :, :]), dim=1)\n",
        "        return torch.flatten(self.linear(out))"
      ]
    },
    {
      "cell_type": "code",
      "execution_count": 23,
      "metadata": {
        "id": "VxXQ9eFUNMog"
      },
      "outputs": [],
      "source": [
        "class LSTMFraudModel:\n",
        "    def __init__(self, train_df):\n",
        "        self.lr = 0.0001\n",
        "        self.batch_size = 128\n",
        "        X_train, y_train = create_time_dataset(train_df)\n",
        "        self.dataset = TensorDataset(X_train, y_train)\n",
        "        self.dataloader = DataLoader(self.dataset, self.batch_size, shuffle=True)\n",
        "        self.model = LSTMModel(input_size=X_train.shape[2]).to(device)\n",
        "        self.optimizer = optim.Adam(self.model.parameters(), lr=self.lr)\n",
        "        self.loss = nn.BCELoss()\n",
        "\n",
        "    def train(self, epochs=100):\n",
        "        for epoch in range(epochs):\n",
        "            epoch_loss = 0\n",
        "            for _, (x, y) in enumerate(tqdm(self.dataloader)):\n",
        "                x,y = x.to(device), y.to(device)\n",
        "                self.optimizer.zero_grad()\n",
        "                y_pred = self.model(x)\n",
        "                loss = self.loss(y_pred, y)\n",
        "                loss.backward()\n",
        "                self.optimizer.step()\n",
        "                epoch_loss += loss.item() / len(x)\n",
        "            print(\"[Epoch %d/%d] loss: %f\" % (epoch+1, epochs, np.mean(epoch_loss)))\n",
        "\n",
        "    def predict(self, x):\n",
        "        with torch.no_grad():\n",
        "            pred = self.model(x)\n",
        "            return pred.cpu().numpy()\n",
        "\n",
        "    def evaluate(self, test_df, confidence=0.50):\n",
        "        input, y_true = create_time_dataset(test_df)\n",
        "        dataloader = DataLoader(TensorDataset(input, y_true), self.batch_size, shuffle=False)\n",
        "        preds = np.array([])\n",
        "        for (inp, _) in dataloader:\n",
        "            pred = self.predict(inp)\n",
        "            preds = np.concatenate((preds, pred), axis=None)\n",
        "        labels = np.zeros_like(preds)\n",
        "        labels[preds >= confidence] = 1.0\n",
        "        common_metrics(y_true.cpu().numpy(), labels, preds)"
      ]
    },
    {
      "cell_type": "code",
      "execution_count": 24,
      "metadata": {
        "id": "AwXwPyZDNMog"
      },
      "outputs": [],
      "source": [
        "lstm = LSTMFraudModel(ltsm_train)"
      ]
    },
    {
      "cell_type": "code",
      "execution_count": 25,
      "metadata": {
        "colab": {
          "base_uri": "https://localhost:8080/"
        },
        "id": "WgwtLJdsNMog",
        "outputId": "a4b3284c-bc58-4f54-a048-a098aa54db52"
      },
      "outputs": [
        {
          "metadata": {
            "tags": null
          },
          "name": "stderr",
          "output_type": "stream",
          "text": [
            "100%|██████████| 2846/2846 [01:02<00:00, 45.90it/s]\n"
          ]
        },
        {
          "metadata": {
            "tags": null
          },
          "name": "stdout",
          "output_type": "stream",
          "text": [
            "[Epoch 1/300] loss: 0.639998\n"
          ]
        },
        {
          "metadata": {
            "tags": null
          },
          "name": "stderr",
          "output_type": "stream",
          "text": [
            "100%|██████████| 2846/2846 [01:01<00:00, 46.45it/s]\n"
          ]
        },
        {
          "metadata": {
            "tags": null
          },
          "name": "stdout",
          "output_type": "stream",
          "text": [
            "[Epoch 2/300] loss: 0.090704\n"
          ]
        },
        {
          "metadata": {
            "tags": null
          },
          "name": "stderr",
          "output_type": "stream",
          "text": [
            "100%|██████████| 2846/2846 [01:01<00:00, 46.46it/s]\n"
          ]
        },
        {
          "metadata": {
            "tags": null
          },
          "name": "stdout",
          "output_type": "stream",
          "text": [
            "[Epoch 3/300] loss: 0.079597\n"
          ]
        },
        {
          "metadata": {
            "tags": null
          },
          "name": "stderr",
          "output_type": "stream",
          "text": [
            "100%|██████████| 2846/2846 [01:01<00:00, 46.43it/s]\n"
          ]
        },
        {
          "metadata": {
            "tags": null
          },
          "name": "stdout",
          "output_type": "stream",
          "text": [
            "[Epoch 4/300] loss: 0.064379\n"
          ]
        },
        {
          "metadata": {
            "tags": null
          },
          "name": "stderr",
          "output_type": "stream",
          "text": [
            "100%|██████████| 2846/2846 [01:01<00:00, 46.28it/s]\n"
          ]
        },
        {
          "metadata": {
            "tags": null
          },
          "name": "stdout",
          "output_type": "stream",
          "text": [
            "[Epoch 5/300] loss: 0.053895\n"
          ]
        },
        {
          "metadata": {
            "tags": null
          },
          "name": "stderr",
          "output_type": "stream",
          "text": [
            "100%|██████████| 2846/2846 [01:01<00:00, 46.46it/s]\n"
          ]
        },
        {
          "metadata": {
            "tags": null
          },
          "name": "stdout",
          "output_type": "stream",
          "text": [
            "[Epoch 6/300] loss: 0.044959\n"
          ]
        },
        {
          "metadata": {
            "tags": null
          },
          "name": "stderr",
          "output_type": "stream",
          "text": [
            "100%|██████████| 2846/2846 [01:01<00:00, 46.05it/s]\n"
          ]
        },
        {
          "metadata": {
            "tags": null
          },
          "name": "stdout",
          "output_type": "stream",
          "text": [
            "[Epoch 7/300] loss: 0.041178\n"
          ]
        },
        {
          "metadata": {
            "tags": null
          },
          "name": "stderr",
          "output_type": "stream",
          "text": [
            "100%|██████████| 2846/2846 [01:01<00:00, 46.26it/s]\n"
          ]
        },
        {
          "metadata": {
            "tags": null
          },
          "name": "stdout",
          "output_type": "stream",
          "text": [
            "[Epoch 8/300] loss: 0.037331\n"
          ]
        },
        {
          "metadata": {
            "tags": null
          },
          "name": "stderr",
          "output_type": "stream",
          "text": [
            "100%|██████████| 2846/2846 [01:01<00:00, 46.12it/s]\n"
          ]
        },
        {
          "metadata": {
            "tags": null
          },
          "name": "stdout",
          "output_type": "stream",
          "text": [
            "[Epoch 9/300] loss: 0.036243\n"
          ]
        },
        {
          "metadata": {
            "tags": null
          },
          "name": "stderr",
          "output_type": "stream",
          "text": [
            "100%|██████████| 2846/2846 [01:01<00:00, 46.23it/s]\n"
          ]
        },
        {
          "metadata": {
            "tags": null
          },
          "name": "stdout",
          "output_type": "stream",
          "text": [
            "[Epoch 10/300] loss: 0.034390\n"
          ]
        },
        {
          "metadata": {
            "tags": null
          },
          "name": "stderr",
          "output_type": "stream",
          "text": [
            "100%|██████████| 2846/2846 [01:01<00:00, 46.22it/s]\n"
          ]
        },
        {
          "metadata": {
            "tags": null
          },
          "name": "stdout",
          "output_type": "stream",
          "text": [
            "[Epoch 11/300] loss: 0.035192\n"
          ]
        },
        {
          "metadata": {
            "tags": null
          },
          "name": "stderr",
          "output_type": "stream",
          "text": [
            "100%|██████████| 2846/2846 [01:01<00:00, 46.16it/s]\n"
          ]
        },
        {
          "metadata": {
            "tags": null
          },
          "name": "stdout",
          "output_type": "stream",
          "text": [
            "[Epoch 12/300] loss: 0.032516\n"
          ]
        },
        {
          "metadata": {
            "tags": null
          },
          "name": "stderr",
          "output_type": "stream",
          "text": [
            "100%|██████████| 2846/2846 [01:01<00:00, 46.42it/s]\n"
          ]
        },
        {
          "metadata": {
            "tags": null
          },
          "name": "stdout",
          "output_type": "stream",
          "text": [
            "[Epoch 13/300] loss: 0.032337\n"
          ]
        },
        {
          "metadata": {
            "tags": null
          },
          "name": "stderr",
          "output_type": "stream",
          "text": [
            "100%|██████████| 2846/2846 [01:01<00:00, 46.29it/s]\n"
          ]
        },
        {
          "metadata": {
            "tags": null
          },
          "name": "stdout",
          "output_type": "stream",
          "text": [
            "[Epoch 14/300] loss: 0.030908\n"
          ]
        },
        {
          "metadata": {
            "tags": null
          },
          "name": "stderr",
          "output_type": "stream",
          "text": [
            "100%|██████████| 2846/2846 [01:01<00:00, 46.32it/s]\n"
          ]
        },
        {
          "metadata": {
            "tags": null
          },
          "name": "stdout",
          "output_type": "stream",
          "text": [
            "[Epoch 15/300] loss: 0.026335\n"
          ]
        },
        {
          "metadata": {
            "tags": null
          },
          "name": "stderr",
          "output_type": "stream",
          "text": [
            "100%|██████████| 2846/2846 [01:01<00:00, 46.39it/s]\n"
          ]
        },
        {
          "metadata": {
            "tags": null
          },
          "name": "stdout",
          "output_type": "stream",
          "text": [
            "[Epoch 16/300] loss: 0.024295\n"
          ]
        },
        {
          "metadata": {
            "tags": null
          },
          "name": "stderr",
          "output_type": "stream",
          "text": [
            "100%|██████████| 2846/2846 [01:00<00:00, 46.92it/s]\n"
          ]
        },
        {
          "metadata": {
            "tags": null
          },
          "name": "stdout",
          "output_type": "stream",
          "text": [
            "[Epoch 17/300] loss: 0.023121\n"
          ]
        },
        {
          "metadata": {
            "tags": null
          },
          "name": "stderr",
          "output_type": "stream",
          "text": [
            "100%|██████████| 2846/2846 [01:01<00:00, 46.43it/s]\n"
          ]
        },
        {
          "metadata": {
            "tags": null
          },
          "name": "stdout",
          "output_type": "stream",
          "text": [
            "[Epoch 18/300] loss: 0.023721\n"
          ]
        },
        {
          "metadata": {
            "tags": null
          },
          "name": "stderr",
          "output_type": "stream",
          "text": [
            "100%|██████████| 2846/2846 [01:01<00:00, 46.27it/s]\n"
          ]
        },
        {
          "metadata": {
            "tags": null
          },
          "name": "stdout",
          "output_type": "stream",
          "text": [
            "[Epoch 19/300] loss: 0.021222\n"
          ]
        },
        {
          "metadata": {
            "tags": null
          },
          "name": "stderr",
          "output_type": "stream",
          "text": [
            "100%|██████████| 2846/2846 [01:01<00:00, 46.25it/s]\n"
          ]
        },
        {
          "metadata": {
            "tags": null
          },
          "name": "stdout",
          "output_type": "stream",
          "text": [
            "[Epoch 20/300] loss: 0.020824\n"
          ]
        },
        {
          "metadata": {
            "tags": null
          },
          "name": "stderr",
          "output_type": "stream",
          "text": [
            "100%|██████████| 2846/2846 [01:00<00:00, 46.66it/s]\n"
          ]
        },
        {
          "metadata": {
            "tags": null
          },
          "name": "stdout",
          "output_type": "stream",
          "text": [
            "[Epoch 21/300] loss: 0.018213\n"
          ]
        },
        {
          "metadata": {
            "tags": null
          },
          "name": "stderr",
          "output_type": "stream",
          "text": [
            "100%|██████████| 2846/2846 [01:01<00:00, 46.62it/s]\n"
          ]
        },
        {
          "metadata": {
            "tags": null
          },
          "name": "stdout",
          "output_type": "stream",
          "text": [
            "[Epoch 22/300] loss: 0.017323\n"
          ]
        },
        {
          "metadata": {
            "tags": null
          },
          "name": "stderr",
          "output_type": "stream",
          "text": [
            "100%|██████████| 2846/2846 [01:00<00:00, 46.98it/s]\n"
          ]
        },
        {
          "metadata": {
            "tags": null
          },
          "name": "stdout",
          "output_type": "stream",
          "text": [
            "[Epoch 23/300] loss: 0.017224\n"
          ]
        },
        {
          "metadata": {
            "tags": null
          },
          "name": "stderr",
          "output_type": "stream",
          "text": [
            "100%|██████████| 2846/2846 [01:01<00:00, 46.61it/s]\n"
          ]
        },
        {
          "metadata": {
            "tags": null
          },
          "name": "stdout",
          "output_type": "stream",
          "text": [
            "[Epoch 24/300] loss: 0.014602\n"
          ]
        },
        {
          "metadata": {
            "tags": null
          },
          "name": "stderr",
          "output_type": "stream",
          "text": [
            "100%|██████████| 2846/2846 [01:00<00:00, 47.30it/s]\n"
          ]
        },
        {
          "metadata": {
            "tags": null
          },
          "name": "stdout",
          "output_type": "stream",
          "text": [
            "[Epoch 25/300] loss: 0.013174\n"
          ]
        },
        {
          "metadata": {
            "tags": null
          },
          "name": "stderr",
          "output_type": "stream",
          "text": [
            "100%|██████████| 2846/2846 [01:00<00:00, 46.75it/s]\n"
          ]
        },
        {
          "metadata": {
            "tags": null
          },
          "name": "stdout",
          "output_type": "stream",
          "text": [
            "[Epoch 26/300] loss: 0.014066\n"
          ]
        },
        {
          "metadata": {
            "tags": null
          },
          "name": "stderr",
          "output_type": "stream",
          "text": [
            "100%|██████████| 2846/2846 [01:00<00:00, 46.85it/s]\n"
          ]
        },
        {
          "metadata": {
            "tags": null
          },
          "name": "stdout",
          "output_type": "stream",
          "text": [
            "[Epoch 27/300] loss: 0.011853\n"
          ]
        },
        {
          "metadata": {
            "tags": null
          },
          "name": "stderr",
          "output_type": "stream",
          "text": [
            "100%|██████████| 2846/2846 [01:01<00:00, 46.24it/s]\n"
          ]
        },
        {
          "metadata": {
            "tags": null
          },
          "name": "stdout",
          "output_type": "stream",
          "text": [
            "[Epoch 28/300] loss: 0.011166\n"
          ]
        },
        {
          "metadata": {
            "tags": null
          },
          "name": "stderr",
          "output_type": "stream",
          "text": [
            "100%|██████████| 2846/2846 [01:01<00:00, 46.25it/s]\n"
          ]
        },
        {
          "metadata": {
            "tags": null
          },
          "name": "stdout",
          "output_type": "stream",
          "text": [
            "[Epoch 29/300] loss: 0.009557\n"
          ]
        },
        {
          "metadata": {
            "tags": null
          },
          "name": "stderr",
          "output_type": "stream",
          "text": [
            "100%|██████████| 2846/2846 [01:01<00:00, 46.31it/s]\n"
          ]
        },
        {
          "metadata": {
            "tags": null
          },
          "name": "stdout",
          "output_type": "stream",
          "text": [
            "[Epoch 30/300] loss: 0.008771\n"
          ]
        },
        {
          "metadata": {
            "tags": null
          },
          "name": "stderr",
          "output_type": "stream",
          "text": [
            "100%|██████████| 2846/2846 [01:00<00:00, 46.82it/s]\n"
          ]
        },
        {
          "metadata": {
            "tags": null
          },
          "name": "stdout",
          "output_type": "stream",
          "text": [
            "[Epoch 31/300] loss: 0.008709\n"
          ]
        },
        {
          "metadata": {
            "tags": null
          },
          "name": "stderr",
          "output_type": "stream",
          "text": [
            "100%|██████████| 2846/2846 [01:00<00:00, 47.13it/s]\n"
          ]
        },
        {
          "metadata": {
            "tags": null
          },
          "name": "stdout",
          "output_type": "stream",
          "text": [
            "[Epoch 32/300] loss: 0.018610\n"
          ]
        },
        {
          "metadata": {
            "tags": null
          },
          "name": "stderr",
          "output_type": "stream",
          "text": [
            "100%|██████████| 2846/2846 [01:00<00:00, 46.66it/s]\n"
          ]
        },
        {
          "metadata": {
            "tags": null
          },
          "name": "stdout",
          "output_type": "stream",
          "text": [
            "[Epoch 33/300] loss: 0.004940\n"
          ]
        },
        {
          "metadata": {
            "tags": null
          },
          "name": "stderr",
          "output_type": "stream",
          "text": [
            "100%|██████████| 2846/2846 [01:01<00:00, 46.64it/s]\n"
          ]
        },
        {
          "metadata": {
            "tags": null
          },
          "name": "stdout",
          "output_type": "stream",
          "text": [
            "[Epoch 34/300] loss: 0.007627\n"
          ]
        },
        {
          "metadata": {
            "tags": null
          },
          "name": "stderr",
          "output_type": "stream",
          "text": [
            "100%|██████████| 2846/2846 [01:00<00:00, 46.80it/s]\n"
          ]
        },
        {
          "metadata": {
            "tags": null
          },
          "name": "stdout",
          "output_type": "stream",
          "text": [
            "[Epoch 35/300] loss: 0.004527\n"
          ]
        },
        {
          "metadata": {
            "tags": null
          },
          "name": "stderr",
          "output_type": "stream",
          "text": [
            "100%|██████████| 2846/2846 [01:00<00:00, 47.15it/s]\n"
          ]
        },
        {
          "metadata": {
            "tags": null
          },
          "name": "stdout",
          "output_type": "stream",
          "text": [
            "[Epoch 36/300] loss: 0.004616\n"
          ]
        },
        {
          "metadata": {
            "tags": null
          },
          "name": "stderr",
          "output_type": "stream",
          "text": [
            "100%|██████████| 2846/2846 [01:00<00:00, 47.36it/s]\n"
          ]
        },
        {
          "metadata": {
            "tags": null
          },
          "name": "stdout",
          "output_type": "stream",
          "text": [
            "[Epoch 37/300] loss: 0.004696\n"
          ]
        },
        {
          "metadata": {
            "tags": null
          },
          "name": "stderr",
          "output_type": "stream",
          "text": [
            "100%|██████████| 2846/2846 [01:00<00:00, 47.26it/s]\n"
          ]
        },
        {
          "metadata": {
            "tags": null
          },
          "name": "stdout",
          "output_type": "stream",
          "text": [
            "[Epoch 38/300] loss: 0.003953\n"
          ]
        },
        {
          "metadata": {
            "tags": null
          },
          "name": "stderr",
          "output_type": "stream",
          "text": [
            "100%|██████████| 2846/2846 [01:00<00:00, 46.70it/s]\n"
          ]
        },
        {
          "metadata": {
            "tags": null
          },
          "name": "stdout",
          "output_type": "stream",
          "text": [
            "[Epoch 39/300] loss: 0.003053\n"
          ]
        },
        {
          "metadata": {
            "tags": null
          },
          "name": "stderr",
          "output_type": "stream",
          "text": [
            "100%|██████████| 2846/2846 [01:00<00:00, 46.73it/s]\n"
          ]
        },
        {
          "metadata": {
            "tags": null
          },
          "name": "stdout",
          "output_type": "stream",
          "text": [
            "[Epoch 40/300] loss: 0.002860\n"
          ]
        },
        {
          "metadata": {
            "tags": null
          },
          "name": "stderr",
          "output_type": "stream",
          "text": [
            "100%|██████████| 2846/2846 [01:00<00:00, 47.00it/s]\n"
          ]
        },
        {
          "metadata": {
            "tags": null
          },
          "name": "stdout",
          "output_type": "stream",
          "text": [
            "[Epoch 41/300] loss: 0.005363\n"
          ]
        },
        {
          "metadata": {
            "tags": null
          },
          "name": "stderr",
          "output_type": "stream",
          "text": [
            "100%|██████████| 2846/2846 [01:00<00:00, 46.77it/s]\n"
          ]
        },
        {
          "metadata": {
            "tags": null
          },
          "name": "stdout",
          "output_type": "stream",
          "text": [
            "[Epoch 42/300] loss: 0.001472\n"
          ]
        },
        {
          "metadata": {
            "tags": null
          },
          "name": "stderr",
          "output_type": "stream",
          "text": [
            "100%|██████████| 2846/2846 [01:00<00:00, 47.01it/s]\n"
          ]
        },
        {
          "metadata": {
            "tags": null
          },
          "name": "stdout",
          "output_type": "stream",
          "text": [
            "[Epoch 43/300] loss: 0.002692\n"
          ]
        },
        {
          "metadata": {
            "tags": null
          },
          "name": "stderr",
          "output_type": "stream",
          "text": [
            "100%|██████████| 2846/2846 [01:00<00:00, 47.24it/s]\n"
          ]
        },
        {
          "metadata": {
            "tags": null
          },
          "name": "stdout",
          "output_type": "stream",
          "text": [
            "[Epoch 44/300] loss: 0.001436\n"
          ]
        },
        {
          "metadata": {
            "tags": null
          },
          "name": "stderr",
          "output_type": "stream",
          "text": [
            "100%|██████████| 2846/2846 [01:00<00:00, 47.39it/s]\n"
          ]
        },
        {
          "metadata": {
            "tags": null
          },
          "name": "stdout",
          "output_type": "stream",
          "text": [
            "[Epoch 45/300] loss: 0.004337\n"
          ]
        },
        {
          "metadata": {
            "tags": null
          },
          "name": "stderr",
          "output_type": "stream",
          "text": [
            "100%|██████████| 2846/2846 [01:00<00:00, 46.87it/s]\n"
          ]
        },
        {
          "metadata": {
            "tags": null
          },
          "name": "stdout",
          "output_type": "stream",
          "text": [
            "[Epoch 46/300] loss: 0.006187\n"
          ]
        },
        {
          "metadata": {
            "tags": null
          },
          "name": "stderr",
          "output_type": "stream",
          "text": [
            "100%|██████████| 2846/2846 [01:00<00:00, 47.40it/s]\n"
          ]
        },
        {
          "metadata": {
            "tags": null
          },
          "name": "stdout",
          "output_type": "stream",
          "text": [
            "[Epoch 47/300] loss: 0.000809\n"
          ]
        },
        {
          "metadata": {
            "tags": null
          },
          "name": "stderr",
          "output_type": "stream",
          "text": [
            "100%|██████████| 2846/2846 [01:00<00:00, 47.39it/s]\n"
          ]
        },
        {
          "metadata": {
            "tags": null
          },
          "name": "stdout",
          "output_type": "stream",
          "text": [
            "[Epoch 48/300] loss: 0.000924\n"
          ]
        },
        {
          "metadata": {
            "tags": null
          },
          "name": "stderr",
          "output_type": "stream",
          "text": [
            "100%|██████████| 2846/2846 [01:00<00:00, 47.20it/s]\n"
          ]
        },
        {
          "metadata": {
            "tags": null
          },
          "name": "stdout",
          "output_type": "stream",
          "text": [
            "[Epoch 49/300] loss: 0.004109\n"
          ]
        },
        {
          "metadata": {
            "tags": null
          },
          "name": "stderr",
          "output_type": "stream",
          "text": [
            "100%|██████████| 2846/2846 [01:01<00:00, 46.33it/s]\n"
          ]
        },
        {
          "metadata": {
            "tags": null
          },
          "name": "stdout",
          "output_type": "stream",
          "text": [
            "[Epoch 50/300] loss: 0.003152\n"
          ]
        },
        {
          "metadata": {
            "tags": null
          },
          "name": "stderr",
          "output_type": "stream",
          "text": [
            "100%|██████████| 2846/2846 [01:00<00:00, 46.75it/s]\n"
          ]
        },
        {
          "metadata": {
            "tags": null
          },
          "name": "stdout",
          "output_type": "stream",
          "text": [
            "[Epoch 51/300] loss: 0.000520\n"
          ]
        },
        {
          "metadata": {
            "tags": null
          },
          "name": "stderr",
          "output_type": "stream",
          "text": [
            "100%|██████████| 2846/2846 [01:00<00:00, 47.32it/s]\n"
          ]
        },
        {
          "metadata": {
            "tags": null
          },
          "name": "stdout",
          "output_type": "stream",
          "text": [
            "[Epoch 52/300] loss: 0.000025\n"
          ]
        },
        {
          "metadata": {
            "tags": null
          },
          "name": "stderr",
          "output_type": "stream",
          "text": [
            "100%|██████████| 2846/2846 [01:00<00:00, 47.37it/s]\n"
          ]
        },
        {
          "metadata": {
            "tags": null
          },
          "name": "stdout",
          "output_type": "stream",
          "text": [
            "[Epoch 53/300] loss: 0.000001\n"
          ]
        },
        {
          "metadata": {
            "tags": null
          },
          "name": "stderr",
          "output_type": "stream",
          "text": [
            "100%|██████████| 2846/2846 [01:00<00:00, 47.43it/s]\n"
          ]
        },
        {
          "metadata": {
            "tags": null
          },
          "name": "stdout",
          "output_type": "stream",
          "text": [
            "[Epoch 54/300] loss: 0.000000\n"
          ]
        },
        {
          "metadata": {
            "tags": null
          },
          "name": "stderr",
          "output_type": "stream",
          "text": [
            "100%|██████████| 2846/2846 [01:00<00:00, 47.43it/s]\n"
          ]
        },
        {
          "metadata": {
            "tags": null
          },
          "name": "stdout",
          "output_type": "stream",
          "text": [
            "[Epoch 55/300] loss: 0.000000\n"
          ]
        },
        {
          "metadata": {
            "tags": null
          },
          "name": "stderr",
          "output_type": "stream",
          "text": [
            "100%|██████████| 2846/2846 [00:59<00:00, 47.45it/s]\n"
          ]
        },
        {
          "metadata": {
            "tags": null
          },
          "name": "stdout",
          "output_type": "stream",
          "text": [
            "[Epoch 56/300] loss: 0.000000\n"
          ]
        },
        {
          "metadata": {
            "tags": null
          },
          "name": "stderr",
          "output_type": "stream",
          "text": [
            "100%|██████████| 2846/2846 [00:59<00:00, 47.44it/s]\n"
          ]
        },
        {
          "metadata": {
            "tags": null
          },
          "name": "stdout",
          "output_type": "stream",
          "text": [
            "[Epoch 57/300] loss: 0.000000\n"
          ]
        },
        {
          "metadata": {
            "tags": null
          },
          "name": "stderr",
          "output_type": "stream",
          "text": [
            "100%|██████████| 2846/2846 [00:59<00:00, 47.43it/s]\n"
          ]
        },
        {
          "metadata": {
            "tags": null
          },
          "name": "stdout",
          "output_type": "stream",
          "text": [
            "[Epoch 58/300] loss: 0.000000\n"
          ]
        },
        {
          "metadata": {
            "tags": null
          },
          "name": "stderr",
          "output_type": "stream",
          "text": [
            "100%|██████████| 2846/2846 [00:59<00:00, 47.49it/s]\n"
          ]
        },
        {
          "metadata": {
            "tags": null
          },
          "name": "stdout",
          "output_type": "stream",
          "text": [
            "[Epoch 59/300] loss: 0.000000\n"
          ]
        },
        {
          "metadata": {
            "tags": null
          },
          "name": "stderr",
          "output_type": "stream",
          "text": [
            "100%|██████████| 2846/2846 [01:00<00:00, 47.40it/s]\n"
          ]
        },
        {
          "metadata": {
            "tags": null
          },
          "name": "stdout",
          "output_type": "stream",
          "text": [
            "[Epoch 60/300] loss: 0.000000\n"
          ]
        },
        {
          "metadata": {
            "tags": null
          },
          "name": "stderr",
          "output_type": "stream",
          "text": [
            "100%|██████████| 2846/2846 [01:00<00:00, 47.42it/s]\n"
          ]
        },
        {
          "metadata": {
            "tags": null
          },
          "name": "stdout",
          "output_type": "stream",
          "text": [
            "[Epoch 61/300] loss: 0.000000\n"
          ]
        },
        {
          "metadata": {
            "tags": null
          },
          "name": "stderr",
          "output_type": "stream",
          "text": [
            "100%|██████████| 2846/2846 [01:00<00:00, 47.39it/s]\n"
          ]
        },
        {
          "metadata": {
            "tags": null
          },
          "name": "stdout",
          "output_type": "stream",
          "text": [
            "[Epoch 62/300] loss: 0.004453\n"
          ]
        },
        {
          "metadata": {
            "tags": null
          },
          "name": "stderr",
          "output_type": "stream",
          "text": [
            "100%|██████████| 2846/2846 [01:00<00:00, 47.31it/s]\n"
          ]
        },
        {
          "metadata": {
            "tags": null
          },
          "name": "stdout",
          "output_type": "stream",
          "text": [
            "[Epoch 63/300] loss: 0.002626\n"
          ]
        },
        {
          "metadata": {
            "tags": null
          },
          "name": "stderr",
          "output_type": "stream",
          "text": [
            "100%|██████████| 2846/2846 [01:00<00:00, 47.37it/s]\n"
          ]
        },
        {
          "metadata": {
            "tags": null
          },
          "name": "stdout",
          "output_type": "stream",
          "text": [
            "[Epoch 64/300] loss: 0.006786\n"
          ]
        },
        {
          "metadata": {
            "tags": null
          },
          "name": "stderr",
          "output_type": "stream",
          "text": [
            "100%|██████████| 2846/2846 [01:00<00:00, 47.28it/s]\n"
          ]
        },
        {
          "metadata": {
            "tags": null
          },
          "name": "stdout",
          "output_type": "stream",
          "text": [
            "[Epoch 65/300] loss: 0.002591\n"
          ]
        },
        {
          "metadata": {
            "tags": null
          },
          "name": "stderr",
          "output_type": "stream",
          "text": [
            "100%|██████████| 2846/2846 [01:00<00:00, 47.40it/s]\n"
          ]
        },
        {
          "metadata": {
            "tags": null
          },
          "name": "stdout",
          "output_type": "stream",
          "text": [
            "[Epoch 66/300] loss: 0.000841\n"
          ]
        },
        {
          "metadata": {
            "tags": null
          },
          "name": "stderr",
          "output_type": "stream",
          "text": [
            "100%|██████████| 2846/2846 [01:00<00:00, 47.32it/s]\n"
          ]
        },
        {
          "metadata": {
            "tags": null
          },
          "name": "stdout",
          "output_type": "stream",
          "text": [
            "[Epoch 67/300] loss: 0.001129\n"
          ]
        },
        {
          "metadata": {
            "tags": null
          },
          "name": "stderr",
          "output_type": "stream",
          "text": [
            "100%|██████████| 2846/2846 [01:00<00:00, 47.08it/s]\n"
          ]
        },
        {
          "metadata": {
            "tags": null
          },
          "name": "stdout",
          "output_type": "stream",
          "text": [
            "[Epoch 68/300] loss: 0.008238\n"
          ]
        },
        {
          "metadata": {
            "tags": null
          },
          "name": "stderr",
          "output_type": "stream",
          "text": [
            "100%|██████████| 2846/2846 [01:00<00:00, 46.72it/s]\n"
          ]
        },
        {
          "metadata": {
            "tags": null
          },
          "name": "stdout",
          "output_type": "stream",
          "text": [
            "[Epoch 69/300] loss: 0.001944\n"
          ]
        },
        {
          "metadata": {
            "tags": null
          },
          "name": "stderr",
          "output_type": "stream",
          "text": [
            "100%|██████████| 2846/2846 [01:00<00:00, 47.12it/s]\n"
          ]
        },
        {
          "metadata": {
            "tags": null
          },
          "name": "stdout",
          "output_type": "stream",
          "text": [
            "[Epoch 70/300] loss: 0.002576\n"
          ]
        },
        {
          "metadata": {
            "tags": null
          },
          "name": "stderr",
          "output_type": "stream",
          "text": [
            "100%|██████████| 2846/2846 [01:00<00:00, 47.27it/s]\n"
          ]
        },
        {
          "metadata": {
            "tags": null
          },
          "name": "stdout",
          "output_type": "stream",
          "text": [
            "[Epoch 71/300] loss: 0.000994\n"
          ]
        },
        {
          "metadata": {
            "tags": null
          },
          "name": "stderr",
          "output_type": "stream",
          "text": [
            "100%|██████████| 2846/2846 [01:00<00:00, 47.33it/s]\n"
          ]
        },
        {
          "metadata": {
            "tags": null
          },
          "name": "stdout",
          "output_type": "stream",
          "text": [
            "[Epoch 72/300] loss: 0.000938\n"
          ]
        },
        {
          "metadata": {
            "tags": null
          },
          "name": "stderr",
          "output_type": "stream",
          "text": [
            "100%|██████████| 2846/2846 [01:00<00:00, 47.40it/s]\n"
          ]
        },
        {
          "metadata": {
            "tags": null
          },
          "name": "stdout",
          "output_type": "stream",
          "text": [
            "[Epoch 73/300] loss: 0.000834\n"
          ]
        },
        {
          "metadata": {
            "tags": null
          },
          "name": "stderr",
          "output_type": "stream",
          "text": [
            "100%|██████████| 2846/2846 [01:00<00:00, 47.32it/s]\n"
          ]
        },
        {
          "metadata": {
            "tags": null
          },
          "name": "stdout",
          "output_type": "stream",
          "text": [
            "[Epoch 74/300] loss: 0.002577\n"
          ]
        },
        {
          "metadata": {
            "tags": null
          },
          "name": "stderr",
          "output_type": "stream",
          "text": [
            "100%|██████████| 2846/2846 [01:00<00:00, 47.27it/s]\n"
          ]
        },
        {
          "metadata": {
            "tags": null
          },
          "name": "stdout",
          "output_type": "stream",
          "text": [
            "[Epoch 75/300] loss: 0.007292\n"
          ]
        },
        {
          "metadata": {
            "tags": null
          },
          "name": "stderr",
          "output_type": "stream",
          "text": [
            "100%|██████████| 2846/2846 [01:00<00:00, 47.25it/s]\n"
          ]
        },
        {
          "metadata": {
            "tags": null
          },
          "name": "stdout",
          "output_type": "stream",
          "text": [
            "[Epoch 76/300] loss: 0.001376\n"
          ]
        },
        {
          "metadata": {
            "tags": null
          },
          "name": "stderr",
          "output_type": "stream",
          "text": [
            "100%|██████████| 2846/2846 [01:00<00:00, 47.34it/s]\n"
          ]
        },
        {
          "metadata": {
            "tags": null
          },
          "name": "stdout",
          "output_type": "stream",
          "text": [
            "[Epoch 77/300] loss: 0.000780\n"
          ]
        },
        {
          "metadata": {
            "tags": null
          },
          "name": "stderr",
          "output_type": "stream",
          "text": [
            "100%|██████████| 2846/2846 [01:00<00:00, 47.09it/s]\n"
          ]
        },
        {
          "metadata": {
            "tags": null
          },
          "name": "stdout",
          "output_type": "stream",
          "text": [
            "[Epoch 78/300] loss: 0.002597\n"
          ]
        },
        {
          "output_type": "stream",
          "name": "stderr",
          "text": [
            "100%|██████████| 2846/2846 [01:00<00:00, 47.28it/s]\n"
          ]
        },
        {
          "output_type": "stream",
          "name": "stdout",
          "text": [
            "[Epoch 79/300] loss: 0.001725\n"
          ]
        },
        {
          "output_type": "stream",
          "name": "stderr",
          "text": [
            "100%|██████████| 2846/2846 [01:00<00:00, 47.13it/s]\n"
          ]
        },
        {
          "output_type": "stream",
          "name": "stdout",
          "text": [
            "[Epoch 80/300] loss: 0.000268\n"
          ]
        },
        {
          "output_type": "stream",
          "name": "stderr",
          "text": [
            "100%|██████████| 2846/2846 [01:00<00:00, 47.28it/s]\n"
          ]
        },
        {
          "output_type": "stream",
          "name": "stdout",
          "text": [
            "[Epoch 81/300] loss: 0.001164\n"
          ]
        },
        {
          "output_type": "stream",
          "name": "stderr",
          "text": [
            "100%|██████████| 2846/2846 [01:00<00:00, 47.32it/s]\n"
          ]
        },
        {
          "output_type": "stream",
          "name": "stdout",
          "text": [
            "[Epoch 82/300] loss: 0.000592\n"
          ]
        },
        {
          "output_type": "stream",
          "name": "stderr",
          "text": [
            "100%|██████████| 2846/2846 [01:00<00:00, 47.26it/s]\n"
          ]
        },
        {
          "output_type": "stream",
          "name": "stdout",
          "text": [
            "[Epoch 83/300] loss: 0.000035\n"
          ]
        },
        {
          "output_type": "stream",
          "name": "stderr",
          "text": [
            "100%|██████████| 2846/2846 [01:00<00:00, 47.41it/s]\n"
          ]
        },
        {
          "output_type": "stream",
          "name": "stdout",
          "text": [
            "[Epoch 84/300] loss: 0.000000\n"
          ]
        },
        {
          "output_type": "stream",
          "name": "stderr",
          "text": [
            "100%|██████████| 2846/2846 [01:00<00:00, 47.29it/s]\n"
          ]
        },
        {
          "output_type": "stream",
          "name": "stdout",
          "text": [
            "[Epoch 85/300] loss: 0.000000\n"
          ]
        },
        {
          "output_type": "stream",
          "name": "stderr",
          "text": [
            "100%|██████████| 2846/2846 [00:59<00:00, 47.46it/s]\n"
          ]
        },
        {
          "output_type": "stream",
          "name": "stdout",
          "text": [
            "[Epoch 86/300] loss: 0.000000\n"
          ]
        },
        {
          "output_type": "stream",
          "name": "stderr",
          "text": [
            "100%|██████████| 2846/2846 [01:00<00:00, 47.17it/s]\n"
          ]
        },
        {
          "output_type": "stream",
          "name": "stdout",
          "text": [
            "[Epoch 87/300] loss: 0.000000\n"
          ]
        },
        {
          "output_type": "stream",
          "name": "stderr",
          "text": [
            "100%|██████████| 2846/2846 [01:00<00:00, 47.29it/s]\n"
          ]
        },
        {
          "output_type": "stream",
          "name": "stdout",
          "text": [
            "[Epoch 88/300] loss: 0.000000\n"
          ]
        },
        {
          "output_type": "stream",
          "name": "stderr",
          "text": [
            "100%|██████████| 2846/2846 [01:00<00:00, 47.40it/s]\n"
          ]
        },
        {
          "output_type": "stream",
          "name": "stdout",
          "text": [
            "[Epoch 89/300] loss: 0.000000\n"
          ]
        },
        {
          "output_type": "stream",
          "name": "stderr",
          "text": [
            "100%|██████████| 2846/2846 [01:00<00:00, 47.29it/s]\n"
          ]
        },
        {
          "output_type": "stream",
          "name": "stdout",
          "text": [
            "[Epoch 90/300] loss: 0.000000\n"
          ]
        },
        {
          "output_type": "stream",
          "name": "stderr",
          "text": [
            "100%|██████████| 2846/2846 [00:59<00:00, 47.44it/s]\n"
          ]
        },
        {
          "output_type": "stream",
          "name": "stdout",
          "text": [
            "[Epoch 91/300] loss: 0.000000\n"
          ]
        },
        {
          "output_type": "stream",
          "name": "stderr",
          "text": [
            "100%|██████████| 2846/2846 [01:00<00:00, 47.29it/s]\n"
          ]
        },
        {
          "output_type": "stream",
          "name": "stdout",
          "text": [
            "[Epoch 92/300] loss: 0.001855\n"
          ]
        },
        {
          "output_type": "stream",
          "name": "stderr",
          "text": [
            "100%|██████████| 2846/2846 [01:00<00:00, 47.33it/s]\n"
          ]
        },
        {
          "output_type": "stream",
          "name": "stdout",
          "text": [
            "[Epoch 93/300] loss: 0.001884\n"
          ]
        },
        {
          "output_type": "stream",
          "name": "stderr",
          "text": [
            "100%|██████████| 2846/2846 [01:00<00:00, 47.36it/s]\n"
          ]
        },
        {
          "output_type": "stream",
          "name": "stdout",
          "text": [
            "[Epoch 94/300] loss: 0.000105\n"
          ]
        },
        {
          "output_type": "stream",
          "name": "stderr",
          "text": [
            "100%|██████████| 2846/2846 [01:00<00:00, 47.34it/s]\n"
          ]
        },
        {
          "output_type": "stream",
          "name": "stdout",
          "text": [
            "[Epoch 95/300] loss: 0.000001\n"
          ]
        },
        {
          "output_type": "stream",
          "name": "stderr",
          "text": [
            "100%|██████████| 2846/2846 [01:00<00:00, 47.43it/s]\n"
          ]
        },
        {
          "output_type": "stream",
          "name": "stdout",
          "text": [
            "[Epoch 96/300] loss: 0.000000\n"
          ]
        },
        {
          "output_type": "stream",
          "name": "stderr",
          "text": [
            "100%|██████████| 2846/2846 [01:00<00:00, 47.35it/s]\n"
          ]
        },
        {
          "output_type": "stream",
          "name": "stdout",
          "text": [
            "[Epoch 97/300] loss: 0.003467\n"
          ]
        },
        {
          "output_type": "stream",
          "name": "stderr",
          "text": [
            "100%|██████████| 2846/2846 [01:00<00:00, 47.40it/s]\n"
          ]
        },
        {
          "output_type": "stream",
          "name": "stdout",
          "text": [
            "[Epoch 98/300] loss: 0.001836\n"
          ]
        },
        {
          "output_type": "stream",
          "name": "stderr",
          "text": [
            "100%|██████████| 2846/2846 [01:00<00:00, 47.27it/s]\n"
          ]
        },
        {
          "output_type": "stream",
          "name": "stdout",
          "text": [
            "[Epoch 99/300] loss: 0.000186\n"
          ]
        },
        {
          "output_type": "stream",
          "name": "stderr",
          "text": [
            "100%|██████████| 2846/2846 [01:00<00:00, 47.38it/s]\n"
          ]
        },
        {
          "output_type": "stream",
          "name": "stdout",
          "text": [
            "[Epoch 100/300] loss: 0.002111\n"
          ]
        },
        {
          "output_type": "stream",
          "name": "stderr",
          "text": [
            "100%|██████████| 2846/2846 [01:00<00:00, 47.23it/s]\n"
          ]
        },
        {
          "output_type": "stream",
          "name": "stdout",
          "text": [
            "[Epoch 101/300] loss: 0.001890\n"
          ]
        },
        {
          "output_type": "stream",
          "name": "stderr",
          "text": [
            "100%|██████████| 2846/2846 [01:00<00:00, 47.29it/s]\n"
          ]
        },
        {
          "output_type": "stream",
          "name": "stdout",
          "text": [
            "[Epoch 102/300] loss: 0.000020\n"
          ]
        },
        {
          "output_type": "stream",
          "name": "stderr",
          "text": [
            "100%|██████████| 2846/2846 [01:00<00:00, 47.42it/s]\n"
          ]
        },
        {
          "output_type": "stream",
          "name": "stdout",
          "text": [
            "[Epoch 103/300] loss: 0.000000\n"
          ]
        },
        {
          "output_type": "stream",
          "name": "stderr",
          "text": [
            "100%|██████████| 2846/2846 [01:00<00:00, 47.31it/s]\n"
          ]
        },
        {
          "output_type": "stream",
          "name": "stdout",
          "text": [
            "[Epoch 104/300] loss: 0.000000\n"
          ]
        },
        {
          "output_type": "stream",
          "name": "stderr",
          "text": [
            "100%|██████████| 2846/2846 [00:59<00:00, 47.44it/s]\n"
          ]
        },
        {
          "output_type": "stream",
          "name": "stdout",
          "text": [
            "[Epoch 105/300] loss: 0.000000\n"
          ]
        },
        {
          "output_type": "stream",
          "name": "stderr",
          "text": [
            "100%|██████████| 2846/2846 [01:00<00:00, 47.36it/s]\n"
          ]
        },
        {
          "output_type": "stream",
          "name": "stdout",
          "text": [
            "[Epoch 106/300] loss: 0.000000\n"
          ]
        },
        {
          "output_type": "stream",
          "name": "stderr",
          "text": [
            "100%|██████████| 2846/2846 [01:00<00:00, 47.37it/s]\n"
          ]
        },
        {
          "output_type": "stream",
          "name": "stdout",
          "text": [
            "[Epoch 107/300] loss: 0.000000\n"
          ]
        },
        {
          "output_type": "stream",
          "name": "stderr",
          "text": [
            "100%|██████████| 2846/2846 [00:59<00:00, 47.45it/s]\n"
          ]
        },
        {
          "output_type": "stream",
          "name": "stdout",
          "text": [
            "[Epoch 108/300] loss: 0.000000\n"
          ]
        },
        {
          "output_type": "stream",
          "name": "stderr",
          "text": [
            "100%|██████████| 2846/2846 [01:00<00:00, 47.38it/s]\n"
          ]
        },
        {
          "output_type": "stream",
          "name": "stdout",
          "text": [
            "[Epoch 109/300] loss: 0.000000\n"
          ]
        },
        {
          "output_type": "stream",
          "name": "stderr",
          "text": [
            "100%|██████████| 2846/2846 [00:59<00:00, 47.50it/s]\n"
          ]
        },
        {
          "output_type": "stream",
          "name": "stdout",
          "text": [
            "[Epoch 110/300] loss: 0.000000\n"
          ]
        },
        {
          "output_type": "stream",
          "name": "stderr",
          "text": [
            "100%|██████████| 2846/2846 [01:00<00:00, 47.31it/s]\n"
          ]
        },
        {
          "output_type": "stream",
          "name": "stdout",
          "text": [
            "[Epoch 111/300] loss: 0.000000\n"
          ]
        },
        {
          "output_type": "stream",
          "name": "stderr",
          "text": [
            "100%|██████████| 2846/2846 [00:59<00:00, 47.47it/s]\n"
          ]
        },
        {
          "output_type": "stream",
          "name": "stdout",
          "text": [
            "[Epoch 112/300] loss: 0.000000\n"
          ]
        },
        {
          "output_type": "stream",
          "name": "stderr",
          "text": [
            "100%|██████████| 2846/2846 [01:00<00:00, 47.38it/s]\n"
          ]
        },
        {
          "output_type": "stream",
          "name": "stdout",
          "text": [
            "[Epoch 113/300] loss: 0.000000\n"
          ]
        },
        {
          "output_type": "stream",
          "name": "stderr",
          "text": [
            "100%|██████████| 2846/2846 [01:00<00:00, 47.29it/s]\n"
          ]
        },
        {
          "output_type": "stream",
          "name": "stdout",
          "text": [
            "[Epoch 114/300] loss: 0.000000\n"
          ]
        },
        {
          "output_type": "stream",
          "name": "stderr",
          "text": [
            "100%|██████████| 2846/2846 [01:00<00:00, 47.29it/s]\n"
          ]
        },
        {
          "output_type": "stream",
          "name": "stdout",
          "text": [
            "[Epoch 115/300] loss: 0.000000\n"
          ]
        },
        {
          "output_type": "stream",
          "name": "stderr",
          "text": [
            "100%|██████████| 2846/2846 [01:00<00:00, 47.25it/s]\n"
          ]
        },
        {
          "output_type": "stream",
          "name": "stdout",
          "text": [
            "[Epoch 116/300] loss: 0.000000\n"
          ]
        },
        {
          "output_type": "stream",
          "name": "stderr",
          "text": [
            "100%|██████████| 2846/2846 [01:00<00:00, 47.34it/s]\n"
          ]
        },
        {
          "output_type": "stream",
          "name": "stdout",
          "text": [
            "[Epoch 117/300] loss: 0.000000\n"
          ]
        },
        {
          "output_type": "stream",
          "name": "stderr",
          "text": [
            "100%|██████████| 2846/2846 [01:00<00:00, 47.29it/s]\n"
          ]
        },
        {
          "output_type": "stream",
          "name": "stdout",
          "text": [
            "[Epoch 118/300] loss: 0.000000\n"
          ]
        },
        {
          "output_type": "stream",
          "name": "stderr",
          "text": [
            "100%|██████████| 2846/2846 [01:00<00:00, 47.33it/s]\n"
          ]
        },
        {
          "output_type": "stream",
          "name": "stdout",
          "text": [
            "[Epoch 119/300] loss: 0.000000\n"
          ]
        },
        {
          "output_type": "stream",
          "name": "stderr",
          "text": [
            "100%|██████████| 2846/2846 [01:00<00:00, 47.31it/s]\n"
          ]
        },
        {
          "output_type": "stream",
          "name": "stdout",
          "text": [
            "[Epoch 120/300] loss: 0.000000\n"
          ]
        },
        {
          "output_type": "stream",
          "name": "stderr",
          "text": [
            "100%|██████████| 2846/2846 [01:00<00:00, 47.31it/s]\n"
          ]
        },
        {
          "output_type": "stream",
          "name": "stdout",
          "text": [
            "[Epoch 121/300] loss: 0.000000\n"
          ]
        },
        {
          "output_type": "stream",
          "name": "stderr",
          "text": [
            "100%|██████████| 2846/2846 [01:00<00:00, 47.39it/s]\n"
          ]
        },
        {
          "output_type": "stream",
          "name": "stdout",
          "text": [
            "[Epoch 122/300] loss: 0.000000\n"
          ]
        },
        {
          "output_type": "stream",
          "name": "stderr",
          "text": [
            "100%|██████████| 2846/2846 [01:00<00:00, 47.23it/s]\n"
          ]
        },
        {
          "output_type": "stream",
          "name": "stdout",
          "text": [
            "[Epoch 123/300] loss: 0.000000\n"
          ]
        },
        {
          "output_type": "stream",
          "name": "stderr",
          "text": [
            "100%|██████████| 2846/2846 [01:00<00:00, 47.36it/s]\n"
          ]
        },
        {
          "output_type": "stream",
          "name": "stdout",
          "text": [
            "[Epoch 124/300] loss: 0.000000\n"
          ]
        },
        {
          "output_type": "stream",
          "name": "stderr",
          "text": [
            "100%|██████████| 2846/2846 [01:00<00:00, 47.21it/s]\n"
          ]
        },
        {
          "output_type": "stream",
          "name": "stdout",
          "text": [
            "[Epoch 125/300] loss: 0.000000\n"
          ]
        },
        {
          "output_type": "stream",
          "name": "stderr",
          "text": [
            "100%|██████████| 2846/2846 [01:00<00:00, 47.36it/s]\n"
          ]
        },
        {
          "output_type": "stream",
          "name": "stdout",
          "text": [
            "[Epoch 126/300] loss: 0.000000\n"
          ]
        },
        {
          "output_type": "stream",
          "name": "stderr",
          "text": [
            "100%|██████████| 2846/2846 [01:00<00:00, 47.29it/s]\n"
          ]
        },
        {
          "output_type": "stream",
          "name": "stdout",
          "text": [
            "[Epoch 127/300] loss: 0.000000\n"
          ]
        },
        {
          "output_type": "stream",
          "name": "stderr",
          "text": [
            "100%|██████████| 2846/2846 [01:00<00:00, 47.29it/s]\n"
          ]
        },
        {
          "output_type": "stream",
          "name": "stdout",
          "text": [
            "[Epoch 128/300] loss: 0.000000\n"
          ]
        },
        {
          "output_type": "stream",
          "name": "stderr",
          "text": [
            "100%|██████████| 2846/2846 [01:00<00:00, 47.35it/s]\n"
          ]
        },
        {
          "output_type": "stream",
          "name": "stdout",
          "text": [
            "[Epoch 129/300] loss: 0.000000\n"
          ]
        },
        {
          "output_type": "stream",
          "name": "stderr",
          "text": [
            "100%|██████████| 2846/2846 [01:00<00:00, 47.23it/s]\n"
          ]
        },
        {
          "output_type": "stream",
          "name": "stdout",
          "text": [
            "[Epoch 130/300] loss: 0.000000\n"
          ]
        },
        {
          "output_type": "stream",
          "name": "stderr",
          "text": [
            "100%|██████████| 2846/2846 [01:00<00:00, 47.31it/s]\n"
          ]
        },
        {
          "output_type": "stream",
          "name": "stdout",
          "text": [
            "[Epoch 131/300] loss: 0.000000\n"
          ]
        },
        {
          "output_type": "stream",
          "name": "stderr",
          "text": [
            "100%|██████████| 2846/2846 [01:00<00:00, 47.26it/s]\n"
          ]
        },
        {
          "output_type": "stream",
          "name": "stdout",
          "text": [
            "[Epoch 132/300] loss: 0.000000\n"
          ]
        },
        {
          "output_type": "stream",
          "name": "stderr",
          "text": [
            "100%|██████████| 2846/2846 [01:00<00:00, 47.38it/s]\n"
          ]
        },
        {
          "output_type": "stream",
          "name": "stdout",
          "text": [
            "[Epoch 133/300] loss: 0.000000\n"
          ]
        },
        {
          "output_type": "stream",
          "name": "stderr",
          "text": [
            "100%|██████████| 2846/2846 [01:00<00:00, 47.35it/s]\n"
          ]
        },
        {
          "output_type": "stream",
          "name": "stdout",
          "text": [
            "[Epoch 134/300] loss: 0.000000\n"
          ]
        },
        {
          "output_type": "stream",
          "name": "stderr",
          "text": [
            "100%|██████████| 2846/2846 [01:00<00:00, 47.22it/s]\n"
          ]
        },
        {
          "output_type": "stream",
          "name": "stdout",
          "text": [
            "[Epoch 135/300] loss: 0.000000\n"
          ]
        },
        {
          "output_type": "stream",
          "name": "stderr",
          "text": [
            "100%|██████████| 2846/2846 [00:59<00:00, 47.46it/s]\n"
          ]
        },
        {
          "output_type": "stream",
          "name": "stdout",
          "text": [
            "[Epoch 136/300] loss: 0.000000\n"
          ]
        },
        {
          "output_type": "stream",
          "name": "stderr",
          "text": [
            "100%|██████████| 2846/2846 [01:00<00:00, 47.34it/s]\n"
          ]
        },
        {
          "output_type": "stream",
          "name": "stdout",
          "text": [
            "[Epoch 137/300] loss: 0.000000\n"
          ]
        },
        {
          "output_type": "stream",
          "name": "stderr",
          "text": [
            "100%|██████████| 2846/2846 [01:00<00:00, 47.37it/s]\n"
          ]
        },
        {
          "output_type": "stream",
          "name": "stdout",
          "text": [
            "[Epoch 138/300] loss: 0.000000\n"
          ]
        },
        {
          "output_type": "stream",
          "name": "stderr",
          "text": [
            "100%|██████████| 2846/2846 [01:00<00:00, 47.28it/s]\n"
          ]
        },
        {
          "output_type": "stream",
          "name": "stdout",
          "text": [
            "[Epoch 139/300] loss: 0.000000\n"
          ]
        },
        {
          "output_type": "stream",
          "name": "stderr",
          "text": [
            "100%|██████████| 2846/2846 [01:00<00:00, 47.30it/s]\n"
          ]
        },
        {
          "output_type": "stream",
          "name": "stdout",
          "text": [
            "[Epoch 140/300] loss: 0.000000\n"
          ]
        },
        {
          "output_type": "stream",
          "name": "stderr",
          "text": [
            "100%|██████████| 2846/2846 [01:00<00:00, 47.30it/s]\n"
          ]
        },
        {
          "output_type": "stream",
          "name": "stdout",
          "text": [
            "[Epoch 141/300] loss: 0.000000\n"
          ]
        },
        {
          "output_type": "stream",
          "name": "stderr",
          "text": [
            "100%|██████████| 2846/2846 [01:00<00:00, 47.27it/s]\n"
          ]
        },
        {
          "output_type": "stream",
          "name": "stdout",
          "text": [
            "[Epoch 142/300] loss: 0.000000\n"
          ]
        },
        {
          "output_type": "stream",
          "name": "stderr",
          "text": [
            "100%|██████████| 2846/2846 [01:00<00:00, 47.31it/s]\n"
          ]
        },
        {
          "output_type": "stream",
          "name": "stdout",
          "text": [
            "[Epoch 143/300] loss: 0.000000\n"
          ]
        },
        {
          "output_type": "stream",
          "name": "stderr",
          "text": [
            "100%|██████████| 2846/2846 [01:00<00:00, 47.19it/s]\n"
          ]
        },
        {
          "output_type": "stream",
          "name": "stdout",
          "text": [
            "[Epoch 144/300] loss: 0.000000\n"
          ]
        },
        {
          "output_type": "stream",
          "name": "stderr",
          "text": [
            "100%|██████████| 2846/2846 [01:00<00:00, 47.29it/s]\n"
          ]
        },
        {
          "output_type": "stream",
          "name": "stdout",
          "text": [
            "[Epoch 145/300] loss: 0.000000\n"
          ]
        },
        {
          "output_type": "stream",
          "name": "stderr",
          "text": [
            "100%|██████████| 2846/2846 [01:00<00:00, 47.26it/s]\n"
          ]
        },
        {
          "output_type": "stream",
          "name": "stdout",
          "text": [
            "[Epoch 146/300] loss: 0.000000\n"
          ]
        },
        {
          "output_type": "stream",
          "name": "stderr",
          "text": [
            "100%|██████████| 2846/2846 [01:00<00:00, 47.23it/s]\n"
          ]
        },
        {
          "output_type": "stream",
          "name": "stdout",
          "text": [
            "[Epoch 147/300] loss: 0.000000\n"
          ]
        },
        {
          "output_type": "stream",
          "name": "stderr",
          "text": [
            "100%|██████████| 2846/2846 [01:00<00:00, 47.40it/s]\n"
          ]
        },
        {
          "output_type": "stream",
          "name": "stdout",
          "text": [
            "[Epoch 148/300] loss: 0.000000\n"
          ]
        },
        {
          "output_type": "stream",
          "name": "stderr",
          "text": [
            "100%|██████████| 2846/2846 [01:00<00:00, 47.19it/s]\n"
          ]
        },
        {
          "output_type": "stream",
          "name": "stdout",
          "text": [
            "[Epoch 149/300] loss: 0.000000\n"
          ]
        },
        {
          "output_type": "stream",
          "name": "stderr",
          "text": [
            "100%|██████████| 2846/2846 [01:00<00:00, 47.23it/s]\n"
          ]
        },
        {
          "output_type": "stream",
          "name": "stdout",
          "text": [
            "[Epoch 150/300] loss: 0.000000\n"
          ]
        },
        {
          "output_type": "stream",
          "name": "stderr",
          "text": [
            "100%|██████████| 2846/2846 [01:00<00:00, 47.14it/s]\n"
          ]
        },
        {
          "output_type": "stream",
          "name": "stdout",
          "text": [
            "[Epoch 151/300] loss: 0.000000\n"
          ]
        },
        {
          "output_type": "stream",
          "name": "stderr",
          "text": [
            "100%|██████████| 2846/2846 [01:00<00:00, 47.31it/s]\n"
          ]
        },
        {
          "output_type": "stream",
          "name": "stdout",
          "text": [
            "[Epoch 152/300] loss: 0.000000\n"
          ]
        },
        {
          "output_type": "stream",
          "name": "stderr",
          "text": [
            "100%|██████████| 2846/2846 [01:00<00:00, 47.23it/s]\n"
          ]
        },
        {
          "output_type": "stream",
          "name": "stdout",
          "text": [
            "[Epoch 153/300] loss: 0.000000\n"
          ]
        },
        {
          "output_type": "stream",
          "name": "stderr",
          "text": [
            "100%|██████████| 2846/2846 [01:00<00:00, 47.32it/s]\n"
          ]
        },
        {
          "output_type": "stream",
          "name": "stdout",
          "text": [
            "[Epoch 154/300] loss: 0.000000\n"
          ]
        },
        {
          "output_type": "stream",
          "name": "stderr",
          "text": [
            "100%|██████████| 2846/2846 [01:00<00:00, 47.26it/s]\n"
          ]
        },
        {
          "output_type": "stream",
          "name": "stdout",
          "text": [
            "[Epoch 155/300] loss: 0.000000\n"
          ]
        },
        {
          "output_type": "stream",
          "name": "stderr",
          "text": [
            "100%|██████████| 2846/2846 [01:00<00:00, 47.19it/s]\n"
          ]
        },
        {
          "output_type": "stream",
          "name": "stdout",
          "text": [
            "[Epoch 156/300] loss: 0.000000\n"
          ]
        },
        {
          "output_type": "stream",
          "name": "stderr",
          "text": [
            "100%|██████████| 2846/2846 [01:00<00:00, 47.33it/s]\n"
          ]
        },
        {
          "output_type": "stream",
          "name": "stdout",
          "text": [
            "[Epoch 157/300] loss: 0.000000\n"
          ]
        },
        {
          "output_type": "stream",
          "name": "stderr",
          "text": [
            "100%|██████████| 2846/2846 [01:00<00:00, 47.22it/s]\n"
          ]
        },
        {
          "output_type": "stream",
          "name": "stdout",
          "text": [
            "[Epoch 158/300] loss: 0.000000\n"
          ]
        },
        {
          "output_type": "stream",
          "name": "stderr",
          "text": [
            "100%|██████████| 2846/2846 [01:00<00:00, 47.36it/s]\n"
          ]
        },
        {
          "output_type": "stream",
          "name": "stdout",
          "text": [
            "[Epoch 159/300] loss: 0.000000\n"
          ]
        },
        {
          "output_type": "stream",
          "name": "stderr",
          "text": [
            "100%|██████████| 2846/2846 [01:00<00:00, 47.28it/s]\n"
          ]
        },
        {
          "output_type": "stream",
          "name": "stdout",
          "text": [
            "[Epoch 160/300] loss: 0.000000\n"
          ]
        },
        {
          "output_type": "stream",
          "name": "stderr",
          "text": [
            "100%|██████████| 2846/2846 [01:00<00:00, 47.21it/s]\n"
          ]
        },
        {
          "output_type": "stream",
          "name": "stdout",
          "text": [
            "[Epoch 161/300] loss: 0.000000\n"
          ]
        },
        {
          "output_type": "stream",
          "name": "stderr",
          "text": [
            "100%|██████████| 2846/2846 [01:00<00:00, 47.40it/s]\n"
          ]
        },
        {
          "output_type": "stream",
          "name": "stdout",
          "text": [
            "[Epoch 162/300] loss: 0.000000\n"
          ]
        },
        {
          "output_type": "stream",
          "name": "stderr",
          "text": [
            "100%|██████████| 2846/2846 [01:00<00:00, 47.19it/s]\n"
          ]
        },
        {
          "output_type": "stream",
          "name": "stdout",
          "text": [
            "[Epoch 163/300] loss: 0.000000\n"
          ]
        },
        {
          "output_type": "stream",
          "name": "stderr",
          "text": [
            "100%|██████████| 2846/2846 [01:00<00:00, 47.22it/s]\n"
          ]
        },
        {
          "output_type": "stream",
          "name": "stdout",
          "text": [
            "[Epoch 164/300] loss: 0.000000\n"
          ]
        },
        {
          "output_type": "stream",
          "name": "stderr",
          "text": [
            "100%|██████████| 2846/2846 [01:00<00:00, 47.31it/s]\n"
          ]
        },
        {
          "output_type": "stream",
          "name": "stdout",
          "text": [
            "[Epoch 165/300] loss: 0.000000\n"
          ]
        },
        {
          "output_type": "stream",
          "name": "stderr",
          "text": [
            "100%|██████████| 2846/2846 [01:00<00:00, 47.11it/s]\n"
          ]
        },
        {
          "output_type": "stream",
          "name": "stdout",
          "text": [
            "[Epoch 166/300] loss: 0.000000\n"
          ]
        },
        {
          "output_type": "stream",
          "name": "stderr",
          "text": [
            "100%|██████████| 2846/2846 [01:00<00:00, 47.19it/s]\n"
          ]
        },
        {
          "output_type": "stream",
          "name": "stdout",
          "text": [
            "[Epoch 167/300] loss: 0.000000\n"
          ]
        },
        {
          "output_type": "stream",
          "name": "stderr",
          "text": [
            "100%|██████████| 2846/2846 [01:00<00:00, 47.23it/s]\n"
          ]
        },
        {
          "output_type": "stream",
          "name": "stdout",
          "text": [
            "[Epoch 168/300] loss: 0.000000\n"
          ]
        },
        {
          "output_type": "stream",
          "name": "stderr",
          "text": [
            "100%|██████████| 2846/2846 [01:00<00:00, 47.29it/s]\n"
          ]
        },
        {
          "output_type": "stream",
          "name": "stdout",
          "text": [
            "[Epoch 169/300] loss: 0.000000\n"
          ]
        },
        {
          "output_type": "stream",
          "name": "stderr",
          "text": [
            "100%|██████████| 2846/2846 [01:00<00:00, 47.27it/s]\n"
          ]
        },
        {
          "output_type": "stream",
          "name": "stdout",
          "text": [
            "[Epoch 170/300] loss: 0.000000\n"
          ]
        },
        {
          "output_type": "stream",
          "name": "stderr",
          "text": [
            "100%|██████████| 2846/2846 [01:00<00:00, 47.23it/s]\n"
          ]
        },
        {
          "output_type": "stream",
          "name": "stdout",
          "text": [
            "[Epoch 171/300] loss: 0.000000\n"
          ]
        },
        {
          "output_type": "stream",
          "name": "stderr",
          "text": [
            "100%|██████████| 2846/2846 [01:00<00:00, 47.33it/s]\n"
          ]
        },
        {
          "output_type": "stream",
          "name": "stdout",
          "text": [
            "[Epoch 172/300] loss: 0.000000\n"
          ]
        },
        {
          "output_type": "stream",
          "name": "stderr",
          "text": [
            "100%|██████████| 2846/2846 [01:00<00:00, 47.15it/s]\n"
          ]
        },
        {
          "output_type": "stream",
          "name": "stdout",
          "text": [
            "[Epoch 173/300] loss: 0.000000\n"
          ]
        },
        {
          "output_type": "stream",
          "name": "stderr",
          "text": [
            "100%|██████████| 2846/2846 [01:00<00:00, 47.37it/s]\n"
          ]
        },
        {
          "output_type": "stream",
          "name": "stdout",
          "text": [
            "[Epoch 174/300] loss: 0.000000\n"
          ]
        },
        {
          "output_type": "stream",
          "name": "stderr",
          "text": [
            "100%|██████████| 2846/2846 [01:00<00:00, 47.28it/s]\n"
          ]
        },
        {
          "output_type": "stream",
          "name": "stdout",
          "text": [
            "[Epoch 175/300] loss: 0.000000\n"
          ]
        },
        {
          "output_type": "stream",
          "name": "stderr",
          "text": [
            "100%|██████████| 2846/2846 [01:00<00:00, 47.33it/s]\n"
          ]
        },
        {
          "output_type": "stream",
          "name": "stdout",
          "text": [
            "[Epoch 176/300] loss: 0.000000\n"
          ]
        },
        {
          "output_type": "stream",
          "name": "stderr",
          "text": [
            "100%|██████████| 2846/2846 [01:00<00:00, 47.23it/s]\n"
          ]
        },
        {
          "output_type": "stream",
          "name": "stdout",
          "text": [
            "[Epoch 177/300] loss: 0.000000\n"
          ]
        },
        {
          "output_type": "stream",
          "name": "stderr",
          "text": [
            "100%|██████████| 2846/2846 [01:00<00:00, 47.08it/s]\n"
          ]
        },
        {
          "output_type": "stream",
          "name": "stdout",
          "text": [
            "[Epoch 178/300] loss: 0.000000\n"
          ]
        },
        {
          "output_type": "stream",
          "name": "stderr",
          "text": [
            "100%|██████████| 2846/2846 [01:00<00:00, 47.34it/s]\n"
          ]
        },
        {
          "output_type": "stream",
          "name": "stdout",
          "text": [
            "[Epoch 179/300] loss: 0.000000\n"
          ]
        },
        {
          "output_type": "stream",
          "name": "stderr",
          "text": [
            "100%|██████████| 2846/2846 [01:00<00:00, 47.13it/s]\n"
          ]
        },
        {
          "output_type": "stream",
          "name": "stdout",
          "text": [
            "[Epoch 180/300] loss: 0.000000\n"
          ]
        },
        {
          "output_type": "stream",
          "name": "stderr",
          "text": [
            "100%|██████████| 2846/2846 [01:00<00:00, 47.21it/s]\n"
          ]
        },
        {
          "output_type": "stream",
          "name": "stdout",
          "text": [
            "[Epoch 181/300] loss: 0.000000\n"
          ]
        },
        {
          "output_type": "stream",
          "name": "stderr",
          "text": [
            "100%|██████████| 2846/2846 [01:00<00:00, 47.28it/s]\n"
          ]
        },
        {
          "output_type": "stream",
          "name": "stdout",
          "text": [
            "[Epoch 182/300] loss: 0.000000\n"
          ]
        },
        {
          "output_type": "stream",
          "name": "stderr",
          "text": [
            "100%|██████████| 2846/2846 [01:00<00:00, 47.25it/s]\n"
          ]
        },
        {
          "output_type": "stream",
          "name": "stdout",
          "text": [
            "[Epoch 183/300] loss: 0.000000\n"
          ]
        },
        {
          "output_type": "stream",
          "name": "stderr",
          "text": [
            "100%|██████████| 2846/2846 [01:00<00:00, 47.39it/s]\n"
          ]
        },
        {
          "output_type": "stream",
          "name": "stdout",
          "text": [
            "[Epoch 184/300] loss: 0.000000\n"
          ]
        },
        {
          "output_type": "stream",
          "name": "stderr",
          "text": [
            "100%|██████████| 2846/2846 [01:00<00:00, 47.20it/s]\n"
          ]
        },
        {
          "output_type": "stream",
          "name": "stdout",
          "text": [
            "[Epoch 185/300] loss: 0.000000\n"
          ]
        },
        {
          "output_type": "stream",
          "name": "stderr",
          "text": [
            "100%|██████████| 2846/2846 [01:00<00:00, 47.32it/s]\n"
          ]
        },
        {
          "output_type": "stream",
          "name": "stdout",
          "text": [
            "[Epoch 186/300] loss: 0.000000\n"
          ]
        },
        {
          "output_type": "stream",
          "name": "stderr",
          "text": [
            "100%|██████████| 2846/2846 [01:00<00:00, 47.25it/s]\n"
          ]
        },
        {
          "output_type": "stream",
          "name": "stdout",
          "text": [
            "[Epoch 187/300] loss: 0.000000\n"
          ]
        },
        {
          "output_type": "stream",
          "name": "stderr",
          "text": [
            "100%|██████████| 2846/2846 [01:00<00:00, 47.36it/s]\n"
          ]
        },
        {
          "output_type": "stream",
          "name": "stdout",
          "text": [
            "[Epoch 188/300] loss: 0.000000\n"
          ]
        },
        {
          "output_type": "stream",
          "name": "stderr",
          "text": [
            "100%|██████████| 2846/2846 [01:00<00:00, 47.40it/s]\n"
          ]
        },
        {
          "output_type": "stream",
          "name": "stdout",
          "text": [
            "[Epoch 189/300] loss: 0.000000\n"
          ]
        },
        {
          "output_type": "stream",
          "name": "stderr",
          "text": [
            "100%|██████████| 2846/2846 [01:00<00:00, 47.29it/s]\n"
          ]
        },
        {
          "output_type": "stream",
          "name": "stdout",
          "text": [
            "[Epoch 190/300] loss: 0.000000\n"
          ]
        },
        {
          "output_type": "stream",
          "name": "stderr",
          "text": [
            "100%|██████████| 2846/2846 [01:00<00:00, 47.39it/s]\n"
          ]
        },
        {
          "output_type": "stream",
          "name": "stdout",
          "text": [
            "[Epoch 191/300] loss: 0.000000\n"
          ]
        },
        {
          "output_type": "stream",
          "name": "stderr",
          "text": [
            "100%|██████████| 2846/2846 [01:00<00:00, 47.31it/s]\n"
          ]
        },
        {
          "output_type": "stream",
          "name": "stdout",
          "text": [
            "[Epoch 192/300] loss: 0.000000\n"
          ]
        },
        {
          "output_type": "stream",
          "name": "stderr",
          "text": [
            "100%|██████████| 2846/2846 [00:59<00:00, 47.44it/s]\n"
          ]
        },
        {
          "output_type": "stream",
          "name": "stdout",
          "text": [
            "[Epoch 193/300] loss: 0.000000\n"
          ]
        },
        {
          "output_type": "stream",
          "name": "stderr",
          "text": [
            "100%|██████████| 2846/2846 [01:00<00:00, 47.39it/s]\n"
          ]
        },
        {
          "output_type": "stream",
          "name": "stdout",
          "text": [
            "[Epoch 194/300] loss: 0.000000\n"
          ]
        },
        {
          "output_type": "stream",
          "name": "stderr",
          "text": [
            "100%|██████████| 2846/2846 [01:00<00:00, 47.26it/s]\n"
          ]
        },
        {
          "output_type": "stream",
          "name": "stdout",
          "text": [
            "[Epoch 195/300] loss: 0.000000\n"
          ]
        },
        {
          "output_type": "stream",
          "name": "stderr",
          "text": [
            "100%|██████████| 2846/2846 [01:00<00:00, 47.41it/s]\n"
          ]
        },
        {
          "output_type": "stream",
          "name": "stdout",
          "text": [
            "[Epoch 196/300] loss: 0.000000\n"
          ]
        },
        {
          "output_type": "stream",
          "name": "stderr",
          "text": [
            "100%|██████████| 2846/2846 [01:00<00:00, 47.33it/s]\n"
          ]
        },
        {
          "output_type": "stream",
          "name": "stdout",
          "text": [
            "[Epoch 197/300] loss: 0.000000\n"
          ]
        },
        {
          "output_type": "stream",
          "name": "stderr",
          "text": [
            "100%|██████████| 2846/2846 [01:00<00:00, 47.34it/s]\n"
          ]
        },
        {
          "output_type": "stream",
          "name": "stdout",
          "text": [
            "[Epoch 198/300] loss: 0.000000\n"
          ]
        },
        {
          "output_type": "stream",
          "name": "stderr",
          "text": [
            "100%|██████████| 2846/2846 [01:00<00:00, 47.36it/s]\n"
          ]
        },
        {
          "output_type": "stream",
          "name": "stdout",
          "text": [
            "[Epoch 199/300] loss: 0.000000\n"
          ]
        },
        {
          "output_type": "stream",
          "name": "stderr",
          "text": [
            "100%|██████████| 2846/2846 [01:00<00:00, 47.36it/s]\n"
          ]
        },
        {
          "output_type": "stream",
          "name": "stdout",
          "text": [
            "[Epoch 200/300] loss: 0.000000\n"
          ]
        },
        {
          "output_type": "stream",
          "name": "stderr",
          "text": [
            "100%|██████████| 2846/2846 [01:00<00:00, 47.40it/s]\n"
          ]
        },
        {
          "output_type": "stream",
          "name": "stdout",
          "text": [
            "[Epoch 201/300] loss: 0.000000\n"
          ]
        },
        {
          "output_type": "stream",
          "name": "stderr",
          "text": [
            "100%|██████████| 2846/2846 [01:00<00:00, 47.33it/s]\n"
          ]
        },
        {
          "output_type": "stream",
          "name": "stdout",
          "text": [
            "[Epoch 202/300] loss: 0.000000\n"
          ]
        },
        {
          "output_type": "stream",
          "name": "stderr",
          "text": [
            "100%|██████████| 2846/2846 [01:00<00:00, 47.41it/s]\n"
          ]
        },
        {
          "output_type": "stream",
          "name": "stdout",
          "text": [
            "[Epoch 203/300] loss: 0.000000\n"
          ]
        },
        {
          "output_type": "stream",
          "name": "stderr",
          "text": [
            "100%|██████████| 2846/2846 [01:00<00:00, 47.36it/s]\n"
          ]
        },
        {
          "output_type": "stream",
          "name": "stdout",
          "text": [
            "[Epoch 204/300] loss: 0.000000\n"
          ]
        },
        {
          "output_type": "stream",
          "name": "stderr",
          "text": [
            "100%|██████████| 2846/2846 [01:00<00:00, 47.33it/s]\n"
          ]
        },
        {
          "output_type": "stream",
          "name": "stdout",
          "text": [
            "[Epoch 205/300] loss: 0.000000\n"
          ]
        },
        {
          "output_type": "stream",
          "name": "stderr",
          "text": [
            "100%|██████████| 2846/2846 [01:00<00:00, 47.38it/s]\n"
          ]
        },
        {
          "output_type": "stream",
          "name": "stdout",
          "text": [
            "[Epoch 206/300] loss: 0.000000\n"
          ]
        },
        {
          "output_type": "stream",
          "name": "stderr",
          "text": [
            "100%|██████████| 2846/2846 [01:00<00:00, 47.31it/s]\n"
          ]
        },
        {
          "output_type": "stream",
          "name": "stdout",
          "text": [
            "[Epoch 207/300] loss: 0.000000\n"
          ]
        },
        {
          "output_type": "stream",
          "name": "stderr",
          "text": [
            "100%|██████████| 2846/2846 [01:00<00:00, 47.37it/s]\n"
          ]
        },
        {
          "output_type": "stream",
          "name": "stdout",
          "text": [
            "[Epoch 208/300] loss: 0.000000\n"
          ]
        },
        {
          "output_type": "stream",
          "name": "stderr",
          "text": [
            "100%|██████████| 2846/2846 [01:00<00:00, 47.32it/s]\n"
          ]
        },
        {
          "output_type": "stream",
          "name": "stdout",
          "text": [
            "[Epoch 209/300] loss: 0.000000\n"
          ]
        },
        {
          "output_type": "stream",
          "name": "stderr",
          "text": [
            "100%|██████████| 2846/2846 [01:00<00:00, 47.36it/s]\n"
          ]
        },
        {
          "output_type": "stream",
          "name": "stdout",
          "text": [
            "[Epoch 210/300] loss: 0.000000\n"
          ]
        },
        {
          "output_type": "stream",
          "name": "stderr",
          "text": [
            "100%|██████████| 2846/2846 [01:00<00:00, 47.35it/s]\n"
          ]
        },
        {
          "output_type": "stream",
          "name": "stdout",
          "text": [
            "[Epoch 211/300] loss: 0.000000\n"
          ]
        },
        {
          "output_type": "stream",
          "name": "stderr",
          "text": [
            "100%|██████████| 2846/2846 [01:00<00:00, 47.16it/s]\n"
          ]
        },
        {
          "output_type": "stream",
          "name": "stdout",
          "text": [
            "[Epoch 212/300] loss: 0.000000\n"
          ]
        },
        {
          "output_type": "stream",
          "name": "stderr",
          "text": [
            "100%|██████████| 2846/2846 [01:00<00:00, 47.33it/s]\n"
          ]
        },
        {
          "output_type": "stream",
          "name": "stdout",
          "text": [
            "[Epoch 213/300] loss: 0.000000\n"
          ]
        },
        {
          "output_type": "stream",
          "name": "stderr",
          "text": [
            "100%|██████████| 2846/2846 [01:00<00:00, 47.32it/s]\n"
          ]
        },
        {
          "output_type": "stream",
          "name": "stdout",
          "text": [
            "[Epoch 214/300] loss: 0.000000\n"
          ]
        },
        {
          "output_type": "stream",
          "name": "stderr",
          "text": [
            "100%|██████████| 2846/2846 [01:00<00:00, 47.37it/s]\n"
          ]
        },
        {
          "output_type": "stream",
          "name": "stdout",
          "text": [
            "[Epoch 215/300] loss: 0.000000\n"
          ]
        },
        {
          "output_type": "stream",
          "name": "stderr",
          "text": [
            "100%|██████████| 2846/2846 [01:00<00:00, 47.34it/s]\n"
          ]
        },
        {
          "output_type": "stream",
          "name": "stdout",
          "text": [
            "[Epoch 216/300] loss: 0.000000\n"
          ]
        },
        {
          "output_type": "stream",
          "name": "stderr",
          "text": [
            "100%|██████████| 2846/2846 [01:00<00:00, 47.29it/s]\n"
          ]
        },
        {
          "output_type": "stream",
          "name": "stdout",
          "text": [
            "[Epoch 217/300] loss: 0.000000\n"
          ]
        },
        {
          "output_type": "stream",
          "name": "stderr",
          "text": [
            "100%|██████████| 2846/2846 [01:00<00:00, 47.42it/s]\n"
          ]
        },
        {
          "output_type": "stream",
          "name": "stdout",
          "text": [
            "[Epoch 218/300] loss: 0.000000\n"
          ]
        },
        {
          "output_type": "stream",
          "name": "stderr",
          "text": [
            "100%|██████████| 2846/2846 [01:00<00:00, 47.27it/s]\n"
          ]
        },
        {
          "output_type": "stream",
          "name": "stdout",
          "text": [
            "[Epoch 219/300] loss: 0.000000\n"
          ]
        },
        {
          "output_type": "stream",
          "name": "stderr",
          "text": [
            "100%|██████████| 2846/2846 [01:00<00:00, 47.41it/s]\n"
          ]
        },
        {
          "output_type": "stream",
          "name": "stdout",
          "text": [
            "[Epoch 220/300] loss: 0.000000\n"
          ]
        },
        {
          "output_type": "stream",
          "name": "stderr",
          "text": [
            "100%|██████████| 2846/2846 [01:00<00:00, 47.30it/s]\n"
          ]
        },
        {
          "output_type": "stream",
          "name": "stdout",
          "text": [
            "[Epoch 221/300] loss: 0.000000\n"
          ]
        },
        {
          "output_type": "stream",
          "name": "stderr",
          "text": [
            "100%|██████████| 2846/2846 [01:00<00:00, 47.34it/s]\n"
          ]
        },
        {
          "output_type": "stream",
          "name": "stdout",
          "text": [
            "[Epoch 222/300] loss: 0.000000\n"
          ]
        },
        {
          "output_type": "stream",
          "name": "stderr",
          "text": [
            "100%|██████████| 2846/2846 [01:00<00:00, 47.34it/s]\n"
          ]
        },
        {
          "output_type": "stream",
          "name": "stdout",
          "text": [
            "[Epoch 223/300] loss: 0.000000\n"
          ]
        },
        {
          "output_type": "stream",
          "name": "stderr",
          "text": [
            "100%|██████████| 2846/2846 [01:00<00:00, 47.39it/s]\n"
          ]
        },
        {
          "output_type": "stream",
          "name": "stdout",
          "text": [
            "[Epoch 224/300] loss: 0.000000\n"
          ]
        },
        {
          "output_type": "stream",
          "name": "stderr",
          "text": [
            "100%|██████████| 2846/2846 [01:00<00:00, 47.38it/s]\n"
          ]
        },
        {
          "output_type": "stream",
          "name": "stdout",
          "text": [
            "[Epoch 225/300] loss: 0.000000\n"
          ]
        },
        {
          "output_type": "stream",
          "name": "stderr",
          "text": [
            "100%|██████████| 2846/2846 [01:00<00:00, 47.35it/s]\n"
          ]
        },
        {
          "output_type": "stream",
          "name": "stdout",
          "text": [
            "[Epoch 226/300] loss: 0.000000\n"
          ]
        },
        {
          "output_type": "stream",
          "name": "stderr",
          "text": [
            "100%|██████████| 2846/2846 [01:00<00:00, 47.32it/s]\n"
          ]
        },
        {
          "output_type": "stream",
          "name": "stdout",
          "text": [
            "[Epoch 227/300] loss: 0.000000\n"
          ]
        },
        {
          "output_type": "stream",
          "name": "stderr",
          "text": [
            "100%|██████████| 2846/2846 [01:00<00:00, 47.38it/s]\n"
          ]
        },
        {
          "output_type": "stream",
          "name": "stdout",
          "text": [
            "[Epoch 228/300] loss: 0.000000\n"
          ]
        },
        {
          "output_type": "stream",
          "name": "stderr",
          "text": [
            "100%|██████████| 2846/2846 [01:00<00:00, 47.29it/s]\n"
          ]
        },
        {
          "output_type": "stream",
          "name": "stdout",
          "text": [
            "[Epoch 229/300] loss: 0.000000\n"
          ]
        },
        {
          "output_type": "stream",
          "name": "stderr",
          "text": [
            "100%|██████████| 2846/2846 [01:00<00:00, 47.42it/s]\n"
          ]
        },
        {
          "output_type": "stream",
          "name": "stdout",
          "text": [
            "[Epoch 230/300] loss: 0.000000\n"
          ]
        },
        {
          "output_type": "stream",
          "name": "stderr",
          "text": [
            "100%|██████████| 2846/2846 [01:00<00:00, 47.39it/s]\n"
          ]
        },
        {
          "output_type": "stream",
          "name": "stdout",
          "text": [
            "[Epoch 231/300] loss: 0.000000\n"
          ]
        },
        {
          "output_type": "stream",
          "name": "stderr",
          "text": [
            "100%|██████████| 2846/2846 [01:00<00:00, 47.23it/s]\n"
          ]
        },
        {
          "output_type": "stream",
          "name": "stdout",
          "text": [
            "[Epoch 232/300] loss: 0.000000\n"
          ]
        },
        {
          "output_type": "stream",
          "name": "stderr",
          "text": [
            "100%|██████████| 2846/2846 [01:00<00:00, 47.22it/s]\n"
          ]
        },
        {
          "output_type": "stream",
          "name": "stdout",
          "text": [
            "[Epoch 233/300] loss: 0.000000\n"
          ]
        },
        {
          "output_type": "stream",
          "name": "stderr",
          "text": [
            "100%|██████████| 2846/2846 [01:00<00:00, 47.22it/s]\n"
          ]
        },
        {
          "output_type": "stream",
          "name": "stdout",
          "text": [
            "[Epoch 234/300] loss: 0.000000\n"
          ]
        },
        {
          "output_type": "stream",
          "name": "stderr",
          "text": [
            "100%|██████████| 2846/2846 [01:00<00:00, 47.42it/s]\n"
          ]
        },
        {
          "output_type": "stream",
          "name": "stdout",
          "text": [
            "[Epoch 235/300] loss: 0.000000\n"
          ]
        },
        {
          "output_type": "stream",
          "name": "stderr",
          "text": [
            "100%|██████████| 2846/2846 [01:00<00:00, 47.37it/s]\n"
          ]
        },
        {
          "output_type": "stream",
          "name": "stdout",
          "text": [
            "[Epoch 236/300] loss: 0.000000\n"
          ]
        },
        {
          "output_type": "stream",
          "name": "stderr",
          "text": [
            "100%|██████████| 2846/2846 [01:00<00:00, 47.30it/s]\n"
          ]
        },
        {
          "output_type": "stream",
          "name": "stdout",
          "text": [
            "[Epoch 237/300] loss: 0.000000\n"
          ]
        },
        {
          "output_type": "stream",
          "name": "stderr",
          "text": [
            "100%|██████████| 2846/2846 [01:00<00:00, 47.35it/s]\n"
          ]
        },
        {
          "output_type": "stream",
          "name": "stdout",
          "text": [
            "[Epoch 238/300] loss: 0.000000\n"
          ]
        },
        {
          "output_type": "stream",
          "name": "stderr",
          "text": [
            "100%|██████████| 2846/2846 [01:00<00:00, 47.31it/s]\n"
          ]
        },
        {
          "output_type": "stream",
          "name": "stdout",
          "text": [
            "[Epoch 239/300] loss: 0.000000\n"
          ]
        },
        {
          "output_type": "stream",
          "name": "stderr",
          "text": [
            "100%|██████████| 2846/2846 [01:00<00:00, 47.15it/s]\n"
          ]
        },
        {
          "output_type": "stream",
          "name": "stdout",
          "text": [
            "[Epoch 240/300] loss: 0.000000\n"
          ]
        },
        {
          "output_type": "stream",
          "name": "stderr",
          "text": [
            "100%|██████████| 2846/2846 [01:00<00:00, 46.89it/s]\n"
          ]
        },
        {
          "output_type": "stream",
          "name": "stdout",
          "text": [
            "[Epoch 241/300] loss: 0.000000\n"
          ]
        },
        {
          "output_type": "stream",
          "name": "stderr",
          "text": [
            "100%|██████████| 2846/2846 [01:00<00:00, 47.01it/s]\n"
          ]
        },
        {
          "output_type": "stream",
          "name": "stdout",
          "text": [
            "[Epoch 242/300] loss: 0.000000\n"
          ]
        },
        {
          "output_type": "stream",
          "name": "stderr",
          "text": [
            "100%|██████████| 2846/2846 [01:00<00:00, 47.18it/s]\n"
          ]
        },
        {
          "output_type": "stream",
          "name": "stdout",
          "text": [
            "[Epoch 243/300] loss: 0.000000\n"
          ]
        },
        {
          "output_type": "stream",
          "name": "stderr",
          "text": [
            "100%|██████████| 2846/2846 [01:00<00:00, 47.21it/s]\n"
          ]
        },
        {
          "output_type": "stream",
          "name": "stdout",
          "text": [
            "[Epoch 244/300] loss: 0.000000\n"
          ]
        },
        {
          "output_type": "stream",
          "name": "stderr",
          "text": [
            "100%|██████████| 2846/2846 [00:59<00:00, 47.45it/s]\n"
          ]
        },
        {
          "output_type": "stream",
          "name": "stdout",
          "text": [
            "[Epoch 245/300] loss: 0.000000\n"
          ]
        },
        {
          "output_type": "stream",
          "name": "stderr",
          "text": [
            "100%|██████████| 2846/2846 [01:00<00:00, 47.36it/s]\n"
          ]
        },
        {
          "output_type": "stream",
          "name": "stdout",
          "text": [
            "[Epoch 246/300] loss: 0.000000\n"
          ]
        },
        {
          "output_type": "stream",
          "name": "stderr",
          "text": [
            "100%|██████████| 2846/2846 [01:00<00:00, 47.36it/s]\n"
          ]
        },
        {
          "output_type": "stream",
          "name": "stdout",
          "text": [
            "[Epoch 247/300] loss: 0.000000\n"
          ]
        },
        {
          "output_type": "stream",
          "name": "stderr",
          "text": [
            "100%|██████████| 2846/2846 [01:00<00:00, 47.29it/s]\n"
          ]
        },
        {
          "output_type": "stream",
          "name": "stdout",
          "text": [
            "[Epoch 248/300] loss: 0.000000\n"
          ]
        },
        {
          "output_type": "stream",
          "name": "stderr",
          "text": [
            "100%|██████████| 2846/2846 [01:00<00:00, 47.34it/s]\n"
          ]
        },
        {
          "output_type": "stream",
          "name": "stdout",
          "text": [
            "[Epoch 249/300] loss: 0.000000\n"
          ]
        },
        {
          "output_type": "stream",
          "name": "stderr",
          "text": [
            "100%|██████████| 2846/2846 [01:00<00:00, 47.39it/s]\n"
          ]
        },
        {
          "output_type": "stream",
          "name": "stdout",
          "text": [
            "[Epoch 250/300] loss: 0.000000\n"
          ]
        },
        {
          "output_type": "stream",
          "name": "stderr",
          "text": [
            "100%|██████████| 2846/2846 [01:00<00:00, 47.34it/s]\n"
          ]
        },
        {
          "output_type": "stream",
          "name": "stdout",
          "text": [
            "[Epoch 251/300] loss: 0.000000\n"
          ]
        },
        {
          "output_type": "stream",
          "name": "stderr",
          "text": [
            "100%|██████████| 2846/2846 [01:00<00:00, 47.35it/s]\n"
          ]
        },
        {
          "output_type": "stream",
          "name": "stdout",
          "text": [
            "[Epoch 252/300] loss: 0.000000\n"
          ]
        },
        {
          "output_type": "stream",
          "name": "stderr",
          "text": [
            "100%|██████████| 2846/2846 [01:00<00:00, 47.35it/s]\n"
          ]
        },
        {
          "output_type": "stream",
          "name": "stdout",
          "text": [
            "[Epoch 253/300] loss: 0.000000\n"
          ]
        },
        {
          "output_type": "stream",
          "name": "stderr",
          "text": [
            "100%|██████████| 2846/2846 [01:00<00:00, 47.39it/s]\n"
          ]
        },
        {
          "output_type": "stream",
          "name": "stdout",
          "text": [
            "[Epoch 254/300] loss: 0.000000\n"
          ]
        },
        {
          "output_type": "stream",
          "name": "stderr",
          "text": [
            "100%|██████████| 2846/2846 [01:00<00:00, 47.39it/s]\n"
          ]
        },
        {
          "output_type": "stream",
          "name": "stdout",
          "text": [
            "[Epoch 255/300] loss: 0.000000\n"
          ]
        },
        {
          "output_type": "stream",
          "name": "stderr",
          "text": [
            "100%|██████████| 2846/2846 [01:00<00:00, 47.34it/s]\n"
          ]
        },
        {
          "output_type": "stream",
          "name": "stdout",
          "text": [
            "[Epoch 256/300] loss: 0.000000\n"
          ]
        },
        {
          "output_type": "stream",
          "name": "stderr",
          "text": [
            "100%|██████████| 2846/2846 [01:00<00:00, 47.43it/s]\n"
          ]
        },
        {
          "output_type": "stream",
          "name": "stdout",
          "text": [
            "[Epoch 257/300] loss: 0.000000\n"
          ]
        },
        {
          "output_type": "stream",
          "name": "stderr",
          "text": [
            "100%|██████████| 2846/2846 [00:59<00:00, 47.49it/s]\n"
          ]
        },
        {
          "output_type": "stream",
          "name": "stdout",
          "text": [
            "[Epoch 258/300] loss: 0.000000\n"
          ]
        },
        {
          "output_type": "stream",
          "name": "stderr",
          "text": [
            "100%|██████████| 2846/2846 [01:00<00:00, 47.37it/s]\n"
          ]
        },
        {
          "output_type": "stream",
          "name": "stdout",
          "text": [
            "[Epoch 259/300] loss: 0.000000\n"
          ]
        },
        {
          "output_type": "stream",
          "name": "stderr",
          "text": [
            "100%|██████████| 2846/2846 [01:00<00:00, 47.29it/s]\n"
          ]
        },
        {
          "output_type": "stream",
          "name": "stdout",
          "text": [
            "[Epoch 260/300] loss: 0.000000\n"
          ]
        },
        {
          "output_type": "stream",
          "name": "stderr",
          "text": [
            "100%|██████████| 2846/2846 [01:00<00:00, 47.10it/s]\n"
          ]
        },
        {
          "output_type": "stream",
          "name": "stdout",
          "text": [
            "[Epoch 261/300] loss: 0.000000\n"
          ]
        },
        {
          "output_type": "stream",
          "name": "stderr",
          "text": [
            "100%|██████████| 2846/2846 [01:00<00:00, 47.30it/s]\n"
          ]
        },
        {
          "output_type": "stream",
          "name": "stdout",
          "text": [
            "[Epoch 262/300] loss: 0.000000\n"
          ]
        },
        {
          "output_type": "stream",
          "name": "stderr",
          "text": [
            "100%|██████████| 2846/2846 [01:00<00:00, 47.14it/s]\n"
          ]
        },
        {
          "output_type": "stream",
          "name": "stdout",
          "text": [
            "[Epoch 263/300] loss: 0.000000\n"
          ]
        },
        {
          "output_type": "stream",
          "name": "stderr",
          "text": [
            "100%|██████████| 2846/2846 [01:00<00:00, 47.14it/s]\n"
          ]
        },
        {
          "output_type": "stream",
          "name": "stdout",
          "text": [
            "[Epoch 264/300] loss: 0.000000\n"
          ]
        },
        {
          "output_type": "stream",
          "name": "stderr",
          "text": [
            "100%|██████████| 2846/2846 [01:00<00:00, 47.35it/s]\n"
          ]
        },
        {
          "output_type": "stream",
          "name": "stdout",
          "text": [
            "[Epoch 265/300] loss: 0.000000\n"
          ]
        },
        {
          "output_type": "stream",
          "name": "stderr",
          "text": [
            "100%|██████████| 2846/2846 [01:00<00:00, 47.35it/s]\n"
          ]
        },
        {
          "output_type": "stream",
          "name": "stdout",
          "text": [
            "[Epoch 266/300] loss: 0.000000\n"
          ]
        },
        {
          "output_type": "stream",
          "name": "stderr",
          "text": [
            "100%|██████████| 2846/2846 [01:00<00:00, 47.19it/s]\n"
          ]
        },
        {
          "output_type": "stream",
          "name": "stdout",
          "text": [
            "[Epoch 267/300] loss: 0.000000\n"
          ]
        },
        {
          "output_type": "stream",
          "name": "stderr",
          "text": [
            "100%|██████████| 2846/2846 [01:00<00:00, 47.06it/s]\n"
          ]
        },
        {
          "output_type": "stream",
          "name": "stdout",
          "text": [
            "[Epoch 268/300] loss: 0.000000\n"
          ]
        },
        {
          "output_type": "stream",
          "name": "stderr",
          "text": [
            "100%|██████████| 2846/2846 [01:00<00:00, 47.15it/s]\n"
          ]
        },
        {
          "output_type": "stream",
          "name": "stdout",
          "text": [
            "[Epoch 269/300] loss: 0.000000\n"
          ]
        },
        {
          "output_type": "stream",
          "name": "stderr",
          "text": [
            "100%|██████████| 2846/2846 [01:00<00:00, 47.22it/s]\n"
          ]
        },
        {
          "output_type": "stream",
          "name": "stdout",
          "text": [
            "[Epoch 270/300] loss: 0.000000\n"
          ]
        },
        {
          "output_type": "stream",
          "name": "stderr",
          "text": [
            "100%|██████████| 2846/2846 [01:00<00:00, 47.24it/s]\n"
          ]
        },
        {
          "output_type": "stream",
          "name": "stdout",
          "text": [
            "[Epoch 271/300] loss: 0.000000\n"
          ]
        },
        {
          "output_type": "stream",
          "name": "stderr",
          "text": [
            "100%|██████████| 2846/2846 [01:00<00:00, 47.25it/s]\n"
          ]
        },
        {
          "output_type": "stream",
          "name": "stdout",
          "text": [
            "[Epoch 272/300] loss: 0.000000\n"
          ]
        },
        {
          "output_type": "stream",
          "name": "stderr",
          "text": [
            "100%|██████████| 2846/2846 [01:00<00:00, 47.21it/s]\n"
          ]
        },
        {
          "output_type": "stream",
          "name": "stdout",
          "text": [
            "[Epoch 273/300] loss: 0.000000\n"
          ]
        },
        {
          "output_type": "stream",
          "name": "stderr",
          "text": [
            "100%|██████████| 2846/2846 [01:00<00:00, 47.07it/s]\n"
          ]
        },
        {
          "output_type": "stream",
          "name": "stdout",
          "text": [
            "[Epoch 274/300] loss: 0.000000\n"
          ]
        },
        {
          "output_type": "stream",
          "name": "stderr",
          "text": [
            "100%|██████████| 2846/2846 [01:00<00:00, 47.16it/s]\n"
          ]
        },
        {
          "output_type": "stream",
          "name": "stdout",
          "text": [
            "[Epoch 275/300] loss: 0.000000\n"
          ]
        },
        {
          "output_type": "stream",
          "name": "stderr",
          "text": [
            "100%|██████████| 2846/2846 [01:00<00:00, 47.22it/s]\n"
          ]
        },
        {
          "output_type": "stream",
          "name": "stdout",
          "text": [
            "[Epoch 276/300] loss: 0.000000\n"
          ]
        },
        {
          "output_type": "stream",
          "name": "stderr",
          "text": [
            "100%|██████████| 2846/2846 [01:00<00:00, 47.16it/s]\n"
          ]
        },
        {
          "output_type": "stream",
          "name": "stdout",
          "text": [
            "[Epoch 277/300] loss: 0.000000\n"
          ]
        },
        {
          "output_type": "stream",
          "name": "stderr",
          "text": [
            "100%|██████████| 2846/2846 [01:00<00:00, 47.20it/s]\n"
          ]
        },
        {
          "output_type": "stream",
          "name": "stdout",
          "text": [
            "[Epoch 278/300] loss: 0.000000\n"
          ]
        },
        {
          "output_type": "stream",
          "name": "stderr",
          "text": [
            "100%|██████████| 2846/2846 [01:00<00:00, 47.12it/s]\n"
          ]
        },
        {
          "output_type": "stream",
          "name": "stdout",
          "text": [
            "[Epoch 279/300] loss: 0.000000\n"
          ]
        },
        {
          "output_type": "stream",
          "name": "stderr",
          "text": [
            "100%|██████████| 2846/2846 [01:00<00:00, 47.21it/s]\n"
          ]
        },
        {
          "output_type": "stream",
          "name": "stdout",
          "text": [
            "[Epoch 280/300] loss: 0.000000\n"
          ]
        },
        {
          "output_type": "stream",
          "name": "stderr",
          "text": [
            "100%|██████████| 2846/2846 [01:00<00:00, 47.14it/s]\n"
          ]
        },
        {
          "output_type": "stream",
          "name": "stdout",
          "text": [
            "[Epoch 281/300] loss: 0.000000\n"
          ]
        },
        {
          "output_type": "stream",
          "name": "stderr",
          "text": [
            "100%|██████████| 2846/2846 [01:00<00:00, 47.28it/s]\n"
          ]
        },
        {
          "output_type": "stream",
          "name": "stdout",
          "text": [
            "[Epoch 282/300] loss: 0.000000\n"
          ]
        },
        {
          "output_type": "stream",
          "name": "stderr",
          "text": [
            "100%|██████████| 2846/2846 [01:00<00:00, 47.20it/s]\n"
          ]
        },
        {
          "output_type": "stream",
          "name": "stdout",
          "text": [
            "[Epoch 283/300] loss: 0.000000\n"
          ]
        },
        {
          "output_type": "stream",
          "name": "stderr",
          "text": [
            "100%|██████████| 2846/2846 [01:00<00:00, 47.19it/s]\n"
          ]
        },
        {
          "output_type": "stream",
          "name": "stdout",
          "text": [
            "[Epoch 284/300] loss: 0.000000\n"
          ]
        },
        {
          "output_type": "stream",
          "name": "stderr",
          "text": [
            "100%|██████████| 2846/2846 [01:00<00:00, 47.22it/s]\n"
          ]
        },
        {
          "output_type": "stream",
          "name": "stdout",
          "text": [
            "[Epoch 285/300] loss: 0.000000\n"
          ]
        },
        {
          "output_type": "stream",
          "name": "stderr",
          "text": [
            "100%|██████████| 2846/2846 [01:00<00:00, 47.17it/s]\n"
          ]
        },
        {
          "output_type": "stream",
          "name": "stdout",
          "text": [
            "[Epoch 286/300] loss: 0.000000\n"
          ]
        },
        {
          "output_type": "stream",
          "name": "stderr",
          "text": [
            "100%|██████████| 2846/2846 [01:00<00:00, 47.20it/s]\n"
          ]
        },
        {
          "output_type": "stream",
          "name": "stdout",
          "text": [
            "[Epoch 287/300] loss: 0.000000\n"
          ]
        },
        {
          "output_type": "stream",
          "name": "stderr",
          "text": [
            "100%|██████████| 2846/2846 [01:00<00:00, 47.33it/s]\n"
          ]
        },
        {
          "output_type": "stream",
          "name": "stdout",
          "text": [
            "[Epoch 288/300] loss: 0.000000\n"
          ]
        },
        {
          "output_type": "stream",
          "name": "stderr",
          "text": [
            "100%|██████████| 2846/2846 [01:00<00:00, 47.20it/s]\n"
          ]
        },
        {
          "output_type": "stream",
          "name": "stdout",
          "text": [
            "[Epoch 289/300] loss: 0.000000\n"
          ]
        },
        {
          "output_type": "stream",
          "name": "stderr",
          "text": [
            "100%|██████████| 2846/2846 [01:00<00:00, 47.36it/s]\n"
          ]
        },
        {
          "output_type": "stream",
          "name": "stdout",
          "text": [
            "[Epoch 290/300] loss: 0.000000\n"
          ]
        },
        {
          "output_type": "stream",
          "name": "stderr",
          "text": [
            "100%|██████████| 2846/2846 [01:00<00:00, 47.23it/s]\n"
          ]
        },
        {
          "output_type": "stream",
          "name": "stdout",
          "text": [
            "[Epoch 291/300] loss: 0.000000\n"
          ]
        },
        {
          "output_type": "stream",
          "name": "stderr",
          "text": [
            "100%|██████████| 2846/2846 [01:00<00:00, 47.35it/s]\n"
          ]
        },
        {
          "output_type": "stream",
          "name": "stdout",
          "text": [
            "[Epoch 292/300] loss: 0.000000\n"
          ]
        },
        {
          "output_type": "stream",
          "name": "stderr",
          "text": [
            "100%|██████████| 2846/2846 [01:00<00:00, 47.19it/s]\n"
          ]
        },
        {
          "output_type": "stream",
          "name": "stdout",
          "text": [
            "[Epoch 293/300] loss: 0.000000\n"
          ]
        },
        {
          "output_type": "stream",
          "name": "stderr",
          "text": [
            "100%|██████████| 2846/2846 [01:00<00:00, 47.27it/s]\n"
          ]
        },
        {
          "output_type": "stream",
          "name": "stdout",
          "text": [
            "[Epoch 294/300] loss: 0.000000\n"
          ]
        },
        {
          "output_type": "stream",
          "name": "stderr",
          "text": [
            "100%|██████████| 2846/2846 [01:00<00:00, 47.37it/s]\n"
          ]
        },
        {
          "output_type": "stream",
          "name": "stdout",
          "text": [
            "[Epoch 295/300] loss: 0.000000\n"
          ]
        },
        {
          "output_type": "stream",
          "name": "stderr",
          "text": [
            "100%|██████████| 2846/2846 [01:00<00:00, 47.25it/s]\n"
          ]
        },
        {
          "output_type": "stream",
          "name": "stdout",
          "text": [
            "[Epoch 296/300] loss: 0.000000\n"
          ]
        },
        {
          "output_type": "stream",
          "name": "stderr",
          "text": [
            "100%|██████████| 2846/2846 [01:00<00:00, 47.28it/s]\n"
          ]
        },
        {
          "output_type": "stream",
          "name": "stdout",
          "text": [
            "[Epoch 297/300] loss: 0.000000\n"
          ]
        },
        {
          "output_type": "stream",
          "name": "stderr",
          "text": [
            "100%|██████████| 2846/2846 [01:00<00:00, 47.16it/s]\n"
          ]
        },
        {
          "output_type": "stream",
          "name": "stdout",
          "text": [
            "[Epoch 298/300] loss: 0.000000\n"
          ]
        },
        {
          "output_type": "stream",
          "name": "stderr",
          "text": [
            "100%|██████████| 2846/2846 [01:00<00:00, 47.22it/s]\n"
          ]
        },
        {
          "output_type": "stream",
          "name": "stdout",
          "text": [
            "[Epoch 299/300] loss: 0.000000\n"
          ]
        },
        {
          "output_type": "stream",
          "name": "stderr",
          "text": [
            "100%|██████████| 2846/2846 [01:00<00:00, 47.21it/s]"
          ]
        },
        {
          "output_type": "stream",
          "name": "stdout",
          "text": [
            "[Epoch 300/300] loss: 0.000000\n"
          ]
        },
        {
          "output_type": "stream",
          "name": "stderr",
          "text": [
            "\n"
          ]
        }
      ],
      "source": [
        "lstm.train(epochs=300)"
      ]
    },
    {
      "cell_type": "code",
      "source": [
        "lstm.evaluate(df_test,confidence=0.9)"
      ],
      "metadata": {
        "colab": {
          "base_uri": "https://localhost:8080/",
          "height": 1000
        },
        "id": "okxsi5Uk-GCh",
        "outputId": "21747c25-6a6b-412f-cab0-e7b0e5858bb0"
      },
      "execution_count": 35,
      "outputs": [
        {
          "output_type": "display_data",
          "data": {
            "text/plain": [
              "<Figure size 640x480 with 2 Axes>"
            ],
            "image/png": "[encoded data removed]"
          },
          "metadata": {}
        },
        {
          "output_type": "display_data",
          "data": {
            "text/plain": [
              "<Figure size 640x480 with 1 Axes>"
            ],
            "image/png": "[encoded data removed]"
          },
          "metadata": {}
        },
        {
          "output_type": "display_data",
          "data": {
            "text/plain": [
              "<Figure size 640x480 with 1 Axes>"
            ],
            "image/png": "[encoded data removed]"
          },
          "metadata": {}
        },
        {
          "output_type": "stream",
          "name": "stdout",
          "text": [
            "                   pre       rec       spe        f1       geo       iba       sup\n",
            "\n",
            "        0.0       1.00      1.00      0.77      1.00      0.88      0.79     56855\n",
            "        1.0       0.86      0.77      1.00      0.82      0.88      0.76        97\n",
            "\n",
            "avg / total       1.00      1.00      0.77      1.00      0.88      0.79     56952\n",
            "\n",
            "AUPRC: 0.7592918949329222\n",
            "AP: 0.7144462391623738\n"
          ]
        }
      ]
    },
    {
      "cell_type": "code",
      "source": [
        "path = \"lstm_model.pth\"\n",
        "torch.save(lstm.model.state_dict(), path)\n"
      ],
      "metadata": {
        "id": "QJp_92UnAwDh"
      },
      "execution_count": 38,
      "outputs": []
    }
  ],
  "metadata": {
    "kernelspec": {
      "display_name": "Python 3",
      "name": "python3"
    },
    "language_info": {
      "codemirror_mode": {
        "name": "ipython",
        "version": 3
      },
      "file_extension": ".py",
      "mimetype": "text/x-python",
      "name": "python",
      "nbconvert_exporter": "python",
      "pygments_lexer": "ipython3",
      "version": "3.10.13"
    },
    "colab": {
      "provenance": [],
      "gpuType": "T4"
    },
    "accelerator": "GPU"
  },
  "nbformat": 4,
  "nbformat_minor": 0
}