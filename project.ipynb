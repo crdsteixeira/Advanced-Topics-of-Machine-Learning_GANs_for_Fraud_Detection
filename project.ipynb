{
 "cells": [
  {
   "cell_type": "code",
   "execution_count": 8,
   "metadata": {},
   "outputs": [],
   "source": [
    "# %pip install pycaret[full]\n",
    "# %pip install ctgan"
   ]
  },
  {
   "cell_type": "code",
   "execution_count": 104,
   "metadata": {},
   "outputs": [],
   "source": [
    "from pycaret.classification import *\n",
    "from ctgan import CTGAN\n",
    "from sklearn.metrics import ConfusionMatrixDisplay, classification_report\n",
    "import pandas as pd"
   ]
  },
  {
   "cell_type": "code",
   "execution_count": 10,
   "metadata": {},
   "outputs": [
    {
     "data": {
      "text/html": [
       "<div>\n",
       "<style scoped>\n",
       "    .dataframe tbody tr th:only-of-type {\n",
       "        vertical-align: middle;\n",
       "    }\n",
       "\n",
       "    .dataframe tbody tr th {\n",
       "        vertical-align: top;\n",
       "    }\n",
       "\n",
       "    .dataframe thead th {\n",
       "        text-align: right;\n",
       "    }\n",
       "</style>\n",
       "<table border=\"1\" class=\"dataframe\">\n",
       "  <thead>\n",
       "    <tr style=\"text-align: right;\">\n",
       "      <th></th>\n",
       "      <th>Time</th>\n",
       "      <th>V1</th>\n",
       "      <th>V2</th>\n",
       "      <th>V3</th>\n",
       "      <th>V4</th>\n",
       "      <th>V5</th>\n",
       "      <th>V6</th>\n",
       "      <th>V7</th>\n",
       "      <th>V8</th>\n",
       "      <th>V9</th>\n",
       "      <th>...</th>\n",
       "      <th>V21</th>\n",
       "      <th>V22</th>\n",
       "      <th>V23</th>\n",
       "      <th>V24</th>\n",
       "      <th>V25</th>\n",
       "      <th>V26</th>\n",
       "      <th>V27</th>\n",
       "      <th>V28</th>\n",
       "      <th>Amount</th>\n",
       "      <th>Class</th>\n",
       "    </tr>\n",
       "  </thead>\n",
       "  <tbody>\n",
       "    <tr>\n",
       "      <th>0</th>\n",
       "      <td>0.0</td>\n",
       "      <td>-1.359807</td>\n",
       "      <td>-0.072781</td>\n",
       "      <td>2.536347</td>\n",
       "      <td>1.378155</td>\n",
       "      <td>-0.338321</td>\n",
       "      <td>0.462388</td>\n",
       "      <td>0.239599</td>\n",
       "      <td>0.098698</td>\n",
       "      <td>0.363787</td>\n",
       "      <td>...</td>\n",
       "      <td>-0.018307</td>\n",
       "      <td>0.277838</td>\n",
       "      <td>-0.110474</td>\n",
       "      <td>0.066928</td>\n",
       "      <td>0.128539</td>\n",
       "      <td>-0.189115</td>\n",
       "      <td>0.133558</td>\n",
       "      <td>-0.021053</td>\n",
       "      <td>149.62</td>\n",
       "      <td>0</td>\n",
       "    </tr>\n",
       "    <tr>\n",
       "      <th>1</th>\n",
       "      <td>0.0</td>\n",
       "      <td>1.191857</td>\n",
       "      <td>0.266151</td>\n",
       "      <td>0.166480</td>\n",
       "      <td>0.448154</td>\n",
       "      <td>0.060018</td>\n",
       "      <td>-0.082361</td>\n",
       "      <td>-0.078803</td>\n",
       "      <td>0.085102</td>\n",
       "      <td>-0.255425</td>\n",
       "      <td>...</td>\n",
       "      <td>-0.225775</td>\n",
       "      <td>-0.638672</td>\n",
       "      <td>0.101288</td>\n",
       "      <td>-0.339846</td>\n",
       "      <td>0.167170</td>\n",
       "      <td>0.125895</td>\n",
       "      <td>-0.008983</td>\n",
       "      <td>0.014724</td>\n",
       "      <td>2.69</td>\n",
       "      <td>0</td>\n",
       "    </tr>\n",
       "    <tr>\n",
       "      <th>2</th>\n",
       "      <td>1.0</td>\n",
       "      <td>-1.358354</td>\n",
       "      <td>-1.340163</td>\n",
       "      <td>1.773209</td>\n",
       "      <td>0.379780</td>\n",
       "      <td>-0.503198</td>\n",
       "      <td>1.800499</td>\n",
       "      <td>0.791461</td>\n",
       "      <td>0.247676</td>\n",
       "      <td>-1.514654</td>\n",
       "      <td>...</td>\n",
       "      <td>0.247998</td>\n",
       "      <td>0.771679</td>\n",
       "      <td>0.909412</td>\n",
       "      <td>-0.689281</td>\n",
       "      <td>-0.327642</td>\n",
       "      <td>-0.139097</td>\n",
       "      <td>-0.055353</td>\n",
       "      <td>-0.059752</td>\n",
       "      <td>378.66</td>\n",
       "      <td>0</td>\n",
       "    </tr>\n",
       "    <tr>\n",
       "      <th>3</th>\n",
       "      <td>1.0</td>\n",
       "      <td>-0.966272</td>\n",
       "      <td>-0.185226</td>\n",
       "      <td>1.792993</td>\n",
       "      <td>-0.863291</td>\n",
       "      <td>-0.010309</td>\n",
       "      <td>1.247203</td>\n",
       "      <td>0.237609</td>\n",
       "      <td>0.377436</td>\n",
       "      <td>-1.387024</td>\n",
       "      <td>...</td>\n",
       "      <td>-0.108300</td>\n",
       "      <td>0.005274</td>\n",
       "      <td>-0.190321</td>\n",
       "      <td>-1.175575</td>\n",
       "      <td>0.647376</td>\n",
       "      <td>-0.221929</td>\n",
       "      <td>0.062723</td>\n",
       "      <td>0.061458</td>\n",
       "      <td>123.50</td>\n",
       "      <td>0</td>\n",
       "    </tr>\n",
       "    <tr>\n",
       "      <th>4</th>\n",
       "      <td>2.0</td>\n",
       "      <td>-1.158233</td>\n",
       "      <td>0.877737</td>\n",
       "      <td>1.548718</td>\n",
       "      <td>0.403034</td>\n",
       "      <td>-0.407193</td>\n",
       "      <td>0.095921</td>\n",
       "      <td>0.592941</td>\n",
       "      <td>-0.270533</td>\n",
       "      <td>0.817739</td>\n",
       "      <td>...</td>\n",
       "      <td>-0.009431</td>\n",
       "      <td>0.798278</td>\n",
       "      <td>-0.137458</td>\n",
       "      <td>0.141267</td>\n",
       "      <td>-0.206010</td>\n",
       "      <td>0.502292</td>\n",
       "      <td>0.219422</td>\n",
       "      <td>0.215153</td>\n",
       "      <td>69.99</td>\n",
       "      <td>0</td>\n",
       "    </tr>\n",
       "    <tr>\n",
       "      <th>...</th>\n",
       "      <td>...</td>\n",
       "      <td>...</td>\n",
       "      <td>...</td>\n",
       "      <td>...</td>\n",
       "      <td>...</td>\n",
       "      <td>...</td>\n",
       "      <td>...</td>\n",
       "      <td>...</td>\n",
       "      <td>...</td>\n",
       "      <td>...</td>\n",
       "      <td>...</td>\n",
       "      <td>...</td>\n",
       "      <td>...</td>\n",
       "      <td>...</td>\n",
       "      <td>...</td>\n",
       "      <td>...</td>\n",
       "      <td>...</td>\n",
       "      <td>...</td>\n",
       "      <td>...</td>\n",
       "      <td>...</td>\n",
       "      <td>...</td>\n",
       "    </tr>\n",
       "    <tr>\n",
       "      <th>284802</th>\n",
       "      <td>172786.0</td>\n",
       "      <td>-11.881118</td>\n",
       "      <td>10.071785</td>\n",
       "      <td>-9.834783</td>\n",
       "      <td>-2.066656</td>\n",
       "      <td>-5.364473</td>\n",
       "      <td>-2.606837</td>\n",
       "      <td>-4.918215</td>\n",
       "      <td>7.305334</td>\n",
       "      <td>1.914428</td>\n",
       "      <td>...</td>\n",
       "      <td>0.213454</td>\n",
       "      <td>0.111864</td>\n",
       "      <td>1.014480</td>\n",
       "      <td>-0.509348</td>\n",
       "      <td>1.436807</td>\n",
       "      <td>0.250034</td>\n",
       "      <td>0.943651</td>\n",
       "      <td>0.823731</td>\n",
       "      <td>0.77</td>\n",
       "      <td>0</td>\n",
       "    </tr>\n",
       "    <tr>\n",
       "      <th>284803</th>\n",
       "      <td>172787.0</td>\n",
       "      <td>-0.732789</td>\n",
       "      <td>-0.055080</td>\n",
       "      <td>2.035030</td>\n",
       "      <td>-0.738589</td>\n",
       "      <td>0.868229</td>\n",
       "      <td>1.058415</td>\n",
       "      <td>0.024330</td>\n",
       "      <td>0.294869</td>\n",
       "      <td>0.584800</td>\n",
       "      <td>...</td>\n",
       "      <td>0.214205</td>\n",
       "      <td>0.924384</td>\n",
       "      <td>0.012463</td>\n",
       "      <td>-1.016226</td>\n",
       "      <td>-0.606624</td>\n",
       "      <td>-0.395255</td>\n",
       "      <td>0.068472</td>\n",
       "      <td>-0.053527</td>\n",
       "      <td>24.79</td>\n",
       "      <td>0</td>\n",
       "    </tr>\n",
       "    <tr>\n",
       "      <th>284804</th>\n",
       "      <td>172788.0</td>\n",
       "      <td>1.919565</td>\n",
       "      <td>-0.301254</td>\n",
       "      <td>-3.249640</td>\n",
       "      <td>-0.557828</td>\n",
       "      <td>2.630515</td>\n",
       "      <td>3.031260</td>\n",
       "      <td>-0.296827</td>\n",
       "      <td>0.708417</td>\n",
       "      <td>0.432454</td>\n",
       "      <td>...</td>\n",
       "      <td>0.232045</td>\n",
       "      <td>0.578229</td>\n",
       "      <td>-0.037501</td>\n",
       "      <td>0.640134</td>\n",
       "      <td>0.265745</td>\n",
       "      <td>-0.087371</td>\n",
       "      <td>0.004455</td>\n",
       "      <td>-0.026561</td>\n",
       "      <td>67.88</td>\n",
       "      <td>0</td>\n",
       "    </tr>\n",
       "    <tr>\n",
       "      <th>284805</th>\n",
       "      <td>172788.0</td>\n",
       "      <td>-0.240440</td>\n",
       "      <td>0.530483</td>\n",
       "      <td>0.702510</td>\n",
       "      <td>0.689799</td>\n",
       "      <td>-0.377961</td>\n",
       "      <td>0.623708</td>\n",
       "      <td>-0.686180</td>\n",
       "      <td>0.679145</td>\n",
       "      <td>0.392087</td>\n",
       "      <td>...</td>\n",
       "      <td>0.265245</td>\n",
       "      <td>0.800049</td>\n",
       "      <td>-0.163298</td>\n",
       "      <td>0.123205</td>\n",
       "      <td>-0.569159</td>\n",
       "      <td>0.546668</td>\n",
       "      <td>0.108821</td>\n",
       "      <td>0.104533</td>\n",
       "      <td>10.00</td>\n",
       "      <td>0</td>\n",
       "    </tr>\n",
       "    <tr>\n",
       "      <th>284806</th>\n",
       "      <td>172792.0</td>\n",
       "      <td>-0.533413</td>\n",
       "      <td>-0.189733</td>\n",
       "      <td>0.703337</td>\n",
       "      <td>-0.506271</td>\n",
       "      <td>-0.012546</td>\n",
       "      <td>-0.649617</td>\n",
       "      <td>1.577006</td>\n",
       "      <td>-0.414650</td>\n",
       "      <td>0.486180</td>\n",
       "      <td>...</td>\n",
       "      <td>0.261057</td>\n",
       "      <td>0.643078</td>\n",
       "      <td>0.376777</td>\n",
       "      <td>0.008797</td>\n",
       "      <td>-0.473649</td>\n",
       "      <td>-0.818267</td>\n",
       "      <td>-0.002415</td>\n",
       "      <td>0.013649</td>\n",
       "      <td>217.00</td>\n",
       "      <td>0</td>\n",
       "    </tr>\n",
       "  </tbody>\n",
       "</table>\n",
       "<p>284807 rows × 31 columns</p>\n",
       "</div>"
      ],
      "text/plain": [
       "            Time         V1         V2        V3        V4        V5  \\\n",
       "0            0.0  -1.359807  -0.072781  2.536347  1.378155 -0.338321   \n",
       "1            0.0   1.191857   0.266151  0.166480  0.448154  0.060018   \n",
       "2            1.0  -1.358354  -1.340163  1.773209  0.379780 -0.503198   \n",
       "3            1.0  -0.966272  -0.185226  1.792993 -0.863291 -0.010309   \n",
       "4            2.0  -1.158233   0.877737  1.548718  0.403034 -0.407193   \n",
       "...          ...        ...        ...       ...       ...       ...   \n",
       "284802  172786.0 -11.881118  10.071785 -9.834783 -2.066656 -5.364473   \n",
       "284803  172787.0  -0.732789  -0.055080  2.035030 -0.738589  0.868229   \n",
       "284804  172788.0   1.919565  -0.301254 -3.249640 -0.557828  2.630515   \n",
       "284805  172788.0  -0.240440   0.530483  0.702510  0.689799 -0.377961   \n",
       "284806  172792.0  -0.533413  -0.189733  0.703337 -0.506271 -0.012546   \n",
       "\n",
       "              V6        V7        V8        V9  ...       V21       V22  \\\n",
       "0       0.462388  0.239599  0.098698  0.363787  ... -0.018307  0.277838   \n",
       "1      -0.082361 -0.078803  0.085102 -0.255425  ... -0.225775 -0.638672   \n",
       "2       1.800499  0.791461  0.247676 -1.514654  ...  0.247998  0.771679   \n",
       "3       1.247203  0.237609  0.377436 -1.387024  ... -0.108300  0.005274   \n",
       "4       0.095921  0.592941 -0.270533  0.817739  ... -0.009431  0.798278   \n",
       "...          ...       ...       ...       ...  ...       ...       ...   \n",
       "284802 -2.606837 -4.918215  7.305334  1.914428  ...  0.213454  0.111864   \n",
       "284803  1.058415  0.024330  0.294869  0.584800  ...  0.214205  0.924384   \n",
       "284804  3.031260 -0.296827  0.708417  0.432454  ...  0.232045  0.578229   \n",
       "284805  0.623708 -0.686180  0.679145  0.392087  ...  0.265245  0.800049   \n",
       "284806 -0.649617  1.577006 -0.414650  0.486180  ...  0.261057  0.643078   \n",
       "\n",
       "             V23       V24       V25       V26       V27       V28  Amount  \\\n",
       "0      -0.110474  0.066928  0.128539 -0.189115  0.133558 -0.021053  149.62   \n",
       "1       0.101288 -0.339846  0.167170  0.125895 -0.008983  0.014724    2.69   \n",
       "2       0.909412 -0.689281 -0.327642 -0.139097 -0.055353 -0.059752  378.66   \n",
       "3      -0.190321 -1.175575  0.647376 -0.221929  0.062723  0.061458  123.50   \n",
       "4      -0.137458  0.141267 -0.206010  0.502292  0.219422  0.215153   69.99   \n",
       "...          ...       ...       ...       ...       ...       ...     ...   \n",
       "284802  1.014480 -0.509348  1.436807  0.250034  0.943651  0.823731    0.77   \n",
       "284803  0.012463 -1.016226 -0.606624 -0.395255  0.068472 -0.053527   24.79   \n",
       "284804 -0.037501  0.640134  0.265745 -0.087371  0.004455 -0.026561   67.88   \n",
       "284805 -0.163298  0.123205 -0.569159  0.546668  0.108821  0.104533   10.00   \n",
       "284806  0.376777  0.008797 -0.473649 -0.818267 -0.002415  0.013649  217.00   \n",
       "\n",
       "        Class  \n",
       "0           0  \n",
       "1           0  \n",
       "2           0  \n",
       "3           0  \n",
       "4           0  \n",
       "...       ...  \n",
       "284802      0  \n",
       "284803      0  \n",
       "284804      0  \n",
       "284805      0  \n",
       "284806      0  \n",
       "\n",
       "[284807 rows x 31 columns]"
      ]
     },
     "execution_count": 10,
     "metadata": {},
     "output_type": "execute_result"
    }
   ],
   "source": [
    "df = pd.read_csv(\"./creditcard.csv\")\n",
    "df"
   ]
  },
  {
   "cell_type": "code",
   "execution_count": 11,
   "metadata": {},
   "outputs": [
    {
     "data": {
      "text/plain": [
       "False"
      ]
     },
     "execution_count": 11,
     "metadata": {},
     "output_type": "execute_result"
    }
   ],
   "source": [
    "# Check if dataset has any NaN\n",
    "df.isnull().any().any()"
   ]
  },
  {
   "cell_type": "code",
   "execution_count": 12,
   "metadata": {},
   "outputs": [
    {
     "data": {
      "text/plain": [
       "count    284807.000000\n",
       "mean      94813.859575\n",
       "std       47488.145955\n",
       "min           0.000000\n",
       "25%       54201.500000\n",
       "50%       84692.000000\n",
       "75%      139320.500000\n",
       "max      172792.000000\n",
       "Name: Time, dtype: float64"
      ]
     },
     "execution_count": 12,
     "metadata": {},
     "output_type": "execute_result"
    }
   ],
   "source": [
    "# Feature 'Time' contains the seconds elapsed between each transaction and the first transaction in the dataset. \n",
    "df['Time'].describe()"
   ]
  },
  {
   "cell_type": "code",
   "execution_count": 14,
   "metadata": {},
   "outputs": [
    {
     "data": {
      "text/plain": [
       "172800"
      ]
     },
     "execution_count": 14,
     "metadata": {},
     "output_type": "execute_result"
    }
   ],
   "source": [
    "2 * 24 * 60 * 60 # 2 days of data in seconds"
   ]
  },
  {
   "cell_type": "code",
   "execution_count": 15,
   "metadata": {},
   "outputs": [
    {
     "data": {
      "text/plain": [
       "0    284315\n",
       "1       492\n",
       "Name: Class, dtype: int64"
      ]
     },
     "execution_count": 15,
     "metadata": {},
     "output_type": "execute_result"
    }
   ],
   "source": [
    "# Feature 'Class' is the response variable and it takes value 1 in case of fraud and 0 otherwise.\n",
    "df['Class'].value_counts()"
   ]
  },
  {
   "cell_type": "code",
   "execution_count": 16,
   "metadata": {},
   "outputs": [],
   "source": [
    "# Test size of 8 hours, remaining for training\n",
    "test_hours = 8\n",
    "train_hours = 48 - test_hours\n",
    "train_delta = train_hours * 60 * 60 # Convert to seconds\n",
    "train_df = df[(df['Time'] >= 0) & (df['Time'] < train_delta)]\n",
    "test_df = df[df['Time'] >= train_delta]"
   ]
  },
  {
   "cell_type": "code",
   "execution_count": 25,
   "metadata": {},
   "outputs": [
    {
     "data": {
      "text/plain": [
       "0    224450\n",
       "1       415\n",
       "Name: Class, dtype: int64"
      ]
     },
     "execution_count": 25,
     "metadata": {},
     "output_type": "execute_result"
    }
   ],
   "source": [
    "train_df['Class'].value_counts()"
   ]
  },
  {
   "cell_type": "code",
   "execution_count": 18,
   "metadata": {},
   "outputs": [
    {
     "data": {
      "text/plain": [
       "0    59865\n",
       "1       77\n",
       "Name: Class, dtype: int64"
      ]
     },
     "execution_count": 18,
     "metadata": {},
     "output_type": "execute_result"
    }
   ],
   "source": [
    "test_df['Class'].value_counts()"
   ]
  },
  {
   "cell_type": "markdown",
   "metadata": {},
   "source": [
    "# Baseline Models"
   ]
  },
  {
   "cell_type": "code",
   "execution_count": 87,
   "metadata": {},
   "outputs": [
    {
     "data": {
      "text/html": [
       "<style type=\"text/css\">\n",
       "#T_de983_row8_col1, #T_de983_row12_col1, #T_de983_row14_col1, #T_de983_row16_col1, #T_de983_row18_col1 {\n",
       "  background-color: lightgreen;\n",
       "}\n",
       "</style>\n",
       "<table id=\"T_de983\">\n",
       "  <thead>\n",
       "    <tr>\n",
       "      <th class=\"blank level0\" >&nbsp;</th>\n",
       "      <th id=\"T_de983_level0_col0\" class=\"col_heading level0 col0\" >Description</th>\n",
       "      <th id=\"T_de983_level0_col1\" class=\"col_heading level0 col1\" >Value</th>\n",
       "    </tr>\n",
       "  </thead>\n",
       "  <tbody>\n",
       "    <tr>\n",
       "      <th id=\"T_de983_level0_row0\" class=\"row_heading level0 row0\" >0</th>\n",
       "      <td id=\"T_de983_row0_col0\" class=\"data row0 col0\" >Session id</td>\n",
       "      <td id=\"T_de983_row0_col1\" class=\"data row0 col1\" >42</td>\n",
       "    </tr>\n",
       "    <tr>\n",
       "      <th id=\"T_de983_level0_row1\" class=\"row_heading level0 row1\" >1</th>\n",
       "      <td id=\"T_de983_row1_col0\" class=\"data row1 col0\" >Target</td>\n",
       "      <td id=\"T_de983_row1_col1\" class=\"data row1 col1\" >Class</td>\n",
       "    </tr>\n",
       "    <tr>\n",
       "      <th id=\"T_de983_level0_row2\" class=\"row_heading level0 row2\" >2</th>\n",
       "      <td id=\"T_de983_row2_col0\" class=\"data row2 col0\" >Target type</td>\n",
       "      <td id=\"T_de983_row2_col1\" class=\"data row2 col1\" >Binary</td>\n",
       "    </tr>\n",
       "    <tr>\n",
       "      <th id=\"T_de983_level0_row3\" class=\"row_heading level0 row3\" >3</th>\n",
       "      <td id=\"T_de983_row3_col0\" class=\"data row3 col0\" >Original data shape</td>\n",
       "      <td id=\"T_de983_row3_col1\" class=\"data row3 col1\" >(224865, 31)</td>\n",
       "    </tr>\n",
       "    <tr>\n",
       "      <th id=\"T_de983_level0_row4\" class=\"row_heading level0 row4\" >4</th>\n",
       "      <td id=\"T_de983_row4_col0\" class=\"data row4 col0\" >Transformed data shape</td>\n",
       "      <td id=\"T_de983_row4_col1\" class=\"data row4 col1\" >(224865, 7)</td>\n",
       "    </tr>\n",
       "    <tr>\n",
       "      <th id=\"T_de983_level0_row5\" class=\"row_heading level0 row5\" >5</th>\n",
       "      <td id=\"T_de983_row5_col0\" class=\"data row5 col0\" >Transformed train set shape</td>\n",
       "      <td id=\"T_de983_row5_col1\" class=\"data row5 col1\" >(179892, 7)</td>\n",
       "    </tr>\n",
       "    <tr>\n",
       "      <th id=\"T_de983_level0_row6\" class=\"row_heading level0 row6\" >6</th>\n",
       "      <td id=\"T_de983_row6_col0\" class=\"data row6 col0\" >Transformed test set shape</td>\n",
       "      <td id=\"T_de983_row6_col1\" class=\"data row6 col1\" >(44973, 7)</td>\n",
       "    </tr>\n",
       "    <tr>\n",
       "      <th id=\"T_de983_level0_row7\" class=\"row_heading level0 row7\" >7</th>\n",
       "      <td id=\"T_de983_row7_col0\" class=\"data row7 col0\" >Numeric features</td>\n",
       "      <td id=\"T_de983_row7_col1\" class=\"data row7 col1\" >30</td>\n",
       "    </tr>\n",
       "    <tr>\n",
       "      <th id=\"T_de983_level0_row8\" class=\"row_heading level0 row8\" >8</th>\n",
       "      <td id=\"T_de983_row8_col0\" class=\"data row8 col0\" >Preprocess</td>\n",
       "      <td id=\"T_de983_row8_col1\" class=\"data row8 col1\" >True</td>\n",
       "    </tr>\n",
       "    <tr>\n",
       "      <th id=\"T_de983_level0_row9\" class=\"row_heading level0 row9\" >9</th>\n",
       "      <td id=\"T_de983_row9_col0\" class=\"data row9 col0\" >Imputation type</td>\n",
       "      <td id=\"T_de983_row9_col1\" class=\"data row9 col1\" >simple</td>\n",
       "    </tr>\n",
       "    <tr>\n",
       "      <th id=\"T_de983_level0_row10\" class=\"row_heading level0 row10\" >10</th>\n",
       "      <td id=\"T_de983_row10_col0\" class=\"data row10 col0\" >Numeric imputation</td>\n",
       "      <td id=\"T_de983_row10_col1\" class=\"data row10 col1\" >mean</td>\n",
       "    </tr>\n",
       "    <tr>\n",
       "      <th id=\"T_de983_level0_row11\" class=\"row_heading level0 row11\" >11</th>\n",
       "      <td id=\"T_de983_row11_col0\" class=\"data row11 col0\" >Categorical imputation</td>\n",
       "      <td id=\"T_de983_row11_col1\" class=\"data row11 col1\" >mode</td>\n",
       "    </tr>\n",
       "    <tr>\n",
       "      <th id=\"T_de983_level0_row12\" class=\"row_heading level0 row12\" >12</th>\n",
       "      <td id=\"T_de983_row12_col0\" class=\"data row12 col0\" >Remove multicollinearity</td>\n",
       "      <td id=\"T_de983_row12_col1\" class=\"data row12 col1\" >True</td>\n",
       "    </tr>\n",
       "    <tr>\n",
       "      <th id=\"T_de983_level0_row13\" class=\"row_heading level0 row13\" >13</th>\n",
       "      <td id=\"T_de983_row13_col0\" class=\"data row13 col0\" >Multicollinearity threshold</td>\n",
       "      <td id=\"T_de983_row13_col1\" class=\"data row13 col1\" >0.900000</td>\n",
       "    </tr>\n",
       "    <tr>\n",
       "      <th id=\"T_de983_level0_row14\" class=\"row_heading level0 row14\" >14</th>\n",
       "      <td id=\"T_de983_row14_col0\" class=\"data row14 col0\" >Transformation</td>\n",
       "      <td id=\"T_de983_row14_col1\" class=\"data row14 col1\" >True</td>\n",
       "    </tr>\n",
       "    <tr>\n",
       "      <th id=\"T_de983_level0_row15\" class=\"row_heading level0 row15\" >15</th>\n",
       "      <td id=\"T_de983_row15_col0\" class=\"data row15 col0\" >Transformation method</td>\n",
       "      <td id=\"T_de983_row15_col1\" class=\"data row15 col1\" >yeo-johnson</td>\n",
       "    </tr>\n",
       "    <tr>\n",
       "      <th id=\"T_de983_level0_row16\" class=\"row_heading level0 row16\" >16</th>\n",
       "      <td id=\"T_de983_row16_col0\" class=\"data row16 col0\" >Normalize</td>\n",
       "      <td id=\"T_de983_row16_col1\" class=\"data row16 col1\" >True</td>\n",
       "    </tr>\n",
       "    <tr>\n",
       "      <th id=\"T_de983_level0_row17\" class=\"row_heading level0 row17\" >17</th>\n",
       "      <td id=\"T_de983_row17_col0\" class=\"data row17 col0\" >Normalize method</td>\n",
       "      <td id=\"T_de983_row17_col1\" class=\"data row17 col1\" >robust</td>\n",
       "    </tr>\n",
       "    <tr>\n",
       "      <th id=\"T_de983_level0_row18\" class=\"row_heading level0 row18\" >18</th>\n",
       "      <td id=\"T_de983_row18_col0\" class=\"data row18 col0\" >Feature selection</td>\n",
       "      <td id=\"T_de983_row18_col1\" class=\"data row18 col1\" >True</td>\n",
       "    </tr>\n",
       "    <tr>\n",
       "      <th id=\"T_de983_level0_row19\" class=\"row_heading level0 row19\" >19</th>\n",
       "      <td id=\"T_de983_row19_col0\" class=\"data row19 col0\" >Feature selection method</td>\n",
       "      <td id=\"T_de983_row19_col1\" class=\"data row19 col1\" >classic</td>\n",
       "    </tr>\n",
       "    <tr>\n",
       "      <th id=\"T_de983_level0_row20\" class=\"row_heading level0 row20\" >20</th>\n",
       "      <td id=\"T_de983_row20_col0\" class=\"data row20 col0\" >Feature selection estimator</td>\n",
       "      <td id=\"T_de983_row20_col1\" class=\"data row20 col1\" >lightgbm</td>\n",
       "    </tr>\n",
       "    <tr>\n",
       "      <th id=\"T_de983_level0_row21\" class=\"row_heading level0 row21\" >21</th>\n",
       "      <td id=\"T_de983_row21_col0\" class=\"data row21 col0\" >Number of features selected</td>\n",
       "      <td id=\"T_de983_row21_col1\" class=\"data row21 col1\" >0.200000</td>\n",
       "    </tr>\n",
       "    <tr>\n",
       "      <th id=\"T_de983_level0_row22\" class=\"row_heading level0 row22\" >22</th>\n",
       "      <td id=\"T_de983_row22_col0\" class=\"data row22 col0\" >Fold Generator</td>\n",
       "      <td id=\"T_de983_row22_col1\" class=\"data row22 col1\" >StratifiedKFold</td>\n",
       "    </tr>\n",
       "    <tr>\n",
       "      <th id=\"T_de983_level0_row23\" class=\"row_heading level0 row23\" >23</th>\n",
       "      <td id=\"T_de983_row23_col0\" class=\"data row23 col0\" >Fold Number</td>\n",
       "      <td id=\"T_de983_row23_col1\" class=\"data row23 col1\" >10</td>\n",
       "    </tr>\n",
       "    <tr>\n",
       "      <th id=\"T_de983_level0_row24\" class=\"row_heading level0 row24\" >24</th>\n",
       "      <td id=\"T_de983_row24_col0\" class=\"data row24 col0\" >CPU Jobs</td>\n",
       "      <td id=\"T_de983_row24_col1\" class=\"data row24 col1\" >-1</td>\n",
       "    </tr>\n",
       "    <tr>\n",
       "      <th id=\"T_de983_level0_row25\" class=\"row_heading level0 row25\" >25</th>\n",
       "      <td id=\"T_de983_row25_col0\" class=\"data row25 col0\" >Use GPU</td>\n",
       "      <td id=\"T_de983_row25_col1\" class=\"data row25 col1\" >False</td>\n",
       "    </tr>\n",
       "    <tr>\n",
       "      <th id=\"T_de983_level0_row26\" class=\"row_heading level0 row26\" >26</th>\n",
       "      <td id=\"T_de983_row26_col0\" class=\"data row26 col0\" >Log Experiment</td>\n",
       "      <td id=\"T_de983_row26_col1\" class=\"data row26 col1\" >False</td>\n",
       "    </tr>\n",
       "    <tr>\n",
       "      <th id=\"T_de983_level0_row27\" class=\"row_heading level0 row27\" >27</th>\n",
       "      <td id=\"T_de983_row27_col0\" class=\"data row27 col0\" >Experiment Name</td>\n",
       "      <td id=\"T_de983_row27_col1\" class=\"data row27 col1\" >clf-default-name</td>\n",
       "    </tr>\n",
       "    <tr>\n",
       "      <th id=\"T_de983_level0_row28\" class=\"row_heading level0 row28\" >28</th>\n",
       "      <td id=\"T_de983_row28_col0\" class=\"data row28 col0\" >USI</td>\n",
       "      <td id=\"T_de983_row28_col1\" class=\"data row28 col1\" >af83</td>\n",
       "    </tr>\n",
       "  </tbody>\n",
       "</table>\n"
      ],
      "text/plain": [
       "<pandas.io.formats.style.Styler at 0x20864670d50>"
      ]
     },
     "metadata": {},
     "output_type": "display_data"
    }
   ],
   "source": [
    "cc = setup(data=train_df, target='Class', session_id=42,\n",
    "           train_size=0.8, # training over 80% of available data\n",
    "           transformation=True, # transformation changes the shape of the distribution such that the transformed data can be represented by normal distribution\n",
    "           normalize=True, # rescale the values of numeric columns\n",
    "           remove_multicollinearity=True, # drop one of the two features that are highly correlated with each other\n",
    "           normalize_method='robust',\n",
    "           feature_selection=True)"
   ]
  },
  {
   "cell_type": "code",
   "execution_count": 88,
   "metadata": {},
   "outputs": [
    {
     "data": {
      "text/html": [],
      "text/plain": [
       "<IPython.core.display.HTML object>"
      ]
     },
     "metadata": {},
     "output_type": "display_data"
    },
    {
     "data": {
      "text/html": [
       "<style type=\"text/css\">\n",
       "#T_49498 th {\n",
       "  text-align: left;\n",
       "}\n",
       "#T_49498_row0_col0, #T_49498_row0_col1, #T_49498_row0_col3, #T_49498_row0_col4, #T_49498_row0_col5, #T_49498_row0_col6, #T_49498_row0_col7, #T_49498_row1_col0, #T_49498_row1_col1, #T_49498_row1_col3, #T_49498_row1_col4, #T_49498_row1_col5, #T_49498_row1_col6, #T_49498_row1_col7, #T_49498_row2_col0, #T_49498_row2_col1, #T_49498_row2_col2, #T_49498_row2_col3, #T_49498_row2_col4, #T_49498_row2_col5, #T_49498_row2_col6, #T_49498_row2_col7, #T_49498_row3_col0, #T_49498_row3_col1, #T_49498_row3_col2, #T_49498_row3_col4, #T_49498_row3_col5, #T_49498_row3_col6, #T_49498_row3_col7, #T_49498_row4_col0, #T_49498_row4_col1, #T_49498_row4_col2, #T_49498_row4_col3, #T_49498_row4_col4, #T_49498_row4_col5, #T_49498_row4_col6, #T_49498_row4_col7, #T_49498_row5_col0, #T_49498_row5_col2, #T_49498_row5_col3, #T_49498_row5_col5, #T_49498_row5_col6, #T_49498_row6_col0, #T_49498_row6_col1, #T_49498_row6_col2, #T_49498_row6_col3, #T_49498_row6_col4, #T_49498_row6_col5, #T_49498_row6_col6, #T_49498_row6_col7, #T_49498_row7_col0, #T_49498_row7_col2, #T_49498_row7_col3, #T_49498_row7_col4, #T_49498_row7_col7, #T_49498_row8_col0, #T_49498_row8_col2, #T_49498_row8_col3, #T_49498_row8_col4, #T_49498_row8_col5, #T_49498_row8_col6, #T_49498_row8_col7, #T_49498_row9_col0, #T_49498_row9_col1, #T_49498_row9_col2, #T_49498_row9_col3, #T_49498_row9_col4, #T_49498_row9_col5, #T_49498_row9_col6, #T_49498_row9_col7, #T_49498_row10_col0, #T_49498_row10_col1, #T_49498_row10_col2, #T_49498_row10_col3, #T_49498_row10_col4, #T_49498_row10_col5, #T_49498_row10_col6, #T_49498_row10_col7, #T_49498_row11_col0, #T_49498_row11_col1, #T_49498_row11_col2, #T_49498_row11_col3, #T_49498_row11_col4, #T_49498_row11_col5, #T_49498_row11_col6, #T_49498_row11_col7, #T_49498_row12_col0, #T_49498_row12_col1, #T_49498_row12_col2, #T_49498_row12_col3, #T_49498_row12_col4, #T_49498_row12_col5, #T_49498_row12_col6, #T_49498_row12_col7, #T_49498_row13_col0, #T_49498_row13_col1, #T_49498_row13_col2, #T_49498_row13_col3, #T_49498_row13_col4, #T_49498_row13_col5, #T_49498_row13_col6, #T_49498_row13_col7, #T_49498_row14_col0, #T_49498_row14_col1, #T_49498_row14_col2, #T_49498_row14_col3, #T_49498_row14_col4, #T_49498_row14_col5, #T_49498_row14_col6, #T_49498_row14_col7 {\n",
       "  text-align: left;\n",
       "}\n",
       "#T_49498_row0_col2, #T_49498_row1_col2, #T_49498_row3_col3, #T_49498_row5_col1, #T_49498_row5_col4, #T_49498_row5_col7, #T_49498_row7_col1, #T_49498_row7_col5, #T_49498_row7_col6, #T_49498_row8_col1 {\n",
       "  text-align: left;\n",
       "  background-color: yellow;\n",
       "}\n",
       "#T_49498_row0_col8, #T_49498_row2_col8, #T_49498_row3_col8, #T_49498_row4_col8, #T_49498_row5_col8, #T_49498_row6_col8, #T_49498_row7_col8, #T_49498_row8_col8, #T_49498_row9_col8, #T_49498_row10_col8, #T_49498_row11_col8, #T_49498_row12_col8, #T_49498_row13_col8, #T_49498_row14_col8 {\n",
       "  text-align: left;\n",
       "  background-color: lightgrey;\n",
       "}\n",
       "#T_49498_row1_col8 {\n",
       "  text-align: left;\n",
       "  background-color: yellow;\n",
       "  background-color: lightgrey;\n",
       "}\n",
       "</style>\n",
       "<table id=\"T_49498\">\n",
       "  <thead>\n",
       "    <tr>\n",
       "      <th class=\"blank level0\" >&nbsp;</th>\n",
       "      <th id=\"T_49498_level0_col0\" class=\"col_heading level0 col0\" >Model</th>\n",
       "      <th id=\"T_49498_level0_col1\" class=\"col_heading level0 col1\" >Accuracy</th>\n",
       "      <th id=\"T_49498_level0_col2\" class=\"col_heading level0 col2\" >AUC</th>\n",
       "      <th id=\"T_49498_level0_col3\" class=\"col_heading level0 col3\" >Recall</th>\n",
       "      <th id=\"T_49498_level0_col4\" class=\"col_heading level0 col4\" >Prec.</th>\n",
       "      <th id=\"T_49498_level0_col5\" class=\"col_heading level0 col5\" >F1</th>\n",
       "      <th id=\"T_49498_level0_col6\" class=\"col_heading level0 col6\" >Kappa</th>\n",
       "      <th id=\"T_49498_level0_col7\" class=\"col_heading level0 col7\" >MCC</th>\n",
       "      <th id=\"T_49498_level0_col8\" class=\"col_heading level0 col8\" >TT (Sec)</th>\n",
       "    </tr>\n",
       "  </thead>\n",
       "  <tbody>\n",
       "    <tr>\n",
       "      <th id=\"T_49498_level0_row0\" class=\"row_heading level0 row0\" >lr</th>\n",
       "      <td id=\"T_49498_row0_col0\" class=\"data row0 col0\" >Logistic Regression</td>\n",
       "      <td id=\"T_49498_row0_col1\" class=\"data row0 col1\" >0.9990</td>\n",
       "      <td id=\"T_49498_row0_col2\" class=\"data row0 col2\" >0.9636</td>\n",
       "      <td id=\"T_49498_row0_col3\" class=\"data row0 col3\" >0.5656</td>\n",
       "      <td id=\"T_49498_row0_col4\" class=\"data row0 col4\" >0.8427</td>\n",
       "      <td id=\"T_49498_row0_col5\" class=\"data row0 col5\" >0.6715</td>\n",
       "      <td id=\"T_49498_row0_col6\" class=\"data row0 col6\" >0.6711</td>\n",
       "      <td id=\"T_49498_row0_col7\" class=\"data row0 col7\" >0.6871</td>\n",
       "      <td id=\"T_49498_row0_col8\" class=\"data row0 col8\" >0.8960</td>\n",
       "    </tr>\n",
       "    <tr>\n",
       "      <th id=\"T_49498_level0_row1\" class=\"row_heading level0 row1\" >nb</th>\n",
       "      <td id=\"T_49498_row1_col0\" class=\"data row1 col0\" >Naive Bayes</td>\n",
       "      <td id=\"T_49498_row1_col1\" class=\"data row1 col1\" >0.9937</td>\n",
       "      <td id=\"T_49498_row1_col2\" class=\"data row1 col2\" >0.9636</td>\n",
       "      <td id=\"T_49498_row1_col3\" class=\"data row1 col3\" >0.8070</td>\n",
       "      <td id=\"T_49498_row1_col4\" class=\"data row1 col4\" >0.2369</td>\n",
       "      <td id=\"T_49498_row1_col5\" class=\"data row1 col5\" >0.3520</td>\n",
       "      <td id=\"T_49498_row1_col6\" class=\"data row1 col6\" >0.3501</td>\n",
       "      <td id=\"T_49498_row1_col7\" class=\"data row1 col7\" >0.4239</td>\n",
       "      <td id=\"T_49498_row1_col8\" class=\"data row1 col8\" >0.8840</td>\n",
       "    </tr>\n",
       "    <tr>\n",
       "      <th id=\"T_49498_level0_row2\" class=\"row_heading level0 row2\" >ada</th>\n",
       "      <td id=\"T_49498_row2_col0\" class=\"data row2 col0\" >Ada Boost Classifier</td>\n",
       "      <td id=\"T_49498_row2_col1\" class=\"data row2 col1\" >0.9991</td>\n",
       "      <td id=\"T_49498_row2_col2\" class=\"data row2 col2\" >0.9614</td>\n",
       "      <td id=\"T_49498_row2_col3\" class=\"data row2 col3\" >0.6626</td>\n",
       "      <td id=\"T_49498_row2_col4\" class=\"data row2 col4\" >0.8215</td>\n",
       "      <td id=\"T_49498_row2_col5\" class=\"data row2 col5\" >0.7272</td>\n",
       "      <td id=\"T_49498_row2_col6\" class=\"data row2 col6\" >0.7268</td>\n",
       "      <td id=\"T_49498_row2_col7\" class=\"data row2 col7\" >0.7341</td>\n",
       "      <td id=\"T_49498_row2_col8\" class=\"data row2 col8\" >1.8900</td>\n",
       "    </tr>\n",
       "    <tr>\n",
       "      <th id=\"T_49498_level0_row3\" class=\"row_heading level0 row3\" >qda</th>\n",
       "      <td id=\"T_49498_row3_col0\" class=\"data row3 col0\" >Quadratic Discriminant Analysis</td>\n",
       "      <td id=\"T_49498_row3_col1\" class=\"data row3 col1\" >0.9914</td>\n",
       "      <td id=\"T_49498_row3_col2\" class=\"data row3 col2\" >0.9605</td>\n",
       "      <td id=\"T_49498_row3_col3\" class=\"data row3 col3\" >0.8342</td>\n",
       "      <td id=\"T_49498_row3_col4\" class=\"data row3 col4\" >0.1939</td>\n",
       "      <td id=\"T_49498_row3_col5\" class=\"data row3 col5\" >0.2988</td>\n",
       "      <td id=\"T_49498_row3_col6\" class=\"data row3 col6\" >0.2966</td>\n",
       "      <td id=\"T_49498_row3_col7\" class=\"data row3 col7\" >0.3854</td>\n",
       "      <td id=\"T_49498_row3_col8\" class=\"data row3 col8\" >0.9060</td>\n",
       "    </tr>\n",
       "    <tr>\n",
       "      <th id=\"T_49498_level0_row4\" class=\"row_heading level0 row4\" >catboost</th>\n",
       "      <td id=\"T_49498_row4_col0\" class=\"data row4 col0\" >CatBoost Classifier</td>\n",
       "      <td id=\"T_49498_row4_col1\" class=\"data row4 col1\" >0.9993</td>\n",
       "      <td id=\"T_49498_row4_col2\" class=\"data row4 col2\" >0.9600</td>\n",
       "      <td id=\"T_49498_row4_col3\" class=\"data row4 col3\" >0.7800</td>\n",
       "      <td id=\"T_49498_row4_col4\" class=\"data row4 col4\" >0.8536</td>\n",
       "      <td id=\"T_49498_row4_col5\" class=\"data row4 col5\" >0.8124</td>\n",
       "      <td id=\"T_49498_row4_col6\" class=\"data row4 col6\" >0.8120</td>\n",
       "      <td id=\"T_49498_row4_col7\" class=\"data row4 col7\" >0.8143</td>\n",
       "      <td id=\"T_49498_row4_col8\" class=\"data row4 col8\" >6.2520</td>\n",
       "    </tr>\n",
       "    <tr>\n",
       "      <th id=\"T_49498_level0_row5\" class=\"row_heading level0 row5\" >et</th>\n",
       "      <td id=\"T_49498_row5_col0\" class=\"data row5 col0\" >Extra Trees Classifier</td>\n",
       "      <td id=\"T_49498_row5_col1\" class=\"data row5 col1\" >0.9994</td>\n",
       "      <td id=\"T_49498_row5_col2\" class=\"data row5 col2\" >0.9380</td>\n",
       "      <td id=\"T_49498_row5_col3\" class=\"data row5 col3\" >0.7590</td>\n",
       "      <td id=\"T_49498_row5_col4\" class=\"data row5 col4\" >0.9304</td>\n",
       "      <td id=\"T_49498_row5_col5\" class=\"data row5 col5\" >0.8322</td>\n",
       "      <td id=\"T_49498_row5_col6\" class=\"data row5 col6\" >0.8320</td>\n",
       "      <td id=\"T_49498_row5_col7\" class=\"data row5 col7\" >0.8381</td>\n",
       "      <td id=\"T_49498_row5_col8\" class=\"data row5 col8\" >1.4340</td>\n",
       "    </tr>\n",
       "    <tr>\n",
       "      <th id=\"T_49498_level0_row6\" class=\"row_heading level0 row6\" >lda</th>\n",
       "      <td id=\"T_49498_row6_col0\" class=\"data row6 col0\" >Linear Discriminant Analysis</td>\n",
       "      <td id=\"T_49498_row6_col1\" class=\"data row6 col1\" >0.9989</td>\n",
       "      <td id=\"T_49498_row6_col2\" class=\"data row6 col2\" >0.9299</td>\n",
       "      <td id=\"T_49498_row6_col3\" class=\"data row6 col3\" >0.7436</td>\n",
       "      <td id=\"T_49498_row6_col4\" class=\"data row6 col4\" >0.7240</td>\n",
       "      <td id=\"T_49498_row6_col5\" class=\"data row6 col5\" >0.7248</td>\n",
       "      <td id=\"T_49498_row6_col6\" class=\"data row6 col6\" >0.7243</td>\n",
       "      <td id=\"T_49498_row6_col7\" class=\"data row6 col7\" >0.7288</td>\n",
       "      <td id=\"T_49498_row6_col8\" class=\"data row6 col8\" >0.9370</td>\n",
       "    </tr>\n",
       "    <tr>\n",
       "      <th id=\"T_49498_level0_row7\" class=\"row_heading level0 row7\" >rf</th>\n",
       "      <td id=\"T_49498_row7_col0\" class=\"data row7 col0\" >Random Forest Classifier</td>\n",
       "      <td id=\"T_49498_row7_col1\" class=\"data row7 col1\" >0.9994</td>\n",
       "      <td id=\"T_49498_row7_col2\" class=\"data row7 col2\" >0.9292</td>\n",
       "      <td id=\"T_49498_row7_col3\" class=\"data row7 col3\" >0.7712</td>\n",
       "      <td id=\"T_49498_row7_col4\" class=\"data row7 col4\" >0.9137</td>\n",
       "      <td id=\"T_49498_row7_col5\" class=\"data row7 col5\" >0.8339</td>\n",
       "      <td id=\"T_49498_row7_col6\" class=\"data row7 col6\" >0.8336</td>\n",
       "      <td id=\"T_49498_row7_col7\" class=\"data row7 col7\" >0.8379</td>\n",
       "      <td id=\"T_49498_row7_col8\" class=\"data row7 col8\" >3.6650</td>\n",
       "    </tr>\n",
       "    <tr>\n",
       "      <th id=\"T_49498_level0_row8\" class=\"row_heading level0 row8\" >knn</th>\n",
       "      <td id=\"T_49498_row8_col0\" class=\"data row8 col0\" >K Neighbors Classifier</td>\n",
       "      <td id=\"T_49498_row8_col1\" class=\"data row8 col1\" >0.9994</td>\n",
       "      <td id=\"T_49498_row8_col2\" class=\"data row8 col2\" >0.9125</td>\n",
       "      <td id=\"T_49498_row8_col3\" class=\"data row8 col3\" >0.7441</td>\n",
       "      <td id=\"T_49498_row8_col4\" class=\"data row8 col4\" >0.8949</td>\n",
       "      <td id=\"T_49498_row8_col5\" class=\"data row8 col5\" >0.8091</td>\n",
       "      <td id=\"T_49498_row8_col6\" class=\"data row8 col6\" >0.8088</td>\n",
       "      <td id=\"T_49498_row8_col7\" class=\"data row8 col7\" >0.8139</td>\n",
       "      <td id=\"T_49498_row8_col8\" class=\"data row8 col8\" >1.2810</td>\n",
       "    </tr>\n",
       "    <tr>\n",
       "      <th id=\"T_49498_level0_row9\" class=\"row_heading level0 row9\" >dt</th>\n",
       "      <td id=\"T_49498_row9_col0\" class=\"data row9 col0\" >Decision Tree Classifier</td>\n",
       "      <td id=\"T_49498_row9_col1\" class=\"data row9 col1\" >0.9990</td>\n",
       "      <td id=\"T_49498_row9_col2\" class=\"data row9 col2\" >0.8731</td>\n",
       "      <td id=\"T_49498_row9_col3\" class=\"data row9 col3\" >0.7468</td>\n",
       "      <td id=\"T_49498_row9_col4\" class=\"data row9 col4\" >0.7119</td>\n",
       "      <td id=\"T_49498_row9_col5\" class=\"data row9 col5\" >0.7251</td>\n",
       "      <td id=\"T_49498_row9_col6\" class=\"data row9 col6\" >0.7246</td>\n",
       "      <td id=\"T_49498_row9_col7\" class=\"data row9 col7\" >0.7267</td>\n",
       "      <td id=\"T_49498_row9_col8\" class=\"data row9 col8\" >1.0470</td>\n",
       "    </tr>\n",
       "    <tr>\n",
       "      <th id=\"T_49498_level0_row10\" class=\"row_heading level0 row10\" >lightgbm</th>\n",
       "      <td id=\"T_49498_row10_col0\" class=\"data row10 col0\" >Light Gradient Boosting Machine</td>\n",
       "      <td id=\"T_49498_row10_col1\" class=\"data row10 col1\" >0.9964</td>\n",
       "      <td id=\"T_49498_row10_col2\" class=\"data row10 col2\" >0.8050</td>\n",
       "      <td id=\"T_49498_row10_col3\" class=\"data row10 col3\" >0.6172</td>\n",
       "      <td id=\"T_49498_row10_col4\" class=\"data row10 col4\" >0.3156</td>\n",
       "      <td id=\"T_49498_row10_col5\" class=\"data row10 col5\" >0.4102</td>\n",
       "      <td id=\"T_49498_row10_col6\" class=\"data row10 col6\" >0.4087</td>\n",
       "      <td id=\"T_49498_row10_col7\" class=\"data row10 col7\" >0.4353</td>\n",
       "      <td id=\"T_49498_row10_col8\" class=\"data row10 col8\" >1.1340</td>\n",
       "    </tr>\n",
       "    <tr>\n",
       "      <th id=\"T_49498_level0_row11\" class=\"row_heading level0 row11\" >gbc</th>\n",
       "      <td id=\"T_49498_row11_col0\" class=\"data row11 col0\" >Gradient Boosting Classifier</td>\n",
       "      <td id=\"T_49498_row11_col1\" class=\"data row11 col1\" >0.9989</td>\n",
       "      <td id=\"T_49498_row11_col2\" class=\"data row11 col2\" >0.6689</td>\n",
       "      <td id=\"T_49498_row11_col3\" class=\"data row11 col3\" >0.5050</td>\n",
       "      <td id=\"T_49498_row11_col4\" class=\"data row11 col4\" >0.8065</td>\n",
       "      <td id=\"T_49498_row11_col5\" class=\"data row11 col5\" >0.5902</td>\n",
       "      <td id=\"T_49498_row11_col6\" class=\"data row11 col6\" >0.5897</td>\n",
       "      <td id=\"T_49498_row11_col7\" class=\"data row11 col7\" >0.6199</td>\n",
       "      <td id=\"T_49498_row11_col8\" class=\"data row11 col8\" >5.6450</td>\n",
       "    </tr>\n",
       "    <tr>\n",
       "      <th id=\"T_49498_level0_row12\" class=\"row_heading level0 row12\" >dummy</th>\n",
       "      <td id=\"T_49498_row12_col0\" class=\"data row12 col0\" >Dummy Classifier</td>\n",
       "      <td id=\"T_49498_row12_col1\" class=\"data row12 col1\" >0.9982</td>\n",
       "      <td id=\"T_49498_row12_col2\" class=\"data row12 col2\" >0.5000</td>\n",
       "      <td id=\"T_49498_row12_col3\" class=\"data row12 col3\" >0.0000</td>\n",
       "      <td id=\"T_49498_row12_col4\" class=\"data row12 col4\" >0.0000</td>\n",
       "      <td id=\"T_49498_row12_col5\" class=\"data row12 col5\" >0.0000</td>\n",
       "      <td id=\"T_49498_row12_col6\" class=\"data row12 col6\" >0.0000</td>\n",
       "      <td id=\"T_49498_row12_col7\" class=\"data row12 col7\" >0.0000</td>\n",
       "      <td id=\"T_49498_row12_col8\" class=\"data row12 col8\" >0.9350</td>\n",
       "    </tr>\n",
       "    <tr>\n",
       "      <th id=\"T_49498_level0_row13\" class=\"row_heading level0 row13\" >svm</th>\n",
       "      <td id=\"T_49498_row13_col0\" class=\"data row13 col0\" >SVM - Linear Kernel</td>\n",
       "      <td id=\"T_49498_row13_col1\" class=\"data row13 col1\" >0.9989</td>\n",
       "      <td id=\"T_49498_row13_col2\" class=\"data row13 col2\" >0.0000</td>\n",
       "      <td id=\"T_49498_row13_col3\" class=\"data row13 col3\" >0.5384</td>\n",
       "      <td id=\"T_49498_row13_col4\" class=\"data row13 col4\" >0.8240</td>\n",
       "      <td id=\"T_49498_row13_col5\" class=\"data row13 col5\" >0.6440</td>\n",
       "      <td id=\"T_49498_row13_col6\" class=\"data row13 col6\" >0.6435</td>\n",
       "      <td id=\"T_49498_row13_col7\" class=\"data row13 col7\" >0.6617</td>\n",
       "      <td id=\"T_49498_row13_col8\" class=\"data row13 col8\" >0.8950</td>\n",
       "    </tr>\n",
       "    <tr>\n",
       "      <th id=\"T_49498_level0_row14\" class=\"row_heading level0 row14\" >ridge</th>\n",
       "      <td id=\"T_49498_row14_col0\" class=\"data row14 col0\" >Ridge Classifier</td>\n",
       "      <td id=\"T_49498_row14_col1\" class=\"data row14 col1\" >0.9983</td>\n",
       "      <td id=\"T_49498_row14_col2\" class=\"data row14 col2\" >0.0000</td>\n",
       "      <td id=\"T_49498_row14_col3\" class=\"data row14 col3\" >0.1053</td>\n",
       "      <td id=\"T_49498_row14_col4\" class=\"data row14 col4\" >0.4603</td>\n",
       "      <td id=\"T_49498_row14_col5\" class=\"data row14 col5\" >0.1681</td>\n",
       "      <td id=\"T_49498_row14_col6\" class=\"data row14 col6\" >0.1678</td>\n",
       "      <td id=\"T_49498_row14_col7\" class=\"data row14 col7\" >0.2166</td>\n",
       "      <td id=\"T_49498_row14_col8\" class=\"data row14 col8\" >0.8880</td>\n",
       "    </tr>\n",
       "  </tbody>\n",
       "</table>\n"
      ],
      "text/plain": [
       "<pandas.io.formats.style.Styler at 0x2089f5d4b10>"
      ]
     },
     "metadata": {},
     "output_type": "display_data"
    },
    {
     "data": {
      "text/html": [],
      "text/plain": [
       "<IPython.core.display.HTML object>"
      ]
     },
     "metadata": {},
     "output_type": "display_data"
    }
   ],
   "source": [
    "best_baseline_model = cc.compare_models(sort='AUC')"
   ]
  },
  {
   "cell_type": "code",
   "execution_count": 89,
   "metadata": {},
   "outputs": [
    {
     "data": {
      "text/html": [],
      "text/plain": [
       "<IPython.core.display.HTML object>"
      ]
     },
     "metadata": {},
     "output_type": "display_data"
    },
    {
     "data": {
      "image/png": "[encoded data removed]",
      "text/plain": [
       "<Figure size 800x550 with 2 Axes>"
      ]
     },
     "metadata": {},
     "output_type": "display_data"
    }
   ],
   "source": [
    "cc.plot_model(best_baseline_model, plot='class_report')"
   ]
  },
  {
   "cell_type": "code",
   "execution_count": 90,
   "metadata": {},
   "outputs": [
    {
     "data": {
      "text/html": [],
      "text/plain": [
       "<IPython.core.display.HTML object>"
      ]
     },
     "metadata": {},
     "output_type": "display_data"
    }
   ],
   "source": [
    "pred_df = cc.predict_model(best_baseline_model, data=test_df.copy().drop('Class', axis=1))"
   ]
  },
  {
   "cell_type": "code",
   "execution_count": 91,
   "metadata": {},
   "outputs": [
    {
     "data": {
      "text/plain": [
       "40"
      ]
     },
     "execution_count": 91,
     "metadata": {},
     "output_type": "execute_result"
    }
   ],
   "source": [
    "pred_df[pred_df['prediction_label'] == 1]['prediction_label'].count()"
   ]
  },
  {
   "cell_type": "code",
   "execution_count": 92,
   "metadata": {},
   "outputs": [
    {
     "data": {
      "text/plain": [
       "77"
      ]
     },
     "execution_count": 92,
     "metadata": {},
     "output_type": "execute_result"
    }
   ],
   "source": [
    "test_df[test_df['Class'] == 1]['Class'].count()"
   ]
  },
  {
   "cell_type": "code",
   "execution_count": 93,
   "metadata": {},
   "outputs": [
    {
     "data": {
      "text/plain": [
       "<sklearn.metrics._plot.confusion_matrix.ConfusionMatrixDisplay at 0x208e28b92d0>"
      ]
     },
     "execution_count": 93,
     "metadata": {},
     "output_type": "execute_result"
    },
    {
     "data": {
      "image/png": "[encoded data removed]",
      "text/plain": [
       "<Figure size 800x550 with 2 Axes>"
      ]
     },
     "metadata": {},
     "output_type": "display_data"
    }
   ],
   "source": [
    "ConfusionMatrixDisplay.from_predictions(test_df['Class'], pred_df['prediction_label'], normalize=\"true\")"
   ]
  },
  {
   "cell_type": "code",
   "execution_count": 109,
   "metadata": {},
   "outputs": [
    {
     "name": "stdout",
     "output_type": "stream",
     "text": [
      "              precision    recall  f1-score   support\n",
      "\n",
      "           0       1.00      1.00      1.00     59865\n",
      "           1       0.97      0.51      0.67        77\n",
      "\n",
      "    accuracy                           1.00     59942\n",
      "   macro avg       0.99      0.75      0.83     59942\n",
      "weighted avg       1.00      1.00      1.00     59942\n",
      "\n"
     ]
    }
   ],
   "source": [
    "print(classification_report(test_df['Class'], pred_df['prediction_label']))"
   ]
  },
  {
   "cell_type": "markdown",
   "metadata": {},
   "source": [
    "# CTGAN"
   ]
  },
  {
   "cell_type": "code",
   "execution_count": 47,
   "metadata": {},
   "outputs": [
    {
     "name": "stderr",
     "output_type": "stream",
     "text": [
      "Gen. (-0.31) | Discrim. (-0.08): 100%|██████████| 300/300 [1:04:51<00:00, 12.97s/it]\n"
     ]
    }
   ],
   "source": [
    "discrete_columns = ['Class']\n",
    "ctgan = CTGAN(epochs=300, verbose=True)\n",
    "ctgan.fit(train_df, discrete_columns)"
   ]
  },
  {
   "cell_type": "code",
   "execution_count": 48,
   "metadata": {},
   "outputs": [
    {
     "data": {
      "text/html": [
       "<div>\n",
       "<style scoped>\n",
       "    .dataframe tbody tr th:only-of-type {\n",
       "        vertical-align: middle;\n",
       "    }\n",
       "\n",
       "    .dataframe tbody tr th {\n",
       "        vertical-align: top;\n",
       "    }\n",
       "\n",
       "    .dataframe thead th {\n",
       "        text-align: right;\n",
       "    }\n",
       "</style>\n",
       "<table border=\"1\" class=\"dataframe\">\n",
       "  <thead>\n",
       "    <tr style=\"text-align: right;\">\n",
       "      <th></th>\n",
       "      <th>Epoch</th>\n",
       "      <th>Generator Loss</th>\n",
       "      <th>Discriminator Loss</th>\n",
       "    </tr>\n",
       "  </thead>\n",
       "  <tbody>\n",
       "    <tr>\n",
       "      <th>0</th>\n",
       "      <td>0</td>\n",
       "      <td>tensor(-1.4020)</td>\n",
       "      <td>tensor(-0.4583)</td>\n",
       "    </tr>\n",
       "    <tr>\n",
       "      <th>1</th>\n",
       "      <td>1</td>\n",
       "      <td>tensor(-2.8532)</td>\n",
       "      <td>tensor(-0.0896)</td>\n",
       "    </tr>\n",
       "    <tr>\n",
       "      <th>2</th>\n",
       "      <td>2</td>\n",
       "      <td>tensor(-3.3054)</td>\n",
       "      <td>tensor(0.0857)</td>\n",
       "    </tr>\n",
       "    <tr>\n",
       "      <th>3</th>\n",
       "      <td>3</td>\n",
       "      <td>tensor(-3.4455)</td>\n",
       "      <td>tensor(0.0672)</td>\n",
       "    </tr>\n",
       "    <tr>\n",
       "      <th>4</th>\n",
       "      <td>4</td>\n",
       "      <td>tensor(-3.6664)</td>\n",
       "      <td>tensor(0.0984)</td>\n",
       "    </tr>\n",
       "    <tr>\n",
       "      <th>...</th>\n",
       "      <td>...</td>\n",
       "      <td>...</td>\n",
       "      <td>...</td>\n",
       "    </tr>\n",
       "    <tr>\n",
       "      <th>295</th>\n",
       "      <td>295</td>\n",
       "      <td>tensor(-0.2031)</td>\n",
       "      <td>tensor(-0.0918)</td>\n",
       "    </tr>\n",
       "    <tr>\n",
       "      <th>296</th>\n",
       "      <td>296</td>\n",
       "      <td>tensor(0.1725)</td>\n",
       "      <td>tensor(-0.2323)</td>\n",
       "    </tr>\n",
       "    <tr>\n",
       "      <th>297</th>\n",
       "      <td>297</td>\n",
       "      <td>tensor(-0.0144)</td>\n",
       "      <td>tensor(-0.0771)</td>\n",
       "    </tr>\n",
       "    <tr>\n",
       "      <th>298</th>\n",
       "      <td>298</td>\n",
       "      <td>tensor(-0.3330)</td>\n",
       "      <td>tensor(-0.1452)</td>\n",
       "    </tr>\n",
       "    <tr>\n",
       "      <th>299</th>\n",
       "      <td>299</td>\n",
       "      <td>tensor(-0.3066)</td>\n",
       "      <td>tensor(-0.0751)</td>\n",
       "    </tr>\n",
       "  </tbody>\n",
       "</table>\n",
       "<p>300 rows × 3 columns</p>\n",
       "</div>"
      ],
      "text/plain": [
       "     Epoch   Generator Loss Discriminator Loss\n",
       "0        0  tensor(-1.4020)    tensor(-0.4583)\n",
       "1        1  tensor(-2.8532)    tensor(-0.0896)\n",
       "2        2  tensor(-3.3054)     tensor(0.0857)\n",
       "3        3  tensor(-3.4455)     tensor(0.0672)\n",
       "4        4  tensor(-3.6664)     tensor(0.0984)\n",
       "..     ...              ...                ...\n",
       "295    295  tensor(-0.2031)    tensor(-0.0918)\n",
       "296    296   tensor(0.1725)    tensor(-0.2323)\n",
       "297    297  tensor(-0.0144)    tensor(-0.0771)\n",
       "298    298  tensor(-0.3330)    tensor(-0.1452)\n",
       "299    299  tensor(-0.3066)    tensor(-0.0751)\n",
       "\n",
       "[300 rows x 3 columns]"
      ]
     },
     "execution_count": 48,
     "metadata": {},
     "output_type": "execute_result"
    }
   ],
   "source": [
    "ctgan.loss_values"
   ]
  },
  {
   "cell_type": "code",
   "execution_count": 94,
   "metadata": {},
   "outputs": [],
   "source": [
    "synthetic_train = ctgan.sample(train_df['Class'].value_counts()[0])#, condition_column='Class', condition_value=1)"
   ]
  },
  {
   "cell_type": "code",
   "execution_count": 95,
   "metadata": {},
   "outputs": [
    {
     "data": {
      "text/plain": [
       "1    125422\n",
       "0     99028\n",
       "Name: Class, dtype: int64"
      ]
     },
     "execution_count": 95,
     "metadata": {},
     "output_type": "execute_result"
    }
   ],
   "source": [
    "synthetic_train['Class'].value_counts()"
   ]
  },
  {
   "cell_type": "code",
   "execution_count": 96,
   "metadata": {},
   "outputs": [
    {
     "data": {
      "text/plain": [
       "0    224450\n",
       "1    125837\n",
       "Name: Class, dtype: int64"
      ]
     },
     "execution_count": 96,
     "metadata": {},
     "output_type": "execute_result"
    }
   ],
   "source": [
    "gan_train_df = pd.concat([train_df, synthetic_train[synthetic_train['Class'] == 1]], ignore_index=True)\n",
    "gan_train_df['Class'].value_counts()"
   ]
  },
  {
   "cell_type": "code",
   "execution_count": 97,
   "metadata": {},
   "outputs": [
    {
     "name": "stdout",
     "output_type": "stream",
     "text": [
      "[LightGBM] [Info] Number of positive: 100669, number of negative: 179560\n",
      "[LightGBM] [Info] Auto-choosing col-wise multi-threading, the overhead of testing was 0.008820 seconds.\n",
      "You can set `force_col_wise=true` to remove the overhead.\n",
      "[LightGBM] [Info] Total Bins 7650\n",
      "[LightGBM] [Info] Number of data points in the train set: 280229, number of used features: 30\n",
      "[LightGBM] [Info] [binary:BoostFromScore]: pavg=0.359238 -> initscore=-0.578672\n",
      "[LightGBM] [Info] Start training from score -0.578672\n"
     ]
    },
    {
     "data": {
      "text/html": [
       "<style type=\"text/css\">\n",
       "#T_aabb7_row8_col1, #T_aabb7_row12_col1, #T_aabb7_row14_col1, #T_aabb7_row16_col1, #T_aabb7_row18_col1 {\n",
       "  background-color: lightgreen;\n",
       "}\n",
       "</style>\n",
       "<table id=\"T_aabb7\">\n",
       "  <thead>\n",
       "    <tr>\n",
       "      <th class=\"blank level0\" >&nbsp;</th>\n",
       "      <th id=\"T_aabb7_level0_col0\" class=\"col_heading level0 col0\" >Description</th>\n",
       "      <th id=\"T_aabb7_level0_col1\" class=\"col_heading level0 col1\" >Value</th>\n",
       "    </tr>\n",
       "  </thead>\n",
       "  <tbody>\n",
       "    <tr>\n",
       "      <th id=\"T_aabb7_level0_row0\" class=\"row_heading level0 row0\" >0</th>\n",
       "      <td id=\"T_aabb7_row0_col0\" class=\"data row0 col0\" >Session id</td>\n",
       "      <td id=\"T_aabb7_row0_col1\" class=\"data row0 col1\" >42</td>\n",
       "    </tr>\n",
       "    <tr>\n",
       "      <th id=\"T_aabb7_level0_row1\" class=\"row_heading level0 row1\" >1</th>\n",
       "      <td id=\"T_aabb7_row1_col0\" class=\"data row1 col0\" >Target</td>\n",
       "      <td id=\"T_aabb7_row1_col1\" class=\"data row1 col1\" >Class</td>\n",
       "    </tr>\n",
       "    <tr>\n",
       "      <th id=\"T_aabb7_level0_row2\" class=\"row_heading level0 row2\" >2</th>\n",
       "      <td id=\"T_aabb7_row2_col0\" class=\"data row2 col0\" >Target type</td>\n",
       "      <td id=\"T_aabb7_row2_col1\" class=\"data row2 col1\" >Binary</td>\n",
       "    </tr>\n",
       "    <tr>\n",
       "      <th id=\"T_aabb7_level0_row3\" class=\"row_heading level0 row3\" >3</th>\n",
       "      <td id=\"T_aabb7_row3_col0\" class=\"data row3 col0\" >Original data shape</td>\n",
       "      <td id=\"T_aabb7_row3_col1\" class=\"data row3 col1\" >(350287, 31)</td>\n",
       "    </tr>\n",
       "    <tr>\n",
       "      <th id=\"T_aabb7_level0_row4\" class=\"row_heading level0 row4\" >4</th>\n",
       "      <td id=\"T_aabb7_row4_col0\" class=\"data row4 col0\" >Transformed data shape</td>\n",
       "      <td id=\"T_aabb7_row4_col1\" class=\"data row4 col1\" >(350287, 7)</td>\n",
       "    </tr>\n",
       "    <tr>\n",
       "      <th id=\"T_aabb7_level0_row5\" class=\"row_heading level0 row5\" >5</th>\n",
       "      <td id=\"T_aabb7_row5_col0\" class=\"data row5 col0\" >Transformed train set shape</td>\n",
       "      <td id=\"T_aabb7_row5_col1\" class=\"data row5 col1\" >(280229, 7)</td>\n",
       "    </tr>\n",
       "    <tr>\n",
       "      <th id=\"T_aabb7_level0_row6\" class=\"row_heading level0 row6\" >6</th>\n",
       "      <td id=\"T_aabb7_row6_col0\" class=\"data row6 col0\" >Transformed test set shape</td>\n",
       "      <td id=\"T_aabb7_row6_col1\" class=\"data row6 col1\" >(70058, 7)</td>\n",
       "    </tr>\n",
       "    <tr>\n",
       "      <th id=\"T_aabb7_level0_row7\" class=\"row_heading level0 row7\" >7</th>\n",
       "      <td id=\"T_aabb7_row7_col0\" class=\"data row7 col0\" >Numeric features</td>\n",
       "      <td id=\"T_aabb7_row7_col1\" class=\"data row7 col1\" >30</td>\n",
       "    </tr>\n",
       "    <tr>\n",
       "      <th id=\"T_aabb7_level0_row8\" class=\"row_heading level0 row8\" >8</th>\n",
       "      <td id=\"T_aabb7_row8_col0\" class=\"data row8 col0\" >Preprocess</td>\n",
       "      <td id=\"T_aabb7_row8_col1\" class=\"data row8 col1\" >True</td>\n",
       "    </tr>\n",
       "    <tr>\n",
       "      <th id=\"T_aabb7_level0_row9\" class=\"row_heading level0 row9\" >9</th>\n",
       "      <td id=\"T_aabb7_row9_col0\" class=\"data row9 col0\" >Imputation type</td>\n",
       "      <td id=\"T_aabb7_row9_col1\" class=\"data row9 col1\" >simple</td>\n",
       "    </tr>\n",
       "    <tr>\n",
       "      <th id=\"T_aabb7_level0_row10\" class=\"row_heading level0 row10\" >10</th>\n",
       "      <td id=\"T_aabb7_row10_col0\" class=\"data row10 col0\" >Numeric imputation</td>\n",
       "      <td id=\"T_aabb7_row10_col1\" class=\"data row10 col1\" >mean</td>\n",
       "    </tr>\n",
       "    <tr>\n",
       "      <th id=\"T_aabb7_level0_row11\" class=\"row_heading level0 row11\" >11</th>\n",
       "      <td id=\"T_aabb7_row11_col0\" class=\"data row11 col0\" >Categorical imputation</td>\n",
       "      <td id=\"T_aabb7_row11_col1\" class=\"data row11 col1\" >mode</td>\n",
       "    </tr>\n",
       "    <tr>\n",
       "      <th id=\"T_aabb7_level0_row12\" class=\"row_heading level0 row12\" >12</th>\n",
       "      <td id=\"T_aabb7_row12_col0\" class=\"data row12 col0\" >Remove multicollinearity</td>\n",
       "      <td id=\"T_aabb7_row12_col1\" class=\"data row12 col1\" >True</td>\n",
       "    </tr>\n",
       "    <tr>\n",
       "      <th id=\"T_aabb7_level0_row13\" class=\"row_heading level0 row13\" >13</th>\n",
       "      <td id=\"T_aabb7_row13_col0\" class=\"data row13 col0\" >Multicollinearity threshold</td>\n",
       "      <td id=\"T_aabb7_row13_col1\" class=\"data row13 col1\" >0.900000</td>\n",
       "    </tr>\n",
       "    <tr>\n",
       "      <th id=\"T_aabb7_level0_row14\" class=\"row_heading level0 row14\" >14</th>\n",
       "      <td id=\"T_aabb7_row14_col0\" class=\"data row14 col0\" >Transformation</td>\n",
       "      <td id=\"T_aabb7_row14_col1\" class=\"data row14 col1\" >True</td>\n",
       "    </tr>\n",
       "    <tr>\n",
       "      <th id=\"T_aabb7_level0_row15\" class=\"row_heading level0 row15\" >15</th>\n",
       "      <td id=\"T_aabb7_row15_col0\" class=\"data row15 col0\" >Transformation method</td>\n",
       "      <td id=\"T_aabb7_row15_col1\" class=\"data row15 col1\" >yeo-johnson</td>\n",
       "    </tr>\n",
       "    <tr>\n",
       "      <th id=\"T_aabb7_level0_row16\" class=\"row_heading level0 row16\" >16</th>\n",
       "      <td id=\"T_aabb7_row16_col0\" class=\"data row16 col0\" >Normalize</td>\n",
       "      <td id=\"T_aabb7_row16_col1\" class=\"data row16 col1\" >True</td>\n",
       "    </tr>\n",
       "    <tr>\n",
       "      <th id=\"T_aabb7_level0_row17\" class=\"row_heading level0 row17\" >17</th>\n",
       "      <td id=\"T_aabb7_row17_col0\" class=\"data row17 col0\" >Normalize method</td>\n",
       "      <td id=\"T_aabb7_row17_col1\" class=\"data row17 col1\" >robust</td>\n",
       "    </tr>\n",
       "    <tr>\n",
       "      <th id=\"T_aabb7_level0_row18\" class=\"row_heading level0 row18\" >18</th>\n",
       "      <td id=\"T_aabb7_row18_col0\" class=\"data row18 col0\" >Feature selection</td>\n",
       "      <td id=\"T_aabb7_row18_col1\" class=\"data row18 col1\" >True</td>\n",
       "    </tr>\n",
       "    <tr>\n",
       "      <th id=\"T_aabb7_level0_row19\" class=\"row_heading level0 row19\" >19</th>\n",
       "      <td id=\"T_aabb7_row19_col0\" class=\"data row19 col0\" >Feature selection method</td>\n",
       "      <td id=\"T_aabb7_row19_col1\" class=\"data row19 col1\" >classic</td>\n",
       "    </tr>\n",
       "    <tr>\n",
       "      <th id=\"T_aabb7_level0_row20\" class=\"row_heading level0 row20\" >20</th>\n",
       "      <td id=\"T_aabb7_row20_col0\" class=\"data row20 col0\" >Feature selection estimator</td>\n",
       "      <td id=\"T_aabb7_row20_col1\" class=\"data row20 col1\" >lightgbm</td>\n",
       "    </tr>\n",
       "    <tr>\n",
       "      <th id=\"T_aabb7_level0_row21\" class=\"row_heading level0 row21\" >21</th>\n",
       "      <td id=\"T_aabb7_row21_col0\" class=\"data row21 col0\" >Number of features selected</td>\n",
       "      <td id=\"T_aabb7_row21_col1\" class=\"data row21 col1\" >0.200000</td>\n",
       "    </tr>\n",
       "    <tr>\n",
       "      <th id=\"T_aabb7_level0_row22\" class=\"row_heading level0 row22\" >22</th>\n",
       "      <td id=\"T_aabb7_row22_col0\" class=\"data row22 col0\" >Fold Generator</td>\n",
       "      <td id=\"T_aabb7_row22_col1\" class=\"data row22 col1\" >StratifiedKFold</td>\n",
       "    </tr>\n",
       "    <tr>\n",
       "      <th id=\"T_aabb7_level0_row23\" class=\"row_heading level0 row23\" >23</th>\n",
       "      <td id=\"T_aabb7_row23_col0\" class=\"data row23 col0\" >Fold Number</td>\n",
       "      <td id=\"T_aabb7_row23_col1\" class=\"data row23 col1\" >10</td>\n",
       "    </tr>\n",
       "    <tr>\n",
       "      <th id=\"T_aabb7_level0_row24\" class=\"row_heading level0 row24\" >24</th>\n",
       "      <td id=\"T_aabb7_row24_col0\" class=\"data row24 col0\" >CPU Jobs</td>\n",
       "      <td id=\"T_aabb7_row24_col1\" class=\"data row24 col1\" >-1</td>\n",
       "    </tr>\n",
       "    <tr>\n",
       "      <th id=\"T_aabb7_level0_row25\" class=\"row_heading level0 row25\" >25</th>\n",
       "      <td id=\"T_aabb7_row25_col0\" class=\"data row25 col0\" >Use GPU</td>\n",
       "      <td id=\"T_aabb7_row25_col1\" class=\"data row25 col1\" >False</td>\n",
       "    </tr>\n",
       "    <tr>\n",
       "      <th id=\"T_aabb7_level0_row26\" class=\"row_heading level0 row26\" >26</th>\n",
       "      <td id=\"T_aabb7_row26_col0\" class=\"data row26 col0\" >Log Experiment</td>\n",
       "      <td id=\"T_aabb7_row26_col1\" class=\"data row26 col1\" >False</td>\n",
       "    </tr>\n",
       "    <tr>\n",
       "      <th id=\"T_aabb7_level0_row27\" class=\"row_heading level0 row27\" >27</th>\n",
       "      <td id=\"T_aabb7_row27_col0\" class=\"data row27 col0\" >Experiment Name</td>\n",
       "      <td id=\"T_aabb7_row27_col1\" class=\"data row27 col1\" >clf-default-name</td>\n",
       "    </tr>\n",
       "    <tr>\n",
       "      <th id=\"T_aabb7_level0_row28\" class=\"row_heading level0 row28\" >28</th>\n",
       "      <td id=\"T_aabb7_row28_col0\" class=\"data row28 col0\" >USI</td>\n",
       "      <td id=\"T_aabb7_row28_col1\" class=\"data row28 col1\" >d5c4</td>\n",
       "    </tr>\n",
       "  </tbody>\n",
       "</table>\n"
      ],
      "text/plain": [
       "<pandas.io.formats.style.Styler at 0x208e79fa690>"
      ]
     },
     "metadata": {},
     "output_type": "display_data"
    }
   ],
   "source": [
    "cc_gan = setup(data=gan_train_df, target='Class', session_id=42,\n",
    "               train_size=0.8, # training over 80% of available data\n",
    "               transformation=True, # transformation changes the shape of the distribution such that the transformed data can be represented by normal distribution\n",
    "               normalize=True, # rescale the values of numeric columns\n",
    "               remove_multicollinearity=True, # drop one of the two features that are highly correlated with each other\n",
    "               normalize_method='robust',\n",
    "               feature_selection=True)"
   ]
  },
  {
   "cell_type": "code",
   "execution_count": 98,
   "metadata": {},
   "outputs": [
    {
     "data": {
      "text/html": [],
      "text/plain": [
       "<IPython.core.display.HTML object>"
      ]
     },
     "metadata": {},
     "output_type": "display_data"
    },
    {
     "data": {
      "text/html": [
       "<style type=\"text/css\">\n",
       "#T_eb49c th {\n",
       "  text-align: left;\n",
       "}\n",
       "#T_eb49c_row0_col0, #T_eb49c_row0_col4, #T_eb49c_row1_col0, #T_eb49c_row1_col1, #T_eb49c_row1_col2, #T_eb49c_row1_col3, #T_eb49c_row1_col5, #T_eb49c_row1_col6, #T_eb49c_row1_col7, #T_eb49c_row2_col0, #T_eb49c_row2_col1, #T_eb49c_row2_col2, #T_eb49c_row2_col3, #T_eb49c_row2_col4, #T_eb49c_row2_col5, #T_eb49c_row2_col6, #T_eb49c_row2_col7, #T_eb49c_row3_col0, #T_eb49c_row3_col1, #T_eb49c_row3_col2, #T_eb49c_row3_col3, #T_eb49c_row3_col4, #T_eb49c_row3_col5, #T_eb49c_row3_col6, #T_eb49c_row3_col7, #T_eb49c_row4_col0, #T_eb49c_row4_col1, #T_eb49c_row4_col2, #T_eb49c_row4_col3, #T_eb49c_row4_col4, #T_eb49c_row4_col5, #T_eb49c_row4_col6, #T_eb49c_row4_col7, #T_eb49c_row5_col0, #T_eb49c_row5_col1, #T_eb49c_row5_col2, #T_eb49c_row5_col3, #T_eb49c_row5_col4, #T_eb49c_row5_col5, #T_eb49c_row5_col6, #T_eb49c_row5_col7, #T_eb49c_row6_col0, #T_eb49c_row6_col1, #T_eb49c_row6_col2, #T_eb49c_row6_col3, #T_eb49c_row6_col4, #T_eb49c_row6_col5, #T_eb49c_row6_col6, #T_eb49c_row6_col7, #T_eb49c_row7_col0, #T_eb49c_row7_col1, #T_eb49c_row7_col2, #T_eb49c_row7_col3, #T_eb49c_row7_col4, #T_eb49c_row7_col5, #T_eb49c_row7_col6, #T_eb49c_row7_col7, #T_eb49c_row8_col0, #T_eb49c_row8_col1, #T_eb49c_row8_col2, #T_eb49c_row8_col3, #T_eb49c_row8_col4, #T_eb49c_row8_col5, #T_eb49c_row8_col6, #T_eb49c_row8_col7, #T_eb49c_row9_col0, #T_eb49c_row9_col1, #T_eb49c_row9_col2, #T_eb49c_row9_col3, #T_eb49c_row9_col4, #T_eb49c_row9_col5, #T_eb49c_row9_col6, #T_eb49c_row9_col7, #T_eb49c_row10_col0, #T_eb49c_row10_col1, #T_eb49c_row10_col2, #T_eb49c_row10_col3, #T_eb49c_row10_col4, #T_eb49c_row10_col5, #T_eb49c_row10_col6, #T_eb49c_row10_col7, #T_eb49c_row11_col0, #T_eb49c_row11_col1, #T_eb49c_row11_col2, #T_eb49c_row11_col3, #T_eb49c_row11_col4, #T_eb49c_row11_col5, #T_eb49c_row11_col6, #T_eb49c_row11_col7, #T_eb49c_row12_col0, #T_eb49c_row12_col1, #T_eb49c_row12_col2, #T_eb49c_row12_col3, #T_eb49c_row12_col4, #T_eb49c_row12_col5, #T_eb49c_row12_col6, #T_eb49c_row12_col7, #T_eb49c_row13_col0, #T_eb49c_row13_col1, #T_eb49c_row13_col2, #T_eb49c_row13_col3, #T_eb49c_row13_col4, #T_eb49c_row13_col5, #T_eb49c_row13_col6, #T_eb49c_row13_col7, #T_eb49c_row14_col0, #T_eb49c_row14_col1, #T_eb49c_row14_col2, #T_eb49c_row14_col3, #T_eb49c_row14_col4, #T_eb49c_row14_col5, #T_eb49c_row14_col6, #T_eb49c_row14_col7 {\n",
       "  text-align: left;\n",
       "}\n",
       "#T_eb49c_row0_col1, #T_eb49c_row0_col2, #T_eb49c_row0_col3, #T_eb49c_row0_col5, #T_eb49c_row0_col6, #T_eb49c_row0_col7, #T_eb49c_row1_col4 {\n",
       "  text-align: left;\n",
       "  background-color: yellow;\n",
       "}\n",
       "#T_eb49c_row0_col8, #T_eb49c_row1_col8, #T_eb49c_row2_col8, #T_eb49c_row3_col8, #T_eb49c_row4_col8, #T_eb49c_row5_col8, #T_eb49c_row6_col8, #T_eb49c_row7_col8, #T_eb49c_row9_col8, #T_eb49c_row10_col8, #T_eb49c_row11_col8, #T_eb49c_row12_col8, #T_eb49c_row13_col8, #T_eb49c_row14_col8 {\n",
       "  text-align: left;\n",
       "  background-color: lightgrey;\n",
       "}\n",
       "#T_eb49c_row8_col8 {\n",
       "  text-align: left;\n",
       "  background-color: yellow;\n",
       "  background-color: lightgrey;\n",
       "}\n",
       "</style>\n",
       "<table id=\"T_eb49c\">\n",
       "  <thead>\n",
       "    <tr>\n",
       "      <th class=\"blank level0\" >&nbsp;</th>\n",
       "      <th id=\"T_eb49c_level0_col0\" class=\"col_heading level0 col0\" >Model</th>\n",
       "      <th id=\"T_eb49c_level0_col1\" class=\"col_heading level0 col1\" >Accuracy</th>\n",
       "      <th id=\"T_eb49c_level0_col2\" class=\"col_heading level0 col2\" >AUC</th>\n",
       "      <th id=\"T_eb49c_level0_col3\" class=\"col_heading level0 col3\" >Recall</th>\n",
       "      <th id=\"T_eb49c_level0_col4\" class=\"col_heading level0 col4\" >Prec.</th>\n",
       "      <th id=\"T_eb49c_level0_col5\" class=\"col_heading level0 col5\" >F1</th>\n",
       "      <th id=\"T_eb49c_level0_col6\" class=\"col_heading level0 col6\" >Kappa</th>\n",
       "      <th id=\"T_eb49c_level0_col7\" class=\"col_heading level0 col7\" >MCC</th>\n",
       "      <th id=\"T_eb49c_level0_col8\" class=\"col_heading level0 col8\" >TT (Sec)</th>\n",
       "    </tr>\n",
       "  </thead>\n",
       "  <tbody>\n",
       "    <tr>\n",
       "      <th id=\"T_eb49c_level0_row0\" class=\"row_heading level0 row0\" >catboost</th>\n",
       "      <td id=\"T_eb49c_row0_col0\" class=\"data row0 col0\" >CatBoost Classifier</td>\n",
       "      <td id=\"T_eb49c_row0_col1\" class=\"data row0 col1\" >0.9571</td>\n",
       "      <td id=\"T_eb49c_row0_col2\" class=\"data row0 col2\" >0.9896</td>\n",
       "      <td id=\"T_eb49c_row0_col3\" class=\"data row0 col3\" >0.9122</td>\n",
       "      <td id=\"T_eb49c_row0_col4\" class=\"data row0 col4\" >0.9666</td>\n",
       "      <td id=\"T_eb49c_row0_col5\" class=\"data row0 col5\" >0.9386</td>\n",
       "      <td id=\"T_eb49c_row0_col6\" class=\"data row0 col6\" >0.9057</td>\n",
       "      <td id=\"T_eb49c_row0_col7\" class=\"data row0 col7\" >0.9066</td>\n",
       "      <td id=\"T_eb49c_row0_col8\" class=\"data row0 col8\" >10.6960</td>\n",
       "    </tr>\n",
       "    <tr>\n",
       "      <th id=\"T_eb49c_level0_row1\" class=\"row_heading level0 row1\" >et</th>\n",
       "      <td id=\"T_eb49c_row1_col0\" class=\"data row1 col0\" >Extra Trees Classifier</td>\n",
       "      <td id=\"T_eb49c_row1_col1\" class=\"data row1 col1\" >0.9543</td>\n",
       "      <td id=\"T_eb49c_row1_col2\" class=\"data row1 col2\" >0.9895</td>\n",
       "      <td id=\"T_eb49c_row1_col3\" class=\"data row1 col3\" >0.8988</td>\n",
       "      <td id=\"T_eb49c_row1_col4\" class=\"data row1 col4\" >0.9720</td>\n",
       "      <td id=\"T_eb49c_row1_col5\" class=\"data row1 col5\" >0.9340</td>\n",
       "      <td id=\"T_eb49c_row1_col6\" class=\"data row1 col6\" >0.8992</td>\n",
       "      <td id=\"T_eb49c_row1_col7\" class=\"data row1 col7\" >0.9008</td>\n",
       "      <td id=\"T_eb49c_row1_col8\" class=\"data row1 col8\" >3.5210</td>\n",
       "    </tr>\n",
       "    <tr>\n",
       "      <th id=\"T_eb49c_level0_row2\" class=\"row_heading level0 row2\" >rf</th>\n",
       "      <td id=\"T_eb49c_row2_col0\" class=\"data row2 col0\" >Random Forest Classifier</td>\n",
       "      <td id=\"T_eb49c_row2_col1\" class=\"data row2 col1\" >0.9548</td>\n",
       "      <td id=\"T_eb49c_row2_col2\" class=\"data row2 col2\" >0.9886</td>\n",
       "      <td id=\"T_eb49c_row2_col3\" class=\"data row2 col3\" >0.9068</td>\n",
       "      <td id=\"T_eb49c_row2_col4\" class=\"data row2 col4\" >0.9653</td>\n",
       "      <td id=\"T_eb49c_row2_col5\" class=\"data row2 col5\" >0.9351</td>\n",
       "      <td id=\"T_eb49c_row2_col6\" class=\"data row2 col6\" >0.9005</td>\n",
       "      <td id=\"T_eb49c_row2_col7\" class=\"data row2 col7\" >0.9015</td>\n",
       "      <td id=\"T_eb49c_row2_col8\" class=\"data row2 col8\" >8.2480</td>\n",
       "    </tr>\n",
       "    <tr>\n",
       "      <th id=\"T_eb49c_level0_row3\" class=\"row_heading level0 row3\" >lightgbm</th>\n",
       "      <td id=\"T_eb49c_row3_col0\" class=\"data row3 col0\" >Light Gradient Boosting Machine</td>\n",
       "      <td id=\"T_eb49c_row3_col1\" class=\"data row3 col1\" >0.9473</td>\n",
       "      <td id=\"T_eb49c_row3_col2\" class=\"data row3 col2\" >0.9847</td>\n",
       "      <td id=\"T_eb49c_row3_col3\" class=\"data row3 col3\" >0.8897</td>\n",
       "      <td id=\"T_eb49c_row3_col4\" class=\"data row3 col4\" >0.9607</td>\n",
       "      <td id=\"T_eb49c_row3_col5\" class=\"data row3 col5\" >0.9238</td>\n",
       "      <td id=\"T_eb49c_row3_col6\" class=\"data row3 col6\" >0.8836</td>\n",
       "      <td id=\"T_eb49c_row3_col7\" class=\"data row3 col7\" >0.8852</td>\n",
       "      <td id=\"T_eb49c_row3_col8\" class=\"data row3 col8\" >2.0150</td>\n",
       "    </tr>\n",
       "    <tr>\n",
       "      <th id=\"T_eb49c_level0_row4\" class=\"row_heading level0 row4\" >gbc</th>\n",
       "      <td id=\"T_eb49c_row4_col0\" class=\"data row4 col0\" >Gradient Boosting Classifier</td>\n",
       "      <td id=\"T_eb49c_row4_col1\" class=\"data row4 col1\" >0.9285</td>\n",
       "      <td id=\"T_eb49c_row4_col2\" class=\"data row4 col2\" >0.9725</td>\n",
       "      <td id=\"T_eb49c_row4_col3\" class=\"data row4 col3\" >0.8483</td>\n",
       "      <td id=\"T_eb49c_row4_col4\" class=\"data row4 col4\" >0.9472</td>\n",
       "      <td id=\"T_eb49c_row4_col5\" class=\"data row4 col5\" >0.8950</td>\n",
       "      <td id=\"T_eb49c_row4_col6\" class=\"data row4 col6\" >0.8411</td>\n",
       "      <td id=\"T_eb49c_row4_col7\" class=\"data row4 col7\" >0.8440</td>\n",
       "      <td id=\"T_eb49c_row4_col8\" class=\"data row4 col8\" >9.6470</td>\n",
       "    </tr>\n",
       "    <tr>\n",
       "      <th id=\"T_eb49c_level0_row5\" class=\"row_heading level0 row5\" >knn</th>\n",
       "      <td id=\"T_eb49c_row5_col0\" class=\"data row5 col0\" >K Neighbors Classifier</td>\n",
       "      <td id=\"T_eb49c_row5_col1\" class=\"data row5 col1\" >0.9411</td>\n",
       "      <td id=\"T_eb49c_row5_col2\" class=\"data row5 col2\" >0.9662</td>\n",
       "      <td id=\"T_eb49c_row5_col3\" class=\"data row5 col3\" >0.8698</td>\n",
       "      <td id=\"T_eb49c_row5_col4\" class=\"data row5 col4\" >0.9628</td>\n",
       "      <td id=\"T_eb49c_row5_col5\" class=\"data row5 col5\" >0.9139</td>\n",
       "      <td id=\"T_eb49c_row5_col6\" class=\"data row5 col6\" >0.8694</td>\n",
       "      <td id=\"T_eb49c_row5_col7\" class=\"data row5 col7\" >0.8720</td>\n",
       "      <td id=\"T_eb49c_row5_col8\" class=\"data row5 col8\" >2.3720</td>\n",
       "    </tr>\n",
       "    <tr>\n",
       "      <th id=\"T_eb49c_level0_row6\" class=\"row_heading level0 row6\" >ada</th>\n",
       "      <td id=\"T_eb49c_row6_col0\" class=\"data row6 col0\" >Ada Boost Classifier</td>\n",
       "      <td id=\"T_eb49c_row6_col1\" class=\"data row6 col1\" >0.9150</td>\n",
       "      <td id=\"T_eb49c_row6_col2\" class=\"data row6 col2\" >0.9646</td>\n",
       "      <td id=\"T_eb49c_row6_col3\" class=\"data row6 col3\" >0.8210</td>\n",
       "      <td id=\"T_eb49c_row6_col4\" class=\"data row6 col4\" >0.9345</td>\n",
       "      <td id=\"T_eb49c_row6_col5\" class=\"data row6 col5\" >0.8741</td>\n",
       "      <td id=\"T_eb49c_row6_col6\" class=\"data row6 col6\" >0.8103</td>\n",
       "      <td id=\"T_eb49c_row6_col7\" class=\"data row6 col7\" >0.8142</td>\n",
       "      <td id=\"T_eb49c_row6_col8\" class=\"data row6 col8\" >3.5940</td>\n",
       "    </tr>\n",
       "    <tr>\n",
       "      <th id=\"T_eb49c_level0_row7\" class=\"row_heading level0 row7\" >qda</th>\n",
       "      <td id=\"T_eb49c_row7_col0\" class=\"data row7 col0\" >Quadratic Discriminant Analysis</td>\n",
       "      <td id=\"T_eb49c_row7_col1\" class=\"data row7 col1\" >0.8937</td>\n",
       "      <td id=\"T_eb49c_row7_col2\" class=\"data row7 col2\" >0.9455</td>\n",
       "      <td id=\"T_eb49c_row7_col3\" class=\"data row7 col3\" >0.7854</td>\n",
       "      <td id=\"T_eb49c_row7_col4\" class=\"data row7 col4\" >0.9062</td>\n",
       "      <td id=\"T_eb49c_row7_col5\" class=\"data row7 col5\" >0.8415</td>\n",
       "      <td id=\"T_eb49c_row7_col6\" class=\"data row7 col6\" >0.7622</td>\n",
       "      <td id=\"T_eb49c_row7_col7\" class=\"data row7 col7\" >0.7666</td>\n",
       "      <td id=\"T_eb49c_row7_col8\" class=\"data row7 col8\" >1.8030</td>\n",
       "    </tr>\n",
       "    <tr>\n",
       "      <th id=\"T_eb49c_level0_row8\" class=\"row_heading level0 row8\" >nb</th>\n",
       "      <td id=\"T_eb49c_row8_col0\" class=\"data row8 col0\" >Naive Bayes</td>\n",
       "      <td id=\"T_eb49c_row8_col1\" class=\"data row8 col1\" >0.8893</td>\n",
       "      <td id=\"T_eb49c_row8_col2\" class=\"data row8 col2\" >0.9421</td>\n",
       "      <td id=\"T_eb49c_row8_col3\" class=\"data row8 col3\" >0.7685</td>\n",
       "      <td id=\"T_eb49c_row8_col4\" class=\"data row8 col4\" >0.9092</td>\n",
       "      <td id=\"T_eb49c_row8_col5\" class=\"data row8 col5\" >0.8329</td>\n",
       "      <td id=\"T_eb49c_row8_col6\" class=\"data row8 col6\" >0.7510</td>\n",
       "      <td id=\"T_eb49c_row8_col7\" class=\"data row8 col7\" >0.7569</td>\n",
       "      <td id=\"T_eb49c_row8_col8\" class=\"data row8 col8\" >1.5910</td>\n",
       "    </tr>\n",
       "    <tr>\n",
       "      <th id=\"T_eb49c_level0_row9\" class=\"row_heading level0 row9\" >dt</th>\n",
       "      <td id=\"T_eb49c_row9_col0\" class=\"data row9 col0\" >Decision Tree Classifier</td>\n",
       "      <td id=\"T_eb49c_row9_col1\" class=\"data row9 col1\" >0.9289</td>\n",
       "      <td id=\"T_eb49c_row9_col2\" class=\"data row9 col2\" >0.9223</td>\n",
       "      <td id=\"T_eb49c_row9_col3\" class=\"data row9 col3\" >0.8989</td>\n",
       "      <td id=\"T_eb49c_row9_col4\" class=\"data row9 col4\" >0.9029</td>\n",
       "      <td id=\"T_eb49c_row9_col5\" class=\"data row9 col5\" >0.9009</td>\n",
       "      <td id=\"T_eb49c_row9_col6\" class=\"data row9 col6\" >0.8455</td>\n",
       "      <td id=\"T_eb49c_row9_col7\" class=\"data row9 col7\" >0.8455</td>\n",
       "      <td id=\"T_eb49c_row9_col8\" class=\"data row9 col8\" >1.9900</td>\n",
       "    </tr>\n",
       "    <tr>\n",
       "      <th id=\"T_eb49c_level0_row10\" class=\"row_heading level0 row10\" >lr</th>\n",
       "      <td id=\"T_eb49c_row10_col0\" class=\"data row10 col0\" >Logistic Regression</td>\n",
       "      <td id=\"T_eb49c_row10_col1\" class=\"data row10 col1\" >0.8771</td>\n",
       "      <td id=\"T_eb49c_row10_col2\" class=\"data row10 col2\" >0.9175</td>\n",
       "      <td id=\"T_eb49c_row10_col3\" class=\"data row10 col3\" >0.7438</td>\n",
       "      <td id=\"T_eb49c_row10_col4\" class=\"data row10 col4\" >0.8964</td>\n",
       "      <td id=\"T_eb49c_row10_col5\" class=\"data row10 col5\" >0.8130</td>\n",
       "      <td id=\"T_eb49c_row10_col6\" class=\"data row10 col6\" >0.7226</td>\n",
       "      <td id=\"T_eb49c_row10_col7\" class=\"data row10 col7\" >0.7296</td>\n",
       "      <td id=\"T_eb49c_row10_col8\" class=\"data row10 col8\" >2.0790</td>\n",
       "    </tr>\n",
       "    <tr>\n",
       "      <th id=\"T_eb49c_level0_row11\" class=\"row_heading level0 row11\" >lda</th>\n",
       "      <td id=\"T_eb49c_row11_col0\" class=\"data row11 col0\" >Linear Discriminant Analysis</td>\n",
       "      <td id=\"T_eb49c_row11_col1\" class=\"data row11 col1\" >0.8725</td>\n",
       "      <td id=\"T_eb49c_row11_col2\" class=\"data row11 col2\" >0.9169</td>\n",
       "      <td id=\"T_eb49c_row11_col3\" class=\"data row11 col3\" >0.6869</td>\n",
       "      <td id=\"T_eb49c_row11_col4\" class=\"data row11 col4\" >0.9427</td>\n",
       "      <td id=\"T_eb49c_row11_col5\" class=\"data row11 col5\" >0.7947</td>\n",
       "      <td id=\"T_eb49c_row11_col6\" class=\"data row11 col6\" >0.7056</td>\n",
       "      <td id=\"T_eb49c_row11_col7\" class=\"data row11 col7\" >0.7241</td>\n",
       "      <td id=\"T_eb49c_row11_col8\" class=\"data row11 col8\" >1.7380</td>\n",
       "    </tr>\n",
       "    <tr>\n",
       "      <th id=\"T_eb49c_level0_row12\" class=\"row_heading level0 row12\" >dummy</th>\n",
       "      <td id=\"T_eb49c_row12_col0\" class=\"data row12 col0\" >Dummy Classifier</td>\n",
       "      <td id=\"T_eb49c_row12_col1\" class=\"data row12 col1\" >0.6408</td>\n",
       "      <td id=\"T_eb49c_row12_col2\" class=\"data row12 col2\" >0.5000</td>\n",
       "      <td id=\"T_eb49c_row12_col3\" class=\"data row12 col3\" >0.0000</td>\n",
       "      <td id=\"T_eb49c_row12_col4\" class=\"data row12 col4\" >0.0000</td>\n",
       "      <td id=\"T_eb49c_row12_col5\" class=\"data row12 col5\" >0.0000</td>\n",
       "      <td id=\"T_eb49c_row12_col6\" class=\"data row12 col6\" >0.0000</td>\n",
       "      <td id=\"T_eb49c_row12_col7\" class=\"data row12 col7\" >0.0000</td>\n",
       "      <td id=\"T_eb49c_row12_col8\" class=\"data row12 col8\" >1.7220</td>\n",
       "    </tr>\n",
       "    <tr>\n",
       "      <th id=\"T_eb49c_level0_row13\" class=\"row_heading level0 row13\" >svm</th>\n",
       "      <td id=\"T_eb49c_row13_col0\" class=\"data row13 col0\" >SVM - Linear Kernel</td>\n",
       "      <td id=\"T_eb49c_row13_col1\" class=\"data row13 col1\" >0.8785</td>\n",
       "      <td id=\"T_eb49c_row13_col2\" class=\"data row13 col2\" >0.0000</td>\n",
       "      <td id=\"T_eb49c_row13_col3\" class=\"data row13 col3\" >0.7151</td>\n",
       "      <td id=\"T_eb49c_row13_col4\" class=\"data row13 col4\" >0.9307</td>\n",
       "      <td id=\"T_eb49c_row13_col5\" class=\"data row13 col5\" >0.8088</td>\n",
       "      <td id=\"T_eb49c_row13_col6\" class=\"data row13 col6\" >0.7220</td>\n",
       "      <td id=\"T_eb49c_row13_col7\" class=\"data row13 col7\" >0.7355</td>\n",
       "      <td id=\"T_eb49c_row13_col8\" class=\"data row13 col8\" >1.7440</td>\n",
       "    </tr>\n",
       "    <tr>\n",
       "      <th id=\"T_eb49c_level0_row14\" class=\"row_heading level0 row14\" >ridge</th>\n",
       "      <td id=\"T_eb49c_row14_col0\" class=\"data row14 col0\" >Ridge Classifier</td>\n",
       "      <td id=\"T_eb49c_row14_col1\" class=\"data row14 col1\" >0.8722</td>\n",
       "      <td id=\"T_eb49c_row14_col2\" class=\"data row14 col2\" >0.0000</td>\n",
       "      <td id=\"T_eb49c_row14_col3\" class=\"data row14 col3\" >0.6837</td>\n",
       "      <td id=\"T_eb49c_row14_col4\" class=\"data row14 col4\" >0.9455</td>\n",
       "      <td id=\"T_eb49c_row14_col5\" class=\"data row14 col5\" >0.7935</td>\n",
       "      <td id=\"T_eb49c_row14_col6\" class=\"data row14 col6\" >0.7044</td>\n",
       "      <td id=\"T_eb49c_row14_col7\" class=\"data row14 col7\" >0.7239</td>\n",
       "      <td id=\"T_eb49c_row14_col8\" class=\"data row14 col8\" >1.7100</td>\n",
       "    </tr>\n",
       "  </tbody>\n",
       "</table>\n"
      ],
      "text/plain": [
       "<pandas.io.formats.style.Styler at 0x208d9bf9e90>"
      ]
     },
     "metadata": {},
     "output_type": "display_data"
    },
    {
     "data": {
      "text/html": [],
      "text/plain": [
       "<IPython.core.display.HTML object>"
      ]
     },
     "metadata": {},
     "output_type": "display_data"
    }
   ],
   "source": [
    "best_synthetic_model = cc_gan.compare_models(sort='AUC')"
   ]
  },
  {
   "cell_type": "code",
   "execution_count": 99,
   "metadata": {},
   "outputs": [
    {
     "data": {
      "text/html": [],
      "text/plain": [
       "<IPython.core.display.HTML object>"
      ]
     },
     "metadata": {},
     "output_type": "display_data"
    },
    {
     "data": {
      "image/png": "[encoded data removed]",
      "text/plain": [
       "<Figure size 800x550 with 2 Axes>"
      ]
     },
     "metadata": {},
     "output_type": "display_data"
    }
   ],
   "source": [
    "cc_gan.plot_model(best_synthetic_model, plot='class_report')"
   ]
  },
  {
   "cell_type": "code",
   "execution_count": 100,
   "metadata": {},
   "outputs": [
    {
     "data": {
      "text/html": [],
      "text/plain": [
       "<IPython.core.display.HTML object>"
      ]
     },
     "metadata": {},
     "output_type": "display_data"
    }
   ],
   "source": [
    "pred_gan_df = cc_gan.predict_model(best_synthetic_model, data=test_df.copy().drop('Class', axis=1))"
   ]
  },
  {
   "cell_type": "code",
   "execution_count": 101,
   "metadata": {},
   "outputs": [
    {
     "data": {
      "text/plain": [
       "1301"
      ]
     },
     "execution_count": 101,
     "metadata": {},
     "output_type": "execute_result"
    }
   ],
   "source": [
    "pred_gan_df[pred_gan_df['prediction_label'] == 1]['prediction_label'].count()"
   ]
  },
  {
   "cell_type": "code",
   "execution_count": 102,
   "metadata": {},
   "outputs": [
    {
     "data": {
      "text/plain": [
       "77"
      ]
     },
     "execution_count": 102,
     "metadata": {},
     "output_type": "execute_result"
    }
   ],
   "source": [
    "test_df[test_df['Class'] == 1]['Class'].count()"
   ]
  },
  {
   "cell_type": "code",
   "execution_count": 103,
   "metadata": {},
   "outputs": [
    {
     "data": {
      "text/plain": [
       "<sklearn.metrics._plot.confusion_matrix.ConfusionMatrixDisplay at 0x2080f796010>"
      ]
     },
     "execution_count": 103,
     "metadata": {},
     "output_type": "execute_result"
    },
    {
     "data": {
      "image/png": "[encoded data removed]",
      "text/plain": [
       "<Figure size 800x550 with 2 Axes>"
      ]
     },
     "metadata": {},
     "output_type": "display_data"
    }
   ],
   "source": [
    "ConfusionMatrixDisplay.from_predictions(test_df['Class'], pred_gan_df['prediction_label'], normalize=\"true\")"
   ]
  },
  {
   "cell_type": "code",
   "execution_count": 110,
   "metadata": {},
   "outputs": [
    {
     "name": "stdout",
     "output_type": "stream",
     "text": [
      "              precision    recall  f1-score   support\n",
      "\n",
      "           0       1.00      0.98      0.99     59865\n",
      "           1       0.05      0.84      0.09        77\n",
      "\n",
      "    accuracy                           0.98     59942\n",
      "   macro avg       0.52      0.91      0.54     59942\n",
      "weighted avg       1.00      0.98      0.99     59942\n",
      "\n"
     ]
    }
   ],
   "source": [
    "print(classification_report(test_df['Class'], pred_gan_df['prediction_label']))"
   ]
  }
 ],
 "metadata": {
  "kernelspec": {
   "display_name": "base",
   "language": "python",
   "name": "python3"
  },
  "language_info": {
   "codemirror_mode": {
    "name": "ipython",
    "version": 3
   },
   "file_extension": ".py",
   "mimetype": "text/x-python",
   "name": "python",
   "nbconvert_exporter": "python",
   "pygments_lexer": "ipython3",
   "version": "3.11.5"
  }
 },
 "nbformat": 4,
 "nbformat_minor": 2
}
