{
  "cells": [
    {
      "cell_type": "markdown",
      "metadata": {
        "id": "Ehr9omwbNMoT"
      },
      "source": [
        "<Body>   \n",
        "<img src=\"data:image/png;base64,iVBORw0KGgoAAAANSUhEUgAAAVEAAAB+CAYAAACd+yIVAAABOGlDQ1BrQ0dDb2xvclNwYWNlQWRvYmVSR0IxOTk4AAAokWNgYFJILCjIYRJgYMjNKykKcndSiIiMUmB/xsDEwMLAySDMwJyYXFzgGBDgwwAEMBoVfLvGwAiiL+uCzJpivO1cjMWGdoHpqRe3pXw2xVSPArhSUouTgfQfIM5OLigqYWBgzACylctLCkDsHiBbJCkbzF4AYhcBHQhkbwGx0yHsE2A1EPYdsJqQIGcg+wOQzZcEZjOB7OJLh7AFQGyovSAg6JiSn5SqAPK9hqGlpYUmATeTDEpSK0pAtHN+QWVRZnpGiYIjMKRSFTzzkvV0FIwMjIwYGEDhDlH9ORAcnoxiZxBiCIAQmyPBwOC/lIGB5Q9CzKSXgWGBDgMD/1SEmJohA4OAPgPDvjnJpUVlUGMYmYwZGAjxATPHUlQo3ou4AAAAOGVYSWZNTQAqAAAACAABh2kABAAAAAEAAAAaAAAAAAACoAIABAAAAAEAAAFRoAMABAAAAAEAAAB+AAAAAAQtgrIAAD7VSURBVHgB7Z0JvFVTF8B3lCJKZoVGUpKKFFIRKUolMjUoZQgRiagkklSmMqRS0WAeylR9IiRjZMwQGSqhEJWI963/7u1r3/POOXe+77739vr93jvn7rPHdfZZe+211l6r1OjRo/M++vBD5SA+DGxburQadPXVqtb++8dXwOVyGHAYKNYYKL1gwQL16SefFOtBpnNw5cqVU2vXrVO10lmpq8thwGGgyGJgmyLb80LqeJkyZQqpZdesw4DDQC5iwBHRXHwrrk8OAw4DRQYDjogWmVflOuow4DCQixhwRDQX34rrk8OAw0CRwYAjokXmVbmOOgw4DOQiBhwRzcW34vrkMOAwUGQw4IhokXlVrqMOAw4DuYgBR0Rz8a24PjkMOAwUGQw4IlpkXlVud/Tff/9Vf/zxh9q8eXNud9T1LusY+Pvvv9Xvv/+u/vnnn6y3nY0GS2ejkZLWxvr169Vff/2VlmGXlmOmGPjvsMMOqlSpUmmpM9VKNm3apF5//XX1ysKF6uOPP1bLly9Xv/76q+5fXl6e2m677dS+++2nDpCjsUcccYQ65thj1T777JNqs5Hya9euVbSTLgDH4Jd+pxvoJ/3NVWBO7brrrmnr3po1a9TLL7+sFi1apL74/HP19ddf64WVdsDFTjvtpGrWrKnq1KmjmjdvrpodfbTacccd09Z+YVSUEBHt1q2bGn7D8LT2s80JbdRnn30WV51NmjRRDz38UFx5TaYXX3xR9T63t/mZletVAwfqieRt7F+ZRH8FcGoQym233TZSBM7OJsTbbLONqlSpkiZG1atXV/Xq1VONDz9cHXzwwVkjrt9/952aPHmyevzxxzVnwUfQ+dRTVaNGjdR+QjS33357zW2sE6Lx+Rdf6A/p3nvvVUOHDlXNmjVTPXv1UscKQU0V2rRpo/4QzsYLcDpwPX4AgQSHNpDX5o4gpnzkVatVUzVr1FAH1K6t+123bl27WEL3GzZsUI0POyyhMmSmr/SHazzjYr4wnkQXl+3Klo37+wsbxGuvvaam3H+/eumll1T58uVVu3btVP/+/VXdgw5Se+21lx4Lu5TVq1erjz76SL0kx815DnHt1KmTOrd3b1VDcF4UoVTbtm3z4j07X7FiRbXHHntEjZOPY+h1Q6PS/H789ONP6uyzzy7w6JtvvokiFgUyWAmcW99333014itUqKDan9xede/e3cqh1JYtW9TEiRPV/Pnz5UP7QzGJV61aFZUnlR98ZBMnTVIQ9EThnXfeUacJ0fGDIUOGqF7nnhv1iEn322+/qZXff6/elrKLFy9WC2WVtz+U3XbbTbVv317jtmatzJzo37hxo7r9ttvUtGnT9LtqKETzxhtvVPEQF97Hww89pG6++Wa93T9cCP91w4bFVTYKGXH8mDF9uho8eLBvzukzZqijjjqqwLPNf/6p1vz4o/ryyy/V22+9pZ577jn17bffRuXbfffdZa6drHrJIlClSpWoZ7F+IOI4WBY8P4A7byqc+kFCaCAgEBu4QjizskLcDDz6yCNqoCzMfnC/EC44fQPMGbbOP//8s1ot855dwodCtBbLzuGnn34y2SLXVInol7JYDh8+XL366qu6Tr7Hy6+4QkErYgF9HDN6tHr44Yc1AwF9uGLAAMW3XZQgIU6UD5o/G6rXqG7/DLz/e8vf6gtBeCrwp0x4uw6I0pa/twjx6RWpdszoMWrChAmR30X5hg+JRYs/CNd5552nt0d3jR+vuUHGxkScMmWK/mP1v3rQoIQ/9DAcvf/+++qySy9VLHbAGWecoW4cMSKKaw4rDzd1dteu6kghYD3kA3tLCFXHDh3UgCuvVH369MkaFx3Ux7KyMMNF8weXPPCqqzQhHSaE/ud8ogPxuV848GlTp6pOp5yirrnmGr0rCKozVvoJwkn37dtX1a9fP1bWhJ8zZ/hjcT3wwAMjBJaFl0X4zjvvVG++8UbC9foVYFEdedNNersOp3/7HXcoYcr8svqm0cebR43SC8mVQjwfeOABxc7xtttvV40bN/Ytk4uJ2+RipxLpE5MCbgeAyPJiizOwlR8zdqz+g4uw4ZlnnlEntG6tnn32WTs56fs5s2er07t0iRDQdsLx3jRyZNwE1G6Yfs+YOVPtsssuetvJx3fJxRfnnCKK7eVJJ52kwGXVqlXtIeht9WOPPqray2K1YsWKqGfx/oBrQ8SRCQIa1gfGdeSRR6pZs2apCy64ICxrzGeIDQYI0Rt23XWR98ecTISA2o107NhRjZSdCrBy5Up1pizUcKdFBYo8EYUz/vTTTzW+kbVASEsCdO7cWY2TBcQLiC8uvugi9UiKk5DFqF+/fhFRC2KUkUJA+RiTBV1H/sdCHRD77iJnR1GVa7DnnnuqccLxe+Wo9JMPvec552jxRCL97iAceDeP+CmR8unIy/uD205GHEX7yOl7i/zy8ccei3TnrLPO0iKlSEISN6eKmOsU4fIBZMBXSx/vvuuuJGrKfpEiT0RB2Xei8ABWrUyf7FNXmOP/Wp9wguoinKIfXHvtteq9997zexQzDQIMl2HD2FtvTYsWtbVwyiijDLC97yMfZS6aRqG088rcTb/hRMePG2d+xnW99LLL4sqX6UwQ0stEqZMosOO7WHYPWGUYYGG8NkAObfLEex12/fVaLmzyi8N4LUYxv3P1WiyI6MYNGzV+N27aes1VZGeiX3wMyB29wIQfIpPbVkJ58/j9xnRpkMhVbUAbnk4Z1ZUiD7UVJ5jDEC0gZUiBSw5q+5yePYMeqemiyELpFg+wfUekkSsAJ4oiKxEYIcrE+fPmRRW5QpRImIelA1Daeon7DTfcoOa+8EI6qs9YHcWCiGLeAZhrxrCVgxXvvffeqkWLFr49w4bTaE19M3gSsWJAFODFI/KvdAJbZS+H9+STTyo0zSmBKE/SDchFGzRs6FstohObK/PNlJ+IvWwugZGRxtsn3s9UUazZUFtMwE4WEUU6gW19tWrVoqqEUGMFkKtQLIhoriI3W/2yTVy8bc4W5VC8gH3rL7/8EpUdZUQmTKfQ2HthlMhLbesL7/PC+n3ooYcGNv3Ou+8GPrMfHBRg5mTnyfZ9vH3CtnOomOB5oau8w1Rk5N76+I2t9JkiY7WBxQqbUqNAtp/lwr0jornwFlLsQ8MGDQJreEPMWuIBbBExmPZCkMzVmy/R33B42IzagNICUxcvJ2znKYz7A4XjCoKvv/oq6FFUulfTH/WwkH54Ob6gbgwW+Tr2rjZgGXKy2M5mAjqJtt6r0ENpPPG++zLRXMp1OiKaMgoLv4IacowuCNAkx9J+Y9EwZsyYAlXAFbQ67rgC6elKOM6n7qVLl6qnn346uSYyIBOlIxV33jmwP+s8nHtQRgz2cw3i6RNG+gSz9ALiiQpxGNR7y8Xze3exiz7EhzEYL9YS2EXnGjgimmtvJIn+cJILoXwQ/CgncsIAI2e/PAeLMiST55qbNG3q261bxeYwqa1bBmSidHBHOcYYBPFaFcRzgieojUyl7xyyOJg2bxENuR9kWsbb1GduoMTLRbMnR0T9ZkgRTAvTkIZpkLHJ4ySOHzTxbLf98qSSxnFHW0tv6vpejrnOnTvX/Cz0K8cog2AH8RcQD/iNM55ymcwTy+EKJnLvB5jJeUUx6e5nkBwaI/yw95HufsRTnyOi8WCpCOTxM3My3Q77WHAYEeRb4EDxtJNJQFwQpLR68MEHM9l0QnX/Ih6qggA7yTAA99js2s5lwvJn8xnc8VVi1B4EM8TfgB+gTOJIaSah9gEH+FYPQ/DEE0/4PiusREdECwvzaW43TO4Z5ursWTneGAQHBEzkoPzJpO8f4DSF890/xRBDJNNeMmWWi3OSIDg8hiMaiGhv8RGQi4AYCKcqfsDRznkBuwEWDjx2ZRKqiHMW+ucHHEfOJXBENJfeRpJ9QX7oNU0yVUFAg2RfbOXhRIMgG8bhOP4Igvn/+1/Qo6ymLxLlih8gQkn2vLhffbmUxkmyoG1z9Sy4rIPbDfJBu2TJkpxSMDkimkszN8m+4Pg26GRSmAJgmfgc8HrlMl3AUUimuQ3a2rtyZdNkgSua4cIGuNBP5NCCH1wkBxOCFii//EUpLcw0rkrIO0vnGCsHtMNcf/PNN9PZVEp1OSKaEvpyo/Dbb78d2BH8YAbB+2JOFARBEzgof7Lpe8nppSB4T9zwFTYEaadxZ3d+it6QCntsYe1jahYE2Zobe4YcS8VFY66AI6K58iZS6EeQXBOZpp8tpmlq2bJl5rbAFU40GxDGyeGMOmhLmY2+YfrllQuyzUTGeZd4GMpFZVG68PJp2NxIYziRsP7uHGKHGq8j+bD60/WsoOeKdNXs6skKBuAYcBriBT5wfH96T37Y+SBSQRBmYB5UJpn0WAbbHBbItCbY22+UKhPE5+dYsVe1Aa9Z/S65RMV7XNIuW5TusX01Dqn9+h228PnlTzYtzLYWM7hcAUdEc+VNJNEPThoFeT8aLt5vgmztTFOciQ6CMOP9oDLJpMcy5sf8KltElDPa88RLEQbdhAsB8L6Okw08+u8vgfdKAvzwww+hw8zW3CgfEsAubO6Gdj4DDx0RzQBSs1ElH3zfCy+MOKQ2bWIWAgdK8K9YQB1BUFZMc7IBBOgLgw2eM9thecOeETfJmHpxNh+TMILdcWzzc4lKiWNvzKrKyLjriA3kpRIS5QhxvnKYBJkrztt2P5zFwnmsd+ZXZzJpYe3gZ4EdQ1ieZNpMpowjoslgrZDLvCEf+0DxyWmcUZvutGjZUvsQDTJgN/nMdVNIFIBsTc6wQwL0M8z+1Ywjnutt4lTae2qID/FXiYxgIrASmZLInPuLLPmQQw7RYX1LGgHVOA+ZFzzfLsbCF8/7iCdPGR8/uXY55ka25qndrvfeEVEvRgrp9ySJIFpaJichJPxkQXzwBBrD56bXhyVn0AkmR+TIRKBUSOYgk6mQIsk9inHePV2u1gh+5hftk07jN+A9sT0krhInpYwXKbatLEydJWwF13T1JTlEZa9U2LzIXi+USr932Mz03hHRzOA14VpryxbyCYnnfqPIMglFTAhdZELr169Xa0RGhUmHcXaBkTfnzvEjCtFN1uQkzA40KQcgCY9aYvbIliwMymX4ZAxtE00VkyX++nzwgTpXQlejWMEy4Jk5c/QfclnkzOn08B827sJ8Fgvnf+cHhsx0H7fEmBth8zfTfbPrd0TUxkYh3h/drJmOO4/xO8bdaB8hoHCgDcWzepfTT9fxuDlFxF+Y1j3eYewY4vkpFnGLt41Y+RhfGIR5UAorl+wzwnjcc889Osqp4UipC3OwM+QdjJIQv6eedlqy1ReJcrEUR8giswGbQ+YG/kxzYSsPHhwRzcZsSKANtvIoNLIBnDwJOo0TS7mQrv7FsgOtXKVKupqKux6USQTTw1G1DRDVqyUWVC3R0jfw8Xdp5y3K98ReQnQRJNJBIZcNgIkIgsoSFidXwBnb58qbKIR+BJ1NpitBx0HT3c1fQzwk0VaVQiCitBvkmAN/A9dLVMriDHB4xMEKgjDiFlQmmfTfQuZG2NxNpq1Uyjgimgr2inhZZK9BEOb+LahMMunr1q0LLMaHEsuONLBwig+QgeJJyA/wsbkkzthKfuWLQhoy9yDI1txYGzI36mTYTWPQ2P3SHRH1w0oJSQvbkqLMygaskhNJQRDWv6Ay6UxHFh0EaPKLM/iF5zDj/SHkkIbJk45r2NwI61862k6kjqwR0ZJob5fIiyiMvNiTopn2gzVr1ii2rpmGsON72ZINB42xZkjsqkRCUQfVn8vpzY46KrB7q7JERDny6wfIa5vE8OPqVy5TaSkTUWN2E6uDmdSkGfu9f7Zk/qOPNc6i9By8Hd+6tW+XUaIETWLfAkkmfiVu/IIgzHlKUJl0pod5redYqDcCZjrbLuy6GggXvltAcD1Of2Ua8GAfdPyUHQLHcXMFUiaiGzdsjGssscwm4qokIJM5ibLpz00BOVxyEAbCwt5mIwb855995ts1YvgEccm+BUiURSGdEMtv5vLly9PZXE7VxQLbvl073z4xbtv8yzdTiokcxQ2Cdu3bBz0qlPSUieiq1avi6jicaKYIacWdK+o+rFsbrKSIq5MlMBPEqnZAXPWwiZwOVKGZD+I2unbrlngTMU4/JVphmMNo6vr2m28SrbJI5Q96BxyT/SbDY8eXgR/gG6Jz585+jwotLWUiunrVaoU3oXggU+YqVSpvtSUMk6/F07+SmicoBtA7Ic6e04ErHH74AfOkjZweKmzYO4Yt4krxMFWcgVNzrVq18h1iYc2N0+SgQ4UKFXz7VFiJKRNR2Pp4vUzX2r9W2se5XdntVPUa1XW9HweEcUh7o8WswlPkbLifmzc85mdy2+bnBxXUXnbZZcmdRknzdp4gc2GEdHUxJ6K8iysHDvT1GZDp8Bz4ifACXOgl4s811yBlIsqAFr68MK5x1T+4flz5Esl0eOPDtasynEisWLEikaIubz4GOEI6eMiQAvjgNJHfZC6QMYkEiDO+O72AfWInIepJQZq38/ShWrVqgV3JJZ+WgZ1M8QGinjPPPLNALQsWLNCu6Ao8SEMCNrh8z164QFw/7h5gTeLNm83faSGic8RJQzzmMEFedFIZ8IknnaiLz58/P+5q8Mzdo0cPNXz4cDXomkGqeYvmcZctrhmbN2+uunTpUmB43qOPBTIkmfDqK68UkIfiFo+YRrlkDufHoZshF/ftvBnnoGuuKeDkhuiyC1580WRJ6/XRRx8tUB/EvG/fvgXScyEhLUQUU5jnnnsu5njqHlRXhYXIjVmBJ0OlSpWU0S7PmjnL89T/ZzNx9LFw4UI17Pphqlv3buq8885T06ZNU9MemKbKly/vX6iEpMKNIgez4YUXXshI/PepgnMvXDFggPZg5U2P+3eat/O0i4/RICgJ23nGzqmxW2+7rcDiRgyqdAMn2GZ74sqzjceVYSbNJFMZR1qIKB0YO2as2vzn5ph96dq1a8w88Wbo37+/JnwQxXjkoVWrVlUT7pugKlQsKJiGE7tl9C3xNl0s82E9cd9990UdtcQO+M5x49I63nfeeUe97Il3f+KJJ6oLUo2emYHtfNipKbixeJWqaUVgIVSGcfuQoUOjWkamHSTXjsqYwI+7775bYSNqA56zcumYp9037tNGRDF5GD1mtLf+Ar+7duuauP1fgVqU1hpSFx/5jTfc6JOjYFLv3r0VvjiDgA+5Zq2aQY9LRDqnmCZOnBjlBf6hWbN0CI10IACxz4gbo98XZlZjxfN8LgIRU8MCsxEDqqQAIrDzzz8/argjRoxQ6fI9+9VXX2mn2HYDA0WxRYyrXIa0EVEGOXnSZPXUU0+FjhdHqhDbVPxhNmnaRLijO7XW8KYRN0WCioU2LA8bNGwQK4tqcEjsPDErKeIZ8JA/YcKECCHlI0FjHsv3ZzzDhtOwrTkaNmqkJou3frZsuQgYnbds2TKwa99l4fROYOOF8ODqQYNUz549Iy3jSvEO2WqnCsyx/swxYYoM9OvXT12Yo3JQ00euaSWiVDjgigFqzuw53AYCW+dbhfPAhCRRQPkxbeo0zVFOmjhJJSKXKaVKxW4ujiyxKyn6OQiHMeuhh5SJP0+cbxRxqQBbP/uDIwTxzJkzo8QHqdSfqbIdO3YMrPrDDz8MfFZcHwy97joFMTXAwohILRW46aab1AcSVQCAwbpRdiv9L788lSqzVjbtRJTtGivIrWNvDdXYd+jYQT319FOBcW+8GID7nD5juhp1yyiJyFhGjRYtLluJRGDpB0tjZv/wg5L3UQQhhTPKc8RbETGcgBnTp2tCmoztKA47zuvTR88JFARXiXNjPMjnKgdq46R5ixaBYZvjUajadRWXe7b1KAc5X898uFDk2Zg9JQo4fh51881qiuxGAELdzBTx0dlp1J0k2qdE82fMs/04UUa8JMoDuJeGjfxdiiEshjB+LU4oWMmWfbpMrV27Vm/T0QhWrlJZ1T6gtnzETSJyVMI0DL52sHo3CX+OkydPlqBjnVXZcmV98YSZVDqOOhI+wY/QhMWM2SKLT5AzF+MbwLfTGU7Uk1q4RQjo7bJtY7IvlXhP18t7rVevXszW10u4k/HjxysC8fHBICoYKgqKVBQFiBX8vK6DwyAA9374Zbsea0dEHmS2Z4m9pNdZNccTx4wZoy4XrsmIqHBMskmUI4naNPr1j/GEjYt4R0HlMj1vWsjiMnfuXFEqj1EPya7l3F69tOlgPwmaaHYwQe+D9M/Eb8J1wtVycg3ztm5y1PcyURbn2omksDHwrFTbtm3z2KplErDDRCt/zDHHaGQl2hYECaPvmTNmqueff973A4q3To6x3XHnHQXMmd566y2F4un39b+HVoUGe6IQhDBXXL1EZsQCki5YLJOMkA2FDRjfs/2eLhExOWJL0LbW4gUK3444UMZEDNnWTxLkDccirwj3+byYvqFtPVaC6vU45xx19NFHpzyMemJ2tGHDhpTroYKd5Aih2UbGqhDjesQRcJ/esCZ4fCI+E2NHyXqJ7MbOPvvsWFVGnqOgOirNYWE+EycesRaISAdSvPnyiy/UlClT1JNPPqm/T0Q1iO3qiHPrPcRLPv3AkgFzSPA9Xw5aLFq0SOP/VDkLf458M+k0f0xxOAkVzwoRNT2CAGFw30iUCXXq1tGsO556UDZhYA0Ht2njJj0RV65aKR/i52rp0qUa2ZiTpAt2ly0ITgzQxNPeotcXqXlz58VFnOMhoog0/DilZPsfKzZ7svUmW46xIQt8+eWX1UdyxS0cOwgIG1t1AuBBVPYXTT+iAD6mdLouS5c22Iw/UfzSPh6uUCrhRAVOEa5vF7Fbrlqtmg4kCPeaKBT2uBLtr19+YsEj+1702mvqU9k1rpBdJuFEIKBYxlSUgy41JNAikQOOlnmBZUamOWa/fqYzLatENJ0dL6y64iGihdU3167DgMNA9jGQdsVS9ofgWnQYcBhwGCg8DDgiWni4dy07DDgMFAMMOCJaDF6iG4LDgMNA4WHAEdHCw71r2WHAYaAYYMAR0WLwEt0QHAYcBgoPA46IFh7uXcsOAw4DxQADjogWg5fohuAw4DBQeBhwRLTwcO9adhhwGCgGGHBENMGXyKkqBw4DDgMOAwYDpVsff7zKVChj00hxupaW46m77bprcRqSG4vDgMNAChgoJeeg81Io74o6DDgMOAyUaAy47XyJfv1u8A4DDgOpYsAR0VQx6Mo7DDgMlGgMOCJaol+/G7zDgMNAqhhwRDRVDLryDgMOAyUaA46IlujX7wbvMOAwkCoGHBFNFYOuvMOAw0CJxoAjoiX69bvBOww4DKSKAUdEU8WgK+8w4DBQojHgiGiJfv1u8A4DDgOpYsAR0VQx6Mo7DDgMlGgMOCJaol+/G7zDgMNAqhhwRDRVDLryDgMOAyUaA46IlujX7wbvMOAwkCoGHBFNFYOuvMOAw0CJxoAjoiX69bvBOww4DKSKAUdEU8WgK+8w4DBQojHgiGiJfv1u8A4DDgOpYsAR0VQx6Mo7DDgMlGgMOCJaol+/G7zDgMNAqhgonWoFrnxiGPjtt98CC5QrW1aVLVcu6vnGjRsVEUbLSXpZeR4GhMv68ssv1U8//aS2lYB6NWrUULvvvnukyKZNm9Rff/2lSpcurcqXLx9JNzcbNmxQW7ZsUdttt53afvvtdTL5KVdKflWoWNFkjbqaPHaiXYed7ndvygf1iz7RNxuC8tp5wnDN+OijHxg82c/C8pPPjMEuY99XDMAdeX7//Xf177//2tkj97xz3j3wxx9/qH/++UeVKlVKVahQIZLH3Pz5559q8+bNqkyZMmqHHXYwyVFXyi9fvlytW7dOz4M99thD7bvvvrpOO2NYn+x3m2yf1q9fr5ivQfOaOc/cB4JwZ+rYcccd9Xy3+8+9mc8mHbyBF+aOF9bLd0mwuaD3bOaE/T4idRCozkF2MCCTPK9a1aqBf2NGjy7QkWOPPVbnv/jiiws8Mwny4eTdcccdeY0aNixQ96mdO+e9//77OuvgwYP18+7dupmiUdc+vXvr5/0vuyyS/vjjj+u0A2vXjqR5b5568skC7TLO2gcckNfltNPyZs2alSdExlss8nv48OG6fMMGDXzzLV682Lf+/WvVyuvYoUPepIkT82SSR+rjJhauH3rooaj89o+rr7rKt71D6tfPA0evvPKKnV3fP/Lww75lzPv+09M/u4JjjzkmsOyw666LZG130kmRfG+88UYk3dwYPF526aUmKXL9cc2avEFXX513UN26kTpM3xgXz8CZgeNatSqQz+QfIvPIQIeTT47kW/z66yY5ch1x4436+SWXXBJJ46bJ4Yfr9Pvvvz8q3fyY+8ILkXqF8JvkyHXVqlV51atV03lmzpwZSbdvzHw2/eZKmbZt2uS9tGCBnTWvzoEH6roee+yxqHTzg3lG+e7du5ukyFWT5C3CbSyaNilCWBO5qbjX3qpB+066yPI3X1fff/B+IsUjeQ9u007tsu9+6q9NG9Xi6VMj6Yee0kXtuOtukd/x3ix99mn166qVOvu+DRqpGo2bRhV97+nH1fof10Sl2T9KbbONKivc2g47V1J7H1hX7Vq1eoHV2s6f6P1OwkmU9XBCO3i4ww8++EB9JVwDMH/ePM2JsOrawAopRFG98847keTddttNr/Jr167V6d9+84065JBDIs8zeQMHDMDxwBW99dZb+u/xxx5TkydPLsDNkm/27Nm6zC+//KJefvlldbyE8Q4Cu364FVkg9N+jjz6qpk6bpvbaa68CRf1wDdcfD9jtwdnOnz9f/8nHpK4fPty3CvBfAIQLigVwSV4OsrznfZs6rhk0SD33/PMxdyfkX7ZsmerWtav6+eefdXE41f2qVtW7CyFGinGB95t8cOLXpx132sl0I+o6SPr0wgsvFNhNRWVK04+nn35az3Gqe/KJJ9SZZ54ZWPN2Mq4K0mfmIxz2p59+qvr06aOelnlXt27dwHLmwddff63nGL9fe/VVvdOzd3iaiP4jRHThpLtNmYSu+9ZvGCGiX721WAjglITKm8xV6tXXRPRvIQp2X2q3ODYpIvr+M0+pb5a8ras/qvu5BYjoktmPq5UffWCaj3llsWh6ZnfV+LSz1Db5hCJmoZAMt99+uxIuMySHUsLh6edMeibAC/LRnHraaVFlhgwZEiGg7dq3V1dddZXaZ599dB4+EOEk1YknnRRVJpM/3nr7bbXLLrtoIvqNEG/av+fuu3Ufr7jiCjVxUvRi/dprr6mfRfzAGCGKjDmMiM6eM0dPfLa/q1auVM88+6y67dZb1WeffaYuOP989YSU30YWQBviwbWd39zXqlVLzf/f//TPzbJV/lSI0b333quES1IPPPCA2m+//dS5vXub7PrKIve2taBFPYzxo2/fvuqiiy+OkWvr46+++kqNHzdOXTFgQGh+tts9zzlHE1C2qgOuvFKdccYZEWLNIrZUFqIf1vgzFOdfcIHq169faBvm4YoVK9Qdd96pBg4caJIydoVwAsybt2XOff/995F57230pBNPVLfedptOZkGR3Zne6j8hdcRDRO3vkDk6R4hvr3PPjTQTPdsiye7Gi4Hfflit5t42Sk3v10f9/ecm7+O0/0YOaDi0vhddpOvnpduAbAsODzhRJso4+agMASWtcuXKSrZRvvIinmcSjEz2Svlo4VCA/wlBgjO1wXwMfc47T8uq/vfiiwpZVyyAUO4jsrwL5CMfM2aMzr506VL17DPPxCqa1HNk1Q0aNFD33HOPOu6443QdIkLRu4OkKkyikOwfdalq1arpKwSdxSMMpk6Zon744QedhZ1Ar169IgSURN5To0MP1fMnrJ5Yz0yf7pswQXN6sfKn8vyTjz9Wn3/+uZb3n3rqqboqQ+hi1XvggQeq2rVr62ws3vHAk/nMTNB3qDlRb0VtB1yrdqtWw5vs+7tcAGu/V+066vhLwldJu8K9DjjQ/pnV+/onnqwOObFDVJv/bBHB9q+/qNXLPlEfzn1WbfxlnX6+4p231DM3D1edho2Myp/uH6++8opiO169enV1nhAYPl6Rg6nVq1ervffeWze3QAiOgcsvv9zc5ty1h3BCcIMoCuCmDz/8cN1Hfs8TMQXQpUsX9dGHHyqRN6rnnntOc0v6QRz/2p98shp1yy1qpXAjz0v9/LYBomy2sqSjVIMrSwZQTlxw4YV6QWBr+PqiRar1CSdEqoLQ2W3xAM7cyx1HClg3GwQfdlmUGDtZ3xdtA2eddZZ68MEH1Xfffaeuvvpqze0H1f+8cM0AhP+II4/U94n82xSjT6auM2Q7PWvmTMXuQ2TK6smnnoprzKtlt/TRRx+ZaiJX6gkC6gbA+wnyJzJ33d7FwjDEgpWye/niiy90tspVqsTKrt59912NZ7bv7BSm3H+/+liI+JdSR63999flfYkoMsB9Dk5Nhrb9ThVU9cZNYnYyFzJUqrxPYF/rt22vmp97gZpx6flq1SdbX/aHz89RTc/opmWlyfb/QuGg7InfVeSa1157baQ6M1FOaNNGcw4tmjfXsjhkQXBfwLfyEQHIfGrK1jNXAW0uiwGT72vZ8hlAfoZMF+6gqsjoGCtEFK6CLWciIIovTUTZUnpBFGVRSQPlI79QCGGyQH8N2OMhDY1w48MOM4/19fXFiyMLX9QDzw/EHvwZOLlDBwW36wU02rfIooEc8P333tOihXNkofKDb/LxARedDMDt8megXbt2atz48eZn5Kr7NHq0Ol0WQ2T5cMD2ljeS0XMzceJExV+8gPjh6XwiCgE94ogjtKUCugParV+/foGqXhWR0dmy8GyUufbpJ59o0RjfzGke0ViBgpJgdn/Ht26trTkQNSGiQmxkxBZuO++HOU/a9hUqqs43jlalLFkoiqtUAJMYTFLM39/y2wByrHlz5+qfTBSgTdu2+mq2v/wwqootIqcJMpHRhXLgn+GiTJ/pktmCmTG2lolKvjfffFPLuBLptqlfKihQrFKlSlrhhNKJv50ClDUFCgYkRNqS5/a9yW7aMVejnDLPg65wnaYM151DzKKaCvFg4QVGC0FF/h0GzDc/gEt/VuTK/HnNyMiPjDeqT4LLIGCH0aNHD/0YEQtyyliA0s+u39zvvPPOvkUXCeePCR8mXhBQzJWMDN3+NuzCbNtff/11veCgW6CcWGfohd3O570HZ0Y81EYWeICFHoCQG/GKLyeqc7l/URioVGVfrZxa/sYinf7t0iVRzxP9MVm2BUGKJba8vGzgYuShQhgMkUUWhEyo7kEHafs+8kBA3xOO5FCRbYWBIS8Ix/3gb5HDAtv62NH55Y83DaUM8lugmnCkwI8//qj4IAC2po/J6g5AlJicTNJ4lSzk/0Q4DKB6tWr6av8bM3ZsIK7tfPHew1EbqOZpD6KzWMQuycD5ohiLd8zUz1b+pZde0hz4YNnFVBe7YC+g/EIbDTfW30fkg3hIzzEp+OKCBdq22K4DWXW8iiXKweUvkHoQNbCzEjM3u7oC9/3791c9e/YskA4TAT68YAglzEfLli3149/zZehzROl47eDBBexAm8surrdo41E8IkJqIeUaNmzorbrA75cFt8bW+CpRlqFQ/if/G2HRYrFv2rSpcpxoAdQFJ1SuWy/y8Peffozcp/vGbCGoFxkOsj6IjgGz1T/mmGNMklausNUJA2Mug2bXj3M15lR+htxh9cZ6dp9s19i2A23zOWqIpOkDht+MkT+TZsYYq26ePybmTYYTMxx7POWSyUP/xokGGoCLOuqoo5KpJqkyhvMxhZHtjho1Sv+EmL7tUdrxwCjB3luyRIkNpCmasSsmUYgagFcWLtRy/HQ1BgGcm79Dg0s0c8YoItEhoEvwwq677qqOPvpoLdPkGe8PbjYWsGU3wGJDe0ZJR7oh6I6IGizFcS0ncl4DW/I5RfM7XVdeEgokYIJoOt+UD8P8DbrmGp0OAYJgIthGRgW8IXI3NK8IvA2Qh7rQ9ANGK7lGzFlG3XyzPmVDOoThLpFzffvtt/yMy+xDZ4zxD2ItxuLqVuEEAbZdjRs31veGSLL9M+PjOidfu75cTl59KIomDfla6a0//vvPdpG6r8nHC3K/kzJkzgUOUTKcI/19VWwFATFq9z359V8P03vnJzqAiKNoAiL4sprFBAsiAqDwQcFnb9u9hNkqmvStLWrw61OyFUNAWYxRCsJZ2/PGbOltwudtp7fgooookxi/IfTePOY3HKhR3LKTsdsacdNNOhtKTHZZbjtvsBbH9c/f/zO9wQg/E/BUvqyFiX+cEB1b+dSxY0c1Ul4gqyhbYbYpvFC2ymzZWPmPlz+MveFSIMiIBSBM9erV01zgeCGWEKj77rtPKyQwg6I+NM0A21M/QsT2qbms5jawdcXg2wYUYHzsTHZDvHmOqMGYImGWg4Af6Nipk+LooQHuDxJRBVtmVvqDDz5YizPM89PEpAUZI+Oy5Xz7y4JyjyhAbHyZMtjObp9/dNKkIeO6xlLkmXT7Cl7rS/sQGj48m+B0E3mkn+IEebYXT9Q5VmxZzQJit2Hf804efvhhO0kxLkQ/YcDiirG84cbtvByZnCSmTdiK/vrrr+oOIaJYesgJHVVOiJERs9hl7PvJYtcLp29DjZo11dSpU+2kAve2qKHAwyQTDOeHGMw25aM65qw+CBFwKIU8mKldLeZ2l4gtLmPiHfoposiLjBixF5y1nBSLOkDQXuyxYQ74ZjDJc5woGIsTjHae7JyuygSYiYIA20sQIDCNGjXSzZp8bL2RJ/YULtScscZMBhMRCA3EmG0QgMkMAnVWbQgdhBFu0RDQliIeePiRRyL16ELWP+Rc9p+f4gAiQn0QUPrPSakbbrhBzRQzFHP23vQdrsBPa2yE+Mi4bEJMVxgL9RsCWqdOHXWVyAafEqsFlBJ+gGLB7jf3iBBiAUSTthgT93BAzVu0UFNE8zxcxhQE3rb4bcQZQWVIZ1vqLbs638YzrByL2c3523q/fOCYxa6zGJljKfGXzAtsat+UXQq44T2xyFKPF/z69INsbWOBLWqIlTee57YM3e/wyLGtWmnDe+Y8OoUgYOd2WL71xPXDhgVli2zVW4lpmNefBQrAI/PFOMzlUjI58jbLJBnVqmmkwl6TZiRl4jR/3NjIiaXqhzVR3e6aHKkz3psN69aqsW1bRLKf9+BjKhkb0mkX9ow6sdTqov6ROrmZfO5ZkRNLLXr3VS369I167v3xy8rv1fjTTlJ5+XLH1pcOVE3P6u7NFvO3kalUEu2j9+VQ2DyHOHqPAPIcRwmYasCN2UfPeMbW4iPh4H4S+SlCcFZrzHG8xJi8cJ9wrxCJHYVrrSPH32yOkDwAH78Rrm9N+e8/9VIGYgyXYwMfK1yQn2YaAgYRhKijOfcC4/glvz7GiFjCS/TQyqLB9XMmYeozuDS/7SsEMdCxRT6O7fw7SH5koH5bavKF4YnnjJPx+gHvIkiezfjMMVIWRxaVoLmBwnGz4BW7VEzG/IB3hV3mWqkLBeKee+6pDhBu1zsXTVt+ddh9Qg4JxxbYp3yTIsbPLscAc/QfESMFlbPnAIsjxJFjwQD48HvvBo98N9TLnGS83nfNroJ5DzB/mccQacRazCmYEUReLJwQTBYEL1CeeraVsr7b+Xm336KCjOhNZbvXqKWO7zfA/CxwXSFHLke23Cr/KvDQSugy6g5Vs8mRVkru3f4jk2T2jUMiBLSMfFAHt90qi0y0t0Hckqkn1nO4OcPRmTLmyocQS0Nv8kKcvETYPLOvTED+woBJF6vfdnk+8jBgHHZ9EGL7d1hZ+1kyZSgfhmO7fvs+HjzZ+e37eN4D+Q0xtcva91hsxALeleHEwvLGasuUNfJW89t7DTpWubsQrzDwzgEWoFjv04vHIDMpiKKXMHoZCBaXMIC48gf4EtHvP1oaVl4/2yxUOAzyhKpzDj4W/JvP2cXKV1jPObH0wtiR6rsP3ot0oVmPPqp8pXBCEMnsbhwGHAaKNQY0Ec3TnvTSO87thKXeZZ/YcsNyPnKY9PYkdm1vPTJDYf+Jsoh+g4/Nwq7//M3XEU9Qppa6rVqrZuf0MT/d1WHAYaCEY0AT0VKqVBQazrztHlW5TvjWIJZBdpW6ByclE43qSJZ+bFr/m4rFfXNaqVmP3qpln4sC5WJZ6q5rxmHAYSCHMOC7nefce0narpYpt71C7vnvP1vtKe33g+y31hHN1OFdzla4w3PgMOAw4DBgY8CXiNoZCvse2WoykEi5I7v2VM17X6jgSPHchCE9DpnLV9pVb++Tad+VcRhwGCgZGMg5Ilq2fLSt2t+b/0zqTdgnirx1+lWI6coOFXfWf37PXZrDgMOAw4AfBnLO2L60mDJgQmRgQ74fT/M73uuGX9ZGsu7gY4sYeehuHAYcBhwGUsBAznGijGX3ajXVqk+3+u4kZlOdlsclNERiJ+GJ3sBuVWuY20K/clwTI/ggY2i/55wuwbiX45B+xukYPGM4z8kU+9QJ8Ye2k/AJ2A9ipM05eo55EgXUDzDk/0DOq3N6BRu77+WkzYoA57h45zG2fpx6so8clsauUxxH28bVdnsYMhMWhH5jFE2/bR+d5MUXwB5iq2f3FeN5opkaYPeAwTxhPMxpLfPM7zpRjlV+Lr4F8C7kZ0OIgTnhIwxQP/2jD167QpOHEz34sfQDbA05thkEvDNwYAC8YZ+Jb9ggo36Tlyt9XSKORTgMge0tx0ptfNl5/e6JMmBOfvEcW9eacqTTDzemPIb6hBNZL/Nxd+lrE/FiRLRQP+BIKY47DGAgj0Nxe+57cWDy2lcM2r0Opek3YUHwaoaxP6ff8CMQ1ne7znTe5yQRrXXU0REi+t6cJxQyy/K7bHWiEM/gFz0wKZKt7I47qX3qFXTUGsmQ5ZuuZ5+t3Z0NCIiNQ9A54toYh690b9iwYdoXIh55vDGKeP6uxPTBbZg5I08aMFTiL1WSj2uaBHBjAkvkRX2CiLhEfjBDPJPjoMJ4A+Ic/9h85yHe/MSs6STn3oEZM2ao++V8thfw24hDX/twAPlGjhypiTongP6Qj5GTIfgBmCZxiwzgzf+UU05Rw66/3iRpt28EaPMCDnY534wbtiAjaRYhHElw5LGBHEU9WwK3eYGPsq+Ps2Zwh69Tzl17CQYOXwgC5wfEwxotjoqDAIfLxGvyAgTxHHEPh/NtYgh5YcWKFQrXbBBBCB+ElxM3nOrBsxeencwC5y1r/+4nnuBZ0Gzg9A5e6iVyaNRpM/wd0CYLOgsKfaQsxIzQNPhw8BKwaXK+HjeHXsCj0l3ifBpj9TsFBzjnDgPG+IksOAZwk3ednF1nUaUfPGcRLyOn5M4Tl3eXiXs9v5Nypny6rzm3nWeAh5x4sto2f/L8KSv9o4P6q7/yz3/HQgDOkt9+dFYk2yEndVDbyEdQ1IGTIcQo4jx5stDl9NO1Yw+b27Lr4hwwxMImejwnQNtXEvHQ/jME1JSHEzTPyY/7Oz5yPkYDcGyco8dZxPvyMfL7Q+FsINzHxAjaZ+rgigcf2oKrXCiuz/BJifMJCCmciR8QcgQCCndsYub45SPtGXHYQv1fCNf7muwccFQiYZt1/XD3fiChfyPjN3gII6CmDrhokx+8EYgP3wZ4p2LB5diiDXD9ncQRDRwci8JSweEr4lUKfLLgLBLnw7wbjlXGA53FoQvtL5d63xWuliiYM2VRJBCfgY/lHXWWBY1z/ePvuivS5hLxYcvChXclzuWzk/ECnLw9PpyfsNu6acQInfVu+W2ec2Xh4fSQnfZxvrMaCkhoas0w7CLfA57A6DPvCB+uBKTDwc6l/fpFOYvx9indv3OSiOIAmciaBr59f4maen53He/IpHmvhFpecM8d6unh10Ye4ZG+xbkXRn4X5Ru2u63EyQLeY8wZ4kTHgxcoOBvCC3uBbRqxZ0zgL/s5W0vvn/3c3Js8EFQIwZES0wfiZgCHFwCcgjm3DlfTQfp1jngZihfglmiLseB0GI4NH6yILOBE7C2qqRPCidgA57wmbo555r2accCBsk3EaTDEjTPZ1I9DEi+YMvbVmyfotykD3vBahTMRCKRehCxOHI4d7hEnLA8IhwfhMpwqZXEreK8QJXzQXplAxE3aB6dwdYabNxwyOL1YvB7R9kNCwFgADZfHuyPMCrsVfNEOHTrUd4j2+PD32lg84MMQAOaZffVLJw2nOoPF6TIuHfF2xfs0wA6E3dFZsvDggUli0ZtHGb9mjIji+f329sfF/cfRShuOuaCfqnPs8ZGkHz5fpib26KIeuKiXWvTAZPXRvOfUspdfVEueekzNHjFU3dnxBPXa1ImR/Jw84tDA9iIzKy6A5yC2bGHeZ8LGijwV4kZYDq93e4gQZ5PZaqULIEJb41NurdFshY2fxnS1Qz34Vh0mYg8+NPyt2gBRgYDjdg8iQL9icaN2ee6RY98sPlhxckFAtkwDBJJFD2Jh5IpwcLgIxG+sTUDsvsDRw4kuFNd4sSKB2uXMPcSU92QcHbPVRnxAELgg+S6LIO7piE5r+mrq87uWYV4IUU4UEAUxb28S0YEt+7frIYQ44o0JVlwo+3km7jNGRDFeX//jD3H/bfwt2gsQXohOueEWdZScEiolL9YA0TZfvOs29cSQgeqRqy5Vz4wUeeHsJ7R9p8lDpNIe90zNKVmo6VsqV5RC+MYkWB0hGJIBomriEeklqzzcxmyp8xT5cPmI0gEQLjgp2/s+0RmbNWumt/SDxH2d1zNTqu3iIg1uke2tDRBVuCfcoCG3a9myZSS+k50v1j1hJdhqGqfMsfKn+px3hWchiCewSMQYQCfZWoeBeU5coUQBIoXIYL98L1BEMwWQT4cBCxSEEbFHGOD4m50AbhcTBUQV7DwI8RwEcORET0D04OeqMahcKulaWAiRqrh35Ug9mBklA2yf7XoSqcPvhNS2pcuoVn0vUwcd10Zzn58smBfxpORXNyeKOFnU+NQzVawx7LTbHpG+xvJY5ddWYaURnEzHkhFHvPNkq2w8ycTbn6NFgQPHyZbehPo14Zn9tvLUq6NXypbPwECJJW+CpJk0Pj62WsAvQqQhNHyIcAYGINCTxMnvLaJsIRok2y5iCrFdxnVeqsDWlu33Go8PTrydM27jcYgommyLkW8GcXRBfakmMlU/F3uE0y2dL8enLIT6zvwwIkF1xUqPxKPKV/6YdulDGJg4Uz96lEZhZXiGa7fhIj5gcTszP9oqbaK4CVLYmTprVK+ub72KKmS6Zl6sE0sEorliAWBHtjV1xLryXsMIqClv8EZfvM6bTZ50XjURZet76VPzUq6Xs+X8pRvwJ0q0zRPXD1aICX74bJlwnuvU37K11YR7z73Uvoc0UnvtXzuKaw3rR5dRt4c9ztlnyI5GyrYSjSjbyxH5Avp4Owwhg1gi4Mekh60PW3lc6FXP/xC8dSFGYAtsAFMrL8CFoCHmw0WDi7d15Jxe4oiLMwgrIZGJUnmzaOrZBuLo2OuOzNtGPL/Rwtsu05D14smfsB7G5ymu4HCthlgjUSLKNhduxws9ZKw2Xuw+ePPG+5uxAKY9g0tkvubery58igJheUw5lIkLJRoCW2xEFcwP3g9cN4DlAwsk75e5FwSImYCynsUQTpp5gSNnQoUMEbkpHuWNLDeoPr90xuMn7/bmNXniGb+3bDK///sykimd5TIQzNpHH6P/stx02ppjIgY54KURJl3YZCUPKzkaSLS/hCpIFE6TbSJaTD4gzFlQ/lxvadG99bE9CnIobPIyYQlvAedxgmj4kXui6Q0C5Gto8FFgwMWhlLDjmweVC0tHHgrn1EE4TQMm6B+EweaKeQ5HP1jS7QXClPO7wqGh/feLV95ElCXJbFH92jFpJtYW3vsB7EcBOGjEIkFgLAjisRlt0qSJlqFuEGUVnDrKQMOxUz91zBVxD7JY7IeDAOsAwNsm4hXmBcqw1iKPZ14g000GqJt+QNTDiDDjZzGw7VGTaS/eMtvEm9HlSw8GMPkwQntvjSadPLHgPLELxRs9wce8ZjCxyiJXwkiaLT2mPxBtFC7pALgmOGTCyfrZCHrbIAxKS+F6jG2q93kivxEVACg6ABarOcLloiybIB+y/XeliCQgimwv44UpYsbEIof8L9MAoZg2daoWT6DNBkxYl8k+NrmmP4wZUQlbcEKZxILKIv5gUWXXwIJsE1DKmuisk2TBCwK40AfFJAp5M/PKDyCm2JIi350loWKSAfpCeORHJIRNEKAEe1E0/xjex/MdBdWTSLojoolgKw15OVUyX4Jpma2lXeWj+ZNDyyDtBz6aTLgnIhYiQJ8iH1uicLrYjGLShEkMooEgbWei9ZKf0yUoRYgoyqknA5hm+YUagZgZkyeTN9Er8tXpYvbDuAznhqwXkUV32cpj/2r/sQhhrRCvlh5iC6cM0SfWeCYBQn2dcOYoeJAnGk4ZccuZEtmTeOh3i72mH9wgOwpEGBcKd+93us2vTFgaJlco5FBmzpg+vUBW+soBCIgXce0h3kHQQog6lgPYiMajxffWw9jhLin/ntioeoFvil0NTMEAWSSzBUVqO58tpGSyHSbaqaIFRy6JgqaeTFJkX5wOwizjePnYCwjPA2RRbK/YMhNaOVFgVedDZfJjMhIGaLdtpQl5OfZ5UMj2DsXBAvnYsSbgJBTAiSmsCvgYkEUiZ+P0Cdsvgs3FCwQi21kIIFER1goBRoMMkUOOZ59wwhgbboTTUF6AMLWVxeNxicWO3ae9iLwofVwmJ3QgECjJ4KrpN3LjIAN6NMfr8mMAmbZ2kT7G2uKz+zAiB7hPYpsTipfjrZxaw67SBsQenM6hHxz5ZLHiiC1abxYR+oom/aKLLrKLpXSPDB65JgQd7Tvaf2TpK8Q4fqos4Lw/bFS7d//PtjuoQWSiyGAHCeGlbCIAgWa3QTvI1LkeK1p+dj8cOuD7YdEkqmxQFM9E2os3ryOi8WIqTfmIOcM2etiwYfrkhamWCcJRR4isF9gmESjNDzitw4kRiKEX4ESCODwmHts3iA9xwv1gBzGm5mPxIxxs/wwR3UmiE5DPBk49wRUhh+QEENwMRvYQJrabJgIpfYRYcGzVBraVO+bHsDHp4Ih2UIppkMWFtuHQCEmMXSWyMIBAZ0vElMZEuNSJnn/kh4hjSWDkvtT/gByT1SD1E8QPKwO2oshCDVdoqmJxoQxKKv5sAD9hRBQCDz4Igw1ghsX7IkIqRzcLLKaSB9k0hARbVY7z2njDR4J9HFdXGvKPUz8VPDj2y84C86BwoYgXMGKH6zdAX3kfXmLPc96fd17wvpn7nGQD98ZCxNRHW16RgnnGFXtgjjePHzdOPSFRbo2YAZk8YhvmWJjs1q4rXfelhBtI3Oo1Xa2X8HowwWA7DkHbX5QGaK6TAT5E/rwfeKy62EbDCVWLYTITq55En2OXiiaYbRemM7EUaYnWX5Ly8/44bglnbnPTmcQBIhl2T5xwQtZZWADpgvOEg4dYZ0sb7x3v/wFsy/ORf1iKRgAAAABJRU5ErkJggg==\" width=\"200\" align=\"right\" >   \n",
        "<h1> <b>Advanced Topics on Machine Learning </b> </h1>\n",
        "<p><b>Cátia Teixeira</b> (200808037) | <b>Henrique Bastos</b> (202204383) | <b>Ian Karkles</b> (202200596) | <b>Vitor Pereira</b> (202210497)\n",
        "<p>Master in Data Science and Engineering</p>\n",
        "</Body>\n",
        "Faculdade de Engenharia da Universidade do Porto\n",
        "\n",
        "---"
      ]
    },
    {
      "cell_type": "markdown",
      "metadata": {
        "id": "T6Qdy8zaCNdW"
      },
      "source": [
        "# Import Libraries"
      ]
    },
    {
      "cell_type": "code",
      "execution_count": 1,
      "metadata": {
        "id": "QsduErGdNMoX"
      },
      "outputs": [],
      "source": [
        "import pandas as pd\n",
        "import numpy as np\n",
        "import matplotlib.pyplot as plt\n",
        "import seaborn as sns\n",
        "import numpy as np\n",
        "from tqdm import tqdm\n",
        "\n",
        "import torch\n",
        "from torch import nn\n",
        "from torchsummary import summary\n",
        "import pandas as pd\n",
        "import numpy as np\n",
        "import math\n",
        "from sklearn.preprocessing import StandardScaler\n",
        "from sklearn.linear_model import LogisticRegression\n",
        "from sklearn.metrics import classification_report\n",
        "from torch.utils.data import SubsetRandomSampler, DataLoader, Dataset\n",
        "from sklearn.model_selection import train_test_split\n",
        "import torch.optim as optim\n",
        "from sklearn.metrics import ConfusionMatrixDisplay, classification_report\n",
        "import torch.autograd as autograd\n",
        "from torch.utils.data import Dataset, DataLoader, TensorDataset\n",
        "from sklearn.metrics import precision_recall_curve, auc\n",
        "from sklearn.metrics import PrecisionRecallDisplay, RocCurveDisplay, average_precision_score\n",
        "from imblearn.metrics import classification_report_imbalanced\n",
        "from pycaret.classification import *\n"
      ]
    },
    {
      "cell_type": "markdown",
      "metadata": {
        "id": "8V9Ti8VoNMoY"
      },
      "source": [
        "# Data preprocessing"
      ]
    },
    {
      "cell_type": "code",
      "execution_count": 2,
      "metadata": {
        "colab": {
          "base_uri": "https://localhost:8080/"
        },
        "id": "_APDTHmlNWxJ",
        "outputId": "f6788253-6c6c-4164-cf31-166d0cd9a792"
      },
      "outputs": [
        {
          "name": "stdout",
          "output_type": "stream",
          "text": [
            "Mounted at /content/drive\n"
          ]
        }
      ],
      "source": [
        "from google.colab import drive\n",
        "drive.mount('/content/drive')"
      ]
    },
    {
      "cell_type": "code",
      "execution_count": 3,
      "metadata": {
        "id": "uUdTphWMNkU1"
      },
      "outputs": [],
      "source": [
        "df = pd.read_csv('/content/drive/MyDrive/creditcard.csv')\n",
        "#df = pd.read_csv('/Users/henriqueribeiro/Downloads/creditcard.csv')\n",
        "\n",
        "#split df into train and test\n",
        "df_train, df_test = train_test_split(df, test_size=0.2, random_state=42)"
      ]
    },
    {
      "cell_type": "code",
      "execution_count": null,
      "metadata": {
        "colab": {
          "base_uri": "https://localhost:8080/"
        },
        "id": "ph9o2Cf5NMoZ",
        "outputId": "84636853-29dd-4095-9604-6e4aab2fd8ad"
      },
      "outputs": [
        {
          "name": "stdout",
          "output_type": "stream",
          "text": [
            "Train shape:  (227845, 31)\n",
            "Test shape:  (56962, 31)\n"
          ]
        }
      ],
      "source": [
        "#print the characteristics of the dataframes\n",
        "print('Train shape: ', df_train.shape)\n",
        "print('Test shape: ', df_test.shape)"
      ]
    },
    {
      "cell_type": "markdown",
      "metadata": {
        "id": "WrivKx0XCNdZ"
      },
      "source": [
        "# Fraud Dataset Creation"
      ]
    },
    {
      "cell_type": "code",
      "execution_count": 4,
      "metadata": {
        "id": "JceqksjuNMoa"
      },
      "outputs": [],
      "source": [
        "class FraudDataset(Dataset):\n",
        "\n",
        "  def __init__(self, dataframe, fraud = True):\n",
        "    df = dataframe\n",
        "    if fraud:\n",
        "      df = df[df['Class'] == 1]\n",
        "\n",
        "    x = df.iloc[:, 0:-1].values\n",
        "    y = df.iloc[:, -1].values\n",
        "    self.x_data=torch.tensor(x,dtype=torch.float32)\n",
        "    self.y_data=torch.tensor(y,dtype=torch.float32)\n",
        "\n",
        "    self.features = x.shape[1]\n",
        "  def __len__(self):\n",
        "    return len(self.x_data)\n",
        "\n",
        "  def __getitem__(self,idx):\n",
        "    return self.x_data[idx], self.y_data[idx]\n",
        "\n",
        "creditData = FraudDataset(df_train, fraud= True)\n",
        "creditDataTest = FraudDataset(df_test, fraud= True)"
      ]
    },
    {
      "cell_type": "code",
      "execution_count": 5,
      "metadata": {
        "id": "SJTTtpQvNMoa"
      },
      "outputs": [],
      "source": [
        "train_dataloader = DataLoader(creditData, batch_size=32, drop_last=True)\n",
        "test_dataloader = DataLoader(creditDataTest, batch_size=32, drop_last=True)"
      ]
    },
    {
      "cell_type": "markdown",
      "metadata": {
        "id": "fI9MIbrwNMoa"
      },
      "source": [
        "## Unconditional Vanilla GAN - Data Augmentation"
      ]
    },
    {
      "cell_type": "markdown",
      "metadata": {
        "id": "ucz3lOzUNMoa"
      },
      "source": [
        "### Architecture"
      ]
    },
    {
      "cell_type": "code",
      "execution_count": 6,
      "metadata": {
        "id": "s7ctWrc8NMob"
      },
      "outputs": [],
      "source": [
        "class Generator(nn.Module):\n",
        "    def __init__(self, latent_dim, nr_features):\n",
        "        super().__init__()\n",
        "        self.layers = nn.Sequential(\n",
        "        nn.Linear(latent_dim, 1024),\n",
        "        nn.ReLU(),\n",
        "        nn.Dropout(0.2),\n",
        "        nn.Linear(1024, 512),\n",
        "        nn.ReLU(),\n",
        "        nn.Dropout(0.2),\n",
        "        nn.Linear(512, 256),\n",
        "        nn.ReLU(),\n",
        "        nn.Dropout(0.2),\n",
        "        nn.Linear(256, 128),\n",
        "        nn.ReLU(),\n",
        "        nn.Dropout(0.2),\n",
        "        nn.Linear(128, 64),\n",
        "        nn.ReLU(),\n",
        "        nn.Dropout(0.2),\n",
        "        nn.Linear(64, 32),\n",
        "        nn.ReLU(),\n",
        "        nn.Dropout(0.2),\n",
        "        nn.Linear(32, 16),\n",
        "        nn.ReLU(),\n",
        "        nn.Dropout(0.2),\n",
        "        nn.Linear(16, nr_features),\n",
        "        )\n",
        "\n",
        "    def forward(self, x):\n",
        "        for layer in self.layers:\n",
        "            x = layer(x)\n",
        "\n",
        "        return x"
      ]
    },
    {
      "cell_type": "code",
      "execution_count": 7,
      "metadata": {
        "id": "9X1MEgjONMob"
      },
      "outputs": [],
      "source": [
        "class Discriminator(nn.Module):\n",
        "    def __init__(self, nr_features):\n",
        "        super().__init__()\n",
        "        self.layers = nn.Sequential(\n",
        "        nn.Linear(nr_features, 256),\n",
        "        nn.ReLU(),\n",
        "        nn.Dropout(0.2),\n",
        "\n",
        "        nn.Linear(256, 128),\n",
        "        nn.ReLU(),\n",
        "        nn.Dropout(0.2),\n",
        "\n",
        "        nn.Linear(128, 64),\n",
        "        nn.ReLU(),\n",
        "        nn.Dropout(0.2),\n",
        "\n",
        "        nn.Linear(64, 32),\n",
        "        nn.ReLU(),\n",
        "        nn.Dropout(0.2),\n",
        "\n",
        "        nn.Linear(32, 16),\n",
        "        nn.ReLU(),\n",
        "        nn.Dropout(0.2),\n",
        "\n",
        "        nn.Linear(16, 1),\n",
        "\n",
        "        )\n",
        "    def forward(self, x):\n",
        "        for layer in self.layers:\n",
        "            x = layer(x)\n",
        "\n",
        "        return torch.sigmoid(x)"
      ]
    },
    {
      "cell_type": "code",
      "execution_count": 8,
      "metadata": {
        "id": "mgP_9IHZNMoc"
      },
      "outputs": [],
      "source": [
        "class GAN:\n",
        "    def __init__(self, train_df, latent_size=128):\n",
        "        self.lr = 0.00005\n",
        "        self.batch_size = 16\n",
        "        self.n_critic = 1\n",
        "        self.clip_value = 0.0001\n",
        "        self.cur_batch_size = 64\n",
        "        self.latent_dim = 128\n",
        "        self.criterion = nn.BCELoss()\n",
        "        self.device = torch.device('cuda:0' if torch.cuda.is_available() else 'cpu')\n",
        "\n",
        "        self.dataset = FraudDataset(train_df, fraud= True)\n",
        "        self.dataloader = DataLoader(self.dataset, self.batch_size, shuffle=True)\n",
        "\n",
        "        self.G = Generator(latent_dim=latent_size, nr_features=self.dataset.features).to(self.device)\n",
        "        self.D = Discriminator(nr_features=self.dataset.features).to(self.device)\n",
        "        self.latent_size = latent_size\n",
        "\n",
        "        self.g_optimizer = torch.optim.Adam(self.G.parameters(), self.lr)\n",
        "        self.d_optimizer = torch.optim.Adam(self.D.parameters(), self.lr)\n",
        "\n",
        "\n",
        "\n",
        "\n",
        "\n",
        "    def train_generator(self,real_data):\n",
        "        # Clear generator gradients\n",
        "        self.g_optimizer.zero_grad()\n",
        "\n",
        "        fake_targets = torch.ones(real_data.size(0)).to(self.device)\n",
        "        fake_targets = fake_targets - 0.1\n",
        "\n",
        "        # Random noise from a uniform distribution\n",
        "        latent_space_samples = torch.randn(real_data.size(0), self.latent_dim).to(self.device)\n",
        "        generated_data = self.G(latent_space_samples)  # Fake data generated by the generator\n",
        "        fake_preds = self.D(generated_data).reshape(-1)\n",
        "\n",
        "        g_loss = self.criterion(fake_preds, fake_targets)\n",
        "        g_loss.backward()\n",
        "        self.g_optimizer.step()\n",
        "\n",
        "        return g_loss, generated_data\n",
        "\n",
        "    def train_discriminator(self, real_data, real_labels):\n",
        "        self.d_optimizer.zero_grad()\n",
        "        real_labels = torch.ones(real_data.size(0)).to(self.device) * 0.9\n",
        "\n",
        "        real_preds = self.D(real_data).reshape(-1)\n",
        "        d_loss_real = self.criterion(real_preds, real_labels)\n",
        "\n",
        "        fake_labels = torch.zeros(self.cur_batch_size).to(self.device) * 0.1\n",
        "\n",
        "        # random noise from uniform distribution\n",
        "        latent_space_samples = torch.randn(self.cur_batch_size, self.latent_dim).to(self.device)\n",
        "\n",
        "\n",
        "        generated_data = self.G(latent_space_samples).detach()\n",
        "        fake_preds = self.D(generated_data).reshape(-1)\n",
        "        d_loss_fake = self.criterion(fake_preds, fake_labels)\n",
        "\n",
        "\n",
        "        loss = d_loss_real + d_loss_fake\n",
        "\n",
        "        # Compute gradients\n",
        "        loss.backward()\n",
        "        # Adjust the parameters using backprop\n",
        "        self.d_optimizer.step()\n",
        "\n",
        "\n",
        "        return loss\n",
        "\n",
        "    def train(self,real_data, epochs=1000):\n",
        "        losses_gen = []\n",
        "        losses_dis = []\n",
        "        for epoch in range(0,epochs):\n",
        "            for i, (real_data, real_labels)  in enumerate(self.dataloader):\n",
        "                real_data, real_labels = real_data.to(self.device), real_labels.to(self.device)\n",
        "                # Train discriminator\n",
        "                d_error = self.train_discriminator(real_data, real_labels)\n",
        "                # Train generator every n_critic iterations\n",
        "                if i % self.n_critic == 0:\n",
        "                    g_error, _ = self.train_generator(real_data)\n",
        "                losses_gen.append(g_error)\n",
        "                losses_dis.append(d_error)\n",
        "\n",
        "            print('Epoch [{}/{}], Step [{}/{}], d_loss: {:.4f}, g_loss: {:.4f} \\n'\n",
        "                .format(epoch+1, epochs, i+1, len(self.dataloader), d_error.item(), g_error.item()))\n",
        "\n",
        "        return losses_gen, losses_dis\n",
        "\n",
        "\n",
        "\n",
        "    def sample(self, count):\n",
        "        with torch.no_grad():\n",
        "            z = torch.Tensor(np.random.normal(0, 1, (count, self.latent_size))).to(self.device)\n",
        "            gen = self.G(z)\n",
        "            return gen.cpu().numpy()"
      ]
    },
    {
      "cell_type": "markdown",
      "metadata": {
        "id": "IM6AGv1UCNdb"
      },
      "source": [
        "### Training the model"
      ]
    },
    {
      "cell_type": "code",
      "execution_count": 9,
      "metadata": {
        "id": "hIC8bCoFNMoc"
      },
      "outputs": [],
      "source": [
        "gan = GAN(df_train)"
      ]
    },
    {
      "cell_type": "code",
      "execution_count": 10,
      "metadata": {
        "colab": {
          "base_uri": "https://localhost:8080/"
        },
        "id": "EXkfNgcJNMoc",
        "outputId": "c347ed96-d536-4a72-fa3b-8298da793481"
      },
      "outputs": [
        {
          "name": "stdout",
          "output_type": "stream",
          "text": [
            "Epoch [1/1000], Step [25/25], d_loss: 30.3641, g_loss: 0.6330 \n",
            "\n",
            "Epoch [2/1000], Step [25/25], d_loss: 9.9368, g_loss: 0.6299 \n",
            "\n",
            "Epoch [3/1000], Step [25/25], d_loss: 9.8590, g_loss: 0.6345 \n",
            "\n",
            "Epoch [4/1000], Step [25/25], d_loss: 13.4957, g_loss: 0.6354 \n",
            "\n",
            "Epoch [5/1000], Step [25/25], d_loss: 16.3572, g_loss: 0.6406 \n",
            "\n",
            "Epoch [6/1000], Step [25/25], d_loss: 8.1848, g_loss: 0.6397 \n",
            "\n",
            "Epoch [7/1000], Step [25/25], d_loss: 9.7967, g_loss: 0.6395 \n",
            "\n",
            "Epoch [8/1000], Step [25/25], d_loss: 9.8936, g_loss: 0.6438 \n",
            "\n",
            "Epoch [9/1000], Step [25/25], d_loss: 10.7599, g_loss: 0.6431 \n",
            "\n",
            "Epoch [10/1000], Step [25/25], d_loss: 9.8395, g_loss: 0.6475 \n",
            "\n",
            "Epoch [11/1000], Step [25/25], d_loss: 10.7544, g_loss: 0.6453 \n",
            "\n",
            "Epoch [12/1000], Step [25/25], d_loss: 10.7511, g_loss: 0.6493 \n",
            "\n",
            "Epoch [13/1000], Step [25/25], d_loss: 10.7485, g_loss: 0.6548 \n",
            "\n",
            "Epoch [14/1000], Step [25/25], d_loss: 9.9064, g_loss: 0.6527 \n",
            "\n",
            "Epoch [15/1000], Step [25/25], d_loss: 10.7436, g_loss: 0.6525 \n",
            "\n",
            "Epoch [16/1000], Step [25/25], d_loss: 11.3862, g_loss: 0.6549 \n",
            "\n",
            "Epoch [17/1000], Step [25/25], d_loss: 10.7371, g_loss: 0.6581 \n",
            "\n",
            "Epoch [18/1000], Step [25/25], d_loss: 10.7373, g_loss: 0.6584 \n",
            "\n",
            "Epoch [19/1000], Step [25/25], d_loss: 10.7355, g_loss: 0.6585 \n",
            "\n",
            "Epoch [20/1000], Step [25/25], d_loss: 9.8511, g_loss: 0.6607 \n",
            "\n",
            "Epoch [21/1000], Step [25/25], d_loss: 9.8499, g_loss: 0.6615 \n",
            "\n",
            "Epoch [22/1000], Step [25/25], d_loss: 10.7315, g_loss: 0.6647 \n",
            "\n",
            "Epoch [23/1000], Step [25/25], d_loss: 10.7292, g_loss: 0.6628 \n",
            "\n",
            "Epoch [24/1000], Step [25/25], d_loss: 10.7299, g_loss: 0.6641 \n",
            "\n",
            "Epoch [25/1000], Step [25/25], d_loss: 8.9050, g_loss: 0.6681 \n",
            "\n",
            "Epoch [26/1000], Step [25/25], d_loss: 9.7594, g_loss: 0.6688 \n",
            "\n",
            "Epoch [27/1000], Step [25/25], d_loss: 9.8648, g_loss: 0.6693 \n",
            "\n",
            "Epoch [28/1000], Step [25/25], d_loss: 9.7619, g_loss: 0.6711 \n",
            "\n",
            "Epoch [29/1000], Step [25/25], d_loss: 10.7231, g_loss: 0.6687 \n",
            "\n",
            "Epoch [30/1000], Step [25/25], d_loss: 9.8745, g_loss: 0.6700 \n",
            "\n",
            "Epoch [31/1000], Step [25/25], d_loss: 9.8275, g_loss: 0.6737 \n",
            "\n",
            "Epoch [32/1000], Step [25/25], d_loss: 10.7191, g_loss: 0.6708 \n",
            "\n",
            "Epoch [33/1000], Step [25/25], d_loss: 9.8788, g_loss: 0.6727 \n",
            "\n",
            "Epoch [34/1000], Step [25/25], d_loss: 10.7160, g_loss: 0.6735 \n",
            "\n",
            "Epoch [35/1000], Step [25/25], d_loss: 8.8537, g_loss: 0.6760 \n",
            "\n",
            "Epoch [36/1000], Step [25/25], d_loss: 10.7145, g_loss: 0.6762 \n",
            "\n",
            "Epoch [37/1000], Step [25/25], d_loss: 10.7158, g_loss: 0.6755 \n",
            "\n",
            "Epoch [38/1000], Step [25/25], d_loss: 8.9490, g_loss: 0.6792 \n",
            "\n",
            "Epoch [39/1000], Step [25/25], d_loss: 9.8140, g_loss: 0.6787 \n",
            "\n",
            "Epoch [40/1000], Step [25/25], d_loss: 9.8022, g_loss: 0.6803 \n",
            "\n",
            "Epoch [41/1000], Step [25/25], d_loss: 8.9713, g_loss: 0.6794 \n",
            "\n",
            "Epoch [42/1000], Step [25/25], d_loss: 9.8023, g_loss: 0.6811 \n",
            "\n",
            "Epoch [43/1000], Step [25/25], d_loss: 10.7077, g_loss: 0.6797 \n",
            "\n",
            "Epoch [44/1000], Step [25/25], d_loss: 10.7058, g_loss: 0.6812 \n",
            "\n",
            "Epoch [45/1000], Step [25/25], d_loss: 10.7040, g_loss: 0.6831 \n",
            "\n",
            "Epoch [46/1000], Step [25/25], d_loss: 10.7030, g_loss: 0.6839 \n",
            "\n",
            "Epoch [47/1000], Step [25/25], d_loss: 10.7007, g_loss: 0.6905 \n",
            "\n",
            "Epoch [48/1000], Step [25/25], d_loss: 8.8483, g_loss: 0.6834 \n",
            "\n",
            "Epoch [49/1000], Step [25/25], d_loss: 10.6994, g_loss: 0.6866 \n",
            "\n",
            "Epoch [50/1000], Step [25/25], d_loss: 10.6969, g_loss: 0.6934 \n",
            "\n",
            "Epoch [51/1000], Step [25/25], d_loss: 8.8527, g_loss: 0.6931 \n",
            "\n",
            "Epoch [52/1000], Step [25/25], d_loss: 8.8400, g_loss: 0.6920 \n",
            "\n",
            "Epoch [53/1000], Step [25/25], d_loss: 9.7224, g_loss: 0.6969 \n",
            "\n",
            "Epoch [54/1000], Step [25/25], d_loss: 10.6836, g_loss: 0.6964 \n",
            "\n",
            "Epoch [55/1000], Step [25/25], d_loss: 8.8911, g_loss: 0.6996 \n",
            "\n",
            "Epoch [56/1000], Step [25/25], d_loss: 10.6838, g_loss: 0.7042 \n",
            "\n",
            "Epoch [57/1000], Step [25/25], d_loss: 9.8056, g_loss: 0.6998 \n",
            "\n",
            "Epoch [58/1000], Step [25/25], d_loss: 10.6763, g_loss: 0.6963 \n",
            "\n",
            "Epoch [59/1000], Step [25/25], d_loss: 10.6719, g_loss: 0.7116 \n",
            "\n",
            "Epoch [60/1000], Step [25/25], d_loss: 9.7732, g_loss: 0.7132 \n",
            "\n",
            "Epoch [61/1000], Step [25/25], d_loss: 9.7664, g_loss: 0.7127 \n",
            "\n",
            "Epoch [62/1000], Step [25/25], d_loss: 9.7896, g_loss: 0.7187 \n",
            "\n",
            "Epoch [63/1000], Step [25/25], d_loss: 9.7136, g_loss: 0.7143 \n",
            "\n",
            "Epoch [64/1000], Step [25/25], d_loss: 9.8331, g_loss: 0.7253 \n",
            "\n",
            "Epoch [65/1000], Step [25/25], d_loss: 9.6789, g_loss: 0.7492 \n",
            "\n",
            "Epoch [66/1000], Step [25/25], d_loss: 10.6425, g_loss: 0.7234 \n",
            "\n",
            "Epoch [67/1000], Step [25/25], d_loss: 10.6333, g_loss: 0.7414 \n",
            "\n",
            "Epoch [68/1000], Step [25/25], d_loss: 10.6333, g_loss: 0.7548 \n",
            "\n",
            "Epoch [69/1000], Step [25/25], d_loss: 10.6235, g_loss: 0.7389 \n",
            "\n",
            "Epoch [70/1000], Step [25/25], d_loss: 8.7494, g_loss: 0.7556 \n",
            "\n",
            "Epoch [71/1000], Step [25/25], d_loss: 10.2374, g_loss: 0.7386 \n",
            "\n",
            "Epoch [72/1000], Step [25/25], d_loss: 8.8102, g_loss: 0.7638 \n",
            "\n",
            "Epoch [73/1000], Step [25/25], d_loss: 11.8451, g_loss: 0.7787 \n",
            "\n",
            "Epoch [74/1000], Step [25/25], d_loss: 9.6689, g_loss: 0.7655 \n",
            "\n",
            "Epoch [75/1000], Step [25/25], d_loss: 9.7102, g_loss: 0.7907 \n",
            "\n",
            "Epoch [76/1000], Step [25/25], d_loss: 8.8243, g_loss: 0.8562 \n",
            "\n",
            "Epoch [77/1000], Step [25/25], d_loss: 10.5709, g_loss: 0.7822 \n",
            "\n",
            "Epoch [78/1000], Step [25/25], d_loss: 9.6542, g_loss: 0.8261 \n",
            "\n",
            "Epoch [79/1000], Step [25/25], d_loss: 8.7495, g_loss: 0.8213 \n",
            "\n",
            "Epoch [80/1000], Step [25/25], d_loss: 9.6368, g_loss: 0.8459 \n",
            "\n",
            "Epoch [81/1000], Step [25/25], d_loss: 9.5868, g_loss: 0.8320 \n",
            "\n",
            "Epoch [82/1000], Step [25/25], d_loss: 9.5388, g_loss: 0.8975 \n",
            "\n",
            "Epoch [83/1000], Step [25/25], d_loss: 9.6284, g_loss: 0.8863 \n",
            "\n",
            "Epoch [84/1000], Step [25/25], d_loss: 10.5019, g_loss: 0.8983 \n",
            "\n",
            "Epoch [85/1000], Step [25/25], d_loss: 9.5866, g_loss: 0.9303 \n",
            "\n",
            "Epoch [86/1000], Step [25/25], d_loss: 10.4878, g_loss: 0.9327 \n",
            "\n",
            "Epoch [87/1000], Step [25/25], d_loss: 8.6462, g_loss: 1.0137 \n",
            "\n",
            "Epoch [88/1000], Step [25/25], d_loss: 9.6268, g_loss: 0.9767 \n",
            "\n",
            "Epoch [89/1000], Step [25/25], d_loss: 10.4759, g_loss: 0.9324 \n",
            "\n",
            "Epoch [90/1000], Step [25/25], d_loss: 8.7029, g_loss: 1.0342 \n",
            "\n",
            "Epoch [91/1000], Step [25/25], d_loss: 9.6189, g_loss: 1.0500 \n",
            "\n",
            "Epoch [92/1000], Step [25/25], d_loss: 9.5248, g_loss: 1.0611 \n",
            "\n",
            "Epoch [93/1000], Step [25/25], d_loss: 9.5195, g_loss: 1.1529 \n",
            "\n",
            "Epoch [94/1000], Step [25/25], d_loss: 8.5786, g_loss: 1.1891 \n",
            "\n",
            "Epoch [95/1000], Step [25/25], d_loss: 7.6689, g_loss: 1.0966 \n",
            "\n",
            "Epoch [96/1000], Step [25/25], d_loss: 10.3246, g_loss: 1.3039 \n",
            "\n",
            "Epoch [97/1000], Step [25/25], d_loss: 8.4612, g_loss: 1.1250 \n",
            "\n",
            "Epoch [98/1000], Step [25/25], d_loss: 9.4835, g_loss: 1.2104 \n",
            "\n",
            "Epoch [99/1000], Step [25/25], d_loss: 9.3480, g_loss: 1.6818 \n",
            "\n",
            "Epoch [100/1000], Step [25/25], d_loss: 8.5262, g_loss: 1.2895 \n",
            "\n",
            "Epoch [101/1000], Step [25/25], d_loss: 9.3478, g_loss: 1.3691 \n",
            "\n",
            "Epoch [102/1000], Step [25/25], d_loss: 10.2842, g_loss: 1.4261 \n",
            "\n",
            "Epoch [103/1000], Step [25/25], d_loss: 8.5234, g_loss: 1.6182 \n",
            "\n",
            "Epoch [104/1000], Step [25/25], d_loss: 9.3861, g_loss: 1.7458 \n",
            "\n",
            "Epoch [105/1000], Step [25/25], d_loss: 10.2460, g_loss: 1.4387 \n",
            "\n",
            "Epoch [106/1000], Step [25/25], d_loss: 10.2284, g_loss: 1.5495 \n",
            "\n",
            "Epoch [107/1000], Step [25/25], d_loss: 8.3945, g_loss: 1.7167 \n",
            "\n",
            "Epoch [108/1000], Step [25/25], d_loss: 9.3344, g_loss: 1.5295 \n",
            "\n",
            "Epoch [109/1000], Step [25/25], d_loss: 7.5052, g_loss: 2.0982 \n",
            "\n",
            "Epoch [110/1000], Step [25/25], d_loss: 9.2494, g_loss: 1.4542 \n",
            "\n",
            "Epoch [111/1000], Step [25/25], d_loss: 10.2289, g_loss: 2.0348 \n",
            "\n",
            "Epoch [112/1000], Step [25/25], d_loss: 9.3257, g_loss: 1.8924 \n",
            "\n",
            "Epoch [113/1000], Step [25/25], d_loss: 7.6408, g_loss: 1.9248 \n",
            "\n",
            "Epoch [114/1000], Step [25/25], d_loss: 9.2531, g_loss: 1.7784 \n",
            "\n",
            "Epoch [115/1000], Step [25/25], d_loss: 8.3465, g_loss: 2.6194 \n",
            "\n",
            "Epoch [116/1000], Step [25/25], d_loss: 7.3691, g_loss: 2.5037 \n",
            "\n",
            "Epoch [117/1000], Step [25/25], d_loss: 10.1599, g_loss: 2.3646 \n",
            "\n",
            "Epoch [118/1000], Step [25/25], d_loss: 7.3625, g_loss: 1.9782 \n",
            "\n",
            "Epoch [119/1000], Step [25/25], d_loss: 8.3686, g_loss: 1.9342 \n",
            "\n",
            "Epoch [120/1000], Step [25/25], d_loss: 9.1953, g_loss: 2.6076 \n",
            "\n",
            "Epoch [121/1000], Step [25/25], d_loss: 9.1626, g_loss: 2.4900 \n",
            "\n",
            "Epoch [122/1000], Step [25/25], d_loss: 8.2666, g_loss: 2.9912 \n",
            "\n",
            "Epoch [123/1000], Step [25/25], d_loss: 8.3054, g_loss: 2.7658 \n",
            "\n",
            "Epoch [124/1000], Step [25/25], d_loss: 9.2490, g_loss: 2.3703 \n",
            "\n",
            "Epoch [125/1000], Step [25/25], d_loss: 6.5034, g_loss: 2.7724 \n",
            "\n",
            "Epoch [126/1000], Step [25/25], d_loss: 7.4485, g_loss: 1.9187 \n",
            "\n",
            "Epoch [127/1000], Step [25/25], d_loss: 6.3780, g_loss: 2.8654 \n",
            "\n",
            "Epoch [128/1000], Step [25/25], d_loss: 6.5530, g_loss: 2.0184 \n",
            "\n",
            "Epoch [129/1000], Step [25/25], d_loss: 9.4438, g_loss: 2.5490 \n",
            "\n",
            "Epoch [130/1000], Step [25/25], d_loss: 7.4016, g_loss: 2.8966 \n",
            "\n",
            "Epoch [131/1000], Step [25/25], d_loss: 4.5773, g_loss: 3.7855 \n",
            "\n",
            "Epoch [132/1000], Step [25/25], d_loss: 9.2725, g_loss: 3.1973 \n",
            "\n",
            "Epoch [133/1000], Step [25/25], d_loss: 7.5075, g_loss: 2.4931 \n",
            "\n",
            "Epoch [134/1000], Step [25/25], d_loss: 9.2341, g_loss: 2.7258 \n",
            "\n",
            "Epoch [135/1000], Step [25/25], d_loss: 8.2406, g_loss: 3.1363 \n",
            "\n",
            "Epoch [136/1000], Step [25/25], d_loss: 7.3092, g_loss: 2.6770 \n",
            "\n",
            "Epoch [137/1000], Step [25/25], d_loss: 7.4498, g_loss: 3.4572 \n",
            "\n",
            "Epoch [138/1000], Step [25/25], d_loss: 4.5274, g_loss: 2.9311 \n",
            "\n",
            "Epoch [139/1000], Step [25/25], d_loss: 4.4095, g_loss: 3.2770 \n",
            "\n",
            "Epoch [140/1000], Step [25/25], d_loss: 7.3614, g_loss: 2.9870 \n",
            "\n",
            "Epoch [141/1000], Step [25/25], d_loss: 5.4318, g_loss: 3.4397 \n",
            "\n",
            "Epoch [142/1000], Step [25/25], d_loss: 4.7723, g_loss: 3.4147 \n",
            "\n",
            "Epoch [143/1000], Step [25/25], d_loss: 6.4746, g_loss: 2.6292 \n",
            "\n",
            "Epoch [144/1000], Step [25/25], d_loss: 2.6249, g_loss: 2.9700 \n",
            "\n",
            "Epoch [145/1000], Step [25/25], d_loss: 3.7410, g_loss: 4.2594 \n",
            "\n",
            "Epoch [146/1000], Step [25/25], d_loss: 7.1140, g_loss: 4.2011 \n",
            "\n",
            "Epoch [147/1000], Step [25/25], d_loss: 5.9207, g_loss: 3.8598 \n",
            "\n",
            "Epoch [148/1000], Step [25/25], d_loss: 6.3141, g_loss: 4.5952 \n",
            "\n",
            "Epoch [149/1000], Step [25/25], d_loss: 3.6523, g_loss: 3.5088 \n",
            "\n",
            "Epoch [150/1000], Step [25/25], d_loss: 4.9043, g_loss: 3.8550 \n",
            "\n",
            "Epoch [151/1000], Step [25/25], d_loss: 4.8571, g_loss: 3.6223 \n",
            "\n",
            "Epoch [152/1000], Step [25/25], d_loss: 5.3310, g_loss: 3.1887 \n",
            "\n",
            "Epoch [153/1000], Step [25/25], d_loss: 2.8381, g_loss: 3.9380 \n",
            "\n",
            "Epoch [154/1000], Step [25/25], d_loss: 4.7653, g_loss: 3.5409 \n",
            "\n",
            "Epoch [155/1000], Step [25/25], d_loss: 5.9142, g_loss: 4.0347 \n",
            "\n",
            "Epoch [156/1000], Step [25/25], d_loss: 4.5988, g_loss: 2.9622 \n",
            "\n",
            "Epoch [157/1000], Step [25/25], d_loss: 1.8527, g_loss: 3.8721 \n",
            "\n",
            "Epoch [158/1000], Step [25/25], d_loss: 2.6714, g_loss: 4.2580 \n",
            "\n",
            "Epoch [159/1000], Step [25/25], d_loss: 4.5127, g_loss: 3.5968 \n",
            "\n",
            "Epoch [160/1000], Step [25/25], d_loss: 2.9107, g_loss: 4.9634 \n",
            "\n",
            "Epoch [161/1000], Step [25/25], d_loss: 2.8179, g_loss: 4.0145 \n",
            "\n",
            "Epoch [162/1000], Step [25/25], d_loss: 3.5835, g_loss: 3.7976 \n",
            "\n",
            "Epoch [163/1000], Step [25/25], d_loss: 3.7231, g_loss: 3.5733 \n",
            "\n",
            "Epoch [164/1000], Step [25/25], d_loss: 2.5198, g_loss: 3.4216 \n",
            "\n",
            "Epoch [165/1000], Step [25/25], d_loss: 2.7376, g_loss: 3.5458 \n",
            "\n",
            "Epoch [166/1000], Step [25/25], d_loss: 1.6700, g_loss: 4.3720 \n",
            "\n",
            "Epoch [167/1000], Step [25/25], d_loss: 1.0789, g_loss: 3.9330 \n",
            "\n",
            "Epoch [168/1000], Step [25/25], d_loss: 1.5978, g_loss: 4.8369 \n",
            "\n",
            "Epoch [169/1000], Step [25/25], d_loss: 1.8246, g_loss: 4.8029 \n",
            "\n",
            "Epoch [170/1000], Step [25/25], d_loss: 2.4616, g_loss: 4.8774 \n",
            "\n",
            "Epoch [171/1000], Step [25/25], d_loss: 0.5724, g_loss: 4.3212 \n",
            "\n",
            "Epoch [172/1000], Step [25/25], d_loss: 1.7489, g_loss: 4.3149 \n",
            "\n",
            "Epoch [173/1000], Step [25/25], d_loss: 0.8764, g_loss: 3.5368 \n",
            "\n",
            "Epoch [174/1000], Step [25/25], d_loss: 0.9537, g_loss: 4.1031 \n",
            "\n",
            "Epoch [175/1000], Step [25/25], d_loss: 1.6589, g_loss: 4.1536 \n",
            "\n",
            "Epoch [176/1000], Step [25/25], d_loss: 1.4914, g_loss: 4.8611 \n",
            "\n",
            "Epoch [177/1000], Step [25/25], d_loss: 2.6302, g_loss: 4.2482 \n",
            "\n",
            "Epoch [178/1000], Step [25/25], d_loss: 0.9296, g_loss: 4.7859 \n",
            "\n",
            "Epoch [179/1000], Step [25/25], d_loss: 0.6126, g_loss: 4.9682 \n",
            "\n",
            "Epoch [180/1000], Step [25/25], d_loss: 0.5842, g_loss: 3.9983 \n",
            "\n",
            "Epoch [181/1000], Step [25/25], d_loss: 0.6373, g_loss: 3.7787 \n",
            "\n",
            "Epoch [182/1000], Step [25/25], d_loss: 2.0177, g_loss: 5.4829 \n",
            "\n",
            "Epoch [183/1000], Step [25/25], d_loss: 1.0493, g_loss: 5.8755 \n",
            "\n",
            "Epoch [184/1000], Step [25/25], d_loss: 0.5599, g_loss: 4.0824 \n",
            "\n",
            "Epoch [185/1000], Step [25/25], d_loss: 4.3958, g_loss: 4.8242 \n",
            "\n",
            "Epoch [186/1000], Step [25/25], d_loss: 2.0511, g_loss: 5.8981 \n",
            "\n",
            "Epoch [187/1000], Step [25/25], d_loss: 0.7089, g_loss: 3.9881 \n",
            "\n",
            "Epoch [188/1000], Step [25/25], d_loss: 0.6387, g_loss: 2.6721 \n",
            "\n",
            "Epoch [189/1000], Step [25/25], d_loss: 1.5463, g_loss: 4.6782 \n",
            "\n",
            "Epoch [190/1000], Step [25/25], d_loss: 1.6165, g_loss: 4.6049 \n",
            "\n",
            "Epoch [191/1000], Step [25/25], d_loss: 0.6942, g_loss: 4.0907 \n",
            "\n",
            "Epoch [192/1000], Step [25/25], d_loss: 1.6337, g_loss: 5.4000 \n",
            "\n",
            "Epoch [193/1000], Step [25/25], d_loss: 1.6470, g_loss: 3.7125 \n",
            "\n",
            "Epoch [194/1000], Step [25/25], d_loss: 1.5229, g_loss: 5.3722 \n",
            "\n",
            "Epoch [195/1000], Step [25/25], d_loss: 0.5072, g_loss: 5.4467 \n",
            "\n",
            "Epoch [196/1000], Step [25/25], d_loss: 0.6339, g_loss: 3.2002 \n",
            "\n",
            "Epoch [197/1000], Step [25/25], d_loss: 0.5176, g_loss: 4.1445 \n",
            "\n",
            "Epoch [198/1000], Step [25/25], d_loss: 1.8866, g_loss: 4.0623 \n",
            "\n",
            "Epoch [199/1000], Step [25/25], d_loss: 1.7045, g_loss: 3.4577 \n",
            "\n",
            "Epoch [200/1000], Step [25/25], d_loss: 0.6841, g_loss: 4.3521 \n",
            "\n",
            "Epoch [201/1000], Step [25/25], d_loss: 1.6717, g_loss: 6.8113 \n",
            "\n",
            "Epoch [202/1000], Step [25/25], d_loss: 0.6209, g_loss: 3.4898 \n",
            "\n",
            "Epoch [203/1000], Step [25/25], d_loss: 0.6244, g_loss: 3.2541 \n",
            "\n",
            "Epoch [204/1000], Step [25/25], d_loss: 5.7546, g_loss: 3.4143 \n",
            "\n",
            "Epoch [205/1000], Step [25/25], d_loss: 1.7187, g_loss: 2.9382 \n",
            "\n",
            "Epoch [206/1000], Step [25/25], d_loss: 0.8080, g_loss: 3.2577 \n",
            "\n",
            "Epoch [207/1000], Step [25/25], d_loss: 0.7876, g_loss: 1.5859 \n",
            "\n",
            "Epoch [208/1000], Step [25/25], d_loss: 0.8179, g_loss: 7.5864 \n",
            "\n",
            "Epoch [209/1000], Step [25/25], d_loss: 0.8296, g_loss: 2.6413 \n",
            "\n",
            "Epoch [210/1000], Step [25/25], d_loss: 1.9074, g_loss: 4.4729 \n",
            "\n",
            "Epoch [211/1000], Step [25/25], d_loss: 0.7818, g_loss: 3.0178 \n",
            "\n",
            "Epoch [212/1000], Step [25/25], d_loss: 0.9612, g_loss: 2.9157 \n",
            "\n",
            "Epoch [213/1000], Step [25/25], d_loss: 2.8681, g_loss: 2.3700 \n",
            "\n",
            "Epoch [214/1000], Step [25/25], d_loss: 0.9585, g_loss: 1.2947 \n",
            "\n",
            "Epoch [215/1000], Step [25/25], d_loss: 0.9453, g_loss: 3.4615 \n",
            "\n",
            "Epoch [216/1000], Step [25/25], d_loss: 1.9037, g_loss: 1.5848 \n",
            "\n",
            "Epoch [217/1000], Step [25/25], d_loss: 1.5440, g_loss: 1.5214 \n",
            "\n",
            "Epoch [218/1000], Step [25/25], d_loss: 1.1388, g_loss: 2.7652 \n",
            "\n",
            "Epoch [219/1000], Step [25/25], d_loss: 1.0425, g_loss: 1.2234 \n",
            "\n",
            "Epoch [220/1000], Step [25/25], d_loss: 0.9246, g_loss: 0.7242 \n",
            "\n",
            "Epoch [221/1000], Step [25/25], d_loss: 1.0651, g_loss: 0.7341 \n",
            "\n",
            "Epoch [222/1000], Step [25/25], d_loss: 1.0704, g_loss: 0.7286 \n",
            "\n",
            "Epoch [223/1000], Step [25/25], d_loss: 1.0807, g_loss: 1.8592 \n",
            "\n",
            "Epoch [224/1000], Step [25/25], d_loss: 1.9591, g_loss: 1.6034 \n",
            "\n",
            "Epoch [225/1000], Step [25/25], d_loss: 1.0651, g_loss: 1.3122 \n",
            "\n",
            "Epoch [226/1000], Step [25/25], d_loss: 2.0097, g_loss: 0.8681 \n",
            "\n",
            "Epoch [227/1000], Step [25/25], d_loss: 1.0661, g_loss: 0.8340 \n",
            "\n",
            "Epoch [228/1000], Step [25/25], d_loss: 1.0784, g_loss: 0.7264 \n",
            "\n",
            "Epoch [229/1000], Step [25/25], d_loss: 1.1427, g_loss: 2.9774 \n",
            "\n",
            "Epoch [230/1000], Step [25/25], d_loss: 1.1689, g_loss: 0.7391 \n",
            "\n",
            "Epoch [231/1000], Step [25/25], d_loss: 1.0390, g_loss: 0.7270 \n",
            "\n",
            "Epoch [232/1000], Step [25/25], d_loss: 1.1774, g_loss: 0.7379 \n",
            "\n",
            "Epoch [233/1000], Step [25/25], d_loss: 1.9258, g_loss: 2.1211 \n",
            "\n",
            "Epoch [234/1000], Step [25/25], d_loss: 1.2121, g_loss: 0.7330 \n",
            "\n",
            "Epoch [235/1000], Step [25/25], d_loss: 1.1092, g_loss: 0.9600 \n",
            "\n",
            "Epoch [236/1000], Step [25/25], d_loss: 0.9987, g_loss: 0.7532 \n",
            "\n",
            "Epoch [237/1000], Step [25/25], d_loss: 1.1227, g_loss: 0.8126 \n",
            "\n",
            "Epoch [238/1000], Step [25/25], d_loss: 2.0205, g_loss: 1.8151 \n",
            "\n",
            "Epoch [239/1000], Step [25/25], d_loss: 1.0023, g_loss: 0.7298 \n",
            "\n",
            "Epoch [240/1000], Step [25/25], d_loss: 2.1317, g_loss: 0.7341 \n",
            "\n",
            "Epoch [241/1000], Step [25/25], d_loss: 1.0862, g_loss: 3.4389 \n",
            "\n",
            "Epoch [242/1000], Step [25/25], d_loss: 1.1092, g_loss: 1.7115 \n",
            "\n",
            "Epoch [243/1000], Step [25/25], d_loss: 1.0319, g_loss: 1.4284 \n",
            "\n",
            "Epoch [244/1000], Step [25/25], d_loss: 1.0564, g_loss: 1.8647 \n",
            "\n",
            "Epoch [245/1000], Step [25/25], d_loss: 1.1690, g_loss: 0.7331 \n",
            "\n",
            "Epoch [246/1000], Step [25/25], d_loss: 1.2380, g_loss: 0.7410 \n",
            "\n",
            "Epoch [247/1000], Step [25/25], d_loss: 1.1550, g_loss: 4.2176 \n",
            "\n",
            "Epoch [248/1000], Step [25/25], d_loss: 1.2377, g_loss: 0.7808 \n",
            "\n",
            "Epoch [249/1000], Step [25/25], d_loss: 1.0374, g_loss: 3.0247 \n",
            "\n",
            "Epoch [250/1000], Step [25/25], d_loss: 1.5033, g_loss: 1.9247 \n",
            "\n",
            "Epoch [251/1000], Step [25/25], d_loss: 1.1471, g_loss: 0.7428 \n",
            "\n",
            "Epoch [252/1000], Step [25/25], d_loss: 2.0622, g_loss: 0.7388 \n",
            "\n",
            "Epoch [253/1000], Step [25/25], d_loss: 1.1081, g_loss: 0.7450 \n",
            "\n",
            "Epoch [254/1000], Step [25/25], d_loss: 1.0938, g_loss: 0.7442 \n",
            "\n",
            "Epoch [255/1000], Step [25/25], d_loss: 1.1199, g_loss: 1.3837 \n",
            "\n",
            "Epoch [256/1000], Step [25/25], d_loss: 1.0007, g_loss: 0.7389 \n",
            "\n",
            "Epoch [257/1000], Step [25/25], d_loss: 1.0098, g_loss: 0.7466 \n",
            "\n",
            "Epoch [258/1000], Step [25/25], d_loss: 1.1106, g_loss: 1.5598 \n",
            "\n",
            "Epoch [259/1000], Step [25/25], d_loss: 1.0663, g_loss: 0.7479 \n",
            "\n",
            "Epoch [260/1000], Step [25/25], d_loss: 1.1092, g_loss: 0.7485 \n",
            "\n",
            "Epoch [261/1000], Step [25/25], d_loss: 1.0720, g_loss: 0.9048 \n",
            "\n",
            "Epoch [262/1000], Step [25/25], d_loss: 1.0683, g_loss: 0.7502 \n",
            "\n",
            "Epoch [263/1000], Step [25/25], d_loss: 1.1222, g_loss: 0.7543 \n",
            "\n",
            "Epoch [264/1000], Step [25/25], d_loss: 1.0379, g_loss: 0.7519 \n",
            "\n",
            "Epoch [265/1000], Step [25/25], d_loss: 1.0694, g_loss: 0.7545 \n",
            "\n",
            "Epoch [266/1000], Step [25/25], d_loss: 1.3370, g_loss: 2.0401 \n",
            "\n",
            "Epoch [267/1000], Step [25/25], d_loss: 1.0376, g_loss: 0.7546 \n",
            "\n",
            "Epoch [268/1000], Step [25/25], d_loss: 1.0596, g_loss: 1.0842 \n",
            "\n",
            "Epoch [269/1000], Step [25/25], d_loss: 1.1358, g_loss: 0.7538 \n",
            "\n",
            "Epoch [270/1000], Step [25/25], d_loss: 1.0212, g_loss: 0.7538 \n",
            "\n",
            "Epoch [271/1000], Step [25/25], d_loss: 1.0463, g_loss: 0.7536 \n",
            "\n",
            "Epoch [272/1000], Step [25/25], d_loss: 1.1163, g_loss: 0.7550 \n",
            "\n",
            "Epoch [273/1000], Step [25/25], d_loss: 1.0159, g_loss: 0.7543 \n",
            "\n",
            "Epoch [274/1000], Step [25/25], d_loss: 1.1761, g_loss: 0.7573 \n",
            "\n",
            "Epoch [275/1000], Step [25/25], d_loss: 1.0402, g_loss: 1.2132 \n",
            "\n",
            "Epoch [276/1000], Step [25/25], d_loss: 1.0571, g_loss: 0.7608 \n",
            "\n",
            "Epoch [277/1000], Step [25/25], d_loss: 1.0862, g_loss: 0.7572 \n",
            "\n",
            "Epoch [278/1000], Step [25/25], d_loss: 1.1819, g_loss: 0.7639 \n",
            "\n",
            "Epoch [279/1000], Step [25/25], d_loss: 1.0714, g_loss: 0.7614 \n",
            "\n",
            "Epoch [280/1000], Step [25/25], d_loss: 1.0390, g_loss: 1.7786 \n",
            "\n",
            "Epoch [281/1000], Step [25/25], d_loss: 1.1031, g_loss: 0.7641 \n",
            "\n",
            "Epoch [282/1000], Step [25/25], d_loss: 1.0472, g_loss: 0.7737 \n",
            "\n",
            "Epoch [283/1000], Step [25/25], d_loss: 1.0895, g_loss: 1.5928 \n",
            "\n",
            "Epoch [284/1000], Step [25/25], d_loss: 1.0692, g_loss: 4.0189 \n",
            "\n",
            "Epoch [285/1000], Step [25/25], d_loss: 1.0022, g_loss: 0.7635 \n",
            "\n",
            "Epoch [286/1000], Step [25/25], d_loss: 1.0711, g_loss: 0.7654 \n",
            "\n",
            "Epoch [287/1000], Step [25/25], d_loss: 1.0784, g_loss: 0.7664 \n",
            "\n",
            "Epoch [288/1000], Step [25/25], d_loss: 1.1162, g_loss: 0.7662 \n",
            "\n",
            "Epoch [289/1000], Step [25/25], d_loss: 1.0671, g_loss: 1.6469 \n",
            "\n",
            "Epoch [290/1000], Step [25/25], d_loss: 1.0351, g_loss: 0.7654 \n",
            "\n",
            "Epoch [291/1000], Step [25/25], d_loss: 1.0564, g_loss: 0.7712 \n",
            "\n",
            "Epoch [292/1000], Step [25/25], d_loss: 1.0499, g_loss: 0.7694 \n",
            "\n",
            "Epoch [293/1000], Step [25/25], d_loss: 1.1044, g_loss: 1.2190 \n",
            "\n",
            "Epoch [294/1000], Step [25/25], d_loss: 0.9897, g_loss: 0.7693 \n",
            "\n",
            "Epoch [295/1000], Step [25/25], d_loss: 1.1126, g_loss: 0.7714 \n",
            "\n",
            "Epoch [296/1000], Step [25/25], d_loss: 0.9762, g_loss: 1.9612 \n",
            "\n",
            "Epoch [297/1000], Step [25/25], d_loss: 1.0595, g_loss: 0.7722 \n",
            "\n",
            "Epoch [298/1000], Step [25/25], d_loss: 1.0720, g_loss: 0.7734 \n",
            "\n",
            "Epoch [299/1000], Step [25/25], d_loss: 1.0037, g_loss: 0.7709 \n",
            "\n",
            "Epoch [300/1000], Step [25/25], d_loss: 1.0379, g_loss: 1.3086 \n",
            "\n",
            "Epoch [301/1000], Step [25/25], d_loss: 1.0303, g_loss: 0.7878 \n",
            "\n",
            "Epoch [302/1000], Step [25/25], d_loss: 1.0517, g_loss: 0.7729 \n",
            "\n",
            "Epoch [303/1000], Step [25/25], d_loss: 1.0163, g_loss: 0.7748 \n",
            "\n",
            "Epoch [304/1000], Step [25/25], d_loss: 1.9116, g_loss: 1.9103 \n",
            "\n",
            "Epoch [305/1000], Step [25/25], d_loss: 1.0071, g_loss: 0.7960 \n",
            "\n",
            "Epoch [306/1000], Step [25/25], d_loss: 1.0654, g_loss: 0.7756 \n",
            "\n",
            "Epoch [307/1000], Step [25/25], d_loss: 1.0497, g_loss: 2.3270 \n",
            "\n",
            "Epoch [308/1000], Step [25/25], d_loss: 1.0474, g_loss: 0.7756 \n",
            "\n",
            "Epoch [309/1000], Step [25/25], d_loss: 0.9889, g_loss: 0.7980 \n",
            "\n",
            "Epoch [310/1000], Step [25/25], d_loss: 1.0918, g_loss: 0.7800 \n",
            "\n",
            "Epoch [311/1000], Step [25/25], d_loss: 1.0072, g_loss: 1.9148 \n",
            "\n",
            "Epoch [312/1000], Step [25/25], d_loss: 0.9953, g_loss: 1.0728 \n",
            "\n",
            "Epoch [313/1000], Step [25/25], d_loss: 1.0851, g_loss: 0.7832 \n",
            "\n",
            "Epoch [314/1000], Step [25/25], d_loss: 1.0417, g_loss: 0.7801 \n",
            "\n",
            "Epoch [315/1000], Step [25/25], d_loss: 1.0661, g_loss: 2.0615 \n",
            "\n",
            "Epoch [316/1000], Step [25/25], d_loss: 1.0685, g_loss: 0.8416 \n",
            "\n",
            "Epoch [317/1000], Step [25/25], d_loss: 1.0783, g_loss: 1.5357 \n",
            "\n",
            "Epoch [318/1000], Step [25/25], d_loss: 1.0738, g_loss: 0.9386 \n",
            "\n",
            "Epoch [319/1000], Step [25/25], d_loss: 1.0902, g_loss: 0.7788 \n",
            "\n",
            "Epoch [320/1000], Step [25/25], d_loss: 0.9954, g_loss: 1.4882 \n",
            "\n",
            "Epoch [321/1000], Step [25/25], d_loss: 1.0381, g_loss: 0.7861 \n",
            "\n",
            "Epoch [322/1000], Step [25/25], d_loss: 1.0770, g_loss: 1.0619 \n",
            "\n",
            "Epoch [323/1000], Step [25/25], d_loss: 0.9923, g_loss: 0.7860 \n",
            "\n",
            "Epoch [324/1000], Step [25/25], d_loss: 1.0604, g_loss: 0.9357 \n",
            "\n",
            "Epoch [325/1000], Step [25/25], d_loss: 1.0439, g_loss: 0.7863 \n",
            "\n",
            "Epoch [326/1000], Step [25/25], d_loss: 1.0563, g_loss: 0.7886 \n",
            "\n",
            "Epoch [327/1000], Step [25/25], d_loss: 1.1394, g_loss: 1.9320 \n",
            "\n",
            "Epoch [328/1000], Step [25/25], d_loss: 0.9899, g_loss: 0.7891 \n",
            "\n",
            "Epoch [329/1000], Step [25/25], d_loss: 0.9824, g_loss: 0.7930 \n",
            "\n",
            "Epoch [330/1000], Step [25/25], d_loss: 1.0370, g_loss: 1.5445 \n",
            "\n",
            "Epoch [331/1000], Step [25/25], d_loss: 1.0083, g_loss: 0.9972 \n",
            "\n",
            "Epoch [332/1000], Step [25/25], d_loss: 1.9887, g_loss: 1.4442 \n",
            "\n",
            "Epoch [333/1000], Step [25/25], d_loss: 0.9701, g_loss: 0.7893 \n",
            "\n",
            "Epoch [334/1000], Step [25/25], d_loss: 1.0275, g_loss: 1.4259 \n",
            "\n",
            "Epoch [335/1000], Step [25/25], d_loss: 1.2077, g_loss: 0.7903 \n",
            "\n",
            "Epoch [336/1000], Step [25/25], d_loss: 1.0531, g_loss: 0.7915 \n",
            "\n",
            "Epoch [337/1000], Step [25/25], d_loss: 1.0878, g_loss: 0.7915 \n",
            "\n",
            "Epoch [338/1000], Step [25/25], d_loss: 0.9898, g_loss: 0.7958 \n",
            "\n",
            "Epoch [339/1000], Step [25/25], d_loss: 1.0588, g_loss: 0.7916 \n",
            "\n",
            "Epoch [340/1000], Step [25/25], d_loss: 1.0101, g_loss: 0.7914 \n",
            "\n",
            "Epoch [341/1000], Step [25/25], d_loss: 1.0226, g_loss: 0.7916 \n",
            "\n",
            "Epoch [342/1000], Step [25/25], d_loss: 0.9798, g_loss: 0.7971 \n",
            "\n",
            "Epoch [343/1000], Step [25/25], d_loss: 1.0167, g_loss: 0.7947 \n",
            "\n",
            "Epoch [344/1000], Step [25/25], d_loss: 1.0368, g_loss: 0.7933 \n",
            "\n",
            "Epoch [345/1000], Step [25/25], d_loss: 1.0003, g_loss: 0.7943 \n",
            "\n",
            "Epoch [346/1000], Step [25/25], d_loss: 1.0878, g_loss: 0.7965 \n",
            "\n",
            "Epoch [347/1000], Step [25/25], d_loss: 0.9617, g_loss: 0.7968 \n",
            "\n",
            "Epoch [348/1000], Step [25/25], d_loss: 1.0555, g_loss: 3.2207 \n",
            "\n",
            "Epoch [349/1000], Step [25/25], d_loss: 0.9431, g_loss: 0.7989 \n",
            "\n",
            "Epoch [350/1000], Step [25/25], d_loss: 1.0346, g_loss: 0.7961 \n",
            "\n",
            "Epoch [351/1000], Step [25/25], d_loss: 1.0664, g_loss: 1.3377 \n",
            "\n",
            "Epoch [352/1000], Step [25/25], d_loss: 1.0434, g_loss: 2.2505 \n",
            "\n",
            "Epoch [353/1000], Step [25/25], d_loss: 1.1517, g_loss: 0.7972 \n",
            "\n",
            "Epoch [354/1000], Step [25/25], d_loss: 1.0762, g_loss: 0.7907 \n",
            "\n",
            "Epoch [355/1000], Step [25/25], d_loss: 1.0230, g_loss: 0.7992 \n",
            "\n",
            "Epoch [356/1000], Step [25/25], d_loss: 1.0334, g_loss: 0.9951 \n",
            "\n",
            "Epoch [357/1000], Step [25/25], d_loss: 1.0085, g_loss: 1.0949 \n",
            "\n",
            "Epoch [358/1000], Step [25/25], d_loss: 1.0381, g_loss: 0.8870 \n",
            "\n",
            "Epoch [359/1000], Step [25/25], d_loss: 1.0202, g_loss: 0.8014 \n",
            "\n",
            "Epoch [360/1000], Step [25/25], d_loss: 0.9465, g_loss: 2.6733 \n",
            "\n",
            "Epoch [361/1000], Step [25/25], d_loss: 1.0166, g_loss: 0.7952 \n",
            "\n",
            "Epoch [362/1000], Step [25/25], d_loss: 0.9977, g_loss: 0.7954 \n",
            "\n",
            "Epoch [363/1000], Step [25/25], d_loss: 1.0700, g_loss: 0.7941 \n",
            "\n",
            "Epoch [364/1000], Step [25/25], d_loss: 0.9895, g_loss: 0.7944 \n",
            "\n",
            "Epoch [365/1000], Step [25/25], d_loss: 0.9559, g_loss: 0.8029 \n",
            "\n",
            "Epoch [366/1000], Step [25/25], d_loss: 1.0034, g_loss: 2.5687 \n",
            "\n",
            "Epoch [367/1000], Step [25/25], d_loss: 1.0157, g_loss: 0.8039 \n",
            "\n",
            "Epoch [368/1000], Step [25/25], d_loss: 0.9942, g_loss: 0.8054 \n",
            "\n",
            "Epoch [369/1000], Step [25/25], d_loss: 1.0003, g_loss: 0.8003 \n",
            "\n",
            "Epoch [370/1000], Step [25/25], d_loss: 1.0101, g_loss: 0.8043 \n",
            "\n",
            "Epoch [371/1000], Step [25/25], d_loss: 1.0297, g_loss: 0.7979 \n",
            "\n",
            "Epoch [372/1000], Step [25/25], d_loss: 1.0351, g_loss: 3.4617 \n",
            "\n",
            "Epoch [373/1000], Step [25/25], d_loss: 0.9604, g_loss: 0.9776 \n",
            "\n",
            "Epoch [374/1000], Step [25/25], d_loss: 1.0129, g_loss: 0.7993 \n",
            "\n",
            "Epoch [375/1000], Step [25/25], d_loss: 0.9797, g_loss: 0.8072 \n",
            "\n",
            "Epoch [376/1000], Step [25/25], d_loss: 1.0252, g_loss: 2.1535 \n",
            "\n",
            "Epoch [377/1000], Step [25/25], d_loss: 1.0236, g_loss: 0.8040 \n",
            "\n",
            "Epoch [378/1000], Step [25/25], d_loss: 1.0538, g_loss: 0.8163 \n",
            "\n",
            "Epoch [379/1000], Step [25/25], d_loss: 1.0308, g_loss: 0.8055 \n",
            "\n",
            "Epoch [380/1000], Step [25/25], d_loss: 0.9882, g_loss: 0.7895 \n",
            "\n",
            "Epoch [381/1000], Step [25/25], d_loss: 1.0024, g_loss: 0.8002 \n",
            "\n",
            "Epoch [382/1000], Step [25/25], d_loss: 1.0533, g_loss: 0.9068 \n",
            "\n",
            "Epoch [383/1000], Step [25/25], d_loss: 0.9688, g_loss: 0.8158 \n",
            "\n",
            "Epoch [384/1000], Step [25/25], d_loss: 1.1289, g_loss: 0.8089 \n",
            "\n",
            "Epoch [385/1000], Step [25/25], d_loss: 1.0086, g_loss: 0.7900 \n",
            "\n",
            "Epoch [386/1000], Step [25/25], d_loss: 1.0065, g_loss: 0.8076 \n",
            "\n",
            "Epoch [387/1000], Step [25/25], d_loss: 0.9536, g_loss: 0.8015 \n",
            "\n",
            "Epoch [388/1000], Step [25/25], d_loss: 0.9978, g_loss: 0.8632 \n",
            "\n",
            "Epoch [389/1000], Step [25/25], d_loss: 1.0134, g_loss: 0.8137 \n",
            "\n",
            "Epoch [390/1000], Step [25/25], d_loss: 1.0300, g_loss: 0.7983 \n",
            "\n",
            "Epoch [391/1000], Step [25/25], d_loss: 3.1280, g_loss: 0.8107 \n",
            "\n",
            "Epoch [392/1000], Step [25/25], d_loss: 0.9629, g_loss: 0.7946 \n",
            "\n",
            "Epoch [393/1000], Step [25/25], d_loss: 1.0761, g_loss: 0.8099 \n",
            "\n",
            "Epoch [394/1000], Step [25/25], d_loss: 1.0777, g_loss: 0.8097 \n",
            "\n",
            "Epoch [395/1000], Step [25/25], d_loss: 1.1118, g_loss: 1.0421 \n",
            "\n",
            "Epoch [396/1000], Step [25/25], d_loss: 0.9972, g_loss: 0.8075 \n",
            "\n",
            "Epoch [397/1000], Step [25/25], d_loss: 0.9945, g_loss: 0.8053 \n",
            "\n",
            "Epoch [398/1000], Step [25/25], d_loss: 1.0177, g_loss: 0.8129 \n",
            "\n",
            "Epoch [399/1000], Step [25/25], d_loss: 0.9794, g_loss: 0.8077 \n",
            "\n",
            "Epoch [400/1000], Step [25/25], d_loss: 1.0015, g_loss: 0.8124 \n",
            "\n",
            "Epoch [401/1000], Step [25/25], d_loss: 0.9405, g_loss: 1.0064 \n",
            "\n",
            "Epoch [402/1000], Step [25/25], d_loss: 0.9477, g_loss: 0.8343 \n",
            "\n",
            "Epoch [403/1000], Step [25/25], d_loss: 1.0385, g_loss: 0.7999 \n",
            "\n",
            "Epoch [404/1000], Step [25/25], d_loss: 1.0465, g_loss: 1.2389 \n",
            "\n",
            "Epoch [405/1000], Step [25/25], d_loss: 0.9537, g_loss: 0.7987 \n",
            "\n",
            "Epoch [406/1000], Step [25/25], d_loss: 1.0034, g_loss: 0.7981 \n",
            "\n",
            "Epoch [407/1000], Step [25/25], d_loss: 1.0965, g_loss: 1.1742 \n",
            "\n",
            "Epoch [408/1000], Step [25/25], d_loss: 0.9771, g_loss: 0.8066 \n",
            "\n",
            "Epoch [409/1000], Step [25/25], d_loss: 1.1395, g_loss: 0.7952 \n",
            "\n",
            "Epoch [410/1000], Step [25/25], d_loss: 1.0229, g_loss: 0.8030 \n",
            "\n",
            "Epoch [411/1000], Step [25/25], d_loss: 1.0455, g_loss: 0.8065 \n",
            "\n",
            "Epoch [412/1000], Step [25/25], d_loss: 1.0891, g_loss: 0.7966 \n",
            "\n",
            "Epoch [413/1000], Step [25/25], d_loss: 0.9931, g_loss: 0.8011 \n",
            "\n",
            "Epoch [414/1000], Step [25/25], d_loss: 1.0295, g_loss: 0.7982 \n",
            "\n",
            "Epoch [415/1000], Step [25/25], d_loss: 0.9782, g_loss: 0.7872 \n",
            "\n",
            "Epoch [416/1000], Step [25/25], d_loss: 1.0764, g_loss: 0.7885 \n",
            "\n",
            "Epoch [417/1000], Step [25/25], d_loss: 1.0117, g_loss: 0.7943 \n",
            "\n",
            "Epoch [418/1000], Step [25/25], d_loss: 1.0268, g_loss: 0.7915 \n",
            "\n",
            "Epoch [419/1000], Step [25/25], d_loss: 1.0024, g_loss: 0.7909 \n",
            "\n",
            "Epoch [420/1000], Step [25/25], d_loss: 1.0210, g_loss: 0.7787 \n",
            "\n",
            "Epoch [421/1000], Step [25/25], d_loss: 1.0984, g_loss: 0.8060 \n",
            "\n",
            "Epoch [422/1000], Step [25/25], d_loss: 1.0388, g_loss: 0.7863 \n",
            "\n",
            "Epoch [423/1000], Step [25/25], d_loss: 1.0039, g_loss: 0.7970 \n",
            "\n",
            "Epoch [424/1000], Step [25/25], d_loss: 1.0383, g_loss: 0.8114 \n",
            "\n",
            "Epoch [425/1000], Step [25/25], d_loss: 1.1043, g_loss: 0.7933 \n",
            "\n",
            "Epoch [426/1000], Step [25/25], d_loss: 0.9809, g_loss: 1.3123 \n",
            "\n",
            "Epoch [427/1000], Step [25/25], d_loss: 0.9673, g_loss: 0.8052 \n",
            "\n",
            "Epoch [428/1000], Step [25/25], d_loss: 1.0921, g_loss: 2.3831 \n",
            "\n",
            "Epoch [429/1000], Step [25/25], d_loss: 1.0246, g_loss: 0.7836 \n",
            "\n",
            "Epoch [430/1000], Step [25/25], d_loss: 1.0038, g_loss: 0.8021 \n",
            "\n",
            "Epoch [431/1000], Step [25/25], d_loss: 1.0396, g_loss: 0.8048 \n",
            "\n",
            "Epoch [432/1000], Step [25/25], d_loss: 0.9947, g_loss: 1.0049 \n",
            "\n",
            "Epoch [433/1000], Step [25/25], d_loss: 1.1114, g_loss: 0.7618 \n",
            "\n",
            "Epoch [434/1000], Step [25/25], d_loss: 1.0776, g_loss: 0.7925 \n",
            "\n",
            "Epoch [435/1000], Step [25/25], d_loss: 1.0738, g_loss: 1.0625 \n",
            "\n",
            "Epoch [436/1000], Step [25/25], d_loss: 1.0769, g_loss: 0.7891 \n",
            "\n",
            "Epoch [437/1000], Step [25/25], d_loss: 1.0214, g_loss: 0.7657 \n",
            "\n",
            "Epoch [438/1000], Step [25/25], d_loss: 1.0437, g_loss: 0.7737 \n",
            "\n",
            "Epoch [439/1000], Step [25/25], d_loss: 1.0979, g_loss: 0.7645 \n",
            "\n",
            "Epoch [440/1000], Step [25/25], d_loss: 1.0425, g_loss: 0.7487 \n",
            "\n",
            "Epoch [441/1000], Step [25/25], d_loss: 1.0063, g_loss: 0.7682 \n",
            "\n",
            "Epoch [442/1000], Step [25/25], d_loss: 1.1004, g_loss: 0.7874 \n",
            "\n",
            "Epoch [443/1000], Step [25/25], d_loss: 1.1227, g_loss: 0.7478 \n",
            "\n",
            "Epoch [444/1000], Step [25/25], d_loss: 1.1050, g_loss: 0.7697 \n",
            "\n",
            "Epoch [445/1000], Step [25/25], d_loss: 1.0939, g_loss: 0.8471 \n",
            "\n",
            "Epoch [446/1000], Step [25/25], d_loss: 1.1587, g_loss: 0.7693 \n",
            "\n",
            "Epoch [447/1000], Step [25/25], d_loss: 1.0887, g_loss: 0.7556 \n",
            "\n",
            "Epoch [448/1000], Step [25/25], d_loss: 1.1291, g_loss: 0.7440 \n",
            "\n",
            "Epoch [449/1000], Step [25/25], d_loss: 1.0927, g_loss: 0.7571 \n",
            "\n",
            "Epoch [450/1000], Step [25/25], d_loss: 1.1684, g_loss: 0.7488 \n",
            "\n",
            "Epoch [451/1000], Step [25/25], d_loss: 1.1888, g_loss: 0.7299 \n",
            "\n",
            "Epoch [452/1000], Step [25/25], d_loss: 1.1730, g_loss: 0.7432 \n",
            "\n",
            "Epoch [453/1000], Step [25/25], d_loss: 1.0939, g_loss: 0.7577 \n",
            "\n",
            "Epoch [454/1000], Step [25/25], d_loss: 1.1637, g_loss: 0.7050 \n",
            "\n",
            "Epoch [455/1000], Step [25/25], d_loss: 1.0955, g_loss: 0.7217 \n",
            "\n",
            "Epoch [456/1000], Step [25/25], d_loss: 1.1685, g_loss: 0.7276 \n",
            "\n",
            "Epoch [457/1000], Step [25/25], d_loss: 1.1049, g_loss: 0.7696 \n",
            "\n",
            "Epoch [458/1000], Step [25/25], d_loss: 1.1543, g_loss: 0.7362 \n",
            "\n",
            "Epoch [459/1000], Step [25/25], d_loss: 1.1155, g_loss: 0.7196 \n",
            "\n",
            "Epoch [460/1000], Step [25/25], d_loss: 1.2508, g_loss: 0.7533 \n",
            "\n",
            "Epoch [461/1000], Step [25/25], d_loss: 1.1016, g_loss: 0.7627 \n",
            "\n",
            "Epoch [462/1000], Step [25/25], d_loss: 1.1471, g_loss: 0.7313 \n",
            "\n",
            "Epoch [463/1000], Step [25/25], d_loss: 1.2395, g_loss: 0.7143 \n",
            "\n",
            "Epoch [464/1000], Step [25/25], d_loss: 1.2271, g_loss: 0.6923 \n",
            "\n",
            "Epoch [465/1000], Step [25/25], d_loss: 1.2129, g_loss: 0.7433 \n",
            "\n",
            "Epoch [466/1000], Step [25/25], d_loss: 1.2651, g_loss: 0.7725 \n",
            "\n",
            "Epoch [467/1000], Step [25/25], d_loss: 1.2371, g_loss: 0.6934 \n",
            "\n",
            "Epoch [468/1000], Step [25/25], d_loss: 1.1957, g_loss: 0.7377 \n",
            "\n",
            "Epoch [469/1000], Step [25/25], d_loss: 1.1524, g_loss: 0.6985 \n",
            "\n",
            "Epoch [470/1000], Step [25/25], d_loss: 1.2570, g_loss: 0.7289 \n",
            "\n",
            "Epoch [471/1000], Step [25/25], d_loss: 1.3042, g_loss: 0.7552 \n",
            "\n",
            "Epoch [472/1000], Step [25/25], d_loss: 1.2108, g_loss: 0.7592 \n",
            "\n",
            "Epoch [473/1000], Step [25/25], d_loss: 1.3204, g_loss: 1.2038 \n",
            "\n",
            "Epoch [474/1000], Step [25/25], d_loss: 1.2197, g_loss: 0.7937 \n",
            "\n",
            "Epoch [475/1000], Step [25/25], d_loss: 1.3160, g_loss: 0.7126 \n",
            "\n",
            "Epoch [476/1000], Step [25/25], d_loss: 1.3629, g_loss: 0.7507 \n",
            "\n",
            "Epoch [477/1000], Step [25/25], d_loss: 1.3160, g_loss: 0.7052 \n",
            "\n",
            "Epoch [478/1000], Step [25/25], d_loss: 1.1887, g_loss: 0.7170 \n",
            "\n",
            "Epoch [479/1000], Step [25/25], d_loss: 1.2905, g_loss: 0.7167 \n",
            "\n",
            "Epoch [480/1000], Step [25/25], d_loss: 1.3586, g_loss: 0.7624 \n",
            "\n",
            "Epoch [481/1000], Step [25/25], d_loss: 1.2463, g_loss: 0.7088 \n",
            "\n",
            "Epoch [482/1000], Step [25/25], d_loss: 1.2592, g_loss: 0.7087 \n",
            "\n",
            "Epoch [483/1000], Step [25/25], d_loss: 1.3308, g_loss: 0.6938 \n",
            "\n",
            "Epoch [484/1000], Step [25/25], d_loss: 1.3716, g_loss: 0.7405 \n",
            "\n",
            "Epoch [485/1000], Step [25/25], d_loss: 1.3901, g_loss: 0.7318 \n",
            "\n",
            "Epoch [486/1000], Step [25/25], d_loss: 1.3200, g_loss: 0.7596 \n",
            "\n",
            "Epoch [487/1000], Step [25/25], d_loss: 1.3965, g_loss: 0.7971 \n",
            "\n",
            "Epoch [488/1000], Step [25/25], d_loss: 1.3897, g_loss: 0.7445 \n",
            "\n",
            "Epoch [489/1000], Step [25/25], d_loss: 1.4152, g_loss: 0.7593 \n",
            "\n",
            "Epoch [490/1000], Step [25/25], d_loss: 1.3861, g_loss: 0.7616 \n",
            "\n",
            "Epoch [491/1000], Step [25/25], d_loss: 1.3629, g_loss: 0.7521 \n",
            "\n",
            "Epoch [492/1000], Step [25/25], d_loss: 1.3747, g_loss: 0.7909 \n",
            "\n",
            "Epoch [493/1000], Step [25/25], d_loss: 1.3413, g_loss: 0.7997 \n",
            "\n",
            "Epoch [494/1000], Step [25/25], d_loss: 1.4094, g_loss: 1.4654 \n",
            "\n",
            "Epoch [495/1000], Step [25/25], d_loss: 1.3916, g_loss: 0.7530 \n",
            "\n",
            "Epoch [496/1000], Step [25/25], d_loss: 1.3834, g_loss: 0.8075 \n",
            "\n",
            "Epoch [497/1000], Step [25/25], d_loss: 1.2921, g_loss: 0.7920 \n",
            "\n",
            "Epoch [498/1000], Step [25/25], d_loss: 1.3875, g_loss: 0.8032 \n",
            "\n",
            "Epoch [499/1000], Step [25/25], d_loss: 1.4227, g_loss: 0.7736 \n",
            "\n",
            "Epoch [500/1000], Step [25/25], d_loss: 1.3704, g_loss: 0.7901 \n",
            "\n",
            "Epoch [501/1000], Step [25/25], d_loss: 1.3988, g_loss: 0.8454 \n",
            "\n",
            "Epoch [502/1000], Step [25/25], d_loss: 1.3605, g_loss: 1.1064 \n",
            "\n",
            "Epoch [503/1000], Step [25/25], d_loss: 1.3804, g_loss: 0.7792 \n",
            "\n",
            "Epoch [504/1000], Step [25/25], d_loss: 1.4003, g_loss: 0.8613 \n",
            "\n",
            "Epoch [505/1000], Step [25/25], d_loss: 1.3660, g_loss: 0.8064 \n",
            "\n",
            "Epoch [506/1000], Step [25/25], d_loss: 1.3500, g_loss: 0.8455 \n",
            "\n",
            "Epoch [507/1000], Step [25/25], d_loss: 1.3875, g_loss: 0.8606 \n",
            "\n",
            "Epoch [508/1000], Step [25/25], d_loss: 1.3938, g_loss: 0.8533 \n",
            "\n",
            "Epoch [509/1000], Step [25/25], d_loss: 1.3962, g_loss: 0.8636 \n",
            "\n",
            "Epoch [510/1000], Step [25/25], d_loss: 1.3841, g_loss: 0.8449 \n",
            "\n",
            "Epoch [511/1000], Step [25/25], d_loss: 1.3811, g_loss: 0.8545 \n",
            "\n",
            "Epoch [512/1000], Step [25/25], d_loss: 1.3862, g_loss: 0.8241 \n",
            "\n",
            "Epoch [513/1000], Step [25/25], d_loss: 1.3889, g_loss: 0.8494 \n",
            "\n",
            "Epoch [514/1000], Step [25/25], d_loss: 1.3552, g_loss: 0.8752 \n",
            "\n",
            "Epoch [515/1000], Step [25/25], d_loss: 1.3836, g_loss: 0.8900 \n",
            "\n",
            "Epoch [516/1000], Step [25/25], d_loss: 1.3906, g_loss: 0.8629 \n",
            "\n",
            "Epoch [517/1000], Step [25/25], d_loss: 1.3849, g_loss: 0.8518 \n",
            "\n",
            "Epoch [518/1000], Step [25/25], d_loss: 1.3925, g_loss: 0.8672 \n",
            "\n",
            "Epoch [519/1000], Step [25/25], d_loss: 1.3894, g_loss: 0.8372 \n",
            "\n",
            "Epoch [520/1000], Step [25/25], d_loss: 1.3779, g_loss: 0.8784 \n",
            "\n",
            "Epoch [521/1000], Step [25/25], d_loss: 1.4230, g_loss: 0.8474 \n",
            "\n",
            "Epoch [522/1000], Step [25/25], d_loss: 1.3809, g_loss: 0.8514 \n",
            "\n",
            "Epoch [523/1000], Step [25/25], d_loss: 1.3835, g_loss: 2.5623 \n",
            "\n",
            "Epoch [524/1000], Step [25/25], d_loss: 1.3766, g_loss: 0.8481 \n",
            "\n",
            "Epoch [525/1000], Step [25/25], d_loss: 1.3746, g_loss: 0.8651 \n",
            "\n",
            "Epoch [526/1000], Step [25/25], d_loss: 1.3782, g_loss: 0.8461 \n",
            "\n",
            "Epoch [527/1000], Step [25/25], d_loss: 1.3862, g_loss: 0.8534 \n",
            "\n",
            "Epoch [528/1000], Step [25/25], d_loss: 1.3901, g_loss: 0.8681 \n",
            "\n",
            "Epoch [529/1000], Step [25/25], d_loss: 1.3632, g_loss: 0.9648 \n",
            "\n",
            "Epoch [530/1000], Step [25/25], d_loss: 1.3742, g_loss: 0.8569 \n",
            "\n",
            "Epoch [531/1000], Step [25/25], d_loss: 1.3924, g_loss: 0.8263 \n",
            "\n",
            "Epoch [532/1000], Step [25/25], d_loss: 1.3833, g_loss: 0.8617 \n",
            "\n",
            "Epoch [533/1000], Step [25/25], d_loss: 1.3786, g_loss: 0.8391 \n",
            "\n",
            "Epoch [534/1000], Step [25/25], d_loss: 1.3778, g_loss: 0.8674 \n",
            "\n",
            "Epoch [535/1000], Step [25/25], d_loss: 1.3721, g_loss: 0.8225 \n",
            "\n",
            "Epoch [536/1000], Step [25/25], d_loss: 1.3989, g_loss: 0.8696 \n",
            "\n",
            "Epoch [537/1000], Step [25/25], d_loss: 1.3956, g_loss: 0.8650 \n",
            "\n",
            "Epoch [538/1000], Step [25/25], d_loss: 1.4265, g_loss: 0.8543 \n",
            "\n",
            "Epoch [539/1000], Step [25/25], d_loss: 1.3502, g_loss: 0.8409 \n",
            "\n",
            "Epoch [540/1000], Step [25/25], d_loss: 1.3769, g_loss: 0.8698 \n",
            "\n",
            "Epoch [541/1000], Step [25/25], d_loss: 1.4059, g_loss: 0.8266 \n",
            "\n",
            "Epoch [542/1000], Step [25/25], d_loss: 1.3742, g_loss: 0.8611 \n",
            "\n",
            "Epoch [543/1000], Step [25/25], d_loss: 1.3815, g_loss: 0.8608 \n",
            "\n",
            "Epoch [544/1000], Step [25/25], d_loss: 1.3812, g_loss: 0.8506 \n",
            "\n",
            "Epoch [545/1000], Step [25/25], d_loss: 1.3723, g_loss: 0.8302 \n",
            "\n",
            "Epoch [546/1000], Step [25/25], d_loss: 1.3857, g_loss: 0.8642 \n",
            "\n",
            "Epoch [547/1000], Step [25/25], d_loss: 1.3858, g_loss: 0.8049 \n",
            "\n",
            "Epoch [548/1000], Step [25/25], d_loss: 1.3967, g_loss: 0.8398 \n",
            "\n",
            "Epoch [549/1000], Step [25/25], d_loss: 1.3988, g_loss: 0.8662 \n",
            "\n",
            "Epoch [550/1000], Step [25/25], d_loss: 1.3827, g_loss: 0.8428 \n",
            "\n",
            "Epoch [551/1000], Step [25/25], d_loss: 1.3865, g_loss: 0.8416 \n",
            "\n",
            "Epoch [552/1000], Step [25/25], d_loss: 1.3997, g_loss: 0.8144 \n",
            "\n",
            "Epoch [553/1000], Step [25/25], d_loss: 1.3931, g_loss: 0.8350 \n",
            "\n",
            "Epoch [554/1000], Step [25/25], d_loss: 1.3927, g_loss: 0.8285 \n",
            "\n",
            "Epoch [555/1000], Step [25/25], d_loss: 1.3729, g_loss: 0.8222 \n",
            "\n",
            "Epoch [556/1000], Step [25/25], d_loss: 1.4024, g_loss: 0.8385 \n",
            "\n",
            "Epoch [557/1000], Step [25/25], d_loss: 1.3776, g_loss: 0.8233 \n",
            "\n",
            "Epoch [558/1000], Step [25/25], d_loss: 1.3891, g_loss: 0.8379 \n",
            "\n",
            "Epoch [559/1000], Step [25/25], d_loss: 1.3809, g_loss: 0.8195 \n",
            "\n",
            "Epoch [560/1000], Step [25/25], d_loss: 1.3996, g_loss: 0.8100 \n",
            "\n",
            "Epoch [561/1000], Step [25/25], d_loss: 1.4018, g_loss: 0.9627 \n",
            "\n",
            "Epoch [562/1000], Step [25/25], d_loss: 1.3758, g_loss: 0.8345 \n",
            "\n",
            "Epoch [563/1000], Step [25/25], d_loss: 1.3996, g_loss: 0.8407 \n",
            "\n",
            "Epoch [564/1000], Step [25/25], d_loss: 1.3941, g_loss: 0.8455 \n",
            "\n",
            "Epoch [565/1000], Step [25/25], d_loss: 1.4007, g_loss: 0.8400 \n",
            "\n",
            "Epoch [566/1000], Step [25/25], d_loss: 1.3814, g_loss: 0.8528 \n",
            "\n",
            "Epoch [567/1000], Step [25/25], d_loss: 1.3938, g_loss: 0.8324 \n",
            "\n",
            "Epoch [568/1000], Step [25/25], d_loss: 1.3731, g_loss: 0.8425 \n",
            "\n",
            "Epoch [569/1000], Step [25/25], d_loss: 1.3730, g_loss: 0.8462 \n",
            "\n",
            "Epoch [570/1000], Step [25/25], d_loss: 1.3953, g_loss: 0.8319 \n",
            "\n",
            "Epoch [571/1000], Step [25/25], d_loss: 1.3872, g_loss: 0.8426 \n",
            "\n",
            "Epoch [572/1000], Step [25/25], d_loss: 1.3650, g_loss: 1.5194 \n",
            "\n",
            "Epoch [573/1000], Step [25/25], d_loss: 1.3791, g_loss: 0.8393 \n",
            "\n",
            "Epoch [574/1000], Step [25/25], d_loss: 1.3779, g_loss: 0.8367 \n",
            "\n",
            "Epoch [575/1000], Step [25/25], d_loss: 1.3907, g_loss: 0.8439 \n",
            "\n",
            "Epoch [576/1000], Step [25/25], d_loss: 1.3809, g_loss: 0.8449 \n",
            "\n",
            "Epoch [577/1000], Step [25/25], d_loss: 1.3642, g_loss: 0.8293 \n",
            "\n",
            "Epoch [578/1000], Step [25/25], d_loss: 1.3747, g_loss: 0.8606 \n",
            "\n",
            "Epoch [579/1000], Step [25/25], d_loss: 1.3847, g_loss: 0.8235 \n",
            "\n",
            "Epoch [580/1000], Step [25/25], d_loss: 1.3699, g_loss: 0.8499 \n",
            "\n",
            "Epoch [581/1000], Step [25/25], d_loss: 1.3873, g_loss: 0.8290 \n",
            "\n",
            "Epoch [582/1000], Step [25/25], d_loss: 1.4194, g_loss: 2.1089 \n",
            "\n",
            "Epoch [583/1000], Step [25/25], d_loss: 1.3864, g_loss: 0.8621 \n",
            "\n",
            "Epoch [584/1000], Step [25/25], d_loss: 1.3855, g_loss: 0.8407 \n",
            "\n",
            "Epoch [585/1000], Step [25/25], d_loss: 1.3577, g_loss: 0.8496 \n",
            "\n",
            "Epoch [586/1000], Step [25/25], d_loss: 1.3725, g_loss: 0.8444 \n",
            "\n",
            "Epoch [587/1000], Step [25/25], d_loss: 1.3753, g_loss: 0.8400 \n",
            "\n",
            "Epoch [588/1000], Step [25/25], d_loss: 1.3762, g_loss: 0.8353 \n",
            "\n",
            "Epoch [589/1000], Step [25/25], d_loss: 1.3704, g_loss: 0.8374 \n",
            "\n",
            "Epoch [590/1000], Step [25/25], d_loss: 1.3757, g_loss: 0.8391 \n",
            "\n",
            "Epoch [591/1000], Step [25/25], d_loss: 1.4027, g_loss: 0.8179 \n",
            "\n",
            "Epoch [592/1000], Step [25/25], d_loss: 1.3770, g_loss: 0.8207 \n",
            "\n",
            "Epoch [593/1000], Step [25/25], d_loss: 1.3731, g_loss: 0.8562 \n",
            "\n",
            "Epoch [594/1000], Step [25/25], d_loss: 1.3766, g_loss: 2.0490 \n",
            "\n",
            "Epoch [595/1000], Step [25/25], d_loss: 1.3790, g_loss: 0.8492 \n",
            "\n",
            "Epoch [596/1000], Step [25/25], d_loss: 1.3866, g_loss: 0.8711 \n",
            "\n",
            "Epoch [597/1000], Step [25/25], d_loss: 1.3861, g_loss: 0.8334 \n",
            "\n",
            "Epoch [598/1000], Step [25/25], d_loss: 1.3786, g_loss: 0.8399 \n",
            "\n",
            "Epoch [599/1000], Step [25/25], d_loss: 1.3697, g_loss: 0.8300 \n",
            "\n",
            "Epoch [600/1000], Step [25/25], d_loss: 1.4042, g_loss: 0.8907 \n",
            "\n",
            "Epoch [601/1000], Step [25/25], d_loss: 1.3732, g_loss: 0.8238 \n",
            "\n",
            "Epoch [602/1000], Step [25/25], d_loss: 1.3715, g_loss: 0.8100 \n",
            "\n",
            "Epoch [603/1000], Step [25/25], d_loss: 1.3622, g_loss: 0.8174 \n",
            "\n",
            "Epoch [604/1000], Step [25/25], d_loss: 1.3745, g_loss: 0.8307 \n",
            "\n",
            "Epoch [605/1000], Step [25/25], d_loss: 1.3852, g_loss: 0.8417 \n",
            "\n",
            "Epoch [606/1000], Step [25/25], d_loss: 1.3700, g_loss: 0.8190 \n",
            "\n",
            "Epoch [607/1000], Step [25/25], d_loss: 1.3818, g_loss: 0.8170 \n",
            "\n",
            "Epoch [608/1000], Step [25/25], d_loss: 1.3806, g_loss: 0.8322 \n",
            "\n",
            "Epoch [609/1000], Step [25/25], d_loss: 1.3896, g_loss: 0.8605 \n",
            "\n",
            "Epoch [610/1000], Step [25/25], d_loss: 1.3708, g_loss: 0.8310 \n",
            "\n",
            "Epoch [611/1000], Step [25/25], d_loss: 1.3873, g_loss: 0.8216 \n",
            "\n",
            "Epoch [612/1000], Step [25/25], d_loss: 1.3667, g_loss: 0.8364 \n",
            "\n",
            "Epoch [613/1000], Step [25/25], d_loss: 1.3750, g_loss: 0.8407 \n",
            "\n",
            "Epoch [614/1000], Step [25/25], d_loss: 1.3815, g_loss: 0.8030 \n",
            "\n",
            "Epoch [615/1000], Step [25/25], d_loss: 1.3809, g_loss: 1.9093 \n",
            "\n",
            "Epoch [616/1000], Step [25/25], d_loss: 1.3653, g_loss: 0.8247 \n",
            "\n",
            "Epoch [617/1000], Step [25/25], d_loss: 1.3701, g_loss: 0.8384 \n",
            "\n",
            "Epoch [618/1000], Step [25/25], d_loss: 1.3799, g_loss: 0.8460 \n",
            "\n",
            "Epoch [619/1000], Step [25/25], d_loss: 1.3821, g_loss: 0.8133 \n",
            "\n",
            "Epoch [620/1000], Step [25/25], d_loss: 1.3804, g_loss: 0.8327 \n",
            "\n",
            "Epoch [621/1000], Step [25/25], d_loss: 1.3852, g_loss: 0.8146 \n",
            "\n",
            "Epoch [622/1000], Step [25/25], d_loss: 1.3784, g_loss: 0.8136 \n",
            "\n",
            "Epoch [623/1000], Step [25/25], d_loss: 1.3670, g_loss: 0.8351 \n",
            "\n",
            "Epoch [624/1000], Step [25/25], d_loss: 1.3846, g_loss: 0.8386 \n",
            "\n",
            "Epoch [625/1000], Step [25/25], d_loss: 1.4152, g_loss: 0.8153 \n",
            "\n",
            "Epoch [626/1000], Step [25/25], d_loss: 1.3649, g_loss: 0.8665 \n",
            "\n",
            "Epoch [627/1000], Step [25/25], d_loss: 1.3890, g_loss: 0.9078 \n",
            "\n",
            "Epoch [628/1000], Step [25/25], d_loss: 1.3623, g_loss: 0.8073 \n",
            "\n",
            "Epoch [629/1000], Step [25/25], d_loss: 1.3737, g_loss: 0.8118 \n",
            "\n",
            "Epoch [630/1000], Step [25/25], d_loss: 1.3627, g_loss: 0.8167 \n",
            "\n",
            "Epoch [631/1000], Step [25/25], d_loss: 1.3725, g_loss: 0.8043 \n",
            "\n",
            "Epoch [632/1000], Step [25/25], d_loss: 1.3628, g_loss: 0.8274 \n",
            "\n",
            "Epoch [633/1000], Step [25/25], d_loss: 1.3733, g_loss: 0.8264 \n",
            "\n",
            "Epoch [634/1000], Step [25/25], d_loss: 1.3817, g_loss: 0.8143 \n",
            "\n",
            "Epoch [635/1000], Step [25/25], d_loss: 1.3590, g_loss: 0.8178 \n",
            "\n",
            "Epoch [636/1000], Step [25/25], d_loss: 1.4268, g_loss: 0.8260 \n",
            "\n",
            "Epoch [637/1000], Step [25/25], d_loss: 1.3704, g_loss: 0.8261 \n",
            "\n",
            "Epoch [638/1000], Step [25/25], d_loss: 1.3624, g_loss: 0.8197 \n",
            "\n",
            "Epoch [639/1000], Step [25/25], d_loss: 1.3636, g_loss: 0.8272 \n",
            "\n",
            "Epoch [640/1000], Step [25/25], d_loss: 1.3874, g_loss: 0.7971 \n",
            "\n",
            "Epoch [641/1000], Step [25/25], d_loss: 1.3876, g_loss: 0.8416 \n",
            "\n",
            "Epoch [642/1000], Step [25/25], d_loss: 1.3807, g_loss: 0.8694 \n",
            "\n",
            "Epoch [643/1000], Step [25/25], d_loss: 1.3706, g_loss: 0.8383 \n",
            "\n",
            "Epoch [644/1000], Step [25/25], d_loss: 1.3808, g_loss: 0.8207 \n",
            "\n",
            "Epoch [645/1000], Step [25/25], d_loss: 1.3840, g_loss: 0.8354 \n",
            "\n",
            "Epoch [646/1000], Step [25/25], d_loss: 1.3833, g_loss: 0.8189 \n",
            "\n",
            "Epoch [647/1000], Step [25/25], d_loss: 1.3733, g_loss: 2.9186 \n",
            "\n",
            "Epoch [648/1000], Step [25/25], d_loss: 1.3780, g_loss: 0.8119 \n",
            "\n",
            "Epoch [649/1000], Step [25/25], d_loss: 1.3765, g_loss: 0.8298 \n",
            "\n",
            "Epoch [650/1000], Step [25/25], d_loss: 1.3866, g_loss: 0.8252 \n",
            "\n",
            "Epoch [651/1000], Step [25/25], d_loss: 1.3769, g_loss: 0.8250 \n",
            "\n",
            "Epoch [652/1000], Step [25/25], d_loss: 1.3840, g_loss: 0.7959 \n",
            "\n",
            "Epoch [653/1000], Step [25/25], d_loss: 1.3640, g_loss: 0.8408 \n",
            "\n",
            "Epoch [654/1000], Step [25/25], d_loss: 1.3670, g_loss: 0.8073 \n",
            "\n",
            "Epoch [655/1000], Step [25/25], d_loss: 1.3860, g_loss: 0.8274 \n",
            "\n",
            "Epoch [656/1000], Step [25/25], d_loss: 1.3904, g_loss: 0.8134 \n",
            "\n",
            "Epoch [657/1000], Step [25/25], d_loss: 1.3788, g_loss: 0.8056 \n",
            "\n",
            "Epoch [658/1000], Step [25/25], d_loss: 1.3711, g_loss: 0.8093 \n",
            "\n",
            "Epoch [659/1000], Step [25/25], d_loss: 1.3786, g_loss: 0.8142 \n",
            "\n",
            "Epoch [660/1000], Step [25/25], d_loss: 1.3864, g_loss: 0.8099 \n",
            "\n",
            "Epoch [661/1000], Step [25/25], d_loss: 1.3719, g_loss: 0.8279 \n",
            "\n",
            "Epoch [662/1000], Step [25/25], d_loss: 1.3699, g_loss: 0.8215 \n",
            "\n",
            "Epoch [663/1000], Step [25/25], d_loss: 1.3806, g_loss: 0.8320 \n",
            "\n",
            "Epoch [664/1000], Step [25/25], d_loss: 1.3500, g_loss: 0.8149 \n",
            "\n",
            "Epoch [665/1000], Step [25/25], d_loss: 1.3875, g_loss: 0.8016 \n",
            "\n",
            "Epoch [666/1000], Step [25/25], d_loss: 1.3624, g_loss: 0.7961 \n",
            "\n",
            "Epoch [667/1000], Step [25/25], d_loss: 1.3538, g_loss: 0.8005 \n",
            "\n",
            "Epoch [668/1000], Step [25/25], d_loss: 1.3717, g_loss: 0.8168 \n",
            "\n",
            "Epoch [669/1000], Step [25/25], d_loss: 1.3712, g_loss: 0.8128 \n",
            "\n",
            "Epoch [670/1000], Step [25/25], d_loss: 1.3796, g_loss: 0.8174 \n",
            "\n",
            "Epoch [671/1000], Step [25/25], d_loss: 1.3585, g_loss: 0.7989 \n",
            "\n",
            "Epoch [672/1000], Step [25/25], d_loss: 1.3610, g_loss: 0.7905 \n",
            "\n",
            "Epoch [673/1000], Step [25/25], d_loss: 1.3580, g_loss: 0.7934 \n",
            "\n",
            "Epoch [674/1000], Step [25/25], d_loss: 1.3731, g_loss: 0.8305 \n",
            "\n",
            "Epoch [675/1000], Step [25/25], d_loss: 1.3795, g_loss: 0.8267 \n",
            "\n",
            "Epoch [676/1000], Step [25/25], d_loss: 1.3555, g_loss: 1.6215 \n",
            "\n",
            "Epoch [677/1000], Step [25/25], d_loss: 1.3759, g_loss: 0.8106 \n",
            "\n",
            "Epoch [678/1000], Step [25/25], d_loss: 1.3580, g_loss: 0.8432 \n",
            "\n",
            "Epoch [679/1000], Step [25/25], d_loss: 1.3783, g_loss: 0.8129 \n",
            "\n",
            "Epoch [680/1000], Step [25/25], d_loss: 1.3700, g_loss: 0.8124 \n",
            "\n",
            "Epoch [681/1000], Step [25/25], d_loss: 1.3734, g_loss: 0.8136 \n",
            "\n",
            "Epoch [682/1000], Step [25/25], d_loss: 1.3786, g_loss: 0.8107 \n",
            "\n",
            "Epoch [683/1000], Step [25/25], d_loss: 1.3715, g_loss: 0.8098 \n",
            "\n",
            "Epoch [684/1000], Step [25/25], d_loss: 1.3781, g_loss: 0.8051 \n",
            "\n",
            "Epoch [685/1000], Step [25/25], d_loss: 1.3894, g_loss: 0.7989 \n",
            "\n",
            "Epoch [686/1000], Step [25/25], d_loss: 1.3679, g_loss: 0.8119 \n",
            "\n",
            "Epoch [687/1000], Step [25/25], d_loss: 1.3849, g_loss: 0.7973 \n",
            "\n",
            "Epoch [688/1000], Step [25/25], d_loss: 1.3793, g_loss: 0.8034 \n",
            "\n",
            "Epoch [689/1000], Step [25/25], d_loss: 1.3396, g_loss: 0.7752 \n",
            "\n",
            "Epoch [690/1000], Step [25/25], d_loss: 1.3848, g_loss: 0.8117 \n",
            "\n",
            "Epoch [691/1000], Step [25/25], d_loss: 1.3718, g_loss: 0.7928 \n",
            "\n",
            "Epoch [692/1000], Step [25/25], d_loss: 1.3196, g_loss: 0.7880 \n",
            "\n",
            "Epoch [693/1000], Step [25/25], d_loss: 1.3765, g_loss: 0.8172 \n",
            "\n",
            "Epoch [694/1000], Step [25/25], d_loss: 1.3768, g_loss: 0.8000 \n",
            "\n",
            "Epoch [695/1000], Step [25/25], d_loss: 1.3583, g_loss: 0.8364 \n",
            "\n",
            "Epoch [696/1000], Step [25/25], d_loss: 1.3833, g_loss: 0.8289 \n",
            "\n",
            "Epoch [697/1000], Step [25/25], d_loss: 1.3633, g_loss: 0.7991 \n",
            "\n",
            "Epoch [698/1000], Step [25/25], d_loss: 1.3769, g_loss: 0.7667 \n",
            "\n",
            "Epoch [699/1000], Step [25/25], d_loss: 1.3838, g_loss: 0.8013 \n",
            "\n",
            "Epoch [700/1000], Step [25/25], d_loss: 1.3706, g_loss: 0.8251 \n",
            "\n",
            "Epoch [701/1000], Step [25/25], d_loss: 1.3654, g_loss: 0.8311 \n",
            "\n",
            "Epoch [702/1000], Step [25/25], d_loss: 1.3666, g_loss: 0.7935 \n",
            "\n",
            "Epoch [703/1000], Step [25/25], d_loss: 1.3647, g_loss: 0.7979 \n",
            "\n",
            "Epoch [704/1000], Step [25/25], d_loss: 1.3687, g_loss: 0.8034 \n",
            "\n",
            "Epoch [705/1000], Step [25/25], d_loss: 1.3869, g_loss: 0.8148 \n",
            "\n",
            "Epoch [706/1000], Step [25/25], d_loss: 1.3545, g_loss: 0.8267 \n",
            "\n",
            "Epoch [707/1000], Step [25/25], d_loss: 1.3782, g_loss: 0.7980 \n",
            "\n",
            "Epoch [708/1000], Step [25/25], d_loss: 1.3774, g_loss: 0.8026 \n",
            "\n",
            "Epoch [709/1000], Step [25/25], d_loss: 1.3747, g_loss: 0.7952 \n",
            "\n",
            "Epoch [710/1000], Step [25/25], d_loss: 1.3755, g_loss: 0.8079 \n",
            "\n",
            "Epoch [711/1000], Step [25/25], d_loss: 1.3679, g_loss: 0.7903 \n",
            "\n",
            "Epoch [712/1000], Step [25/25], d_loss: 1.3690, g_loss: 0.8172 \n",
            "\n",
            "Epoch [713/1000], Step [25/25], d_loss: 1.3774, g_loss: 0.8084 \n",
            "\n",
            "Epoch [714/1000], Step [25/25], d_loss: 1.3670, g_loss: 0.7960 \n",
            "\n",
            "Epoch [715/1000], Step [25/25], d_loss: 1.3725, g_loss: 0.7928 \n",
            "\n",
            "Epoch [716/1000], Step [25/25], d_loss: 1.3938, g_loss: 0.7940 \n",
            "\n",
            "Epoch [717/1000], Step [25/25], d_loss: 1.3593, g_loss: 0.7973 \n",
            "\n",
            "Epoch [718/1000], Step [25/25], d_loss: 1.3679, g_loss: 2.4016 \n",
            "\n",
            "Epoch [719/1000], Step [25/25], d_loss: 1.3800, g_loss: 0.7841 \n",
            "\n",
            "Epoch [720/1000], Step [25/25], d_loss: 1.3581, g_loss: 0.7864 \n",
            "\n",
            "Epoch [721/1000], Step [25/25], d_loss: 1.3808, g_loss: 0.7988 \n",
            "\n",
            "Epoch [722/1000], Step [25/25], d_loss: 1.4954, g_loss: 0.7873 \n",
            "\n",
            "Epoch [723/1000], Step [25/25], d_loss: 1.3608, g_loss: 0.7977 \n",
            "\n",
            "Epoch [724/1000], Step [25/25], d_loss: 1.3773, g_loss: 0.8186 \n",
            "\n",
            "Epoch [725/1000], Step [25/25], d_loss: 1.3699, g_loss: 0.7825 \n",
            "\n",
            "Epoch [726/1000], Step [25/25], d_loss: 1.3757, g_loss: 0.7746 \n",
            "\n",
            "Epoch [727/1000], Step [25/25], d_loss: 1.4068, g_loss: 0.8516 \n",
            "\n",
            "Epoch [728/1000], Step [25/25], d_loss: 1.3828, g_loss: 0.7953 \n",
            "\n",
            "Epoch [729/1000], Step [25/25], d_loss: 1.3680, g_loss: 0.8106 \n",
            "\n",
            "Epoch [730/1000], Step [25/25], d_loss: 1.3763, g_loss: 0.7902 \n",
            "\n",
            "Epoch [731/1000], Step [25/25], d_loss: 1.3782, g_loss: 0.7805 \n",
            "\n",
            "Epoch [732/1000], Step [25/25], d_loss: 1.3755, g_loss: 0.8044 \n",
            "\n",
            "Epoch [733/1000], Step [25/25], d_loss: 1.3806, g_loss: 0.7544 \n",
            "\n",
            "Epoch [734/1000], Step [25/25], d_loss: 1.3781, g_loss: 0.8108 \n",
            "\n",
            "Epoch [735/1000], Step [25/25], d_loss: 1.3657, g_loss: 0.7933 \n",
            "\n",
            "Epoch [736/1000], Step [25/25], d_loss: 1.3666, g_loss: 0.7704 \n",
            "\n",
            "Epoch [737/1000], Step [25/25], d_loss: 1.3661, g_loss: 0.7939 \n",
            "\n",
            "Epoch [738/1000], Step [25/25], d_loss: 1.3688, g_loss: 0.8138 \n",
            "\n",
            "Epoch [739/1000], Step [25/25], d_loss: 1.3678, g_loss: 0.7713 \n",
            "\n",
            "Epoch [740/1000], Step [25/25], d_loss: 1.3726, g_loss: 0.7832 \n",
            "\n",
            "Epoch [741/1000], Step [25/25], d_loss: 1.3603, g_loss: 0.7920 \n",
            "\n",
            "Epoch [742/1000], Step [25/25], d_loss: 1.3772, g_loss: 0.8019 \n",
            "\n",
            "Epoch [743/1000], Step [25/25], d_loss: 1.3744, g_loss: 0.7763 \n",
            "\n",
            "Epoch [744/1000], Step [25/25], d_loss: 1.3691, g_loss: 0.7816 \n",
            "\n",
            "Epoch [745/1000], Step [25/25], d_loss: 1.3644, g_loss: 1.9038 \n",
            "\n",
            "Epoch [746/1000], Step [25/25], d_loss: 1.3765, g_loss: 0.8008 \n",
            "\n",
            "Epoch [747/1000], Step [25/25], d_loss: 1.3733, g_loss: 0.7902 \n",
            "\n",
            "Epoch [748/1000], Step [25/25], d_loss: 1.3569, g_loss: 0.7637 \n",
            "\n",
            "Epoch [749/1000], Step [25/25], d_loss: 1.3916, g_loss: 0.7584 \n",
            "\n",
            "Epoch [750/1000], Step [25/25], d_loss: 1.3659, g_loss: 1.3667 \n",
            "\n",
            "Epoch [751/1000], Step [25/25], d_loss: 1.3759, g_loss: 0.7985 \n",
            "\n",
            "Epoch [752/1000], Step [25/25], d_loss: 1.3705, g_loss: 0.8060 \n",
            "\n",
            "Epoch [753/1000], Step [25/25], d_loss: 1.3587, g_loss: 0.7978 \n",
            "\n",
            "Epoch [754/1000], Step [25/25], d_loss: 1.3391, g_loss: 0.7880 \n",
            "\n",
            "Epoch [755/1000], Step [25/25], d_loss: 1.3765, g_loss: 0.7868 \n",
            "\n",
            "Epoch [756/1000], Step [25/25], d_loss: 1.3714, g_loss: 0.7829 \n",
            "\n",
            "Epoch [757/1000], Step [25/25], d_loss: 1.3416, g_loss: 0.7912 \n",
            "\n",
            "Epoch [758/1000], Step [25/25], d_loss: 1.3759, g_loss: 0.7764 \n",
            "\n",
            "Epoch [759/1000], Step [25/25], d_loss: 1.3671, g_loss: 2.4124 \n",
            "\n",
            "Epoch [760/1000], Step [25/25], d_loss: 1.3847, g_loss: 0.7812 \n",
            "\n",
            "Epoch [761/1000], Step [25/25], d_loss: 1.3947, g_loss: 0.8181 \n",
            "\n",
            "Epoch [762/1000], Step [25/25], d_loss: 1.3866, g_loss: 0.7896 \n",
            "\n",
            "Epoch [763/1000], Step [25/25], d_loss: 1.3737, g_loss: 0.7806 \n",
            "\n",
            "Epoch [764/1000], Step [25/25], d_loss: 1.3772, g_loss: 0.7595 \n",
            "\n",
            "Epoch [765/1000], Step [25/25], d_loss: 1.3708, g_loss: 2.1164 \n",
            "\n",
            "Epoch [766/1000], Step [25/25], d_loss: 1.3840, g_loss: 0.7910 \n",
            "\n",
            "Epoch [767/1000], Step [25/25], d_loss: 1.3651, g_loss: 0.7798 \n",
            "\n",
            "Epoch [768/1000], Step [25/25], d_loss: 1.3575, g_loss: 0.7373 \n",
            "\n",
            "Epoch [769/1000], Step [25/25], d_loss: 1.3696, g_loss: 0.7643 \n",
            "\n",
            "Epoch [770/1000], Step [25/25], d_loss: 1.3597, g_loss: 0.7650 \n",
            "\n",
            "Epoch [771/1000], Step [25/25], d_loss: 1.3689, g_loss: 0.8073 \n",
            "\n",
            "Epoch [772/1000], Step [25/25], d_loss: 1.3720, g_loss: 0.7875 \n",
            "\n",
            "Epoch [773/1000], Step [25/25], d_loss: 1.3636, g_loss: 0.7758 \n",
            "\n",
            "Epoch [774/1000], Step [25/25], d_loss: 1.3747, g_loss: 0.8042 \n",
            "\n",
            "Epoch [775/1000], Step [25/25], d_loss: 1.3571, g_loss: 0.7771 \n",
            "\n",
            "Epoch [776/1000], Step [25/25], d_loss: 1.3554, g_loss: 0.7544 \n",
            "\n",
            "Epoch [777/1000], Step [25/25], d_loss: 1.3669, g_loss: 0.7942 \n",
            "\n",
            "Epoch [778/1000], Step [25/25], d_loss: 1.3769, g_loss: 0.7514 \n",
            "\n",
            "Epoch [779/1000], Step [25/25], d_loss: 1.3614, g_loss: 0.7842 \n",
            "\n",
            "Epoch [780/1000], Step [25/25], d_loss: 1.3658, g_loss: 0.7888 \n",
            "\n",
            "Epoch [781/1000], Step [25/25], d_loss: 1.3669, g_loss: 0.7779 \n",
            "\n",
            "Epoch [782/1000], Step [25/25], d_loss: 1.3568, g_loss: 1.0958 \n",
            "\n",
            "Epoch [783/1000], Step [25/25], d_loss: 1.3818, g_loss: 1.9623 \n",
            "\n",
            "Epoch [784/1000], Step [25/25], d_loss: 1.3708, g_loss: 0.7845 \n",
            "\n",
            "Epoch [785/1000], Step [25/25], d_loss: 1.3534, g_loss: 0.7707 \n",
            "\n",
            "Epoch [786/1000], Step [25/25], d_loss: 1.3606, g_loss: 0.7771 \n",
            "\n",
            "Epoch [787/1000], Step [25/25], d_loss: 1.3597, g_loss: 0.7739 \n",
            "\n",
            "Epoch [788/1000], Step [25/25], d_loss: 1.3747, g_loss: 0.7779 \n",
            "\n",
            "Epoch [789/1000], Step [25/25], d_loss: 1.3711, g_loss: 0.7771 \n",
            "\n",
            "Epoch [790/1000], Step [25/25], d_loss: 1.3673, g_loss: 0.7719 \n",
            "\n",
            "Epoch [791/1000], Step [25/25], d_loss: 1.3644, g_loss: 0.7889 \n",
            "\n",
            "Epoch [792/1000], Step [25/25], d_loss: 1.3882, g_loss: 0.7826 \n",
            "\n",
            "Epoch [793/1000], Step [25/25], d_loss: 1.3612, g_loss: 0.7612 \n",
            "\n",
            "Epoch [794/1000], Step [25/25], d_loss: 1.3743, g_loss: 0.7693 \n",
            "\n",
            "Epoch [795/1000], Step [25/25], d_loss: 1.3704, g_loss: 1.8709 \n",
            "\n",
            "Epoch [796/1000], Step [25/25], d_loss: 1.3744, g_loss: 0.7617 \n",
            "\n",
            "Epoch [797/1000], Step [25/25], d_loss: 1.3891, g_loss: 0.7936 \n",
            "\n",
            "Epoch [798/1000], Step [25/25], d_loss: 1.4082, g_loss: 0.8209 \n",
            "\n",
            "Epoch [799/1000], Step [25/25], d_loss: 1.3691, g_loss: 0.7573 \n",
            "\n",
            "Epoch [800/1000], Step [25/25], d_loss: 1.3600, g_loss: 0.7803 \n",
            "\n",
            "Epoch [801/1000], Step [25/25], d_loss: 1.3387, g_loss: 0.7878 \n",
            "\n",
            "Epoch [802/1000], Step [25/25], d_loss: 1.3652, g_loss: 0.7838 \n",
            "\n",
            "Epoch [803/1000], Step [25/25], d_loss: 1.3886, g_loss: 0.7690 \n",
            "\n",
            "Epoch [804/1000], Step [25/25], d_loss: 1.3678, g_loss: 0.7700 \n",
            "\n",
            "Epoch [805/1000], Step [25/25], d_loss: 1.3418, g_loss: 1.2936 \n",
            "\n",
            "Epoch [806/1000], Step [25/25], d_loss: 1.3455, g_loss: 0.7898 \n",
            "\n",
            "Epoch [807/1000], Step [25/25], d_loss: 1.3555, g_loss: 0.7780 \n",
            "\n",
            "Epoch [808/1000], Step [25/25], d_loss: 1.3866, g_loss: 0.7802 \n",
            "\n",
            "Epoch [809/1000], Step [25/25], d_loss: 1.3567, g_loss: 1.4440 \n",
            "\n",
            "Epoch [810/1000], Step [25/25], d_loss: 1.3449, g_loss: 0.7839 \n",
            "\n",
            "Epoch [811/1000], Step [25/25], d_loss: 1.3801, g_loss: 0.7354 \n",
            "\n",
            "Epoch [812/1000], Step [25/25], d_loss: 1.3605, g_loss: 0.7692 \n",
            "\n",
            "Epoch [813/1000], Step [25/25], d_loss: 1.3669, g_loss: 0.7560 \n",
            "\n",
            "Epoch [814/1000], Step [25/25], d_loss: 1.3890, g_loss: 0.7763 \n",
            "\n",
            "Epoch [815/1000], Step [25/25], d_loss: 1.3754, g_loss: 0.7979 \n",
            "\n",
            "Epoch [816/1000], Step [25/25], d_loss: 1.4041, g_loss: 0.7796 \n",
            "\n",
            "Epoch [817/1000], Step [25/25], d_loss: 1.3821, g_loss: 0.7754 \n",
            "\n",
            "Epoch [818/1000], Step [25/25], d_loss: 1.3532, g_loss: 0.7729 \n",
            "\n",
            "Epoch [819/1000], Step [25/25], d_loss: 1.3473, g_loss: 0.7828 \n",
            "\n",
            "Epoch [820/1000], Step [25/25], d_loss: 2.1352, g_loss: 1.9671 \n",
            "\n",
            "Epoch [821/1000], Step [25/25], d_loss: 1.3610, g_loss: 0.7335 \n",
            "\n",
            "Epoch [822/1000], Step [25/25], d_loss: 1.3521, g_loss: 0.7980 \n",
            "\n",
            "Epoch [823/1000], Step [25/25], d_loss: 1.3790, g_loss: 0.7604 \n",
            "\n",
            "Epoch [824/1000], Step [25/25], d_loss: 1.3803, g_loss: 0.7736 \n",
            "\n",
            "Epoch [825/1000], Step [25/25], d_loss: 1.3665, g_loss: 2.7414 \n",
            "\n",
            "Epoch [826/1000], Step [25/25], d_loss: 1.3784, g_loss: 0.7764 \n",
            "\n",
            "Epoch [827/1000], Step [25/25], d_loss: 1.3542, g_loss: 2.0704 \n",
            "\n",
            "Epoch [828/1000], Step [25/25], d_loss: 1.3781, g_loss: 0.7324 \n",
            "\n",
            "Epoch [829/1000], Step [25/25], d_loss: 1.3794, g_loss: 0.7807 \n",
            "\n",
            "Epoch [830/1000], Step [25/25], d_loss: 1.3738, g_loss: 0.7861 \n",
            "\n",
            "Epoch [831/1000], Step [25/25], d_loss: 1.4596, g_loss: 2.3156 \n",
            "\n",
            "Epoch [832/1000], Step [25/25], d_loss: 1.3750, g_loss: 0.7683 \n",
            "\n",
            "Epoch [833/1000], Step [25/25], d_loss: 1.3775, g_loss: 0.7865 \n",
            "\n",
            "Epoch [834/1000], Step [25/25], d_loss: 1.3810, g_loss: 0.7833 \n",
            "\n",
            "Epoch [835/1000], Step [25/25], d_loss: 1.3882, g_loss: 0.7790 \n",
            "\n",
            "Epoch [836/1000], Step [25/25], d_loss: 1.3560, g_loss: 0.7810 \n",
            "\n",
            "Epoch [837/1000], Step [25/25], d_loss: 1.3688, g_loss: 0.7572 \n",
            "\n",
            "Epoch [838/1000], Step [25/25], d_loss: 1.3748, g_loss: 0.7705 \n",
            "\n",
            "Epoch [839/1000], Step [25/25], d_loss: 1.3832, g_loss: 0.7773 \n",
            "\n",
            "Epoch [840/1000], Step [25/25], d_loss: 1.3984, g_loss: 0.7796 \n",
            "\n",
            "Epoch [841/1000], Step [25/25], d_loss: 1.3682, g_loss: 0.7705 \n",
            "\n",
            "Epoch [842/1000], Step [25/25], d_loss: 1.3833, g_loss: 0.7711 \n",
            "\n",
            "Epoch [843/1000], Step [25/25], d_loss: 1.3643, g_loss: 0.7812 \n",
            "\n",
            "Epoch [844/1000], Step [25/25], d_loss: 1.3827, g_loss: 0.7960 \n",
            "\n",
            "Epoch [845/1000], Step [25/25], d_loss: 1.3638, g_loss: 0.7825 \n",
            "\n",
            "Epoch [846/1000], Step [25/25], d_loss: 1.3684, g_loss: 0.7848 \n",
            "\n",
            "Epoch [847/1000], Step [25/25], d_loss: 1.3747, g_loss: 0.7835 \n",
            "\n",
            "Epoch [848/1000], Step [25/25], d_loss: 1.3698, g_loss: 0.7786 \n",
            "\n",
            "Epoch [849/1000], Step [25/25], d_loss: 1.3738, g_loss: 0.7862 \n",
            "\n",
            "Epoch [850/1000], Step [25/25], d_loss: 1.3721, g_loss: 2.2516 \n",
            "\n",
            "Epoch [851/1000], Step [25/25], d_loss: 1.3742, g_loss: 0.7899 \n",
            "\n",
            "Epoch [852/1000], Step [25/25], d_loss: 1.3625, g_loss: 0.7743 \n",
            "\n",
            "Epoch [853/1000], Step [25/25], d_loss: 1.3718, g_loss: 0.7877 \n",
            "\n",
            "Epoch [854/1000], Step [25/25], d_loss: 1.3970, g_loss: 0.7559 \n",
            "\n",
            "Epoch [855/1000], Step [25/25], d_loss: 1.3499, g_loss: 0.7679 \n",
            "\n",
            "Epoch [856/1000], Step [25/25], d_loss: 1.3730, g_loss: 0.7762 \n",
            "\n",
            "Epoch [857/1000], Step [25/25], d_loss: 1.3609, g_loss: 0.8001 \n",
            "\n",
            "Epoch [858/1000], Step [25/25], d_loss: 1.3662, g_loss: 2.1711 \n",
            "\n",
            "Epoch [859/1000], Step [25/25], d_loss: 1.3768, g_loss: 0.7586 \n",
            "\n",
            "Epoch [860/1000], Step [25/25], d_loss: 1.3643, g_loss: 0.7796 \n",
            "\n",
            "Epoch [861/1000], Step [25/25], d_loss: 1.3749, g_loss: 0.7745 \n",
            "\n",
            "Epoch [862/1000], Step [25/25], d_loss: 1.3833, g_loss: 0.7824 \n",
            "\n",
            "Epoch [863/1000], Step [25/25], d_loss: 1.3735, g_loss: 0.7774 \n",
            "\n",
            "Epoch [864/1000], Step [25/25], d_loss: 1.3834, g_loss: 0.7779 \n",
            "\n",
            "Epoch [865/1000], Step [25/25], d_loss: 1.3825, g_loss: 0.7718 \n",
            "\n",
            "Epoch [866/1000], Step [25/25], d_loss: 1.3762, g_loss: 0.7591 \n",
            "\n",
            "Epoch [867/1000], Step [25/25], d_loss: 1.3645, g_loss: 0.7656 \n",
            "\n",
            "Epoch [868/1000], Step [25/25], d_loss: 1.3784, g_loss: 0.7769 \n",
            "\n",
            "Epoch [869/1000], Step [25/25], d_loss: 1.3751, g_loss: 0.7951 \n",
            "\n",
            "Epoch [870/1000], Step [25/25], d_loss: 1.3768, g_loss: 0.7841 \n",
            "\n",
            "Epoch [871/1000], Step [25/25], d_loss: 1.3748, g_loss: 0.7863 \n",
            "\n",
            "Epoch [872/1000], Step [25/25], d_loss: 1.3779, g_loss: 0.7638 \n",
            "\n",
            "Epoch [873/1000], Step [25/25], d_loss: 1.3748, g_loss: 0.7584 \n",
            "\n",
            "Epoch [874/1000], Step [25/25], d_loss: 1.3758, g_loss: 0.7675 \n",
            "\n",
            "Epoch [875/1000], Step [25/25], d_loss: 1.3497, g_loss: 0.7791 \n",
            "\n",
            "Epoch [876/1000], Step [25/25], d_loss: 1.3634, g_loss: 0.7916 \n",
            "\n",
            "Epoch [877/1000], Step [25/25], d_loss: 1.3680, g_loss: 0.7759 \n",
            "\n",
            "Epoch [878/1000], Step [25/25], d_loss: 1.3676, g_loss: 0.7592 \n",
            "\n",
            "Epoch [879/1000], Step [25/25], d_loss: 1.3866, g_loss: 0.7714 \n",
            "\n",
            "Epoch [880/1000], Step [25/25], d_loss: 1.3778, g_loss: 0.7813 \n",
            "\n",
            "Epoch [881/1000], Step [25/25], d_loss: 1.3849, g_loss: 0.7801 \n",
            "\n",
            "Epoch [882/1000], Step [25/25], d_loss: 1.3629, g_loss: 0.7672 \n",
            "\n",
            "Epoch [883/1000], Step [25/25], d_loss: 1.3604, g_loss: 0.7651 \n",
            "\n",
            "Epoch [884/1000], Step [25/25], d_loss: 1.3870, g_loss: 0.7634 \n",
            "\n",
            "Epoch [885/1000], Step [25/25], d_loss: 1.3789, g_loss: 0.7893 \n",
            "\n",
            "Epoch [886/1000], Step [25/25], d_loss: 1.3868, g_loss: 0.7813 \n",
            "\n",
            "Epoch [887/1000], Step [25/25], d_loss: 1.3807, g_loss: 0.7747 \n",
            "\n",
            "Epoch [888/1000], Step [25/25], d_loss: 1.3719, g_loss: 1.1528 \n",
            "\n",
            "Epoch [889/1000], Step [25/25], d_loss: 1.3604, g_loss: 0.7603 \n",
            "\n",
            "Epoch [890/1000], Step [25/25], d_loss: 1.3780, g_loss: 0.7686 \n",
            "\n",
            "Epoch [891/1000], Step [25/25], d_loss: 1.3685, g_loss: 0.7831 \n",
            "\n",
            "Epoch [892/1000], Step [25/25], d_loss: 1.4137, g_loss: 0.7697 \n",
            "\n",
            "Epoch [893/1000], Step [25/25], d_loss: 1.3643, g_loss: 0.7643 \n",
            "\n",
            "Epoch [894/1000], Step [25/25], d_loss: 1.3743, g_loss: 0.7699 \n",
            "\n",
            "Epoch [895/1000], Step [25/25], d_loss: 1.3631, g_loss: 0.7912 \n",
            "\n",
            "Epoch [896/1000], Step [25/25], d_loss: 1.3599, g_loss: 0.7765 \n",
            "\n",
            "Epoch [897/1000], Step [25/25], d_loss: 1.3774, g_loss: 0.7789 \n",
            "\n",
            "Epoch [898/1000], Step [25/25], d_loss: 1.3854, g_loss: 0.7615 \n",
            "\n",
            "Epoch [899/1000], Step [25/25], d_loss: 1.3719, g_loss: 0.7588 \n",
            "\n",
            "Epoch [900/1000], Step [25/25], d_loss: 1.3596, g_loss: 0.7711 \n",
            "\n",
            "Epoch [901/1000], Step [25/25], d_loss: 1.3625, g_loss: 0.7716 \n",
            "\n",
            "Epoch [902/1000], Step [25/25], d_loss: 1.3821, g_loss: 0.7779 \n",
            "\n",
            "Epoch [903/1000], Step [25/25], d_loss: 1.3628, g_loss: 0.7709 \n",
            "\n",
            "Epoch [904/1000], Step [25/25], d_loss: 1.3694, g_loss: 0.7480 \n",
            "\n",
            "Epoch [905/1000], Step [25/25], d_loss: 1.3644, g_loss: 1.6868 \n",
            "\n",
            "Epoch [906/1000], Step [25/25], d_loss: 1.3834, g_loss: 2.1400 \n",
            "\n",
            "Epoch [907/1000], Step [25/25], d_loss: 1.3495, g_loss: 0.7634 \n",
            "\n",
            "Epoch [908/1000], Step [25/25], d_loss: 1.3742, g_loss: 0.7660 \n",
            "\n",
            "Epoch [909/1000], Step [25/25], d_loss: 1.3738, g_loss: 0.7719 \n",
            "\n",
            "Epoch [910/1000], Step [25/25], d_loss: 1.3716, g_loss: 0.7910 \n",
            "\n",
            "Epoch [911/1000], Step [25/25], d_loss: 1.3600, g_loss: 7.3021 \n",
            "\n",
            "Epoch [912/1000], Step [25/25], d_loss: 1.3694, g_loss: 0.7724 \n",
            "\n",
            "Epoch [913/1000], Step [25/25], d_loss: 1.3628, g_loss: 0.7763 \n",
            "\n",
            "Epoch [914/1000], Step [25/25], d_loss: 1.3639, g_loss: 0.7832 \n",
            "\n",
            "Epoch [915/1000], Step [25/25], d_loss: 1.3591, g_loss: 0.7671 \n",
            "\n",
            "Epoch [916/1000], Step [25/25], d_loss: 1.3799, g_loss: 1.6074 \n",
            "\n",
            "Epoch [917/1000], Step [25/25], d_loss: 1.3658, g_loss: 0.7622 \n",
            "\n",
            "Epoch [918/1000], Step [25/25], d_loss: 1.3735, g_loss: 0.7757 \n",
            "\n",
            "Epoch [919/1000], Step [25/25], d_loss: 1.3783, g_loss: 0.7737 \n",
            "\n",
            "Epoch [920/1000], Step [25/25], d_loss: 1.3696, g_loss: 0.7741 \n",
            "\n",
            "Epoch [921/1000], Step [25/25], d_loss: 1.3567, g_loss: 0.7690 \n",
            "\n",
            "Epoch [922/1000], Step [25/25], d_loss: 1.3726, g_loss: 0.7778 \n",
            "\n",
            "Epoch [923/1000], Step [25/25], d_loss: 1.3845, g_loss: 0.7792 \n",
            "\n",
            "Epoch [924/1000], Step [25/25], d_loss: 1.3752, g_loss: 0.7878 \n",
            "\n",
            "Epoch [925/1000], Step [25/25], d_loss: 1.3826, g_loss: 0.7996 \n",
            "\n",
            "Epoch [926/1000], Step [25/25], d_loss: 1.3581, g_loss: 0.7843 \n",
            "\n",
            "Epoch [927/1000], Step [25/25], d_loss: 1.3682, g_loss: 0.7605 \n",
            "\n",
            "Epoch [928/1000], Step [25/25], d_loss: 1.3814, g_loss: 0.7653 \n",
            "\n",
            "Epoch [929/1000], Step [25/25], d_loss: 1.3704, g_loss: 2.2411 \n",
            "\n",
            "Epoch [930/1000], Step [25/25], d_loss: 1.3570, g_loss: 0.7602 \n",
            "\n",
            "Epoch [931/1000], Step [25/25], d_loss: 1.3728, g_loss: 0.7682 \n",
            "\n",
            "Epoch [932/1000], Step [25/25], d_loss: 1.3771, g_loss: 0.7695 \n",
            "\n",
            "Epoch [933/1000], Step [25/25], d_loss: 1.3675, g_loss: 0.7867 \n",
            "\n",
            "Epoch [934/1000], Step [25/25], d_loss: 1.3726, g_loss: 0.7902 \n",
            "\n",
            "Epoch [935/1000], Step [25/25], d_loss: 1.3693, g_loss: 0.7891 \n",
            "\n",
            "Epoch [936/1000], Step [25/25], d_loss: 1.3718, g_loss: 0.7940 \n",
            "\n",
            "Epoch [937/1000], Step [25/25], d_loss: 1.3757, g_loss: 1.6737 \n",
            "\n",
            "Epoch [938/1000], Step [25/25], d_loss: 1.3619, g_loss: 0.7677 \n",
            "\n",
            "Epoch [939/1000], Step [25/25], d_loss: 1.3752, g_loss: 1.9662 \n",
            "\n",
            "Epoch [940/1000], Step [25/25], d_loss: 1.3816, g_loss: 0.7815 \n",
            "\n",
            "Epoch [941/1000], Step [25/25], d_loss: 1.3726, g_loss: 0.8244 \n",
            "\n",
            "Epoch [942/1000], Step [25/25], d_loss: 1.3677, g_loss: 0.7649 \n",
            "\n",
            "Epoch [943/1000], Step [25/25], d_loss: 1.3651, g_loss: 0.7716 \n",
            "\n",
            "Epoch [944/1000], Step [25/25], d_loss: 1.3847, g_loss: 0.7814 \n",
            "\n",
            "Epoch [945/1000], Step [25/25], d_loss: 1.3572, g_loss: 0.8132 \n",
            "\n",
            "Epoch [946/1000], Step [25/25], d_loss: 1.3253, g_loss: 0.7842 \n",
            "\n",
            "Epoch [947/1000], Step [25/25], d_loss: 1.3728, g_loss: 0.7799 \n",
            "\n",
            "Epoch [948/1000], Step [25/25], d_loss: 1.3763, g_loss: 0.7917 \n",
            "\n",
            "Epoch [949/1000], Step [25/25], d_loss: 1.3835, g_loss: 0.7657 \n",
            "\n",
            "Epoch [950/1000], Step [25/25], d_loss: 1.3605, g_loss: 0.7616 \n",
            "\n",
            "Epoch [951/1000], Step [25/25], d_loss: 1.3556, g_loss: 0.7599 \n",
            "\n",
            "Epoch [952/1000], Step [25/25], d_loss: 1.3297, g_loss: 0.7660 \n",
            "\n",
            "Epoch [953/1000], Step [25/25], d_loss: 1.3650, g_loss: 0.7707 \n",
            "\n",
            "Epoch [954/1000], Step [25/25], d_loss: 1.3781, g_loss: 0.7621 \n",
            "\n",
            "Epoch [955/1000], Step [25/25], d_loss: 1.3750, g_loss: 0.7507 \n",
            "\n",
            "Epoch [956/1000], Step [25/25], d_loss: 1.3785, g_loss: 0.7784 \n",
            "\n",
            "Epoch [957/1000], Step [25/25], d_loss: 1.3637, g_loss: 0.7703 \n",
            "\n",
            "Epoch [958/1000], Step [25/25], d_loss: 1.3716, g_loss: 0.7824 \n",
            "\n",
            "Epoch [959/1000], Step [25/25], d_loss: 1.3886, g_loss: 0.7819 \n",
            "\n",
            "Epoch [960/1000], Step [25/25], d_loss: 1.3815, g_loss: 1.8156 \n",
            "\n",
            "Epoch [961/1000], Step [25/25], d_loss: 1.3441, g_loss: 0.7655 \n",
            "\n",
            "Epoch [962/1000], Step [25/25], d_loss: 1.3730, g_loss: 0.7581 \n",
            "\n",
            "Epoch [963/1000], Step [25/25], d_loss: 1.3812, g_loss: 0.7802 \n",
            "\n",
            "Epoch [964/1000], Step [25/25], d_loss: 1.3661, g_loss: 0.7933 \n",
            "\n",
            "Epoch [965/1000], Step [25/25], d_loss: 1.3729, g_loss: 2.0253 \n",
            "\n",
            "Epoch [966/1000], Step [25/25], d_loss: 1.3694, g_loss: 0.7850 \n",
            "\n",
            "Epoch [967/1000], Step [25/25], d_loss: 1.3850, g_loss: 0.7764 \n",
            "\n",
            "Epoch [968/1000], Step [25/25], d_loss: 1.3750, g_loss: 0.7575 \n",
            "\n",
            "Epoch [969/1000], Step [25/25], d_loss: 1.3689, g_loss: 0.7864 \n",
            "\n",
            "Epoch [970/1000], Step [25/25], d_loss: 1.3880, g_loss: 0.7672 \n",
            "\n",
            "Epoch [971/1000], Step [25/25], d_loss: 1.3701, g_loss: 0.7539 \n",
            "\n",
            "Epoch [972/1000], Step [25/25], d_loss: 1.3803, g_loss: 0.7830 \n",
            "\n",
            "Epoch [973/1000], Step [25/25], d_loss: 1.3805, g_loss: 0.7841 \n",
            "\n",
            "Epoch [974/1000], Step [25/25], d_loss: 1.3657, g_loss: 0.7748 \n",
            "\n",
            "Epoch [975/1000], Step [25/25], d_loss: 1.3854, g_loss: 0.7396 \n",
            "\n",
            "Epoch [976/1000], Step [25/25], d_loss: 1.3957, g_loss: 0.7542 \n",
            "\n",
            "Epoch [977/1000], Step [25/25], d_loss: 1.3684, g_loss: 0.7748 \n",
            "\n",
            "Epoch [978/1000], Step [25/25], d_loss: 1.3377, g_loss: 0.7422 \n",
            "\n",
            "Epoch [979/1000], Step [25/25], d_loss: 1.3513, g_loss: 0.7633 \n",
            "\n",
            "Epoch [980/1000], Step [25/25], d_loss: 1.4068, g_loss: 0.8049 \n",
            "\n",
            "Epoch [981/1000], Step [25/25], d_loss: 1.3843, g_loss: 0.7432 \n",
            "\n",
            "Epoch [982/1000], Step [25/25], d_loss: 1.3851, g_loss: 0.8349 \n",
            "\n",
            "Epoch [983/1000], Step [25/25], d_loss: 1.3869, g_loss: 0.8185 \n",
            "\n",
            "Epoch [984/1000], Step [25/25], d_loss: 1.3927, g_loss: 0.7913 \n",
            "\n",
            "Epoch [985/1000], Step [25/25], d_loss: 1.3636, g_loss: 0.7837 \n",
            "\n",
            "Epoch [986/1000], Step [25/25], d_loss: 1.3726, g_loss: 0.7706 \n",
            "\n",
            "Epoch [987/1000], Step [25/25], d_loss: 1.3616, g_loss: 0.7680 \n",
            "\n",
            "Epoch [988/1000], Step [25/25], d_loss: 1.3812, g_loss: 0.7704 \n",
            "\n",
            "Epoch [989/1000], Step [25/25], d_loss: 1.3729, g_loss: 0.7842 \n",
            "\n",
            "Epoch [990/1000], Step [25/25], d_loss: 1.3607, g_loss: 0.7984 \n",
            "\n",
            "Epoch [991/1000], Step [25/25], d_loss: 1.3653, g_loss: 0.7758 \n",
            "\n",
            "Epoch [992/1000], Step [25/25], d_loss: 1.3492, g_loss: 0.7970 \n",
            "\n",
            "Epoch [993/1000], Step [25/25], d_loss: 1.3690, g_loss: 0.8125 \n",
            "\n",
            "Epoch [994/1000], Step [25/25], d_loss: 1.3455, g_loss: 2.4464 \n",
            "\n",
            "Epoch [995/1000], Step [25/25], d_loss: 1.3567, g_loss: 0.7848 \n",
            "\n",
            "Epoch [996/1000], Step [25/25], d_loss: 1.3166, g_loss: 0.8025 \n",
            "\n",
            "Epoch [997/1000], Step [25/25], d_loss: 1.3656, g_loss: 0.7790 \n",
            "\n",
            "Epoch [998/1000], Step [25/25], d_loss: 1.3766, g_loss: 0.7631 \n",
            "\n",
            "Epoch [999/1000], Step [25/25], d_loss: 1.3645, g_loss: 0.8090 \n",
            "\n",
            "Epoch [1000/1000], Step [25/25], d_loss: 1.3659, g_loss: 0.7658 \n",
            "\n"
          ]
        }
      ],
      "source": [
        "losses_gen, losses_dis = gan.train(df_train, epochs=1000)"
      ]
    },
    {
      "cell_type": "code",
      "execution_count": 11,
      "metadata": {
        "colab": {
          "base_uri": "https://localhost:8080/",
          "height": 485
        },
        "id": "KTG2JvN9NMod",
        "outputId": "7e9b4c7f-ec60-4d39-966a-e443a299ebd9"
      },
      "outputs": [
        {
          "data": {
            "image/png": "[encoded data removed]",
            "text/plain": [
              "<Figure size 1000x500 with 1 Axes>"
            ]
          },
          "metadata": {},
          "output_type": "display_data"
        }
      ],
      "source": [
        "def plot_losses(losses_gen, losses_dis):\n",
        "    plt.figure(figsize=(10,5))\n",
        "    plt.title(\"Generator and Discriminator Loss During Training\")\n",
        "\n",
        "    #convert losses into numpy\n",
        "    losses_gen = [i.cpu().detach().numpy() for i in losses_gen]\n",
        "    losses_dis = [i.cpu().detach().numpy() for i in losses_dis]\n",
        "    plt.plot(losses_gen,label=\"Generator\")\n",
        "    plt.plot(losses_dis,label=\"Discriminator\")\n",
        "    plt.xlabel(\"iterations\") #Epochs * Steps\n",
        "    plt.ylabel(\"Loss\")\n",
        "    plt.legend()\n",
        "    plt.show()\n",
        "\n",
        "plot_losses(losses_gen, losses_dis)"
      ]
    },
    {
      "cell_type": "markdown",
      "metadata": {
        "id": "Y4gFYS_DCNdc"
      },
      "source": [
        "### Join augmented data + real data"
      ]
    },
    {
      "cell_type": "code",
      "execution_count": 12,
      "metadata": {
        "colab": {
          "base_uri": "https://localhost:8080/"
        },
        "id": "iQcq2uyUNMod",
        "outputId": "20862959-da6c-4694-89df-47ca1ad91c8e"
      },
      "outputs": [
        {
          "name": "stdout",
          "output_type": "stream",
          "text": [
            "cuda:0\n"
          ]
        }
      ],
      "source": [
        "#define the device\n",
        "device = torch.device('cuda:0' if torch.cuda.is_available() else 'cpu')\n",
        "print(device)\n",
        "\n",
        "sample_number = df_train[df_train['Class'] == 0].shape[0]\n",
        "gan_samples = gan.sample(sample_number)\n",
        "samples_test = np.append(gan_samples, np.ones((sample_number, 1)), axis=1)\n",
        "gan_df = pd.DataFrame(samples_test, columns=df_train.columns)\n",
        "#concat wgan_df with df_train\n",
        "df_concat = pd.concat([df_train, gan_df], ignore_index=True)"
      ]
    },
    {
      "cell_type": "code",
      "execution_count": 13,
      "metadata": {
        "colab": {
          "base_uri": "https://localhost:8080/"
        },
        "id": "mgzG8giNNMoe",
        "outputId": "8a4718e5-48ed-417e-fd5e-4c7f04576726"
      },
      "outputs": [
        {
          "data": {
            "text/plain": [
              "1.0    227845\n",
              "0.0    227451\n",
              "Name: Class, dtype: int64"
            ]
          },
          "execution_count": 13,
          "metadata": {},
          "output_type": "execute_result"
        }
      ],
      "source": [
        "df_concat['Class'].value_counts()"
      ]
    },
    {
      "cell_type": "markdown",
      "metadata": {
        "id": "wZAh0vE4NMoe"
      },
      "source": [
        "# Model evaluation"
      ]
    },
    {
      "cell_type": "markdown",
      "metadata": {
        "id": "hOwrQY8nVPyC"
      },
      "source": [
        "### Deep Neural Network"
      ]
    },
    {
      "cell_type": "code",
      "execution_count": 14,
      "metadata": {
        "id": "zMvvW3SJCNdd"
      },
      "outputs": [],
      "source": [
        "from sklearn.metrics import PrecisionRecallDisplay, RocCurveDisplay, average_precision_score\n",
        "from imblearn.metrics import classification_report_imbalanced\n",
        "\n",
        "\n",
        "def common_metrics(y_true, y_pred, y_prob):\n",
        "    ConfusionMatrixDisplay.from_predictions(y_true, y_pred, normalize='true')\n",
        "    RocCurveDisplay.from_predictions(y_true, y_prob)\n",
        "    precision, recall, _ = precision_recall_curve(y_true, y_prob)\n",
        "    #\n",
        "    fig, ax = plt.subplots()\n",
        "    PrecisionRecallDisplay.from_predictions(y_true, y_prob, ax=ax)\n",
        "    # P / (P + N)\n",
        "    ap_frauds = (len(y_true[y_true == 1]) / len(y_true))\n",
        "    plt.axhline(y=ap_frauds, color='r', linestyle='-')\n",
        "    plt.show()\n",
        "    #\n",
        "    print(classification_report_imbalanced(y_true, y_pred))\n",
        "    print(\"AUPRC:\", auc(recall, precision))\n",
        "    print(\"AP:\", average_precision_score(y_true, y_prob))"
      ]
    },
    {
      "cell_type": "code",
      "execution_count": 15,
      "metadata": {
        "id": "ZxxwX4RmNMoe"
      },
      "outputs": [],
      "source": [
        "class Model(nn.Module):\n",
        "    def __init__(self, nr_features):\n",
        "        super().__init__()\n",
        "        self.model = nn.Sequential(\n",
        "            nn.Linear(nr_features, 1024),\n",
        "            nn.BatchNorm1d(1024),\n",
        "            nn.ReLU(),\n",
        "            nn.Linear(1024, 512),\n",
        "            nn.BatchNorm1d(512),\n",
        "            nn.ReLU(),\n",
        "            nn.Linear(512, 256),\n",
        "            nn.BatchNorm1d(256),\n",
        "            nn.ReLU(),\n",
        "            nn.Linear(256, 1),\n",
        "            nn.Sigmoid(),\n",
        "        )\n",
        "\n",
        "    def forward(self, x):\n",
        "        return torch.flatten(self.model(x))"
      ]
    },
    {
      "cell_type": "code",
      "execution_count": 16,
      "metadata": {
        "id": "K7hMcvVUNMoe"
      },
      "outputs": [],
      "source": [
        "class FraudModel:\n",
        "    def __init__(self, train_df):\n",
        "        self.lr = 0.001\n",
        "        self.batch_size = 64\n",
        "        self.dataset = FraudDataset(train_df, fraud = False)\n",
        "        self.dataloader = DataLoader(self.dataset, self.batch_size, shuffle=True)\n",
        "        self.model = Model(nr_features=self.dataset.features).to(device)\n",
        "        self.optimizer = optim.Adam(self.model.parameters(), lr=self.lr)\n",
        "        self.loss = nn.BCELoss()\n",
        "\n",
        "    def train(self, epochs=100):\n",
        "        for epoch in range(epochs):\n",
        "            epoch_loss = 0\n",
        "            for _, (x, y) in enumerate(tqdm(self.dataloader)):\n",
        "                x,y = x.to(device), y.to(device)\n",
        "                self.optimizer.zero_grad()\n",
        "                y_pred = self.model(x)\n",
        "                loss = self.loss(y_pred, y)\n",
        "                loss.backward()\n",
        "                self.optimizer.step()\n",
        "                epoch_loss += loss.item() / len(x)\n",
        "            print(\"[Epoch %d/%d] loss: %f\" % (epoch+1, epochs, np.mean(epoch_loss)))\n",
        "\n",
        "    def predict(self, x):\n",
        "        with torch.no_grad():\n",
        "            pred = self.model(x)\n",
        "            return pred.cpu().numpy()\n",
        "\n",
        "    def evaluate(self, test_df, confidence=0.50):\n",
        "            input = torch.Tensor(test_df.drop(['Class'], axis=1).values).to(device)\n",
        "            y_true = torch.Tensor(test_df['Class'].values).to(device)\n",
        "            #preds = self.predict(input)\n",
        "            preds = np.array([])\n",
        "            dataloader_test = DataLoader(TensorDataset(input, y_true), batch_size=64, shuffle=False)\n",
        "\n",
        "            for (inp, _) in dataloader_test:\n",
        "                pred = self.predict(inp)\n",
        "                preds = np.concatenate((preds, pred), axis=None)\n",
        "            labels = np.zeros_like(preds)\n",
        "            labels[preds >= confidence] = 1\n",
        "            common_metrics(y_true.cpu().numpy(), labels,preds)"
      ]
    },
    {
      "cell_type": "code",
      "execution_count": 17,
      "metadata": {
        "colab": {
          "base_uri": "https://localhost:8080/",
          "height": 1000
        },
        "id": "tiV0tCMHNMoe",
        "outputId": "67199b5d-6d00-4b5f-b757-98091681d741"
      },
      "outputs": [
        {
          "name": "stderr",
          "output_type": "stream",
          "text": [
            "100%|██████████| 7114/7114 [00:23<00:00, 305.32it/s]\n"
          ]
        },
        {
          "name": "stdout",
          "output_type": "stream",
          "text": [
            "[Epoch 1/300] loss: 3.433711\n"
          ]
        },
        {
          "name": "stderr",
          "output_type": "stream",
          "text": [
            "100%|██████████| 7114/7114 [00:24<00:00, 295.65it/s]\n"
          ]
        },
        {
          "name": "stdout",
          "output_type": "stream",
          "text": [
            "[Epoch 2/300] loss: 2.453993\n"
          ]
        },
        {
          "name": "stderr",
          "output_type": "stream",
          "text": [
            "100%|██████████| 7114/7114 [00:24<00:00, 286.98it/s]\n"
          ]
        },
        {
          "name": "stdout",
          "output_type": "stream",
          "text": [
            "[Epoch 3/300] loss: 2.009925\n"
          ]
        },
        {
          "name": "stderr",
          "output_type": "stream",
          "text": [
            "100%|██████████| 7114/7114 [00:23<00:00, 303.25it/s]\n"
          ]
        },
        {
          "name": "stdout",
          "output_type": "stream",
          "text": [
            "[Epoch 4/300] loss: 1.756800\n"
          ]
        },
        {
          "name": "stderr",
          "output_type": "stream",
          "text": [
            "100%|██████████| 7114/7114 [00:24<00:00, 294.53it/s]\n"
          ]
        },
        {
          "name": "stdout",
          "output_type": "stream",
          "text": [
            "[Epoch 5/300] loss: 1.585130\n"
          ]
        },
        {
          "name": "stderr",
          "output_type": "stream",
          "text": [
            "100%|██████████| 7114/7114 [00:24<00:00, 288.99it/s]\n"
          ]
        },
        {
          "name": "stdout",
          "output_type": "stream",
          "text": [
            "[Epoch 6/300] loss: 1.422332\n"
          ]
        },
        {
          "name": "stderr",
          "output_type": "stream",
          "text": [
            "100%|██████████| 7114/7114 [00:24<00:00, 294.89it/s]\n"
          ]
        },
        {
          "name": "stdout",
          "output_type": "stream",
          "text": [
            "[Epoch 7/300] loss: 1.322209\n"
          ]
        },
        {
          "name": "stderr",
          "output_type": "stream",
          "text": [
            "100%|██████████| 7114/7114 [00:25<00:00, 284.00it/s]\n"
          ]
        },
        {
          "name": "stdout",
          "output_type": "stream",
          "text": [
            "[Epoch 8/300] loss: 1.168135\n"
          ]
        },
        {
          "name": "stderr",
          "output_type": "stream",
          "text": [
            "100%|██████████| 7114/7114 [00:24<00:00, 289.54it/s]\n"
          ]
        },
        {
          "name": "stdout",
          "output_type": "stream",
          "text": [
            "[Epoch 9/300] loss: 1.070090\n"
          ]
        },
        {
          "name": "stderr",
          "output_type": "stream",
          "text": [
            "100%|██████████| 7114/7114 [00:24<00:00, 290.93it/s]\n"
          ]
        },
        {
          "name": "stdout",
          "output_type": "stream",
          "text": [
            "[Epoch 10/300] loss: 1.043962\n"
          ]
        },
        {
          "name": "stderr",
          "output_type": "stream",
          "text": [
            "100%|██████████| 7114/7114 [00:24<00:00, 294.31it/s]\n"
          ]
        },
        {
          "name": "stdout",
          "output_type": "stream",
          "text": [
            "[Epoch 11/300] loss: 1.035667\n"
          ]
        },
        {
          "name": "stderr",
          "output_type": "stream",
          "text": [
            "100%|██████████| 7114/7114 [00:24<00:00, 288.76it/s]\n"
          ]
        },
        {
          "name": "stdout",
          "output_type": "stream",
          "text": [
            "[Epoch 12/300] loss: 0.941248\n"
          ]
        },
        {
          "name": "stderr",
          "output_type": "stream",
          "text": [
            "100%|██████████| 7114/7114 [00:24<00:00, 291.14it/s]\n"
          ]
        },
        {
          "name": "stdout",
          "output_type": "stream",
          "text": [
            "[Epoch 13/300] loss: 0.922713\n"
          ]
        },
        {
          "name": "stderr",
          "output_type": "stream",
          "text": [
            "100%|██████████| 7114/7114 [00:23<00:00, 298.86it/s]\n"
          ]
        },
        {
          "name": "stdout",
          "output_type": "stream",
          "text": [
            "[Epoch 14/300] loss: 0.910070\n"
          ]
        },
        {
          "name": "stderr",
          "output_type": "stream",
          "text": [
            "100%|██████████| 7114/7114 [00:24<00:00, 288.38it/s]\n"
          ]
        },
        {
          "name": "stdout",
          "output_type": "stream",
          "text": [
            "[Epoch 15/300] loss: 0.884880\n"
          ]
        },
        {
          "name": "stderr",
          "output_type": "stream",
          "text": [
            "100%|██████████| 7114/7114 [00:24<00:00, 292.76it/s]\n"
          ]
        },
        {
          "name": "stdout",
          "output_type": "stream",
          "text": [
            "[Epoch 16/300] loss: 0.844800\n"
          ]
        },
        {
          "name": "stderr",
          "output_type": "stream",
          "text": [
            "100%|██████████| 7114/7114 [00:23<00:00, 305.77it/s]\n"
          ]
        },
        {
          "name": "stdout",
          "output_type": "stream",
          "text": [
            "[Epoch 17/300] loss: 0.839660\n"
          ]
        },
        {
          "name": "stderr",
          "output_type": "stream",
          "text": [
            "100%|██████████| 7114/7114 [00:24<00:00, 294.79it/s]\n"
          ]
        },
        {
          "name": "stdout",
          "output_type": "stream",
          "text": [
            "[Epoch 18/300] loss: 0.812536\n"
          ]
        },
        {
          "name": "stderr",
          "output_type": "stream",
          "text": [
            "100%|██████████| 7114/7114 [00:24<00:00, 295.69it/s]\n"
          ]
        },
        {
          "name": "stdout",
          "output_type": "stream",
          "text": [
            "[Epoch 19/300] loss: 0.808440\n"
          ]
        },
        {
          "name": "stderr",
          "output_type": "stream",
          "text": [
            "100%|██████████| 7114/7114 [00:23<00:00, 303.06it/s]\n"
          ]
        },
        {
          "name": "stdout",
          "output_type": "stream",
          "text": [
            "[Epoch 20/300] loss: 0.905358\n"
          ]
        },
        {
          "name": "stderr",
          "output_type": "stream",
          "text": [
            "100%|██████████| 7114/7114 [00:24<00:00, 293.63it/s]\n"
          ]
        },
        {
          "name": "stdout",
          "output_type": "stream",
          "text": [
            "[Epoch 21/300] loss: 0.760058\n"
          ]
        },
        {
          "name": "stderr",
          "output_type": "stream",
          "text": [
            "100%|██████████| 7114/7114 [00:24<00:00, 294.91it/s]\n"
          ]
        },
        {
          "name": "stdout",
          "output_type": "stream",
          "text": [
            "[Epoch 22/300] loss: 0.818964\n"
          ]
        },
        {
          "name": "stderr",
          "output_type": "stream",
          "text": [
            "100%|██████████| 7114/7114 [00:23<00:00, 303.90it/s]\n"
          ]
        },
        {
          "name": "stdout",
          "output_type": "stream",
          "text": [
            "[Epoch 23/300] loss: 0.765337\n"
          ]
        },
        {
          "name": "stderr",
          "output_type": "stream",
          "text": [
            "100%|██████████| 7114/7114 [00:24<00:00, 293.98it/s]\n"
          ]
        },
        {
          "name": "stdout",
          "output_type": "stream",
          "text": [
            "[Epoch 24/300] loss: 0.795320\n"
          ]
        },
        {
          "name": "stderr",
          "output_type": "stream",
          "text": [
            "100%|██████████| 7114/7114 [00:23<00:00, 298.01it/s]\n"
          ]
        },
        {
          "name": "stdout",
          "output_type": "stream",
          "text": [
            "[Epoch 25/300] loss: 0.700819\n"
          ]
        },
        {
          "name": "stderr",
          "output_type": "stream",
          "text": [
            "100%|██████████| 7114/7114 [00:23<00:00, 303.44it/s]\n"
          ]
        },
        {
          "name": "stdout",
          "output_type": "stream",
          "text": [
            "[Epoch 26/300] loss: 0.736886\n"
          ]
        },
        {
          "name": "stderr",
          "output_type": "stream",
          "text": [
            "100%|██████████| 7114/7114 [00:24<00:00, 294.66it/s]\n"
          ]
        },
        {
          "name": "stdout",
          "output_type": "stream",
          "text": [
            "[Epoch 27/300] loss: 0.720840\n"
          ]
        },
        {
          "name": "stderr",
          "output_type": "stream",
          "text": [
            "100%|██████████| 7114/7114 [00:23<00:00, 297.03it/s]\n"
          ]
        },
        {
          "name": "stdout",
          "output_type": "stream",
          "text": [
            "[Epoch 28/300] loss: 0.695691\n"
          ]
        },
        {
          "name": "stderr",
          "output_type": "stream",
          "text": [
            "100%|██████████| 7114/7114 [00:23<00:00, 304.21it/s]\n"
          ]
        },
        {
          "name": "stdout",
          "output_type": "stream",
          "text": [
            "[Epoch 29/300] loss: 0.752657\n"
          ]
        },
        {
          "name": "stderr",
          "output_type": "stream",
          "text": [
            "100%|██████████| 7114/7114 [00:24<00:00, 294.78it/s]\n"
          ]
        },
        {
          "name": "stdout",
          "output_type": "stream",
          "text": [
            "[Epoch 30/300] loss: 0.651350\n"
          ]
        },
        {
          "name": "stderr",
          "output_type": "stream",
          "text": [
            "100%|██████████| 7114/7114 [00:23<00:00, 300.37it/s]\n"
          ]
        },
        {
          "name": "stdout",
          "output_type": "stream",
          "text": [
            "[Epoch 31/300] loss: 0.655031\n"
          ]
        },
        {
          "name": "stderr",
          "output_type": "stream",
          "text": [
            "100%|██████████| 7114/7114 [00:23<00:00, 301.77it/s]\n"
          ]
        },
        {
          "name": "stdout",
          "output_type": "stream",
          "text": [
            "[Epoch 32/300] loss: 0.662246\n"
          ]
        },
        {
          "name": "stderr",
          "output_type": "stream",
          "text": [
            "100%|██████████| 7114/7114 [00:24<00:00, 292.64it/s]\n"
          ]
        },
        {
          "name": "stdout",
          "output_type": "stream",
          "text": [
            "[Epoch 33/300] loss: 0.604273\n"
          ]
        },
        {
          "name": "stderr",
          "output_type": "stream",
          "text": [
            "100%|██████████| 7114/7114 [00:23<00:00, 305.39it/s]\n"
          ]
        },
        {
          "name": "stdout",
          "output_type": "stream",
          "text": [
            "[Epoch 34/300] loss: 0.615229\n"
          ]
        },
        {
          "name": "stderr",
          "output_type": "stream",
          "text": [
            "100%|██████████| 7114/7114 [00:23<00:00, 305.01it/s]\n"
          ]
        },
        {
          "name": "stdout",
          "output_type": "stream",
          "text": [
            "[Epoch 35/300] loss: 0.612259\n"
          ]
        },
        {
          "name": "stderr",
          "output_type": "stream",
          "text": [
            "100%|██████████| 7114/7114 [00:24<00:00, 296.14it/s]\n"
          ]
        },
        {
          "name": "stdout",
          "output_type": "stream",
          "text": [
            "[Epoch 36/300] loss: 0.616569\n"
          ]
        },
        {
          "name": "stderr",
          "output_type": "stream",
          "text": [
            "100%|██████████| 7114/7114 [00:23<00:00, 301.40it/s]\n"
          ]
        },
        {
          "name": "stdout",
          "output_type": "stream",
          "text": [
            "[Epoch 37/300] loss: 0.603104\n"
          ]
        },
        {
          "name": "stderr",
          "output_type": "stream",
          "text": [
            "100%|██████████| 7114/7114 [00:23<00:00, 299.12it/s]\n"
          ]
        },
        {
          "name": "stdout",
          "output_type": "stream",
          "text": [
            "[Epoch 38/300] loss: 0.579415\n"
          ]
        },
        {
          "name": "stderr",
          "output_type": "stream",
          "text": [
            "100%|██████████| 7114/7114 [00:24<00:00, 293.27it/s]\n"
          ]
        },
        {
          "name": "stdout",
          "output_type": "stream",
          "text": [
            "[Epoch 39/300] loss: 0.641816\n"
          ]
        },
        {
          "name": "stderr",
          "output_type": "stream",
          "text": [
            "100%|██████████| 7114/7114 [00:23<00:00, 303.21it/s]\n"
          ]
        },
        {
          "name": "stdout",
          "output_type": "stream",
          "text": [
            "[Epoch 40/300] loss: 0.611338\n"
          ]
        },
        {
          "name": "stderr",
          "output_type": "stream",
          "text": [
            "100%|██████████| 7114/7114 [00:23<00:00, 297.27it/s]\n"
          ]
        },
        {
          "name": "stdout",
          "output_type": "stream",
          "text": [
            "[Epoch 41/300] loss: 0.686036\n"
          ]
        },
        {
          "name": "stderr",
          "output_type": "stream",
          "text": [
            "100%|██████████| 7114/7114 [00:24<00:00, 292.72it/s]\n"
          ]
        },
        {
          "name": "stdout",
          "output_type": "stream",
          "text": [
            "[Epoch 42/300] loss: 0.629079\n"
          ]
        },
        {
          "name": "stderr",
          "output_type": "stream",
          "text": [
            "100%|██████████| 7114/7114 [00:23<00:00, 302.54it/s]\n"
          ]
        },
        {
          "name": "stdout",
          "output_type": "stream",
          "text": [
            "[Epoch 43/300] loss: 0.603304\n"
          ]
        },
        {
          "name": "stderr",
          "output_type": "stream",
          "text": [
            "100%|██████████| 7114/7114 [00:23<00:00, 296.51it/s]\n"
          ]
        },
        {
          "name": "stdout",
          "output_type": "stream",
          "text": [
            "[Epoch 44/300] loss: 0.608187\n"
          ]
        },
        {
          "name": "stderr",
          "output_type": "stream",
          "text": [
            "100%|██████████| 7114/7114 [00:24<00:00, 292.51it/s]\n"
          ]
        },
        {
          "name": "stdout",
          "output_type": "stream",
          "text": [
            "[Epoch 45/300] loss: 0.692109\n"
          ]
        },
        {
          "name": "stderr",
          "output_type": "stream",
          "text": [
            "100%|██████████| 7114/7114 [00:23<00:00, 301.50it/s]\n"
          ]
        },
        {
          "name": "stdout",
          "output_type": "stream",
          "text": [
            "[Epoch 46/300] loss: 0.638556\n"
          ]
        },
        {
          "name": "stderr",
          "output_type": "stream",
          "text": [
            "100%|██████████| 7114/7114 [00:24<00:00, 296.38it/s]\n"
          ]
        },
        {
          "name": "stdout",
          "output_type": "stream",
          "text": [
            "[Epoch 47/300] loss: 0.600533\n"
          ]
        },
        {
          "name": "stderr",
          "output_type": "stream",
          "text": [
            "100%|██████████| 7114/7114 [00:24<00:00, 293.61it/s]\n"
          ]
        },
        {
          "name": "stdout",
          "output_type": "stream",
          "text": [
            "[Epoch 48/300] loss: 0.566589\n"
          ]
        },
        {
          "name": "stderr",
          "output_type": "stream",
          "text": [
            "100%|██████████| 7114/7114 [00:23<00:00, 299.81it/s]\n"
          ]
        },
        {
          "name": "stdout",
          "output_type": "stream",
          "text": [
            "[Epoch 49/300] loss: 0.613514\n"
          ]
        },
        {
          "name": "stderr",
          "output_type": "stream",
          "text": [
            "100%|██████████| 7114/7114 [00:24<00:00, 293.79it/s]\n"
          ]
        },
        {
          "name": "stdout",
          "output_type": "stream",
          "text": [
            "[Epoch 50/300] loss: 0.559768\n"
          ]
        },
        {
          "name": "stderr",
          "output_type": "stream",
          "text": [
            "100%|██████████| 7114/7114 [00:24<00:00, 293.16it/s]\n"
          ]
        },
        {
          "name": "stdout",
          "output_type": "stream",
          "text": [
            "[Epoch 51/300] loss: 0.568541\n"
          ]
        },
        {
          "name": "stderr",
          "output_type": "stream",
          "text": [
            "100%|██████████| 7114/7114 [00:23<00:00, 297.05it/s]\n"
          ]
        },
        {
          "name": "stdout",
          "output_type": "stream",
          "text": [
            "[Epoch 52/300] loss: 0.594371\n"
          ]
        },
        {
          "name": "stderr",
          "output_type": "stream",
          "text": [
            "100%|██████████| 7114/7114 [00:24<00:00, 294.00it/s]\n"
          ]
        },
        {
          "name": "stdout",
          "output_type": "stream",
          "text": [
            "[Epoch 53/300] loss: 0.540094\n"
          ]
        },
        {
          "name": "stderr",
          "output_type": "stream",
          "text": [
            "100%|██████████| 7114/7114 [00:24<00:00, 292.41it/s]\n"
          ]
        },
        {
          "name": "stdout",
          "output_type": "stream",
          "text": [
            "[Epoch 54/300] loss: 0.545524\n"
          ]
        },
        {
          "name": "stderr",
          "output_type": "stream",
          "text": [
            "100%|██████████| 7114/7114 [00:23<00:00, 303.04it/s]\n"
          ]
        },
        {
          "name": "stdout",
          "output_type": "stream",
          "text": [
            "[Epoch 55/300] loss: 0.553114\n"
          ]
        },
        {
          "name": "stderr",
          "output_type": "stream",
          "text": [
            "100%|██████████| 7114/7114 [00:24<00:00, 296.08it/s]\n"
          ]
        },
        {
          "name": "stdout",
          "output_type": "stream",
          "text": [
            "[Epoch 56/300] loss: 0.519227\n"
          ]
        },
        {
          "name": "stderr",
          "output_type": "stream",
          "text": [
            "100%|██████████| 7114/7114 [00:24<00:00, 292.69it/s]\n"
          ]
        },
        {
          "name": "stdout",
          "output_type": "stream",
          "text": [
            "[Epoch 57/300] loss: 0.497005\n"
          ]
        },
        {
          "name": "stderr",
          "output_type": "stream",
          "text": [
            "100%|██████████| 7114/7114 [00:23<00:00, 305.75it/s]\n"
          ]
        },
        {
          "name": "stdout",
          "output_type": "stream",
          "text": [
            "[Epoch 58/300] loss: 0.516069\n"
          ]
        },
        {
          "name": "stderr",
          "output_type": "stream",
          "text": [
            "100%|██████████| 7114/7114 [00:24<00:00, 292.07it/s]\n"
          ]
        },
        {
          "name": "stdout",
          "output_type": "stream",
          "text": [
            "[Epoch 59/300] loss: 0.643562\n"
          ]
        },
        {
          "name": "stderr",
          "output_type": "stream",
          "text": [
            "100%|██████████| 7114/7114 [00:24<00:00, 294.00it/s]\n"
          ]
        },
        {
          "name": "stdout",
          "output_type": "stream",
          "text": [
            "[Epoch 60/300] loss: 0.536600\n"
          ]
        },
        {
          "name": "stderr",
          "output_type": "stream",
          "text": [
            "100%|██████████| 7114/7114 [00:23<00:00, 304.43it/s]\n"
          ]
        },
        {
          "name": "stdout",
          "output_type": "stream",
          "text": [
            "[Epoch 61/300] loss: 0.548162\n"
          ]
        },
        {
          "name": "stderr",
          "output_type": "stream",
          "text": [
            "100%|██████████| 7114/7114 [00:24<00:00, 296.39it/s]\n"
          ]
        },
        {
          "name": "stdout",
          "output_type": "stream",
          "text": [
            "[Epoch 62/300] loss: 0.627436\n"
          ]
        },
        {
          "name": "stderr",
          "output_type": "stream",
          "text": [
            "100%|██████████| 7114/7114 [00:24<00:00, 292.60it/s]\n"
          ]
        },
        {
          "name": "stdout",
          "output_type": "stream",
          "text": [
            "[Epoch 63/300] loss: 0.575708\n"
          ]
        },
        {
          "name": "stderr",
          "output_type": "stream",
          "text": [
            "100%|██████████| 7114/7114 [00:23<00:00, 302.26it/s]\n"
          ]
        },
        {
          "name": "stdout",
          "output_type": "stream",
          "text": [
            "[Epoch 64/300] loss: 0.594014\n"
          ]
        },
        {
          "name": "stderr",
          "output_type": "stream",
          "text": [
            "100%|██████████| 7114/7114 [00:24<00:00, 292.85it/s]\n"
          ]
        },
        {
          "name": "stdout",
          "output_type": "stream",
          "text": [
            "[Epoch 65/300] loss: 0.512241\n"
          ]
        },
        {
          "name": "stderr",
          "output_type": "stream",
          "text": [
            "100%|██████████| 7114/7114 [00:24<00:00, 292.71it/s]\n"
          ]
        },
        {
          "name": "stdout",
          "output_type": "stream",
          "text": [
            "[Epoch 66/300] loss: 0.505828\n"
          ]
        },
        {
          "name": "stderr",
          "output_type": "stream",
          "text": [
            "100%|██████████| 7114/7114 [00:23<00:00, 304.14it/s]\n"
          ]
        },
        {
          "name": "stdout",
          "output_type": "stream",
          "text": [
            "[Epoch 67/300] loss: 0.508431\n"
          ]
        },
        {
          "name": "stderr",
          "output_type": "stream",
          "text": [
            "100%|██████████| 7114/7114 [00:24<00:00, 295.12it/s]\n"
          ]
        },
        {
          "name": "stdout",
          "output_type": "stream",
          "text": [
            "[Epoch 68/300] loss: 0.506354\n"
          ]
        },
        {
          "name": "stderr",
          "output_type": "stream",
          "text": [
            "100%|██████████| 7114/7114 [00:24<00:00, 293.03it/s]\n"
          ]
        },
        {
          "name": "stdout",
          "output_type": "stream",
          "text": [
            "[Epoch 69/300] loss: 0.517476\n"
          ]
        },
        {
          "name": "stderr",
          "output_type": "stream",
          "text": [
            "100%|██████████| 7114/7114 [00:23<00:00, 305.53it/s]\n"
          ]
        },
        {
          "name": "stdout",
          "output_type": "stream",
          "text": [
            "[Epoch 70/300] loss: 0.482003\n"
          ]
        },
        {
          "name": "stderr",
          "output_type": "stream",
          "text": [
            "100%|██████████| 7114/7114 [00:24<00:00, 294.10it/s]\n"
          ]
        },
        {
          "name": "stdout",
          "output_type": "stream",
          "text": [
            "[Epoch 71/300] loss: 0.523492\n"
          ]
        },
        {
          "name": "stderr",
          "output_type": "stream",
          "text": [
            "100%|██████████| 7114/7114 [00:24<00:00, 291.80it/s]\n"
          ]
        },
        {
          "name": "stdout",
          "output_type": "stream",
          "text": [
            "[Epoch 72/300] loss: 0.523711\n"
          ]
        },
        {
          "name": "stderr",
          "output_type": "stream",
          "text": [
            "100%|██████████| 7114/7114 [00:23<00:00, 304.20it/s]\n"
          ]
        },
        {
          "name": "stdout",
          "output_type": "stream",
          "text": [
            "[Epoch 73/300] loss: 0.576619\n"
          ]
        },
        {
          "name": "stderr",
          "output_type": "stream",
          "text": [
            "100%|██████████| 7114/7114 [00:23<00:00, 296.52it/s]\n"
          ]
        },
        {
          "name": "stdout",
          "output_type": "stream",
          "text": [
            "[Epoch 74/300] loss: 0.523224\n"
          ]
        },
        {
          "name": "stderr",
          "output_type": "stream",
          "text": [
            "100%|██████████| 7114/7114 [00:24<00:00, 294.57it/s]\n"
          ]
        },
        {
          "name": "stdout",
          "output_type": "stream",
          "text": [
            "[Epoch 75/300] loss: 0.558584\n"
          ]
        },
        {
          "name": "stderr",
          "output_type": "stream",
          "text": [
            "100%|██████████| 7114/7114 [00:23<00:00, 307.77it/s]\n"
          ]
        },
        {
          "name": "stdout",
          "output_type": "stream",
          "text": [
            "[Epoch 76/300] loss: 0.500230\n"
          ]
        },
        {
          "name": "stderr",
          "output_type": "stream",
          "text": [
            "100%|██████████| 7114/7114 [00:24<00:00, 292.98it/s]\n"
          ]
        },
        {
          "name": "stdout",
          "output_type": "stream",
          "text": [
            "[Epoch 77/300] loss: 0.478857\n"
          ]
        },
        {
          "name": "stderr",
          "output_type": "stream",
          "text": [
            "100%|██████████| 7114/7114 [00:24<00:00, 295.14it/s]\n"
          ]
        },
        {
          "name": "stdout",
          "output_type": "stream",
          "text": [
            "[Epoch 78/300] loss: 0.485756\n"
          ]
        },
        {
          "name": "stderr",
          "output_type": "stream",
          "text": [
            "100%|██████████| 7114/7114 [00:23<00:00, 306.14it/s]\n"
          ]
        },
        {
          "name": "stdout",
          "output_type": "stream",
          "text": [
            "[Epoch 79/300] loss: 0.581031\n"
          ]
        },
        {
          "name": "stderr",
          "output_type": "stream",
          "text": [
            "100%|██████████| 7114/7114 [00:24<00:00, 292.96it/s]\n"
          ]
        },
        {
          "name": "stdout",
          "output_type": "stream",
          "text": [
            "[Epoch 80/300] loss: 0.665635\n"
          ]
        },
        {
          "name": "stderr",
          "output_type": "stream",
          "text": [
            "100%|██████████| 7114/7114 [00:24<00:00, 293.65it/s]\n"
          ]
        },
        {
          "name": "stdout",
          "output_type": "stream",
          "text": [
            "[Epoch 81/300] loss: 0.556510\n"
          ]
        },
        {
          "name": "stderr",
          "output_type": "stream",
          "text": [
            "100%|██████████| 7114/7114 [00:23<00:00, 306.28it/s]\n"
          ]
        },
        {
          "name": "stdout",
          "output_type": "stream",
          "text": [
            "[Epoch 82/300] loss: 0.561329\n"
          ]
        },
        {
          "name": "stderr",
          "output_type": "stream",
          "text": [
            "100%|██████████| 7114/7114 [00:24<00:00, 292.94it/s]\n"
          ]
        },
        {
          "name": "stdout",
          "output_type": "stream",
          "text": [
            "[Epoch 83/300] loss: 0.528756\n"
          ]
        },
        {
          "name": "stderr",
          "output_type": "stream",
          "text": [
            "100%|██████████| 7114/7114 [00:24<00:00, 296.09it/s]\n"
          ]
        },
        {
          "name": "stdout",
          "output_type": "stream",
          "text": [
            "[Epoch 84/300] loss: 0.527539\n"
          ]
        },
        {
          "name": "stderr",
          "output_type": "stream",
          "text": [
            "100%|██████████| 7114/7114 [00:23<00:00, 304.24it/s]\n"
          ]
        },
        {
          "name": "stdout",
          "output_type": "stream",
          "text": [
            "[Epoch 85/300] loss: 0.514322\n"
          ]
        },
        {
          "name": "stderr",
          "output_type": "stream",
          "text": [
            "100%|██████████| 7114/7114 [00:24<00:00, 294.80it/s]\n"
          ]
        },
        {
          "name": "stdout",
          "output_type": "stream",
          "text": [
            "[Epoch 86/300] loss: 0.502959\n"
          ]
        },
        {
          "name": "stderr",
          "output_type": "stream",
          "text": [
            "100%|██████████| 7114/7114 [00:24<00:00, 294.30it/s]\n"
          ]
        },
        {
          "name": "stdout",
          "output_type": "stream",
          "text": [
            "[Epoch 87/300] loss: 0.509314\n"
          ]
        },
        {
          "name": "stderr",
          "output_type": "stream",
          "text": [
            "100%|██████████| 7114/7114 [00:23<00:00, 303.51it/s]\n"
          ]
        },
        {
          "name": "stdout",
          "output_type": "stream",
          "text": [
            "[Epoch 88/300] loss: 0.530896\n"
          ]
        },
        {
          "name": "stderr",
          "output_type": "stream",
          "text": [
            "100%|██████████| 7114/7114 [00:24<00:00, 289.51it/s]\n"
          ]
        },
        {
          "name": "stdout",
          "output_type": "stream",
          "text": [
            "[Epoch 89/300] loss: 0.516238\n"
          ]
        },
        {
          "name": "stderr",
          "output_type": "stream",
          "text": [
            "100%|██████████| 7114/7114 [00:25<00:00, 278.91it/s]\n"
          ]
        },
        {
          "name": "stdout",
          "output_type": "stream",
          "text": [
            "[Epoch 90/300] loss: 0.488679\n"
          ]
        },
        {
          "name": "stderr",
          "output_type": "stream",
          "text": [
            "100%|██████████| 7114/7114 [00:23<00:00, 299.36it/s]\n"
          ]
        },
        {
          "name": "stdout",
          "output_type": "stream",
          "text": [
            "[Epoch 91/300] loss: 0.475093\n"
          ]
        },
        {
          "name": "stderr",
          "output_type": "stream",
          "text": [
            "100%|██████████| 7114/7114 [00:25<00:00, 278.39it/s]\n"
          ]
        },
        {
          "name": "stdout",
          "output_type": "stream",
          "text": [
            "[Epoch 92/300] loss: 0.525952\n"
          ]
        },
        {
          "name": "stderr",
          "output_type": "stream",
          "text": [
            "100%|██████████| 7114/7114 [00:25<00:00, 277.69it/s]\n"
          ]
        },
        {
          "name": "stdout",
          "output_type": "stream",
          "text": [
            "[Epoch 93/300] loss: 0.474343\n"
          ]
        },
        {
          "name": "stderr",
          "output_type": "stream",
          "text": [
            "100%|██████████| 7114/7114 [00:25<00:00, 283.72it/s]\n"
          ]
        },
        {
          "name": "stdout",
          "output_type": "stream",
          "text": [
            "[Epoch 94/300] loss: 0.481745\n"
          ]
        },
        {
          "name": "stderr",
          "output_type": "stream",
          "text": [
            "100%|██████████| 7114/7114 [00:24<00:00, 286.50it/s]\n"
          ]
        },
        {
          "name": "stdout",
          "output_type": "stream",
          "text": [
            "[Epoch 95/300] loss: 0.484810\n"
          ]
        },
        {
          "name": "stderr",
          "output_type": "stream",
          "text": [
            "100%|██████████| 7114/7114 [00:24<00:00, 286.78it/s]\n"
          ]
        },
        {
          "name": "stdout",
          "output_type": "stream",
          "text": [
            "[Epoch 96/300] loss: 0.441480\n"
          ]
        },
        {
          "name": "stderr",
          "output_type": "stream",
          "text": [
            "100%|██████████| 7114/7114 [00:24<00:00, 284.67it/s]\n"
          ]
        },
        {
          "name": "stdout",
          "output_type": "stream",
          "text": [
            "[Epoch 97/300] loss: 0.489909\n"
          ]
        },
        {
          "name": "stderr",
          "output_type": "stream",
          "text": [
            "100%|██████████| 7114/7114 [00:24<00:00, 295.01it/s]\n"
          ]
        },
        {
          "name": "stdout",
          "output_type": "stream",
          "text": [
            "[Epoch 98/300] loss: 0.455432\n"
          ]
        },
        {
          "name": "stderr",
          "output_type": "stream",
          "text": [
            "100%|██████████| 7114/7114 [00:25<00:00, 281.38it/s]\n"
          ]
        },
        {
          "name": "stdout",
          "output_type": "stream",
          "text": [
            "[Epoch 99/300] loss: 0.458112\n"
          ]
        },
        {
          "name": "stderr",
          "output_type": "stream",
          "text": [
            "100%|██████████| 7114/7114 [00:25<00:00, 279.77it/s]\n"
          ]
        },
        {
          "name": "stdout",
          "output_type": "stream",
          "text": [
            "[Epoch 100/300] loss: 0.474961\n"
          ]
        },
        {
          "name": "stderr",
          "output_type": "stream",
          "text": [
            "100%|██████████| 7114/7114 [00:24<00:00, 294.35it/s]\n"
          ]
        },
        {
          "name": "stdout",
          "output_type": "stream",
          "text": [
            "[Epoch 101/300] loss: 0.441917\n"
          ]
        },
        {
          "name": "stderr",
          "output_type": "stream",
          "text": [
            "100%|██████████| 7114/7114 [00:25<00:00, 283.66it/s]\n"
          ]
        },
        {
          "name": "stdout",
          "output_type": "stream",
          "text": [
            "[Epoch 102/300] loss: 0.484935\n"
          ]
        },
        {
          "name": "stderr",
          "output_type": "stream",
          "text": [
            "100%|██████████| 7114/7114 [00:25<00:00, 284.04it/s]\n"
          ]
        },
        {
          "name": "stdout",
          "output_type": "stream",
          "text": [
            "[Epoch 103/300] loss: 0.463111\n"
          ]
        },
        {
          "name": "stderr",
          "output_type": "stream",
          "text": [
            "100%|██████████| 7114/7114 [00:24<00:00, 288.29it/s]\n"
          ]
        },
        {
          "name": "stdout",
          "output_type": "stream",
          "text": [
            "[Epoch 104/300] loss: 0.478346\n"
          ]
        },
        {
          "name": "stderr",
          "output_type": "stream",
          "text": [
            "100%|██████████| 7114/7114 [00:24<00:00, 287.38it/s]\n"
          ]
        },
        {
          "name": "stdout",
          "output_type": "stream",
          "text": [
            "[Epoch 105/300] loss: 0.444272\n"
          ]
        },
        {
          "name": "stderr",
          "output_type": "stream",
          "text": [
            "100%|██████████| 7114/7114 [00:25<00:00, 282.98it/s]\n"
          ]
        },
        {
          "name": "stdout",
          "output_type": "stream",
          "text": [
            "[Epoch 106/300] loss: 0.472573\n"
          ]
        },
        {
          "name": "stderr",
          "output_type": "stream",
          "text": [
            "100%|██████████| 7114/7114 [00:25<00:00, 284.29it/s]\n"
          ]
        },
        {
          "name": "stdout",
          "output_type": "stream",
          "text": [
            "[Epoch 107/300] loss: 0.459401\n"
          ]
        },
        {
          "name": "stderr",
          "output_type": "stream",
          "text": [
            "100%|██████████| 7114/7114 [00:24<00:00, 291.43it/s]\n"
          ]
        },
        {
          "name": "stdout",
          "output_type": "stream",
          "text": [
            "[Epoch 108/300] loss: 0.434632\n"
          ]
        },
        {
          "name": "stderr",
          "output_type": "stream",
          "text": [
            "100%|██████████| 7114/7114 [00:25<00:00, 279.96it/s]\n"
          ]
        },
        {
          "name": "stdout",
          "output_type": "stream",
          "text": [
            "[Epoch 109/300] loss: 0.474115\n"
          ]
        },
        {
          "name": "stderr",
          "output_type": "stream",
          "text": [
            "100%|██████████| 7114/7114 [00:25<00:00, 280.84it/s]\n"
          ]
        },
        {
          "name": "stdout",
          "output_type": "stream",
          "text": [
            "[Epoch 110/300] loss: 0.461988\n"
          ]
        },
        {
          "name": "stderr",
          "output_type": "stream",
          "text": [
            "100%|██████████| 7114/7114 [00:23<00:00, 301.06it/s]\n"
          ]
        },
        {
          "name": "stdout",
          "output_type": "stream",
          "text": [
            "[Epoch 111/300] loss: 0.440930\n"
          ]
        },
        {
          "name": "stderr",
          "output_type": "stream",
          "text": [
            "100%|██████████| 7114/7114 [00:23<00:00, 299.79it/s]\n"
          ]
        },
        {
          "name": "stdout",
          "output_type": "stream",
          "text": [
            "[Epoch 112/300] loss: 0.595456\n"
          ]
        },
        {
          "name": "stderr",
          "output_type": "stream",
          "text": [
            "100%|██████████| 7114/7114 [00:24<00:00, 291.61it/s]\n"
          ]
        },
        {
          "name": "stdout",
          "output_type": "stream",
          "text": [
            "[Epoch 113/300] loss: 0.436383\n"
          ]
        },
        {
          "name": "stderr",
          "output_type": "stream",
          "text": [
            "100%|██████████| 7114/7114 [00:23<00:00, 298.18it/s]\n"
          ]
        },
        {
          "name": "stdout",
          "output_type": "stream",
          "text": [
            "[Epoch 114/300] loss: 0.517243\n"
          ]
        },
        {
          "name": "stderr",
          "output_type": "stream",
          "text": [
            "100%|██████████| 7114/7114 [00:23<00:00, 297.64it/s]\n"
          ]
        },
        {
          "name": "stdout",
          "output_type": "stream",
          "text": [
            "[Epoch 115/300] loss: 0.438205\n"
          ]
        },
        {
          "name": "stderr",
          "output_type": "stream",
          "text": [
            "100%|██████████| 7114/7114 [00:24<00:00, 288.62it/s]\n"
          ]
        },
        {
          "name": "stdout",
          "output_type": "stream",
          "text": [
            "[Epoch 116/300] loss: 0.521350\n"
          ]
        },
        {
          "name": "stderr",
          "output_type": "stream",
          "text": [
            "100%|██████████| 7114/7114 [00:24<00:00, 295.81it/s]\n"
          ]
        },
        {
          "name": "stdout",
          "output_type": "stream",
          "text": [
            "[Epoch 117/300] loss: 0.431076\n"
          ]
        },
        {
          "name": "stderr",
          "output_type": "stream",
          "text": [
            "100%|██████████| 7114/7114 [00:24<00:00, 295.74it/s]\n"
          ]
        },
        {
          "name": "stdout",
          "output_type": "stream",
          "text": [
            "[Epoch 118/300] loss: 0.431206\n"
          ]
        },
        {
          "name": "stderr",
          "output_type": "stream",
          "text": [
            "100%|██████████| 7114/7114 [00:25<00:00, 282.66it/s]\n"
          ]
        },
        {
          "name": "stdout",
          "output_type": "stream",
          "text": [
            "[Epoch 119/300] loss: 0.505813\n"
          ]
        },
        {
          "name": "stderr",
          "output_type": "stream",
          "text": [
            "100%|██████████| 7114/7114 [00:24<00:00, 289.05it/s]\n"
          ]
        },
        {
          "name": "stdout",
          "output_type": "stream",
          "text": [
            "[Epoch 120/300] loss: 0.597128\n"
          ]
        },
        {
          "name": "stderr",
          "output_type": "stream",
          "text": [
            "100%|██████████| 7114/7114 [00:23<00:00, 296.77it/s]\n"
          ]
        },
        {
          "name": "stdout",
          "output_type": "stream",
          "text": [
            "[Epoch 121/300] loss: 0.421709\n"
          ]
        },
        {
          "name": "stderr",
          "output_type": "stream",
          "text": [
            "100%|██████████| 7114/7114 [00:24<00:00, 287.74it/s]\n"
          ]
        },
        {
          "name": "stdout",
          "output_type": "stream",
          "text": [
            "[Epoch 122/300] loss: 0.428518\n"
          ]
        },
        {
          "name": "stderr",
          "output_type": "stream",
          "text": [
            "100%|██████████| 7114/7114 [00:24<00:00, 288.73it/s]\n"
          ]
        },
        {
          "name": "stdout",
          "output_type": "stream",
          "text": [
            "[Epoch 123/300] loss: 0.427685\n"
          ]
        },
        {
          "name": "stderr",
          "output_type": "stream",
          "text": [
            "100%|██████████| 7114/7114 [00:23<00:00, 299.80it/s]\n"
          ]
        },
        {
          "name": "stdout",
          "output_type": "stream",
          "text": [
            "[Epoch 124/300] loss: 0.470763\n"
          ]
        },
        {
          "name": "stderr",
          "output_type": "stream",
          "text": [
            "100%|██████████| 7114/7114 [00:24<00:00, 292.56it/s]\n"
          ]
        },
        {
          "name": "stdout",
          "output_type": "stream",
          "text": [
            "[Epoch 125/300] loss: 0.524460\n"
          ]
        },
        {
          "name": "stderr",
          "output_type": "stream",
          "text": [
            "100%|██████████| 7114/7114 [00:24<00:00, 290.53it/s]\n"
          ]
        },
        {
          "name": "stdout",
          "output_type": "stream",
          "text": [
            "[Epoch 126/300] loss: 0.442763\n"
          ]
        },
        {
          "name": "stderr",
          "output_type": "stream",
          "text": [
            "100%|██████████| 7114/7114 [00:23<00:00, 304.01it/s]\n"
          ]
        },
        {
          "name": "stdout",
          "output_type": "stream",
          "text": [
            "[Epoch 127/300] loss: 0.501787\n"
          ]
        },
        {
          "name": "stderr",
          "output_type": "stream",
          "text": [
            "100%|██████████| 7114/7114 [00:24<00:00, 290.72it/s]\n"
          ]
        },
        {
          "name": "stdout",
          "output_type": "stream",
          "text": [
            "[Epoch 128/300] loss: 0.629493\n"
          ]
        },
        {
          "name": "stderr",
          "output_type": "stream",
          "text": [
            "100%|██████████| 7114/7114 [00:24<00:00, 291.66it/s]\n"
          ]
        },
        {
          "name": "stdout",
          "output_type": "stream",
          "text": [
            "[Epoch 129/300] loss: 0.525164\n"
          ]
        },
        {
          "name": "stderr",
          "output_type": "stream",
          "text": [
            "100%|██████████| 7114/7114 [00:23<00:00, 299.63it/s]\n"
          ]
        },
        {
          "name": "stdout",
          "output_type": "stream",
          "text": [
            "[Epoch 130/300] loss: 0.456188\n"
          ]
        },
        {
          "name": "stderr",
          "output_type": "stream",
          "text": [
            "100%|██████████| 7114/7114 [00:24<00:00, 293.19it/s]\n"
          ]
        },
        {
          "name": "stdout",
          "output_type": "stream",
          "text": [
            "[Epoch 131/300] loss: 0.434363\n"
          ]
        },
        {
          "name": "stderr",
          "output_type": "stream",
          "text": [
            "100%|██████████| 7114/7114 [00:23<00:00, 296.75it/s]\n"
          ]
        },
        {
          "name": "stdout",
          "output_type": "stream",
          "text": [
            "[Epoch 132/300] loss: 0.421334\n"
          ]
        },
        {
          "name": "stderr",
          "output_type": "stream",
          "text": [
            "100%|██████████| 7114/7114 [00:23<00:00, 301.76it/s]\n"
          ]
        },
        {
          "name": "stdout",
          "output_type": "stream",
          "text": [
            "[Epoch 133/300] loss: 0.432086\n"
          ]
        },
        {
          "name": "stderr",
          "output_type": "stream",
          "text": [
            "100%|██████████| 7114/7114 [00:24<00:00, 293.42it/s]\n"
          ]
        },
        {
          "name": "stdout",
          "output_type": "stream",
          "text": [
            "[Epoch 134/300] loss: 0.455346\n"
          ]
        },
        {
          "name": "stderr",
          "output_type": "stream",
          "text": [
            "100%|██████████| 7114/7114 [00:23<00:00, 299.29it/s]\n"
          ]
        },
        {
          "name": "stdout",
          "output_type": "stream",
          "text": [
            "[Epoch 135/300] loss: 0.437421\n"
          ]
        },
        {
          "name": "stderr",
          "output_type": "stream",
          "text": [
            "100%|██████████| 7114/7114 [00:23<00:00, 299.40it/s]\n"
          ]
        },
        {
          "name": "stdout",
          "output_type": "stream",
          "text": [
            "[Epoch 136/300] loss: 0.474385\n"
          ]
        },
        {
          "name": "stderr",
          "output_type": "stream",
          "text": [
            "100%|██████████| 7114/7114 [00:24<00:00, 293.50it/s]\n"
          ]
        },
        {
          "name": "stdout",
          "output_type": "stream",
          "text": [
            "[Epoch 137/300] loss: 0.421819\n"
          ]
        },
        {
          "name": "stderr",
          "output_type": "stream",
          "text": [
            "100%|██████████| 7114/7114 [00:23<00:00, 297.34it/s]\n"
          ]
        },
        {
          "name": "stdout",
          "output_type": "stream",
          "text": [
            "[Epoch 138/300] loss: 0.433302\n"
          ]
        },
        {
          "name": "stderr",
          "output_type": "stream",
          "text": [
            "100%|██████████| 7114/7114 [00:24<00:00, 295.94it/s]\n"
          ]
        },
        {
          "name": "stdout",
          "output_type": "stream",
          "text": [
            "[Epoch 139/300] loss: 0.419808\n"
          ]
        },
        {
          "name": "stderr",
          "output_type": "stream",
          "text": [
            "100%|██████████| 7114/7114 [00:24<00:00, 292.95it/s]\n"
          ]
        },
        {
          "name": "stdout",
          "output_type": "stream",
          "text": [
            "[Epoch 140/300] loss: 0.387341\n"
          ]
        },
        {
          "name": "stderr",
          "output_type": "stream",
          "text": [
            "100%|██████████| 7114/7114 [00:23<00:00, 300.13it/s]\n"
          ]
        },
        {
          "name": "stdout",
          "output_type": "stream",
          "text": [
            "[Epoch 141/300] loss: 0.436234\n"
          ]
        },
        {
          "name": "stderr",
          "output_type": "stream",
          "text": [
            "100%|██████████| 7114/7114 [00:23<00:00, 297.53it/s]\n"
          ]
        },
        {
          "name": "stdout",
          "output_type": "stream",
          "text": [
            "[Epoch 142/300] loss: 0.417518\n"
          ]
        },
        {
          "name": "stderr",
          "output_type": "stream",
          "text": [
            "100%|██████████| 7114/7114 [00:24<00:00, 290.22it/s]\n"
          ]
        },
        {
          "name": "stdout",
          "output_type": "stream",
          "text": [
            "[Epoch 143/300] loss: 0.412935\n"
          ]
        },
        {
          "name": "stderr",
          "output_type": "stream",
          "text": [
            "100%|██████████| 7114/7114 [00:23<00:00, 297.09it/s]\n"
          ]
        },
        {
          "name": "stdout",
          "output_type": "stream",
          "text": [
            "[Epoch 144/300] loss: 0.457315\n"
          ]
        },
        {
          "name": "stderr",
          "output_type": "stream",
          "text": [
            "100%|██████████| 7114/7114 [00:24<00:00, 291.71it/s]\n"
          ]
        },
        {
          "name": "stdout",
          "output_type": "stream",
          "text": [
            "[Epoch 145/300] loss: 0.424103\n"
          ]
        },
        {
          "name": "stderr",
          "output_type": "stream",
          "text": [
            "100%|██████████| 7114/7114 [00:24<00:00, 289.37it/s]\n"
          ]
        },
        {
          "name": "stdout",
          "output_type": "stream",
          "text": [
            "[Epoch 146/300] loss: 0.471623\n"
          ]
        },
        {
          "name": "stderr",
          "output_type": "stream",
          "text": [
            "100%|██████████| 7114/7114 [00:24<00:00, 296.14it/s]\n"
          ]
        },
        {
          "name": "stdout",
          "output_type": "stream",
          "text": [
            "[Epoch 147/300] loss: 0.402403\n"
          ]
        },
        {
          "name": "stderr",
          "output_type": "stream",
          "text": [
            "100%|██████████| 7114/7114 [00:24<00:00, 294.38it/s]\n"
          ]
        },
        {
          "name": "stdout",
          "output_type": "stream",
          "text": [
            "[Epoch 148/300] loss: 0.453534\n"
          ]
        },
        {
          "name": "stderr",
          "output_type": "stream",
          "text": [
            "100%|██████████| 7114/7114 [00:24<00:00, 292.04it/s]\n"
          ]
        },
        {
          "name": "stdout",
          "output_type": "stream",
          "text": [
            "[Epoch 149/300] loss: 0.409659\n"
          ]
        },
        {
          "name": "stderr",
          "output_type": "stream",
          "text": [
            "100%|██████████| 7114/7114 [00:23<00:00, 299.43it/s]\n"
          ]
        },
        {
          "name": "stdout",
          "output_type": "stream",
          "text": [
            "[Epoch 150/300] loss: 0.397724\n"
          ]
        },
        {
          "name": "stderr",
          "output_type": "stream",
          "text": [
            "100%|██████████| 7114/7114 [00:23<00:00, 299.15it/s]\n"
          ]
        },
        {
          "name": "stdout",
          "output_type": "stream",
          "text": [
            "[Epoch 151/300] loss: 0.395959\n"
          ]
        },
        {
          "name": "stderr",
          "output_type": "stream",
          "text": [
            "100%|██████████| 7114/7114 [00:24<00:00, 291.81it/s]\n"
          ]
        },
        {
          "name": "stdout",
          "output_type": "stream",
          "text": [
            "[Epoch 152/300] loss: 0.430448\n"
          ]
        },
        {
          "name": "stderr",
          "output_type": "stream",
          "text": [
            "100%|██████████| 7114/7114 [00:24<00:00, 294.46it/s]\n"
          ]
        },
        {
          "name": "stdout",
          "output_type": "stream",
          "text": [
            "[Epoch 153/300] loss: 0.588595\n"
          ]
        },
        {
          "name": "stderr",
          "output_type": "stream",
          "text": [
            "100%|██████████| 7114/7114 [00:23<00:00, 296.98it/s]\n"
          ]
        },
        {
          "name": "stdout",
          "output_type": "stream",
          "text": [
            "[Epoch 154/300] loss: 0.412738\n"
          ]
        },
        {
          "name": "stderr",
          "output_type": "stream",
          "text": [
            "100%|██████████| 7114/7114 [00:24<00:00, 292.10it/s]\n"
          ]
        },
        {
          "name": "stdout",
          "output_type": "stream",
          "text": [
            "[Epoch 155/300] loss: 0.401836\n"
          ]
        },
        {
          "name": "stderr",
          "output_type": "stream",
          "text": [
            "100%|██████████| 7114/7114 [00:23<00:00, 299.98it/s]\n"
          ]
        },
        {
          "name": "stdout",
          "output_type": "stream",
          "text": [
            "[Epoch 156/300] loss: 0.418551\n"
          ]
        },
        {
          "name": "stderr",
          "output_type": "stream",
          "text": [
            "100%|██████████| 7114/7114 [00:23<00:00, 298.75it/s]\n"
          ]
        },
        {
          "name": "stdout",
          "output_type": "stream",
          "text": [
            "[Epoch 157/300] loss: 0.415072\n"
          ]
        },
        {
          "name": "stderr",
          "output_type": "stream",
          "text": [
            "100%|██████████| 7114/7114 [00:24<00:00, 293.42it/s]\n"
          ]
        },
        {
          "name": "stdout",
          "output_type": "stream",
          "text": [
            "[Epoch 158/300] loss: 0.431484\n"
          ]
        },
        {
          "name": "stderr",
          "output_type": "stream",
          "text": [
            "100%|██████████| 7114/7114 [00:23<00:00, 301.15it/s]\n"
          ]
        },
        {
          "name": "stdout",
          "output_type": "stream",
          "text": [
            "[Epoch 159/300] loss: 0.467816\n"
          ]
        },
        {
          "name": "stderr",
          "output_type": "stream",
          "text": [
            "100%|██████████| 7114/7114 [00:23<00:00, 299.59it/s]\n"
          ]
        },
        {
          "name": "stdout",
          "output_type": "stream",
          "text": [
            "[Epoch 160/300] loss: 0.394078\n"
          ]
        },
        {
          "name": "stderr",
          "output_type": "stream",
          "text": [
            "100%|██████████| 7114/7114 [00:24<00:00, 292.76it/s]\n"
          ]
        },
        {
          "name": "stdout",
          "output_type": "stream",
          "text": [
            "[Epoch 161/300] loss: 0.490870\n"
          ]
        },
        {
          "name": "stderr",
          "output_type": "stream",
          "text": [
            "100%|██████████| 7114/7114 [00:23<00:00, 301.15it/s]\n"
          ]
        },
        {
          "name": "stdout",
          "output_type": "stream",
          "text": [
            "[Epoch 162/300] loss: 0.366376\n"
          ]
        },
        {
          "name": "stderr",
          "output_type": "stream",
          "text": [
            "100%|██████████| 7114/7114 [00:24<00:00, 295.54it/s]\n"
          ]
        },
        {
          "name": "stdout",
          "output_type": "stream",
          "text": [
            "[Epoch 163/300] loss: 0.436479\n"
          ]
        },
        {
          "name": "stderr",
          "output_type": "stream",
          "text": [
            "100%|██████████| 7114/7114 [00:24<00:00, 293.96it/s]\n"
          ]
        },
        {
          "name": "stdout",
          "output_type": "stream",
          "text": [
            "[Epoch 164/300] loss: 0.406062\n"
          ]
        },
        {
          "name": "stderr",
          "output_type": "stream",
          "text": [
            "100%|██████████| 7114/7114 [00:23<00:00, 306.49it/s]\n"
          ]
        },
        {
          "name": "stdout",
          "output_type": "stream",
          "text": [
            "[Epoch 165/300] loss: 0.515357\n"
          ]
        },
        {
          "name": "stderr",
          "output_type": "stream",
          "text": [
            "100%|██████████| 7114/7114 [00:24<00:00, 294.16it/s]\n"
          ]
        },
        {
          "name": "stdout",
          "output_type": "stream",
          "text": [
            "[Epoch 166/300] loss: 0.397575\n"
          ]
        },
        {
          "name": "stderr",
          "output_type": "stream",
          "text": [
            "100%|██████████| 7114/7114 [00:24<00:00, 293.93it/s]\n"
          ]
        },
        {
          "name": "stdout",
          "output_type": "stream",
          "text": [
            "[Epoch 167/300] loss: 0.367575\n"
          ]
        },
        {
          "name": "stderr",
          "output_type": "stream",
          "text": [
            "100%|██████████| 7114/7114 [00:23<00:00, 306.96it/s]\n"
          ]
        },
        {
          "name": "stdout",
          "output_type": "stream",
          "text": [
            "[Epoch 168/300] loss: 0.410480\n"
          ]
        },
        {
          "name": "stderr",
          "output_type": "stream",
          "text": [
            "100%|██████████| 7114/7114 [00:24<00:00, 293.99it/s]\n"
          ]
        },
        {
          "name": "stdout",
          "output_type": "stream",
          "text": [
            "[Epoch 169/300] loss: 0.384594\n"
          ]
        },
        {
          "name": "stderr",
          "output_type": "stream",
          "text": [
            "100%|██████████| 7114/7114 [00:24<00:00, 293.85it/s]\n"
          ]
        },
        {
          "name": "stdout",
          "output_type": "stream",
          "text": [
            "[Epoch 170/300] loss: 0.438463\n"
          ]
        },
        {
          "name": "stderr",
          "output_type": "stream",
          "text": [
            "100%|██████████| 7114/7114 [00:23<00:00, 304.61it/s]\n"
          ]
        },
        {
          "name": "stdout",
          "output_type": "stream",
          "text": [
            "[Epoch 171/300] loss: 0.430289\n"
          ]
        },
        {
          "name": "stderr",
          "output_type": "stream",
          "text": [
            "100%|██████████| 7114/7114 [00:24<00:00, 292.91it/s]\n"
          ]
        },
        {
          "name": "stdout",
          "output_type": "stream",
          "text": [
            "[Epoch 172/300] loss: 0.431686\n"
          ]
        },
        {
          "name": "stderr",
          "output_type": "stream",
          "text": [
            "100%|██████████| 7114/7114 [00:24<00:00, 292.82it/s]\n"
          ]
        },
        {
          "name": "stdout",
          "output_type": "stream",
          "text": [
            "[Epoch 173/300] loss: 0.387853\n"
          ]
        },
        {
          "name": "stderr",
          "output_type": "stream",
          "text": [
            "100%|██████████| 7114/7114 [00:23<00:00, 304.29it/s]\n"
          ]
        },
        {
          "name": "stdout",
          "output_type": "stream",
          "text": [
            "[Epoch 174/300] loss: 0.376972\n"
          ]
        },
        {
          "name": "stderr",
          "output_type": "stream",
          "text": [
            "100%|██████████| 7114/7114 [00:24<00:00, 293.00it/s]\n"
          ]
        },
        {
          "name": "stdout",
          "output_type": "stream",
          "text": [
            "[Epoch 175/300] loss: 0.407292\n"
          ]
        },
        {
          "name": "stderr",
          "output_type": "stream",
          "text": [
            "100%|██████████| 7114/7114 [00:24<00:00, 293.44it/s]\n"
          ]
        },
        {
          "name": "stdout",
          "output_type": "stream",
          "text": [
            "[Epoch 176/300] loss: 0.434609\n"
          ]
        },
        {
          "name": "stderr",
          "output_type": "stream",
          "text": [
            "100%|██████████| 7114/7114 [00:23<00:00, 306.59it/s]\n"
          ]
        },
        {
          "name": "stdout",
          "output_type": "stream",
          "text": [
            "[Epoch 177/300] loss: 0.482717\n"
          ]
        },
        {
          "name": "stderr",
          "output_type": "stream",
          "text": [
            "100%|██████████| 7114/7114 [00:24<00:00, 293.28it/s]\n"
          ]
        },
        {
          "name": "stdout",
          "output_type": "stream",
          "text": [
            "[Epoch 178/300] loss: 0.408986\n"
          ]
        },
        {
          "name": "stderr",
          "output_type": "stream",
          "text": [
            "100%|██████████| 7114/7114 [00:24<00:00, 293.09it/s]\n"
          ]
        },
        {
          "name": "stdout",
          "output_type": "stream",
          "text": [
            "[Epoch 179/300] loss: 0.380695\n"
          ]
        },
        {
          "name": "stderr",
          "output_type": "stream",
          "text": [
            "100%|██████████| 7114/7114 [00:23<00:00, 305.50it/s]\n"
          ]
        },
        {
          "name": "stdout",
          "output_type": "stream",
          "text": [
            "[Epoch 180/300] loss: 0.395233\n"
          ]
        },
        {
          "name": "stderr",
          "output_type": "stream",
          "text": [
            "100%|██████████| 7114/7114 [00:24<00:00, 293.50it/s]\n"
          ]
        },
        {
          "name": "stdout",
          "output_type": "stream",
          "text": [
            "[Epoch 181/300] loss: 0.536060\n"
          ]
        },
        {
          "name": "stderr",
          "output_type": "stream",
          "text": [
            "100%|██████████| 7114/7114 [00:24<00:00, 293.69it/s]\n"
          ]
        },
        {
          "name": "stdout",
          "output_type": "stream",
          "text": [
            "[Epoch 182/300] loss: 0.392529\n"
          ]
        },
        {
          "name": "stderr",
          "output_type": "stream",
          "text": [
            "100%|██████████| 7114/7114 [00:23<00:00, 308.19it/s]\n"
          ]
        },
        {
          "name": "stdout",
          "output_type": "stream",
          "text": [
            "[Epoch 183/300] loss: 0.391207\n"
          ]
        },
        {
          "name": "stderr",
          "output_type": "stream",
          "text": [
            "100%|██████████| 7114/7114 [00:24<00:00, 294.34it/s]\n"
          ]
        },
        {
          "name": "stdout",
          "output_type": "stream",
          "text": [
            "[Epoch 184/300] loss: 0.537821\n"
          ]
        },
        {
          "name": "stderr",
          "output_type": "stream",
          "text": [
            "100%|██████████| 7114/7114 [00:24<00:00, 295.63it/s]\n"
          ]
        },
        {
          "name": "stdout",
          "output_type": "stream",
          "text": [
            "[Epoch 185/300] loss: 0.408298\n"
          ]
        },
        {
          "name": "stderr",
          "output_type": "stream",
          "text": [
            "100%|██████████| 7114/7114 [00:23<00:00, 304.54it/s]\n"
          ]
        },
        {
          "name": "stdout",
          "output_type": "stream",
          "text": [
            "[Epoch 186/300] loss: 0.420872\n"
          ]
        },
        {
          "name": "stderr",
          "output_type": "stream",
          "text": [
            "100%|██████████| 7114/7114 [00:24<00:00, 291.37it/s]\n"
          ]
        },
        {
          "name": "stdout",
          "output_type": "stream",
          "text": [
            "[Epoch 187/300] loss: 0.379153\n"
          ]
        },
        {
          "name": "stderr",
          "output_type": "stream",
          "text": [
            "100%|██████████| 7114/7114 [00:24<00:00, 295.01it/s]\n"
          ]
        },
        {
          "name": "stdout",
          "output_type": "stream",
          "text": [
            "[Epoch 188/300] loss: 0.379374\n"
          ]
        },
        {
          "name": "stderr",
          "output_type": "stream",
          "text": [
            "100%|██████████| 7114/7114 [00:23<00:00, 303.36it/s]\n"
          ]
        },
        {
          "name": "stdout",
          "output_type": "stream",
          "text": [
            "[Epoch 189/300] loss: 0.379310\n"
          ]
        },
        {
          "name": "stderr",
          "output_type": "stream",
          "text": [
            "100%|██████████| 7114/7114 [00:24<00:00, 294.28it/s]\n"
          ]
        },
        {
          "name": "stdout",
          "output_type": "stream",
          "text": [
            "[Epoch 190/300] loss: 0.395129\n"
          ]
        },
        {
          "name": "stderr",
          "output_type": "stream",
          "text": [
            "100%|██████████| 7114/7114 [00:24<00:00, 294.43it/s]\n"
          ]
        },
        {
          "name": "stdout",
          "output_type": "stream",
          "text": [
            "[Epoch 191/300] loss: 0.389225\n"
          ]
        },
        {
          "name": "stderr",
          "output_type": "stream",
          "text": [
            "100%|██████████| 7114/7114 [00:23<00:00, 303.01it/s]\n"
          ]
        },
        {
          "name": "stdout",
          "output_type": "stream",
          "text": [
            "[Epoch 192/300] loss: 0.390592\n"
          ]
        },
        {
          "name": "stderr",
          "output_type": "stream",
          "text": [
            "100%|██████████| 7114/7114 [00:24<00:00, 293.81it/s]\n"
          ]
        },
        {
          "name": "stdout",
          "output_type": "stream",
          "text": [
            "[Epoch 193/300] loss: 0.374464\n"
          ]
        },
        {
          "name": "stderr",
          "output_type": "stream",
          "text": [
            "100%|██████████| 7114/7114 [00:23<00:00, 296.56it/s]\n"
          ]
        },
        {
          "name": "stdout",
          "output_type": "stream",
          "text": [
            "[Epoch 194/300] loss: 0.388366\n"
          ]
        },
        {
          "name": "stderr",
          "output_type": "stream",
          "text": [
            "100%|██████████| 7114/7114 [00:23<00:00, 302.66it/s]\n"
          ]
        },
        {
          "name": "stdout",
          "output_type": "stream",
          "text": [
            "[Epoch 195/300] loss: 0.365433\n"
          ]
        },
        {
          "name": "stderr",
          "output_type": "stream",
          "text": [
            "100%|██████████| 7114/7114 [00:24<00:00, 293.88it/s]\n"
          ]
        },
        {
          "name": "stdout",
          "output_type": "stream",
          "text": [
            "[Epoch 196/300] loss: 0.385920\n"
          ]
        },
        {
          "name": "stderr",
          "output_type": "stream",
          "text": [
            "100%|██████████| 7114/7114 [00:23<00:00, 301.38it/s]\n"
          ]
        },
        {
          "name": "stdout",
          "output_type": "stream",
          "text": [
            "[Epoch 197/300] loss: 0.379017\n"
          ]
        },
        {
          "name": "stderr",
          "output_type": "stream",
          "text": [
            "100%|██████████| 7114/7114 [00:23<00:00, 297.83it/s]\n"
          ]
        },
        {
          "name": "stdout",
          "output_type": "stream",
          "text": [
            "[Epoch 198/300] loss: 0.510069\n"
          ]
        },
        {
          "name": "stderr",
          "output_type": "stream",
          "text": [
            "100%|██████████| 7114/7114 [00:24<00:00, 289.01it/s]\n"
          ]
        },
        {
          "name": "stdout",
          "output_type": "stream",
          "text": [
            "[Epoch 199/300] loss: 0.390707\n"
          ]
        },
        {
          "name": "stderr",
          "output_type": "stream",
          "text": [
            "100%|██████████| 7114/7114 [00:24<00:00, 290.51it/s]\n"
          ]
        },
        {
          "name": "stdout",
          "output_type": "stream",
          "text": [
            "[Epoch 200/300] loss: 0.369992\n"
          ]
        },
        {
          "name": "stderr",
          "output_type": "stream",
          "text": [
            "100%|██████████| 7114/7114 [00:23<00:00, 300.41it/s]\n"
          ]
        },
        {
          "name": "stdout",
          "output_type": "stream",
          "text": [
            "[Epoch 201/300] loss: 0.392543\n"
          ]
        },
        {
          "name": "stderr",
          "output_type": "stream",
          "text": [
            "100%|██████████| 7114/7114 [00:24<00:00, 292.60it/s]\n"
          ]
        },
        {
          "name": "stdout",
          "output_type": "stream",
          "text": [
            "[Epoch 202/300] loss: 0.446442\n"
          ]
        },
        {
          "name": "stderr",
          "output_type": "stream",
          "text": [
            "100%|██████████| 7114/7114 [00:24<00:00, 286.54it/s]\n"
          ]
        },
        {
          "name": "stdout",
          "output_type": "stream",
          "text": [
            "[Epoch 203/300] loss: 0.392676\n"
          ]
        },
        {
          "name": "stderr",
          "output_type": "stream",
          "text": [
            "100%|██████████| 7114/7114 [00:23<00:00, 300.78it/s]\n"
          ]
        },
        {
          "name": "stdout",
          "output_type": "stream",
          "text": [
            "[Epoch 204/300] loss: 0.381253\n"
          ]
        },
        {
          "name": "stderr",
          "output_type": "stream",
          "text": [
            "100%|██████████| 7114/7114 [00:24<00:00, 290.40it/s]\n"
          ]
        },
        {
          "name": "stdout",
          "output_type": "stream",
          "text": [
            "[Epoch 205/300] loss: 0.420468\n"
          ]
        },
        {
          "name": "stderr",
          "output_type": "stream",
          "text": [
            "100%|██████████| 7114/7114 [00:24<00:00, 294.01it/s]\n"
          ]
        },
        {
          "name": "stdout",
          "output_type": "stream",
          "text": [
            "[Epoch 206/300] loss: 0.403287\n"
          ]
        },
        {
          "name": "stderr",
          "output_type": "stream",
          "text": [
            "100%|██████████| 7114/7114 [00:23<00:00, 302.80it/s]\n"
          ]
        },
        {
          "name": "stdout",
          "output_type": "stream",
          "text": [
            "[Epoch 207/300] loss: 0.361370\n"
          ]
        },
        {
          "name": "stderr",
          "output_type": "stream",
          "text": [
            "100%|██████████| 7114/7114 [00:24<00:00, 292.51it/s]\n"
          ]
        },
        {
          "name": "stdout",
          "output_type": "stream",
          "text": [
            "[Epoch 208/300] loss: 0.403568\n"
          ]
        },
        {
          "name": "stderr",
          "output_type": "stream",
          "text": [
            "100%|██████████| 7114/7114 [00:24<00:00, 294.38it/s]\n"
          ]
        },
        {
          "name": "stdout",
          "output_type": "stream",
          "text": [
            "[Epoch 209/300] loss: 0.458960\n"
          ]
        },
        {
          "name": "stderr",
          "output_type": "stream",
          "text": [
            "100%|██████████| 7114/7114 [00:23<00:00, 301.65it/s]\n"
          ]
        },
        {
          "name": "stdout",
          "output_type": "stream",
          "text": [
            "[Epoch 210/300] loss: 0.388423\n"
          ]
        },
        {
          "name": "stderr",
          "output_type": "stream",
          "text": [
            "100%|██████████| 7114/7114 [00:24<00:00, 292.26it/s]\n"
          ]
        },
        {
          "name": "stdout",
          "output_type": "stream",
          "text": [
            "[Epoch 211/300] loss: 0.383589\n"
          ]
        },
        {
          "name": "stderr",
          "output_type": "stream",
          "text": [
            "100%|██████████| 7114/7114 [00:24<00:00, 294.78it/s]\n"
          ]
        },
        {
          "name": "stdout",
          "output_type": "stream",
          "text": [
            "[Epoch 212/300] loss: 0.402047\n"
          ]
        },
        {
          "name": "stderr",
          "output_type": "stream",
          "text": [
            "100%|██████████| 7114/7114 [00:23<00:00, 298.75it/s]\n"
          ]
        },
        {
          "name": "stdout",
          "output_type": "stream",
          "text": [
            "[Epoch 213/300] loss: 0.358927\n"
          ]
        },
        {
          "name": "stderr",
          "output_type": "stream",
          "text": [
            "100%|██████████| 7114/7114 [00:24<00:00, 293.05it/s]\n"
          ]
        },
        {
          "name": "stdout",
          "output_type": "stream",
          "text": [
            "[Epoch 214/300] loss: 0.414528\n"
          ]
        },
        {
          "name": "stderr",
          "output_type": "stream",
          "text": [
            "100%|██████████| 7114/7114 [00:24<00:00, 293.48it/s]\n"
          ]
        },
        {
          "name": "stdout",
          "output_type": "stream",
          "text": [
            "[Epoch 215/300] loss: 0.374123\n"
          ]
        },
        {
          "name": "stderr",
          "output_type": "stream",
          "text": [
            "100%|██████████| 7114/7114 [00:23<00:00, 303.78it/s]\n"
          ]
        },
        {
          "name": "stdout",
          "output_type": "stream",
          "text": [
            "[Epoch 216/300] loss: 0.378833\n"
          ]
        },
        {
          "name": "stderr",
          "output_type": "stream",
          "text": [
            "100%|██████████| 7114/7114 [00:24<00:00, 292.89it/s]\n"
          ]
        },
        {
          "name": "stdout",
          "output_type": "stream",
          "text": [
            "[Epoch 217/300] loss: 0.350526\n"
          ]
        },
        {
          "name": "stderr",
          "output_type": "stream",
          "text": [
            "100%|██████████| 7114/7114 [00:24<00:00, 294.96it/s]\n"
          ]
        },
        {
          "name": "stdout",
          "output_type": "stream",
          "text": [
            "[Epoch 218/300] loss: 0.412825\n"
          ]
        },
        {
          "name": "stderr",
          "output_type": "stream",
          "text": [
            "100%|██████████| 7114/7114 [00:23<00:00, 300.91it/s]\n"
          ]
        },
        {
          "name": "stdout",
          "output_type": "stream",
          "text": [
            "[Epoch 219/300] loss: 0.382692\n"
          ]
        },
        {
          "name": "stderr",
          "output_type": "stream",
          "text": [
            "100%|██████████| 7114/7114 [00:24<00:00, 292.20it/s]\n"
          ]
        },
        {
          "name": "stdout",
          "output_type": "stream",
          "text": [
            "[Epoch 220/300] loss: 0.560133\n"
          ]
        },
        {
          "name": "stderr",
          "output_type": "stream",
          "text": [
            "100%|██████████| 7114/7114 [00:24<00:00, 293.98it/s]\n"
          ]
        },
        {
          "name": "stdout",
          "output_type": "stream",
          "text": [
            "[Epoch 221/300] loss: 0.437298\n"
          ]
        },
        {
          "name": "stderr",
          "output_type": "stream",
          "text": [
            "100%|██████████| 7114/7114 [00:23<00:00, 300.26it/s]\n"
          ]
        },
        {
          "name": "stdout",
          "output_type": "stream",
          "text": [
            "[Epoch 222/300] loss: 0.366716\n"
          ]
        },
        {
          "name": "stderr",
          "output_type": "stream",
          "text": [
            "100%|██████████| 7114/7114 [00:24<00:00, 293.31it/s]\n"
          ]
        },
        {
          "name": "stdout",
          "output_type": "stream",
          "text": [
            "[Epoch 223/300] loss: 0.406071\n"
          ]
        },
        {
          "name": "stderr",
          "output_type": "stream",
          "text": [
            "100%|██████████| 7114/7114 [00:24<00:00, 294.52it/s]\n"
          ]
        },
        {
          "name": "stdout",
          "output_type": "stream",
          "text": [
            "[Epoch 224/300] loss: 0.354019\n"
          ]
        },
        {
          "name": "stderr",
          "output_type": "stream",
          "text": [
            "100%|██████████| 7114/7114 [00:23<00:00, 303.12it/s]\n"
          ]
        },
        {
          "name": "stdout",
          "output_type": "stream",
          "text": [
            "[Epoch 225/300] loss: 0.349525\n"
          ]
        },
        {
          "name": "stderr",
          "output_type": "stream",
          "text": [
            "100%|██████████| 7114/7114 [00:24<00:00, 289.76it/s]\n"
          ]
        },
        {
          "name": "stdout",
          "output_type": "stream",
          "text": [
            "[Epoch 226/300] loss: 0.491189\n"
          ]
        },
        {
          "name": "stderr",
          "output_type": "stream",
          "text": [
            "100%|██████████| 7114/7114 [00:24<00:00, 296.24it/s]\n"
          ]
        },
        {
          "name": "stdout",
          "output_type": "stream",
          "text": [
            "[Epoch 227/300] loss: 0.373803\n"
          ]
        },
        {
          "name": "stderr",
          "output_type": "stream",
          "text": [
            "100%|██████████| 7114/7114 [00:23<00:00, 300.88it/s]\n"
          ]
        },
        {
          "name": "stdout",
          "output_type": "stream",
          "text": [
            "[Epoch 228/300] loss: 0.343454\n"
          ]
        },
        {
          "name": "stderr",
          "output_type": "stream",
          "text": [
            "100%|██████████| 7114/7114 [00:24<00:00, 291.23it/s]\n"
          ]
        },
        {
          "name": "stdout",
          "output_type": "stream",
          "text": [
            "[Epoch 229/300] loss: 0.412759\n"
          ]
        },
        {
          "name": "stderr",
          "output_type": "stream",
          "text": [
            "100%|██████████| 7114/7114 [00:24<00:00, 296.02it/s]\n"
          ]
        },
        {
          "name": "stdout",
          "output_type": "stream",
          "text": [
            "[Epoch 230/300] loss: 0.383295\n"
          ]
        },
        {
          "name": "stderr",
          "output_type": "stream",
          "text": [
            "100%|██████████| 7114/7114 [00:23<00:00, 302.01it/s]\n"
          ]
        },
        {
          "name": "stdout",
          "output_type": "stream",
          "text": [
            "[Epoch 231/300] loss: 0.418849\n"
          ]
        },
        {
          "name": "stderr",
          "output_type": "stream",
          "text": [
            "100%|██████████| 7114/7114 [00:24<00:00, 291.31it/s]\n"
          ]
        },
        {
          "name": "stdout",
          "output_type": "stream",
          "text": [
            "[Epoch 232/300] loss: 0.392426\n"
          ]
        },
        {
          "name": "stderr",
          "output_type": "stream",
          "text": [
            "100%|██████████| 7114/7114 [00:24<00:00, 295.75it/s]\n"
          ]
        },
        {
          "name": "stdout",
          "output_type": "stream",
          "text": [
            "[Epoch 233/300] loss: 0.358679\n"
          ]
        },
        {
          "name": "stderr",
          "output_type": "stream",
          "text": [
            "100%|██████████| 7114/7114 [00:23<00:00, 297.65it/s]\n"
          ]
        },
        {
          "name": "stdout",
          "output_type": "stream",
          "text": [
            "[Epoch 234/300] loss: 0.388910\n"
          ]
        },
        {
          "name": "stderr",
          "output_type": "stream",
          "text": [
            "100%|██████████| 7114/7114 [00:24<00:00, 290.74it/s]\n"
          ]
        },
        {
          "name": "stdout",
          "output_type": "stream",
          "text": [
            "[Epoch 235/300] loss: 0.375138\n"
          ]
        },
        {
          "name": "stderr",
          "output_type": "stream",
          "text": [
            "100%|██████████| 7114/7114 [00:24<00:00, 295.51it/s]\n"
          ]
        },
        {
          "name": "stdout",
          "output_type": "stream",
          "text": [
            "[Epoch 236/300] loss: 0.394804\n"
          ]
        },
        {
          "name": "stderr",
          "output_type": "stream",
          "text": [
            "100%|██████████| 7114/7114 [00:24<00:00, 292.01it/s]\n"
          ]
        },
        {
          "name": "stdout",
          "output_type": "stream",
          "text": [
            "[Epoch 237/300] loss: 0.352617\n"
          ]
        },
        {
          "name": "stderr",
          "output_type": "stream",
          "text": [
            "100%|██████████| 7114/7114 [00:25<00:00, 274.42it/s]\n"
          ]
        },
        {
          "name": "stdout",
          "output_type": "stream",
          "text": [
            "[Epoch 238/300] loss: 0.398327\n"
          ]
        },
        {
          "name": "stderr",
          "output_type": "stream",
          "text": [
            "100%|██████████| 7114/7114 [00:25<00:00, 274.43it/s]\n"
          ]
        },
        {
          "name": "stdout",
          "output_type": "stream",
          "text": [
            "[Epoch 239/300] loss: 0.373401\n"
          ]
        },
        {
          "name": "stderr",
          "output_type": "stream",
          "text": [
            "100%|██████████| 7114/7114 [00:24<00:00, 290.90it/s]\n"
          ]
        },
        {
          "name": "stdout",
          "output_type": "stream",
          "text": [
            "[Epoch 240/300] loss: 0.384708\n"
          ]
        },
        {
          "name": "stderr",
          "output_type": "stream",
          "text": [
            "100%|██████████| 7114/7114 [00:25<00:00, 274.05it/s]\n"
          ]
        },
        {
          "name": "stdout",
          "output_type": "stream",
          "text": [
            "[Epoch 241/300] loss: 0.362300\n"
          ]
        },
        {
          "name": "stderr",
          "output_type": "stream",
          "text": [
            "100%|██████████| 7114/7114 [00:25<00:00, 280.79it/s]\n"
          ]
        },
        {
          "name": "stdout",
          "output_type": "stream",
          "text": [
            "[Epoch 242/300] loss: 0.355670\n"
          ]
        },
        {
          "name": "stderr",
          "output_type": "stream",
          "text": [
            "100%|██████████| 7114/7114 [00:25<00:00, 283.59it/s]\n"
          ]
        },
        {
          "name": "stdout",
          "output_type": "stream",
          "text": [
            "[Epoch 243/300] loss: 0.352580\n"
          ]
        },
        {
          "name": "stderr",
          "output_type": "stream",
          "text": [
            "100%|██████████| 7114/7114 [00:24<00:00, 287.68it/s]\n"
          ]
        },
        {
          "name": "stdout",
          "output_type": "stream",
          "text": [
            "[Epoch 244/300] loss: 0.384314\n"
          ]
        },
        {
          "name": "stderr",
          "output_type": "stream",
          "text": [
            "100%|██████████| 7114/7114 [00:25<00:00, 278.84it/s]\n"
          ]
        },
        {
          "name": "stdout",
          "output_type": "stream",
          "text": [
            "[Epoch 245/300] loss: 0.344912\n"
          ]
        },
        {
          "name": "stderr",
          "output_type": "stream",
          "text": [
            "100%|██████████| 7114/7114 [00:25<00:00, 277.55it/s]\n"
          ]
        },
        {
          "name": "stdout",
          "output_type": "stream",
          "text": [
            "[Epoch 246/300] loss: 0.350103\n"
          ]
        },
        {
          "name": "stderr",
          "output_type": "stream",
          "text": [
            "100%|██████████| 7114/7114 [00:24<00:00, 290.08it/s]\n"
          ]
        },
        {
          "name": "stdout",
          "output_type": "stream",
          "text": [
            "[Epoch 247/300] loss: 0.363150\n"
          ]
        },
        {
          "name": "stderr",
          "output_type": "stream",
          "text": [
            "100%|██████████| 7114/7114 [00:25<00:00, 277.74it/s]\n"
          ]
        },
        {
          "name": "stdout",
          "output_type": "stream",
          "text": [
            "[Epoch 248/300] loss: 0.374522\n"
          ]
        },
        {
          "name": "stderr",
          "output_type": "stream",
          "text": [
            "100%|██████████| 7114/7114 [00:25<00:00, 278.89it/s]\n"
          ]
        },
        {
          "name": "stdout",
          "output_type": "stream",
          "text": [
            "[Epoch 249/300] loss: 0.398562\n"
          ]
        },
        {
          "name": "stderr",
          "output_type": "stream",
          "text": [
            "100%|██████████| 7114/7114 [00:24<00:00, 286.30it/s]\n"
          ]
        },
        {
          "name": "stdout",
          "output_type": "stream",
          "text": [
            "[Epoch 250/300] loss: 0.359175\n"
          ]
        },
        {
          "name": "stderr",
          "output_type": "stream",
          "text": [
            "100%|██████████| 7114/7114 [00:25<00:00, 283.31it/s]\n"
          ]
        },
        {
          "name": "stdout",
          "output_type": "stream",
          "text": [
            "[Epoch 251/300] loss: 0.374673\n"
          ]
        },
        {
          "name": "stderr",
          "output_type": "stream",
          "text": [
            "100%|██████████| 7114/7114 [00:25<00:00, 280.53it/s]\n"
          ]
        },
        {
          "name": "stdout",
          "output_type": "stream",
          "text": [
            "[Epoch 252/300] loss: 0.373300\n"
          ]
        },
        {
          "name": "stderr",
          "output_type": "stream",
          "text": [
            "100%|██████████| 7114/7114 [00:25<00:00, 281.69it/s]\n"
          ]
        },
        {
          "name": "stdout",
          "output_type": "stream",
          "text": [
            "[Epoch 253/300] loss: 0.377389\n"
          ]
        },
        {
          "name": "stderr",
          "output_type": "stream",
          "text": [
            "100%|██████████| 7114/7114 [00:24<00:00, 291.05it/s]\n"
          ]
        },
        {
          "name": "stdout",
          "output_type": "stream",
          "text": [
            "[Epoch 254/300] loss: 0.416234\n"
          ]
        },
        {
          "name": "stderr",
          "output_type": "stream",
          "text": [
            "100%|██████████| 7114/7114 [00:25<00:00, 277.22it/s]\n"
          ]
        },
        {
          "name": "stdout",
          "output_type": "stream",
          "text": [
            "[Epoch 255/300] loss: 0.380260\n"
          ]
        },
        {
          "name": "stderr",
          "output_type": "stream",
          "text": [
            "100%|██████████| 7114/7114 [00:25<00:00, 281.02it/s]\n"
          ]
        },
        {
          "name": "stdout",
          "output_type": "stream",
          "text": [
            "[Epoch 256/300] loss: 0.376750\n"
          ]
        },
        {
          "name": "stderr",
          "output_type": "stream",
          "text": [
            "100%|██████████| 7114/7114 [00:24<00:00, 285.56it/s]\n"
          ]
        },
        {
          "name": "stdout",
          "output_type": "stream",
          "text": [
            "[Epoch 257/300] loss: 0.371070\n"
          ]
        },
        {
          "name": "stderr",
          "output_type": "stream",
          "text": [
            "100%|██████████| 7114/7114 [00:25<00:00, 282.47it/s]\n"
          ]
        },
        {
          "name": "stdout",
          "output_type": "stream",
          "text": [
            "[Epoch 258/300] loss: 0.365393\n"
          ]
        },
        {
          "name": "stderr",
          "output_type": "stream",
          "text": [
            "100%|██████████| 7114/7114 [00:25<00:00, 277.67it/s]\n"
          ]
        },
        {
          "name": "stdout",
          "output_type": "stream",
          "text": [
            "[Epoch 259/300] loss: 0.381352\n"
          ]
        },
        {
          "name": "stderr",
          "output_type": "stream",
          "text": [
            "100%|██████████| 7114/7114 [00:25<00:00, 280.96it/s]\n"
          ]
        },
        {
          "name": "stdout",
          "output_type": "stream",
          "text": [
            "[Epoch 260/300] loss: 0.347978\n"
          ]
        },
        {
          "name": "stderr",
          "output_type": "stream",
          "text": [
            "100%|██████████| 7114/7114 [00:24<00:00, 288.19it/s]\n"
          ]
        },
        {
          "name": "stdout",
          "output_type": "stream",
          "text": [
            "[Epoch 261/300] loss: 0.356716\n"
          ]
        },
        {
          "name": "stderr",
          "output_type": "stream",
          "text": [
            "100%|██████████| 7114/7114 [00:25<00:00, 278.25it/s]\n"
          ]
        },
        {
          "name": "stdout",
          "output_type": "stream",
          "text": [
            "[Epoch 262/300] loss: 0.368007\n"
          ]
        },
        {
          "name": "stderr",
          "output_type": "stream",
          "text": [
            "100%|██████████| 7114/7114 [00:25<00:00, 279.26it/s]\n"
          ]
        },
        {
          "name": "stdout",
          "output_type": "stream",
          "text": [
            "[Epoch 263/300] loss: 0.356053\n"
          ]
        },
        {
          "name": "stderr",
          "output_type": "stream",
          "text": [
            "100%|██████████| 7114/7114 [00:24<00:00, 284.56it/s]\n"
          ]
        },
        {
          "name": "stdout",
          "output_type": "stream",
          "text": [
            "[Epoch 264/300] loss: 0.415556\n"
          ]
        },
        {
          "name": "stderr",
          "output_type": "stream",
          "text": [
            "100%|██████████| 7114/7114 [00:25<00:00, 281.49it/s]\n"
          ]
        },
        {
          "name": "stdout",
          "output_type": "stream",
          "text": [
            "[Epoch 265/300] loss: 0.356534\n"
          ]
        },
        {
          "name": "stderr",
          "output_type": "stream",
          "text": [
            "100%|██████████| 7114/7114 [00:25<00:00, 278.43it/s]\n"
          ]
        },
        {
          "name": "stdout",
          "output_type": "stream",
          "text": [
            "[Epoch 266/300] loss: 0.398188\n"
          ]
        },
        {
          "name": "stderr",
          "output_type": "stream",
          "text": [
            "100%|██████████| 7114/7114 [00:25<00:00, 280.09it/s]\n"
          ]
        },
        {
          "name": "stdout",
          "output_type": "stream",
          "text": [
            "[Epoch 267/300] loss: 0.346000\n"
          ]
        },
        {
          "name": "stderr",
          "output_type": "stream",
          "text": [
            "100%|██████████| 7114/7114 [00:24<00:00, 288.75it/s]\n"
          ]
        },
        {
          "name": "stdout",
          "output_type": "stream",
          "text": [
            "[Epoch 268/300] loss: 0.376683\n"
          ]
        },
        {
          "name": "stderr",
          "output_type": "stream",
          "text": [
            "100%|██████████| 7114/7114 [00:25<00:00, 279.31it/s]\n"
          ]
        },
        {
          "name": "stdout",
          "output_type": "stream",
          "text": [
            "[Epoch 269/300] loss: 0.359830\n"
          ]
        },
        {
          "name": "stderr",
          "output_type": "stream",
          "text": [
            "100%|██████████| 7114/7114 [00:25<00:00, 279.03it/s]\n"
          ]
        },
        {
          "name": "stdout",
          "output_type": "stream",
          "text": [
            "[Epoch 270/300] loss: 0.425946\n"
          ]
        },
        {
          "name": "stderr",
          "output_type": "stream",
          "text": [
            "100%|██████████| 7114/7114 [00:24<00:00, 287.01it/s]\n"
          ]
        },
        {
          "name": "stdout",
          "output_type": "stream",
          "text": [
            "[Epoch 271/300] loss: 0.378112\n"
          ]
        },
        {
          "name": "stderr",
          "output_type": "stream",
          "text": [
            "100%|██████████| 7114/7114 [00:25<00:00, 279.66it/s]\n"
          ]
        },
        {
          "name": "stdout",
          "output_type": "stream",
          "text": [
            "[Epoch 272/300] loss: 0.374717\n"
          ]
        },
        {
          "name": "stderr",
          "output_type": "stream",
          "text": [
            "100%|██████████| 7114/7114 [00:25<00:00, 278.09it/s]\n"
          ]
        },
        {
          "name": "stdout",
          "output_type": "stream",
          "text": [
            "[Epoch 273/300] loss: 0.416614\n"
          ]
        },
        {
          "name": "stderr",
          "output_type": "stream",
          "text": [
            "100%|██████████| 7114/7114 [00:25<00:00, 280.21it/s]\n"
          ]
        },
        {
          "name": "stdout",
          "output_type": "stream",
          "text": [
            "[Epoch 274/300] loss: 0.362538\n"
          ]
        },
        {
          "name": "stderr",
          "output_type": "stream",
          "text": [
            "100%|██████████| 7114/7114 [00:24<00:00, 287.14it/s]\n"
          ]
        },
        {
          "name": "stdout",
          "output_type": "stream",
          "text": [
            "[Epoch 275/300] loss: 0.331515\n"
          ]
        },
        {
          "name": "stderr",
          "output_type": "stream",
          "text": [
            "100%|██████████| 7114/7114 [00:25<00:00, 273.88it/s]\n"
          ]
        },
        {
          "name": "stdout",
          "output_type": "stream",
          "text": [
            "[Epoch 276/300] loss: 0.347292\n"
          ]
        },
        {
          "name": "stderr",
          "output_type": "stream",
          "text": [
            "100%|██████████| 7114/7114 [00:26<00:00, 273.57it/s]\n"
          ]
        },
        {
          "name": "stdout",
          "output_type": "stream",
          "text": [
            "[Epoch 277/300] loss: 0.353391\n"
          ]
        },
        {
          "name": "stderr",
          "output_type": "stream",
          "text": [
            "100%|██████████| 7114/7114 [00:25<00:00, 278.03it/s]\n"
          ]
        },
        {
          "name": "stdout",
          "output_type": "stream",
          "text": [
            "[Epoch 278/300] loss: 0.344086\n"
          ]
        },
        {
          "name": "stderr",
          "output_type": "stream",
          "text": [
            "100%|██████████| 7114/7114 [00:25<00:00, 278.67it/s]\n"
          ]
        },
        {
          "name": "stdout",
          "output_type": "stream",
          "text": [
            "[Epoch 279/300] loss: 0.374776\n"
          ]
        },
        {
          "name": "stderr",
          "output_type": "stream",
          "text": [
            "100%|██████████| 7114/7114 [00:25<00:00, 274.01it/s]\n"
          ]
        },
        {
          "name": "stdout",
          "output_type": "stream",
          "text": [
            "[Epoch 280/300] loss: 0.346665\n"
          ]
        },
        {
          "name": "stderr",
          "output_type": "stream",
          "text": [
            "100%|██████████| 7114/7114 [00:25<00:00, 274.96it/s]\n"
          ]
        },
        {
          "name": "stdout",
          "output_type": "stream",
          "text": [
            "[Epoch 281/300] loss: 0.340314\n"
          ]
        },
        {
          "name": "stderr",
          "output_type": "stream",
          "text": [
            "100%|██████████| 7114/7114 [00:25<00:00, 282.04it/s]\n"
          ]
        },
        {
          "name": "stdout",
          "output_type": "stream",
          "text": [
            "[Epoch 282/300] loss: 0.362465\n"
          ]
        },
        {
          "name": "stderr",
          "output_type": "stream",
          "text": [
            "100%|██████████| 7114/7114 [00:25<00:00, 277.04it/s]\n"
          ]
        },
        {
          "name": "stdout",
          "output_type": "stream",
          "text": [
            "[Epoch 283/300] loss: 0.372928\n"
          ]
        },
        {
          "name": "stderr",
          "output_type": "stream",
          "text": [
            "100%|██████████| 7114/7114 [00:25<00:00, 276.76it/s]\n"
          ]
        },
        {
          "name": "stdout",
          "output_type": "stream",
          "text": [
            "[Epoch 284/300] loss: 0.354502\n"
          ]
        },
        {
          "name": "stderr",
          "output_type": "stream",
          "text": [
            "100%|██████████| 7114/7114 [00:25<00:00, 276.79it/s]\n"
          ]
        },
        {
          "name": "stdout",
          "output_type": "stream",
          "text": [
            "[Epoch 285/300] loss: 0.367752\n"
          ]
        },
        {
          "name": "stderr",
          "output_type": "stream",
          "text": [
            "100%|██████████| 7114/7114 [00:25<00:00, 284.43it/s]\n"
          ]
        },
        {
          "name": "stdout",
          "output_type": "stream",
          "text": [
            "[Epoch 286/300] loss: 0.354283\n"
          ]
        },
        {
          "name": "stderr",
          "output_type": "stream",
          "text": [
            "100%|██████████| 7114/7114 [00:25<00:00, 277.06it/s]\n"
          ]
        },
        {
          "name": "stdout",
          "output_type": "stream",
          "text": [
            "[Epoch 287/300] loss: 0.380802\n"
          ]
        },
        {
          "name": "stderr",
          "output_type": "stream",
          "text": [
            "100%|██████████| 7114/7114 [00:25<00:00, 274.82it/s]\n"
          ]
        },
        {
          "name": "stdout",
          "output_type": "stream",
          "text": [
            "[Epoch 288/300] loss: 0.353667\n"
          ]
        },
        {
          "name": "stderr",
          "output_type": "stream",
          "text": [
            "100%|██████████| 7114/7114 [00:25<00:00, 283.45it/s]\n"
          ]
        },
        {
          "name": "stdout",
          "output_type": "stream",
          "text": [
            "[Epoch 289/300] loss: 0.347601\n"
          ]
        },
        {
          "name": "stderr",
          "output_type": "stream",
          "text": [
            "100%|██████████| 7114/7114 [00:25<00:00, 280.89it/s]\n"
          ]
        },
        {
          "name": "stdout",
          "output_type": "stream",
          "text": [
            "[Epoch 290/300] loss: 0.363397\n"
          ]
        },
        {
          "name": "stderr",
          "output_type": "stream",
          "text": [
            "100%|██████████| 7114/7114 [00:25<00:00, 276.31it/s]\n"
          ]
        },
        {
          "name": "stdout",
          "output_type": "stream",
          "text": [
            "[Epoch 291/300] loss: 0.346573\n"
          ]
        },
        {
          "name": "stderr",
          "output_type": "stream",
          "text": [
            "100%|██████████| 7114/7114 [00:25<00:00, 277.32it/s]\n"
          ]
        },
        {
          "name": "stdout",
          "output_type": "stream",
          "text": [
            "[Epoch 292/300] loss: 0.371082\n"
          ]
        },
        {
          "name": "stderr",
          "output_type": "stream",
          "text": [
            "100%|██████████| 7114/7114 [00:24<00:00, 292.02it/s]\n"
          ]
        },
        {
          "name": "stdout",
          "output_type": "stream",
          "text": [
            "[Epoch 293/300] loss: 0.362731\n"
          ]
        },
        {
          "name": "stderr",
          "output_type": "stream",
          "text": [
            "100%|██████████| 7114/7114 [00:25<00:00, 277.40it/s]\n"
          ]
        },
        {
          "name": "stdout",
          "output_type": "stream",
          "text": [
            "[Epoch 294/300] loss: 0.369537\n"
          ]
        },
        {
          "name": "stderr",
          "output_type": "stream",
          "text": [
            "100%|██████████| 7114/7114 [00:25<00:00, 280.11it/s]\n"
          ]
        },
        {
          "name": "stdout",
          "output_type": "stream",
          "text": [
            "[Epoch 295/300] loss: 0.402407\n"
          ]
        },
        {
          "name": "stderr",
          "output_type": "stream",
          "text": [
            "100%|██████████| 7114/7114 [00:24<00:00, 285.09it/s]\n"
          ]
        },
        {
          "name": "stdout",
          "output_type": "stream",
          "text": [
            "[Epoch 296/300] loss: 0.348410\n"
          ]
        },
        {
          "name": "stderr",
          "output_type": "stream",
          "text": [
            "100%|██████████| 7114/7114 [00:24<00:00, 285.91it/s]\n"
          ]
        },
        {
          "name": "stdout",
          "output_type": "stream",
          "text": [
            "[Epoch 297/300] loss: 0.347500\n"
          ]
        },
        {
          "name": "stderr",
          "output_type": "stream",
          "text": [
            "100%|██████████| 7114/7114 [00:25<00:00, 280.43it/s]\n"
          ]
        },
        {
          "name": "stdout",
          "output_type": "stream",
          "text": [
            "[Epoch 298/300] loss: 0.344440\n"
          ]
        },
        {
          "name": "stderr",
          "output_type": "stream",
          "text": [
            "100%|██████████| 7114/7114 [00:25<00:00, 280.17it/s]\n"
          ]
        },
        {
          "name": "stdout",
          "output_type": "stream",
          "text": [
            "[Epoch 299/300] loss: 0.362496\n"
          ]
        },
        {
          "name": "stderr",
          "output_type": "stream",
          "text": [
            "100%|██████████| 7114/7114 [00:24<00:00, 288.55it/s]\n"
          ]
        },
        {
          "name": "stdout",
          "output_type": "stream",
          "text": [
            "[Epoch 300/300] loss: 0.347275\n"
          ]
        },
        {
          "data": {
            "image/png": "[encoded data removed]",
            "text/plain": [
              "<Figure size 800x550 with 2 Axes>"
            ]
          },
          "metadata": {},
          "output_type": "display_data"
        },
        {
          "data": {
            "image/png": "[encoded data removed]",
            "text/plain": [
              "<Figure size 800x550 with 1 Axes>"
            ]
          },
          "metadata": {},
          "output_type": "display_data"
        },
        {
          "data": {
            "image/png": "[encoded data removed]",
            "text/plain": [
              "<Figure size 800x550 with 1 Axes>"
            ]
          },
          "metadata": {},
          "output_type": "display_data"
        },
        {
          "name": "stdout",
          "output_type": "stream",
          "text": [
            "                   pre       rec       spe        f1       geo       iba       sup\n",
            "\n",
            "        0.0       1.00      0.03      1.00      0.06      0.18      0.03     56864\n",
            "        1.0       0.00      1.00      0.03      0.00      0.18      0.04        98\n",
            "\n",
            "avg / total       1.00      0.03      1.00      0.06      0.18      0.03     56962\n",
            "\n",
            "AUPRC: 0.4655447472044549\n",
            "AP: 0.0023586811651751245\n"
          ]
        }
      ],
      "source": [
        "fw_model = FraudModel(df_concat)\n",
        "fw_model.train(epochs=300)\n",
        "fw_model.evaluate(df_test, confidence=0.90)"
      ]
    },
    {
      "cell_type": "code",
      "execution_count": 18,
      "metadata": {
        "id": "KsD2LUSt_8Pm"
      },
      "outputs": [],
      "source": [
        "path = \"vgan_model.pt\"\n",
        "torch.save(fw_model.model.state_dict(), path)"
      ]
    },
    {
      "cell_type": "code",
      "execution_count": 19,
      "metadata": {
        "id": "TO3GydobS5X9"
      },
      "outputs": [],
      "source": [
        "path = \"vgan_model.pth\"\n",
        "torch.save(fw_model.model.state_dict(), path)"
      ]
    },
    {
      "cell_type": "markdown",
      "metadata": {
        "id": "EA46ZOhkNMof"
      },
      "source": [
        "### LSTM-Based Detection"
      ]
    },
    {
      "cell_type": "code",
      "execution_count": 20,
      "metadata": {
        "id": "sqE6UVvINMof"
      },
      "outputs": [],
      "source": [
        "#split df_concat into train and test\n",
        "ltsm_train, ltsm_test = train_test_split(df_concat, test_size=0.2, random_state=42)"
      ]
    },
    {
      "cell_type": "code",
      "execution_count": 21,
      "metadata": {
        "id": "fXGHXm2URN6t"
      },
      "outputs": [],
      "source": [
        "def create_time_dataset(in_df, seq_size=10):\n",
        "    X, y = [], []\n",
        "    for i in range(len(in_df) - seq_size):\n",
        "        slice = in_df[i:i+seq_size]\n",
        "        X.append(slice.drop(['Class', 'Time'], axis=1).values)\n",
        "        y.append(slice['Class'].values[-1])\n",
        "\n",
        "    X = np.array(X)\n",
        "    y = np.array(y)\n",
        "\n",
        "    return torch.Tensor(X).to(device), torch.Tensor(y).to(device)"
      ]
    },
    {
      "cell_type": "code",
      "execution_count": 22,
      "metadata": {
        "id": "d5vGLuqCNMof"
      },
      "outputs": [],
      "source": [
        "class LSTMModel(nn.Module):\n",
        "    def __init__(self, input_size):\n",
        "        super().__init__()\n",
        "        self.hidden_size = 256\n",
        "        self.lstm = nn.LSTM(input_size,\n",
        "                            hidden_size=self.hidden_size,\n",
        "                            num_layers=5,\n",
        "                            bidirectional=True,\n",
        "                            batch_first=True)\n",
        "        self.linear = nn.Sequential(\n",
        "            nn.Linear(self.hidden_size * 2, 512),\n",
        "            nn.ReLU(),\n",
        "            nn.Linear(512, 1),\n",
        "            nn.Sigmoid(),\n",
        "        )\n",
        "\n",
        "    def forward(self, x):\n",
        "        x, hx = self.lstm(x)\n",
        "        out = torch.cat((hx[0][-2, :, :], hx[0][-1, :, :]), dim=1)\n",
        "        return torch.flatten(self.linear(out))"
      ]
    },
    {
      "cell_type": "code",
      "execution_count": 23,
      "metadata": {
        "id": "VxXQ9eFUNMog"
      },
      "outputs": [],
      "source": [
        "class LSTMFraudModel:\n",
        "    def __init__(self, train_df):\n",
        "        self.lr = 0.0001\n",
        "        self.batch_size = 128\n",
        "        X_train, y_train = create_time_dataset(train_df)\n",
        "        self.dataset = TensorDataset(X_train, y_train)\n",
        "        self.dataloader = DataLoader(self.dataset, self.batch_size, shuffle=True)\n",
        "        self.model = LSTMModel(input_size=X_train.shape[2]).to(device)\n",
        "        self.optimizer = optim.Adam(self.model.parameters(), lr=self.lr)\n",
        "        self.loss = nn.BCELoss()\n",
        "\n",
        "    def train(self, epochs=100):\n",
        "        for epoch in range(epochs):\n",
        "            epoch_loss = 0\n",
        "            for _, (x, y) in enumerate(tqdm(self.dataloader)):\n",
        "                x,y = x.to(device), y.to(device)\n",
        "                self.optimizer.zero_grad()\n",
        "                y_pred = self.model(x)\n",
        "                loss = self.loss(y_pred, y)\n",
        "                loss.backward()\n",
        "                self.optimizer.step()\n",
        "                epoch_loss += loss.item() / len(x)\n",
        "            print(\"[Epoch %d/%d] loss: %f\" % (epoch+1, epochs, np.mean(epoch_loss)))\n",
        "\n",
        "    def predict(self, x):\n",
        "        with torch.no_grad():\n",
        "            pred = self.model(x)\n",
        "            return pred.cpu().numpy()\n",
        "\n",
        "    def evaluate(self, test_df, confidence=0.50):\n",
        "        input, y_true = create_time_dataset(test_df)\n",
        "        dataloader = DataLoader(TensorDataset(input, y_true), self.batch_size, shuffle=False)\n",
        "        preds = np.array([])\n",
        "        for (inp, _) in dataloader:\n",
        "            pred = self.predict(inp)\n",
        "            preds = np.concatenate((preds, pred), axis=None)\n",
        "        labels = np.zeros_like(preds)\n",
        "        labels[preds >= confidence] = 1.0\n",
        "        common_metrics(y_true.cpu().numpy(), labels, preds)"
      ]
    },
    {
      "cell_type": "code",
      "execution_count": 24,
      "metadata": {
        "id": "AwXwPyZDNMog"
      },
      "outputs": [],
      "source": [
        "lstm = LSTMFraudModel(ltsm_train)"
      ]
    },
    {
      "cell_type": "code",
      "execution_count": 25,
      "metadata": {
        "colab": {
          "base_uri": "https://localhost:8080/"
        },
        "id": "WgwtLJdsNMog",
        "outputId": "a62fafae-f887-43a9-c751-3eb543bbc5aa"
      },
      "outputs": [
        {
          "name": "stderr",
          "output_type": "stream",
          "text": [
            "100%|██████████| 2846/2846 [01:03<00:00, 44.69it/s]\n"
          ]
        },
        {
          "name": "stdout",
          "output_type": "stream",
          "text": [
            "[Epoch 1/300] loss: 0.499696\n"
          ]
        },
        {
          "name": "stderr",
          "output_type": "stream",
          "text": [
            "100%|██████████| 2846/2846 [01:02<00:00, 45.27it/s]\n"
          ]
        },
        {
          "name": "stdout",
          "output_type": "stream",
          "text": [
            "[Epoch 2/300] loss: 0.078206\n"
          ]
        },
        {
          "name": "stderr",
          "output_type": "stream",
          "text": [
            "100%|██████████| 2846/2846 [01:02<00:00, 45.40it/s]\n"
          ]
        },
        {
          "name": "stdout",
          "output_type": "stream",
          "text": [
            "[Epoch 3/300] loss: 0.054348\n"
          ]
        },
        {
          "name": "stderr",
          "output_type": "stream",
          "text": [
            "100%|██████████| 2846/2846 [01:02<00:00, 45.25it/s]\n"
          ]
        },
        {
          "name": "stdout",
          "output_type": "stream",
          "text": [
            "[Epoch 4/300] loss: 0.047232\n"
          ]
        },
        {
          "name": "stderr",
          "output_type": "stream",
          "text": [
            "100%|██████████| 2846/2846 [01:02<00:00, 45.50it/s]\n"
          ]
        },
        {
          "name": "stdout",
          "output_type": "stream",
          "text": [
            "[Epoch 5/300] loss: 0.041991\n"
          ]
        },
        {
          "name": "stderr",
          "output_type": "stream",
          "text": [
            "100%|██████████| 2846/2846 [01:03<00:00, 45.11it/s]\n"
          ]
        },
        {
          "name": "stdout",
          "output_type": "stream",
          "text": [
            "[Epoch 6/300] loss: 0.037635\n"
          ]
        },
        {
          "name": "stderr",
          "output_type": "stream",
          "text": [
            "100%|██████████| 2846/2846 [01:03<00:00, 44.79it/s]\n"
          ]
        },
        {
          "name": "stdout",
          "output_type": "stream",
          "text": [
            "[Epoch 7/300] loss: 0.036445\n"
          ]
        },
        {
          "name": "stderr",
          "output_type": "stream",
          "text": [
            "100%|██████████| 2846/2846 [01:02<00:00, 45.18it/s]\n"
          ]
        },
        {
          "name": "stdout",
          "output_type": "stream",
          "text": [
            "[Epoch 8/300] loss: 0.032645\n"
          ]
        },
        {
          "name": "stderr",
          "output_type": "stream",
          "text": [
            "100%|██████████| 2846/2846 [01:03<00:00, 45.15it/s]\n"
          ]
        },
        {
          "name": "stdout",
          "output_type": "stream",
          "text": [
            "[Epoch 9/300] loss: 0.029648\n"
          ]
        },
        {
          "name": "stderr",
          "output_type": "stream",
          "text": [
            "100%|██████████| 2846/2846 [01:02<00:00, 45.36it/s]\n"
          ]
        },
        {
          "name": "stdout",
          "output_type": "stream",
          "text": [
            "[Epoch 10/300] loss: 0.031888\n"
          ]
        },
        {
          "name": "stderr",
          "output_type": "stream",
          "text": [
            "100%|██████████| 2846/2846 [01:03<00:00, 45.09it/s]\n"
          ]
        },
        {
          "name": "stdout",
          "output_type": "stream",
          "text": [
            "[Epoch 11/300] loss: 0.026953\n"
          ]
        },
        {
          "name": "stderr",
          "output_type": "stream",
          "text": [
            "100%|██████████| 2846/2846 [01:03<00:00, 44.96it/s]\n"
          ]
        },
        {
          "name": "stdout",
          "output_type": "stream",
          "text": [
            "[Epoch 12/300] loss: 0.026183\n"
          ]
        },
        {
          "name": "stderr",
          "output_type": "stream",
          "text": [
            "100%|██████████| 2846/2846 [01:02<00:00, 45.30it/s]\n"
          ]
        },
        {
          "name": "stdout",
          "output_type": "stream",
          "text": [
            "[Epoch 13/300] loss: 0.025966\n"
          ]
        },
        {
          "name": "stderr",
          "output_type": "stream",
          "text": [
            "100%|██████████| 2846/2846 [01:03<00:00, 44.73it/s]\n"
          ]
        },
        {
          "name": "stdout",
          "output_type": "stream",
          "text": [
            "[Epoch 14/300] loss: 0.023758\n"
          ]
        },
        {
          "name": "stderr",
          "output_type": "stream",
          "text": [
            "100%|██████████| 2846/2846 [01:03<00:00, 44.87it/s]\n"
          ]
        },
        {
          "name": "stdout",
          "output_type": "stream",
          "text": [
            "[Epoch 15/300] loss: 0.020989\n"
          ]
        },
        {
          "name": "stderr",
          "output_type": "stream",
          "text": [
            "100%|██████████| 2846/2846 [01:02<00:00, 45.37it/s]\n"
          ]
        },
        {
          "name": "stdout",
          "output_type": "stream",
          "text": [
            "[Epoch 16/300] loss: 0.019925\n"
          ]
        },
        {
          "name": "stderr",
          "output_type": "stream",
          "text": [
            "100%|██████████| 2846/2846 [01:02<00:00, 45.47it/s]\n"
          ]
        },
        {
          "name": "stdout",
          "output_type": "stream",
          "text": [
            "[Epoch 17/300] loss: 0.018013\n"
          ]
        },
        {
          "name": "stderr",
          "output_type": "stream",
          "text": [
            "100%|██████████| 2846/2846 [01:02<00:00, 45.32it/s]\n"
          ]
        },
        {
          "name": "stdout",
          "output_type": "stream",
          "text": [
            "[Epoch 18/300] loss: 0.017240\n"
          ]
        },
        {
          "name": "stderr",
          "output_type": "stream",
          "text": [
            "100%|██████████| 2846/2846 [01:02<00:00, 45.23it/s]\n"
          ]
        },
        {
          "name": "stdout",
          "output_type": "stream",
          "text": [
            "[Epoch 19/300] loss: 0.015040\n"
          ]
        },
        {
          "name": "stderr",
          "output_type": "stream",
          "text": [
            "100%|██████████| 2846/2846 [01:04<00:00, 43.95it/s]\n"
          ]
        },
        {
          "name": "stdout",
          "output_type": "stream",
          "text": [
            "[Epoch 20/300] loss: 0.015726\n"
          ]
        },
        {
          "name": "stderr",
          "output_type": "stream",
          "text": [
            "100%|██████████| 2846/2846 [01:02<00:00, 45.53it/s]\n"
          ]
        },
        {
          "name": "stdout",
          "output_type": "stream",
          "text": [
            "[Epoch 21/300] loss: 0.013404\n"
          ]
        },
        {
          "name": "stderr",
          "output_type": "stream",
          "text": [
            "100%|██████████| 2846/2846 [01:02<00:00, 45.28it/s]\n"
          ]
        },
        {
          "name": "stdout",
          "output_type": "stream",
          "text": [
            "[Epoch 22/300] loss: 0.012509\n"
          ]
        },
        {
          "name": "stderr",
          "output_type": "stream",
          "text": [
            "100%|██████████| 2846/2846 [01:02<00:00, 45.77it/s]\n"
          ]
        },
        {
          "name": "stdout",
          "output_type": "stream",
          "text": [
            "[Epoch 23/300] loss: 0.011864\n"
          ]
        },
        {
          "name": "stderr",
          "output_type": "stream",
          "text": [
            "100%|██████████| 2846/2846 [01:02<00:00, 45.54it/s]\n"
          ]
        },
        {
          "name": "stdout",
          "output_type": "stream",
          "text": [
            "[Epoch 24/300] loss: 0.013119\n"
          ]
        },
        {
          "name": "stderr",
          "output_type": "stream",
          "text": [
            "100%|██████████| 2846/2846 [01:02<00:00, 45.28it/s]\n"
          ]
        },
        {
          "name": "stdout",
          "output_type": "stream",
          "text": [
            "[Epoch 25/300] loss: 0.012603\n"
          ]
        },
        {
          "name": "stderr",
          "output_type": "stream",
          "text": [
            "100%|██████████| 2846/2846 [01:02<00:00, 45.26it/s]\n"
          ]
        },
        {
          "name": "stdout",
          "output_type": "stream",
          "text": [
            "[Epoch 26/300] loss: 0.010099\n"
          ]
        },
        {
          "name": "stderr",
          "output_type": "stream",
          "text": [
            "100%|██████████| 2846/2846 [01:02<00:00, 45.25it/s]\n"
          ]
        },
        {
          "name": "stdout",
          "output_type": "stream",
          "text": [
            "[Epoch 27/300] loss: 0.008739\n"
          ]
        },
        {
          "name": "stderr",
          "output_type": "stream",
          "text": [
            "100%|██████████| 2846/2846 [01:02<00:00, 45.89it/s]\n"
          ]
        },
        {
          "name": "stdout",
          "output_type": "stream",
          "text": [
            "[Epoch 28/300] loss: 0.008369\n"
          ]
        },
        {
          "name": "stderr",
          "output_type": "stream",
          "text": [
            "100%|██████████| 2846/2846 [01:01<00:00, 45.90it/s]\n"
          ]
        },
        {
          "name": "stdout",
          "output_type": "stream",
          "text": [
            "[Epoch 29/300] loss: 0.007016\n"
          ]
        },
        {
          "name": "stderr",
          "output_type": "stream",
          "text": [
            "100%|██████████| 2846/2846 [01:02<00:00, 45.35it/s]\n"
          ]
        },
        {
          "name": "stdout",
          "output_type": "stream",
          "text": [
            "[Epoch 30/300] loss: 0.006585\n"
          ]
        },
        {
          "name": "stderr",
          "output_type": "stream",
          "text": [
            "100%|██████████| 2846/2846 [01:02<00:00, 45.40it/s]\n"
          ]
        },
        {
          "name": "stdout",
          "output_type": "stream",
          "text": [
            "[Epoch 31/300] loss: 0.006013\n"
          ]
        },
        {
          "name": "stderr",
          "output_type": "stream",
          "text": [
            "100%|██████████| 2846/2846 [01:02<00:00, 45.84it/s]\n"
          ]
        },
        {
          "name": "stdout",
          "output_type": "stream",
          "text": [
            "[Epoch 32/300] loss: 0.005608\n"
          ]
        },
        {
          "name": "stderr",
          "output_type": "stream",
          "text": [
            "100%|██████████| 2846/2846 [01:02<00:00, 45.43it/s]\n"
          ]
        },
        {
          "name": "stdout",
          "output_type": "stream",
          "text": [
            "[Epoch 33/300] loss: 0.004135\n"
          ]
        },
        {
          "name": "stderr",
          "output_type": "stream",
          "text": [
            "100%|██████████| 2846/2846 [01:02<00:00, 45.53it/s]\n"
          ]
        },
        {
          "name": "stdout",
          "output_type": "stream",
          "text": [
            "[Epoch 34/300] loss: 0.003610\n"
          ]
        },
        {
          "name": "stderr",
          "output_type": "stream",
          "text": [
            "100%|██████████| 2846/2846 [01:01<00:00, 46.10it/s]\n"
          ]
        },
        {
          "name": "stdout",
          "output_type": "stream",
          "text": [
            "[Epoch 35/300] loss: 0.003194\n"
          ]
        },
        {
          "name": "stderr",
          "output_type": "stream",
          "text": [
            "100%|██████████| 2846/2846 [01:01<00:00, 46.11it/s]\n"
          ]
        },
        {
          "name": "stdout",
          "output_type": "stream",
          "text": [
            "[Epoch 36/300] loss: 0.001579\n"
          ]
        },
        {
          "name": "stderr",
          "output_type": "stream",
          "text": [
            "100%|██████████| 2846/2846 [01:01<00:00, 46.04it/s]\n"
          ]
        },
        {
          "name": "stdout",
          "output_type": "stream",
          "text": [
            "[Epoch 37/300] loss: 0.005399\n"
          ]
        },
        {
          "name": "stderr",
          "output_type": "stream",
          "text": [
            "100%|██████████| 2846/2846 [01:01<00:00, 45.91it/s]\n"
          ]
        },
        {
          "name": "stdout",
          "output_type": "stream",
          "text": [
            "[Epoch 38/300] loss: 0.005028\n"
          ]
        },
        {
          "name": "stderr",
          "output_type": "stream",
          "text": [
            "100%|██████████| 2846/2846 [01:02<00:00, 45.50it/s]\n"
          ]
        },
        {
          "name": "stdout",
          "output_type": "stream",
          "text": [
            "[Epoch 39/300] loss: 0.004958\n"
          ]
        },
        {
          "name": "stderr",
          "output_type": "stream",
          "text": [
            "100%|██████████| 2846/2846 [01:01<00:00, 46.08it/s]\n"
          ]
        },
        {
          "name": "stdout",
          "output_type": "stream",
          "text": [
            "[Epoch 40/300] loss: 0.002091\n"
          ]
        },
        {
          "name": "stderr",
          "output_type": "stream",
          "text": [
            "100%|██████████| 2846/2846 [01:01<00:00, 45.96it/s]\n"
          ]
        },
        {
          "name": "stdout",
          "output_type": "stream",
          "text": [
            "[Epoch 41/300] loss: 0.010225\n"
          ]
        },
        {
          "name": "stderr",
          "output_type": "stream",
          "text": [
            "100%|██████████| 2846/2846 [01:02<00:00, 45.20it/s]\n"
          ]
        },
        {
          "name": "stdout",
          "output_type": "stream",
          "text": [
            "[Epoch 42/300] loss: 0.005209\n"
          ]
        },
        {
          "name": "stderr",
          "output_type": "stream",
          "text": [
            "100%|██████████| 2846/2846 [01:02<00:00, 45.45it/s]\n"
          ]
        },
        {
          "name": "stdout",
          "output_type": "stream",
          "text": [
            "[Epoch 43/300] loss: 0.002497\n"
          ]
        },
        {
          "name": "stderr",
          "output_type": "stream",
          "text": [
            "100%|██████████| 2846/2846 [01:02<00:00, 45.87it/s]\n"
          ]
        },
        {
          "name": "stdout",
          "output_type": "stream",
          "text": [
            "[Epoch 44/300] loss: 0.003631\n"
          ]
        },
        {
          "name": "stderr",
          "output_type": "stream",
          "text": [
            "100%|██████████| 2846/2846 [01:02<00:00, 45.86it/s]\n"
          ]
        },
        {
          "name": "stdout",
          "output_type": "stream",
          "text": [
            "[Epoch 45/300] loss: 0.003388\n"
          ]
        },
        {
          "name": "stderr",
          "output_type": "stream",
          "text": [
            "100%|██████████| 2846/2846 [01:01<00:00, 46.12it/s]\n"
          ]
        },
        {
          "name": "stdout",
          "output_type": "stream",
          "text": [
            "[Epoch 46/300] loss: 0.002059\n"
          ]
        },
        {
          "name": "stderr",
          "output_type": "stream",
          "text": [
            "100%|██████████| 2846/2846 [01:01<00:00, 46.05it/s]\n"
          ]
        },
        {
          "name": "stdout",
          "output_type": "stream",
          "text": [
            "[Epoch 47/300] loss: 0.001681\n"
          ]
        },
        {
          "name": "stderr",
          "output_type": "stream",
          "text": [
            "100%|██████████| 2846/2846 [01:01<00:00, 46.09it/s]\n"
          ]
        },
        {
          "name": "stdout",
          "output_type": "stream",
          "text": [
            "[Epoch 48/300] loss: 0.002197\n"
          ]
        },
        {
          "name": "stderr",
          "output_type": "stream",
          "text": [
            "100%|██████████| 2846/2846 [01:02<00:00, 45.88it/s]\n"
          ]
        },
        {
          "name": "stdout",
          "output_type": "stream",
          "text": [
            "[Epoch 49/300] loss: 0.001550\n"
          ]
        },
        {
          "name": "stderr",
          "output_type": "stream",
          "text": [
            "100%|██████████| 2846/2846 [01:03<00:00, 45.15it/s]\n"
          ]
        },
        {
          "name": "stdout",
          "output_type": "stream",
          "text": [
            "[Epoch 50/300] loss: 0.002862\n"
          ]
        },
        {
          "name": "stderr",
          "output_type": "stream",
          "text": [
            "100%|██████████| 2846/2846 [01:02<00:00, 45.86it/s]\n"
          ]
        },
        {
          "name": "stdout",
          "output_type": "stream",
          "text": [
            "[Epoch 51/300] loss: 0.001004\n"
          ]
        },
        {
          "name": "stderr",
          "output_type": "stream",
          "text": [
            "100%|██████████| 2846/2846 [01:01<00:00, 46.02it/s]\n"
          ]
        },
        {
          "name": "stdout",
          "output_type": "stream",
          "text": [
            "[Epoch 52/300] loss: 0.001406\n"
          ]
        },
        {
          "name": "stderr",
          "output_type": "stream",
          "text": [
            "100%|██████████| 2846/2846 [01:02<00:00, 45.29it/s]\n"
          ]
        },
        {
          "name": "stdout",
          "output_type": "stream",
          "text": [
            "[Epoch 53/300] loss: 0.003047\n"
          ]
        },
        {
          "name": "stderr",
          "output_type": "stream",
          "text": [
            "100%|██████████| 2846/2846 [01:02<00:00, 45.22it/s]\n"
          ]
        },
        {
          "name": "stdout",
          "output_type": "stream",
          "text": [
            "[Epoch 54/300] loss: 0.002554\n"
          ]
        },
        {
          "name": "stderr",
          "output_type": "stream",
          "text": [
            "100%|██████████| 2846/2846 [01:02<00:00, 45.73it/s]\n"
          ]
        },
        {
          "name": "stdout",
          "output_type": "stream",
          "text": [
            "[Epoch 55/300] loss: 0.000498\n"
          ]
        },
        {
          "name": "stderr",
          "output_type": "stream",
          "text": [
            "100%|██████████| 2846/2846 [01:01<00:00, 46.12it/s]\n"
          ]
        },
        {
          "name": "stdout",
          "output_type": "stream",
          "text": [
            "[Epoch 56/300] loss: 0.001831\n"
          ]
        },
        {
          "name": "stderr",
          "output_type": "stream",
          "text": [
            "100%|██████████| 2846/2846 [01:01<00:00, 46.13it/s]\n"
          ]
        },
        {
          "name": "stdout",
          "output_type": "stream",
          "text": [
            "[Epoch 57/300] loss: 0.001432\n"
          ]
        },
        {
          "name": "stderr",
          "output_type": "stream",
          "text": [
            "100%|██████████| 2846/2846 [01:01<00:00, 46.20it/s]\n"
          ]
        },
        {
          "name": "stdout",
          "output_type": "stream",
          "text": [
            "[Epoch 58/300] loss: 0.001930\n"
          ]
        },
        {
          "name": "stderr",
          "output_type": "stream",
          "text": [
            "100%|██████████| 2846/2846 [01:01<00:00, 46.10it/s]\n"
          ]
        },
        {
          "name": "stdout",
          "output_type": "stream",
          "text": [
            "[Epoch 59/300] loss: 0.002070\n"
          ]
        },
        {
          "name": "stderr",
          "output_type": "stream",
          "text": [
            "100%|██████████| 2846/2846 [01:01<00:00, 46.07it/s]\n"
          ]
        },
        {
          "name": "stdout",
          "output_type": "stream",
          "text": [
            "[Epoch 60/300] loss: 0.000232\n"
          ]
        },
        {
          "name": "stderr",
          "output_type": "stream",
          "text": [
            "100%|██████████| 2846/2846 [01:01<00:00, 46.08it/s]\n"
          ]
        },
        {
          "name": "stdout",
          "output_type": "stream",
          "text": [
            "[Epoch 61/300] loss: 0.001341\n"
          ]
        },
        {
          "name": "stderr",
          "output_type": "stream",
          "text": [
            "100%|██████████| 2846/2846 [01:01<00:00, 46.14it/s]\n"
          ]
        },
        {
          "name": "stdout",
          "output_type": "stream",
          "text": [
            "[Epoch 62/300] loss: 0.007225\n"
          ]
        },
        {
          "name": "stderr",
          "output_type": "stream",
          "text": [
            "100%|██████████| 2846/2846 [01:02<00:00, 45.75it/s]\n"
          ]
        },
        {
          "name": "stdout",
          "output_type": "stream",
          "text": [
            "[Epoch 63/300] loss: 0.002284\n"
          ]
        },
        {
          "name": "stderr",
          "output_type": "stream",
          "text": [
            "100%|██████████| 2846/2846 [01:01<00:00, 46.11it/s]\n"
          ]
        },
        {
          "name": "stdout",
          "output_type": "stream",
          "text": [
            "[Epoch 64/300] loss: 0.000015\n"
          ]
        },
        {
          "name": "stderr",
          "output_type": "stream",
          "text": [
            "100%|██████████| 2846/2846 [01:01<00:00, 46.10it/s]\n"
          ]
        },
        {
          "name": "stdout",
          "output_type": "stream",
          "text": [
            "[Epoch 65/300] loss: 0.000001\n"
          ]
        },
        {
          "name": "stderr",
          "output_type": "stream",
          "text": [
            "100%|██████████| 2846/2846 [01:01<00:00, 46.12it/s]\n"
          ]
        },
        {
          "name": "stdout",
          "output_type": "stream",
          "text": [
            "[Epoch 66/300] loss: 0.000000\n"
          ]
        },
        {
          "name": "stderr",
          "output_type": "stream",
          "text": [
            "100%|██████████| 2846/2846 [01:01<00:00, 46.18it/s]\n"
          ]
        },
        {
          "name": "stdout",
          "output_type": "stream",
          "text": [
            "[Epoch 67/300] loss: 0.000000\n"
          ]
        },
        {
          "name": "stderr",
          "output_type": "stream",
          "text": [
            "100%|██████████| 2846/2846 [01:01<00:00, 46.16it/s]\n"
          ]
        },
        {
          "name": "stdout",
          "output_type": "stream",
          "text": [
            "[Epoch 68/300] loss: 0.000000\n"
          ]
        },
        {
          "name": "stderr",
          "output_type": "stream",
          "text": [
            "100%|██████████| 2846/2846 [01:01<00:00, 46.12it/s]\n"
          ]
        },
        {
          "name": "stdout",
          "output_type": "stream",
          "text": [
            "[Epoch 69/300] loss: 0.006105\n"
          ]
        },
        {
          "name": "stderr",
          "output_type": "stream",
          "text": [
            "100%|██████████| 2846/2846 [01:01<00:00, 46.10it/s]\n"
          ]
        },
        {
          "name": "stdout",
          "output_type": "stream",
          "text": [
            "[Epoch 70/300] loss: 0.003354\n"
          ]
        },
        {
          "name": "stderr",
          "output_type": "stream",
          "text": [
            "100%|██████████| 2846/2846 [01:01<00:00, 46.05it/s]\n"
          ]
        },
        {
          "name": "stdout",
          "output_type": "stream",
          "text": [
            "[Epoch 71/300] loss: 0.000765\n"
          ]
        },
        {
          "name": "stderr",
          "output_type": "stream",
          "text": [
            "100%|██████████| 2846/2846 [01:01<00:00, 46.08it/s]\n"
          ]
        },
        {
          "name": "stdout",
          "output_type": "stream",
          "text": [
            "[Epoch 72/300] loss: 0.000030\n"
          ]
        },
        {
          "name": "stderr",
          "output_type": "stream",
          "text": [
            "100%|██████████| 2846/2846 [01:01<00:00, 46.15it/s]\n"
          ]
        },
        {
          "name": "stdout",
          "output_type": "stream",
          "text": [
            "[Epoch 73/300] loss: 0.000001\n"
          ]
        },
        {
          "name": "stderr",
          "output_type": "stream",
          "text": [
            "100%|██████████| 2846/2846 [01:01<00:00, 46.14it/s]\n"
          ]
        },
        {
          "name": "stdout",
          "output_type": "stream",
          "text": [
            "[Epoch 74/300] loss: 0.000000\n"
          ]
        },
        {
          "name": "stderr",
          "output_type": "stream",
          "text": [
            "100%|██████████| 2846/2846 [01:01<00:00, 46.11it/s]\n"
          ]
        },
        {
          "name": "stdout",
          "output_type": "stream",
          "text": [
            "[Epoch 75/300] loss: 0.000000\n"
          ]
        },
        {
          "name": "stderr",
          "output_type": "stream",
          "text": [
            "100%|██████████| 2846/2846 [01:01<00:00, 46.08it/s]\n"
          ]
        },
        {
          "name": "stdout",
          "output_type": "stream",
          "text": [
            "[Epoch 76/300] loss: 0.000000\n"
          ]
        },
        {
          "name": "stderr",
          "output_type": "stream",
          "text": [
            "100%|██████████| 2846/2846 [01:01<00:00, 46.14it/s]\n"
          ]
        },
        {
          "name": "stdout",
          "output_type": "stream",
          "text": [
            "[Epoch 77/300] loss: 0.000000\n"
          ]
        },
        {
          "name": "stderr",
          "output_type": "stream",
          "text": [
            "100%|██████████| 2846/2846 [01:01<00:00, 46.18it/s]\n"
          ]
        },
        {
          "name": "stdout",
          "output_type": "stream",
          "text": [
            "[Epoch 78/300] loss: 0.000000\n"
          ]
        },
        {
          "name": "stderr",
          "output_type": "stream",
          "text": [
            "100%|██████████| 2846/2846 [01:01<00:00, 46.14it/s]\n"
          ]
        },
        {
          "name": "stdout",
          "output_type": "stream",
          "text": [
            "[Epoch 79/300] loss: 0.000000\n"
          ]
        },
        {
          "name": "stderr",
          "output_type": "stream",
          "text": [
            "100%|██████████| 2846/2846 [01:01<00:00, 46.08it/s]\n"
          ]
        },
        {
          "name": "stdout",
          "output_type": "stream",
          "text": [
            "[Epoch 80/300] loss: 0.000000\n"
          ]
        },
        {
          "name": "stderr",
          "output_type": "stream",
          "text": [
            "100%|██████████| 2846/2846 [01:01<00:00, 46.08it/s]\n"
          ]
        },
        {
          "name": "stdout",
          "output_type": "stream",
          "text": [
            "[Epoch 81/300] loss: 0.001296\n"
          ]
        },
        {
          "name": "stderr",
          "output_type": "stream",
          "text": [
            "100%|██████████| 2846/2846 [01:01<00:00, 46.07it/s]\n"
          ]
        },
        {
          "name": "stdout",
          "output_type": "stream",
          "text": [
            "[Epoch 82/300] loss: 0.000945\n"
          ]
        },
        {
          "name": "stderr",
          "output_type": "stream",
          "text": [
            "100%|██████████| 2846/2846 [01:01<00:00, 46.14it/s]\n"
          ]
        },
        {
          "name": "stdout",
          "output_type": "stream",
          "text": [
            "[Epoch 83/300] loss: 0.018443\n"
          ]
        },
        {
          "name": "stderr",
          "output_type": "stream",
          "text": [
            "100%|██████████| 2846/2846 [01:01<00:00, 46.01it/s]\n"
          ]
        },
        {
          "name": "stdout",
          "output_type": "stream",
          "text": [
            "[Epoch 84/300] loss: 0.022836\n"
          ]
        },
        {
          "name": "stderr",
          "output_type": "stream",
          "text": [
            "100%|██████████| 2846/2846 [01:01<00:00, 45.93it/s]\n"
          ]
        },
        {
          "name": "stdout",
          "output_type": "stream",
          "text": [
            "[Epoch 85/300] loss: 0.000083\n"
          ]
        },
        {
          "name": "stderr",
          "output_type": "stream",
          "text": [
            "100%|██████████| 2846/2846 [01:01<00:00, 46.16it/s]\n"
          ]
        },
        {
          "name": "stdout",
          "output_type": "stream",
          "text": [
            "[Epoch 86/300] loss: 0.000001\n"
          ]
        },
        {
          "name": "stderr",
          "output_type": "stream",
          "text": [
            "100%|██████████| 2846/2846 [01:01<00:00, 46.08it/s]\n"
          ]
        },
        {
          "name": "stdout",
          "output_type": "stream",
          "text": [
            "[Epoch 87/300] loss: 0.000000\n"
          ]
        },
        {
          "name": "stderr",
          "output_type": "stream",
          "text": [
            "100%|██████████| 2846/2846 [01:01<00:00, 46.04it/s]\n"
          ]
        },
        {
          "name": "stdout",
          "output_type": "stream",
          "text": [
            "[Epoch 88/300] loss: 0.000000\n"
          ]
        },
        {
          "name": "stderr",
          "output_type": "stream",
          "text": [
            "100%|██████████| 2846/2846 [01:01<00:00, 46.09it/s]\n"
          ]
        },
        {
          "name": "stdout",
          "output_type": "stream",
          "text": [
            "[Epoch 89/300] loss: 0.000000\n"
          ]
        },
        {
          "name": "stderr",
          "output_type": "stream",
          "text": [
            "100%|██████████| 2846/2846 [01:01<00:00, 46.10it/s]\n"
          ]
        },
        {
          "name": "stdout",
          "output_type": "stream",
          "text": [
            "[Epoch 90/300] loss: 0.000000\n"
          ]
        },
        {
          "name": "stderr",
          "output_type": "stream",
          "text": [
            "100%|██████████| 2846/2846 [01:01<00:00, 46.06it/s]\n"
          ]
        },
        {
          "name": "stdout",
          "output_type": "stream",
          "text": [
            "[Epoch 91/300] loss: 0.000000\n"
          ]
        },
        {
          "name": "stderr",
          "output_type": "stream",
          "text": [
            "100%|██████████| 2846/2846 [01:01<00:00, 46.08it/s]\n"
          ]
        },
        {
          "name": "stdout",
          "output_type": "stream",
          "text": [
            "[Epoch 92/300] loss: 0.000000\n"
          ]
        },
        {
          "name": "stderr",
          "output_type": "stream",
          "text": [
            "100%|██████████| 2846/2846 [01:01<00:00, 46.04it/s]\n"
          ]
        },
        {
          "name": "stdout",
          "output_type": "stream",
          "text": [
            "[Epoch 93/300] loss: 0.000000\n"
          ]
        },
        {
          "name": "stderr",
          "output_type": "stream",
          "text": [
            "100%|██████████| 2846/2846 [01:01<00:00, 45.93it/s]\n"
          ]
        },
        {
          "name": "stdout",
          "output_type": "stream",
          "text": [
            "[Epoch 94/300] loss: 0.003393\n"
          ]
        },
        {
          "name": "stderr",
          "output_type": "stream",
          "text": [
            "100%|██████████| 2846/2846 [01:01<00:00, 46.07it/s]\n"
          ]
        },
        {
          "name": "stdout",
          "output_type": "stream",
          "text": [
            "[Epoch 95/300] loss: 0.001014\n"
          ]
        },
        {
          "name": "stderr",
          "output_type": "stream",
          "text": [
            "100%|██████████| 2846/2846 [01:01<00:00, 46.06it/s]\n"
          ]
        },
        {
          "name": "stdout",
          "output_type": "stream",
          "text": [
            "[Epoch 96/300] loss: 0.000849\n"
          ]
        },
        {
          "name": "stderr",
          "output_type": "stream",
          "text": [
            "100%|██████████| 2846/2846 [01:01<00:00, 46.13it/s]\n"
          ]
        },
        {
          "name": "stdout",
          "output_type": "stream",
          "text": [
            "[Epoch 97/300] loss: 0.000004\n"
          ]
        },
        {
          "name": "stderr",
          "output_type": "stream",
          "text": [
            "100%|██████████| 2846/2846 [01:01<00:00, 46.10it/s]\n"
          ]
        },
        {
          "name": "stdout",
          "output_type": "stream",
          "text": [
            "[Epoch 98/300] loss: 0.000000\n"
          ]
        },
        {
          "name": "stderr",
          "output_type": "stream",
          "text": [
            "100%|██████████| 2846/2846 [01:01<00:00, 46.03it/s]\n"
          ]
        },
        {
          "name": "stdout",
          "output_type": "stream",
          "text": [
            "[Epoch 99/300] loss: 0.000000\n"
          ]
        },
        {
          "name": "stderr",
          "output_type": "stream",
          "text": [
            "100%|██████████| 2846/2846 [01:01<00:00, 46.08it/s]\n"
          ]
        },
        {
          "name": "stdout",
          "output_type": "stream",
          "text": [
            "[Epoch 100/300] loss: 0.000000\n"
          ]
        },
        {
          "name": "stderr",
          "output_type": "stream",
          "text": [
            "100%|██████████| 2846/2846 [01:01<00:00, 46.13it/s]\n"
          ]
        },
        {
          "name": "stdout",
          "output_type": "stream",
          "text": [
            "[Epoch 101/300] loss: 0.000000\n"
          ]
        },
        {
          "name": "stderr",
          "output_type": "stream",
          "text": [
            "100%|██████████| 2846/2846 [01:01<00:00, 46.20it/s]\n"
          ]
        },
        {
          "name": "stdout",
          "output_type": "stream",
          "text": [
            "[Epoch 102/300] loss: 0.000000\n"
          ]
        },
        {
          "name": "stderr",
          "output_type": "stream",
          "text": [
            "100%|██████████| 2846/2846 [01:01<00:00, 46.09it/s]\n"
          ]
        },
        {
          "name": "stdout",
          "output_type": "stream",
          "text": [
            "[Epoch 103/300] loss: 0.000000\n"
          ]
        },
        {
          "name": "stderr",
          "output_type": "stream",
          "text": [
            "100%|██████████| 2846/2846 [01:01<00:00, 46.05it/s]\n"
          ]
        },
        {
          "name": "stdout",
          "output_type": "stream",
          "text": [
            "[Epoch 104/300] loss: 0.000000\n"
          ]
        },
        {
          "name": "stderr",
          "output_type": "stream",
          "text": [
            "100%|██████████| 2846/2846 [01:01<00:00, 46.06it/s]\n"
          ]
        },
        {
          "name": "stdout",
          "output_type": "stream",
          "text": [
            "[Epoch 105/300] loss: 0.000000\n"
          ]
        },
        {
          "name": "stderr",
          "output_type": "stream",
          "text": [
            "100%|██████████| 2846/2846 [01:01<00:00, 46.10it/s]\n"
          ]
        },
        {
          "name": "stdout",
          "output_type": "stream",
          "text": [
            "[Epoch 106/300] loss: 0.000000\n"
          ]
        },
        {
          "name": "stderr",
          "output_type": "stream",
          "text": [
            "100%|██████████| 2846/2846 [01:01<00:00, 46.17it/s]\n"
          ]
        },
        {
          "name": "stdout",
          "output_type": "stream",
          "text": [
            "[Epoch 107/300] loss: 0.002020\n"
          ]
        },
        {
          "name": "stderr",
          "output_type": "stream",
          "text": [
            "100%|██████████| 2846/2846 [01:01<00:00, 46.11it/s]\n"
          ]
        },
        {
          "name": "stdout",
          "output_type": "stream",
          "text": [
            "[Epoch 108/300] loss: 0.000466\n"
          ]
        },
        {
          "name": "stderr",
          "output_type": "stream",
          "text": [
            "100%|██████████| 2846/2846 [01:01<00:00, 46.11it/s]\n"
          ]
        },
        {
          "name": "stdout",
          "output_type": "stream",
          "text": [
            "[Epoch 109/300] loss: 0.001991\n"
          ]
        },
        {
          "name": "stderr",
          "output_type": "stream",
          "text": [
            "100%|██████████| 2846/2846 [01:01<00:00, 46.04it/s]\n"
          ]
        },
        {
          "name": "stdout",
          "output_type": "stream",
          "text": [
            "[Epoch 110/300] loss: 0.000202\n"
          ]
        },
        {
          "name": "stderr",
          "output_type": "stream",
          "text": [
            "100%|██████████| 2846/2846 [01:01<00:00, 46.10it/s]\n"
          ]
        },
        {
          "name": "stdout",
          "output_type": "stream",
          "text": [
            "[Epoch 111/300] loss: 0.000002\n"
          ]
        },
        {
          "name": "stderr",
          "output_type": "stream",
          "text": [
            "100%|██████████| 2846/2846 [01:01<00:00, 46.13it/s]\n"
          ]
        },
        {
          "name": "stdout",
          "output_type": "stream",
          "text": [
            "[Epoch 112/300] loss: 0.000000\n"
          ]
        },
        {
          "name": "stderr",
          "output_type": "stream",
          "text": [
            "100%|██████████| 2846/2846 [01:01<00:00, 46.10it/s]\n"
          ]
        },
        {
          "name": "stdout",
          "output_type": "stream",
          "text": [
            "[Epoch 113/300] loss: 0.000000\n"
          ]
        },
        {
          "name": "stderr",
          "output_type": "stream",
          "text": [
            "100%|██████████| 2846/2846 [01:01<00:00, 46.12it/s]\n"
          ]
        },
        {
          "name": "stdout",
          "output_type": "stream",
          "text": [
            "[Epoch 114/300] loss: 0.000000\n"
          ]
        },
        {
          "name": "stderr",
          "output_type": "stream",
          "text": [
            "100%|██████████| 2846/2846 [01:01<00:00, 46.09it/s]\n"
          ]
        },
        {
          "name": "stdout",
          "output_type": "stream",
          "text": [
            "[Epoch 115/300] loss: 0.000000\n"
          ]
        },
        {
          "name": "stderr",
          "output_type": "stream",
          "text": [
            "100%|██████████| 2846/2846 [01:01<00:00, 46.08it/s]\n"
          ]
        },
        {
          "name": "stdout",
          "output_type": "stream",
          "text": [
            "[Epoch 116/300] loss: 0.000000\n"
          ]
        },
        {
          "name": "stderr",
          "output_type": "stream",
          "text": [
            "100%|██████████| 2846/2846 [01:01<00:00, 46.08it/s]\n"
          ]
        },
        {
          "name": "stdout",
          "output_type": "stream",
          "text": [
            "[Epoch 117/300] loss: 0.000000\n"
          ]
        },
        {
          "name": "stderr",
          "output_type": "stream",
          "text": [
            "100%|██████████| 2846/2846 [01:03<00:00, 45.04it/s]\n"
          ]
        },
        {
          "name": "stdout",
          "output_type": "stream",
          "text": [
            "[Epoch 118/300] loss: 0.000000\n"
          ]
        },
        {
          "name": "stderr",
          "output_type": "stream",
          "text": [
            "100%|██████████| 2846/2846 [01:01<00:00, 46.06it/s]\n"
          ]
        },
        {
          "name": "stdout",
          "output_type": "stream",
          "text": [
            "[Epoch 119/300] loss: 0.000000\n"
          ]
        },
        {
          "name": "stderr",
          "output_type": "stream",
          "text": [
            "100%|██████████| 2846/2846 [01:02<00:00, 45.73it/s]\n"
          ]
        },
        {
          "name": "stdout",
          "output_type": "stream",
          "text": [
            "[Epoch 120/300] loss: 0.000000\n"
          ]
        },
        {
          "name": "stderr",
          "output_type": "stream",
          "text": [
            "100%|██████████| 2846/2846 [01:01<00:00, 46.13it/s]\n"
          ]
        },
        {
          "name": "stdout",
          "output_type": "stream",
          "text": [
            "[Epoch 121/300] loss: 0.001050\n"
          ]
        },
        {
          "name": "stderr",
          "output_type": "stream",
          "text": [
            "100%|██████████| 2846/2846 [01:01<00:00, 46.03it/s]\n"
          ]
        },
        {
          "name": "stdout",
          "output_type": "stream",
          "text": [
            "[Epoch 122/300] loss: 0.013099\n"
          ]
        },
        {
          "name": "stderr",
          "output_type": "stream",
          "text": [
            "100%|██████████| 2846/2846 [01:01<00:00, 46.08it/s]\n"
          ]
        },
        {
          "name": "stdout",
          "output_type": "stream",
          "text": [
            "[Epoch 123/300] loss: 0.000822\n"
          ]
        },
        {
          "name": "stderr",
          "output_type": "stream",
          "text": [
            "100%|██████████| 2846/2846 [01:02<00:00, 45.69it/s]\n"
          ]
        },
        {
          "name": "stdout",
          "output_type": "stream",
          "text": [
            "[Epoch 124/300] loss: 0.003162\n"
          ]
        },
        {
          "name": "stderr",
          "output_type": "stream",
          "text": [
            "100%|██████████| 2846/2846 [01:01<00:00, 45.95it/s]\n"
          ]
        },
        {
          "name": "stdout",
          "output_type": "stream",
          "text": [
            "[Epoch 125/300] loss: 0.000440\n"
          ]
        },
        {
          "name": "stderr",
          "output_type": "stream",
          "text": [
            "100%|██████████| 2846/2846 [01:01<00:00, 46.10it/s]\n"
          ]
        },
        {
          "name": "stdout",
          "output_type": "stream",
          "text": [
            "[Epoch 126/300] loss: 0.000002\n"
          ]
        },
        {
          "name": "stderr",
          "output_type": "stream",
          "text": [
            "100%|██████████| 2846/2846 [01:01<00:00, 46.02it/s]\n"
          ]
        },
        {
          "name": "stdout",
          "output_type": "stream",
          "text": [
            "[Epoch 127/300] loss: 0.000000\n"
          ]
        },
        {
          "name": "stderr",
          "output_type": "stream",
          "text": [
            "100%|██████████| 2846/2846 [01:01<00:00, 46.08it/s]\n"
          ]
        },
        {
          "name": "stdout",
          "output_type": "stream",
          "text": [
            "[Epoch 128/300] loss: 0.000000\n"
          ]
        },
        {
          "name": "stderr",
          "output_type": "stream",
          "text": [
            "100%|██████████| 2846/2846 [01:01<00:00, 46.13it/s]\n"
          ]
        },
        {
          "name": "stdout",
          "output_type": "stream",
          "text": [
            "[Epoch 129/300] loss: 0.000000\n"
          ]
        },
        {
          "name": "stderr",
          "output_type": "stream",
          "text": [
            "100%|██████████| 2846/2846 [01:01<00:00, 46.15it/s]\n"
          ]
        },
        {
          "name": "stdout",
          "output_type": "stream",
          "text": [
            "[Epoch 130/300] loss: 0.000000\n"
          ]
        },
        {
          "name": "stderr",
          "output_type": "stream",
          "text": [
            "100%|██████████| 2846/2846 [01:01<00:00, 46.01it/s]\n"
          ]
        },
        {
          "name": "stdout",
          "output_type": "stream",
          "text": [
            "[Epoch 131/300] loss: 0.000000\n"
          ]
        },
        {
          "name": "stderr",
          "output_type": "stream",
          "text": [
            "100%|██████████| 2846/2846 [01:01<00:00, 46.00it/s]\n"
          ]
        },
        {
          "name": "stdout",
          "output_type": "stream",
          "text": [
            "[Epoch 132/300] loss: 0.000000\n"
          ]
        },
        {
          "name": "stderr",
          "output_type": "stream",
          "text": [
            "100%|██████████| 2846/2846 [01:01<00:00, 46.13it/s]\n"
          ]
        },
        {
          "name": "stdout",
          "output_type": "stream",
          "text": [
            "[Epoch 133/300] loss: 0.000000\n"
          ]
        },
        {
          "name": "stderr",
          "output_type": "stream",
          "text": [
            "100%|██████████| 2846/2846 [01:01<00:00, 46.12it/s]\n"
          ]
        },
        {
          "name": "stdout",
          "output_type": "stream",
          "text": [
            "[Epoch 134/300] loss: 0.000000\n"
          ]
        },
        {
          "name": "stderr",
          "output_type": "stream",
          "text": [
            "100%|██████████| 2846/2846 [01:01<00:00, 46.11it/s]\n"
          ]
        },
        {
          "name": "stdout",
          "output_type": "stream",
          "text": [
            "[Epoch 135/300] loss: 0.000000\n"
          ]
        },
        {
          "name": "stderr",
          "output_type": "stream",
          "text": [
            "100%|██████████| 2846/2846 [01:01<00:00, 46.08it/s]\n"
          ]
        },
        {
          "name": "stdout",
          "output_type": "stream",
          "text": [
            "[Epoch 136/300] loss: 0.000000\n"
          ]
        },
        {
          "name": "stderr",
          "output_type": "stream",
          "text": [
            "100%|██████████| 2846/2846 [01:01<00:00, 46.04it/s]\n"
          ]
        },
        {
          "name": "stdout",
          "output_type": "stream",
          "text": [
            "[Epoch 137/300] loss: 0.000000\n"
          ]
        },
        {
          "name": "stderr",
          "output_type": "stream",
          "text": [
            "100%|██████████| 2846/2846 [01:01<00:00, 46.00it/s]\n"
          ]
        },
        {
          "name": "stdout",
          "output_type": "stream",
          "text": [
            "[Epoch 138/300] loss: 0.000000\n"
          ]
        },
        {
          "name": "stderr",
          "output_type": "stream",
          "text": [
            "100%|██████████| 2846/2846 [01:01<00:00, 46.18it/s]\n"
          ]
        },
        {
          "name": "stdout",
          "output_type": "stream",
          "text": [
            "[Epoch 139/300] loss: 0.000000\n"
          ]
        },
        {
          "name": "stderr",
          "output_type": "stream",
          "text": [
            "100%|██████████| 2846/2846 [01:01<00:00, 46.13it/s]\n"
          ]
        },
        {
          "name": "stdout",
          "output_type": "stream",
          "text": [
            "[Epoch 140/300] loss: 0.000649\n"
          ]
        },
        {
          "name": "stderr",
          "output_type": "stream",
          "text": [
            "100%|██████████| 2846/2846 [01:01<00:00, 45.98it/s]\n"
          ]
        },
        {
          "name": "stdout",
          "output_type": "stream",
          "text": [
            "[Epoch 141/300] loss: 0.002357\n"
          ]
        },
        {
          "name": "stderr",
          "output_type": "stream",
          "text": [
            "100%|██████████| 2846/2846 [01:01<00:00, 46.07it/s]\n"
          ]
        },
        {
          "name": "stdout",
          "output_type": "stream",
          "text": [
            "[Epoch 142/300] loss: 0.000022\n"
          ]
        },
        {
          "name": "stderr",
          "output_type": "stream",
          "text": [
            "100%|██████████| 2846/2846 [01:01<00:00, 45.94it/s]\n"
          ]
        },
        {
          "name": "stdout",
          "output_type": "stream",
          "text": [
            "[Epoch 143/300] loss: 0.006029\n"
          ]
        },
        {
          "name": "stderr",
          "output_type": "stream",
          "text": [
            "100%|██████████| 2846/2846 [01:02<00:00, 45.62it/s]\n"
          ]
        },
        {
          "name": "stdout",
          "output_type": "stream",
          "text": [
            "[Epoch 144/300] loss: 0.001278\n"
          ]
        },
        {
          "name": "stderr",
          "output_type": "stream",
          "text": [
            "100%|██████████| 2846/2846 [01:02<00:00, 45.84it/s]\n"
          ]
        },
        {
          "name": "stdout",
          "output_type": "stream",
          "text": [
            "[Epoch 145/300] loss: 0.000005\n"
          ]
        },
        {
          "name": "stderr",
          "output_type": "stream",
          "text": [
            "100%|██████████| 2846/2846 [01:01<00:00, 46.17it/s]\n"
          ]
        },
        {
          "name": "stdout",
          "output_type": "stream",
          "text": [
            "[Epoch 146/300] loss: 0.000000\n"
          ]
        },
        {
          "name": "stderr",
          "output_type": "stream",
          "text": [
            "100%|██████████| 2846/2846 [01:01<00:00, 46.10it/s]\n"
          ]
        },
        {
          "name": "stdout",
          "output_type": "stream",
          "text": [
            "[Epoch 147/300] loss: 0.000000\n"
          ]
        },
        {
          "name": "stderr",
          "output_type": "stream",
          "text": [
            "100%|██████████| 2846/2846 [01:01<00:00, 46.06it/s]\n"
          ]
        },
        {
          "name": "stdout",
          "output_type": "stream",
          "text": [
            "[Epoch 148/300] loss: 0.000000\n"
          ]
        },
        {
          "name": "stderr",
          "output_type": "stream",
          "text": [
            "100%|██████████| 2846/2846 [01:01<00:00, 46.00it/s]\n"
          ]
        },
        {
          "name": "stdout",
          "output_type": "stream",
          "text": [
            "[Epoch 149/300] loss: 0.000000\n"
          ]
        },
        {
          "name": "stderr",
          "output_type": "stream",
          "text": [
            "100%|██████████| 2846/2846 [01:01<00:00, 46.09it/s]\n"
          ]
        },
        {
          "name": "stdout",
          "output_type": "stream",
          "text": [
            "[Epoch 150/300] loss: 0.000000\n"
          ]
        },
        {
          "name": "stderr",
          "output_type": "stream",
          "text": [
            "100%|██████████| 2846/2846 [01:01<00:00, 46.14it/s]\n"
          ]
        },
        {
          "name": "stdout",
          "output_type": "stream",
          "text": [
            "[Epoch 151/300] loss: 0.000000\n"
          ]
        },
        {
          "name": "stderr",
          "output_type": "stream",
          "text": [
            "100%|██████████| 2846/2846 [01:01<00:00, 46.22it/s]\n"
          ]
        },
        {
          "name": "stdout",
          "output_type": "stream",
          "text": [
            "[Epoch 152/300] loss: 0.000000\n"
          ]
        },
        {
          "name": "stderr",
          "output_type": "stream",
          "text": [
            "100%|██████████| 2846/2846 [01:01<00:00, 46.21it/s]\n"
          ]
        },
        {
          "name": "stdout",
          "output_type": "stream",
          "text": [
            "[Epoch 153/300] loss: 0.000000\n"
          ]
        },
        {
          "name": "stderr",
          "output_type": "stream",
          "text": [
            "100%|██████████| 2846/2846 [01:01<00:00, 46.19it/s]\n"
          ]
        },
        {
          "name": "stdout",
          "output_type": "stream",
          "text": [
            "[Epoch 154/300] loss: 0.000000\n"
          ]
        },
        {
          "name": "stderr",
          "output_type": "stream",
          "text": [
            "100%|██████████| 2846/2846 [01:01<00:00, 46.17it/s]\n"
          ]
        },
        {
          "name": "stdout",
          "output_type": "stream",
          "text": [
            "[Epoch 155/300] loss: 0.000000\n"
          ]
        },
        {
          "name": "stderr",
          "output_type": "stream",
          "text": [
            "100%|██████████| 2846/2846 [01:01<00:00, 46.18it/s]\n"
          ]
        },
        {
          "name": "stdout",
          "output_type": "stream",
          "text": [
            "[Epoch 156/300] loss: 0.001652\n"
          ]
        },
        {
          "name": "stderr",
          "output_type": "stream",
          "text": [
            "100%|██████████| 2846/2846 [01:01<00:00, 46.20it/s]\n"
          ]
        },
        {
          "name": "stdout",
          "output_type": "stream",
          "text": [
            "[Epoch 157/300] loss: 0.000147\n"
          ]
        },
        {
          "name": "stderr",
          "output_type": "stream",
          "text": [
            "100%|██████████| 2846/2846 [01:01<00:00, 46.16it/s]\n"
          ]
        },
        {
          "name": "stdout",
          "output_type": "stream",
          "text": [
            "[Epoch 158/300] loss: 0.001102\n"
          ]
        },
        {
          "name": "stderr",
          "output_type": "stream",
          "text": [
            "100%|██████████| 2846/2846 [01:01<00:00, 46.15it/s]\n"
          ]
        },
        {
          "name": "stdout",
          "output_type": "stream",
          "text": [
            "[Epoch 159/300] loss: 0.000002\n"
          ]
        },
        {
          "name": "stderr",
          "output_type": "stream",
          "text": [
            "100%|██████████| 2846/2846 [01:01<00:00, 46.04it/s]\n"
          ]
        },
        {
          "name": "stdout",
          "output_type": "stream",
          "text": [
            "[Epoch 160/300] loss: 0.000000\n"
          ]
        },
        {
          "name": "stderr",
          "output_type": "stream",
          "text": [
            "100%|██████████| 2846/2846 [01:01<00:00, 46.07it/s]\n"
          ]
        },
        {
          "name": "stdout",
          "output_type": "stream",
          "text": [
            "[Epoch 161/300] loss: 0.000000\n"
          ]
        },
        {
          "name": "stderr",
          "output_type": "stream",
          "text": [
            "100%|██████████| 2846/2846 [01:01<00:00, 45.96it/s]\n"
          ]
        },
        {
          "name": "stdout",
          "output_type": "stream",
          "text": [
            "[Epoch 162/300] loss: 0.000000\n"
          ]
        },
        {
          "name": "stderr",
          "output_type": "stream",
          "text": [
            "100%|██████████| 2846/2846 [01:01<00:00, 46.09it/s]\n"
          ]
        },
        {
          "name": "stdout",
          "output_type": "stream",
          "text": [
            "[Epoch 163/300] loss: 0.000000\n"
          ]
        },
        {
          "name": "stderr",
          "output_type": "stream",
          "text": [
            "100%|██████████| 2846/2846 [01:01<00:00, 45.99it/s]\n"
          ]
        },
        {
          "name": "stdout",
          "output_type": "stream",
          "text": [
            "[Epoch 164/300] loss: 0.000000\n"
          ]
        },
        {
          "name": "stderr",
          "output_type": "stream",
          "text": [
            "100%|██████████| 2846/2846 [01:01<00:00, 46.05it/s]\n"
          ]
        },
        {
          "name": "stdout",
          "output_type": "stream",
          "text": [
            "[Epoch 165/300] loss: 0.000000\n"
          ]
        },
        {
          "name": "stderr",
          "output_type": "stream",
          "text": [
            "100%|██████████| 2846/2846 [01:01<00:00, 46.01it/s]\n"
          ]
        },
        {
          "name": "stdout",
          "output_type": "stream",
          "text": [
            "[Epoch 166/300] loss: 0.000000\n"
          ]
        },
        {
          "name": "stderr",
          "output_type": "stream",
          "text": [
            "100%|██████████| 2846/2846 [01:01<00:00, 46.05it/s]\n"
          ]
        },
        {
          "name": "stdout",
          "output_type": "stream",
          "text": [
            "[Epoch 167/300] loss: 0.000000\n"
          ]
        },
        {
          "name": "stderr",
          "output_type": "stream",
          "text": [
            "100%|██████████| 2846/2846 [01:01<00:00, 45.98it/s]\n"
          ]
        },
        {
          "name": "stdout",
          "output_type": "stream",
          "text": [
            "[Epoch 168/300] loss: 0.001888\n"
          ]
        },
        {
          "name": "stderr",
          "output_type": "stream",
          "text": [
            "100%|██████████| 2846/2846 [01:02<00:00, 45.74it/s]\n"
          ]
        },
        {
          "name": "stdout",
          "output_type": "stream",
          "text": [
            "[Epoch 169/300] loss: 0.010658\n"
          ]
        },
        {
          "name": "stderr",
          "output_type": "stream",
          "text": [
            "100%|██████████| 2846/2846 [01:02<00:00, 45.77it/s]\n"
          ]
        },
        {
          "name": "stdout",
          "output_type": "stream",
          "text": [
            "[Epoch 170/300] loss: 0.000011\n"
          ]
        },
        {
          "name": "stderr",
          "output_type": "stream",
          "text": [
            "100%|██████████| 2846/2846 [01:01<00:00, 46.03it/s]\n"
          ]
        },
        {
          "name": "stdout",
          "output_type": "stream",
          "text": [
            "[Epoch 171/300] loss: 0.000000\n"
          ]
        },
        {
          "name": "stderr",
          "output_type": "stream",
          "text": [
            "100%|██████████| 2846/2846 [01:01<00:00, 46.01it/s]\n"
          ]
        },
        {
          "name": "stdout",
          "output_type": "stream",
          "text": [
            "[Epoch 172/300] loss: 0.000000\n"
          ]
        },
        {
          "name": "stderr",
          "output_type": "stream",
          "text": [
            "100%|██████████| 2846/2846 [01:01<00:00, 45.95it/s]\n"
          ]
        },
        {
          "name": "stdout",
          "output_type": "stream",
          "text": [
            "[Epoch 173/300] loss: 0.000000\n"
          ]
        },
        {
          "name": "stderr",
          "output_type": "stream",
          "text": [
            "100%|██████████| 2846/2846 [01:02<00:00, 45.87it/s]\n"
          ]
        },
        {
          "name": "stdout",
          "output_type": "stream",
          "text": [
            "[Epoch 174/300] loss: 0.000000\n"
          ]
        },
        {
          "name": "stderr",
          "output_type": "stream",
          "text": [
            "100%|██████████| 2846/2846 [01:01<00:00, 45.97it/s]\n"
          ]
        },
        {
          "name": "stdout",
          "output_type": "stream",
          "text": [
            "[Epoch 175/300] loss: 0.000000\n"
          ]
        },
        {
          "name": "stderr",
          "output_type": "stream",
          "text": [
            "100%|██████████| 2846/2846 [01:02<00:00, 45.88it/s]\n"
          ]
        },
        {
          "name": "stdout",
          "output_type": "stream",
          "text": [
            "[Epoch 176/300] loss: 0.000000\n"
          ]
        },
        {
          "name": "stderr",
          "output_type": "stream",
          "text": [
            "100%|██████████| 2846/2846 [01:01<00:00, 45.95it/s]\n"
          ]
        },
        {
          "name": "stdout",
          "output_type": "stream",
          "text": [
            "[Epoch 177/300] loss: 0.000000\n"
          ]
        },
        {
          "name": "stderr",
          "output_type": "stream",
          "text": [
            "100%|██████████| 2846/2846 [01:01<00:00, 46.07it/s]\n"
          ]
        },
        {
          "name": "stdout",
          "output_type": "stream",
          "text": [
            "[Epoch 178/300] loss: 0.000000\n"
          ]
        },
        {
          "name": "stderr",
          "output_type": "stream",
          "text": [
            "100%|██████████| 2846/2846 [01:01<00:00, 46.13it/s]\n"
          ]
        },
        {
          "name": "stdout",
          "output_type": "stream",
          "text": [
            "[Epoch 179/300] loss: 0.000000\n"
          ]
        },
        {
          "name": "stderr",
          "output_type": "stream",
          "text": [
            "100%|██████████| 2846/2846 [01:01<00:00, 46.11it/s]\n"
          ]
        },
        {
          "name": "stdout",
          "output_type": "stream",
          "text": [
            "[Epoch 180/300] loss: 0.000000\n"
          ]
        },
        {
          "name": "stderr",
          "output_type": "stream",
          "text": [
            "100%|██████████| 2846/2846 [01:01<00:00, 46.19it/s]\n"
          ]
        },
        {
          "name": "stdout",
          "output_type": "stream",
          "text": [
            "[Epoch 181/300] loss: 0.000000\n"
          ]
        },
        {
          "name": "stderr",
          "output_type": "stream",
          "text": [
            "100%|██████████| 2846/2846 [01:01<00:00, 46.05it/s]\n"
          ]
        },
        {
          "name": "stdout",
          "output_type": "stream",
          "text": [
            "[Epoch 182/300] loss: 0.001948\n"
          ]
        },
        {
          "name": "stderr",
          "output_type": "stream",
          "text": [
            "100%|██████████| 2846/2846 [01:01<00:00, 45.94it/s]\n"
          ]
        },
        {
          "name": "stdout",
          "output_type": "stream",
          "text": [
            "[Epoch 183/300] loss: 0.001193\n"
          ]
        },
        {
          "name": "stderr",
          "output_type": "stream",
          "text": [
            "100%|██████████| 2846/2846 [01:01<00:00, 45.98it/s]\n"
          ]
        },
        {
          "name": "stdout",
          "output_type": "stream",
          "text": [
            "[Epoch 184/300] loss: 0.000522\n"
          ]
        },
        {
          "name": "stderr",
          "output_type": "stream",
          "text": [
            "100%|██████████| 2846/2846 [01:01<00:00, 46.06it/s]\n"
          ]
        },
        {
          "name": "stdout",
          "output_type": "stream",
          "text": [
            "[Epoch 185/300] loss: 0.000019\n"
          ]
        },
        {
          "name": "stderr",
          "output_type": "stream",
          "text": [
            "100%|██████████| 2846/2846 [01:01<00:00, 46.11it/s]\n"
          ]
        },
        {
          "name": "stdout",
          "output_type": "stream",
          "text": [
            "[Epoch 186/300] loss: 0.000030\n"
          ]
        },
        {
          "name": "stderr",
          "output_type": "stream",
          "text": [
            "100%|██████████| 2846/2846 [01:01<00:00, 46.10it/s]\n"
          ]
        },
        {
          "name": "stdout",
          "output_type": "stream",
          "text": [
            "[Epoch 187/300] loss: 0.004360\n"
          ]
        },
        {
          "name": "stderr",
          "output_type": "stream",
          "text": [
            "100%|██████████| 2846/2846 [01:01<00:00, 46.15it/s]\n"
          ]
        },
        {
          "name": "stdout",
          "output_type": "stream",
          "text": [
            "[Epoch 188/300] loss: 0.000153\n"
          ]
        },
        {
          "name": "stderr",
          "output_type": "stream",
          "text": [
            "100%|██████████| 2846/2846 [01:01<00:00, 46.08it/s]\n"
          ]
        },
        {
          "name": "stdout",
          "output_type": "stream",
          "text": [
            "[Epoch 189/300] loss: 0.007072\n"
          ]
        },
        {
          "name": "stderr",
          "output_type": "stream",
          "text": [
            "100%|██████████| 2846/2846 [01:01<00:00, 46.10it/s]\n"
          ]
        },
        {
          "name": "stdout",
          "output_type": "stream",
          "text": [
            "[Epoch 190/300] loss: 0.000990\n"
          ]
        },
        {
          "name": "stderr",
          "output_type": "stream",
          "text": [
            "100%|██████████| 2846/2846 [01:01<00:00, 46.07it/s]\n"
          ]
        },
        {
          "name": "stdout",
          "output_type": "stream",
          "text": [
            "[Epoch 191/300] loss: 0.000002\n"
          ]
        },
        {
          "name": "stderr",
          "output_type": "stream",
          "text": [
            "100%|██████████| 2846/2846 [01:01<00:00, 46.01it/s]\n"
          ]
        },
        {
          "name": "stdout",
          "output_type": "stream",
          "text": [
            "[Epoch 192/300] loss: 0.000000\n"
          ]
        },
        {
          "name": "stderr",
          "output_type": "stream",
          "text": [
            "100%|██████████| 2846/2846 [01:01<00:00, 46.14it/s]\n"
          ]
        },
        {
          "name": "stdout",
          "output_type": "stream",
          "text": [
            "[Epoch 193/300] loss: 0.000000\n"
          ]
        },
        {
          "name": "stderr",
          "output_type": "stream",
          "text": [
            "100%|██████████| 2846/2846 [01:01<00:00, 46.09it/s]\n"
          ]
        },
        {
          "name": "stdout",
          "output_type": "stream",
          "text": [
            "[Epoch 194/300] loss: 0.000000\n"
          ]
        },
        {
          "name": "stderr",
          "output_type": "stream",
          "text": [
            "100%|██████████| 2846/2846 [01:01<00:00, 46.15it/s]\n"
          ]
        },
        {
          "name": "stdout",
          "output_type": "stream",
          "text": [
            "[Epoch 195/300] loss: 0.000000\n"
          ]
        },
        {
          "name": "stderr",
          "output_type": "stream",
          "text": [
            "100%|██████████| 2846/2846 [01:01<00:00, 46.15it/s]\n"
          ]
        },
        {
          "name": "stdout",
          "output_type": "stream",
          "text": [
            "[Epoch 196/300] loss: 0.000000\n"
          ]
        },
        {
          "name": "stderr",
          "output_type": "stream",
          "text": [
            "100%|██████████| 2846/2846 [01:01<00:00, 46.10it/s]\n"
          ]
        },
        {
          "name": "stdout",
          "output_type": "stream",
          "text": [
            "[Epoch 197/300] loss: 0.000000\n"
          ]
        },
        {
          "name": "stderr",
          "output_type": "stream",
          "text": [
            "100%|██████████| 2846/2846 [01:01<00:00, 46.07it/s]\n"
          ]
        },
        {
          "name": "stdout",
          "output_type": "stream",
          "text": [
            "[Epoch 198/300] loss: 0.000000\n"
          ]
        },
        {
          "name": "stderr",
          "output_type": "stream",
          "text": [
            "100%|██████████| 2846/2846 [01:01<00:00, 46.01it/s]\n"
          ]
        },
        {
          "name": "stdout",
          "output_type": "stream",
          "text": [
            "[Epoch 199/300] loss: 0.000000\n"
          ]
        },
        {
          "name": "stderr",
          "output_type": "stream",
          "text": [
            "100%|██████████| 2846/2846 [01:01<00:00, 46.03it/s]\n"
          ]
        },
        {
          "name": "stdout",
          "output_type": "stream",
          "text": [
            "[Epoch 200/300] loss: 0.000000\n"
          ]
        },
        {
          "name": "stderr",
          "output_type": "stream",
          "text": [
            "100%|██████████| 2846/2846 [01:01<00:00, 46.17it/s]\n"
          ]
        },
        {
          "name": "stdout",
          "output_type": "stream",
          "text": [
            "[Epoch 201/300] loss: 0.000000\n"
          ]
        },
        {
          "name": "stderr",
          "output_type": "stream",
          "text": [
            "100%|██████████| 2846/2846 [01:01<00:00, 46.10it/s]\n"
          ]
        },
        {
          "name": "stdout",
          "output_type": "stream",
          "text": [
            "[Epoch 202/300] loss: 0.000000\n"
          ]
        },
        {
          "name": "stderr",
          "output_type": "stream",
          "text": [
            "100%|██████████| 2846/2846 [01:01<00:00, 46.10it/s]\n"
          ]
        },
        {
          "name": "stdout",
          "output_type": "stream",
          "text": [
            "[Epoch 203/300] loss: 0.000000\n"
          ]
        },
        {
          "name": "stderr",
          "output_type": "stream",
          "text": [
            "100%|██████████| 2846/2846 [01:01<00:00, 46.14it/s]\n"
          ]
        },
        {
          "name": "stdout",
          "output_type": "stream",
          "text": [
            "[Epoch 204/300] loss: 0.000000\n"
          ]
        },
        {
          "name": "stderr",
          "output_type": "stream",
          "text": [
            "100%|██████████| 2846/2846 [01:01<00:00, 46.08it/s]\n"
          ]
        },
        {
          "name": "stdout",
          "output_type": "stream",
          "text": [
            "[Epoch 205/300] loss: 0.000000\n"
          ]
        },
        {
          "name": "stderr",
          "output_type": "stream",
          "text": [
            "100%|██████████| 2846/2846 [01:01<00:00, 46.07it/s]\n"
          ]
        },
        {
          "name": "stdout",
          "output_type": "stream",
          "text": [
            "[Epoch 206/300] loss: 0.000000\n"
          ]
        },
        {
          "name": "stderr",
          "output_type": "stream",
          "text": [
            "100%|██████████| 2846/2846 [01:01<00:00, 46.06it/s]\n"
          ]
        },
        {
          "name": "stdout",
          "output_type": "stream",
          "text": [
            "[Epoch 207/300] loss: 0.000000\n"
          ]
        },
        {
          "name": "stderr",
          "output_type": "stream",
          "text": [
            "100%|██████████| 2846/2846 [01:01<00:00, 46.05it/s]\n"
          ]
        },
        {
          "name": "stdout",
          "output_type": "stream",
          "text": [
            "[Epoch 208/300] loss: 0.000000\n"
          ]
        },
        {
          "name": "stderr",
          "output_type": "stream",
          "text": [
            "100%|██████████| 2846/2846 [01:01<00:00, 46.10it/s]\n"
          ]
        },
        {
          "name": "stdout",
          "output_type": "stream",
          "text": [
            "[Epoch 209/300] loss: 0.000000\n"
          ]
        },
        {
          "name": "stderr",
          "output_type": "stream",
          "text": [
            "100%|██████████| 2846/2846 [01:01<00:00, 46.12it/s]\n"
          ]
        },
        {
          "name": "stdout",
          "output_type": "stream",
          "text": [
            "[Epoch 210/300] loss: 0.000000\n"
          ]
        },
        {
          "name": "stderr",
          "output_type": "stream",
          "text": [
            "100%|██████████| 2846/2846 [01:01<00:00, 46.08it/s]\n"
          ]
        },
        {
          "name": "stdout",
          "output_type": "stream",
          "text": [
            "[Epoch 211/300] loss: 0.000000\n"
          ]
        },
        {
          "name": "stderr",
          "output_type": "stream",
          "text": [
            "100%|██████████| 2846/2846 [01:01<00:00, 46.02it/s]\n"
          ]
        },
        {
          "name": "stdout",
          "output_type": "stream",
          "text": [
            "[Epoch 212/300] loss: 0.000000\n"
          ]
        },
        {
          "name": "stderr",
          "output_type": "stream",
          "text": [
            "100%|██████████| 2846/2846 [01:01<00:00, 46.14it/s]\n"
          ]
        },
        {
          "name": "stdout",
          "output_type": "stream",
          "text": [
            "[Epoch 213/300] loss: 0.000000\n"
          ]
        },
        {
          "name": "stderr",
          "output_type": "stream",
          "text": [
            "100%|██████████| 2846/2846 [01:01<00:00, 46.03it/s]\n"
          ]
        },
        {
          "name": "stdout",
          "output_type": "stream",
          "text": [
            "[Epoch 214/300] loss: 0.000000\n"
          ]
        },
        {
          "name": "stderr",
          "output_type": "stream",
          "text": [
            "100%|██████████| 2846/2846 [01:01<00:00, 46.01it/s]\n"
          ]
        },
        {
          "name": "stdout",
          "output_type": "stream",
          "text": [
            "[Epoch 215/300] loss: 0.000000\n"
          ]
        },
        {
          "name": "stderr",
          "output_type": "stream",
          "text": [
            "100%|██████████| 2846/2846 [01:01<00:00, 46.03it/s]\n"
          ]
        },
        {
          "name": "stdout",
          "output_type": "stream",
          "text": [
            "[Epoch 216/300] loss: 0.000000\n"
          ]
        },
        {
          "name": "stderr",
          "output_type": "stream",
          "text": [
            "100%|██████████| 2846/2846 [01:01<00:00, 46.02it/s]\n"
          ]
        },
        {
          "name": "stdout",
          "output_type": "stream",
          "text": [
            "[Epoch 217/300] loss: 0.000000\n"
          ]
        },
        {
          "name": "stderr",
          "output_type": "stream",
          "text": [
            "100%|██████████| 2846/2846 [01:01<00:00, 46.06it/s]\n"
          ]
        },
        {
          "name": "stdout",
          "output_type": "stream",
          "text": [
            "[Epoch 218/300] loss: 0.000000\n"
          ]
        },
        {
          "name": "stderr",
          "output_type": "stream",
          "text": [
            "100%|██████████| 2846/2846 [01:01<00:00, 46.09it/s]\n"
          ]
        },
        {
          "name": "stdout",
          "output_type": "stream",
          "text": [
            "[Epoch 219/300] loss: 0.000000\n"
          ]
        },
        {
          "name": "stderr",
          "output_type": "stream",
          "text": [
            "100%|██████████| 2846/2846 [01:01<00:00, 46.05it/s]\n"
          ]
        },
        {
          "name": "stdout",
          "output_type": "stream",
          "text": [
            "[Epoch 220/300] loss: 0.000000\n"
          ]
        },
        {
          "name": "stderr",
          "output_type": "stream",
          "text": [
            "100%|██████████| 2846/2846 [01:01<00:00, 46.04it/s]\n"
          ]
        },
        {
          "name": "stdout",
          "output_type": "stream",
          "text": [
            "[Epoch 221/300] loss: 0.000000\n"
          ]
        },
        {
          "name": "stderr",
          "output_type": "stream",
          "text": [
            "100%|██████████| 2846/2846 [01:01<00:00, 45.99it/s]\n"
          ]
        },
        {
          "name": "stdout",
          "output_type": "stream",
          "text": [
            "[Epoch 222/300] loss: 0.000000\n"
          ]
        },
        {
          "name": "stderr",
          "output_type": "stream",
          "text": [
            "100%|██████████| 2846/2846 [01:01<00:00, 45.97it/s]\n"
          ]
        },
        {
          "name": "stdout",
          "output_type": "stream",
          "text": [
            "[Epoch 223/300] loss: 0.000000\n"
          ]
        },
        {
          "name": "stderr",
          "output_type": "stream",
          "text": [
            "100%|██████████| 2846/2846 [01:01<00:00, 45.97it/s]\n"
          ]
        },
        {
          "name": "stdout",
          "output_type": "stream",
          "text": [
            "[Epoch 224/300] loss: 0.000000\n"
          ]
        },
        {
          "name": "stderr",
          "output_type": "stream",
          "text": [
            "100%|██████████| 2846/2846 [01:01<00:00, 46.00it/s]\n"
          ]
        },
        {
          "name": "stdout",
          "output_type": "stream",
          "text": [
            "[Epoch 225/300] loss: 0.000000\n"
          ]
        },
        {
          "name": "stderr",
          "output_type": "stream",
          "text": [
            "100%|██████████| 2846/2846 [01:01<00:00, 46.07it/s]\n"
          ]
        },
        {
          "name": "stdout",
          "output_type": "stream",
          "text": [
            "[Epoch 226/300] loss: 0.000000\n"
          ]
        },
        {
          "name": "stderr",
          "output_type": "stream",
          "text": [
            "100%|██████████| 2846/2846 [01:01<00:00, 46.11it/s]\n"
          ]
        },
        {
          "name": "stdout",
          "output_type": "stream",
          "text": [
            "[Epoch 227/300] loss: 0.000000\n"
          ]
        },
        {
          "name": "stderr",
          "output_type": "stream",
          "text": [
            "100%|██████████| 2846/2846 [01:01<00:00, 46.08it/s]\n"
          ]
        },
        {
          "name": "stdout",
          "output_type": "stream",
          "text": [
            "[Epoch 228/300] loss: 0.000000\n"
          ]
        },
        {
          "name": "stderr",
          "output_type": "stream",
          "text": [
            "100%|██████████| 2846/2846 [01:01<00:00, 46.19it/s]\n"
          ]
        },
        {
          "name": "stdout",
          "output_type": "stream",
          "text": [
            "[Epoch 229/300] loss: 0.000000\n"
          ]
        },
        {
          "name": "stderr",
          "output_type": "stream",
          "text": [
            "100%|██████████| 2846/2846 [01:01<00:00, 46.11it/s]\n"
          ]
        },
        {
          "name": "stdout",
          "output_type": "stream",
          "text": [
            "[Epoch 230/300] loss: 0.000000\n"
          ]
        },
        {
          "name": "stderr",
          "output_type": "stream",
          "text": [
            "100%|██████████| 2846/2846 [01:01<00:00, 45.93it/s]\n"
          ]
        },
        {
          "name": "stdout",
          "output_type": "stream",
          "text": [
            "[Epoch 231/300] loss: 0.000000\n"
          ]
        },
        {
          "name": "stderr",
          "output_type": "stream",
          "text": [
            "100%|██████████| 2846/2846 [01:01<00:00, 46.10it/s]\n"
          ]
        },
        {
          "name": "stdout",
          "output_type": "stream",
          "text": [
            "[Epoch 232/300] loss: 0.000000\n"
          ]
        },
        {
          "name": "stderr",
          "output_type": "stream",
          "text": [
            "100%|██████████| 2846/2846 [01:01<00:00, 46.15it/s]\n"
          ]
        },
        {
          "name": "stdout",
          "output_type": "stream",
          "text": [
            "[Epoch 233/300] loss: 0.000000\n"
          ]
        },
        {
          "name": "stderr",
          "output_type": "stream",
          "text": [
            "100%|██████████| 2846/2846 [01:01<00:00, 46.06it/s]\n"
          ]
        },
        {
          "name": "stdout",
          "output_type": "stream",
          "text": [
            "[Epoch 234/300] loss: 0.000000\n"
          ]
        },
        {
          "name": "stderr",
          "output_type": "stream",
          "text": [
            "100%|██████████| 2846/2846 [01:01<00:00, 46.07it/s]\n"
          ]
        },
        {
          "name": "stdout",
          "output_type": "stream",
          "text": [
            "[Epoch 235/300] loss: 0.000000\n"
          ]
        },
        {
          "name": "stderr",
          "output_type": "stream",
          "text": [
            "100%|██████████| 2846/2846 [01:01<00:00, 46.10it/s]\n"
          ]
        },
        {
          "name": "stdout",
          "output_type": "stream",
          "text": [
            "[Epoch 236/300] loss: 0.000000\n"
          ]
        },
        {
          "name": "stderr",
          "output_type": "stream",
          "text": [
            "100%|██████████| 2846/2846 [01:02<00:00, 45.77it/s]\n"
          ]
        },
        {
          "name": "stdout",
          "output_type": "stream",
          "text": [
            "[Epoch 237/300] loss: 0.000000\n"
          ]
        },
        {
          "name": "stderr",
          "output_type": "stream",
          "text": [
            "100%|██████████| 2846/2846 [01:01<00:00, 46.23it/s]\n"
          ]
        },
        {
          "name": "stdout",
          "output_type": "stream",
          "text": [
            "[Epoch 238/300] loss: 0.000000\n"
          ]
        },
        {
          "name": "stderr",
          "output_type": "stream",
          "text": [
            "100%|██████████| 2846/2846 [01:01<00:00, 46.23it/s]\n"
          ]
        },
        {
          "name": "stdout",
          "output_type": "stream",
          "text": [
            "[Epoch 239/300] loss: 0.000000\n"
          ]
        },
        {
          "name": "stderr",
          "output_type": "stream",
          "text": [
            "100%|██████████| 2846/2846 [01:01<00:00, 46.33it/s]\n"
          ]
        },
        {
          "name": "stdout",
          "output_type": "stream",
          "text": [
            "[Epoch 240/300] loss: 0.000000\n"
          ]
        },
        {
          "name": "stderr",
          "output_type": "stream",
          "text": [
            "100%|██████████| 2846/2846 [01:01<00:00, 46.16it/s]\n"
          ]
        },
        {
          "name": "stdout",
          "output_type": "stream",
          "text": [
            "[Epoch 241/300] loss: 0.000000\n"
          ]
        },
        {
          "name": "stderr",
          "output_type": "stream",
          "text": [
            "100%|██████████| 2846/2846 [01:01<00:00, 46.29it/s]\n"
          ]
        },
        {
          "name": "stdout",
          "output_type": "stream",
          "text": [
            "[Epoch 242/300] loss: 0.000000\n"
          ]
        },
        {
          "name": "stderr",
          "output_type": "stream",
          "text": [
            "100%|██████████| 2846/2846 [01:01<00:00, 46.20it/s]\n"
          ]
        },
        {
          "name": "stdout",
          "output_type": "stream",
          "text": [
            "[Epoch 243/300] loss: 0.000000\n"
          ]
        },
        {
          "name": "stderr",
          "output_type": "stream",
          "text": [
            "100%|██████████| 2846/2846 [01:01<00:00, 46.22it/s]\n"
          ]
        },
        {
          "name": "stdout",
          "output_type": "stream",
          "text": [
            "[Epoch 244/300] loss: 0.000000\n"
          ]
        },
        {
          "name": "stderr",
          "output_type": "stream",
          "text": [
            "100%|██████████| 2846/2846 [01:01<00:00, 46.18it/s]\n"
          ]
        },
        {
          "name": "stdout",
          "output_type": "stream",
          "text": [
            "[Epoch 245/300] loss: 0.000000\n"
          ]
        },
        {
          "name": "stderr",
          "output_type": "stream",
          "text": [
            "100%|██████████| 2846/2846 [01:01<00:00, 46.18it/s]\n"
          ]
        },
        {
          "name": "stdout",
          "output_type": "stream",
          "text": [
            "[Epoch 246/300] loss: 0.000000\n"
          ]
        },
        {
          "name": "stderr",
          "output_type": "stream",
          "text": [
            "100%|██████████| 2846/2846 [01:01<00:00, 46.28it/s]\n"
          ]
        },
        {
          "name": "stdout",
          "output_type": "stream",
          "text": [
            "[Epoch 247/300] loss: 0.000000\n"
          ]
        },
        {
          "name": "stderr",
          "output_type": "stream",
          "text": [
            "100%|██████████| 2846/2846 [01:01<00:00, 46.26it/s]\n"
          ]
        },
        {
          "name": "stdout",
          "output_type": "stream",
          "text": [
            "[Epoch 248/300] loss: 0.000000\n"
          ]
        },
        {
          "name": "stderr",
          "output_type": "stream",
          "text": [
            "100%|██████████| 2846/2846 [01:01<00:00, 46.22it/s]\n"
          ]
        },
        {
          "name": "stdout",
          "output_type": "stream",
          "text": [
            "[Epoch 249/300] loss: 0.000000\n"
          ]
        },
        {
          "name": "stderr",
          "output_type": "stream",
          "text": [
            "100%|██████████| 2846/2846 [01:01<00:00, 46.12it/s]\n"
          ]
        },
        {
          "name": "stdout",
          "output_type": "stream",
          "text": [
            "[Epoch 250/300] loss: 0.000000\n"
          ]
        },
        {
          "name": "stderr",
          "output_type": "stream",
          "text": [
            "100%|██████████| 2846/2846 [01:01<00:00, 46.24it/s]\n"
          ]
        },
        {
          "name": "stdout",
          "output_type": "stream",
          "text": [
            "[Epoch 251/300] loss: 0.000000\n"
          ]
        },
        {
          "name": "stderr",
          "output_type": "stream",
          "text": [
            "100%|██████████| 2846/2846 [01:01<00:00, 46.23it/s]\n"
          ]
        },
        {
          "name": "stdout",
          "output_type": "stream",
          "text": [
            "[Epoch 252/300] loss: 0.000000\n"
          ]
        },
        {
          "name": "stderr",
          "output_type": "stream",
          "text": [
            "100%|██████████| 2846/2846 [01:01<00:00, 46.29it/s]\n"
          ]
        },
        {
          "name": "stdout",
          "output_type": "stream",
          "text": [
            "[Epoch 253/300] loss: 0.000000\n"
          ]
        },
        {
          "name": "stderr",
          "output_type": "stream",
          "text": [
            "100%|██████████| 2846/2846 [01:01<00:00, 46.28it/s]\n"
          ]
        },
        {
          "name": "stdout",
          "output_type": "stream",
          "text": [
            "[Epoch 254/300] loss: 0.000000\n"
          ]
        },
        {
          "name": "stderr",
          "output_type": "stream",
          "text": [
            "100%|██████████| 2846/2846 [01:01<00:00, 46.18it/s]\n"
          ]
        },
        {
          "name": "stdout",
          "output_type": "stream",
          "text": [
            "[Epoch 255/300] loss: 0.000000\n"
          ]
        },
        {
          "name": "stderr",
          "output_type": "stream",
          "text": [
            "100%|██████████| 2846/2846 [01:01<00:00, 46.22it/s]\n"
          ]
        },
        {
          "name": "stdout",
          "output_type": "stream",
          "text": [
            "[Epoch 256/300] loss: 0.000000\n"
          ]
        },
        {
          "name": "stderr",
          "output_type": "stream",
          "text": [
            "100%|██████████| 2846/2846 [01:01<00:00, 46.15it/s]\n"
          ]
        },
        {
          "name": "stdout",
          "output_type": "stream",
          "text": [
            "[Epoch 257/300] loss: 0.000000\n"
          ]
        },
        {
          "name": "stderr",
          "output_type": "stream",
          "text": [
            "100%|██████████| 2846/2846 [01:01<00:00, 46.32it/s]\n"
          ]
        },
        {
          "name": "stdout",
          "output_type": "stream",
          "text": [
            "[Epoch 258/300] loss: 0.000000\n"
          ]
        },
        {
          "name": "stderr",
          "output_type": "stream",
          "text": [
            "100%|██████████| 2846/2846 [01:01<00:00, 46.19it/s]\n"
          ]
        },
        {
          "name": "stdout",
          "output_type": "stream",
          "text": [
            "[Epoch 259/300] loss: 0.000000\n"
          ]
        },
        {
          "name": "stderr",
          "output_type": "stream",
          "text": [
            "100%|██████████| 2846/2846 [01:01<00:00, 46.23it/s]\n"
          ]
        },
        {
          "name": "stdout",
          "output_type": "stream",
          "text": [
            "[Epoch 260/300] loss: 0.000000\n"
          ]
        },
        {
          "name": "stderr",
          "output_type": "stream",
          "text": [
            "100%|██████████| 2846/2846 [01:01<00:00, 46.20it/s]\n"
          ]
        },
        {
          "name": "stdout",
          "output_type": "stream",
          "text": [
            "[Epoch 261/300] loss: 0.000000\n"
          ]
        },
        {
          "name": "stderr",
          "output_type": "stream",
          "text": [
            "100%|██████████| 2846/2846 [01:01<00:00, 46.27it/s]\n"
          ]
        },
        {
          "name": "stdout",
          "output_type": "stream",
          "text": [
            "[Epoch 262/300] loss: 0.000000\n"
          ]
        },
        {
          "name": "stderr",
          "output_type": "stream",
          "text": [
            "100%|██████████| 2846/2846 [01:01<00:00, 46.25it/s]\n"
          ]
        },
        {
          "name": "stdout",
          "output_type": "stream",
          "text": [
            "[Epoch 263/300] loss: 0.000000\n"
          ]
        },
        {
          "name": "stderr",
          "output_type": "stream",
          "text": [
            "100%|██████████| 2846/2846 [01:01<00:00, 46.11it/s]\n"
          ]
        },
        {
          "name": "stdout",
          "output_type": "stream",
          "text": [
            "[Epoch 264/300] loss: 0.000000\n"
          ]
        },
        {
          "name": "stderr",
          "output_type": "stream",
          "text": [
            "100%|██████████| 2846/2846 [01:01<00:00, 46.25it/s]\n"
          ]
        },
        {
          "name": "stdout",
          "output_type": "stream",
          "text": [
            "[Epoch 265/300] loss: 0.000000\n"
          ]
        },
        {
          "name": "stderr",
          "output_type": "stream",
          "text": [
            "100%|██████████| 2846/2846 [01:01<00:00, 46.22it/s]\n"
          ]
        },
        {
          "name": "stdout",
          "output_type": "stream",
          "text": [
            "[Epoch 266/300] loss: 0.000000\n"
          ]
        },
        {
          "name": "stderr",
          "output_type": "stream",
          "text": [
            "100%|██████████| 2846/2846 [01:01<00:00, 46.23it/s]\n"
          ]
        },
        {
          "name": "stdout",
          "output_type": "stream",
          "text": [
            "[Epoch 267/300] loss: 0.000000\n"
          ]
        },
        {
          "name": "stderr",
          "output_type": "stream",
          "text": [
            "100%|██████████| 2846/2846 [01:01<00:00, 46.16it/s]\n"
          ]
        },
        {
          "name": "stdout",
          "output_type": "stream",
          "text": [
            "[Epoch 268/300] loss: 0.000000\n"
          ]
        },
        {
          "name": "stderr",
          "output_type": "stream",
          "text": [
            "100%|██████████| 2846/2846 [01:01<00:00, 46.33it/s]\n"
          ]
        },
        {
          "name": "stdout",
          "output_type": "stream",
          "text": [
            "[Epoch 269/300] loss: 0.000000\n"
          ]
        },
        {
          "name": "stderr",
          "output_type": "stream",
          "text": [
            "100%|██████████| 2846/2846 [01:01<00:00, 46.16it/s]\n"
          ]
        },
        {
          "name": "stdout",
          "output_type": "stream",
          "text": [
            "[Epoch 270/300] loss: 0.000000\n"
          ]
        },
        {
          "name": "stderr",
          "output_type": "stream",
          "text": [
            "100%|██████████| 2846/2846 [01:01<00:00, 46.18it/s]\n"
          ]
        },
        {
          "name": "stdout",
          "output_type": "stream",
          "text": [
            "[Epoch 271/300] loss: 0.000000\n"
          ]
        },
        {
          "name": "stderr",
          "output_type": "stream",
          "text": [
            "100%|██████████| 2846/2846 [01:01<00:00, 46.12it/s]\n"
          ]
        },
        {
          "name": "stdout",
          "output_type": "stream",
          "text": [
            "[Epoch 272/300] loss: 0.000000\n"
          ]
        },
        {
          "name": "stderr",
          "output_type": "stream",
          "text": [
            "100%|██████████| 2846/2846 [01:01<00:00, 46.23it/s]\n"
          ]
        },
        {
          "name": "stdout",
          "output_type": "stream",
          "text": [
            "[Epoch 273/300] loss: 0.000000\n"
          ]
        },
        {
          "name": "stderr",
          "output_type": "stream",
          "text": [
            "100%|██████████| 2846/2846 [01:01<00:00, 46.28it/s]\n"
          ]
        },
        {
          "name": "stdout",
          "output_type": "stream",
          "text": [
            "[Epoch 274/300] loss: 0.000000\n"
          ]
        },
        {
          "name": "stderr",
          "output_type": "stream",
          "text": [
            "100%|██████████| 2846/2846 [01:01<00:00, 46.21it/s]\n"
          ]
        },
        {
          "name": "stdout",
          "output_type": "stream",
          "text": [
            "[Epoch 275/300] loss: 0.000000\n"
          ]
        },
        {
          "name": "stderr",
          "output_type": "stream",
          "text": [
            "100%|██████████| 2846/2846 [01:01<00:00, 46.18it/s]\n"
          ]
        },
        {
          "name": "stdout",
          "output_type": "stream",
          "text": [
            "[Epoch 276/300] loss: 0.000000\n"
          ]
        },
        {
          "name": "stderr",
          "output_type": "stream",
          "text": [
            "100%|██████████| 2846/2846 [01:01<00:00, 46.06it/s]\n"
          ]
        },
        {
          "name": "stdout",
          "output_type": "stream",
          "text": [
            "[Epoch 277/300] loss: 0.000000\n"
          ]
        },
        {
          "name": "stderr",
          "output_type": "stream",
          "text": [
            "100%|██████████| 2846/2846 [01:01<00:00, 46.16it/s]\n"
          ]
        },
        {
          "name": "stdout",
          "output_type": "stream",
          "text": [
            "[Epoch 278/300] loss: 0.000000\n"
          ]
        },
        {
          "name": "stderr",
          "output_type": "stream",
          "text": [
            "100%|██████████| 2846/2846 [01:01<00:00, 46.08it/s]\n"
          ]
        },
        {
          "name": "stdout",
          "output_type": "stream",
          "text": [
            "[Epoch 279/300] loss: 0.000000\n"
          ]
        },
        {
          "name": "stderr",
          "output_type": "stream",
          "text": [
            "100%|██████████| 2846/2846 [01:01<00:00, 46.32it/s]\n"
          ]
        },
        {
          "name": "stdout",
          "output_type": "stream",
          "text": [
            "[Epoch 280/300] loss: 0.000000\n"
          ]
        },
        {
          "name": "stderr",
          "output_type": "stream",
          "text": [
            "100%|██████████| 2846/2846 [01:01<00:00, 46.21it/s]\n"
          ]
        },
        {
          "name": "stdout",
          "output_type": "stream",
          "text": [
            "[Epoch 281/300] loss: 0.000000\n"
          ]
        },
        {
          "name": "stderr",
          "output_type": "stream",
          "text": [
            "100%|██████████| 2846/2846 [01:01<00:00, 46.24it/s]\n"
          ]
        },
        {
          "name": "stdout",
          "output_type": "stream",
          "text": [
            "[Epoch 282/300] loss: 0.000000\n"
          ]
        },
        {
          "name": "stderr",
          "output_type": "stream",
          "text": [
            "100%|██████████| 2846/2846 [01:01<00:00, 46.12it/s]\n"
          ]
        },
        {
          "name": "stdout",
          "output_type": "stream",
          "text": [
            "[Epoch 283/300] loss: 0.000000\n"
          ]
        },
        {
          "name": "stderr",
          "output_type": "stream",
          "text": [
            "100%|██████████| 2846/2846 [01:01<00:00, 46.14it/s]\n"
          ]
        },
        {
          "name": "stdout",
          "output_type": "stream",
          "text": [
            "[Epoch 284/300] loss: 0.000000\n"
          ]
        },
        {
          "name": "stderr",
          "output_type": "stream",
          "text": [
            "100%|██████████| 2846/2846 [01:01<00:00, 46.26it/s]\n"
          ]
        },
        {
          "name": "stdout",
          "output_type": "stream",
          "text": [
            "[Epoch 285/300] loss: 0.000000\n"
          ]
        },
        {
          "name": "stderr",
          "output_type": "stream",
          "text": [
            "100%|██████████| 2846/2846 [01:01<00:00, 46.19it/s]\n"
          ]
        },
        {
          "name": "stdout",
          "output_type": "stream",
          "text": [
            "[Epoch 286/300] loss: 0.000000\n"
          ]
        },
        {
          "name": "stderr",
          "output_type": "stream",
          "text": [
            "100%|██████████| 2846/2846 [01:01<00:00, 46.25it/s]\n"
          ]
        },
        {
          "name": "stdout",
          "output_type": "stream",
          "text": [
            "[Epoch 287/300] loss: 0.000000\n"
          ]
        },
        {
          "name": "stderr",
          "output_type": "stream",
          "text": [
            "100%|██████████| 2846/2846 [01:01<00:00, 46.14it/s]\n"
          ]
        },
        {
          "name": "stdout",
          "output_type": "stream",
          "text": [
            "[Epoch 288/300] loss: 0.000000\n"
          ]
        },
        {
          "name": "stderr",
          "output_type": "stream",
          "text": [
            "100%|██████████| 2846/2846 [01:01<00:00, 46.16it/s]\n"
          ]
        },
        {
          "name": "stdout",
          "output_type": "stream",
          "text": [
            "[Epoch 289/300] loss: 0.000000\n"
          ]
        },
        {
          "name": "stderr",
          "output_type": "stream",
          "text": [
            "100%|██████████| 2846/2846 [01:01<00:00, 46.09it/s]\n"
          ]
        },
        {
          "name": "stdout",
          "output_type": "stream",
          "text": [
            "[Epoch 290/300] loss: 0.000000\n"
          ]
        },
        {
          "name": "stderr",
          "output_type": "stream",
          "text": [
            "100%|██████████| 2846/2846 [01:01<00:00, 46.16it/s]\n"
          ]
        },
        {
          "name": "stdout",
          "output_type": "stream",
          "text": [
            "[Epoch 291/300] loss: 0.000000\n"
          ]
        },
        {
          "name": "stderr",
          "output_type": "stream",
          "text": [
            "100%|██████████| 2846/2846 [01:01<00:00, 46.15it/s]\n"
          ]
        },
        {
          "name": "stdout",
          "output_type": "stream",
          "text": [
            "[Epoch 292/300] loss: 0.000000\n"
          ]
        },
        {
          "name": "stderr",
          "output_type": "stream",
          "text": [
            "100%|██████████| 2846/2846 [01:01<00:00, 46.19it/s]\n"
          ]
        },
        {
          "name": "stdout",
          "output_type": "stream",
          "text": [
            "[Epoch 293/300] loss: 0.000000\n"
          ]
        },
        {
          "name": "stderr",
          "output_type": "stream",
          "text": [
            "100%|██████████| 2846/2846 [01:01<00:00, 46.19it/s]\n"
          ]
        },
        {
          "name": "stdout",
          "output_type": "stream",
          "text": [
            "[Epoch 294/300] loss: 0.000000\n"
          ]
        },
        {
          "name": "stderr",
          "output_type": "stream",
          "text": [
            "100%|██████████| 2846/2846 [01:01<00:00, 45.97it/s]\n"
          ]
        },
        {
          "name": "stdout",
          "output_type": "stream",
          "text": [
            "[Epoch 295/300] loss: 0.000000\n"
          ]
        },
        {
          "name": "stderr",
          "output_type": "stream",
          "text": [
            "100%|██████████| 2846/2846 [01:01<00:00, 46.03it/s]\n"
          ]
        },
        {
          "name": "stdout",
          "output_type": "stream",
          "text": [
            "[Epoch 296/300] loss: 0.000000\n"
          ]
        },
        {
          "name": "stderr",
          "output_type": "stream",
          "text": [
            "100%|██████████| 2846/2846 [01:01<00:00, 46.14it/s]\n"
          ]
        },
        {
          "name": "stdout",
          "output_type": "stream",
          "text": [
            "[Epoch 297/300] loss: 0.000000\n"
          ]
        },
        {
          "name": "stderr",
          "output_type": "stream",
          "text": [
            "100%|██████████| 2846/2846 [01:01<00:00, 46.28it/s]\n"
          ]
        },
        {
          "name": "stdout",
          "output_type": "stream",
          "text": [
            "[Epoch 298/300] loss: 0.000000\n"
          ]
        },
        {
          "name": "stderr",
          "output_type": "stream",
          "text": [
            "100%|██████████| 2846/2846 [01:01<00:00, 46.18it/s]\n"
          ]
        },
        {
          "name": "stdout",
          "output_type": "stream",
          "text": [
            "[Epoch 299/300] loss: 0.000000\n"
          ]
        },
        {
          "name": "stderr",
          "output_type": "stream",
          "text": [
            "100%|██████████| 2846/2846 [01:01<00:00, 46.22it/s]"
          ]
        },
        {
          "name": "stdout",
          "output_type": "stream",
          "text": [
            "[Epoch 300/300] loss: 0.000000\n"
          ]
        },
        {
          "name": "stderr",
          "output_type": "stream",
          "text": [
            "\n"
          ]
        }
      ],
      "source": [
        "lstm.train(epochs=300)"
      ]
    },
    {
      "cell_type": "code",
      "execution_count": 26,
      "metadata": {
        "colab": {
          "base_uri": "https://localhost:8080/",
          "height": 1000
        },
        "id": "okxsi5Uk-GCh",
        "outputId": "956679da-50fb-4b28-b676-8b47b33e59aa"
      },
      "outputs": [
        {
          "data": {
            "image/png": "[encoded data removed]",
            "text/plain": [
              "<Figure size 800x550 with 2 Axes>"
            ]
          },
          "metadata": {},
          "output_type": "display_data"
        },
        {
          "data": {
            "image/png": "[encoded data removed]",
            "text/plain": [
              "<Figure size 800x550 with 1 Axes>"
            ]
          },
          "metadata": {},
          "output_type": "display_data"
        },
        {
          "data": {
            "image/png": "[encoded data removed]",
            "text/plain": [
              "<Figure size 800x550 with 1 Axes>"
            ]
          },
          "metadata": {},
          "output_type": "display_data"
        },
        {
          "name": "stdout",
          "output_type": "stream",
          "text": [
            "                   pre       rec       spe        f1       geo       iba       sup\n",
            "\n",
            "        0.0       1.00      1.00      0.74      1.00      0.86      0.76     56855\n",
            "        1.0       0.90      0.74      1.00      0.81      0.86      0.72        97\n",
            "\n",
            "avg / total       1.00      1.00      0.74      1.00      0.86      0.76     56952\n",
            "\n",
            "AUPRC: 0.792162242351339\n",
            "AP: 0.7639449004492993\n"
          ]
        }
      ],
      "source": [
        "lstm.evaluate(df_test,confidence=0.9)"
      ]
    },
    {
      "cell_type": "code",
      "execution_count": null,
      "metadata": {
        "id": "QJp_92UnAwDh"
      },
      "outputs": [],
      "source": [
        "path = \"lstm_model.pt\"\n",
        "torch.save(lstm.model.state_dict(), path)\n"
      ]
    },
    {
      "cell_type": "code",
      "execution_count": 28,
      "metadata": {
        "id": "baechichTAQS"
      },
      "outputs": [],
      "source": [
        "path = \"lstm_model.pt\"\n",
        "torch.save(lstm.model.state_dict(), path)\n"
      ]
    },
    {
      "cell_type": "markdown",
      "metadata": {
        "id": "OfQ9k1RcCNdg"
      },
      "source": [
        "### Common Regression Models"
      ]
    },
    {
      "cell_type": "code",
      "execution_count": 29,
      "metadata": {
        "id": "UWgFCkJpCNdr"
      },
      "outputs": [],
      "source": [
        "def common_regression_models(train_df, test_df):\n",
        "    r = setup(data=train_df, target='Class', session_id=42, train_size=0.80)\n",
        "    r.add_metric('apc', 'APC', average_precision_score, target='pred_proba')\n",
        "    best = r.compare_models(sort='AUC')\n",
        "\n",
        "    pred_df = predict_model(best, data=test_df.copy().drop('Class', axis=1), raw_score=True)\n",
        "    l = np.argmax(pred_df[['prediction_score_0', 'prediction_score_1']].values, axis=1)\n",
        "    p = pred_df[['prediction_score_0', 'prediction_score_1']].values.squeeze()\n",
        "    p_bin = p[:, 1]\n",
        "    p_bin[l == 0] = 1.0 - p[l == 0][:, 0]\n",
        "    common_metrics(test_df['Class'].values, l, p_bin)\n",
        "\n",
        "    return best"
      ]
    },
    {
      "cell_type": "code",
      "execution_count": null,
      "metadata": {},
      "outputs": [
        {
          "data": {
            "text/html": [
              "<style type=\"text/css\">\n",
              "#T_3f47d_row8_col1 {\n",
              "  background-color: lightgreen;\n",
              "}\n",
              "</style>\n",
              "<table id=\"T_3f47d\">\n",
              "  <thead>\n",
              "    <tr>\n",
              "      <th class=\"blank level0\" >&nbsp;</th>\n",
              "      <th id=\"T_3f47d_level0_col0\" class=\"col_heading level0 col0\" >Description</th>\n",
              "      <th id=\"T_3f47d_level0_col1\" class=\"col_heading level0 col1\" >Value</th>\n",
              "    </tr>\n",
              "  </thead>\n",
              "  <tbody>\n",
              "    <tr>\n",
              "      <th id=\"T_3f47d_level0_row0\" class=\"row_heading level0 row0\" >0</th>\n",
              "      <td id=\"T_3f47d_row0_col0\" class=\"data row0 col0\" >Session id</td>\n",
              "      <td id=\"T_3f47d_row0_col1\" class=\"data row0 col1\" >42</td>\n",
              "    </tr>\n",
              "    <tr>\n",
              "      <th id=\"T_3f47d_level0_row1\" class=\"row_heading level0 row1\" >1</th>\n",
              "      <td id=\"T_3f47d_row1_col0\" class=\"data row1 col0\" >Target</td>\n",
              "      <td id=\"T_3f47d_row1_col1\" class=\"data row1 col1\" >Class</td>\n",
              "    </tr>\n",
              "    <tr>\n",
              "      <th id=\"T_3f47d_level0_row2\" class=\"row_heading level0 row2\" >2</th>\n",
              "      <td id=\"T_3f47d_row2_col0\" class=\"data row2 col0\" >Target type</td>\n",
              "      <td id=\"T_3f47d_row2_col1\" class=\"data row2 col1\" >Binary</td>\n",
              "    </tr>\n",
              "    <tr>\n",
              "      <th id=\"T_3f47d_level0_row3\" class=\"row_heading level0 row3\" >3</th>\n",
              "      <td id=\"T_3f47d_row3_col0\" class=\"data row3 col0\" >Original data shape</td>\n",
              "      <td id=\"T_3f47d_row3_col1\" class=\"data row3 col1\" >(455296, 31)</td>\n",
              "    </tr>\n",
              "    <tr>\n",
              "      <th id=\"T_3f47d_level0_row4\" class=\"row_heading level0 row4\" >4</th>\n",
              "      <td id=\"T_3f47d_row4_col0\" class=\"data row4 col0\" >Transformed data shape</td>\n",
              "      <td id=\"T_3f47d_row4_col1\" class=\"data row4 col1\" >(455296, 31)</td>\n",
              "    </tr>\n",
              "    <tr>\n",
              "      <th id=\"T_3f47d_level0_row5\" class=\"row_heading level0 row5\" >5</th>\n",
              "      <td id=\"T_3f47d_row5_col0\" class=\"data row5 col0\" >Transformed train set shape</td>\n",
              "      <td id=\"T_3f47d_row5_col1\" class=\"data row5 col1\" >(364236, 31)</td>\n",
              "    </tr>\n",
              "    <tr>\n",
              "      <th id=\"T_3f47d_level0_row6\" class=\"row_heading level0 row6\" >6</th>\n",
              "      <td id=\"T_3f47d_row6_col0\" class=\"data row6 col0\" >Transformed test set shape</td>\n",
              "      <td id=\"T_3f47d_row6_col1\" class=\"data row6 col1\" >(91060, 31)</td>\n",
              "    </tr>\n",
              "    <tr>\n",
              "      <th id=\"T_3f47d_level0_row7\" class=\"row_heading level0 row7\" >7</th>\n",
              "      <td id=\"T_3f47d_row7_col0\" class=\"data row7 col0\" >Numeric features</td>\n",
              "      <td id=\"T_3f47d_row7_col1\" class=\"data row7 col1\" >30</td>\n",
              "    </tr>\n",
              "    <tr>\n",
              "      <th id=\"T_3f47d_level0_row8\" class=\"row_heading level0 row8\" >8</th>\n",
              "      <td id=\"T_3f47d_row8_col0\" class=\"data row8 col0\" >Preprocess</td>\n",
              "      <td id=\"T_3f47d_row8_col1\" class=\"data row8 col1\" >True</td>\n",
              "    </tr>\n",
              "    <tr>\n",
              "      <th id=\"T_3f47d_level0_row9\" class=\"row_heading level0 row9\" >9</th>\n",
              "      <td id=\"T_3f47d_row9_col0\" class=\"data row9 col0\" >Imputation type</td>\n",
              "      <td id=\"T_3f47d_row9_col1\" class=\"data row9 col1\" >simple</td>\n",
              "    </tr>\n",
              "    <tr>\n",
              "      <th id=\"T_3f47d_level0_row10\" class=\"row_heading level0 row10\" >10</th>\n",
              "      <td id=\"T_3f47d_row10_col0\" class=\"data row10 col0\" >Numeric imputation</td>\n",
              "      <td id=\"T_3f47d_row10_col1\" class=\"data row10 col1\" >mean</td>\n",
              "    </tr>\n",
              "    <tr>\n",
              "      <th id=\"T_3f47d_level0_row11\" class=\"row_heading level0 row11\" >11</th>\n",
              "      <td id=\"T_3f47d_row11_col0\" class=\"data row11 col0\" >Categorical imputation</td>\n",
              "      <td id=\"T_3f47d_row11_col1\" class=\"data row11 col1\" >mode</td>\n",
              "    </tr>\n",
              "    <tr>\n",
              "      <th id=\"T_3f47d_level0_row12\" class=\"row_heading level0 row12\" >12</th>\n",
              "      <td id=\"T_3f47d_row12_col0\" class=\"data row12 col0\" >Fold Generator</td>\n",
              "      <td id=\"T_3f47d_row12_col1\" class=\"data row12 col1\" >StratifiedKFold</td>\n",
              "    </tr>\n",
              "    <tr>\n",
              "      <th id=\"T_3f47d_level0_row13\" class=\"row_heading level0 row13\" >13</th>\n",
              "      <td id=\"T_3f47d_row13_col0\" class=\"data row13 col0\" >Fold Number</td>\n",
              "      <td id=\"T_3f47d_row13_col1\" class=\"data row13 col1\" >10</td>\n",
              "    </tr>\n",
              "    <tr>\n",
              "      <th id=\"T_3f47d_level0_row14\" class=\"row_heading level0 row14\" >14</th>\n",
              "      <td id=\"T_3f47d_row14_col0\" class=\"data row14 col0\" >CPU Jobs</td>\n",
              "      <td id=\"T_3f47d_row14_col1\" class=\"data row14 col1\" >-1</td>\n",
              "    </tr>\n",
              "    <tr>\n",
              "      <th id=\"T_3f47d_level0_row15\" class=\"row_heading level0 row15\" >15</th>\n",
              "      <td id=\"T_3f47d_row15_col0\" class=\"data row15 col0\" >Use GPU</td>\n",
              "      <td id=\"T_3f47d_row15_col1\" class=\"data row15 col1\" >False</td>\n",
              "    </tr>\n",
              "    <tr>\n",
              "      <th id=\"T_3f47d_level0_row16\" class=\"row_heading level0 row16\" >16</th>\n",
              "      <td id=\"T_3f47d_row16_col0\" class=\"data row16 col0\" >Log Experiment</td>\n",
              "      <td id=\"T_3f47d_row16_col1\" class=\"data row16 col1\" >False</td>\n",
              "    </tr>\n",
              "    <tr>\n",
              "      <th id=\"T_3f47d_level0_row17\" class=\"row_heading level0 row17\" >17</th>\n",
              "      <td id=\"T_3f47d_row17_col0\" class=\"data row17 col0\" >Experiment Name</td>\n",
              "      <td id=\"T_3f47d_row17_col1\" class=\"data row17 col1\" >clf-default-name</td>\n",
              "    </tr>\n",
              "    <tr>\n",
              "      <th id=\"T_3f47d_level0_row18\" class=\"row_heading level0 row18\" >18</th>\n",
              "      <td id=\"T_3f47d_row18_col0\" class=\"data row18 col0\" >USI</td>\n",
              "      <td id=\"T_3f47d_row18_col1\" class=\"data row18 col1\" >45c4</td>\n",
              "    </tr>\n",
              "  </tbody>\n",
              "</table>\n"
            ],
            "text/plain": [
              "<pandas.io.formats.style.Styler at 0x17fffec0ed0>"
            ]
          },
          "metadata": {},
          "output_type": "display_data"
        },
        {
          "data": {
            "text/html": [],
            "text/plain": [
              "<IPython.core.display.HTML object>"
            ]
          },
          "metadata": {},
          "output_type": "display_data"
        },
        {
          "data": {
            "text/html": [
              "<style type=\"text/css\">\n",
              "#T_9d7a2 th {\n",
              "  text-align: left;\n",
              "}\n",
              "#T_9d7a2_row0_col0, #T_9d7a2_row0_col3, #T_9d7a2_row0_col8, #T_9d7a2_row1_col0, #T_9d7a2_row1_col1, #T_9d7a2_row1_col3, #T_9d7a2_row1_col4, #T_9d7a2_row1_col5, #T_9d7a2_row1_col6, #T_9d7a2_row1_col7, #T_9d7a2_row2_col0, #T_9d7a2_row2_col1, #T_9d7a2_row2_col3, #T_9d7a2_row2_col4, #T_9d7a2_row2_col5, #T_9d7a2_row2_col6, #T_9d7a2_row2_col7, #T_9d7a2_row2_col8, #T_9d7a2_row3_col0, #T_9d7a2_row3_col3, #T_9d7a2_row3_col8, #T_9d7a2_row4_col0, #T_9d7a2_row4_col3, #T_9d7a2_row5_col0, #T_9d7a2_row5_col1, #T_9d7a2_row5_col3, #T_9d7a2_row5_col5, #T_9d7a2_row6_col0, #T_9d7a2_row6_col1, #T_9d7a2_row6_col2, #T_9d7a2_row6_col3, #T_9d7a2_row6_col4, #T_9d7a2_row6_col5, #T_9d7a2_row6_col6, #T_9d7a2_row6_col7, #T_9d7a2_row6_col8, #T_9d7a2_row7_col0, #T_9d7a2_row7_col1, #T_9d7a2_row7_col2, #T_9d7a2_row7_col3, #T_9d7a2_row7_col4, #T_9d7a2_row7_col5, #T_9d7a2_row7_col6, #T_9d7a2_row7_col7, #T_9d7a2_row7_col8, #T_9d7a2_row8_col0, #T_9d7a2_row8_col1, #T_9d7a2_row8_col2, #T_9d7a2_row8_col3, #T_9d7a2_row8_col4, #T_9d7a2_row8_col5, #T_9d7a2_row8_col6, #T_9d7a2_row8_col7, #T_9d7a2_row8_col8, #T_9d7a2_row9_col0, #T_9d7a2_row9_col1, #T_9d7a2_row9_col2, #T_9d7a2_row9_col3, #T_9d7a2_row9_col5, #T_9d7a2_row9_col6, #T_9d7a2_row9_col7, #T_9d7a2_row9_col8, #T_9d7a2_row10_col0, #T_9d7a2_row10_col1, #T_9d7a2_row10_col2, #T_9d7a2_row10_col3, #T_9d7a2_row10_col4, #T_9d7a2_row10_col5, #T_9d7a2_row10_col6, #T_9d7a2_row10_col7, #T_9d7a2_row10_col8, #T_9d7a2_row11_col0, #T_9d7a2_row11_col1, #T_9d7a2_row11_col2, #T_9d7a2_row11_col3, #T_9d7a2_row11_col4, #T_9d7a2_row11_col5, #T_9d7a2_row11_col6, #T_9d7a2_row11_col7, #T_9d7a2_row11_col8, #T_9d7a2_row12_col0, #T_9d7a2_row12_col1, #T_9d7a2_row12_col2, #T_9d7a2_row12_col4, #T_9d7a2_row12_col5, #T_9d7a2_row12_col6, #T_9d7a2_row12_col7, #T_9d7a2_row12_col8, #T_9d7a2_row13_col0, #T_9d7a2_row13_col1, #T_9d7a2_row13_col2, #T_9d7a2_row13_col3, #T_9d7a2_row13_col4, #T_9d7a2_row13_col5, #T_9d7a2_row13_col6, #T_9d7a2_row13_col7, #T_9d7a2_row13_col8, #T_9d7a2_row14_col0, #T_9d7a2_row14_col1, #T_9d7a2_row14_col2, #T_9d7a2_row14_col3, #T_9d7a2_row14_col4, #T_9d7a2_row14_col5, #T_9d7a2_row14_col6, #T_9d7a2_row14_col7, #T_9d7a2_row14_col8 {\n",
              "  text-align: left;\n",
              "}\n",
              "#T_9d7a2_row0_col1, #T_9d7a2_row0_col2, #T_9d7a2_row0_col4, #T_9d7a2_row0_col5, #T_9d7a2_row0_col6, #T_9d7a2_row0_col7, #T_9d7a2_row1_col2, #T_9d7a2_row1_col8, #T_9d7a2_row2_col2, #T_9d7a2_row3_col1, #T_9d7a2_row3_col2, #T_9d7a2_row3_col4, #T_9d7a2_row3_col5, #T_9d7a2_row3_col6, #T_9d7a2_row3_col7, #T_9d7a2_row4_col1, #T_9d7a2_row4_col2, #T_9d7a2_row4_col4, #T_9d7a2_row4_col5, #T_9d7a2_row4_col6, #T_9d7a2_row4_col7, #T_9d7a2_row4_col8, #T_9d7a2_row5_col2, #T_9d7a2_row5_col4, #T_9d7a2_row5_col6, #T_9d7a2_row5_col7, #T_9d7a2_row5_col8, #T_9d7a2_row9_col4, #T_9d7a2_row12_col3 {\n",
              "  text-align: left;\n",
              "  background-color: yellow;\n",
              "}\n",
              "#T_9d7a2_row0_col9, #T_9d7a2_row1_col9, #T_9d7a2_row2_col9, #T_9d7a2_row3_col9, #T_9d7a2_row4_col9, #T_9d7a2_row5_col9, #T_9d7a2_row6_col9, #T_9d7a2_row7_col9, #T_9d7a2_row8_col9, #T_9d7a2_row9_col9, #T_9d7a2_row10_col9, #T_9d7a2_row11_col9, #T_9d7a2_row13_col9, #T_9d7a2_row14_col9 {\n",
              "  text-align: left;\n",
              "  background-color: lightgrey;\n",
              "}\n",
              "#T_9d7a2_row12_col9 {\n",
              "  text-align: left;\n",
              "  background-color: yellow;\n",
              "  background-color: lightgrey;\n",
              "}\n",
              "</style>\n",
              "<table id=\"T_9d7a2\">\n",
              "  <thead>\n",
              "    <tr>\n",
              "      <th class=\"blank level0\" >&nbsp;</th>\n",
              "      <th id=\"T_9d7a2_level0_col0\" class=\"col_heading level0 col0\" >Model</th>\n",
              "      <th id=\"T_9d7a2_level0_col1\" class=\"col_heading level0 col1\" >Accuracy</th>\n",
              "      <th id=\"T_9d7a2_level0_col2\" class=\"col_heading level0 col2\" >AUC</th>\n",
              "      <th id=\"T_9d7a2_level0_col3\" class=\"col_heading level0 col3\" >Recall</th>\n",
              "      <th id=\"T_9d7a2_level0_col4\" class=\"col_heading level0 col4\" >Prec.</th>\n",
              "      <th id=\"T_9d7a2_level0_col5\" class=\"col_heading level0 col5\" >F1</th>\n",
              "      <th id=\"T_9d7a2_level0_col6\" class=\"col_heading level0 col6\" >Kappa</th>\n",
              "      <th id=\"T_9d7a2_level0_col7\" class=\"col_heading level0 col7\" >MCC</th>\n",
              "      <th id=\"T_9d7a2_level0_col8\" class=\"col_heading level0 col8\" >APC</th>\n",
              "      <th id=\"T_9d7a2_level0_col9\" class=\"col_heading level0 col9\" >TT (Sec)</th>\n",
              "    </tr>\n",
              "  </thead>\n",
              "  <tbody>\n",
              "    <tr>\n",
              "      <th id=\"T_9d7a2_level0_row0\" class=\"row_heading level0 row0\" >rf</th>\n",
              "      <td id=\"T_9d7a2_row0_col0\" class=\"data row0 col0\" >Random Forest Classifier</td>\n",
              "      <td id=\"T_9d7a2_row0_col1\" class=\"data row0 col1\" >0.9998</td>\n",
              "      <td id=\"T_9d7a2_row0_col2\" class=\"data row0 col2\" >0.9999</td>\n",
              "      <td id=\"T_9d7a2_row0_col3\" class=\"data row0 col3\" >0.9996</td>\n",
              "      <td id=\"T_9d7a2_row0_col4\" class=\"data row0 col4\" >0.9999</td>\n",
              "      <td id=\"T_9d7a2_row0_col5\" class=\"data row0 col5\" >0.9998</td>\n",
              "      <td id=\"T_9d7a2_row0_col6\" class=\"data row0 col6\" >0.9995</td>\n",
              "      <td id=\"T_9d7a2_row0_col7\" class=\"data row0 col7\" >0.9995</td>\n",
              "      <td id=\"T_9d7a2_row0_col8\" class=\"data row0 col8\" >0.9999</td>\n",
              "      <td id=\"T_9d7a2_row0_col9\" class=\"data row0 col9\" >11.4720</td>\n",
              "    </tr>\n",
              "    <tr>\n",
              "      <th id=\"T_9d7a2_level0_row1\" class=\"row_heading level0 row1\" >ada</th>\n",
              "      <td id=\"T_9d7a2_row1_col0\" class=\"data row1 col0\" >Ada Boost Classifier</td>\n",
              "      <td id=\"T_9d7a2_row1_col1\" class=\"data row1 col1\" >0.9996</td>\n",
              "      <td id=\"T_9d7a2_row1_col2\" class=\"data row1 col2\" >0.9999</td>\n",
              "      <td id=\"T_9d7a2_row1_col3\" class=\"data row1 col3\" >0.9994</td>\n",
              "      <td id=\"T_9d7a2_row1_col4\" class=\"data row1 col4\" >0.9997</td>\n",
              "      <td id=\"T_9d7a2_row1_col5\" class=\"data row1 col5\" >0.9996</td>\n",
              "      <td id=\"T_9d7a2_row1_col6\" class=\"data row1 col6\" >0.9992</td>\n",
              "      <td id=\"T_9d7a2_row1_col7\" class=\"data row1 col7\" >0.9992</td>\n",
              "      <td id=\"T_9d7a2_row1_col8\" class=\"data row1 col8\" >1.0000</td>\n",
              "      <td id=\"T_9d7a2_row1_col9\" class=\"data row1 col9\" >8.7310</td>\n",
              "    </tr>\n",
              "    <tr>\n",
              "      <th id=\"T_9d7a2_level0_row2\" class=\"row_heading level0 row2\" >gbc</th>\n",
              "      <td id=\"T_9d7a2_row2_col0\" class=\"data row2 col0\" >Gradient Boosting Classifier</td>\n",
              "      <td id=\"T_9d7a2_row2_col1\" class=\"data row2 col1\" >0.9997</td>\n",
              "      <td id=\"T_9d7a2_row2_col2\" class=\"data row2 col2\" >0.9999</td>\n",
              "      <td id=\"T_9d7a2_row2_col3\" class=\"data row2 col3\" >0.9995</td>\n",
              "      <td id=\"T_9d7a2_row2_col4\" class=\"data row2 col4\" >0.9998</td>\n",
              "      <td id=\"T_9d7a2_row2_col5\" class=\"data row2 col5\" >0.9997</td>\n",
              "      <td id=\"T_9d7a2_row2_col6\" class=\"data row2 col6\" >0.9993</td>\n",
              "      <td id=\"T_9d7a2_row2_col7\" class=\"data row2 col7\" >0.9993</td>\n",
              "      <td id=\"T_9d7a2_row2_col8\" class=\"data row2 col8\" >0.9999</td>\n",
              "      <td id=\"T_9d7a2_row2_col9\" class=\"data row2 col9\" >47.5920</td>\n",
              "    </tr>\n",
              "    <tr>\n",
              "      <th id=\"T_9d7a2_level0_row3\" class=\"row_heading level0 row3\" >et</th>\n",
              "      <td id=\"T_9d7a2_row3_col0\" class=\"data row3 col0\" >Extra Trees Classifier</td>\n",
              "      <td id=\"T_9d7a2_row3_col1\" class=\"data row3 col1\" >0.9998</td>\n",
              "      <td id=\"T_9d7a2_row3_col2\" class=\"data row3 col2\" >0.9999</td>\n",
              "      <td id=\"T_9d7a2_row3_col3\" class=\"data row3 col3\" >0.9996</td>\n",
              "      <td id=\"T_9d7a2_row3_col4\" class=\"data row3 col4\" >0.9999</td>\n",
              "      <td id=\"T_9d7a2_row3_col5\" class=\"data row3 col5\" >0.9998</td>\n",
              "      <td id=\"T_9d7a2_row3_col6\" class=\"data row3 col6\" >0.9995</td>\n",
              "      <td id=\"T_9d7a2_row3_col7\" class=\"data row3 col7\" >0.9995</td>\n",
              "      <td id=\"T_9d7a2_row3_col8\" class=\"data row3 col8\" >0.9999</td>\n",
              "      <td id=\"T_9d7a2_row3_col9\" class=\"data row3 col9\" >4.1120</td>\n",
              "    </tr>\n",
              "    <tr>\n",
              "      <th id=\"T_9d7a2_level0_row4\" class=\"row_heading level0 row4\" >lightgbm</th>\n",
              "      <td id=\"T_9d7a2_row4_col0\" class=\"data row4 col0\" >Light Gradient Boosting Machine</td>\n",
              "      <td id=\"T_9d7a2_row4_col1\" class=\"data row4 col1\" >0.9998</td>\n",
              "      <td id=\"T_9d7a2_row4_col2\" class=\"data row4 col2\" >0.9999</td>\n",
              "      <td id=\"T_9d7a2_row4_col3\" class=\"data row4 col3\" >0.9997</td>\n",
              "      <td id=\"T_9d7a2_row4_col4\" class=\"data row4 col4\" >0.9999</td>\n",
              "      <td id=\"T_9d7a2_row4_col5\" class=\"data row4 col5\" >0.9998</td>\n",
              "      <td id=\"T_9d7a2_row4_col6\" class=\"data row4 col6\" >0.9995</td>\n",
              "      <td id=\"T_9d7a2_row4_col7\" class=\"data row4 col7\" >0.9995</td>\n",
              "      <td id=\"T_9d7a2_row4_col8\" class=\"data row4 col8\" >1.0000</td>\n",
              "      <td id=\"T_9d7a2_row4_col9\" class=\"data row4 col9\" >0.6100</td>\n",
              "    </tr>\n",
              "    <tr>\n",
              "      <th id=\"T_9d7a2_level0_row5\" class=\"row_heading level0 row5\" >catboost</th>\n",
              "      <td id=\"T_9d7a2_row5_col0\" class=\"data row5 col0\" >CatBoost Classifier</td>\n",
              "      <td id=\"T_9d7a2_row5_col1\" class=\"data row5 col1\" >0.9997</td>\n",
              "      <td id=\"T_9d7a2_row5_col2\" class=\"data row5 col2\" >0.9999</td>\n",
              "      <td id=\"T_9d7a2_row5_col3\" class=\"data row5 col3\" >0.9996</td>\n",
              "      <td id=\"T_9d7a2_row5_col4\" class=\"data row5 col4\" >0.9999</td>\n",
              "      <td id=\"T_9d7a2_row5_col5\" class=\"data row5 col5\" >0.9997</td>\n",
              "      <td id=\"T_9d7a2_row5_col6\" class=\"data row5 col6\" >0.9995</td>\n",
              "      <td id=\"T_9d7a2_row5_col7\" class=\"data row5 col7\" >0.9995</td>\n",
              "      <td id=\"T_9d7a2_row5_col8\" class=\"data row5 col8\" >1.0000</td>\n",
              "      <td id=\"T_9d7a2_row5_col9\" class=\"data row5 col9\" >10.7430</td>\n",
              "    </tr>\n",
              "    <tr>\n",
              "      <th id=\"T_9d7a2_level0_row6\" class=\"row_heading level0 row6\" >lr</th>\n",
              "      <td id=\"T_9d7a2_row6_col0\" class=\"data row6 col0\" >Logistic Regression</td>\n",
              "      <td id=\"T_9d7a2_row6_col1\" class=\"data row6 col1\" >0.9980</td>\n",
              "      <td id=\"T_9d7a2_row6_col2\" class=\"data row6 col2\" >0.9997</td>\n",
              "      <td id=\"T_9d7a2_row6_col3\" class=\"data row6 col3\" >0.9993</td>\n",
              "      <td id=\"T_9d7a2_row6_col4\" class=\"data row6 col4\" >0.9966</td>\n",
              "      <td id=\"T_9d7a2_row6_col5\" class=\"data row6 col5\" >0.9980</td>\n",
              "      <td id=\"T_9d7a2_row6_col6\" class=\"data row6 col6\" >0.9959</td>\n",
              "      <td id=\"T_9d7a2_row6_col7\" class=\"data row6 col7\" >0.9959</td>\n",
              "      <td id=\"T_9d7a2_row6_col8\" class=\"data row6 col8\" >0.9997</td>\n",
              "      <td id=\"T_9d7a2_row6_col9\" class=\"data row6 col9\" >7.6120</td>\n",
              "    </tr>\n",
              "    <tr>\n",
              "      <th id=\"T_9d7a2_level0_row7\" class=\"row_heading level0 row7\" >dt</th>\n",
              "      <td id=\"T_9d7a2_row7_col0\" class=\"data row7 col0\" >Decision Tree Classifier</td>\n",
              "      <td id=\"T_9d7a2_row7_col1\" class=\"data row7 col1\" >0.9996</td>\n",
              "      <td id=\"T_9d7a2_row7_col2\" class=\"data row7 col2\" >0.9996</td>\n",
              "      <td id=\"T_9d7a2_row7_col3\" class=\"data row7 col3\" >0.9996</td>\n",
              "      <td id=\"T_9d7a2_row7_col4\" class=\"data row7 col4\" >0.9996</td>\n",
              "      <td id=\"T_9d7a2_row7_col5\" class=\"data row7 col5\" >0.9996</td>\n",
              "      <td id=\"T_9d7a2_row7_col6\" class=\"data row7 col6\" >0.9991</td>\n",
              "      <td id=\"T_9d7a2_row7_col7\" class=\"data row7 col7\" >0.9991</td>\n",
              "      <td id=\"T_9d7a2_row7_col8\" class=\"data row7 col8\" >0.9994</td>\n",
              "      <td id=\"T_9d7a2_row7_col9\" class=\"data row7 col9\" >1.6390</td>\n",
              "    </tr>\n",
              "    <tr>\n",
              "      <th id=\"T_9d7a2_level0_row8\" class=\"row_heading level0 row8\" >lda</th>\n",
              "      <td id=\"T_9d7a2_row8_col0\" class=\"data row8 col0\" >Linear Discriminant Analysis</td>\n",
              "      <td id=\"T_9d7a2_row8_col1\" class=\"data row8 col1\" >0.9973</td>\n",
              "      <td id=\"T_9d7a2_row8_col2\" class=\"data row8 col2\" >0.9995</td>\n",
              "      <td id=\"T_9d7a2_row8_col3\" class=\"data row8 col3\" >0.9992</td>\n",
              "      <td id=\"T_9d7a2_row8_col4\" class=\"data row8 col4\" >0.9954</td>\n",
              "      <td id=\"T_9d7a2_row8_col5\" class=\"data row8 col5\" >0.9973</td>\n",
              "      <td id=\"T_9d7a2_row8_col6\" class=\"data row8 col6\" >0.9945</td>\n",
              "      <td id=\"T_9d7a2_row8_col7\" class=\"data row8 col7\" >0.9945</td>\n",
              "      <td id=\"T_9d7a2_row8_col8\" class=\"data row8 col8\" >0.9993</td>\n",
              "      <td id=\"T_9d7a2_row8_col9\" class=\"data row8 col9\" >0.3850</td>\n",
              "    </tr>\n",
              "    <tr>\n",
              "      <th id=\"T_9d7a2_level0_row9\" class=\"row_heading level0 row9\" >qda</th>\n",
              "      <td id=\"T_9d7a2_row9_col0\" class=\"data row9 col0\" >Quadratic Discriminant Analysis</td>\n",
              "      <td id=\"T_9d7a2_row9_col1\" class=\"data row9 col1\" >0.9798</td>\n",
              "      <td id=\"T_9d7a2_row9_col2\" class=\"data row9 col2\" >0.9993</td>\n",
              "      <td id=\"T_9d7a2_row9_col3\" class=\"data row9 col3\" >0.9598</td>\n",
              "      <td id=\"T_9d7a2_row9_col4\" class=\"data row9 col4\" >0.9999</td>\n",
              "      <td id=\"T_9d7a2_row9_col5\" class=\"data row9 col5\" >0.9794</td>\n",
              "      <td id=\"T_9d7a2_row9_col6\" class=\"data row9 col6\" >0.9596</td>\n",
              "      <td id=\"T_9d7a2_row9_col7\" class=\"data row9 col7\" >0.9604</td>\n",
              "      <td id=\"T_9d7a2_row9_col8\" class=\"data row9 col8\" >0.9993</td>\n",
              "      <td id=\"T_9d7a2_row9_col9\" class=\"data row9 col9\" >0.3440</td>\n",
              "    </tr>\n",
              "    <tr>\n",
              "      <th id=\"T_9d7a2_level0_row10\" class=\"row_heading level0 row10\" >knn</th>\n",
              "      <td id=\"T_9d7a2_row10_col0\" class=\"data row10 col0\" >K Neighbors Classifier</td>\n",
              "      <td id=\"T_9d7a2_row10_col1\" class=\"data row10 col1\" >0.9987</td>\n",
              "      <td id=\"T_9d7a2_row10_col2\" class=\"data row10 col2\" >0.9992</td>\n",
              "      <td id=\"T_9d7a2_row10_col3\" class=\"data row10 col3\" >0.9977</td>\n",
              "      <td id=\"T_9d7a2_row10_col4\" class=\"data row10 col4\" >0.9997</td>\n",
              "      <td id=\"T_9d7a2_row10_col5\" class=\"data row10 col5\" >0.9987</td>\n",
              "      <td id=\"T_9d7a2_row10_col6\" class=\"data row10 col6\" >0.9975</td>\n",
              "      <td id=\"T_9d7a2_row10_col7\" class=\"data row10 col7\" >0.9975</td>\n",
              "      <td id=\"T_9d7a2_row10_col8\" class=\"data row10 col8\" >0.9992</td>\n",
              "      <td id=\"T_9d7a2_row10_col9\" class=\"data row10 col9\" >8.9340</td>\n",
              "    </tr>\n",
              "    <tr>\n",
              "      <th id=\"T_9d7a2_level0_row11\" class=\"row_heading level0 row11\" >nb</th>\n",
              "      <td id=\"T_9d7a2_row11_col0\" class=\"data row11 col0\" >Naive Bayes</td>\n",
              "      <td id=\"T_9d7a2_row11_col1\" class=\"data row11 col1\" >0.9790</td>\n",
              "      <td id=\"T_9d7a2_row11_col2\" class=\"data row11 col2\" >0.9623</td>\n",
              "      <td id=\"T_9d7a2_row11_col3\" class=\"data row11 col3\" >0.9598</td>\n",
              "      <td id=\"T_9d7a2_row11_col4\" class=\"data row11 col4\" >0.9981</td>\n",
              "      <td id=\"T_9d7a2_row11_col5\" class=\"data row11 col5\" >0.9786</td>\n",
              "      <td id=\"T_9d7a2_row11_col6\" class=\"data row11 col6\" >0.9580</td>\n",
              "      <td id=\"T_9d7a2_row11_col7\" class=\"data row11 col7\" >0.9587</td>\n",
              "      <td id=\"T_9d7a2_row11_col8\" class=\"data row11 col8\" >0.9796</td>\n",
              "      <td id=\"T_9d7a2_row11_col9\" class=\"data row11 col9\" >0.2450</td>\n",
              "    </tr>\n",
              "    <tr>\n",
              "      <th id=\"T_9d7a2_level0_row12\" class=\"row_heading level0 row12\" >dummy</th>\n",
              "      <td id=\"T_9d7a2_row12_col0\" class=\"data row12 col0\" >Dummy Classifier</td>\n",
              "      <td id=\"T_9d7a2_row12_col1\" class=\"data row12 col1\" >0.5004</td>\n",
              "      <td id=\"T_9d7a2_row12_col2\" class=\"data row12 col2\" >0.5000</td>\n",
              "      <td id=\"T_9d7a2_row12_col3\" class=\"data row12 col3\" >1.0000</td>\n",
              "      <td id=\"T_9d7a2_row12_col4\" class=\"data row12 col4\" >0.5004</td>\n",
              "      <td id=\"T_9d7a2_row12_col5\" class=\"data row12 col5\" >0.6671</td>\n",
              "      <td id=\"T_9d7a2_row12_col6\" class=\"data row12 col6\" >0.0000</td>\n",
              "      <td id=\"T_9d7a2_row12_col7\" class=\"data row12 col7\" >0.0000</td>\n",
              "      <td id=\"T_9d7a2_row12_col8\" class=\"data row12 col8\" >0.5004</td>\n",
              "      <td id=\"T_9d7a2_row12_col9\" class=\"data row12 col9\" >0.0660</td>\n",
              "    </tr>\n",
              "    <tr>\n",
              "      <th id=\"T_9d7a2_level0_row13\" class=\"row_heading level0 row13\" >svm</th>\n",
              "      <td id=\"T_9d7a2_row13_col0\" class=\"data row13 col0\" >SVM - Linear Kernel</td>\n",
              "      <td id=\"T_9d7a2_row13_col1\" class=\"data row13 col1\" >0.9985</td>\n",
              "      <td id=\"T_9d7a2_row13_col2\" class=\"data row13 col2\" >0.0000</td>\n",
              "      <td id=\"T_9d7a2_row13_col3\" class=\"data row13 col3\" >0.9981</td>\n",
              "      <td id=\"T_9d7a2_row13_col4\" class=\"data row13 col4\" >0.9988</td>\n",
              "      <td id=\"T_9d7a2_row13_col5\" class=\"data row13 col5\" >0.9985</td>\n",
              "      <td id=\"T_9d7a2_row13_col6\" class=\"data row13 col6\" >0.9969</td>\n",
              "      <td id=\"T_9d7a2_row13_col7\" class=\"data row13 col7\" >0.9969</td>\n",
              "      <td id=\"T_9d7a2_row13_col8\" class=\"data row13 col8\" >0.0000</td>\n",
              "      <td id=\"T_9d7a2_row13_col9\" class=\"data row13 col9\" >1.5540</td>\n",
              "    </tr>\n",
              "    <tr>\n",
              "      <th id=\"T_9d7a2_level0_row14\" class=\"row_heading level0 row14\" >ridge</th>\n",
              "      <td id=\"T_9d7a2_row14_col0\" class=\"data row14 col0\" >Ridge Classifier</td>\n",
              "      <td id=\"T_9d7a2_row14_col1\" class=\"data row14 col1\" >0.9949</td>\n",
              "      <td id=\"T_9d7a2_row14_col2\" class=\"data row14 col2\" >0.0000</td>\n",
              "      <td id=\"T_9d7a2_row14_col3\" class=\"data row14 col3\" >0.9985</td>\n",
              "      <td id=\"T_9d7a2_row14_col4\" class=\"data row14 col4\" >0.9914</td>\n",
              "      <td id=\"T_9d7a2_row14_col5\" class=\"data row14 col5\" >0.9949</td>\n",
              "      <td id=\"T_9d7a2_row14_col6\" class=\"data row14 col6\" >0.9898</td>\n",
              "      <td id=\"T_9d7a2_row14_col7\" class=\"data row14 col7\" >0.9898</td>\n",
              "      <td id=\"T_9d7a2_row14_col8\" class=\"data row14 col8\" >0.0000</td>\n",
              "      <td id=\"T_9d7a2_row14_col9\" class=\"data row14 col9\" >0.0950</td>\n",
              "    </tr>\n",
              "  </tbody>\n",
              "</table>\n"
            ],
            "text/plain": [
              "<pandas.io.formats.style.Styler at 0x17fffee1350>"
            ]
          },
          "metadata": {},
          "output_type": "display_data"
        },
        {
          "data": {
            "text/html": [],
            "text/plain": [
              "<IPython.core.display.HTML object>"
            ]
          },
          "metadata": {},
          "output_type": "display_data"
        },
        {
          "data": {
            "text/html": [],
            "text/plain": [
              "<IPython.core.display.HTML object>"
            ]
          },
          "metadata": {},
          "output_type": "display_data"
        },
        {
          "data": {
            "image/png": "[encoded data removed]",
            "text/plain": [
              "<Figure size 800x550 with 2 Axes>"
            ]
          },
          "metadata": {},
          "output_type": "display_data"
        },
        {
          "data": {
            "image/png": "[encoded data removed]",
            "text/plain": [
              "<Figure size 800x550 with 1 Axes>"
            ]
          },
          "metadata": {},
          "output_type": "display_data"
        },
        {
          "data": {
            "image/png": "[encoded data removed]",
            "text/plain": [
              "<Figure size 800x550 with 1 Axes>"
            ]
          },
          "metadata": {},
          "output_type": "display_data"
        },
        {
          "name": "stdout",
          "output_type": "stream",
          "text": [
            "                   pre       rec       spe        f1       geo       iba       sup\n",
            "\n",
            "          0       1.00      1.00      0.79      1.00      0.89      0.80     56864\n",
            "          1       0.96      0.79      1.00      0.87      0.89      0.77        98\n",
            "\n",
            "avg / total       1.00      1.00      0.79      1.00      0.89      0.80     56962\n",
            "\n",
            "AUPRC: 0.8663406050457205\n",
            "AP: 0.8600349409220891\n"
          ]
        }
      ],
      "source": [
        "best_vgan, r_vgan = common_regression_models(df_concat, df_test)"
      ]
    }
  ],
  "metadata": {
    "accelerator": "GPU",
    "colab": {
      "gpuType": "T4",
      "provenance": []
    },
    "kernelspec": {
      "display_name": "Python 3",
      "name": "python3"
    },
    "language_info": {
      "codemirror_mode": {
        "name": "ipython",
        "version": 3
      },
      "file_extension": ".py",
      "mimetype": "text/x-python",
      "name": "python",
      "nbconvert_exporter": "python",
      "pygments_lexer": "ipython3",
      "version": "3.10.13"
    },
    "widgets": {
      "application/vnd.jupyter.widget-state+json": {
        "0c63acf94fe448a4bce3509f9f98e4d1": {
          "model_module": "@jupyter-widgets/base",
          "model_module_version": "1.2.0",
          "model_name": "LayoutModel",
          "state": {
            "_model_module": "@jupyter-widgets/base",
            "_model_module_version": "1.2.0",
            "_model_name": "LayoutModel",
            "_view_count": null,
            "_view_module": "@jupyter-widgets/base",
            "_view_module_version": "1.2.0",
            "_view_name": "LayoutView",
            "align_content": null,
            "align_items": null,
            "align_self": null,
            "border": null,
            "bottom": null,
            "display": null,
            "flex": null,
            "flex_flow": null,
            "grid_area": null,
            "grid_auto_columns": null,
            "grid_auto_flow": null,
            "grid_auto_rows": null,
            "grid_column": null,
            "grid_gap": null,
            "grid_row": null,
            "grid_template_areas": null,
            "grid_template_columns": null,
            "grid_template_rows": null,
            "height": null,
            "justify_content": null,
            "justify_items": null,
            "left": null,
            "margin": null,
            "max_height": null,
            "max_width": null,
            "min_height": null,
            "min_width": null,
            "object_fit": null,
            "object_position": null,
            "order": null,
            "overflow": null,
            "overflow_x": null,
            "overflow_y": null,
            "padding": null,
            "right": null,
            "top": null,
            "visibility": null,
            "width": null
          }
        },
        "2501edd3defe4de7bf581e33120b14ca": {
          "model_module": "@jupyter-widgets/controls",
          "model_module_version": "1.5.0",
          "model_name": "ProgressStyleModel",
          "state": {
            "_model_module": "@jupyter-widgets/controls",
            "_model_module_version": "1.5.0",
            "_model_name": "ProgressStyleModel",
            "_view_count": null,
            "_view_module": "@jupyter-widgets/base",
            "_view_module_version": "1.2.0",
            "_view_name": "StyleView",
            "bar_color": null,
            "description_width": ""
          }
        },
        "30e11be8fe5540569d1747f747ed516b": {
          "model_module": "@jupyter-widgets/controls",
          "model_module_version": "1.5.0",
          "model_name": "DescriptionStyleModel",
          "state": {
            "_model_module": "@jupyter-widgets/controls",
            "_model_module_version": "1.5.0",
            "_model_name": "DescriptionStyleModel",
            "_view_count": null,
            "_view_module": "@jupyter-widgets/base",
            "_view_module_version": "1.2.0",
            "_view_name": "StyleView",
            "description_width": ""
          }
        },
        "3df7eb6addb64264984febf418470dd1": {
          "model_module": "@jupyter-widgets/base",
          "model_module_version": "1.2.0",
          "model_name": "LayoutModel",
          "state": {
            "_model_module": "@jupyter-widgets/base",
            "_model_module_version": "1.2.0",
            "_model_name": "LayoutModel",
            "_view_count": null,
            "_view_module": "@jupyter-widgets/base",
            "_view_module_version": "1.2.0",
            "_view_name": "LayoutView",
            "align_content": null,
            "align_items": null,
            "align_self": null,
            "border": null,
            "bottom": null,
            "display": null,
            "flex": null,
            "flex_flow": null,
            "grid_area": null,
            "grid_auto_columns": null,
            "grid_auto_flow": null,
            "grid_auto_rows": null,
            "grid_column": null,
            "grid_gap": null,
            "grid_row": null,
            "grid_template_areas": null,
            "grid_template_columns": null,
            "grid_template_rows": null,
            "height": null,
            "justify_content": null,
            "justify_items": null,
            "left": null,
            "margin": null,
            "max_height": null,
            "max_width": null,
            "min_height": null,
            "min_width": null,
            "object_fit": null,
            "object_position": null,
            "order": null,
            "overflow": null,
            "overflow_x": null,
            "overflow_y": null,
            "padding": null,
            "right": null,
            "top": null,
            "visibility": null,
            "width": null
          }
        },
        "52ea723fd6e84f41ae87a50eab46c853": {
          "model_module": "@jupyter-widgets/controls",
          "model_module_version": "1.5.0",
          "model_name": "HTMLModel",
          "state": {
            "_dom_classes": [],
            "_model_module": "@jupyter-widgets/controls",
            "_model_module_version": "1.5.0",
            "_model_name": "HTMLModel",
            "_view_count": null,
            "_view_module": "@jupyter-widgets/controls",
            "_view_module_version": "1.5.0",
            "_view_name": "HTMLView",
            "description": "",
            "description_tooltip": null,
            "layout": "IPY_MODEL_e1f26c69d9d9403eb53a9989219299a2",
            "placeholder": "​",
            "style": "IPY_MODEL_c0f4a767445b4be68b55e54ed94b8d74",
            "value": "Processing:   0%"
          }
        },
        "580c3242090649bea11979a3592d9f0b": {
          "model_module": "@jupyter-widgets/controls",
          "model_module_version": "1.5.0",
          "model_name": "HTMLModel",
          "state": {
            "_dom_classes": [],
            "_model_module": "@jupyter-widgets/controls",
            "_model_module_version": "1.5.0",
            "_model_name": "HTMLModel",
            "_view_count": null,
            "_view_module": "@jupyter-widgets/controls",
            "_view_module_version": "1.5.0",
            "_view_name": "HTMLView",
            "description": "",
            "description_tooltip": null,
            "layout": "IPY_MODEL_3df7eb6addb64264984febf418470dd1",
            "placeholder": "​",
            "style": "IPY_MODEL_30e11be8fe5540569d1747f747ed516b",
            "value": " 0/69 [00:00&lt;?, ?it/s]"
          }
        },
        "a3c527e691cc497ba8b66d7643e3066d": {
          "model_module": "@jupyter-widgets/controls",
          "model_module_version": "1.5.0",
          "model_name": "HBoxModel",
          "state": {
            "_dom_classes": [],
            "_model_module": "@jupyter-widgets/controls",
            "_model_module_version": "1.5.0",
            "_model_name": "HBoxModel",
            "_view_count": null,
            "_view_module": "@jupyter-widgets/controls",
            "_view_module_version": "1.5.0",
            "_view_name": "HBoxView",
            "box_style": "",
            "children": [
              "IPY_MODEL_52ea723fd6e84f41ae87a50eab46c853",
              "IPY_MODEL_fb1f4b6afeda4eefaad4d43cd8ceda53",
              "IPY_MODEL_580c3242090649bea11979a3592d9f0b"
            ],
            "layout": "IPY_MODEL_0c63acf94fe448a4bce3509f9f98e4d1"
          }
        },
        "c0f4a767445b4be68b55e54ed94b8d74": {
          "model_module": "@jupyter-widgets/controls",
          "model_module_version": "1.5.0",
          "model_name": "DescriptionStyleModel",
          "state": {
            "_model_module": "@jupyter-widgets/controls",
            "_model_module_version": "1.5.0",
            "_model_name": "DescriptionStyleModel",
            "_view_count": null,
            "_view_module": "@jupyter-widgets/base",
            "_view_module_version": "1.2.0",
            "_view_name": "StyleView",
            "description_width": ""
          }
        },
        "d19fd431f6d14ce88307ae8718f8ba16": {
          "model_module": "@jupyter-widgets/base",
          "model_module_version": "1.2.0",
          "model_name": "LayoutModel",
          "state": {
            "_model_module": "@jupyter-widgets/base",
            "_model_module_version": "1.2.0",
            "_model_name": "LayoutModel",
            "_view_count": null,
            "_view_module": "@jupyter-widgets/base",
            "_view_module_version": "1.2.0",
            "_view_name": "LayoutView",
            "align_content": null,
            "align_items": null,
            "align_self": null,
            "border": null,
            "bottom": null,
            "display": null,
            "flex": null,
            "flex_flow": null,
            "grid_area": null,
            "grid_auto_columns": null,
            "grid_auto_flow": null,
            "grid_auto_rows": null,
            "grid_column": null,
            "grid_gap": null,
            "grid_row": null,
            "grid_template_areas": null,
            "grid_template_columns": null,
            "grid_template_rows": null,
            "height": null,
            "justify_content": null,
            "justify_items": null,
            "left": null,
            "margin": null,
            "max_height": null,
            "max_width": null,
            "min_height": null,
            "min_width": null,
            "object_fit": null,
            "object_position": null,
            "order": null,
            "overflow": null,
            "overflow_x": null,
            "overflow_y": null,
            "padding": null,
            "right": null,
            "top": null,
            "visibility": null,
            "width": null
          }
        },
        "e1f26c69d9d9403eb53a9989219299a2": {
          "model_module": "@jupyter-widgets/base",
          "model_module_version": "1.2.0",
          "model_name": "LayoutModel",
          "state": {
            "_model_module": "@jupyter-widgets/base",
            "_model_module_version": "1.2.0",
            "_model_name": "LayoutModel",
            "_view_count": null,
            "_view_module": "@jupyter-widgets/base",
            "_view_module_version": "1.2.0",
            "_view_name": "LayoutView",
            "align_content": null,
            "align_items": null,
            "align_self": null,
            "border": null,
            "bottom": null,
            "display": null,
            "flex": null,
            "flex_flow": null,
            "grid_area": null,
            "grid_auto_columns": null,
            "grid_auto_flow": null,
            "grid_auto_rows": null,
            "grid_column": null,
            "grid_gap": null,
            "grid_row": null,
            "grid_template_areas": null,
            "grid_template_columns": null,
            "grid_template_rows": null,
            "height": null,
            "justify_content": null,
            "justify_items": null,
            "left": null,
            "margin": null,
            "max_height": null,
            "max_width": null,
            "min_height": null,
            "min_width": null,
            "object_fit": null,
            "object_position": null,
            "order": null,
            "overflow": null,
            "overflow_x": null,
            "overflow_y": null,
            "padding": null,
            "right": null,
            "top": null,
            "visibility": null,
            "width": null
          }
        },
        "fb1f4b6afeda4eefaad4d43cd8ceda53": {
          "model_module": "@jupyter-widgets/controls",
          "model_module_version": "1.5.0",
          "model_name": "FloatProgressModel",
          "state": {
            "_dom_classes": [],
            "_model_module": "@jupyter-widgets/controls",
            "_model_module_version": "1.5.0",
            "_model_name": "FloatProgressModel",
            "_view_count": null,
            "_view_module": "@jupyter-widgets/controls",
            "_view_module_version": "1.5.0",
            "_view_name": "ProgressView",
            "bar_style": "",
            "description": "",
            "description_tooltip": null,
            "layout": "IPY_MODEL_d19fd431f6d14ce88307ae8718f8ba16",
            "max": 69,
            "min": 0,
            "orientation": "horizontal",
            "style": "IPY_MODEL_2501edd3defe4de7bf581e33120b14ca",
            "value": 0
          }
        }
      }
    }
  },
  "nbformat": 4,
  "nbformat_minor": 0
}
